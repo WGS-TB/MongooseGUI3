{
 "cells": [
  {
   "cell_type": "code",
   "execution_count": 1,
   "metadata": {},
   "outputs": [],
   "source": [
    "%run -i 'ModelParsing.py'"
   ]
  },
  {
   "cell_type": "markdown",
   "metadata": {},
   "source": [
    "# 1"
   ]
  },
  {
   "cell_type": "markdown",
   "metadata": {},
   "source": [
    "Organism: Piscirickettsia salmonis\n",
    "\n",
    "Version: iPS584 and iPSA590\n",
    "\n",
    "Year:2018\n",
    "\n",
    "Paper link: https://www.frontiersin.org/articles/10.3389/fmicb.2017.02462/full\n",
    "\n",
    "Model Link: http://psalmonis.cmm.uchile.cl/models/"
   ]
  },
  {
   "cell_type": "code",
   "execution_count": 2,
   "metadata": {},
   "outputs": [
    {
     "name": "stdout",
     "output_type": "stream",
     "text": [
      "Warning: no candidate for extra, outside found in the list\n",
      "Warning: multiple candidates for biomass found in the list\n",
      "0) P. salmonis biomass objective function 1) P. salmonis biomass objective function without ions\n",
      "Please select the correct string from the list above and enter its number, or -1 if none \n",
      "0\n"
     ]
    }
   ],
   "source": [
    "model =parseSBML('/home/hzabeti/Desktop/UCSD models/Psalmonis_genome_scale_models/iPS584.xml')"
   ]
  },
  {
   "cell_type": "code",
   "execution_count": 3,
   "metadata": {},
   "outputs": [
    {
     "data": {
      "text/plain": [
       "{'ID': 'iPS584',\n",
       " 'Name': '',\n",
       " 'Source File': '/home/hzabeti/Desktop/UCSD models/Psalmonis_genome_scale_models/iPS584.xml'}"
      ]
     },
     "execution_count": 3,
     "metadata": {},
     "output_type": "execute_result"
    }
   ],
   "source": [
    "model.description"
   ]
  },
  {
   "cell_type": "code",
   "execution_count": 9,
   "metadata": {},
   "outputs": [
    {
     "data": {
      "text/plain": [
       "(1114, 1323)"
      ]
     },
     "execution_count": 9,
     "metadata": {},
     "output_type": "execute_result"
    }
   ],
   "source": [
    "getSize(model.fullMatrix)"
   ]
  },
  {
   "cell_type": "code",
   "execution_count": 8,
   "metadata": {},
   "outputs": [
    {
     "name": "stdout",
     "output_type": "stream",
     "text": [
      "No Free Lunch condition: Satisfied!\n"
     ]
    }
   ],
   "source": [
    "flm_index_list,flm_list = model.findFreeLunchMetabolites()"
   ]
  },
  {
   "cell_type": "code",
   "execution_count": 2,
   "metadata": {},
   "outputs": [
    {
     "name": "stdout",
     "output_type": "stream",
     "text": [
      "Warning: no candidate for extra, outside found in the list\n"
     ]
    },
    {
     "ename": "ValueError",
     "evalue": "'M_cu_p' is not in list",
     "output_type": "error",
     "traceback": [
      "\u001b[0;31m---------------------------------------------------------------------------\u001b[0m",
      "\u001b[0;31mValueError\u001b[0m                                Traceback (most recent call last)",
      "\u001b[0;32m~/qsopt-ex/build/python-qsoptex/MongooseGUI3/ModelParsing.py\u001b[0m in \u001b[0;36m<module>\u001b[0;34m()\u001b[0m\n\u001b[0;32m----> 1\u001b[0;31m \u001b[0mmodel\u001b[0m \u001b[0;34m=\u001b[0m\u001b[0mparseSBML\u001b[0m\u001b[0;34m(\u001b[0m\u001b[0;34m'/home/hzabeti/Desktop/UCSD models/Psalmonis_genome_scale_models/iPSA590.xml'\u001b[0m\u001b[0;34m)\u001b[0m\u001b[0;34m\u001b[0m\u001b[0m\n\u001b[0m",
      "\u001b[0;32m~/qsopt-ex/build/python-qsoptex/MongooseGUI3/ModelParsing.py\u001b[0m in \u001b[0;36mparseSBML\u001b[0;34m(filename, specialEnding, Cobra)\u001b[0m\n\u001b[1;32m     37\u001b[0m     \u001b[0;34m(\u001b[0m\u001b[0mspecies\u001b[0m\u001b[0;34m,\u001b[0m \u001b[0mmetabolites\u001b[0m\u001b[0;34m)\u001b[0m \u001b[0;34m=\u001b[0m \u001b[0mcreateSpeciesList\u001b[0m\u001b[0;34m(\u001b[0m\u001b[0mallSpecies\u001b[0m\u001b[0;34m,\u001b[0m \u001b[0mallSpeciesTypes\u001b[0m\u001b[0;34m,\u001b[0m \u001b[0mextraCompartment\u001b[0m\u001b[0;34m,\u001b[0m \u001b[0mCobra\u001b[0m\u001b[0;34m,\u001b[0m \u001b[0mspecialEnding\u001b[0m\u001b[0;34m)\u001b[0m\u001b[0;34m\u001b[0m\u001b[0m\n\u001b[1;32m     38\u001b[0m     \u001b[0mallReactions\u001b[0m \u001b[0;34m=\u001b[0m \u001b[0mmodel\u001b[0m\u001b[0;34m.\u001b[0m\u001b[0mgetListOfReactions\u001b[0m\u001b[0;34m(\u001b[0m\u001b[0;34m)\u001b[0m\u001b[0;34m\u001b[0m\u001b[0m\n\u001b[0;32m---> 39\u001b[0;31m     \u001b[0mnetwork\u001b[0m \u001b[0;34m=\u001b[0m \u001b[0mcreateNetwork\u001b[0m\u001b[0;34m(\u001b[0m\u001b[0mallReactions\u001b[0m\u001b[0;34m,\u001b[0m \u001b[0mspecies\u001b[0m\u001b[0;34m,\u001b[0m \u001b[0mmetabolites\u001b[0m\u001b[0;34m,\u001b[0m \u001b[0mCobra\u001b[0m\u001b[0;34m)\u001b[0m\u001b[0;34m\u001b[0m\u001b[0m\n\u001b[0m\u001b[1;32m     40\u001b[0m     \u001b[0mnetwork\u001b[0m\u001b[0;34m.\u001b[0m\u001b[0mdescription\u001b[0m \u001b[0;34m=\u001b[0m \u001b[0mmodelDescription\u001b[0m\u001b[0;34m\u001b[0m\u001b[0m\n\u001b[1;32m     41\u001b[0m     \u001b[0mnetwork\u001b[0m\u001b[0;34m.\u001b[0m\u001b[0mcreateMatrices\u001b[0m\u001b[0;34m(\u001b[0m\u001b[0;34m)\u001b[0m\u001b[0;34m\u001b[0m\u001b[0m\n",
      "\u001b[0;32m~/qsopt-ex/build/python-qsoptex/MongooseGUI3/ModelParsing.py\u001b[0m in \u001b[0;36mcreateNetwork\u001b[0;34m(reactionObjects, species, metabolites, Cobra)\u001b[0m\n\u001b[1;32m    146\u001b[0m             \u001b[0mallPairs\u001b[0m\u001b[0;34m.\u001b[0m\u001b[0mappend\u001b[0m\u001b[0;34m(\u001b[0m\u001b[0mprocessItem\u001b[0m\u001b[0;34m(\u001b[0m\u001b[0mitem\u001b[0m\u001b[0;34m,\u001b[0m \u001b[0mallMetabNames\u001b[0m\u001b[0;34m,\u001b[0m \u001b[0;34m-\u001b[0m\u001b[0mmult\u001b[0m\u001b[0;34m)\u001b[0m\u001b[0;34m)\u001b[0m\u001b[0;34m\u001b[0m\u001b[0m\n\u001b[1;32m    147\u001b[0m         \u001b[0;32mfor\u001b[0m \u001b[0mitem\u001b[0m \u001b[0;32min\u001b[0m \u001b[0mcurProds\u001b[0m\u001b[0;34m:\u001b[0m\u001b[0;34m\u001b[0m\u001b[0m\n\u001b[0;32m--> 148\u001b[0;31m             \u001b[0mallPairs\u001b[0m\u001b[0;34m.\u001b[0m\u001b[0mappend\u001b[0m\u001b[0;34m(\u001b[0m\u001b[0mprocessItem\u001b[0m\u001b[0;34m(\u001b[0m\u001b[0mitem\u001b[0m\u001b[0;34m,\u001b[0m \u001b[0mallMetabNames\u001b[0m\u001b[0;34m,\u001b[0m \u001b[0mmult\u001b[0m\u001b[0;34m)\u001b[0m\u001b[0;34m)\u001b[0m\u001b[0;34m\u001b[0m\u001b[0m\n\u001b[0m\u001b[1;32m    149\u001b[0m         \u001b[0;32mif\u001b[0m \u001b[0mcurMods\u001b[0m\u001b[0;34m:\u001b[0m\u001b[0;34m\u001b[0m\u001b[0m\n\u001b[1;32m    150\u001b[0m             \u001b[0mgeneCombo\u001b[0m \u001b[0;34m=\u001b[0m \u001b[0mCNF\u001b[0m\u001b[0;34m(\u001b[0m\u001b[0;34m[\u001b[0m\u001b[0;34m[\u001b[0m\u001b[0mprocessItem\u001b[0m\u001b[0;34m(\u001b[0m\u001b[0mitem\u001b[0m\u001b[0;34m,\u001b[0m \u001b[0mallMetabNames\u001b[0m\u001b[0;34m,\u001b[0m \u001b[0;36m0\u001b[0m\u001b[0;34m)\u001b[0m\u001b[0;34m]\u001b[0m \u001b[0;32mfor\u001b[0m \u001b[0mitem\u001b[0m \u001b[0;32min\u001b[0m \u001b[0mcurMods\u001b[0m\u001b[0;34m]\u001b[0m\u001b[0;34m)\u001b[0m\u001b[0;34m\u001b[0m\u001b[0m\n",
      "\u001b[0;32m~/qsopt-ex/build/python-qsoptex/MongooseGUI3/ModelParsing.py\u001b[0m in \u001b[0;36mprocessItem\u001b[0;34m(item, metabNames, mult)\u001b[0m\n\u001b[1;32m    176\u001b[0m \u001b[0;32mdef\u001b[0m \u001b[0mprocessItem\u001b[0m\u001b[0;34m(\u001b[0m\u001b[0mitem\u001b[0m\u001b[0;34m,\u001b[0m \u001b[0mmetabNames\u001b[0m\u001b[0;34m,\u001b[0m \u001b[0mmult\u001b[0m \u001b[0;34m=\u001b[0m \u001b[0;36m1\u001b[0m\u001b[0;34m)\u001b[0m\u001b[0;34m:\u001b[0m\u001b[0;34m\u001b[0m\u001b[0m\n\u001b[1;32m    177\u001b[0m     \u001b[0;31m# Processes a single metabolite; the multiplier multiplies the coefficient\u001b[0m\u001b[0;34m\u001b[0m\u001b[0;34m\u001b[0m\u001b[0m\n\u001b[0;32m--> 178\u001b[0;31m     \u001b[0mcurIndex\u001b[0m \u001b[0;34m=\u001b[0m \u001b[0mmetabNames\u001b[0m\u001b[0;34m.\u001b[0m\u001b[0mindex\u001b[0m\u001b[0;34m(\u001b[0m\u001b[0mitem\u001b[0m\u001b[0;34m.\u001b[0m\u001b[0mgetSpecies\u001b[0m\u001b[0;34m(\u001b[0m\u001b[0;34m)\u001b[0m\u001b[0;34m)\u001b[0m\u001b[0;34m\u001b[0m\u001b[0m\n\u001b[0m\u001b[1;32m    179\u001b[0m     \u001b[0;32mif\u001b[0m \u001b[0mmult\u001b[0m\u001b[0;34m:\u001b[0m\u001b[0;34m\u001b[0m\u001b[0m\n\u001b[1;32m    180\u001b[0m         \u001b[0mcurCoeff\u001b[0m \u001b[0;34m=\u001b[0m \u001b[0mconvertToFraction\u001b[0m\u001b[0;34m(\u001b[0m\u001b[0mitem\u001b[0m\u001b[0;34m.\u001b[0m\u001b[0mgetStoichiometry\u001b[0m\u001b[0;34m(\u001b[0m\u001b[0;34m)\u001b[0m\u001b[0;34m)\u001b[0m\u001b[0;34m\u001b[0m\u001b[0m\n",
      "\u001b[0;31mValueError\u001b[0m: 'M_cu_p' is not in list"
     ]
    }
   ],
   "source": [
    "model =parseSBML('/home/hzabeti/Desktop/UCSD models/Psalmonis_genome_scale_models/iPSA590.xml')"
   ]
  },
  {
   "cell_type": "markdown",
   "metadata": {},
   "source": [
    "# 2"
   ]
  },
  {
   "cell_type": "markdown",
   "metadata": {},
   "source": [
    "Organism: Streptomyces clavuligerus\t\n",
    "\n",
    "Version: iLT1021\n",
    "\n",
    "Year: 2018\n",
    "\n",
    "Paper link: https://link.springer.com/article/10.1007%2Fs00449-018-1900-9\n",
    "\n",
    "Model Link: https://static-content.springer.com/esm/art%3A10.1007%2Fs00449-018-1900-9/MediaObjects/449_2018_1900_MOESM2_ESM.xml"
   ]
  },
  {
   "cell_type": "code",
   "execution_count": 3,
   "metadata": {},
   "outputs": [],
   "source": [
    "model =parseSBML('/home/hzabeti/Desktop/UCSD models/12918_2008_242_MOESM5_ESM.XML')"
   ]
  },
  {
   "cell_type": "code",
   "execution_count": 4,
   "metadata": {},
   "outputs": [
    {
     "data": {
      "text/plain": [
       "(828, 996)"
      ]
     },
     "execution_count": 4,
     "metadata": {},
     "output_type": "execute_result"
    }
   ],
   "source": [
    "getSize(model.fullMatrix)"
   ]
  },
  {
   "cell_type": "code",
   "execution_count": 5,
   "metadata": {},
   "outputs": [
    {
     "name": "stdout",
     "output_type": "stream",
     "text": [
      "No Free Lunch condition: Not satisfied!\n",
      "Optimum solution and the number of all possible free lunch metabolites 2\n"
     ]
    }
   ],
   "source": [
    "flm_index_list,flm_list = model.findFreeLunchMetabolites()"
   ]
  },
  {
   "cell_type": "code",
   "execution_count": 6,
   "metadata": {
    "scrolled": true
   },
   "outputs": [
    {
     "name": "stdout",
     "output_type": "stream",
     "text": [
      "[315, 335] ['M_PROTON_Periplasm', 'M_PROTON_Cytosol']\n"
     ]
    }
   ],
   "source": [
    "print(flm_index_list,flm_list)"
   ]
  },
  {
   "cell_type": "code",
   "execution_count": 7,
   "metadata": {},
   "outputs": [
    {
     "name": "stdout",
     "output_type": "stream",
     "text": [
      "Number of individually producible free lunch metabolites 2\n"
     ]
    }
   ],
   "source": [
    "ind_flm_index_list,ind_flm_list = model.findIndividuallyProducibleFLM()"
   ]
  },
  {
   "cell_type": "code",
   "execution_count": 8,
   "metadata": {},
   "outputs": [
    {
     "name": "stdout",
     "output_type": "stream",
     "text": [
      "Number of iteration:  0\n",
      "Number of reactions involved in FL: 5\n",
      "------------------------------------------------------------\n",
      "Checking index:  18\n",
      "This index is in the minimal set 18\n",
      "Checking index:  201\n",
      "This index is in the minimal set 201\n",
      "Checking index:  314\n",
      "This index is in the minimal set 314\n",
      "Checking index:  325\n",
      "This index is in the minimal set 325\n",
      "Checking index:  542\n",
      "This index is in the minimal set 542\n",
      "Minimal free lunch indexes: [18, 201, 314, 325, 542]\n",
      "------------------ minimal free lunch equation----------------\n",
      "3/4*(1 M_WATER_Cytosol[Cytosol] + 1 M_ATP_Cytosol[Cytosol] -> 1 M_PI_Cytosol[Cytosol] + 1 M_PROTON_Cytosol[Cytosol] + 1 M_ADP_Cytosol[Cytosol])\n",
      "-1/2*(1 M_WATER_Cytosol[Cytosol] + 1 M_ATP_Cytosol[Cytosol] -> 1 M_AMP_Cytosol[Cytosol] + 1 M_PPI_Cytosol[Cytosol])\n",
      "-1/4*(1 M_PI_Cytosol[Cytosol] + 4 M_PROTON_Periplasm[Periplasm] + 1 M_ADP_Cytosol[Cytosol] <-> 3 M_PROTON_Cytosol[Cytosol] + 1 M_WATER_Cytosol[Cytosol] + 1 M_ATP_Cytosol[Cytosol])\n",
      "-1/2*(1 M_PPI_Cytosol[Cytosol] + 1 M_WATER_Cytosol[Cytosol] -> 2 M_PI_Cytosol[Cytosol])\n",
      "-1/2*(1 M_AMP_Cytosol[Cytosol] + 1 M_ATP_Cytosol[Cytosol] <-> 2 M_ADP_Cytosol[Cytosol])\n",
      "-----------\n",
      "1*(M_PROTON_Periplasm)\n",
      "-------------------------------------------------------------\n"
     ]
    }
   ],
   "source": [
    "minimal_free_lunch,free_lunch_list,free_lunch_meta = model.findMinimalFreeLunch(free_lunch_meta_list=[315])"
   ]
  },
  {
   "cell_type": "code",
   "execution_count": 9,
   "metadata": {},
   "outputs": [
    {
     "name": "stdout",
     "output_type": "stream",
     "text": [
      "parameters.mip.tolerances.integrality\n",
      "CPXPARAM_Simplex_Tolerances_Feasibility          1.0000000000000001e-09\n",
      "CPXPARAM_Read_DataCheck                          1\n",
      "CPXPARAM_MIP_Tolerances_Integrality              1.0000000000000001e-15\n",
      "Found incumbent of value 230.000000 after 0.00 sec. (0.16 ticks)\n",
      "Tried aggregator 2 times.\n",
      "MIP Presolve eliminated 312 rows and 279 columns.\n",
      "MIP Presolve modified 1245 coefficients.\n",
      "Aggregator did 18 substitutions.\n",
      "Reduced MIP has 1418 rows, 1405 columns, and 7203 nonzeros.\n",
      "Reduced MIP has 797 binaries, 4 generals, 0 SOSs, and 0 indicators.\n",
      "Presolve time = 0.01 sec. (6.20 ticks)\n",
      "Probing time = 0.00 sec. (0.17 ticks)\n",
      "Tried aggregator 1 time.\n",
      "Reduced MIP has 1418 rows, 1405 columns, and 7203 nonzeros.\n",
      "Reduced MIP has 797 binaries, 4 generals, 0 SOSs, and 0 indicators.\n",
      "Presolve time = 0.00 sec. (2.91 ticks)\n",
      "Probing time = 0.00 sec. (0.17 ticks)\n",
      "MIP emphasis: balance optimality and feasibility.\n",
      "MIP search method: dynamic search.\n",
      "Parallel mode: deterministic, using up to 8 threads.\n",
      "Root relaxation solution time = 0.06 sec. (44.50 ticks)\n",
      "\n",
      "        Nodes                                         Cuts/\n",
      "   Node  Left     Objective  IInf  Best Integer    Best Bound    ItCnt     Gap\n",
      "\n",
      "*     0+    0                          230.0000        0.0000           100.00%\n",
      "*     0+    0                          210.0000        0.0000           100.00%\n",
      "*     0+    0                          209.0000        0.0000           100.00%\n",
      "      0     0        0.0000     6      209.0000        0.0000      878  100.00%\n",
      "*     0+    0                            6.0000        0.0000           100.00%\n",
      "      0     0        1.0000     7        6.0000     Covers: 1      887   83.33%\n",
      "      0     0        1.0000     5        6.0000     Covers: 1      888   83.33%\n",
      "      0     0        2.0000     9        6.0000     Covers: 1      898   66.67%\n",
      "      0     0        2.0000     4        6.0000     Covers: 1      899   66.67%\n",
      "      0     0        3.0000    18        6.0000     Covers: 1      981   50.00%\n",
      "      0     0        4.0000     3        6.0000     Covers: 1      985   33.33%\n",
      "\n",
      "Repeating presolve.\n",
      "Tried aggregator 3 times.\n",
      "MIP Presolve eliminated 560 rows and 693 columns.\n",
      "MIP Presolve modified 147 coefficients.\n",
      "Aggregator did 158 substitutions.\n",
      "Reduced MIP has 700 rows, 554 columns, and 3263 nonzeros.\n",
      "Reduced MIP has 119 binaries, 0 generals, 0 SOSs, and 0 indicators.\n",
      "Presolve time = 0.01 sec. (5.61 ticks)\n",
      "Probing time = 0.00 sec. (0.04 ticks)\n",
      "Tried aggregator 1 time.\n",
      "Reduced MIP has 700 rows, 554 columns, and 3263 nonzeros.\n",
      "Reduced MIP has 119 binaries, 0 generals, 0 SOSs, and 0 indicators.\n",
      "Presolve time = 0.00 sec. (1.32 ticks)\n",
      "Represolve time = 0.02 sec. (7.74 ticks)\n",
      "Probing time = 0.00 sec. (0.04 ticks)\n",
      "MIP emphasis: balance optimality and feasibility.\n",
      "MIP search method: dynamic search.\n",
      "Parallel mode: deterministic, using up to 8 threads.\n",
      "Root relaxation solution time = 0.01 sec. (10.86 ticks)\n",
      "\n",
      "        Nodes                                         Cuts/\n",
      "   Node  Left     Objective  IInf  Best Integer    Best Bound    ItCnt     Gap\n",
      "\n",
      "*     0+    0                            6.0000        4.0000            33.33%\n",
      "      0     0        4.0000     9        6.0000        4.0000     1260   33.33%\n",
      "      0     0        4.0000     6        6.0000     Covers: 2     1285   33.33%\n",
      "      0     0        4.0000     6        6.0000      Fract: 1     1308   33.33%\n",
      "      0     0        cutoff              6.0000                   1310    0.00%\n",
      "Elapsed time = 0.46 sec. (182.39 ticks, tree = 0.01 MB, solutions = 3)\n",
      "\n",
      "Cover cuts applied:  4\n",
      "\n",
      "Root node processing (before b&c):\n",
      "  Real time             =    0.46 sec. (182.49 ticks)\n",
      "Parallel b&c, 8 threads:\n",
      "  Real time             =    0.00 sec. (0.00 ticks)\n",
      "  Sync time (average)   =    0.00 sec.\n",
      "  Wait time (average)   =    0.00 sec.\n",
      "                          ------------\n",
      "Total (root+branch&cut) =    0.46 sec. (182.49 ticks)\n",
      "Number of free lunch witnesses: 6\n",
      "List of free lunch witnesses: [18, 314, 656, 824, 865, 955]\n",
      "Computed y lower bound 2.8735632183908046e-06\n"
     ]
    }
   ],
   "source": [
    "flw_index_list, y_lower_bound = model.findFreeLunchWitnesses()"
   ]
  },
  {
   "cell_type": "markdown",
   "metadata": {},
   "source": [
    "# 3"
   ]
  },
  {
   "cell_type": "markdown",
   "metadata": {},
   "source": [
    "Organism: Piscirickettsia salmonis\n",
    "\n",
    "Version: iPF215\n",
    "\n",
    "Year: 2016\n",
    "\n",
    "Paper link: https://www.sciencedirect.com/science/article/pii/S0960852416314304?via%3Dihub\n",
    "\n",
    "Model Link: https://ars.els-cdn.com/content/image/1-s2.0-S0960852416314304-mmc2.xml"
   ]
  },
  {
   "cell_type": "code",
   "execution_count": 11,
   "metadata": {},
   "outputs": [
    {
     "name": "stdout",
     "output_type": "stream",
     "text": [
      "Warning: no candidate for extra, outside found in the list\n"
     ]
    }
   ],
   "source": [
    "model =parseSBML('/home/hzabeti/Desktop/UCSD models/1-s2.0-S0960852416314304-mmc2.xml')"
   ]
  },
  {
   "cell_type": "code",
   "execution_count": 12,
   "metadata": {},
   "outputs": [
    {
     "data": {
      "text/plain": [
       "(449, 476)"
      ]
     },
     "execution_count": 12,
     "metadata": {},
     "output_type": "execute_result"
    }
   ],
   "source": [
    "getSize(model.fullMatrix)"
   ]
  },
  {
   "cell_type": "code",
   "execution_count": 13,
   "metadata": {},
   "outputs": [
    {
     "name": "stdout",
     "output_type": "stream",
     "text": [
      "No Free Lunch condition: Not satisfied!\n",
      "Optimum solution and the number of all possible free lunch metabolites 3\n"
     ]
    }
   ],
   "source": [
    "flm_index_list,flm_list = model.findFreeLunchMetabolites()"
   ]
  },
  {
   "cell_type": "code",
   "execution_count": 14,
   "metadata": {},
   "outputs": [
    {
     "name": "stdout",
     "output_type": "stream",
     "text": [
      "[152, 375, 446] ['M_cpd00067_e0_c', 'M_cpd00067_c0_c', 'M_cpd00067_e0_c_b']\n"
     ]
    }
   ],
   "source": [
    "print(flm_index_list,flm_list)"
   ]
  },
  {
   "cell_type": "code",
   "execution_count": 15,
   "metadata": {},
   "outputs": [
    {
     "name": "stdout",
     "output_type": "stream",
     "text": [
      "Number of individually producible free lunch metabolites 3\n"
     ]
    }
   ],
   "source": [
    "ind_flm_index_list,ind_flm_list = model.findIndividuallyProducibleFLM()"
   ]
  },
  {
   "cell_type": "code",
   "execution_count": 16,
   "metadata": {},
   "outputs": [
    {
     "name": "stdout",
     "output_type": "stream",
     "text": [
      "Number of iteration:  0\n",
      "Number of reactions involved in FL: 4\n",
      "------------------------------------------------------------\n",
      "Checking index:  49\n",
      "This index is in the minimal set 49\n",
      "Checking index:  106\n",
      "This index is in the minimal set 106\n",
      "Checking index:  302\n",
      "This index is in the minimal set 302\n",
      "Checking index:  329\n",
      "This index is in the minimal set 329\n",
      "Minimal free lunch indexes: [49, 106, 302, 329]\n",
      "------------------ minimal free lunch equation----------------\n",
      "-1*(1 M_cpd00072_c0_c[c] + 1 M_cpd00002_c0_c[c] -> 1 M_cpd00008_c0_c[c] + 1 M_cpd00290_c0_c[c])\n",
      "3/4*(1 M_cpd00002_c0_c[c] + 1 M_cpd00001_c0_c[c] -> 1 M_cpd00008_c0_c[c] + 1 M_cpd00009_c0_c[c] + 1 M_cpd00067_c0_c[c])\n",
      "-1*(1 M_cpd00290_c0_c[c] + 1 M_cpd00001_c0_c[c] -> 1 M_cpd00072_c0_c[c] + 1 M_cpd00009_c0_c[c])\n",
      "-1/4*(1 M_cpd00008_c0_c[c] + 1 M_cpd00009_c0_c[c] + 4 M_cpd00067_e0_c[c] -> 1 M_cpd00002_c0_c[c] + 1 M_cpd00001_c0_c[c] + 3 M_cpd00067_c0_c[c])\n",
      "-----------\n",
      "1*(M_cpd00067_e0_c)\n",
      "-------------------------------------------------------------\n"
     ]
    }
   ],
   "source": [
    "minimal_free_lunch,free_lunch_list,free_lunch_meta = model.findMinimalFreeLunch(free_lunch_meta_list=[152])"
   ]
  },
  {
   "cell_type": "code",
   "execution_count": 17,
   "metadata": {},
   "outputs": [
    {
     "name": "stdout",
     "output_type": "stream",
     "text": [
      "parameters.mip.tolerances.integrality\n",
      "CPXPARAM_Simplex_Tolerances_Feasibility          1.0000000000000001e-09\n",
      "CPXPARAM_Read_DataCheck                          1\n",
      "CPXPARAM_MIP_Tolerances_Integrality              1.0000000000000001e-15\n",
      "Found incumbent of value 204.000000 after 0.00 sec. (0.09 ticks)\n",
      "Tried aggregator 2 times.\n",
      "MIP Presolve eliminated 162 rows and 165 columns.\n",
      "MIP Presolve modified 442 coefficients.\n",
      "Aggregator did 4 substitutions.\n",
      "Reduced MIP has 784 rows, 755 columns, and 4269 nonzeros.\n",
      "Reduced MIP has 408 binaries, 1 generals, 0 SOSs, and 0 indicators.\n",
      "Presolve time = 0.01 sec. (3.60 ticks)\n",
      "Probing time = 0.00 sec. (0.08 ticks)\n",
      "Tried aggregator 1 time.\n",
      "Reduced MIP has 784 rows, 755 columns, and 4269 nonzeros.\n",
      "Reduced MIP has 408 binaries, 1 generals, 0 SOSs, and 0 indicators.\n",
      "Presolve time = 0.00 sec. (1.68 ticks)\n",
      "Probing time = 0.00 sec. (0.08 ticks)\n",
      "MIP emphasis: balance optimality and feasibility.\n",
      "MIP search method: dynamic search.\n",
      "Parallel mode: deterministic, using up to 8 threads.\n",
      "Root relaxation solution time = 0.02 sec. (17.23 ticks)\n",
      "\n",
      "        Nodes                                         Cuts/\n",
      "   Node  Left     Objective  IInf  Best Integer    Best Bound    ItCnt     Gap\n",
      "\n",
      "*     0+    0                          204.0000        0.0000           100.00%\n",
      "*     0+    0                          188.0000        0.0000           100.00%\n",
      "      0     0        0.0000     1      188.0000        0.0000      529  100.00%\n",
      "*     0+    0                            1.0000        0.0000           100.00%\n",
      "      0     0        cutoff              1.0000                    529    0.00%\n",
      "Elapsed time = 0.06 sec. (28.31 ticks, tree = 0.01 MB, solutions = 2)\n",
      "\n",
      "Root node processing (before b&c):\n",
      "  Real time             =    0.06 sec. (28.38 ticks)\n",
      "Parallel b&c, 8 threads:\n",
      "  Real time             =    0.00 sec. (0.00 ticks)\n",
      "  Sync time (average)   =    0.00 sec.\n",
      "  Wait time (average)   =    0.00 sec.\n",
      "                          ------------\n",
      "Total (root+branch&cut) =    0.06 sec. (28.38 ticks)\n",
      "Number of free lunch witnesses: 1\n",
      "List of free lunch witnesses: [302]\n",
      "Computed y lower bound 8.116883116883117e-07\n"
     ]
    }
   ],
   "source": [
    "flw_index_list, y_lower_bound = model.findFreeLunchWitnesses()"
   ]
  },
  {
   "cell_type": "markdown",
   "metadata": {},
   "source": [
    "# 4"
   ]
  },
  {
   "cell_type": "markdown",
   "metadata": {},
   "source": [
    "Organism: Ralstonia solanacearum\n",
    "\n",
    "Version: iRP1476\n",
    "\n",
    "Year: 2016\n",
    "\n",
    "Paper link: https://journals.plos.org/plospathogens/article?id=10.1371/journal.ppat.1005939\n",
    "\n",
    "Model Link: http://lipm-bioinfo.toulouse.inra.fr/systemsbiology/models/rsolanacearum/data/metabolism/sbml/1.0/iRP1476.xml"
   ]
  },
  {
   "cell_type": "code",
   "execution_count": 41,
   "metadata": {},
   "outputs": [
    {
     "name": "stdout",
     "output_type": "stream",
     "text": [
      "Warning: no candidate for extra, outside found in the list\n"
     ]
    }
   ],
   "source": [
    "model =parseSBML('/home/hzabeti/Desktop/UCSD models/iRP1476.xml')"
   ]
  },
  {
   "cell_type": "code",
   "execution_count": 42,
   "metadata": {},
   "outputs": [
    {
     "data": {
      "text/plain": [
       "{'ID': 'iRP1476',\n",
       " 'Name': 'Ralstonia solanacearum GMI1000 iRP1476',\n",
       " 'Source File': '/home/hzabeti/Desktop/UCSD models/iRP1476.xml'}"
      ]
     },
     "execution_count": 42,
     "metadata": {},
     "output_type": "execute_result"
    }
   ],
   "source": [
    "model.description"
   ]
  },
  {
   "cell_type": "code",
   "execution_count": 43,
   "metadata": {},
   "outputs": [
    {
     "data": {
      "text/plain": [
       "(2574, 2644)"
      ]
     },
     "execution_count": 43,
     "metadata": {},
     "output_type": "execute_result"
    }
   ],
   "source": [
    "getSize(model.fullMatrix)"
   ]
  },
  {
   "cell_type": "code",
   "execution_count": 44,
   "metadata": {},
   "outputs": [
    {
     "name": "stdout",
     "output_type": "stream",
     "text": [
      "No Free Lunch condition: Satisfied!\n"
     ]
    }
   ],
   "source": [
    "flm_index_list,flm_list = model.findFreeLunchMetabolites()"
   ]
  },
  {
   "cell_type": "code",
   "execution_count": 45,
   "metadata": {},
   "outputs": [
    {
     "name": "stdout",
     "output_type": "stream",
     "text": [
      "Number of individually producible free lunch metabolites 0\n"
     ]
    }
   ],
   "source": [
    "ind_flm_index_list,ind_flm_list = model.findIndividuallyProducibleFLM()"
   ]
  },
  {
   "cell_type": "code",
   "execution_count": 46,
   "metadata": {},
   "outputs": [],
   "source": [
    "minimal_free_lunch,free_lunch_list,free_lunch_meta = model.findMinimalFreeLunch()"
   ]
  },
  {
   "cell_type": "code",
   "execution_count": 48,
   "metadata": {},
   "outputs": [
    {
     "name": "stdout",
     "output_type": "stream",
     "text": [
      "[]\n"
     ]
    }
   ],
   "source": [
    "print(minimal_free_lunch)"
   ]
  },
  {
   "cell_type": "code",
   "execution_count": 47,
   "metadata": {},
   "outputs": [
    {
     "name": "stdout",
     "output_type": "stream",
     "text": [
      "parameters.mip.tolerances.integrality\n",
      "CPXPARAM_Simplex_Tolerances_Feasibility          1.0000000000000001e-09\n",
      "CPXPARAM_Read_DataCheck                          1\n",
      "CPXPARAM_MIP_Tolerances_Integrality              1.0000000000000001e-15\n",
      "Found incumbent of value 1224.000000 after 0.06 sec. (0.59 ticks)\n",
      "Tried aggregator 3 times.\n",
      "MIP Presolve eliminated 2176 rows and 2089 columns.\n",
      "MIP Presolve modified 9076 coefficients.\n",
      "Aggregator did 17 substitutions.\n",
      "Reduced MIP has 3093 rows, 3109 columns, and 21209 nonzeros.\n",
      "Reduced MIP has 1842 binaries, 10 generals, 0 SOSs, and 0 indicators.\n",
      "Presolve time = 0.09 sec. (50.91 ticks)\n",
      "Probing time = 0.00 sec. (0.26 ticks)\n",
      "Tried aggregator 1 time.\n",
      "MIP Presolve eliminated 8 rows and 8 columns.\n",
      "Reduced MIP has 3085 rows, 3101 columns, and 21185 nonzeros.\n",
      "Reduced MIP has 1838 binaries, 10 generals, 0 SOSs, and 0 indicators.\n",
      "Presolve time = 0.05 sec. (7.88 ticks)\n",
      "Probing time = 0.00 sec. (0.26 ticks)\n",
      "MIP emphasis: balance optimality and feasibility.\n",
      "MIP search method: dynamic search.\n",
      "Parallel mode: deterministic, using up to 8 threads.\n",
      "\n",
      "Root node processing (before b&c):\n",
      "  Real time             =    0.85 sec. (430.75 ticks)\n",
      "Parallel b&c, 8 threads:\n",
      "  Real time             =    0.00 sec. (0.00 ticks)\n",
      "  Sync time (average)   =    0.00 sec.\n",
      "  Wait time (average)   =    0.00 sec.\n",
      "                          ------------\n",
      "Total (root+branch&cut) =    0.85 sec. (430.75 ticks)\n",
      "Number of free lunch witnesses: 0\n",
      "List of free lunch witnesses: []\n",
      "Computed y lower bound 1.0000000010000002e-09\n"
     ]
    }
   ],
   "source": [
    "flw_index_list, y_lower_bound = model.findFreeLunchWitnesses()"
   ]
  },
  {
   "cell_type": "markdown",
   "metadata": {},
   "source": [
    "# 5"
   ]
  },
  {
   "cell_type": "markdown",
   "metadata": {},
   "source": [
    "Organism: Mycobacterium tuberculosis\n",
    "\n",
    "Version: iNJ661m\n",
    "\n",
    "Year: 2010\n",
    "\n",
    "Paper link: https://bmcsystbiol.biomedcentral.com/articles/10.1186/1752-0509-4-160\n",
    "\n",
    "Model Link: https://static-content.springer.com/esm/art%3A10.1186%2F1752-0509-4-160/MediaObjects/12918_2010_571_MOESM2_ESM.XML"
   ]
  },
  {
   "cell_type": "code",
   "execution_count": 12,
   "metadata": {},
   "outputs": [
    {
     "name": "stdout",
     "output_type": "stream",
     "text": [
      "Warning: no candidate for extra, outside found in the list\n"
     ]
    }
   ],
   "source": [
    "model =parseSBML('/home/hzabeti/Desktop/UCSD models/12918_2010_571_MOESM2_ESM.XML')"
   ]
  },
  {
   "cell_type": "code",
   "execution_count": 13,
   "metadata": {},
   "outputs": [
    {
     "data": {
      "text/plain": [
       "{'ID': 'iNJ661m_SBML_xml',\n",
       " 'Name': 'iNJ661m_SBML_xml',\n",
       " 'Source File': '/home/hzabeti/Desktop/UCSD models/12918_2010_571_MOESM2_ESM.XML'}"
      ]
     },
     "execution_count": 13,
     "metadata": {},
     "output_type": "execute_result"
    }
   ],
   "source": [
    "model.description"
   ]
  },
  {
   "cell_type": "code",
   "execution_count": 33,
   "metadata": {},
   "outputs": [
    {
     "data": {
      "text/plain": [
       "(934, 1049)"
      ]
     },
     "execution_count": 33,
     "metadata": {},
     "output_type": "execute_result"
    }
   ],
   "source": [
    "getSize(model.fullMatrix)"
   ]
  },
  {
   "cell_type": "code",
   "execution_count": 34,
   "metadata": {},
   "outputs": [
    {
     "name": "stdout",
     "output_type": "stream",
     "text": [
      "No Free Lunch condition: Not satisfied!\n",
      "Optimum solution and the number of all possible free lunch metabolites 242\n"
     ]
    }
   ],
   "source": [
    "flm_index_list,flm_list = model.findFreeLunchMetabolites()"
   ]
  },
  {
   "cell_type": "code",
   "execution_count": 37,
   "metadata": {},
   "outputs": [
    {
     "name": "stdout",
     "output_type": "stream",
     "text": [
      "60 M_4h2opntn_c\n"
     ]
    }
   ],
   "source": [
    "print(flm_index_list,flm_list)"
   ]
  },
  {
   "cell_type": "code",
   "execution_count": 36,
   "metadata": {},
   "outputs": [
    {
     "name": "stdout",
     "output_type": "stream",
     "text": [
      "Number of individually producible free lunch metabolites 242\n"
     ]
    }
   ],
   "source": [
    "ind_flm_index_list,ind_flm_list = model.findIndividuallyProducibleFLM()"
   ]
  },
  {
   "cell_type": "code",
   "execution_count": 38,
   "metadata": {
    "scrolled": false
   },
   "outputs": [
    {
     "name": "stdout",
     "output_type": "stream",
     "text": [
      "Number of iteration:  0\n",
      "Number of reactions involved in FL: 31\n",
      "------------------------------------------------------------\n",
      "Checking index:  11\n",
      "This index is in the minimal set 11\n",
      "Checking index:  24\n",
      "This index is in the minimal set 24\n",
      "Checking index:  167\n",
      "This index is in the minimal set 167\n",
      "Checking index:  357\n",
      "This index is in the minimal set 357\n",
      "Checking index:  359\n",
      "This index is in the minimal set 359\n",
      "Checking index:  360\n",
      "This index is in the minimal set 360\n",
      "Checking index:  418\n",
      "This index is in the minimal set 418\n",
      "Checking index:  428\n",
      "This index is in the minimal set 428\n",
      "Checking index:  534\n",
      "This index is in the minimal set 534\n",
      "Checking index:  547\n",
      "This index is in the minimal set 547\n",
      "Checking index:  584\n",
      "This index is in the minimal set 584\n",
      "Checking index:  598\n",
      "This index is in the minimal set 598\n",
      "Checking index:  599\n",
      "This index is in the minimal set 599\n",
      "Checking index:  601\n",
      "This index is in the minimal set 601\n",
      "Checking index:  602\n",
      "This index is in the minimal set 602\n",
      "Checking index:  643\n",
      "This index is in the minimal set 643\n",
      "Checking index:  645\n",
      "This index is in the minimal set 645\n",
      "Checking index:  646\n",
      "This index is in the minimal set 646\n",
      "Checking index:  647\n",
      "This index is in the minimal set 647\n",
      "Checking index:  648\n",
      "This index is in the minimal set 648\n",
      "Checking index:  650\n",
      "This index is in the minimal set 650\n",
      "Checking index:  653\n",
      "This index is in the minimal set 653\n",
      "Checking index:  655\n",
      "This index is in the minimal set 655\n",
      "Checking index:  656\n",
      "This index is in the minimal set 656\n",
      "Checking index:  658\n",
      "This index is in the minimal set 658\n",
      "Checking index:  660\n",
      "This index is in the minimal set 660\n",
      "Checking index:  661\n",
      "This index is in the minimal set 661\n",
      "Checking index:  663\n",
      "This index is in the minimal set 663\n",
      "Checking index:  664\n",
      "This index is in the minimal set 664\n",
      "Checking index:  667\n",
      "This index is in the minimal set 667\n",
      "Checking index:  759\n",
      "This index is not in the minimal 759\n",
      "Minimal free lunch indexes: [11, 24, 167, 357, 359, 360, 418, 428, 534, 547, 584, 598, 599, 601, 602, 643, 645, 646, 647, 648, 650, 653, 655, 656, 658, 660, 661, 663, 664, 667]\n",
      "------------------ minimal free lunch equation----------------\n",
      "-3*(1 M_acald_c[C_c] + 1 M_coa_c[C_c] + 1 M_nad_c[C_c] -> 1 M_accoa_c[C_c] + 1 M_h_c[C_c] + 1 M_nadh_c[C_c])\n",
      "1*(1 M_cit_c[C_c] <-> 1 M_icit_c[C_c])\n",
      "1*(1 M_accoa_c[C_c] + 1 M_h2o_c[C_c] + 1 M_oaa_c[C_c] -> 1 M_cit_c[C_c] + 1 M_coa_c[C_c] + 1 M_h_c[C_c])\n",
      "8*(1 M_amp_c[C_c] + 1 M_h_c[C_c] + 1 M_mmeroacidcyc2ACP_c[C_c] -> 1 M_ACP_c[C_c] + 1 M_mmeroacidcyc2AMP_c[C_c])\n",
      "-3*(1 M_amp_c[C_c] + 1 M_h_c[C_c] + 1 M_mmmeroacidcyc1ACP_c[C_c] -> 1 M_ACP_c[C_c] + 1 M_mmmeroacidcyc1AMP_c[C_c])\n",
      "-5*(1 M_amp_c[C_c] + 1 M_h_c[C_c] + 1 M_mkmeroacidcyc1ACP_c[C_c] -> 1 M_ACP_c[C_c] + 1 M_mkmeroacidcyc1AMP_c[C_c])\n",
      "-1*(1 M_fum_c[C_c] + 1 M_mql8_c[C_c] <-> 1 M_mqn8_c[C_c] + 1 M_succ_c[C_c])\n",
      "1*(1 M_fum_c[C_c] + 1 M_h2o_c[C_c] <-> 1 M_mal_L_c[C_c])\n",
      "-1*(1 M_4h2opntn_c[C_c] -> 1 M_acald_c[C_c] + 1 M_pyr_c[C_c])\n",
      "1*(1 M_icit_c[C_c] -> 1 M_glx_c[C_c] + 1 M_succ_c[C_c])\n",
      "1*(1 M_accoa_c[C_c] + 1 M_glx_c[C_c] + 1 M_h2o_c[C_c] -> 1 M_coa_c[C_c] + 1 M_h_c[C_c] + 1 M_mal_L_c[C_c])\n",
      "5*(1 M_h_c[C_c] + 1 M_malcoa_c[C_c] -> 1 M_accoa_c[C_c] + 1 M_co2_c[C_c])\n",
      "-5*(1 M_ACP_c[C_c] + 1 M_malcoa_c[C_c] <-> 1 M_coa_c[C_c] + 1 M_malACP_c[C_c])\n",
      "1*(1 M_mal_L_c[C_c] + 1 M_nad_c[C_c] <-> 1 M_h_c[C_c] + 1 M_nadh_c[C_c] + 1 M_oaa_c[C_c])\n",
      "1*(1 M_mal_L_c[C_c] + 1 M_nad_c[C_c] -> 1 M_co2_c[C_c] + 1 M_nadh_c[C_c] + 1 M_pyr_c[C_c])\n",
      "8*(1 M_amet_c[C_c] + 1 M_mmeroacidACP_c[C_c] -> 1 M_ahcys_c[C_c] + 1 M_h_c[C_c] + 1 M_mmeroacidcyc1ACP_c[C_c])\n",
      "-3*(1 M_amet_c[C_c] + 1 M_mmmeroacidACP_c[C_c] -> 1 M_ahcys_c[C_c] + 1 M_h_c[C_c] + 1 M_mmmeroacidcyc1ACP_c[C_c])\n",
      "-5*(1 M_amet_c[C_c] + 1 M_mkmeroacidACP_c[C_c] -> 1 M_ahcys_c[C_c] + 1 M_h_c[C_c] + 1 M_mkmeroacidcyc1ACP_c[C_c])\n",
      "-3*(1 M_amet_c[C_c] + 1 M_h2o_c[C_c] + 1 M_mmeroacidACP_c[C_c] -> 1 M_ahcys_c[C_c] + 1 M_h_c[C_c] + 1 M_mmmeroacidACP_c[C_c])\n",
      "-5*(1 M_amet_c[C_c] + 1 M_h2o_c[C_c] + 1 M_kmeroacidACP_c[C_c] -> 1 M_ahcys_c[C_c] + 1 M_h_c[C_c] + 1 M_mkmeroacidACP_c[C_c])\n",
      "8*(1 M_amet_c[C_c] + 1 M_mmeroacidcyc1ACP_c[C_c] -> 1 M_ahcys_c[C_c] + 1 M_h_c[C_c] + 1 M_mmeroacidcyc2ACP_c[C_c])\n",
      "8*(1 M_mmycolate_c[C_c] -> 1 M_rmyc_c[C_c])\n",
      "-3*(1 M_mmmycolate_c[C_c] -> 1 M_rmyc_c[C_c])\n",
      "-5*(1 M_mkmycolate_c[C_c] -> 1 M_rmyc_c[C_c])\n",
      "8*(1 M_chexccoa_c[C_c] + 2 M_h2o_c[C_c] + 1 M_mmeroacidcyc2AMP_c[C_c] -> 1 M_amp_c[C_c] + 1 M_co2_c[C_c] + 1 M_coa_c[C_c] + 2 M_h_c[C_c] + 1 M_mmycolate_c[C_c])\n",
      "-3*(1 M_chexccoa_c[C_c] + 2 M_h2o_c[C_c] + 1 M_mmmeroacidcyc1AMP_c[C_c] -> 1 M_amp_c[C_c] + 1 M_co2_c[C_c] + 1 M_coa_c[C_c] + 2 M_h_c[C_c] + 1 M_mmmycolate_c[C_c])\n",
      "-5*(1 M_chexccoa_c[C_c] + 2 M_h2o_c[C_c] + 1 M_mkmeroacidcyc1AMP_c[C_c] -> 1 M_amp_c[C_c] + 1 M_co2_c[C_c] + 1 M_coa_c[C_c] + 2 M_h_c[C_c] + 1 M_mkmycolate_c[C_c])\n",
      "5*(42 M_h_c[C_c] + 1 M_hexc_c[C_c] + 15 M_malACP_c[C_c] + 30 M_nadph_c[C_c] -> 14 M_ACP_c[C_c] + 15 M_co2_c[C_c] + 16 M_h2o_c[C_c] + 1 M_mmeroacidACP_c[C_c] + 30 M_nadp_c[C_c])\n",
      "-5*(47 M_h_c[C_c] + 1 M_hexc_c[C_c] + 16 M_malACP_c[C_c] + 30 M_nadph_c[C_c] -> 15 M_ACP_c[C_c] + 16 M_co2_c[C_c] + 17 M_h2o_c[C_c] + 1 M_kmeroacidACP_c[C_c] + 30 M_nadp_c[C_c])\n",
      "-1*(1 M_h_c[C_c] + 1 M_mqn8_c[C_c] + 1 M_nadh_c[C_c] -> 1 M_mql8_c[C_c] + 1 M_nad_c[C_c])\n",
      "-----------\n",
      "1*(M_4h2opntn_c)\n",
      "2*(M_acald_c)\n",
      "1*(M_co2_c)\n",
      "21*(M_h_c)\n",
      "-------------------------------------------------------------\n"
     ]
    }
   ],
   "source": [
    "minimal_free_lunch,free_lunch_list,free_lunch_meta = model.findMinimalFreeLunch(free_lunch_meta_list=[60])"
   ]
  },
  {
   "cell_type": "code",
   "execution_count": 15,
   "metadata": {},
   "outputs": [
    {
     "name": "stdout",
     "output_type": "stream",
     "text": [
      "parameters.mip.tolerances.integrality\n",
      "CPXPARAM_Simplex_Tolerances_Feasibility          1.0000000000000001e-09\n",
      "CPXPARAM_Read_DataCheck                          1\n",
      "CPXPARAM_MIP_Tolerances_Integrality              1.0000000000000001e-15\n",
      "Found incumbent of value 508.000000 after 0.07 sec. (0.20 ticks)\n",
      "Tried aggregator 2 times.\n",
      "MIP Presolve eliminated 486 rows and 477 columns.\n",
      "MIP Presolve modified 1583 coefficients.\n",
      "Aggregator did 5 substitutions.\n",
      "Reduced MIP has 1605 rows, 1499 columns, and 9448 nonzeros.\n",
      "Reduced MIP has 884 binaries, 3 generals, 0 SOSs, and 0 indicators.\n",
      "Presolve time = 0.15 sec. (9.21 ticks)\n",
      "Probing time = 0.00 sec. (0.18 ticks)\n",
      "Tried aggregator 1 time.\n",
      "Reduced MIP has 1605 rows, 1499 columns, and 9448 nonzeros.\n",
      "Reduced MIP has 884 binaries, 3 generals, 0 SOSs, and 0 indicators.\n",
      "Presolve time = 0.21 sec. (3.53 ticks)\n",
      "Probing time = 0.00 sec. (0.18 ticks)\n",
      "MIP emphasis: balance optimality and feasibility.\n",
      "MIP search method: dynamic search.\n",
      "Parallel mode: deterministic, using up to 8 threads.\n",
      "Root relaxation solution time = 0.52 sec. (50.01 ticks)\n",
      "\n",
      "        Nodes                                         Cuts/\n",
      "   Node  Left     Objective  IInf  Best Integer    Best Bound    ItCnt     Gap\n",
      "\n",
      "*     0+    0                          508.0000        0.0000           100.00%\n",
      "*     0+    0                          438.0000        0.0000           100.00%\n",
      "      0     0        0.0000     9      438.0000        0.0000      871  100.00%\n",
      "*     0+    0                            9.0000        0.0000           100.00%\n",
      "      0     0        1.0000     9        9.0000     Covers: 1     1345   88.89%\n",
      "*     0+    0                            5.0000        1.0000            80.00%\n",
      "*     0+    0                            3.0000        2.0000            33.33%\n",
      "      0     0        cutoff              3.0000        3.0000     1345    0.00%\n",
      "Elapsed time = 1.70 sec. (251.21 ticks, tree = 0.01 MB, solutions = 4)\n",
      "\n",
      "Cover cuts applied:  1\n",
      "\n",
      "Root node processing (before b&c):\n",
      "  Real time             =    1.72 sec. (251.37 ticks)\n",
      "Parallel b&c, 8 threads:\n",
      "  Real time             =    0.00 sec. (0.00 ticks)\n",
      "  Sync time (average)   =    0.00 sec.\n",
      "  Wait time (average)   =    0.00 sec.\n",
      "                          ------------\n",
      "Total (root+branch&cut) =    1.72 sec. (251.37 ticks)\n",
      "Number of free lunch witnesses: 3\n",
      "List of free lunch witnesses: [224, 656, 660]\n",
      "Computed y lower bound 2.389486260454002e-07\n"
     ]
    }
   ],
   "source": [
    "flw_index_list, y_lower_bound = model.findFreeLunchWitnesses()"
   ]
  },
  {
   "cell_type": "markdown",
   "metadata": {},
   "source": [
    "# 6"
   ]
  },
  {
   "cell_type": "markdown",
   "metadata": {},
   "source": [
    "Organism: Homo sapiens \n",
    "\n",
    "Version: Recon 2.2 \n",
    "\n",
    "Year: 2016\n",
    "\n",
    "Paper link: https://link.springer.com/article/10.1007%2Fs11306-016-1051-4\n",
    "\n",
    "Model Link: https://github.com/mcisb/mcisb-recon-analysis/tree/master/models"
   ]
  },
  {
   "cell_type": "code",
   "execution_count": 16,
   "metadata": {},
   "outputs": [
    {
     "name": "stdout",
     "output_type": "stream",
     "text": [
      "Warning: no candidate for extra, outside found in the list\n",
      "Warning: multiple candidates for biomass found in the list\n",
      "0) Generic human biomass reaction 1) protein component of biomass 2) DNA component of biomass 3) RNA component of biomass 4) carbohydrate component of biomass 5) lipid component of biomass 6) other component of biomass\n",
      "Please select the correct string from the list above and enter its number, or -1 if none \n",
      "0\n"
     ]
    }
   ],
   "source": [
    "model =parseSBML('/home/hzabeti/Desktop/UCSD models/recon_2.2.xml')"
   ]
  },
  {
   "cell_type": "code",
   "execution_count": 8,
   "metadata": {},
   "outputs": [
    {
     "data": {
      "text/plain": [
       "{'ID': 'recon2_2',\n",
       " 'Name': 'Recon 2.2',\n",
       " 'Source File': '/home/hzabeti/Desktop/UCSD models/recon_2.2.xml'}"
      ]
     },
     "execution_count": 8,
     "metadata": {},
     "output_type": "execute_result"
    }
   ],
   "source": [
    "model.description"
   ]
  },
  {
   "cell_type": "code",
   "execution_count": 9,
   "metadata": {},
   "outputs": [
    {
     "data": {
      "text/plain": [
       "(6047, 7785)"
      ]
     },
     "execution_count": 9,
     "metadata": {},
     "output_type": "execute_result"
    }
   ],
   "source": [
    "getSize(model.fullMatrix)"
   ]
  },
  {
   "cell_type": "code",
   "execution_count": 11,
   "metadata": {},
   "outputs": [
    {
     "name": "stdout",
     "output_type": "stream",
     "text": [
      "No Free Lunch condition: Satisfied!\n"
     ]
    }
   ],
   "source": [
    "flm_index_list,flm_list = model.findFreeLunchMetabolites()"
   ]
  },
  {
   "cell_type": "code",
   "execution_count": 18,
   "metadata": {},
   "outputs": [
    {
     "name": "stdout",
     "output_type": "stream",
     "text": [
      "parameters.mip.tolerances.integrality\n"
     ]
    },
    {
     "name": "stderr",
     "output_type": "stream",
     "text": [
      "CPLEX Error  1222: Duplicate entry or entries.\n"
     ]
    },
    {
     "ename": "CplexSolverError",
     "evalue": "CPLEX Error  1222: Duplicate entry or entries.",
     "output_type": "error",
     "traceback": [
      "\u001b[0;31m---------------------------------------------------------------------------\u001b[0m",
      "\u001b[0;31mCplexSolverError\u001b[0m                          Traceback (most recent call last)",
      "\u001b[0;32m~/qsopt-ex/build/python-qsoptex/MongooseGUI3/ModelParsing.py\u001b[0m in \u001b[0;36m<module>\u001b[0;34m()\u001b[0m\n\u001b[0;32m----> 1\u001b[0;31m \u001b[0mflw_index_list\u001b[0m\u001b[0;34m,\u001b[0m \u001b[0my_lower_bound\u001b[0m \u001b[0;34m=\u001b[0m \u001b[0mmodel\u001b[0m\u001b[0;34m.\u001b[0m\u001b[0mfindFreeLunchWitnesses\u001b[0m\u001b[0;34m(\u001b[0m\u001b[0mmax_num_atoms\u001b[0m\u001b[0;34m=\u001b[0m\u001b[0;36m100\u001b[0m\u001b[0;34m)\u001b[0m\u001b[0;34m\u001b[0m\u001b[0m\n\u001b[0m",
      "\u001b[0;32m~/qsopt-ex/build/python-qsoptex/MongooseGUI3/ClassDefinitions.py\u001b[0m in \u001b[0;36mfindFreeLunchWitnesses\u001b[0;34m(self, y_lower_bound, max_num_atoms)\u001b[0m\n\u001b[1;32m    339\u001b[0m             \u001b[0mself\u001b[0m\u001b[0;34m.\u001b[0m\u001b[0mcreateMatrices\u001b[0m\u001b[0;34m(\u001b[0m\u001b[0;34m)\u001b[0m\u001b[0;34m\u001b[0m\u001b[0m\n\u001b[1;32m    340\u001b[0m     \u001b[0;32mdef\u001b[0m \u001b[0mfindFreeLunchWitnesses\u001b[0m \u001b[0;34m(\u001b[0m\u001b[0mself\u001b[0m\u001b[0;34m,\u001b[0m\u001b[0my_lower_bound\u001b[0m\u001b[0;34m=\u001b[0m\u001b[0;32mNone\u001b[0m\u001b[0;34m,\u001b[0m\u001b[0mmax_num_atoms\u001b[0m\u001b[0;34m=\u001b[0m\u001b[0;36m1e3\u001b[0m\u001b[0;34m)\u001b[0m\u001b[0;34m:\u001b[0m\u001b[0;34m\u001b[0m\u001b[0m\n\u001b[0;32m--> 341\u001b[0;31m         \u001b[0;32mreturn\u001b[0m \u001b[0mfree_lunch_witness_finder\u001b[0m\u001b[0;34m(\u001b[0m\u001b[0mself\u001b[0m\u001b[0;34m,\u001b[0m\u001b[0my_lower_bound\u001b[0m\u001b[0;34m,\u001b[0m\u001b[0mmax_num_atoms\u001b[0m\u001b[0;34m)\u001b[0m\u001b[0;34m\u001b[0m\u001b[0m\n\u001b[0m\u001b[1;32m    342\u001b[0m     \u001b[0;32mdef\u001b[0m \u001b[0mfindFreeLunchMetabolites\u001b[0m\u001b[0;34m(\u001b[0m\u001b[0mself\u001b[0m\u001b[0;34m)\u001b[0m\u001b[0;34m:\u001b[0m\u001b[0;34m\u001b[0m\u001b[0m\n\u001b[1;32m    343\u001b[0m         \u001b[0;32mreturn\u001b[0m \u001b[0mfind_free_lunch_metabolites\u001b[0m\u001b[0;34m(\u001b[0m\u001b[0mself\u001b[0m\u001b[0;34m)\u001b[0m\u001b[0;34m\u001b[0m\u001b[0m\n",
      "\u001b[0;32m~/qsopt-ex/build/python-qsoptex/MongooseGUI3/free_lunch_witnesses.py\u001b[0m in \u001b[0;36mfree_lunch_witness_finder\u001b[0;34m(model_obj, y_lower_bound, max_num_atoms)\u001b[0m\n\u001b[1;32m     54\u001b[0m             \u001b[0mrows\u001b[0m\u001b[0;34m.\u001b[0m\u001b[0mappend\u001b[0m\u001b[0;34m(\u001b[0m\u001b[0mcopy\u001b[0m\u001b[0;34m.\u001b[0m\u001b[0mcopy\u001b[0m\u001b[0;34m(\u001b[0m\u001b[0;34m[\u001b[0m\u001b[0mrow_inner_f\u001b[0m\u001b[0;34m,\u001b[0m\u001b[0mrow_inner_s\u001b[0m\u001b[0;34m]\u001b[0m\u001b[0;34m)\u001b[0m\u001b[0;34m)\u001b[0m\u001b[0;34m\u001b[0m\u001b[0m\n\u001b[1;32m     55\u001b[0m \u001b[0;34m\u001b[0m\u001b[0m\n\u001b[0;32m---> 56\u001b[0;31m     \u001b[0mprob\u001b[0m\u001b[0;34m.\u001b[0m\u001b[0mlinear_constraints\u001b[0m\u001b[0;34m.\u001b[0m\u001b[0madd\u001b[0m\u001b[0;34m(\u001b[0m\u001b[0mlin_expr\u001b[0m \u001b[0;34m=\u001b[0m \u001b[0mrows\u001b[0m\u001b[0;34m,\u001b[0m \u001b[0msenses\u001b[0m \u001b[0;34m=\u001b[0m \u001b[0mp_sense\u001b[0m\u001b[0;34m,\u001b[0m\u001b[0mrhs\u001b[0m \u001b[0;34m=\u001b[0m \u001b[0mp_rhs\u001b[0m\u001b[0;34m,\u001b[0m \u001b[0mnames\u001b[0m \u001b[0;34m=\u001b[0m \u001b[0mp_rownames\u001b[0m\u001b[0;34m)\u001b[0m\u001b[0;34m\u001b[0m\u001b[0m\n\u001b[0m\u001b[1;32m     57\u001b[0m \u001b[0;34m\u001b[0m\u001b[0m\n\u001b[1;32m     58\u001b[0m     \u001b[0;31m#prob.set_log_stream(None)\u001b[0m\u001b[0;34m\u001b[0m\u001b[0;34m\u001b[0m\u001b[0m\n",
      "\u001b[0;32m~/.local/lib/python3.5/site-packages/cplex/_internal/_subinterfaces.py\u001b[0m in \u001b[0;36madd\u001b[0;34m(self, lin_expr, senses, rhs, range_values, names)\u001b[0m\n\u001b[1;32m   1336\u001b[0m             lin_expr, senses, rhs, range_values, names)\n\u001b[1;32m   1337\u001b[0m         return self._add_iter(self.get_num, self._add,\n\u001b[0;32m-> 1338\u001b[0;31m                               lin_expr, senses, rhs, range_values, names)\n\u001b[0m\u001b[1;32m   1339\u001b[0m \u001b[0;34m\u001b[0m\u001b[0m\n\u001b[1;32m   1340\u001b[0m     \u001b[0;32mdef\u001b[0m \u001b[0mdelete\u001b[0m\u001b[0;34m(\u001b[0m\u001b[0mself\u001b[0m\u001b[0;34m,\u001b[0m \u001b[0;34m*\u001b[0m\u001b[0margs\u001b[0m\u001b[0;34m)\u001b[0m\u001b[0;34m:\u001b[0m\u001b[0;34m\u001b[0m\u001b[0m\n",
      "\u001b[0;32m~/.local/lib/python3.5/site-packages/cplex/_internal/_subinterfaces.py\u001b[0m in \u001b[0;36m_add_iter\u001b[0;34m(getnumfun, addfun, *args, **kwargs)\u001b[0m\n\u001b[1;32m    139\u001b[0m         \u001b[0;34m\"\"\"non-public\"\"\"\u001b[0m\u001b[0;34m\u001b[0m\u001b[0m\n\u001b[1;32m    140\u001b[0m         \u001b[0mold\u001b[0m \u001b[0;34m=\u001b[0m \u001b[0mgetnumfun\u001b[0m\u001b[0;34m(\u001b[0m\u001b[0;34m)\u001b[0m\u001b[0;34m\u001b[0m\u001b[0m\n\u001b[0;32m--> 141\u001b[0;31m         \u001b[0maddfun\u001b[0m\u001b[0;34m(\u001b[0m\u001b[0;34m*\u001b[0m\u001b[0margs\u001b[0m\u001b[0;34m,\u001b[0m \u001b[0;34m**\u001b[0m\u001b[0mkwargs\u001b[0m\u001b[0;34m)\u001b[0m\u001b[0;34m\u001b[0m\u001b[0m\n\u001b[0m\u001b[1;32m    142\u001b[0m         \u001b[0;32mreturn\u001b[0m \u001b[0msix\u001b[0m\u001b[0;34m.\u001b[0m\u001b[0mmoves\u001b[0m\u001b[0;34m.\u001b[0m\u001b[0mrange\u001b[0m\u001b[0;34m(\u001b[0m\u001b[0mold\u001b[0m\u001b[0;34m,\u001b[0m \u001b[0mgetnumfun\u001b[0m\u001b[0;34m(\u001b[0m\u001b[0;34m)\u001b[0m\u001b[0;34m)\u001b[0m\u001b[0;34m\u001b[0m\u001b[0m\n\u001b[1;32m    143\u001b[0m \u001b[0;34m\u001b[0m\u001b[0m\n",
      "\u001b[0;32m~/.local/lib/python3.5/site-packages/cplex/_internal/_subinterfaces.py\u001b[0m in \u001b[0;36m_add\u001b[0;34m(self, lin_expr, senses, rhs, range_values, names)\u001b[0m\n\u001b[1;32m   1271\u001b[0m                 CPX_PROC.addrows(self._env._e, self._cplex._lp, 0,\n\u001b[1;32m   1272\u001b[0m                                  \u001b[0mnum_new_rows\u001b[0m\u001b[0;34m,\u001b[0m \u001b[0mnnz\u001b[0m\u001b[0;34m,\u001b[0m \u001b[0mrhs\u001b[0m\u001b[0;34m,\u001b[0m \u001b[0msenses\u001b[0m\u001b[0;34m,\u001b[0m\u001b[0;34m\u001b[0m\u001b[0m\n\u001b[0;32m-> 1273\u001b[0;31m                                  rmat, [], names, self._env._apienc)\n\u001b[0m\u001b[1;32m   1274\u001b[0m             \u001b[0;32mif\u001b[0m \u001b[0mrange_values\u001b[0m \u001b[0;34m!=\u001b[0m \u001b[0;34m[\u001b[0m\u001b[0;34m]\u001b[0m\u001b[0;34m:\u001b[0m\u001b[0;34m\u001b[0m\u001b[0m\n\u001b[1;32m   1275\u001b[0m                 CPX_PROC.chgrngval(\n",
      "\u001b[0;32m~/.local/lib/python3.5/site-packages/cplex/_internal/_procedural.py\u001b[0m in \u001b[0;36maddrows\u001b[0;34m(env, lp, ccnt, rcnt, nzcnt, rhs, sense, rmat, colname, rowname, enc)\u001b[0m\n\u001b[1;32m   1057\u001b[0m             \u001b[0mcpx_decode\u001b[0m\u001b[0;34m(\u001b[0m\u001b[0msense\u001b[0m\u001b[0;34m,\u001b[0m \u001b[0menc\u001b[0m\u001b[0;34m)\u001b[0m\u001b[0;34m,\u001b[0m \u001b[0mrmat\u001b[0m\u001b[0;34m,\u001b[0m \u001b[0mcolname\u001b[0m\u001b[0;34m,\u001b[0m\u001b[0;34m\u001b[0m\u001b[0m\n\u001b[1;32m   1058\u001b[0m             [cpx_decode(x, enc) for x in rowname])\n\u001b[0;32m-> 1059\u001b[0;31m     \u001b[0mcheck_status\u001b[0m\u001b[0;34m(\u001b[0m\u001b[0menv\u001b[0m\u001b[0;34m,\u001b[0m \u001b[0mstatus\u001b[0m\u001b[0;34m)\u001b[0m\u001b[0;34m\u001b[0m\u001b[0m\n\u001b[0m\u001b[1;32m   1060\u001b[0m \u001b[0;34m\u001b[0m\u001b[0m\n\u001b[1;32m   1061\u001b[0m \u001b[0;34m\u001b[0m\u001b[0m\n",
      "\u001b[0;32m~/.local/lib/python3.5/site-packages/cplex/_internal/_procedural.py\u001b[0m in \u001b[0;36m__call__\u001b[0;34m(self, env, status, from_cb)\u001b[0m\n\u001b[1;32m    301\u001b[0m                 \u001b[0;32melse\u001b[0m\u001b[0;34m:\u001b[0m\u001b[0;34m\u001b[0m\u001b[0m\n\u001b[1;32m    302\u001b[0m                     \u001b[0merror_string\u001b[0m \u001b[0;34m=\u001b[0m \u001b[0mgeterrorstring\u001b[0m\u001b[0;34m(\u001b[0m\u001b[0menv\u001b[0m\u001b[0;34m,\u001b[0m \u001b[0mstatus\u001b[0m\u001b[0;34m)\u001b[0m\u001b[0;34m\u001b[0m\u001b[0m\n\u001b[0;32m--> 303\u001b[0;31m             \u001b[0;32mraise\u001b[0m \u001b[0mCplexSolverError\u001b[0m\u001b[0;34m(\u001b[0m\u001b[0merror_string\u001b[0m\u001b[0;34m,\u001b[0m \u001b[0menv\u001b[0m\u001b[0;34m,\u001b[0m \u001b[0mstatus\u001b[0m\u001b[0;34m)\u001b[0m\u001b[0;34m\u001b[0m\u001b[0m\n\u001b[0m\u001b[1;32m    304\u001b[0m \u001b[0;34m\u001b[0m\u001b[0m\n\u001b[1;32m    305\u001b[0m \u001b[0;34m\u001b[0m\u001b[0m\n",
      "\u001b[0;31mCplexSolverError\u001b[0m: CPLEX Error  1222: Duplicate entry or entries."
     ]
    }
   ],
   "source": [
    "flw_index_list, y_lower_bound = model.findFreeLunchWitnesses()"
   ]
  },
  {
   "cell_type": "code",
   "execution_count": 22,
   "metadata": {},
   "outputs": [
    {
     "ename": "AssertionError",
     "evalue": "",
     "output_type": "error",
     "traceback": [
      "\u001b[0;31m---------------------------------------------------------------------------\u001b[0m",
      "\u001b[0;31mAssertionError\u001b[0m                            Traceback (most recent call last)",
      "\u001b[0;32m~/qsopt-ex/build/python-qsoptex/MongooseGUI3/ModelParsing.py\u001b[0m in \u001b[0;36m<module>\u001b[0;34m()\u001b[0m\n\u001b[0;32m----> 1\u001b[0;31m \u001b[0mmodel\u001b[0m\u001b[0;34m.\u001b[0m\u001b[0mprintReactionFormula\u001b[0m\u001b[0;34m(\u001b[0m\u001b[0;36m0\u001b[0m\u001b[0;34m)\u001b[0m\u001b[0;34m\u001b[0m\u001b[0m\n\u001b[0m",
      "\u001b[0;32m~/qsopt-ex/build/python-qsoptex/MongooseGUI3/ClassDefinitions.py\u001b[0m in \u001b[0;36mprintReactionFormula\u001b[0;34m(self, reactionNumber)\u001b[0m\n\u001b[1;32m    269\u001b[0m         \u001b[0;32mreturn\u001b[0m \u001b[0mfindMinimalMedia\u001b[0m\u001b[0;34m(\u001b[0m\u001b[0mN\u001b[0m\u001b[0;34m,\u001b[0m \u001b[0mbiomassIndex\u001b[0m\u001b[0;34m,\u001b[0m \u001b[0mExch\u001b[0m\u001b[0;34m,\u001b[0m \u001b[0mrec\u001b[0m \u001b[0;34m=\u001b[0m \u001b[0;32mFalse\u001b[0m\u001b[0;34m,\u001b[0m \u001b[0mI\u001b[0m \u001b[0;34m=\u001b[0m \u001b[0mIrr\u001b[0m\u001b[0;34m)\u001b[0m\u001b[0;34m\u001b[0m\u001b[0m\n\u001b[1;32m    270\u001b[0m     \u001b[0;32mdef\u001b[0m \u001b[0mprintReactionFormula\u001b[0m\u001b[0;34m(\u001b[0m\u001b[0mself\u001b[0m\u001b[0;34m,\u001b[0m \u001b[0mreactionNumber\u001b[0m\u001b[0;34m)\u001b[0m\u001b[0;34m:\u001b[0m\u001b[0;34m\u001b[0m\u001b[0m\n\u001b[0;32m--> 271\u001b[0;31m         \u001b[0;32massert\u001b[0m \u001b[0mreactionNumber\u001b[0m \u001b[0;34m>\u001b[0m \u001b[0;36m0\u001b[0m\u001b[0;34m\u001b[0m\u001b[0m\n\u001b[0m\u001b[1;32m    272\u001b[0m         \u001b[0;32massert\u001b[0m \u001b[0mreactionNumber\u001b[0m \u001b[0;34m<\u001b[0m \u001b[0mlen\u001b[0m\u001b[0;34m(\u001b[0m\u001b[0mself\u001b[0m\u001b[0;34m.\u001b[0m\u001b[0mreactions\u001b[0m\u001b[0;34m)\u001b[0m\u001b[0;34m\u001b[0m\u001b[0m\n\u001b[1;32m    273\u001b[0m         \u001b[0mcurReact\u001b[0m \u001b[0;34m=\u001b[0m \u001b[0mself\u001b[0m\u001b[0;34m.\u001b[0m\u001b[0mreactions\u001b[0m\u001b[0;34m[\u001b[0m\u001b[0mreactionNumber\u001b[0m\u001b[0;34m]\u001b[0m\u001b[0;34m\u001b[0m\u001b[0m\n",
      "\u001b[0;31mAssertionError\u001b[0m: "
     ]
    }
   ],
   "source": [
    "model.printReactionFormula(0)"
   ]
  },
  {
   "cell_type": "markdown",
   "metadata": {},
   "source": [
    "# 7"
   ]
  },
  {
   "cell_type": "markdown",
   "metadata": {},
   "source": [
    "Organism: Mucor circinelloides\n",
    "\n",
    "Version: iWV1213 \n",
    "\n",
    "Year: 2016\n",
    "\n",
    "Paper link: https://www.sciencedirect.com/science/article/pii/S0378111916300956?via%3Dihub\n",
    "\n",
    "Model Link: https://ars.els-cdn.com/content/image/1-s2.0-S0378111916300956-mmc4.xml"
   ]
  },
  {
   "cell_type": "code",
   "execution_count": 23,
   "metadata": {},
   "outputs": [
    {
     "name": "stdout",
     "output_type": "stream",
     "text": [
      "Warning: no candidate for extra, outside found in the list\n"
     ]
    },
    {
     "ename": "ValueError",
     "evalue": "invalid literal for int() with base 10: 'NaN'",
     "output_type": "error",
     "traceback": [
      "\u001b[0;31m---------------------------------------------------------------------------\u001b[0m",
      "\u001b[0;31mValueError\u001b[0m                                Traceback (most recent call last)",
      "\u001b[0;32m~/qsopt-ex/build/python-qsoptex/MongooseGUI3/ModelParsing.py\u001b[0m in \u001b[0;36m<module>\u001b[0;34m()\u001b[0m\n\u001b[0;32m----> 1\u001b[0;31m \u001b[0mmodel\u001b[0m \u001b[0;34m=\u001b[0m\u001b[0mparseSBML\u001b[0m\u001b[0;34m(\u001b[0m\u001b[0;34m'/home/hzabeti/Desktop/UCSD models/iWV1213.xml'\u001b[0m\u001b[0;34m)\u001b[0m\u001b[0;34m\u001b[0m\u001b[0m\n\u001b[0m",
      "\u001b[0;32m~/qsopt-ex/build/python-qsoptex/MongooseGUI3/ModelParsing.py\u001b[0m in \u001b[0;36mparseSBML\u001b[0;34m(filename, specialEnding, Cobra)\u001b[0m\n\u001b[1;32m     35\u001b[0m     \u001b[0;32mif\u001b[0m \u001b[0mextraCompartment\u001b[0m \u001b[0;32mis\u001b[0m \u001b[0;32mnot\u001b[0m \u001b[0;32mNone\u001b[0m\u001b[0;34m:\u001b[0m\u001b[0;34m\u001b[0m\u001b[0m\n\u001b[1;32m     36\u001b[0m         \u001b[0mextraCompartment\u001b[0m \u001b[0;34m=\u001b[0m \u001b[0mallCompartments\u001b[0m\u001b[0;34m[\u001b[0m\u001b[0mextraCompartment\u001b[0m\u001b[0;34m]\u001b[0m\u001b[0;34m\u001b[0m\u001b[0m\n\u001b[0;32m---> 37\u001b[0;31m     \u001b[0;34m(\u001b[0m\u001b[0mspecies\u001b[0m\u001b[0;34m,\u001b[0m \u001b[0mmetabolites\u001b[0m\u001b[0;34m)\u001b[0m \u001b[0;34m=\u001b[0m \u001b[0mcreateSpeciesList\u001b[0m\u001b[0;34m(\u001b[0m\u001b[0mallSpecies\u001b[0m\u001b[0;34m,\u001b[0m \u001b[0mallSpeciesTypes\u001b[0m\u001b[0;34m,\u001b[0m \u001b[0mextraCompartment\u001b[0m\u001b[0;34m,\u001b[0m \u001b[0mCobra\u001b[0m\u001b[0;34m,\u001b[0m \u001b[0mspecialEnding\u001b[0m\u001b[0;34m)\u001b[0m\u001b[0;34m\u001b[0m\u001b[0m\n\u001b[0m\u001b[1;32m     38\u001b[0m     \u001b[0mallReactions\u001b[0m \u001b[0;34m=\u001b[0m \u001b[0mmodel\u001b[0m\u001b[0;34m.\u001b[0m\u001b[0mgetListOfReactions\u001b[0m\u001b[0;34m(\u001b[0m\u001b[0;34m)\u001b[0m\u001b[0;34m\u001b[0m\u001b[0m\n\u001b[1;32m     39\u001b[0m     \u001b[0mnetwork\u001b[0m \u001b[0;34m=\u001b[0m \u001b[0mcreateNetwork\u001b[0m\u001b[0;34m(\u001b[0m\u001b[0mallReactions\u001b[0m\u001b[0;34m,\u001b[0m \u001b[0mspecies\u001b[0m\u001b[0;34m,\u001b[0m \u001b[0mmetabolites\u001b[0m\u001b[0;34m,\u001b[0m \u001b[0mCobra\u001b[0m\u001b[0;34m)\u001b[0m\u001b[0;34m\u001b[0m\u001b[0m\n",
      "\u001b[0;32m~/qsopt-ex/build/python-qsoptex/MongooseGUI3/ModelParsing.py\u001b[0m in \u001b[0;36mcreateSpeciesList\u001b[0;34m(speciesObjects, speciesTypes, extr, Cobra, specialEnding)\u001b[0m\n\u001b[1;32m     67\u001b[0m                     \u001b[0mcurExtr\u001b[0m \u001b[0;34m=\u001b[0m \u001b[0mnewExtr\u001b[0m\u001b[0;34m\u001b[0m\u001b[0m\n\u001b[1;32m     68\u001b[0m             \u001b[0mcurNote\u001b[0m \u001b[0;34m=\u001b[0m \u001b[0mspecies\u001b[0m\u001b[0;34m.\u001b[0m\u001b[0mgetNotesString\u001b[0m\u001b[0;34m(\u001b[0m\u001b[0;34m)\u001b[0m\u001b[0;34m\u001b[0m\u001b[0m\n\u001b[0;32m---> 69\u001b[0;31m             \u001b[0mcurFormula\u001b[0m \u001b[0;34m=\u001b[0m \u001b[0mgetFormulaAndCharge\u001b[0m\u001b[0;34m(\u001b[0m\u001b[0mcurNote\u001b[0m\u001b[0;34m)\u001b[0m\u001b[0;34m\u001b[0m\u001b[0m\n\u001b[0m\u001b[1;32m     70\u001b[0m             \u001b[0mallSpecies\u001b[0m\u001b[0;34m[\u001b[0m\u001b[0mind\u001b[0m\u001b[0;34m]\u001b[0m \u001b[0;34m=\u001b[0m \u001b[0mSpecies\u001b[0m\u001b[0;34m(\u001b[0m\u001b[0mcurID\u001b[0m\u001b[0;34m,\u001b[0m \u001b[0mind\u001b[0m\u001b[0;34m,\u001b[0m \u001b[0;34m{\u001b[0m\u001b[0;34m'name'\u001b[0m\u001b[0;34m:\u001b[0m \u001b[0mcurName\u001b[0m\u001b[0;34m,\u001b[0m \u001b[0;34m'notes'\u001b[0m\u001b[0;34m:\u001b[0m \u001b[0mcurNote\u001b[0m\u001b[0;34m,\u001b[0m \u001b[0;34m'formula'\u001b[0m\u001b[0;34m:\u001b[0m \u001b[0mcurFormula\u001b[0m\u001b[0;34m}\u001b[0m\u001b[0;34m)\u001b[0m\u001b[0;34m\u001b[0m\u001b[0m\n\u001b[1;32m     71\u001b[0m             \u001b[0mallMetabs\u001b[0m\u001b[0;34m[\u001b[0m\u001b[0mind\u001b[0m\u001b[0;34m]\u001b[0m  \u001b[0;34m=\u001b[0m \u001b[0mMetabolite\u001b[0m\u001b[0;34m(\u001b[0m\u001b[0mallSpecies\u001b[0m\u001b[0;34m[\u001b[0m\u001b[0mind\u001b[0m\u001b[0;34m]\u001b[0m\u001b[0;34m,\u001b[0m \u001b[0mcurComp\u001b[0m\u001b[0;34m,\u001b[0m \u001b[0mind\u001b[0m\u001b[0;34m,\u001b[0m \u001b[0mcurExtr\u001b[0m\u001b[0;34m)\u001b[0m\u001b[0;34m\u001b[0m\u001b[0m\n",
      "\u001b[0;32m~/qsopt-ex/build/python-qsoptex/MongooseGUI3/ModelParsing.py\u001b[0m in \u001b[0;36mgetFormulaAndCharge\u001b[0;34m(noteString)\u001b[0m\n\u001b[1;32m     87\u001b[0m     \u001b[0;32mif\u001b[0m \u001b[0mcharge\u001b[0m \u001b[0;32mis\u001b[0m \u001b[0;32mnot\u001b[0m \u001b[0;32mNone\u001b[0m\u001b[0;34m:\u001b[0m\u001b[0;34m\u001b[0m\u001b[0m\n\u001b[1;32m     88\u001b[0m         \u001b[0mCharge\u001b[0m \u001b[0;34m=\u001b[0m \u001b[0mcharge\u001b[0m\u001b[0;34m.\u001b[0m\u001b[0mgroup\u001b[0m\u001b[0;34m(\u001b[0m\u001b[0;34m)\u001b[0m\u001b[0;34m.\u001b[0m\u001b[0mreplace\u001b[0m\u001b[0;34m(\u001b[0m\u001b[0;34m'CHARGE: '\u001b[0m\u001b[0;34m,\u001b[0m \u001b[0;34m''\u001b[0m\u001b[0;34m)\u001b[0m\u001b[0;34m.\u001b[0m\u001b[0mreplace\u001b[0m\u001b[0;34m(\u001b[0m\u001b[0;34m'</p>'\u001b[0m\u001b[0;34m,\u001b[0m \u001b[0;34m''\u001b[0m\u001b[0;34m)\u001b[0m\u001b[0;34m\u001b[0m\u001b[0m\n\u001b[0;32m---> 89\u001b[0;31m         \u001b[0mCharge\u001b[0m \u001b[0;34m=\u001b[0m \u001b[0mint\u001b[0m\u001b[0;34m(\u001b[0m\u001b[0mCharge\u001b[0m\u001b[0;34m)\u001b[0m\u001b[0;34m\u001b[0m\u001b[0m\n\u001b[0m\u001b[1;32m     90\u001b[0m         \u001b[0;32mif\u001b[0m \u001b[0;34m'e'\u001b[0m \u001b[0;32min\u001b[0m \u001b[0mFormula\u001b[0m\u001b[0;34m:\u001b[0m\u001b[0;34m\u001b[0m\u001b[0m\n\u001b[1;32m     91\u001b[0m             \u001b[0mprint\u001b[0m\u001b[0;34m(\u001b[0m\u001b[0;34m'Error: there should never be any electrons in a formula!'\u001b[0m\u001b[0;34m)\u001b[0m\u001b[0;34m\u001b[0m\u001b[0m\n",
      "\u001b[0;31mValueError\u001b[0m: invalid literal for int() with base 10: 'NaN'"
     ]
    }
   ],
   "source": [
    "model =parseSBML('/home/hzabeti/Desktop/UCSD models/iWV1213.xml')"
   ]
  },
  {
   "cell_type": "code",
   "execution_count": 24,
   "metadata": {},
   "outputs": [
    {
     "name": "stdout",
     "output_type": "stream",
     "text": [
      "Warning: no candidate for extra, outside found in the list\n",
      "Warning: no candidate for biomass found in the list\n"
     ]
    }
   ],
   "source": [
    "model =parseSBML('/home/hzabeti/Desktop/UCSD models/iWV1213.xml')"
   ]
  },
  {
   "cell_type": "code",
   "execution_count": 25,
   "metadata": {},
   "outputs": [
    {
     "data": {
      "text/plain": [
       "{'ID': '',\n",
       " 'Name': '',\n",
       " 'Source File': '/home/hzabeti/Desktop/UCSD models/iWV1213.xml'}"
      ]
     },
     "execution_count": 25,
     "metadata": {},
     "output_type": "execute_result"
    }
   ],
   "source": [
    "model.description"
   ]
  },
  {
   "cell_type": "code",
   "execution_count": 26,
   "metadata": {},
   "outputs": [
    {
     "data": {
      "text/plain": [
       "(1413, 1326)"
      ]
     },
     "execution_count": 26,
     "metadata": {},
     "output_type": "execute_result"
    }
   ],
   "source": [
    "getSize(model.fullMatrix)"
   ]
  },
  {
   "cell_type": "code",
   "execution_count": 27,
   "metadata": {},
   "outputs": [
    {
     "name": "stdout",
     "output_type": "stream",
     "text": [
      "No Free Lunch condition: Not satisfied!\n",
      "Optimum solution and the number of all possible free lunch metabolites 613\n"
     ]
    }
   ],
   "source": [
    "flm_index_list,flm_list = model.findFreeLunchMetabolites()"
   ]
  },
  {
   "cell_type": "code",
   "execution_count": null,
   "metadata": {},
   "outputs": [],
   "source": [
    "ind_flm_index_list,ind_flm_list = model.findIndividuallyProducibleFLM()"
   ]
  },
  {
   "cell_type": "code",
   "execution_count": null,
   "metadata": {},
   "outputs": [],
   "source": [
    "minimal_free_lunch,free_lunch_list,free_lunch_meta = model.findMinimalFreeLunch()"
   ]
  },
  {
   "cell_type": "code",
   "execution_count": null,
   "metadata": {
    "scrolled": true
   },
   "outputs": [
    {
     "name": "stdout",
     "output_type": "stream",
     "text": [
      "parameters.mip.tolerances.integrality\n",
      "CPXPARAM_Simplex_Tolerances_Feasibility          1.0000000000000001e-09\n",
      "CPXPARAM_Read_DataCheck                          1\n",
      "CPXPARAM_MIP_Tolerances_Integrality              1.0000000000000001e-15\n",
      "Found incumbent of value 312.000000 after 0.00 sec. (0.24 ticks)\n",
      "Tried aggregator 5 times.\n",
      "MIP Presolve eliminated 903 rows and 1105 columns.\n",
      "MIP Presolve modified 2657 coefficients.\n",
      "Aggregator did 26 substitutions.\n",
      "Reduced MIP has 1639 rows, 1565 columns, and 7964 nonzeros.\n",
      "Reduced MIP has 923 binaries, 11 generals, 0 SOSs, and 0 indicators.\n",
      "Presolve time = 0.04 sec. (11.40 ticks)\n",
      "Probing time = 0.00 sec. (0.17 ticks)\n",
      "Tried aggregator 1 time.\n",
      "MIP Presolve eliminated 4 rows and 7 columns.\n",
      "Reduced MIP has 1635 rows, 1558 columns, and 7952 nonzeros.\n",
      "Reduced MIP has 920 binaries, 10 generals, 0 SOSs, and 0 indicators.\n",
      "Presolve time = 0.01 sec. (3.28 ticks)\n",
      "Probing time = 0.00 sec. (0.17 ticks)\n",
      "MIP emphasis: balance optimality and feasibility.\n",
      "MIP search method: dynamic search.\n",
      "Parallel mode: deterministic, using up to 8 threads.\n",
      "Root relaxation solution time = 0.09 sec. (68.50 ticks)\n",
      "\n",
      "        Nodes                                         Cuts/\n",
      "   Node  Left     Objective  IInf  Best Integer    Best Bound    ItCnt     Gap\n",
      "\n",
      "*     0+    0                          312.0000        0.0000           100.00%\n",
      "*     0+    0                          223.0000        0.0000           100.00%\n",
      "*     0+    0                          220.0000        0.0000           100.00%\n",
      "*     0+    0                          219.0000        0.0000           100.00%\n",
      "      0     0        0.0000    92      219.0000        0.0000     1151  100.00%\n",
      "*     0+    0                           92.0000        0.0000           100.00%\n",
      "*     0+    0                           72.0000        0.0000           100.00%\n",
      "      0     0        1.0000    93       72.0000     Covers: 1     1159   98.61%\n",
      "      0     0        1.0000    94       72.0000     Covers: 1     1170   98.61%\n",
      "      0     0        2.0000    93       72.0000     Covers: 1     1171   97.22%\n",
      "      0     0        3.0000    92       72.0000     Covers: 1     1172   95.83%\n",
      "      0     0        4.0000    93       72.0000     Covers: 1     1223   94.44%\n",
      "      0     0        4.0000    93       72.0000     Covers: 1     1224   94.44%\n",
      "      0     2        4.0000    85       72.0000        5.0000     1224   93.06%\n",
      "Elapsed time = 0.83 sec. (378.24 ticks, tree = 0.01 MB, solutions = 5)\n",
      "    150   102        8.0000   109       72.0000        5.0000    17181   93.06%\n",
      "*   214+   75                           41.0000        5.0000            87.80%\n",
      "    372   277        9.0000   132       41.0000        5.0000    30261   87.80%\n",
      "    806   620       30.0000    23       41.0000        5.0000    41803   87.80%\n",
      "   1192  1006       16.0000   104       41.0000        5.0000    55109   87.80%\n",
      "   1424  1246       12.0038   135       41.0000        5.0000    64759   87.80%\n",
      "   1705  1393       11.0000    82       41.0000        5.0000    71663   87.80%\n",
      "   2017  1693       18.0000    38       41.0000        5.0000    86914   87.80%\n",
      "   2488  2175       30.0000    34       41.0000        5.0000   106593   87.80%\n",
      "   3160  2686       15.0000    70       41.0000        5.0000   120896   87.80%\n",
      "   3538  3219       20.5000   118       41.0000       20.5000   142484   50.00%\n",
      "Elapsed time = 6.64 sec. (3713.47 ticks, tree = 61.56 MB, solutions = 9)\n",
      "   3964   371       20.5000    84       41.0000       20.5000   171739   50.00%\n",
      "   5503  1579       23.0000    60       41.0000       20.5000   259352   50.00%\n",
      "   7791  3425       21.5001   103       41.0000       20.5824   359768   49.80%\n",
      "   8901  4415       24.0000    96       41.0000       20.8279   464104   49.20%\n",
      "  10206  5551       26.3333    83       41.0000       20.8279   579840   49.20%\n",
      "  11705  6807       24.0001   118       41.0000       20.9829   715488   48.82%\n",
      "  13450  8237       24.4000   102       41.0000       21.0000   840973   48.78%\n",
      "  15742 10023       24.0000    89       41.0000       21.0000   967418   48.78%\n",
      "  17693 11638       30.0000    80       41.0000       21.0000  1097924   48.78%\n",
      "  19971 13313       26.0000   109       41.0000       21.0097  1238084   48.76%\n",
      "Elapsed time = 21.99 sec. (13260.16 ticks, tree = 14.56 MB, solutions = 9)\n",
      "  21632 14969    infeasible             41.0000       21.0282  1367937   48.71%\n",
      "  23573 16042       24.5000    96       41.0000       21.0343  1490741   48.70%\n",
      "  25121 17597       32.0001    87       41.0000       21.0795  1644979   48.59%\n",
      "  26830 18918       23.6667   110       41.0000       21.1250  1779050   48.48%\n",
      "  29018 20357       24.0001    82       41.0000       21.1460  1920465   48.42%\n",
      "  31045 22444       27.0001   112       41.0000       21.2037  2084698   48.28%\n",
      "  32963 23914       24.0000    99       41.0000       21.2646  2236200   48.14%\n",
      "  35245 25221       23.3333   113       41.0000       21.3038  2343053   48.04%\n",
      "* 36423+26103                           40.0000       21.3522            46.62%\n",
      "  36562 26878       24.0000    93       40.0000       21.3522  2484217   46.62%\n",
      "  37445 27568       29.0265    84       40.0000       21.3522  2567428   46.62%\n",
      "Elapsed time = 37.63 sec. (22803.35 ticks, tree = 26.25 MB, solutions = 9)\n",
      "  38409 28365       39.0001    59       40.0000       21.3522  2639523   46.62%\n",
      "  39345 29103       37.0007    68       40.0000       21.3522  2716211   46.62%\n",
      "  40153 29730       22.5000    86       40.0000       21.3522  2779320   46.62%\n",
      "  40983 30389       24.4000   100       40.0000       21.3522  2858649   46.62%\n",
      "  41848 31180       25.0000    98       40.0000       21.3522  2923664   46.62%\n",
      "  42543 31201       23.0000   115       40.0000       21.3522  3002236   46.62%\n",
      "  43860 31983       29.0002    71       40.0000       21.3522  3067918   46.62%\n",
      "  45193 33276    infeasible             40.0000       21.3522  3181836   46.62%\n",
      "  46321 34046       24.0000   108       40.0000       21.3522  3248886   46.62%\n",
      "  47994 35466       26.0001    96       40.0000       21.3522  3390807   46.62%\n",
      "Elapsed time = 52.70 sec. (32344.11 ticks, tree = 32.61 MB, solutions = 12)\n",
      "  49717 36657       37.0001    95       40.0000       21.5000  3486904   46.25%\n",
      "  51505 38235       24.0000   115       40.0000       21.5000  3652094   46.25%\n",
      "  53301 39599       25.0000    91       40.0000       21.5000  3769880   46.25%\n",
      "  55294 41088    infeasible             40.0000       21.5000  3897956   46.25%\n",
      "  57154 43044       32.0141    71       40.0000       21.5000  4037971   46.25%\n",
      "  59342 44793       24.4000   103       40.0000       21.5000  4202101   46.25%\n",
      "  61121 46658       32.0215    64       40.0000       21.5000  4341807   46.25%\n",
      "  63165 48470       26.0000   108       40.0000       21.5000  4505362   46.25%\n",
      "  65008 50172       33.1357    67       40.0000       21.5000  4667656   46.25%\n",
      "  66701 51765       25.0000    99       40.0000       21.5000  4823781   46.25%\n",
      "Elapsed time = 69.58 sec. (41886.61 ticks, tree = 45.09 MB, solutions = 13)\n",
      "  67865 52580       23.5000   132       40.0000       21.5000  4904526   46.25%\n",
      "  67884 53313       26.0466   104       40.0000       26.0466  4989080   34.88%\n",
      "  67903  5035       26.5910   108       40.0000       26.0908  5001302   34.77%\n",
      "  67950   522       26.4958   114       40.0000       26.1101  5064540   34.72%\n",
      "  68016   121       29.2222   113       40.0000       26.1101  5094248   34.72%\n",
      "  68176   214       28.5000   112       40.0000       26.1101  5132920   34.72%\n",
      "  68607   474       28.0000    84       40.0000       26.1101  5157637   34.72%\n",
      "  69240   977       31.3334   103       40.0000       26.1101  5196722   34.72%\n",
      "  69783  1474       29.0000   106       40.0000       26.1101  5257927   34.72%\n",
      "  70309  1924       27.5013   120       40.0000       26.5943  5333792   33.51%\n",
      "Elapsed time = 86.43 sec. (52799.33 ticks, tree = 31.96 MB, solutions = 13)\n",
      "  71215  2678       36.0000    56       40.0000       26.5943  5400054   33.51%\n",
      "  72102  3621    infeasible             40.0000       26.5943  5475976   33.51%\n",
      "  73078  4593    infeasible             40.0000       26.8288  5558097   32.93%\n",
      "  73869  5429       34.0001    58       40.0000       26.9314  5644875   32.67%\n"
     ]
    },
    {
     "name": "stdout",
     "output_type": "stream",
     "text": [
      "  74747  6121       31.0009    66       40.0000       26.9991  5715043   32.50%\n",
      "  75917  6942       33.0000    54       40.0000       27.0000  5779012   32.50%\n",
      "  76678  7719       34.0000    77       40.0000       27.0042  5843535   32.49%\n",
      "  77877  8830       32.5000    95       40.0000       27.0173  5923719   32.46%\n",
      "  78977  9827       30.7222    83       40.0000       27.0175  6006760   32.46%\n",
      "  79988 10838       33.0001    79       40.0000       27.0350  6082972   32.41%\n",
      "Elapsed time = 103.63 sec. (62350.92 ticks, tree = 172.83 MB, solutions = 13)\n",
      "  81235 11658       31.0000   107       40.0000       27.0466  6154961   32.38%\n",
      "  82276 12650       32.0000    73       40.0000       27.0619  6225003   32.35%\n",
      "  83410 13591       32.0000   105       40.0000       27.0644  6302260   32.34%\n",
      "  84442 14451       33.0000   108       40.0000       27.0983  6369296   32.25%\n",
      "  85829 15812       30.2826   106       40.0000       27.1452  6452591   32.14%\n",
      "  86505 16550       30.2941   104       40.0000       27.1526  6528267   32.12%\n",
      "  87652 17683       31.0000   113       40.0000       27.1526  6610602   32.12%\n",
      "  88757 18562       30.4583    98       40.0000       27.2039  6687175   31.99%\n",
      "  89822 19667       30.4167   115       40.0000       27.2249  6749929   31.94%\n",
      "  90912 20618       34.0000   106       40.0000       27.3166  6827470   31.71%\n",
      "Elapsed time = 119.31 sec. (71897.84 ticks, tree = 355.01 MB, solutions = 13)\n",
      "  91862 21139       37.0000    32       40.0000       27.3333  6867427   31.67%\n",
      "  93078 22175       35.0002    62       40.0000       27.3883  6942028   31.53%\n",
      "  93846 23426       33.0000    91       40.0000       27.4508  7038939   31.37%\n",
      "  94817 24318       32.0000   123       40.0000       27.4667  7122307   31.33%\n",
      "  96057 25060       30.7179    95       40.0000       27.4742  7183283   31.31%\n",
      "  97178 26233       33.0000    89       40.0000       27.5000  7266524   31.25%\n",
      "  98320 27130       33.0000    68       40.0000       27.5000  7321270   31.25%\n",
      "  99118 28091       36.0000    96       40.0000       27.5000  7384884   31.25%\n",
      " 100156 29075       34.5000   103       40.0000       27.5000  7500012   31.25%\n",
      " 101272 30094       33.0000   101       40.0000       27.5137  7580567   31.22%\n",
      "Elapsed time = 134.82 sec. (81442.59 ticks, tree = 522.31 MB, solutions = 13)\n",
      " 102468 30526    infeasible             40.0000       27.5621  7612810   31.09%\n",
      " 103564 31855       32.2281    88       40.0000       27.5820  7701295   31.04%\n",
      " 104555 32666       31.0000   117       40.0000       27.6080  7766738   30.98%\n",
      " 105640 33817       34.0000   110       40.0000       27.6212  7864326   30.95%\n",
      " 106695 34491       32.0000   130       40.0000       27.6398  7916142   30.90%\n",
      " 107777 35316       33.0000   118       40.0000       27.6907  7987851   30.77%\n",
      " 108667 36184       32.7500    67       40.0000       27.7032  8042234   30.74%\n",
      " 109517 37187       31.0789   115       40.0000       27.7204  8140355   30.70%\n",
      " 110244 37854       38.0000   109       40.0000       27.7581  8216061   30.60%\n",
      " 114464 41379       35.0005    60       40.0000       27.8089  8521464   30.48%\n",
      "Elapsed time = 154.56 sec. (93854.89 ticks, tree = 743.89 MB, solutions = 13)\n",
      " 117851 44693       33.0000    91       40.0000       27.9225  8837278   30.19%\n",
      " 122032 48605       34.0000   106       40.0000       28.0000  9146599   30.00%\n",
      " 126478 52564       36.0000   103       40.0000       28.0000  9450483   30.00%\n",
      " 129649 55971       36.8000    99       40.0000       28.0000  9823884   30.00%\n",
      " 133019 58302       33.0000    56       40.0000       28.0070 10102309   29.98%\n",
      " 136454 61589       35.0000    50       40.0000       28.0248 10463278   29.94%\n",
      " 139741 64915       33.2620    86       40.0000       28.0365 10831075   29.91%\n",
      " 143202 67620       36.0001    55       40.0000       28.0696 11098143   29.83%\n",
      " 146324 70776       36.0000    81       40.0000       28.0900 11453593   29.77%\n",
      " 149238 73358       32.8000    96       40.0000       28.1667 11782963   29.58%\n",
      "Elapsed time = 214.47 sec. (132025.17 ticks, tree = 1338.57 MB, solutions = 13)\n",
      " 152427 76219       30.4008   116       40.0000       28.2184 12153822   29.45%\n",
      " 155708 78643       35.0000    67       40.0000       28.2500 12404498   29.37%\n",
      " 159018 82244       33.5000   113       40.0000       28.2922 12778591   29.27%\n",
      " 162357 84871       37.5000   124       40.0000       28.3448 13097146   29.14%\n",
      " 165198 87308       34.0000   111       40.0000       28.4498 13399695   28.88%\n",
      " 168248 90587       35.2500    89       40.0000       28.4949 13787586   28.76%\n",
      " 171273 92988       33.0000   121       40.0000       28.5000 14081362   28.75%\n",
      " 174747 95570        cutoff             40.0000       28.5000 14364740   28.75%\n",
      " 177862 98245       34.8334    77       40.0000       28.5210 14681995   28.70%\n",
      " 180389 100702       37.1111    82       40.0000       28.5621 15040231   28.59%\n",
      "Elapsed time = 271.64 sec. (170185.91 ticks, tree = 1863.45 MB, solutions = 13)\n",
      " 182955 102994       37.0000    89       40.0000       28.5833 15368467   28.54%\n",
      " 185377 105380       37.5000    83       40.0000       28.6250 15750615   28.44%\n",
      " 188095 107414       36.3333    90       40.0000       28.6667 16039574   28.33%\n",
      " 191063 110486       35.1494   118       40.0000       28.7022 16401474   28.24%\n",
      " 193629 112451       32.5689   107       40.0000       28.7500 16663589   28.12%\n",
      " 195776 114611       38.0000   115       40.0000       28.7951 17008834   28.01%\n",
      " 198003 116595       36.7990   103       40.0000       28.8478 17330510   27.88%\n",
      " 200343 118637       37.0000    60       40.0000       28.8950 17668604   27.76%\n",
      " 202835 120162       38.0000    76       40.0000       28.9445 17891878   27.64%\n",
      " 204841 122000       32.1025   110       40.0000       28.9787 18214037   27.55%\n",
      "Elapsed time = 331.15 sec. (208374.03 ticks, tree = 2270.82 MB, solutions = 13)\n",
      "Nodefile size = 223.08 MB (203.06 MB after compression)\n",
      " 206996 123607       35.5000    90       40.0000       29.0000 18530699   27.50%\n",
      " 208842 125624       38.3333   103       40.0000       29.0000 18923838   27.50%\n",
      " 211171 127390       37.4167    78       40.0000       29.0000 19231281   27.50%\n",
      " 213523 128897       39.0000   102       40.0000       29.0000 19486840   27.50%\n",
      " 215821 130754       36.7500    71       40.0000       29.0000 19804054   27.50%\n",
      " 218510 132704       35.0000    67       40.0000       29.0000 20172469   27.50%\n",
      " 221025 134603       32.5000    85       40.0000       29.0001 20487630   27.50%\n",
      " 223500 136606       34.5882    89       40.0000       29.0037 20829050   27.49%\n",
      " 225820 138150       35.0000    66       40.0000       29.0080 21113167   27.48%\n",
      " 228306 140460        cutoff             40.0000       29.0139 21437788   27.47%\n",
      "Elapsed time = 393.13 sec. (246538.38 ticks, tree = 2634.34 MB, solutions = 13)\n",
      "Nodefile size = 587.34 MB (535.61 MB after compression)\n",
      " 230600 142664        cutoff             40.0000       29.0197 21804418   27.45%\n",
      " 232781 144091       36.9688    92       40.0000       29.0281 22045479   27.43%\n",
      " 235055 145830       33.7000    95       40.0000       29.0370 22399006   27.41%\n",
      " 237363 148027       36.2500    90       40.0000       29.0514 22775221   27.37%\n",
      " 239731 150053       35.1440   122       40.0000       29.0650 23114911   27.34%\n",
      " 242128 151160       38.5000    61       40.0000       29.0814 23352086   27.30%\n",
      " 244511 153096       38.0000    97       40.0000       29.1000 23673469   27.25%\n",
      " 246698 155336       35.0000    88       40.0000       29.1176 24038156   27.21%\n",
      " 249158 157279       38.0000    77       40.0000       29.1424 24382816   27.14%\n",
      " 251367 158959       37.7158   120       40.0000       29.1667 24649149   27.08%\n",
      "Elapsed time = 456.48 sec. (284706.48 ticks, tree = 3001.19 MB, solutions = 13)\n",
      "Nodefile size = 953.20 MB (868.56 MB after compression)\n",
      " 253722 160848       34.6250   114       40.0000       29.1798 24987342   27.05%\n",
      " 256215 163158       30.3313   103       40.0000       29.1983 25335040   27.00%\n",
      " 258507 164864       35.5000    65       40.0000       29.2494 25582309   26.88%\n",
      " 260850 166864       34.0707   106       40.0000       29.2693 25915543   26.83%\n"
     ]
    },
    {
     "name": "stdout",
     "output_type": "stream",
     "text": [
      " 263078 169004       33.8955    90       40.0000       29.3095 26228378   26.73%\n",
      " 265446 170459       36.0000    50       40.0000       29.3248 26515044   26.69%\n",
      " 267989 172376       38.0000    89       40.0000       29.3523 26826355   26.62%\n",
      " 269985 174888       38.5012   104       40.0000       29.3832 27184237   26.54%\n",
      " 271862 176296       36.0000   102       40.0000       29.4123 27506821   26.47%\n",
      " 274100 177841       33.7925    79       40.0000       29.4310 27777363   26.42%\n",
      "Elapsed time = 520.35 sec. (322877.61 ticks, tree = 3409.30 MB, solutions = 13)\n",
      "Nodefile size = 1361.30 MB (1242.69 MB after compression)\n",
      " 275791 179736       37.0000    77       40.0000       29.4625 28096281   26.34%\n",
      " 277853 181014       38.0000    94       40.0000       29.4857 28379213   26.29%\n",
      " 279888 183165       36.5000    91       40.0000       29.5000 28759488   26.25%\n",
      " 281847 184866       34.9524    77       40.0000       29.5000 29068250   26.25%\n",
      " 283936 185853       38.0000    80       40.0000       29.5000 29309009   26.25%\n",
      " 285825 187005       37.0000    75       40.0000       29.5012 29588941   26.25%\n",
      " 287521 188399       38.7692    73       40.0000       29.5168 29899146   26.21%\n",
      " 289121 190137       38.8750    88       40.0000       29.5372 30331965   26.16%\n",
      " 291495 191840       31.0483    93       40.0000       29.5580 30604624   26.11%\n",
      " 293068 193371       38.7500   106       40.0000       29.5906 30930988   26.02%\n",
      "Elapsed time = 582.57 sec. (361052.68 ticks, tree = 3725.98 MB, solutions = 13)\n",
      "Nodefile size = 1678.48 MB (1533.47 MB after compression)\n",
      " 295515 195180       29.8120   122       40.0000       29.6000 31259570   26.00%\n",
      " 296992 196240       36.8333   114       40.0000       29.6192 31449786   25.95%\n",
      " 298824 197886       37.6154    99       40.0000       29.6368 31874842   25.91%\n",
      " 300410 199105       30.7818   130       40.0000       29.6526 32150194   25.87%\n",
      " 302210 200249       37.2500   100       40.0000       29.6667 32414796   25.83%\n",
      " 304392 201958       35.3333    64       40.0000       29.6777 32748352   25.81%\n",
      " 306315 203440       35.0780   112       40.0000       29.6939 32994431   25.77%\n",
      " 308170 205717       30.9132    96       40.0000       29.7017 33415774   25.75%\n",
      " 310197 206991       38.0000    75       40.0000       29.7146 33652524   25.71%\n",
      " 312326 209001        cutoff             40.0000       29.7351 34023916   25.66%\n",
      "Elapsed time = 645.35 sec. (399231.24 ticks, tree = 4051.29 MB, solutions = 13)\n",
      "Nodefile size = 2003.91 MB (1832.69 MB after compression)\n",
      " 314524 210105       33.5756   103       40.0000       29.7443 34185014   25.64%\n",
      " 316598 212171       35.9167    99       40.0000       29.7508 34490572   25.62%\n",
      " 318412 213798       35.5833    58       40.0000       29.7662 34855633   25.58%\n",
      " 320422 215474       37.5000    56       40.0000       29.7860 35171256   25.53%\n",
      " 322058 217204       38.0000    80       40.0000       29.8000 35466080   25.50%\n",
      " 323789 218127       37.2500    78       40.0000       29.8173 35747235   25.46%\n",
      " 325336 219488        cutoff             40.0000       29.8276 36004329   25.43%\n",
      " 327043 220992       33.7973   106       40.0000       29.8476 36375738   25.38%\n",
      " 328612 222570       34.1875   102       40.0000       29.8599 36733010   25.35%\n",
      " 330526 223993        cutoff             40.0000       29.8674 37014677   25.33%\n",
      "Elapsed time = 708.66 sec. (437409.58 ticks, tree = 4364.22 MB, solutions = 13)\n",
      "Nodefile size = 2316.55 MB (2119.24 MB after compression)\n",
      " 331821 225018       35.9665    86       40.0000       29.8771 37244436   25.31%\n",
      " 333401 226370       36.0000    66       40.0000       29.8957 37627110   25.26%\n",
      " 335305 227815       36.0000    79       40.0000       29.9139 37910459   25.22%\n",
      " 337282 228951       35.0098    88       40.0000       29.9258 38110265   25.19%\n",
      " 338999 230702       38.0556    79       40.0000       29.9277 38466544   25.18%\n",
      " 341040 231952       38.0000    82       40.0000       29.9492 38694756   25.13%\n",
      " 342928 234404       38.0000    95       40.0000       29.9667 39132843   25.08%\n",
      " 344549 235538        cutoff             40.0000       29.9793 39346405   25.05%\n",
      " 346054 237072        cutoff             40.0000       29.9889 39722200   25.03%\n",
      " 347724 237801       38.7500    98       40.0000       30.0000 39910686   25.00%\n",
      "Elapsed time = 770.84 sec. (475578.95 ticks, tree = 4658.16 MB, solutions = 13)\n",
      "Nodefile size = 2610.41 MB (2390.09 MB after compression)\n",
      " 349304 239648       36.3333    84       40.0000       30.0000 40311787   25.00%\n",
      " 351225 240542       35.0000    84       40.0000       30.0000 40533060   25.00%\n",
      " 353609 242213       38.9286    79       40.0000       30.0000 40835640   25.00%\n",
      " 355823 244573        cutoff             40.0000       30.0000 41179324   25.00%\n",
      " 357911 245997       38.0000    75       40.0000       30.0000 41441648   25.00%\n",
      " 360113 247563       38.0000    70       40.0000       30.0000 41685204   25.00%\n",
      " 362157 249836       35.0000    82       40.0000       30.0000 42083603   25.00%\n",
      " 364290 250744       35.3750    96       40.0000       30.0000 42268707   25.00%\n",
      " 366055 252392       38.0000    90       40.0000       30.0000 42657110   25.00%\n",
      " 368122 253940       38.0000   102       40.0000       30.0000 43021665   25.00%\n",
      "Elapsed time = 833.21 sec. (513745.76 ticks, tree = 4987.08 MB, solutions = 13)\n",
      "Nodefile size = 2940.03 MB (2693.94 MB after compression)\n",
      " 370231 254950       37.9333    73       40.0000       30.0000 43267791   25.00%\n",
      " 372027 256050       35.5006    84       40.0000       30.0000 43546552   25.00%\n",
      " 373531 257174       38.5000   108       40.0000       30.0001 43905621   25.00%\n",
      " 375399 258674       37.0000    51       40.0000       30.0018 44275825   25.00%\n",
      " 377644 259893        cutoff             40.0000       30.0041 44505109   24.99%\n",
      " 379669 261470       38.5000    62       40.0000       30.0076 44781211   24.98%\n",
      " 381528 262875       37.8000    70       40.0000       30.0115 45069062   24.97%\n",
      " 383489 264780       37.0000   107       40.0000       30.0156 45445978   24.96%\n",
      " 385415 265756       35.5000    46       40.0000       30.0193 45646145   24.95%\n",
      " 387284 267583        cutoff             40.0000       30.0247 46029273   24.94%\n",
      "Elapsed time = 895.40 sec. (551913.31 ticks, tree = 5262.78 MB, solutions = 13)\n",
      "Nodefile size = 3214.84 MB (2947.51 MB after compression)\n",
      " 389001 269189       38.0000    78       40.0000       30.0286 46383594   24.93%\n",
      " 390798 269809       36.2500    72       40.0000       30.0328 46552119   24.92%\n",
      " 392768 271942       38.0000    52       40.0000       30.0396 46951536   24.90%\n",
      " 394271 272993       38.0000    68       40.0000       30.0449 47180379   24.89%\n",
      " 395842 273918        cutoff             40.0000       30.0480 47459283   24.88%\n",
      " 397765 275657    infeasible             40.0000       30.0540 47845335   24.87%\n",
      " 399470 277268       38.8519   114       40.0000       30.0593 48190851   24.85%\n",
      " 401125 277961       38.0001    49       40.0000       30.0644 48336929   24.84%\n",
      " 403074 279731       38.0000    89       40.0000       30.0715 48728169   24.82%\n",
      " 404934 281363       34.6867    51       40.0000       30.0787 49060192   24.80%\n",
      "Elapsed time = 957.77 sec. (590084.17 ticks, tree = 5571.74 MB, solutions = 13)\n",
      "Nodefile size = 3524.40 MB (3233.66 MB after compression)\n",
      " 406611 282520       36.0000    81       40.0000       30.0844 49275414   24.79%\n",
      " 408266 283906       37.2500    50       40.0000       30.0915 49621470   24.77%\n",
      " 410055 285086       36.2500    78       40.0000       30.0989 49879788   24.75%\n",
      " 412009 286490       38.6667    63       40.0000       30.1045 50132371   24.74%\n",
      " 413618 288280       31.6700   100       40.0000       30.1103 50530430   24.72%\n",
      " 415240 289288       36.0000    67       40.0000       30.1176 50768446   24.71%\n",
      " 416819 290578       37.5000    94       40.0000       30.1235 51039052   24.69%\n",
      " 418475 291842       33.5000    68       40.0000       30.1261 51380486   24.68%\n",
      " 420235 293094       36.0000    52       40.0000       30.1324 51641108   24.67%\n",
      " 421781 294826       34.0921   119       40.0000       30.1380 51993344   24.65%\n",
      "Elapsed time = 1018.90 sec. (628263.88 ticks, tree = 5867.36 MB, solutions = 13)\n",
      "Nodefile size = 3819.61 MB (3506.98 MB after compression)\n"
     ]
    },
    {
     "name": "stdout",
     "output_type": "stream",
     "text": [
      " 423208 295628       34.6361    94       40.0000       30.1433 52235752   24.64%\n",
      " 424941 296978       36.7000    81       40.0000       30.1492 52542332   24.63%\n",
      " 426456 298281       38.0000    44       40.0000       30.1571 52791039   24.61%\n",
      " 428220 299561       33.1552    73       40.0000       30.1613 53133892   24.60%\n",
      " 429769 300293       37.1735   114       40.0000       30.1667 53311821   24.58%\n",
      " 431658 302672       37.0000    44       40.0000       30.1755 53811781   24.56%\n",
      " 433366 303730        cutoff             40.0000       30.1797 54036603   24.55%\n",
      " 434933 304532       37.0000    71       40.0000       30.1851 54183683   24.54%\n",
      " 436420 306163       38.0000    79       40.0000       30.1924 54558374   24.52%\n",
      " 438001 306985       38.5417    82       40.0000       30.1979 54789418   24.51%\n",
      "Elapsed time = 1080.13 sec. (666434.86 ticks, tree = 6132.32 MB, solutions = 13)\n",
      "Nodefile size = 4084.39 MB (3752.32 MB after compression)\n",
      " 439636 308715       38.9592    98       40.0000       30.2043 55178748   24.49%\n",
      " 440951 309876    infeasible             40.0000       30.2125 55532926   24.47%\n",
      " 442183 310833       36.0000    72       40.0000       30.2201 55824060   24.45%\n",
      " 443723 311833       37.0000   111       40.0000       30.2258 56044823   24.44%\n",
      " 445051 312972        cutoff             40.0000       30.2315 56376048   24.42%\n",
      " 446185 313919       38.4167    70       40.0000       30.2366 56651043   24.41%\n",
      " 447591 314919       38.1667    65       40.0000       30.2414 56944167   24.40%\n",
      " 449091 315881       38.5000   103       40.0000       30.2482 57226037   24.38%\n",
      " 450380 316778       37.5000    66       40.0000       30.2502 57481670   24.37%\n",
      " 451647 317718       37.0000    57       40.0000       30.2591 57732128   24.35%\n",
      "Elapsed time = 1141.66 sec. (704643.94 ticks, tree = 6367.40 MB, solutions = 13)\n",
      "Nodefile size = 4320.02 MB (3970.52 MB after compression)\n",
      " 453121 318973       30.3006   127       40.0000       30.2646 58105998   24.34%\n",
      " 454471 320087       31.2864   118       40.0000       30.2686 58442123   24.33%\n",
      " 456126 320617       37.5500    62       40.0000       30.2751 58602406   24.31%\n",
      " 457675 322749        cutoff             40.0000       30.2809 59003797   24.30%\n",
      " 459411 323350       32.8704   126       40.0000       30.2866 59186191   24.28%\n",
      " 461132 325025       33.3366   110       40.0000       30.2914 59484806   24.27%\n",
      " 462590 326758        cutoff             40.0000       30.2976 59894936   24.26%\n",
      " 464028 328105       36.0000    71       40.0000       30.3026 60236919   24.24%\n",
      " 465591 329094       37.0000    52       40.0000       30.3084 60441978   24.23%\n",
      " 466944 329721       37.2065   101       40.0000       30.3156 60630364   24.21%\n",
      "Elapsed time = 1204.38 sec. (742811.55 ticks, tree = 6625.78 MB, solutions = 13)\n",
      "Nodefile size = 4578.65 MB (4210.14 MB after compression)\n",
      " 468106 331194       32.2721   103       40.0000       30.3263 61024908   24.18%\n",
      " 469319 332005       37.7000    84       40.0000       30.3328 61316765   24.17%\n",
      " 470722 332443       37.1000    97       40.0000       30.3333 61501763   24.17%\n",
      " 471670 334169       36.7500    90       40.0000       30.3385 62034719   24.15%\n",
      " 473316 334545       35.8333    98       40.0000       30.3438 62146044   24.14%\n",
      " 475073 336017       38.8571    67       40.0000       30.3464 62490252   24.13%\n",
      " 476595 336960       38.2500    65       40.0000       30.3522 62676871   24.12%\n",
      " 477874 338513       37.1111    82       40.0000       30.3589 63037867   24.10%\n",
      " 479130 339879       37.5731    91       40.0000       30.3643 63437725   24.09%\n",
      " 480468 340788       32.4098    86       40.0000       30.3708 63734022   24.07%\n",
      "Elapsed time = 1265.63 sec. (781007.46 ticks, tree = 6861.31 MB, solutions = 13)\n",
      "Nodefile size = 4814.15 MB (4428.78 MB after compression)\n",
      " 481893 341368       38.7500    82       40.0000       30.3750 63894841   24.06%\n",
      " 483069 342549        cutoff             40.0000       30.3805 64216553   24.05%\n",
      " 484227 343368        cutoff             40.0000       30.3884 64481071   24.03%\n",
      " 485417 344689       35.7524   100       40.0000       30.3940 64872318   24.02%\n",
      " 486644 345822       33.1237    95       40.0000       30.3983 65204183   24.00%\n",
      " 487953 346216       32.5160   110       40.0000       30.4006 65401628   24.00%\n",
      " 489111 347182       38.5260   117       40.0000       30.4067 65645402   23.98%\n",
      " 490413 348174       36.0831   117       40.0000       30.4134 65987748   23.97%\n",
      " 491770 349552       32.3015    88       40.0000       30.4182 66348466   23.95%\n",
      " 492989 350036       36.6500    58       40.0000       30.4249 66516271   23.94%\n",
      "Elapsed time = 1330.29 sec. (819241.17 ticks, tree = 7086.79 MB, solutions = 13)\n",
      "Nodefile size = 5038.87 MB (4637.49 MB after compression)\n",
      " 494021 350743       36.2564    84       40.0000       30.4286 66727590   23.93%\n",
      " 495137 352058       35.3846    75       40.0000       30.4345 67158979   23.91%\n",
      " 496364 352778       35.0370   106       40.0000       30.4401 67379785   23.90%\n",
      " 497516 353511       37.6972    99       40.0000       30.4446 67625637   23.89%\n",
      " 498691 354752       35.3000    95       40.0000       30.4504 68041570   23.87%\n",
      " 499987 355063       31.2487   109       40.0000       30.4557 68155280   23.86%\n",
      " 501542 356453       35.3922    93       40.0000       30.4611 68541963   23.85%\n",
      " 502576 357709       33.5000    74       40.0000       30.4669 68826610   23.83%\n",
      " 504089 358470       38.0000    78       40.0000       30.4701 69079492   23.82%\n",
      " 505176 359771       33.9338   106       40.0000       30.4764 69469430   23.81%\n",
      "Elapsed time = 1393.48 sec. (857447.27 ticks, tree = 7291.56 MB, solutions = 13)\n",
      "Nodefile size = 5244.37 MB (4827.65 MB after compression)\n",
      " 506356 360237       37.1121    80       40.0000       30.4813 69671654   23.80%\n",
      " 507273 361308       38.0415    81       40.0000       30.4847 70014567   23.79%\n",
      " 508482 362019       33.4198   110       40.0000       30.4880 70244610   23.78%\n",
      " 509266 362660        cutoff             40.0000       30.4939 70467260   23.77%\n",
      " 510477 363258       35.2232    65       40.0000       30.4985 70784721   23.75%\n",
      " 511938 364346       36.4007    82       40.0000       30.5000 71116732   23.75%\n",
      " 513063 365401       33.2917    79       40.0000       30.5000 71547051   23.75%\n",
      " 514123 365881       37.0000    73       40.0000       30.5000 71820760   23.75%\n",
      " 515421 366187       36.0494    90       40.0000       30.5000 71905695   23.75%\n",
      " 516630 367400       38.6287   103       40.0000       30.5043 72354403   23.74%\n",
      "Elapsed time = 1456.10 sec. (895625.64 ticks, tree = 7460.04 MB, solutions = 13)\n",
      "Nodefile size = 5412.60 MB (4984.19 MB after compression)\n",
      " 517638 368009       38.9394    89       40.0000       30.5080 72532122   23.73%\n",
      " 518744 369033       31.1730    89       40.0000       30.5133 72970538   23.72%\n",
      " 519987 369785       38.0000    45       40.0000       30.5185 73177596   23.70%\n",
      " 521212 371021       37.5000    68       40.0000       30.5224 73550324   23.69%\n",
      " 522851 371670       38.0000    61       40.0000       30.5271 73788197   23.68%\n",
      " 523992 372960       38.9583    71       40.0000       30.5311 74146821   23.67%\n",
      " 525363 373242       33.2251   102       40.0000       30.5357 74239598   23.66%\n",
      " 526432 374879       38.0000    74       40.0000       30.5414 74670870   23.65%\n",
      " 527347 375685       37.6667    73       40.0000       30.5463 74962067   23.63%\n",
      " 528540 376294       38.8553    90       40.0000       30.5464 75251808   23.63%\n",
      "Elapsed time = 1518.53 sec. (933811.02 ticks, tree = 7678.00 MB, solutions = 13)\n",
      "Nodefile size = 5630.01 MB (5186.52 MB after compression)\n",
      " 529603 376867       37.0000    63       40.0000       30.5527 75433062   23.62%\n",
      " 530848 377914       36.5000   100       40.0000       30.5556 75785047   23.61%\n",
      " 532066 378397       33.1313   108       40.0000       30.5574 75941698   23.61%\n",
      " 533392 379558       36.8571   119       40.0000       30.5610 76296861   23.60%\n",
      " 534328 380571       33.9524   100       40.0000       30.5654 76672912   23.59%\n",
      " 535476 381458       31.1377   102       40.0000       30.5683 76987875   23.58%\n",
      " 536536 382294       38.7500    67       40.0000       30.5714 77292792   23.57%\n"
     ]
    },
    {
     "name": "stdout",
     "output_type": "stream",
     "text": [
      " 537762 383123       38.2574   121       40.0000       30.5735 77528384   23.57%\n",
      " 539128 383637       35.6190    91       40.0000       30.5754 77737510   23.56%\n",
      " 540195 384690       36.0000    52       40.0000       30.5804 78075188   23.55%\n",
      "Elapsed time = 1582.76 sec. (972016.02 ticks, tree = 7893.91 MB, solutions = 13)\n",
      "Nodefile size = 5846.06 MB (5388.57 MB after compression)\n",
      " 541165 385683       32.1729   115       40.0000       30.5833 78409410   23.54%\n",
      " 542701 386606       34.3810    58       40.0000       30.5855 78713803   23.54%\n",
      " 543675 387272       38.8000    66       40.0000       30.5878 78936975   23.53%\n",
      " 544725 387851       38.2500    69       40.0000       30.5908 79111513   23.52%\n",
      " 545793 388678        cutoff             40.0000       30.5943 79448645   23.51%\n",
      " 546843 389937       38.6667    69       40.0000       30.5969 79834416   23.51%\n",
      " 548077 390521       36.9000    76       40.0000       30.6000 80083776   23.50%\n",
      " 548955 391407       37.7857    68       40.0000       30.6032 80397142   23.49%\n",
      " 550022 391713        cutoff             40.0000       30.6054 80519083   23.49%\n",
      " 551209 392674       37.8333    64       40.0000       30.6103 80864825   23.47%\n",
      "Elapsed time = 1646.77 sec. (1010205.91 ticks, tree = 8083.72 MB, solutions = 13)\n",
      "Nodefile size = 6036.47 MB (5566.08 MB after compression)\n",
      " 552217 393376       32.1847   126       40.0000       30.6135 81146760   23.47%\n",
      " 553491 394137       37.0000    35       40.0000       30.6177 81358362   23.46%\n",
      " 554508 395396       38.2917    86       40.0000       30.6215 81783487   23.45%\n",
      " 555638 396014       32.1556   106       40.0000       30.6240 82095279   23.44%\n",
      " 556653 396583       35.7500    59       40.0000       30.6262 82301458   23.43%\n",
      " 557540 397307       33.3436   101       40.0000       30.6298 82549782   23.43%\n",
      " 558635 397607       33.6107   122       40.0000       30.6328 82731340   23.42%\n",
      " 559682 398854       31.4063    98       40.0000       30.6351 83216494   23.41%\n",
      " 560664 399511       35.9663   103       40.0000       30.6375 83435521   23.41%\n",
      " 561470 400140       34.7512    93       40.0000       30.6412 83618721   23.40%\n",
      "Elapsed time = 1710.05 sec. (1048389.63 ticks, tree = 8267.04 MB, solutions = 13)\n",
      "Nodefile size = 6219.67 MB (5737.19 MB after compression)\n",
      " 562609 400916       31.5718   121       40.0000       30.6446 84061773   23.39%\n",
      " 563743 401409       30.6532   121       40.0000       30.6467 84220044   23.38%\n",
      " 564810 402559       35.1069    87       40.0000       30.6500 84634215   23.37%\n",
      " 566038 403531       33.9433    97       40.0000       30.6526 84920997   23.37%\n",
      " 567052 403886       35.7566    77       40.0000       30.6548 85014387   23.36%\n",
      " 568021 404778       33.4476    95       40.0000       30.6579 85350642   23.36%\n",
      " 569233 405723       38.5000    56       40.0000       30.6587 85741048   23.35%\n",
      " 570195 406041       38.6745   100       40.0000       30.6626 85924414   23.34%\n",
      " 571224 407160        cutoff             40.0000       30.6667 86180709   23.33%\n",
      " 572180 407745       36.8438    90       40.0000       30.6667 86475163   23.33%\n",
      "Elapsed time = 1774.19 sec. (1086584.57 ticks, tree = 8451.11 MB, solutions = 13)\n",
      "Nodefile size = 6403.57 MB (5908.92 MB after compression)\n",
      " 573406 408850       33.8456    76       40.0000       30.6686 86904619   23.33%\n",
      " 574589 409072       35.5000    91       40.0000       30.6718 87021584   23.32%\n",
      " 575732 410686       38.9091    81       40.0000       30.6737 87558762   23.32%\n",
      " 576843 411241       32.8782    99       40.0000       30.6766 87722389   23.31%\n",
      " 577874 411772       38.8889    71       40.0000       30.6798 87912016   23.30%\n",
      " 578959 412514       38.5833    80       40.0000       30.6821 88205948   23.29%\n",
      " 579937 413339       33.7892   116       40.0000       30.6833 88538138   23.29%\n",
      " 581364 414787       38.0000    85       40.0000       30.6857 88977443   23.29%\n",
      " 582632 415821       33.6029   119       40.0000       30.6884 89297541   23.28%\n",
      " 583498 416526        cutoff             40.0000       30.6907 89532383   23.27%\n",
      "Elapsed time = 1838.06 sec. (1124762.78 ticks, tree = 8661.36 MB, solutions = 13)\n",
      "Nodefile size = 6614.08 MB (6105.78 MB after compression)\n",
      " 584586 417102        cutoff             40.0000       30.6917 89728013   23.27%\n",
      " 585616 417740       36.8015    93       40.0000       30.6945 90019716   23.26%\n",
      " 586500 418805       36.5000    89       40.0000       30.6972 90464245   23.26%\n",
      " 587765 419377       30.7566   126       40.0000       30.6991 90663061   23.25%\n",
      " 588900 419665       38.0000    80       40.0000       30.7005 90770397   23.25%\n",
      " 589866 420908       35.2712    77       40.0000       30.7037 91136898   23.24%\n",
      " 590945 421586        cutoff             40.0000       30.7062 91477533   23.23%\n",
      " 591937 422332       35.8329   109       40.0000       30.7070 91749326   23.23%\n",
      " 592963 423073       36.2500    83       40.0000       30.7091 92057565   23.23%\n",
      " 594043 423945       38.2333    94       40.0000       30.7111 92393409   23.22%\n",
      "Elapsed time = 1901.61 sec. (1162935.85 ticks, tree = 8825.52 MB, solutions = 13)\n",
      "Nodefile size = 6777.76 MB (6258.12 MB after compression)\n",
      " 595370 424445       31.7692    96       40.0000       30.7143 92556814   23.21%\n",
      " 596302 425516       38.0000    62       40.0000       30.7169 92859052   23.21%\n",
      " 597160 426090       37.5000    78       40.0000       30.7194 93126994   23.20%\n",
      " 598039 426603       37.3287   107       40.0000       30.7218 93361297   23.20%\n",
      " 599051 427515       38.7500    87       40.0000       30.7238 93809270   23.19%\n",
      " 599919 427973       32.0518   105       40.0000       30.7261 93971052   23.18%\n",
      " 600848 428762       36.5808    71       40.0000       30.7288 94266910   23.18%\n",
      " 601806 429207       33.8425    97       40.0000       30.7322 94450112   23.17%\n",
      " 602669 429971       32.0418    86       40.0000       30.7342 94816142   23.16%\n",
      " 603801 430670       37.7979    95       40.0000       30.7359 95165430   23.16%\n",
      "Elapsed time = 1965.49 sec. (1201132.48 ticks, tree = 8986.11 MB, solutions = 13)\n",
      "Nodefile size = 6939.07 MB (6409.14 MB after compression)\n",
      " 604705 431527       35.7941    73       40.0000       30.7386 95480994   23.15%\n",
      " 605503 431712       36.1154    91       40.0000       30.7418 95613355   23.15%\n",
      " 606575 432624       36.9548    90       40.0000       30.7441 96033030   23.14%\n",
      " 607800 432965       34.1092   130       40.0000       30.7457 96202178   23.14%\n",
      " 608673 433867       32.5231   101       40.0000       30.7470 96513920   23.13%\n",
      " 609700 434752        cutoff             40.0000       30.7489 96869390   23.13%\n",
      " 610946 435397       36.2500   101       40.0000       30.7500 97101180   23.12%\n",
      " 611982 436367       37.3194   102       40.0000       30.7515 97454844   23.12%\n",
      " 612901 436529       37.9000    92       40.0000       30.7543 97526618   23.11%\n",
      " 613897 437290       37.0013    72       40.0000       30.7564 97772475   23.11%\n",
      "Elapsed time = 2029.77 sec. (1239342.28 ticks, tree = 9162.01 MB, solutions = 13)\n",
      "Nodefile size = 7114.93 MB (6574.01 MB after compression)\n",
      " 614823 438264       32.8699    96       40.0000       30.7587 98169323   23.10%\n",
      " 615658 439090       38.9500    91       40.0000       30.7602 98562641   23.10%\n",
      " 616645 439589       31.6721    89       40.0000       30.7620 98847956   23.10%\n",
      " 617552 440130       32.2166    96       40.0000       30.7641 99096423   23.09%\n",
      " 618571 440684       33.7072   112       40.0000       30.7659 99308313   23.09%\n",
      " 619654 441444       35.3891    99       40.0000       30.7679 99665935   23.08%\n",
      " 620429 441821       38.0000    49       40.0000       30.7701 99766138   23.07%\n",
      " 621122 442646       31.7948   102       40.0000       30.7728 1.00e+08   23.07%\n",
      " 621993 443357       36.6908    71       40.0000       30.7744 1.01e+08   23.06%\n",
      " 623088 443701       32.5795    96       40.0000       30.7761 1.01e+08   23.06%\n",
      "Elapsed time = 2094.48 sec. (1277544.59 ticks, tree = 9318.38 MB, solutions = 13)\n",
      "Nodefile size = 7271.14 MB (6720.43 MB after compression)\n",
      " 623911 444869       32.3718    82       40.0000       30.7774 1.01e+08   23.06%\n",
      " 624948 445055       35.1829   109       40.0000       30.7798 1.01e+08   23.05%\n"
     ]
    },
    {
     "name": "stdout",
     "output_type": "stream",
     "text": [
      " 626003 445534        cutoff             40.0000       30.7817 1.02e+08   23.05%\n",
      " 627064 446842       33.5226   100       40.0000       30.7840 1.02e+08   23.04%\n",
      " 627816 447485        cutoff             40.0000       30.7866 1.02e+08   23.03%\n",
      " 628638 447936       34.9804   126       40.0000       30.7893 1.03e+08   23.03%\n",
      " 629557 448261        cutoff             40.0000       30.7913 1.03e+08   23.02%\n",
      " 630732 448903       35.3009   118       40.0000       30.7939 1.03e+08   23.02%\n",
      " 631676 449728       37.6389    88       40.0000       30.7964 1.03e+08   23.01%\n",
      " 632529 449893       36.6800   100       40.0000       30.7992 1.03e+08   23.00%\n",
      "Elapsed time = 2158.93 sec. (1315725.45 ticks, tree = 9478.63 MB, solutions = 13)\n",
      "Nodefile size = 7431.05 MB (6870.16 MB after compression)\n",
      " 633448 450636       32.5447    84       40.0000       30.8005 1.04e+08   23.00%\n",
      " 634287 451657       31.0534   110       40.0000       30.8022 1.04e+08   22.99%\n",
      " 635469 452251       31.3867   123       40.0000       30.8059 1.04e+08   22.99%\n",
      " 636177 453010        cutoff             40.0000       30.8081 1.05e+08   22.98%\n",
      " 637191 453218       38.1667    95       40.0000       30.8100 1.05e+08   22.97%\n",
      " 638337 453988       36.5000    93       40.0000       30.8129 1.05e+08   22.97%\n",
      " 639368 455274       33.6355   110       40.0000       30.8144 1.06e+08   22.96%\n",
      " 640180 455942       36.2500    78       40.0000       30.8176 1.06e+08   22.96%\n",
      " 641135 456278       31.6888   107       40.0000       30.8195 1.06e+08   22.95%\n",
      " 641907 456707       32.4212   128       40.0000       30.8215 1.06e+08   22.95%\n",
      "Elapsed time = 2224.48 sec. (1353909.14 ticks, tree = 9645.05 MB, solutions = 13)\n",
      "Nodefile size = 7597.23 MB (7026.32 MB after compression)\n",
      " 642841 457111       38.7500    89       40.0000       30.8245 1.07e+08   22.94%\n",
      " 643834 457607       32.9878   124       40.0000       30.8266 1.07e+08   22.93%\n",
      " 644771 458968       38.9500    73       40.0000       30.8295 1.07e+08   22.93%\n",
      " 645547 459194        cutoff             40.0000       30.8310 1.07e+08   22.92%\n",
      " 646518 459707       33.8110    94       40.0000       30.8328 1.08e+08   22.92%\n",
      " 647528 460406       36.1304   104       40.0000       30.8335 1.08e+08   22.92%\n",
      " 648473 461416       34.9313    72       40.0000       30.8352 1.08e+08   22.91%\n",
      " 649445 462050       37.4543   101       40.0000       30.8377 1.09e+08   22.91%\n",
      " 650175 462445        cutoff             40.0000       30.8400 1.09e+08   22.90%\n",
      " 651065 462894       38.4242    77       40.0000       30.8427 1.09e+08   22.89%\n",
      "Elapsed time = 2288.78 sec. (1392102.13 ticks, tree = 9789.30 MB, solutions = 13)\n",
      "Nodefile size = 7741.95 MB (7161.77 MB after compression)\n",
      " 651897 463548        cutoff             40.0000       30.8453 1.10e+08   22.89%\n",
      " 652969 463912       33.7721    98       40.0000       30.8480 1.10e+08   22.88%\n",
      " 653769 464238       35.3931    72       40.0000       30.8501 1.10e+08   22.87%\n",
      " 654757 465286       33.0867   110       40.0000       30.8523 1.10e+08   22.87%\n",
      " 655420 466243        cutoff             40.0000       30.8554 1.11e+08   22.86%\n",
      " 656228 466288       36.2917    87       40.0000       30.8577 1.11e+08   22.86%\n",
      " 656990 467170       36.0962    94       40.0000       30.8594 1.11e+08   22.85%\n",
      " 657870 467289       33.3452    98       40.0000       30.8614 1.11e+08   22.85%\n",
      " 658862 468379       38.6667    91       40.0000       30.8636 1.12e+08   22.84%\n",
      " 659763 468784       35.8804   104       40.0000       30.8657 1.12e+08   22.84%\n",
      "Elapsed time = 2353.09 sec. (1430317.27 ticks, tree = 9933.57 MB, solutions = 13)\n",
      "Nodefile size = 7885.66 MB (7296.73 MB after compression)\n",
      " 660524 469120       36.5000    69       40.0000       30.8676 1.12e+08   22.83%\n",
      " 661637 469683        cutoff             40.0000       30.8698 1.12e+08   22.83%\n",
      " 662661 470519       38.0000    46       40.0000       30.8726 1.13e+08   22.82%\n",
      " 663487 471042       30.9309    94       40.0000       30.8752 1.13e+08   22.81%\n",
      " 664395 471947        cutoff             40.0000       30.8766 1.13e+08   22.81%\n",
      " 665343 472287       34.9045   111       40.0000       30.8787 1.14e+08   22.80%\n",
      " 666137 473237       34.8162   100       40.0000       30.8800 1.14e+08   22.80%\n",
      " 666877 473508       33.7241    89       40.0000       30.8822 1.14e+08   22.79%\n",
      " 668018 474003       33.3574    87       40.0000       30.8842 1.14e+08   22.79%\n",
      " 669050 474682       35.4710    77       40.0000       30.8865 1.15e+08   22.78%\n",
      "Elapsed time = 2417.93 sec. (1468486.22 ticks, tree = 10084.66 MB, solutions = 13)\n",
      "Nodefile size = 8037.28 MB (7438.65 MB after compression)\n",
      " 669945 475481       37.2500    67       40.0000       30.8881 1.15e+08   22.78%\n",
      " 670604 476547       36.8448    91       40.0000       30.8896 1.15e+08   22.78%\n",
      " 671412 476713       33.4318   108       40.0000       30.8922 1.16e+08   22.77%\n",
      " 672394 477173       35.4513   119       40.0000       30.8935 1.16e+08   22.77%\n",
      " 673370 478121       38.9167    81       40.0000       30.8955 1.16e+08   22.76%\n",
      " 674313 478761        cutoff             40.0000       30.8971 1.16e+08   22.76%\n",
      " 675187 479421       32.8085   106       40.0000       30.8996 1.17e+08   22.75%\n",
      " 675980 479939       38.8739    95       40.0000       30.9020 1.17e+08   22.75%\n",
      " 676890 480165       32.9667   106       40.0000       30.9036 1.17e+08   22.74%\n",
      " 677848 480722       35.1204    96       40.0000       30.9051 1.17e+08   22.74%\n",
      "Elapsed time = 2480.59 sec. (1506675.80 ticks, tree = 10232.51 MB, solutions = 13)\n",
      "Nodefile size = 8185.49 MB (7577.65 MB after compression)\n",
      " 678777 481284       34.6931   112       40.0000       30.9075 1.18e+08   22.73%\n",
      " 679679 481825       38.6785   100       40.0000       30.9090 1.18e+08   22.73%\n",
      " 680687 482873       35.5408   108       40.0000       30.9098 1.18e+08   22.73%\n",
      " 681586 483542        cutoff             40.0000       30.9119 1.19e+08   22.72%\n",
      " 682501 484442       37.2769    91       40.0000       30.9134 1.19e+08   22.72%\n",
      " 683656 484592       36.8694   142       40.0000       30.9141 1.19e+08   22.71%\n",
      " 684570 485670        cutoff             40.0000       30.9167 1.20e+08   22.71%\n",
      " 685617 485467       34.8452    91       40.0000       30.9186 1.20e+08   22.70%\n",
      " 686769 486596       38.0000   106       40.0000       30.9220 1.20e+08   22.70%\n",
      " 687668 487658        cutoff             40.0000       30.9240 1.20e+08   22.69%\n",
      "Elapsed time = 2546.26 sec. (1544880.32 ticks, tree = 10407.47 MB, solutions = 13)\n",
      "Nodefile size = 8359.76 MB (7740.94 MB after compression)\n",
      " 688504 488358       35.8500    61       40.0000       30.9254 1.21e+08   22.69%\n",
      " 689529 489006       37.0000    69       40.0000       30.9277 1.21e+08   22.68%\n",
      " 690506 489481       32.2371    98       40.0000       30.9295 1.21e+08   22.68%\n",
      " 691318 489676       34.1784   123       40.0000       30.9310 1.21e+08   22.67%\n",
      " 692310 490667       35.6019   104       40.0000       30.9329 1.22e+08   22.67%\n",
      " 693053 491583       33.7557    95       40.0000       30.9343 1.22e+08   22.66%\n",
      " 693789 492014       35.5000    77       40.0000       30.9358 1.22e+08   22.66%\n",
      " 694682 492000       38.7500    73       40.0000       30.9371 1.22e+08   22.66%\n",
      " 695647 492517       38.9744   103       40.0000       30.9395 1.23e+08   22.65%\n",
      " 696588 493270       38.5833    62       40.0000       30.9414 1.23e+08   22.65%\n",
      "Elapsed time = 2614.33 sec. (1583081.00 ticks, tree = 10558.89 MB, solutions = 13)\n",
      "Nodefile size = 8511.56 MB (7882.59 MB after compression)\n",
      " 697366 494070        cutoff             40.0000       30.9419 1.23e+08   22.65%\n",
      " 698238 494889       32.7433   101       40.0000       30.9439 1.24e+08   22.64%\n",
      " 699222 495327       32.8933    96       40.0000       30.9453 1.24e+08   22.64%\n",
      " 700119 496239       35.7276    93       40.0000       30.9470 1.24e+08   22.63%\n",
      " 701145 496461       33.2734    87       40.0000       30.9478 1.24e+08   22.63%\n",
      " 701939 496621       38.9829    86       40.0000       30.9504 1.25e+08   22.62%\n",
      " 702780 497706       33.7092   103       40.0000       30.9524 1.25e+08   22.62%\n",
      " 703684 498171       37.5000    75       40.0000       30.9549 1.25e+08   22.61%\n",
      " 704437 498789       33.5676    82       40.0000       30.9562 1.26e+08   22.61%\n"
     ]
    },
    {
     "name": "stdout",
     "output_type": "stream",
     "text": [
      " 705376 499364       33.7542    92       40.0000       30.9574 1.26e+08   22.61%\n",
      "Elapsed time = 2679.87 sec. (1621282.73 ticks, tree = 10689.26 MB, solutions = 13)\n",
      "Nodefile size = 8642.08 MB (8004.17 MB after compression)\n",
      " 706359 500076       37.0000    87       40.0000       30.9600 1.26e+08   22.60%\n",
      " 707282 500222       35.5867    75       40.0000       30.9612 1.26e+08   22.60%\n",
      " 708143 501153       38.8333   100       40.0000       30.9630 1.27e+08   22.59%\n",
      " 708957 501488       34.9681   109       40.0000       30.9654 1.27e+08   22.59%\n",
      " 709767 502181       37.5000    72       40.0000       30.9672 1.27e+08   22.58%\n",
      " 710738 502888       38.2595    90       40.0000       30.9692 1.28e+08   22.58%\n",
      " 711804 503196       35.3594    74       40.0000       30.9709 1.28e+08   22.57%\n",
      " 712629 504260       38.5000    56       40.0000       30.9729 1.28e+08   22.57%\n",
      " 713405 504444       38.0000   119       40.0000       30.9734 1.28e+08   22.57%\n",
      " 714374 505181       38.8214    84       40.0000       30.9748 1.29e+08   22.56%\n",
      "Elapsed time = 2746.57 sec. (1659501.07 ticks, tree = 10848.89 MB, solutions = 13)\n",
      "Nodefile size = 8801.04 MB (8152.78 MB after compression)\n",
      " 715258 505473        cutoff             40.0000       30.9768 1.29e+08   22.56%\n",
      " 716100 506563       33.8753   102       40.0000       30.9786 1.29e+08   22.55%\n",
      " 716899 506775       34.7138   108       40.0000       30.9800 1.29e+08   22.55%\n",
      " 717708 507679       37.0062    87       40.0000       30.9828 1.30e+08   22.54%\n",
      " 718712 507744        cutoff             40.0000       30.9845 1.30e+08   22.54%\n",
      " 719636 508293       37.7500    87       40.0000       30.9859 1.30e+08   22.54%\n",
      " 720453 508999       38.5000    95       40.0000       30.9881 1.30e+08   22.53%\n",
      " 721430 509737       38.9884   111       40.0000       30.9888 1.31e+08   22.53%\n",
      " 722108 510595       36.5000    76       40.0000       30.9908 1.31e+08   22.52%\n",
      " 722855 511023       31.7201    98       40.0000       30.9930 1.31e+08   22.52%\n",
      "Elapsed time = 2810.47 sec. (1697691.40 ticks, tree = 10993.07 MB, solutions = 13)\n",
      "Nodefile size = 8946.03 MB (8289.08 MB after compression)\n",
      " 723733 511192       37.2500    52       40.0000       30.9954 1.32e+08   22.51%\n",
      " 724504 511586       38.8614   112       40.0000       30.9965 1.32e+08   22.51%\n",
      " 725413 512387        cutoff             40.0000       30.9976 1.32e+08   22.51%\n",
      " 726511 513016       36.7500    92       40.0000       30.9989 1.32e+08   22.50%\n",
      " 727715 513678       35.6190    79       40.0000       31.0000 1.33e+08   22.50%\n",
      " 728675 513718       38.9513   107       40.0000       31.0000 1.33e+08   22.50%\n",
      " 729621 514667       37.1930   108       40.0000       31.0000 1.33e+08   22.50%\n",
      " 730688 514991       38.9857   116       40.0000       31.0000 1.33e+08   22.50%\n",
      " 731697 515116       35.7152    85       40.0000       31.0000 1.34e+08   22.50%\n",
      " 732818 516163       37.5989    95       40.0000       31.0000 1.34e+08   22.50%\n",
      "Elapsed time = 2873.98 sec. (1735876.06 ticks, tree = 11100.66 MB, solutions = 13)\n",
      "Nodefile size = 9053.54 MB (8390.49 MB after compression)\n",
      " 733982 516301       36.3274    78       40.0000       31.0000 1.34e+08   22.50%\n",
      " 735081 516647       37.2011   104       40.0000       31.0000 1.35e+08   22.50%\n",
      " 736369 517420       36.7663    70       40.0000       31.0000 1.35e+08   22.50%\n",
      " 737616 517823       36.8750    67       40.0000       31.0000 1.35e+08   22.50%\n",
      " 738652 518035       38.5000    82       40.0000       31.0000 1.35e+08   22.50%\n",
      " 739745 519188       38.5584   100       40.0000       31.0000 1.36e+08   22.50%\n",
      " 741153 519522    infeasible             40.0000       31.0000 1.36e+08   22.50%\n",
      " 742546 519614       38.5000    83       40.0000       31.0000 1.36e+08   22.50%\n",
      " 743908 520203       37.4167    73       40.0000       31.0000 1.36e+08   22.50%\n",
      " 745303 521105       38.6408   103       40.0000       31.0000 1.37e+08   22.50%\n",
      "Elapsed time = 2936.47 sec. (1774109.87 ticks, tree = 11223.19 MB, solutions = 13)\n",
      "Nodefile size = 9175.88 MB (8505.42 MB after compression)\n",
      " 746572 521020       35.6800    89       40.0000       31.0000 1.37e+08   22.50%\n",
      " 747558 521461       38.8333    82       40.0000       31.0000 1.37e+08   22.50%\n",
      " 748496 521998       36.7500    71       40.0000       31.0000 1.38e+08   22.50%\n",
      " 749840 522502       37.5920   125       40.0000       31.0000 1.38e+08   22.50%\n",
      " 750955 523115       35.9395   101       40.0000       31.0000 1.38e+08   22.50%\n",
      " 751982 523738       34.6020    95       40.0000       31.0000 1.39e+08   22.50%\n",
      " 753027 524207       32.4837   105       40.0000       31.0005 1.39e+08   22.50%\n",
      " 754108 525152       38.8333    55       40.0000       31.0017 1.39e+08   22.50%\n",
      " 755201 525751       38.0000    45       40.0000       31.0030 1.40e+08   22.49%\n",
      " 756365 526343       38.8725   106       40.0000       31.0041 1.40e+08   22.49%\n",
      "Elapsed time = 2998.39 sec. (1812283.72 ticks, tree = 11353.00 MB, solutions = 13)\n",
      "Nodefile size = 9305.51 MB (8627.52 MB after compression)\n",
      " 757463 526483       35.7786    99       40.0000       31.0049 1.40e+08   22.49%\n",
      " 758737 527322       38.6970   104       40.0000       31.0056 1.40e+08   22.49%\n",
      " 759882 527772       34.4498    96       40.0000       31.0069 1.40e+08   22.48%\n",
      " 760775 528515       38.8182    60       40.0000       31.0083 1.41e+08   22.48%\n",
      " 761927 529726       35.4989    91       40.0000       31.0093 1.41e+08   22.48%\n",
      " 762891 530171       36.3234   102       40.0000       31.0104 1.41e+08   22.47%\n",
      " 764187 531127        cutoff             40.0000       31.0115 1.42e+08   22.47%\n",
      " 765319 531140       38.0000    61       40.0000       31.0124 1.42e+08   22.47%\n",
      " 766372 531716       35.9393   118       40.0000       31.0131 1.42e+08   22.47%\n",
      " 767365 533194        cutoff             40.0000       31.0145 1.43e+08   22.46%\n",
      "Elapsed time = 3061.72 sec. (1850487.15 ticks, tree = 11521.65 MB, solutions = 13)\n",
      "Nodefile size = 9474.33 MB (8786.62 MB after compression)\n",
      " 768506 533719       36.4814    73       40.0000       31.0154 1.43e+08   22.46%\n",
      " 769685 533883       36.0294    71       40.0000       31.0165 1.43e+08   22.46%\n",
      " 770542 535206       38.2500    57       40.0000       31.0175 1.43e+08   22.46%\n",
      " 771391 535699       38.9400   101       40.0000       31.0189 1.44e+08   22.45%\n",
      " 772343 536391       33.6345   106       40.0000       31.0202 1.44e+08   22.45%\n",
      " 773444 536483       34.7292    84       40.0000       31.0210 1.44e+08   22.45%\n",
      " 774428 537673       37.0163    91       40.0000       31.0219 1.44e+08   22.45%\n",
      " 775439 537989       37.3959   110       40.0000       31.0230 1.45e+08   22.44%\n",
      " 776588 538272       36.6903   114       40.0000       31.0237 1.45e+08   22.44%\n",
      " 777808 539203       38.5000    60       40.0000       31.0247 1.45e+08   22.44%\n",
      "Elapsed time = 3127.86 sec. (1888675.32 ticks, tree = 11676.02 MB, solutions = 13)\n",
      "Nodefile size = 9628.88 MB (8932.26 MB after compression)\n",
      " 779138 539417       37.7989    93       40.0000       31.0260 1.45e+08   22.43%\n",
      " 780287 540859       37.0396   111       40.0000       31.0275 1.46e+08   22.43%\n",
      " 781438 541095       31.0314   112       40.0000       31.0282 1.46e+08   22.43%\n",
      " 782402 542038        cutoff             40.0000       31.0292 1.46e+08   22.43%\n",
      " 783225 543130       38.5442   112       40.0000       31.0305 1.47e+08   22.42%\n",
      " 784183 543523       31.1447   135       40.0000       31.0315 1.47e+08   22.42%\n",
      " 785392 544085       32.3510    97       40.0000       31.0324 1.47e+08   22.42%\n",
      " 786654 545317       38.5000    68       40.0000       31.0339 1.47e+08   22.42%\n",
      " 787758 545530       38.7885   118       40.0000       31.0346 1.48e+08   22.41%\n",
      " 789060 546865       31.8826   106       40.0000       31.0354 1.48e+08   22.41%\n",
      "Elapsed time = 3192.81 sec. (1926877.25 ticks, tree = 11868.06 MB, solutions = 13)\n",
      "Nodefile size = 9820.99 MB (9113.43 MB after compression)\n",
      " 790274 547502       38.6875    51       40.0000       31.0363 1.48e+08   22.41%\n",
      " 791135 548062       38.8171    85       40.0000       31.0370 1.48e+08   22.41%\n",
      " 791958 548813       35.1955    74       40.0000       31.0381 1.49e+08   22.40%\n",
      " 792954 549102       33.6202   117       40.0000       31.0393 1.49e+08   22.40%\n"
     ]
    },
    {
     "name": "stdout",
     "output_type": "stream",
     "text": [
      " 794063 550403       38.4105   114       40.0000       31.0405 1.49e+08   22.40%\n",
      " 795143 550757       37.3333    83       40.0000       31.0411 1.50e+08   22.40%\n",
      " 796377 551211       37.5000    94       40.0000       31.0423 1.50e+08   22.39%\n",
      " 797330 552139       33.9609   107       40.0000       31.0432 1.50e+08   22.39%\n",
      " 798350 552652       38.0000    41       40.0000       31.0443 1.50e+08   22.39%\n",
      " 799478 553673       36.9854    85       40.0000       31.0453 1.51e+08   22.39%\n",
      "Elapsed time = 3259.00 sec. (1965062.16 ticks, tree = 12026.66 MB, solutions = 13)\n",
      "Nodefile size = 9979.65 MB (9262.81 MB after compression)\n",
      " 800433 553996       38.8000    53       40.0000       31.0457 1.51e+08   22.39%\n",
      " 801579 555289       36.3120   107       40.0000       31.0476 1.51e+08   22.38%\n",
      " 802895 555455       31.8807   116       40.0000       31.0485 1.51e+08   22.38%\n",
      " 803856 556602       33.5221   112       40.0000       31.0498 1.52e+08   22.38%\n",
      " 804776 556756       31.5657    99       40.0000       31.0512 1.52e+08   22.37%\n",
      " 805658 557227       35.3421    86       40.0000       31.0522 1.52e+08   22.37%\n",
      " 806596 558315       35.5034   113       40.0000       31.0537 1.53e+08   22.37%\n",
      " 807588 558492       32.9576   139       40.0000       31.0556 1.53e+08   22.36%\n",
      " 808492 559231       38.8393   100       40.0000       31.0562 1.53e+08   22.36%\n",
      " 809419 560051       37.3333    90       40.0000       31.0577 1.53e+08   22.36%\n",
      "Elapsed time = 3322.41 sec. (2003249.07 ticks, tree = 12174.76 MB, solutions = 13)\n",
      "Nodefile size = 10127.03 MB (9401.87 MB after compression)\n",
      " 810433 560425       35.9963   116       40.0000       31.0590 1.53e+08   22.35%\n",
      " 811471 560953       37.7636   122       40.0000       31.0602 1.54e+08   22.35%\n",
      " 812480 561944       36.7544   100       40.0000       31.0617 1.54e+08   22.35%\n",
      " 813757 562615       33.0307   108       40.0000       31.0631 1.54e+08   22.34%\n",
      " 814891 562680       38.9723   117       40.0000       31.0639 1.54e+08   22.34%\n",
      " 815943 564188       36.5582    85       40.0000       31.0653 1.55e+08   22.34%\n",
      " 816858 564779       37.0000    70       40.0000       31.0667 1.55e+08   22.33%\n",
      " 817677 565989        cutoff             40.0000       31.0685 1.56e+08   22.33%\n",
      " 818522 566203       36.4826   113       40.0000       31.0694 1.56e+08   22.33%\n",
      " 819577 567010       35.0000    67       40.0000       31.0702 1.56e+08   22.32%\n",
      "Elapsed time = 3387.44 sec. (2041459.46 ticks, tree = 12352.90 MB, solutions = 13)\n",
      "Nodefile size = 10305.00 MB (9569.96 MB after compression)\n",
      " 820630 567017       36.4977   108       40.0000       31.0720 1.56e+08   22.32%\n",
      " 821667 568083       33.5588   112       40.0000       31.0732 1.57e+08   22.32%\n",
      " 822848 568461       37.0000    67       40.0000       31.0743 1.57e+08   22.31%\n",
      " 823983 569418       36.5000    48       40.0000       31.0748 1.57e+08   22.31%\n",
      " 825134 569792       37.1667    94       40.0000       31.0761 1.57e+08   22.31%\n",
      " 826347 571000        cutoff             40.0000       31.0778 1.58e+08   22.31%\n",
      " 827300 572249       31.6212   135       40.0000       31.0795 1.58e+08   22.30%\n",
      " 827990 573029       38.0000    70       40.0000       31.0807 1.58e+08   22.30%\n",
      " 828835 573272       36.0779    93       40.0000       31.0819 1.58e+08   22.30%\n",
      " 829894 573766       35.3132    92       40.0000       31.0833 1.59e+08   22.29%\n",
      "Elapsed time = 3450.12 sec. (2079684.55 ticks, tree = 12528.90 MB, solutions = 13)\n",
      "Nodefile size = 10481.12 MB (9736.33 MB after compression)\n",
      " 830925 573974       38.0000    79       40.0000       31.0846 1.59e+08   22.29%\n",
      " 831887 575664        cutoff             40.0000       31.0863 1.60e+08   22.28%\n",
      " 832872 575950       38.0000    72       40.0000       31.0870 1.60e+08   22.28%\n",
      " 833921 576595       37.3496    95       40.0000       31.0881 1.60e+08   22.28%\n",
      " 834876 576859       34.6731   117       40.0000       31.0893 1.60e+08   22.28%\n",
      " 835983 578150       34.6147    94       40.0000       31.0907 1.60e+08   22.27%\n",
      " 837227 578110       37.6667    42       40.0000       31.0925 1.60e+08   22.27%\n",
      " 838441 578777       38.7500    89       40.0000       31.0936 1.61e+08   22.27%\n",
      " 839559 579777       35.0624    90       40.0000       31.0949 1.61e+08   22.26%\n",
      " 840499 580793       38.0976   123       40.0000       31.0968 1.61e+08   22.26%\n",
      "Elapsed time = 3517.46 sec. (2117881.01 ticks, tree = 12736.87 MB, solutions = 13)\n",
      "Nodefile size = 10688.93 MB (9932.43 MB after compression)\n",
      " 841421 581449       38.7496    66       40.0000       31.0978 1.62e+08   22.26%\n",
      " 842156 582678       38.0000    59       40.0000       31.0989 1.62e+08   22.25%\n",
      " 843149 583064       38.7697    67       40.0000       31.1004 1.62e+08   22.25%\n",
      " 844274 583172       36.4167    69       40.0000       31.1015 1.62e+08   22.25%\n",
      " 845463 584145       36.5000   113       40.0000       31.1020 1.63e+08   22.25%\n",
      " 846646 584700       31.6436    94       40.0000       31.1031 1.63e+08   22.24%\n",
      " 847965 585476       37.7500    83       40.0000       31.1048 1.63e+08   22.24%\n",
      " 849117 586948       37.0000    52       40.0000       31.1056 1.64e+08   22.24%\n",
      " 850164 587036       38.5556    83       40.0000       31.1070 1.64e+08   22.23%\n",
      " 851143 588514       37.0000    84       40.0000       31.1091 1.64e+08   22.23%\n",
      "Elapsed time = 3583.03 sec. (2156056.74 ticks, tree = 12919.46 MB, solutions = 13)\n",
      "Nodefile size = 10871.99 MB (10105.11 MB after compression)\n",
      " 851836 589565       37.0000    75       40.0000       31.1105 1.64e+08   22.22%\n",
      " 852809 589954       36.1618    82       40.0000       31.1114 1.65e+08   22.22%\n",
      " 853670 590684       37.7083    89       40.0000       31.1131 1.65e+08   22.22%\n",
      " 854813 591225       36.6920    83       40.0000       31.1148 1.65e+08   22.21%\n",
      " 855772 591927       37.0000    47       40.0000       31.1157 1.66e+08   22.21%\n",
      " 856739 592757       38.6667    72       40.0000       31.1173 1.66e+08   22.21%\n",
      " 857793 592872       35.2717    98       40.0000       31.1187 1.66e+08   22.20%\n",
      " 858693 593342       38.7500    95       40.0000       31.1199 1.66e+08   22.20%\n",
      " 859701 594594       38.0000    50       40.0000       31.1214 1.67e+08   22.20%\n",
      " 860927 595916       35.5396    78       40.0000       31.1233 1.67e+08   22.19%\n",
      "Elapsed time = 3647.97 sec. (2194250.76 ticks, tree = 13090.09 MB, solutions = 13)\n",
      "Nodefile size = 11042.68 MB (10266.30 MB after compression)\n",
      " 862063 596260       37.0000    55       40.0000       31.1245 1.67e+08   22.19%\n",
      " 863012 596944       32.2564   117       40.0000       31.1255 1.67e+08   22.19%\n",
      " 864131 598091       35.0580   118       40.0000       31.1278 1.68e+08   22.18%\n",
      " 865054 598566       37.5172   108       40.0000       31.1295 1.68e+08   22.18%\n",
      " 866043 599358       32.7030   131       40.0000       31.1303 1.68e+08   22.17%\n",
      " 866985 599894       34.4395    85       40.0000       31.1323 1.69e+08   22.17%\n",
      " 867968 600241       36.6807   106       40.0000       31.1333 1.69e+08   22.17%\n",
      " 869159 600669       34.6204   108       40.0000       31.1356 1.69e+08   22.16%\n",
      " 870230 602450       32.3715   111       40.0000       31.1370 1.69e+08   22.16%\n",
      " 871132 602868       35.1628    82       40.0000       31.1385 1.70e+08   22.15%\n",
      "Elapsed time = 3714.15 sec. (2232497.80 ticks, tree = 13270.73 MB, solutions = 13)\n",
      "Nodefile size = 11223.00 MB (10436.44 MB after compression)\n",
      " 871881 603764       37.4117    95       40.0000       31.1390 1.70e+08   22.15%\n",
      " 872813 604210        cutoff             40.0000       31.1403 1.70e+08   22.15%\n",
      " 873748 604591       33.2428    81       40.0000       31.1417 1.70e+08   22.15%\n",
      " 874537 604661       32.9403    89       40.0000       31.1427 1.70e+08   22.14%\n",
      " 875885 605716       38.5000    62       40.0000       31.1449 1.71e+08   22.14%\n",
      " 876982 606261       32.9822   109       40.0000       31.1456 1.71e+08   22.14%\n",
      " 877817 606805       37.0606    78       40.0000       31.1466 1.71e+08   22.13%\n",
      " 878829 608434       34.6952    66       40.0000       31.1480 1.72e+08   22.13%\n",
      " 879696 608776       31.6705   101       40.0000       31.1496 1.72e+08   22.13%\n",
      " 880573 608858       33.7143    77       40.0000       31.1504 1.72e+08   22.12%\n",
      "Elapsed time = 3780.33 sec. (2270733.35 ticks, tree = 13432.21 MB, solutions = 13)\n",
      "Nodefile size = 11384.94 MB (10588.95 MB after compression)\n"
     ]
    },
    {
     "name": "stdout",
     "output_type": "stream",
     "text": [
      " 881427 609553       35.3948    83       40.0000       31.1521 1.72e+08   22.12%\n",
      " 882348 610891        cutoff             40.0000       31.1533 1.73e+08   22.12%\n",
      " 883323 610627       35.1049   112       40.0000       31.1544 1.73e+08   22.11%\n",
      " 884315 611907       38.8750   103       40.0000       31.1564 1.73e+08   22.11%\n",
      " 885253 612855       33.8169   110       40.0000       31.1575 1.74e+08   22.11%\n",
      " 886320 613281       33.0706    96       40.0000       31.1591 1.74e+08   22.10%\n",
      " 887461 613567       37.8293   102       40.0000       31.1606 1.74e+08   22.10%\n",
      " 888445 614688        cutoff             40.0000       31.1622 1.74e+08   22.09%\n",
      " 889401 615577       36.4613    76       40.0000       31.1630 1.75e+08   22.09%\n",
      " 890366 616306       33.5647    90       40.0000       31.1645 1.75e+08   22.09%\n",
      "Elapsed time = 3848.09 sec. (2308951.33 ticks, tree = 13610.56 MB, solutions = 13)\n",
      "Nodefile size = 11563.33 MB (10757.71 MB after compression)\n",
      " 891295 617240       35.8124   126       40.0000       31.1655 1.75e+08   22.09%\n",
      " 892193 617479       34.8967    92       40.0000       31.1667 1.75e+08   22.08%\n",
      " 893328 617536       36.6295    85       40.0000       31.1673 1.75e+08   22.08%\n",
      " 894194 618646       38.6250    72       40.0000       31.1685 1.76e+08   22.08%\n",
      " 895119 619083       38.1786   101       40.0000       31.1697 1.76e+08   22.08%\n",
      " 895804 620662       36.3409    81       40.0000       31.1718 1.77e+08   22.07%\n",
      " 896923 620520       37.1667    90       40.0000       31.1734 1.77e+08   22.07%\n",
      " 897948 621157       37.2277    86       40.0000       31.1744 1.77e+08   22.06%\n",
      " 899015 622317       38.0000    51       40.0000       31.1759 1.77e+08   22.06%\n",
      " 899967 622737       33.1801   115       40.0000       31.1782 1.78e+08   22.05%\n",
      "Elapsed time = 3915.94 sec. (2347132.06 ticks, tree = 13767.33 MB, solutions = 13)\n",
      "Nodefile size = 11720.26 MB (10905.89 MB after compression)\n",
      " 900896 624158       36.9065    86       40.0000       31.1789 1.78e+08   22.05%\n",
      " 901879 623898       35.8086   104       40.0000       31.1798 1.78e+08   22.05%\n",
      " 902846 624515       32.1652   113       40.0000       31.1816 1.78e+08   22.05%\n",
      " 903728 624749       36.6786    87       40.0000       31.1824 1.78e+08   22.04%\n",
      " 904671 625829       32.7956   124       40.0000       31.1837 1.79e+08   22.04%\n",
      " 905498 626370       36.5483   136       40.0000       31.1846 1.79e+08   22.04%\n",
      " 906299 627237       32.3470    81       40.0000       31.1870 1.79e+08   22.03%\n",
      " 907101 627711       33.5278    73       40.0000       31.1882 1.80e+08   22.03%\n",
      " 908304 628200       32.2501   104       40.0000       31.1893 1.80e+08   22.03%\n",
      " 909181 628443       31.9804   130       40.0000       31.1905 1.80e+08   22.02%\n",
      "Elapsed time = 3984.39 sec. (2385301.83 ticks, tree = 13922.08 MB, solutions = 13)\n",
      "Nodefile size = 11874.69 MB (11051.97 MB after compression)\n",
      " 910140 629487       34.8937   124       40.0000       31.1917 1.81e+08   22.02%\n",
      " 911253 629610       38.5000    61       40.0000       31.1935 1.81e+08   22.02%\n",
      " 912104 630784       36.1080   115       40.0000       31.1948 1.81e+08   22.01%\n",
      " 913234 631215       38.0000    55       40.0000       31.1962 1.81e+08   22.01%\n",
      " 914041 632678       38.1500    63       40.0000       31.1975 1.82e+08   22.01%\n",
      " 914969 632575        cutoff             40.0000       31.1986 1.82e+08   22.00%\n",
      " 915850 633879    infeasible             40.0000       31.1997 1.82e+08   22.00%\n",
      " 916945 634076       34.3146    80       40.0000       31.2007 1.82e+08   22.00%\n",
      " 917693 634316       38.3423    99       40.0000       31.2023 1.83e+08   21.99%\n",
      " 918549 634991        cutoff             40.0000       31.2043 1.83e+08   21.99%\n",
      "Elapsed time = 4053.79 sec. (2423486.49 ticks, tree = 14083.94 MB, solutions = 13)\n",
      "Nodefile size = 12036.26 MB (11204.72 MB after compression)\n",
      " 919471 636091       35.9444    75       40.0000       31.2050 1.83e+08   21.99%\n",
      " 920349 636477       38.0000    46       40.0000       31.2063 1.83e+08   21.98%\n",
      " 921401 636804       36.5000    99       40.0000       31.2073 1.84e+08   21.98%\n",
      " 922560 637551       32.9770    92       40.0000       31.2092 1.84e+08   21.98%\n",
      " 923373 638472        cutoff             40.0000       31.2106 1.84e+08   21.97%\n",
      " 924220 639464       38.8000    73       40.0000       31.2114 1.85e+08   21.97%\n",
      " 925379 639518       38.9783    87       40.0000       31.2130 1.85e+08   21.97%\n",
      " 926248 640693       32.3902   117       40.0000       31.2137 1.85e+08   21.97%\n",
      " 926990 641710       37.3448    78       40.0000       31.2150 1.85e+08   21.96%\n",
      " 928036 641440       37.5000    88       40.0000       31.2160 1.85e+08   21.96%\n",
      "Elapsed time = 4125.26 sec. (2461671.22 ticks, tree = 14249.29 MB, solutions = 13)\n",
      "Nodefile size = 12201.31 MB (11361.04 MB after compression)\n",
      " 928902 642286       36.1050   124       40.0000       31.2175 1.86e+08   21.96%\n",
      " 929764 643019        cutoff             40.0000       31.2186 1.86e+08   21.95%\n",
      " 930760 644411       32.0987    94       40.0000       31.2197 1.86e+08   21.95%\n",
      " 931554 644488       38.5000    53       40.0000       31.2203 1.86e+08   21.95%\n",
      " 932246 645311       37.5833    88       40.0000       31.2222 1.87e+08   21.94%\n",
      " 933129 645338       37.6915    79       40.0000       31.2234 1.87e+08   21.94%\n",
      " 934262 646677       38.5000    81       40.0000       31.2253 1.88e+08   21.94%\n",
      " 935104 646314       33.6365    94       40.0000       31.2256 1.87e+08   21.94%\n",
      " 935861 647469       35.8897    93       40.0000       31.2273 1.88e+08   21.93%\n",
      " 936589 648653       34.2599    95       40.0000       31.2285 1.88e+08   21.93%\n",
      "Elapsed time = 4196.12 sec. (2499885.60 ticks, tree = 14396.32 MB, solutions = 13)\n",
      "Nodefile size = 12348.53 MB (11500.37 MB after compression)\n",
      " 937381 649076       38.0000    71       40.0000       31.2298 1.89e+08   21.93%\n",
      " 938231 649424       36.7500    64       40.0000       31.2307 1.89e+08   21.92%\n",
      " 939087 649561       36.8011    65       40.0000       31.2319 1.89e+08   21.92%\n",
      " 940128 650555       38.2421   106       40.0000       31.2330 1.89e+08   21.92%\n",
      " 941134 651148       35.7500    83       40.0000       31.2342 1.90e+08   21.91%\n",
      " 942017 651904       31.2702   139       40.0000       31.2349 1.90e+08   21.91%\n",
      " 942939 652932       36.8418    96       40.0000       31.2371 1.90e+08   21.91%\n",
      " 943704 653063       38.9438    84       40.0000       31.2378 1.90e+08   21.91%\n",
      " 944627 653680       31.2635   118       40.0000       31.2386 1.91e+08   21.90%\n",
      " 945365 654426        cutoff             40.0000       31.2399 1.91e+08   21.90%\n",
      "Elapsed time = 4268.62 sec. (2538090.95 ticks, tree = 14544.78 MB, solutions = 13)\n",
      "Nodefile size = 12497.22 MB (11640.92 MB after compression)\n",
      " 946151 654819       37.4444    77       40.0000       31.2415 1.91e+08   21.90%\n",
      " 947090 654655       38.3750   102       40.0000       31.2423 1.91e+08   21.89%\n",
      " 948083 656103       37.9276   115       40.0000       31.2438 1.92e+08   21.89%\n",
      " 949128 656747       38.6667    59       40.0000       31.2444 1.92e+08   21.89%\n",
      " 949881 656589       36.1667   111       40.0000       31.2453 1.92e+08   21.89%\n",
      " 950890 657343       33.4872    89       40.0000       31.2460 1.92e+08   21.89%\n",
      " 951842 657972       35.0484    98       40.0000       31.2479 1.93e+08   21.88%\n",
      " 952687 659320       36.2896   114       40.0000       31.2486 1.93e+08   21.88%\n",
      " 953432 659565        cutoff             40.0000       31.2498 1.93e+08   21.88%\n",
      " 954040 660075       38.7500    78       40.0000       31.2500 1.94e+08   21.87%\n",
      "Elapsed time = 4337.49 sec. (2576286.94 ticks, tree = 14681.21 MB, solutions = 13)\n",
      "Nodefile size = 12633.44 MB (11769.33 MB after compression)\n",
      " 954760 660538        cutoff             40.0000       31.2502 1.94e+08   21.87%\n",
      " 955647 660592       37.8831   122       40.0000       31.2512 1.94e+08   21.87%\n",
      " 956502 661013       34.3784   109       40.0000       31.2531 1.94e+08   21.87%\n",
      " 957399 662180       36.5411    93       40.0000       31.2538 1.95e+08   21.87%\n",
      " 958251 662262       38.6843   126       40.0000       31.2552 1.95e+08   21.86%\n",
      " 958991 662952       36.0000    48       40.0000       31.2557 1.95e+08   21.86%\n",
      " 960000 664184       37.3333    58       40.0000       31.2571 1.96e+08   21.86%\n"
     ]
    },
    {
     "name": "stdout",
     "output_type": "stream",
     "text": [
      " 960989 664267       38.5000    85       40.0000       31.2581 1.96e+08   21.85%\n",
      " 961904 664965       38.0000    79       40.0000       31.2603 1.96e+08   21.85%\n",
      " 962759 665838        cutoff             40.0000       31.2616 1.96e+08   21.85%\n",
      "Elapsed time = 4408.85 sec. (2614508.92 ticks, tree = 14834.38 MB, solutions = 13)\n",
      "Nodefile size = 12787.07 MB (11914.85 MB after compression)\n",
      " 963651 665933       33.5214   102       40.0000       31.2625 1.96e+08   21.84%\n",
      " 964576 666886       38.7500    72       40.0000       31.2637 1.97e+08   21.84%\n",
      " 965459 666953       38.4118   110       40.0000       31.2645 1.97e+08   21.84%\n",
      " 966527 668244       38.0000    50       40.0000       31.2655 1.97e+08   21.84%\n",
      " 967352 669067        cutoff             40.0000       31.2664 1.98e+08   21.83%\n",
      " 968202 669128       38.8212   101       40.0000       31.2680 1.98e+08   21.83%\n",
      " 969033 670295       38.0000    54       40.0000       31.2690 1.98e+08   21.83%\n",
      " 969667 670644       37.2500    82       40.0000       31.2703 1.98e+08   21.82%\n",
      " 970530 670831       33.3020   102       40.0000       31.2713 1.98e+08   21.82%\n",
      " 971613 671379        cutoff             40.0000       31.2717 1.99e+08   21.82%\n",
      "Elapsed time = 4478.44 sec. (2652706.37 ticks, tree = 14979.31 MB, solutions = 13)\n",
      "Nodefile size = 12931.87 MB (12052.11 MB after compression)\n",
      " 972512 671781       35.3380    84       40.0000       31.2733 1.99e+08   21.82%\n",
      " 973203 673250       38.5000    81       40.0000       31.2744 1.99e+08   21.81%\n",
      " 974080 673490       37.1023    88       40.0000       31.2752 2.00e+08   21.81%\n",
      " 974993 674020       38.6015    98       40.0000       31.2762 2.00e+08   21.81%\n",
      " 975856 674541        cutoff             40.0000       31.2772 2.00e+08   21.81%\n",
      " 976619 675072       37.3485    73       40.0000       31.2784 2.00e+08   21.80%\n",
      " 977518 676055       38.0715    57       40.0000       31.2796 2.01e+08   21.80%\n",
      " 978275 676212       38.8333    79       40.0000       31.2810 2.01e+08   21.80%\n",
      " 979016 676303       38.5000    81       40.0000       31.2816 2.01e+08   21.80%\n",
      " 979769 676823       37.5000    74       40.0000       31.2829 2.01e+08   21.79%\n",
      "Elapsed time = 4549.02 sec. (2690921.51 ticks, tree = 15118.57 MB, solutions = 13)\n",
      "Nodefile size = 13071.15 MB (12184.28 MB after compression)\n",
      " 980932 677393       33.1724   105       40.0000       31.2844 2.02e+08   21.79%\n",
      " 981788 678648       32.9652    88       40.0000       31.2850 2.02e+08   21.79%\n",
      " 982516 679098       35.7278    98       40.0000       31.2860 2.02e+08   21.78%\n",
      " 983515 679019       38.5000    87       40.0000       31.2872 2.02e+08   21.78%\n",
      " 984422 680584       36.6918   119       40.0000       31.2882 2.03e+08   21.78%\n",
      " 985052 681048       38.0000    65       40.0000       31.2890 2.03e+08   21.78%\n",
      " 985879 681012       34.5831    81       40.0000       31.2897 2.03e+08   21.78%\n",
      " 986538 681654       37.2545    92       40.0000       31.2912 2.03e+08   21.77%\n",
      " 987371 682100    infeasible             40.0000       31.2917 2.04e+08   21.77%\n",
      " 988446 682689       32.0338   115       40.0000       31.2930 2.04e+08   21.77%\n",
      "Elapsed time = 4619.64 sec. (2729102.74 ticks, tree = 15252.96 MB, solutions = 13)\n",
      "Nodefile size = 13205.76 MB (12311.62 MB after compression)\n",
      " 989384 683524       38.7500    95       40.0000       31.2936 2.04e+08   21.77%\n",
      " 990226 684476       34.6923   101       40.0000       31.2949 2.05e+08   21.76%\n",
      " 991104 684237       33.9292   109       40.0000       31.2952 2.05e+08   21.76%\n",
      " 991982 685166        cutoff             40.0000       31.2967 2.05e+08   21.76%\n",
      " 992734 685624       36.4167    80       40.0000       31.2976 2.05e+08   21.76%\n",
      " 993692 686160       35.6427    91       40.0000       31.2980 2.05e+08   21.75%\n",
      " 994585 686653       37.5000    62       40.0000       31.2988 2.06e+08   21.75%\n",
      " 995730 687038       38.8333    48       40.0000       31.2997 2.06e+08   21.75%\n",
      " 996704 688440        cutoff             40.0000       31.3007 2.07e+08   21.75%\n",
      " 997550 688394       36.5000    62       40.0000       31.3014 2.06e+08   21.75%\n",
      "Elapsed time = 4692.35 sec. (2767320.04 ticks, tree = 15430.32 MB, solutions = 13)\n",
      "Nodefile size = 13383.18 MB (12480.08 MB after compression)\n",
      " 998288 689121       35.1473   108       40.0000       31.3018 2.07e+08   21.75%\n",
      " 998948 689319       36.0000   111       40.0000       31.3035 2.07e+08   21.74%\n",
      " 999520 690772       35.0136    86       40.0000       31.3044 2.07e+08   21.74%\n",
      " 1000215 690883       38.9545    65       40.0000       31.3055 2.08e+08   21.74%\n",
      " 1001141 691656       36.0000    56       40.0000       31.3063 2.08e+08   21.73%\n",
      " 1002151 691844       31.3153   128       40.0000       31.3067 2.08e+08   21.73%\n",
      " 1002966 692133       33.5253   128       40.0000       31.3075 2.08e+08   21.73%\n",
      " 1003839 693558       32.7385    98       40.0000       31.3078 2.09e+08   21.73%\n",
      " 1004786 693978        cutoff             40.0000       31.3088 2.09e+08   21.73%\n",
      " 1005665 695179       35.2349    95       40.0000       31.3097 2.09e+08   21.73%\n",
      "Elapsed time = 4763.61 sec. (2805566.26 ticks, tree = 15578.47 MB, solutions = 13)\n",
      "Nodefile size = 13531.18 MB (12620.33 MB after compression)\n",
      " 1006480 695497       34.6534   130       40.0000       31.3105 2.10e+08   21.72%\n",
      " 1007274 695898       37.2500    69       40.0000       31.3121 2.10e+08   21.72%\n",
      " 1008213 696017       32.6167   111       40.0000       31.3126 2.10e+08   21.72%\n",
      " 1009073 697311       34.1780   106       40.0000       31.3138 2.10e+08   21.72%\n",
      " 1009855 697828       38.3718    96       40.0000       31.3148 2.11e+08   21.71%\n",
      " 1010577 698266       31.7110    99       40.0000       31.3158 2.11e+08   21.71%\n",
      " 1011254 698782       38.0000    70       40.0000       31.3164 2.11e+08   21.71%\n",
      " 1012146 698468       35.7500    67       40.0000       31.3175 2.11e+08   21.71%\n",
      " 1013009 699629       38.0000    92       40.0000       31.3187 2.12e+08   21.70%\n",
      " 1013935 700087        cutoff             40.0000       31.3197 2.12e+08   21.70%\n",
      "Elapsed time = 4834.53 sec. (2843749.82 ticks, tree = 15705.82 MB, solutions = 13)\n",
      "Nodefile size = 13658.08 MB (12740.52 MB after compression)\n",
      " 1014896 701102       33.7571    84       40.0000       31.3206 2.12e+08   21.70%\n",
      " 1015687 701237       34.1393    92       40.0000       31.3211 2.12e+08   21.70%\n",
      " 1016403 701315       38.6146    86       40.0000       31.3219 2.12e+08   21.70%\n",
      " 1017463 702204       33.5917   104       40.0000       31.3224 2.13e+08   21.69%\n",
      " 1018465 703405       36.2500    94       40.0000       31.3236 2.13e+08   21.69%\n",
      " 1019425 703165       34.3793   116       40.0000       31.3239 2.13e+08   21.69%\n",
      " 1020291 704527       37.0000   112       40.0000       31.3250 2.14e+08   21.69%\n",
      " 1021143 704994       38.9459    86       40.0000       31.3260 2.14e+08   21.69%\n",
      " 1021961 706243       31.9899   113       40.0000       31.3273 2.14e+08   21.68%\n",
      " 1022707 705873        cutoff             40.0000       31.3282 2.14e+08   21.68%\n",
      "Elapsed time = 4906.71 sec. (2882004.48 ticks, tree = 15884.37 MB, solutions = 13)\n",
      "Nodefile size = 13837.32 MB (12911.00 MB after compression)\n",
      " 1023377 706311       38.0331    96       40.0000       31.3288 2.14e+08   21.68%\n",
      " 1024163 707506       35.4519    99       40.0000       31.3298 2.15e+08   21.68%\n",
      " 1024968 707994       36.5997    93       40.0000       31.3310 2.15e+08   21.67%\n",
      " 1025729 707730       32.2364   133       40.0000       31.3319 2.15e+08   21.67%\n",
      " 1026640 708303       37.8333    75       40.0000       31.3331 2.16e+08   21.67%\n",
      " 1027509 709574       35.6762    89       40.0000       31.3333 2.16e+08   21.67%\n",
      " 1028183 709446       33.1206   114       40.0000       31.3333 2.16e+08   21.67%\n",
      " 1028957 710069       34.1524    93       40.0000       31.3334 2.16e+08   21.67%\n",
      " 1029795 710484       32.3985   109       40.0000       31.3345 2.17e+08   21.66%\n",
      " 1030565 711082       36.3619    81       40.0000       31.3353 2.17e+08   21.66%\n",
      "Elapsed time = 4975.78 sec. (2920214.53 ticks, tree = 15999.30 MB, solutions = 13)\n",
      "Nodefile size = 13951.71 MB (13019.56 MB after compression)\n",
      " 1031356 711748       35.2027    85       40.0000       31.3362 2.17e+08   21.66%\n"
     ]
    },
    {
     "name": "stdout",
     "output_type": "stream",
     "text": [
      " 1032189 711905       35.1321    84       40.0000       31.3374 2.17e+08   21.66%\n",
      " 1032984 712537       32.8090    99       40.0000       31.3385 2.18e+08   21.65%\n",
      " 1033703 713182        cutoff             40.0000       31.3395 2.18e+08   21.65%\n",
      " 1034535 713761       36.1646    97       40.0000       31.3402 2.18e+08   21.65%\n",
      " 1035268 713914       38.5616    98       40.0000       31.3412 2.18e+08   21.65%\n",
      " 1036072 715314       36.8114    71       40.0000       31.3422 2.19e+08   21.64%\n",
      " 1036718 715369       34.5619   105       40.0000       31.3426 2.19e+08   21.64%\n",
      " 1037488 716158       37.6164    65       40.0000       31.3440 2.20e+08   21.64%\n",
      " 1038653 716445       38.0000    42       40.0000       31.3445 2.20e+08   21.64%\n",
      "Elapsed time = 5045.31 sec. (2958444.06 ticks, tree = 16134.34 MB, solutions = 13)\n",
      "Nodefile size = 14086.94 MB (13148.02 MB after compression)\n",
      " 1039437 716831       32.2553    90       40.0000       31.3452 2.20e+08   21.64%\n",
      " 1040152 717120       32.3143    85       40.0000       31.3458 2.20e+08   21.64%\n",
      " 1041014 718002        cutoff             40.0000       31.3470 2.20e+08   21.63%\n",
      " 1041757 718203       36.5048    81       40.0000       31.3478 2.20e+08   21.63%\n",
      " 1042755 719638       38.5000    41       40.0000       31.3486 2.21e+08   21.63%\n",
      " 1043609 719341       38.7255   114       40.0000       31.3494 2.21e+08   21.63%\n",
      " 1044427 720887        cutoff             40.0000       31.3506 2.22e+08   21.62%\n",
      " 1045086 721309       38.1723    80       40.0000       31.3514 2.22e+08   21.62%\n",
      " 1045794 721775       35.8861   103       40.0000       31.3525 2.22e+08   21.62%\n",
      " 1046587 721595       37.8305   103       40.0000       31.3536 2.22e+08   21.62%\n",
      "Elapsed time = 5115.95 sec. (2996672.24 ticks, tree = 16303.24 MB, solutions = 13)\n",
      "Nodefile size = 14255.75 MB (13308.67 MB after compression)\n",
      " 1047399 722432       34.8395    92       40.0000       31.3540 2.22e+08   21.61%\n",
      " 1048171 722931       31.9924   101       40.0000       31.3548 2.23e+08   21.61%\n",
      " 1048879 723349        cutoff             40.0000       31.3557 2.23e+08   21.61%\n",
      " 1049741 724089       37.3235    85       40.0000       31.3566 2.23e+08   21.61%\n",
      " 1050553 725131       35.3856    88       40.0000       31.3578 2.24e+08   21.61%\n",
      " 1051533 725190       35.6447   113       40.0000       31.3584 2.24e+08   21.60%\n",
      " 1052351 725691       35.7216    98       40.0000       31.3595 2.24e+08   21.60%\n",
      " 1053125 726773       38.2500   123       40.0000       31.3602 2.25e+08   21.60%\n",
      " 1054052 726512        cutoff             40.0000       31.3611 2.24e+08   21.60%\n",
      " 1054915 727563       34.7942   114       40.0000       31.3619 2.25e+08   21.60%\n",
      "Elapsed time = 5186.51 sec. (3034869.66 ticks, tree = 16446.49 MB, solutions = 13)\n",
      "Nodefile size = 14398.50 MB (13443.83 MB after compression)\n",
      " 1055739 728425       39.0000    68       40.0000       31.3627 2.25e+08   21.59%\n",
      " 1056472 728986       38.8810   113       40.0000       31.3634 2.26e+08   21.59%\n",
      " 1057202 729650       32.4566   123       40.0000       31.3638 2.26e+08   21.59%\n",
      " 1057933 729357       38.7083    99       40.0000       31.3647 2.26e+08   21.59%\n",
      " 1058727 729811       38.8448   106       40.0000       31.3653 2.26e+08   21.59%\n",
      " 1059666 730584       38.5261    78       40.0000       31.3653 2.26e+08   21.59%\n",
      " 1060688 731585       38.8000    84       40.0000       31.3671 2.27e+08   21.58%\n",
      " 1061625 731339       35.5747    82       40.0000       31.3681 2.27e+08   21.58%\n",
      " 1062588 732206       33.7198   121       40.0000       31.3689 2.27e+08   21.58%\n",
      " 1063657 733447       38.0994   111       40.0000       31.3700 2.27e+08   21.57%\n",
      "Elapsed time = 5257.70 sec. (3073073.03 ticks, tree = 16597.52 MB, solutions = 13)\n",
      "Nodefile size = 14550.20 MB (13588.01 MB after compression)\n",
      " 1064392 734199       37.2500    66       40.0000       31.3710 2.28e+08   21.57%\n",
      " 1065253 734065       34.1032    86       40.0000       31.3718 2.28e+08   21.57%\n",
      " 1066110 734769       37.9080    75       40.0000       31.3729 2.28e+08   21.57%\n",
      " 1066882 735777        cutoff             40.0000       31.3739 2.28e+08   21.57%\n",
      " 1067638 736160       38.3624   114       40.0000       31.3748 2.29e+08   21.56%\n",
      " 1068372 736499       38.0000    53       40.0000       31.3757 2.29e+08   21.56%\n",
      " 1069187 737574        cutoff             40.0000       31.3767 2.29e+08   21.56%\n",
      " 1069860 738206       35.3716    92       40.0000       31.3773 2.30e+08   21.56%\n",
      " 1070605 738175       37.6622   102       40.0000       31.3777 2.30e+08   21.56%\n",
      " 1071339 738872       32.8816   102       40.0000       31.3788 2.30e+08   21.55%\n",
      "Elapsed time = 5328.65 sec. (3111282.83 ticks, tree = 16725.98 MB, solutions = 13)\n",
      "Nodefile size = 14677.98 MB (13709.38 MB after compression)\n",
      " 1072455 739341       38.0000    50       40.0000       31.3794 2.30e+08   21.55%\n",
      " 1073280 739729       38.9097    98       40.0000       31.3803 2.31e+08   21.55%\n",
      " 1074085 740435       35.2992   104       40.0000       31.3807 2.31e+08   21.55%\n",
      " 1075054 741362       33.4148   136       40.0000       31.3820 2.31e+08   21.55%\n",
      " 1075986 741350       38.7708    83       40.0000       31.3829 2.31e+08   21.54%\n",
      " 1076753 742724       37.4224    81       40.0000       31.3832 2.32e+08   21.54%\n",
      " 1077519 742557       35.0806   118       40.0000       31.3843 2.32e+08   21.54%\n",
      " 1078401 743979       37.0000    75       40.0000       31.3847 2.32e+08   21.54%\n",
      " 1079340 743769       38.2500    63       40.0000       31.3858 2.32e+08   21.54%\n",
      " 1080226 745013       34.7456   103       40.0000       31.3863 2.33e+08   21.53%\n",
      "Elapsed time = 5410.08 sec. (3149491.89 ticks, tree = 16898.58 MB, solutions = 13)\n",
      "Nodefile size = 14851.35 MB (13874.37 MB after compression)\n",
      " 1080976 745445       34.0957    97       40.0000       31.3879 2.33e+08   21.53%\n",
      " 1081769 745583       37.8598   114       40.0000       31.3884 2.33e+08   21.53%\n",
      " 1082388 746889       38.1250   101       40.0000       31.3889 2.34e+08   21.53%\n",
      " 1083070 747413       38.7188    59       40.0000       31.3898 2.34e+08   21.53%\n",
      " 1083867 746777       38.1250    91       40.0000       31.3902 2.34e+08   21.52%\n",
      " 1084684 747504       36.6258   105       40.0000       31.3918 2.34e+08   21.52%\n",
      " 1085456 747789       33.0131    83       40.0000       31.3927 2.34e+08   21.52%\n",
      " 1086293 748704        cutoff             40.0000       31.3933 2.35e+08   21.52%\n",
      " 1087023 749301       39.0000    63       40.0000       31.3940 2.35e+08   21.52%\n",
      " 1087906 750242       32.3623   108       40.0000       31.3944 2.35e+08   21.51%\n",
      "Elapsed time = 5480.28 sec. (3187680.33 ticks, tree = 17017.77 MB, solutions = 13)\n",
      "Nodefile size = 14970.16 MB (13987.13 MB after compression)\n",
      " 1088834 749946       37.1250   100       40.0000       31.3952 2.35e+08   21.51%\n",
      " 1089775 750946       35.4458    98       40.0000       31.3959 2.36e+08   21.51%\n",
      " 1090494 752376       34.6314    91       40.0000       31.3977 2.36e+08   21.51%\n",
      " 1091225 752501       38.5697   114       40.0000       31.3983 2.36e+08   21.50%\n",
      " 1092124 752724       36.6202    88       40.0000       31.3994 2.37e+08   21.50%\n",
      " 1093054 753439       35.3354   105       40.0000       31.4000 2.37e+08   21.50%\n",
      " 1093874 753763       38.0000    79       40.0000       31.4002 2.37e+08   21.50%\n",
      " 1094703 753930       34.5795   117       40.0000       31.4014 2.37e+08   21.50%\n",
      " 1095281 754049       34.3725   109       40.0000       31.4021 2.37e+08   21.49%\n",
      " 1095906 754922       33.6948   111       40.0000       31.4031 2.38e+08   21.49%\n",
      "Elapsed time = 5574.13 sec. (3225888.93 ticks, tree = 17172.81 MB, solutions = 13)\n",
      "Nodefile size = 15125.74 MB (14135.08 MB after compression)\n",
      " 1096797 755865       36.0000    99       40.0000       31.4037 2.38e+08   21.49%\n",
      " 1097640 756214       34.7930    79       40.0000       31.4049 2.38e+08   21.49%\n",
      " 1098309 757113       36.8966    92       40.0000       31.4058 2.39e+08   21.49%\n",
      " 1099022 757177       36.8266   118       40.0000       31.4065 2.39e+08   21.48%\n",
      " 1099814 758593       36.3077    90       40.0000       31.4072 2.39e+08   21.48%\n",
      " 1100540 758647        cutoff             40.0000       31.4079 2.39e+08   21.48%\n"
     ]
    },
    {
     "name": "stdout",
     "output_type": "stream",
     "text": [
      " 1101383 759528       38.0000    80       40.0000       31.4086 2.40e+08   21.48%\n",
      " 1102170 759702       36.7750    98       40.0000       31.4094 2.40e+08   21.48%\n",
      " 1102902 760065       36.5000   100       40.0000       31.4097 2.40e+08   21.48%\n",
      " 1103620 760824        cutoff             40.0000       31.4105 2.41e+08   21.47%\n",
      "Elapsed time = 5653.44 sec. (3264095.45 ticks, tree = 17299.90 MB, solutions = 13)\n",
      "Nodefile size = 15252.35 MB (14255.50 MB after compression)\n",
      " 1104525 760975       32.9659    94       40.0000       31.4115 2.41e+08   21.47%\n",
      " 1105335 761128       34.2619    78       40.0000       31.4124 2.41e+08   21.47%\n",
      " 1106107 762424       37.6667    83       40.0000       31.4133 2.41e+08   21.47%\n",
      " 1106905 762535       38.8929    88       40.0000       31.4140 2.41e+08   21.46%\n",
      " 1107528 762596       33.8371   112       40.0000       31.4148 2.41e+08   21.46%\n",
      " 1108283 763964       32.5322   112       40.0000       31.4157 2.42e+08   21.46%\n",
      " 1108942 763733       38.0543    69       40.0000       31.4167 2.42e+08   21.46%\n",
      " 1109656 764357       34.8024   105       40.0000       31.4178 2.42e+08   21.46%\n",
      " 1110313 764840       38.5000    91       40.0000       31.4186 2.43e+08   21.45%\n",
      " 1111040 765709       38.4000    83       40.0000       31.4194 2.43e+08   21.45%\n",
      "Elapsed time = 5720.09 sec. (3302322.69 ticks, tree = 17404.50 MB, solutions = 13)\n",
      "Nodefile size = 15356.55 MB (14354.07 MB after compression)\n",
      " 1111802 765826       35.3551    77       40.0000       31.4200 2.43e+08   21.45%\n",
      " 1112571 766659       31.9234   132       40.0000       31.4212 2.44e+08   21.45%\n",
      " 1113588 767153       35.5586    89       40.0000       31.4215 2.44e+08   21.45%\n",
      " 1114486 766953       38.7500    72       40.0000       31.4220 2.44e+08   21.45%\n",
      " 1115327 767496       36.2671    85       40.0000       31.4223 2.44e+08   21.44%\n",
      " 1115992 768114       37.0000    43       40.0000       31.4228 2.44e+08   21.44%\n",
      " 1116774 769490       37.5000    86       40.0000       31.4242 2.45e+08   21.44%\n",
      " 1117735 769790        cutoff             40.0000       31.4247 2.45e+08   21.44%\n",
      " 1118674 770400       38.8990    76       40.0000       31.4257 2.45e+08   21.44%\n",
      " 1119273 770207       38.0000    53       40.0000       31.4266 2.45e+08   21.43%\n",
      "Elapsed time = 5787.41 sec. (3340522.85 ticks, tree = 17570.18 MB, solutions = 13)\n",
      "Nodefile size = 15522.46 MB (14511.93 MB after compression)\n",
      " 1120166 770877       36.0000   107       40.0000       31.4271 2.46e+08   21.43%\n",
      " 1120945 771288       34.4500    95       40.0000       31.4279 2.46e+08   21.43%\n",
      " 1121594 772159       36.8750   100       40.0000       31.4284 2.46e+08   21.43%\n",
      " 1122542 772539       32.5504   113       40.0000       31.4291 2.46e+08   21.43%\n",
      " 1123435 773711        cutoff             40.0000       31.4303 2.47e+08   21.42%\n",
      " 1124225 773353       37.7500    56       40.0000       31.4310 2.47e+08   21.42%\n",
      " 1125107 774610       36.2500    99       40.0000       31.4318 2.47e+08   21.42%\n",
      " 1125970 775681       35.1784    82       40.0000       31.4326 2.48e+08   21.42%\n",
      " 1126707 776105       32.6470   119       40.0000       31.4330 2.48e+08   21.42%\n",
      " 1127581 776747       37.0000    45       40.0000       31.4337 2.48e+08   21.42%\n",
      "Elapsed time = 5854.07 sec. (3378775.24 ticks, tree = 17689.16 MB, solutions = 13)\n",
      "Nodefile size = 15641.28 MB (14624.59 MB after compression)\n",
      " 1128306 776559       37.0543   111       40.0000       31.4341 2.48e+08   21.41%\n",
      " 1129268 777319       37.6667    73       40.0000       31.4354 2.49e+08   21.41%\n",
      " 1129926 777523       38.9167    71       40.0000       31.4359 2.49e+08   21.41%\n",
      " 1130817 778504       33.9402   108       40.0000       31.4365 2.49e+08   21.41%\n",
      " 1131543 778915       34.3115   101       40.0000       31.4369 2.50e+08   21.41%\n",
      " 1132345 779354       38.9085    65       40.0000       31.4372 2.50e+08   21.41%\n",
      " 1133228 779616       33.8900   109       40.0000       31.4378 2.50e+08   21.41%\n",
      " 1133855 779972       38.4504    96       40.0000       31.4385 2.50e+08   21.40%\n",
      " 1134516 780349       37.4000   110       40.0000       31.4394 2.50e+08   21.40%\n",
      " 1135373 781663       33.3197   122       40.0000       31.4401 2.51e+08   21.40%\n",
      "Elapsed time = 5920.81 sec. (3416974.93 ticks, tree = 17821.48 MB, solutions = 13)\n",
      "Nodefile size = 15773.95 MB (14750.93 MB after compression)\n",
      " 1136151 781359       34.7800   102       40.0000       31.4409 2.51e+08   21.40%\n",
      " 1137122 782637       38.7500    91       40.0000       31.4417 2.51e+08   21.40%\n",
      " 1137837 782291       34.4511    87       40.0000       31.4426 2.51e+08   21.39%\n",
      " 1138676 783187       37.1857    68       40.0000       31.4435 2.52e+08   21.39%\n",
      " 1139379 783791       36.5912    92       40.0000       31.4439 2.52e+08   21.39%\n",
      " 1140141 783913       35.7561    84       40.0000       31.4441 2.52e+08   21.39%\n",
      " 1140945 784574       38.5000    66       40.0000       31.4450 2.52e+08   21.39%\n",
      " 1141775 785463       33.6332   127       40.0000       31.4460 2.53e+08   21.39%\n",
      " 1142537 785663       34.4698   131       40.0000       31.4467 2.53e+08   21.38%\n",
      " 1143304 786827       33.6888    95       40.0000       31.4477 2.54e+08   21.38%\n",
      "Elapsed time = 5988.19 sec. (3455191.51 ticks, tree = 17975.66 MB, solutions = 13)\n",
      "Nodefile size = 15928.14 MB (14897.72 MB after compression)\n",
      " 1144092 787211       33.2892    86       40.0000       31.4481 2.54e+08   21.38%\n",
      " 1144796 787063       37.2500    69       40.0000       31.4491 2.54e+08   21.38%\n",
      " 1145508 788218       38.9973    98       40.0000       31.4497 2.54e+08   21.38%\n",
      " 1146224 788673       37.4200    91       40.0000       31.4505 2.54e+08   21.37%\n",
      " 1147004 788990       33.7973    94       40.0000       31.4513 2.55e+08   21.37%\n",
      " 1147842 789037       38.9699   103       40.0000       31.4517 2.55e+08   21.37%\n",
      " 1148823 789421       38.0251    65       40.0000       31.4525 2.55e+08   21.37%\n",
      " 1149533 790968        cutoff             40.0000       31.4536 2.56e+08   21.37%\n",
      " 1150191 790836       38.5772    91       40.0000       31.4540 2.56e+08   21.37%\n",
      " 1150903 791551       36.1310   105       40.0000       31.4545 2.56e+08   21.36%\n",
      "Elapsed time = 6058.83 sec. (3493371.66 ticks, tree = 18097.75 MB, solutions = 13)\n",
      "Nodefile size = 16050.06 MB (15013.68 MB after compression)\n",
      " 1151715 791429       38.7500    70       40.0000       31.4554 2.56e+08   21.36%\n",
      " 1152381 792044       35.2597    79       40.0000       31.4566 2.56e+08   21.36%\n",
      " 1152993 792399       32.5399   107       40.0000       31.4577 2.57e+08   21.36%\n",
      " 1153653 793118       33.2600   116       40.0000       31.4584 2.57e+08   21.35%\n",
      " 1154426 793687       36.8700    76       40.0000       31.4589 2.57e+08   21.35%\n",
      " 1155063 793251       37.1667    66       40.0000       31.4595 2.57e+08   21.35%\n",
      " 1155894 794276       38.0000    86       40.0000       31.4607 2.58e+08   21.35%\n",
      " 1156670 794565       32.3460   150       40.0000       31.4616 2.58e+08   21.35%\n",
      " 1157433 794679       32.9561   115       40.0000       31.4625 2.58e+08   21.34%\n",
      " 1160717 797516       36.7615   118       40.0000       31.4657 2.59e+08   21.34%\n",
      "Elapsed time = 6147.92 sec. (3543008.36 ticks, tree = 18248.32 MB, solutions = 13)\n",
      "Nodefile size = 16200.75 MB (15157.02 MB after compression)\n",
      " 1163798 799465       38.6875   103       40.0000       31.4679 2.60e+08   21.33%\n",
      " 1166601 801169       38.3333    87       40.0000       31.4708 2.61e+08   21.32%\n",
      " 1169824 802932       34.4928   100       40.0000       31.4738 2.62e+08   21.32%\n",
      " 1173173 804716       38.8214    64       40.0000       31.4764 2.63e+08   21.31%\n",
      " 1175767 806873       36.4524    67       40.0000       31.4791 2.64e+08   21.30%\n",
      " 1178493 808851       33.4607    90       40.0000       31.4817 2.65e+08   21.30%\n",
      " 1181703 811306       36.0061    93       40.0000       31.4843 2.67e+08   21.29%\n",
      " 1184681 812830       34.7554   103       40.0000       31.4870 2.67e+08   21.28%\n",
      " 1187946 815438       35.4547    81       40.0000       31.4898 2.69e+08   21.28%\n",
      " 1190558 816357        cutoff             40.0000       31.4925 2.69e+08   21.27%\n",
      "Elapsed time = 6421.38 sec. (3695647.05 ticks, tree = 18727.06 MB, solutions = 13)\n",
      "Nodefile size = 16679.74 MB (15613.01 MB after compression)\n"
     ]
    },
    {
     "name": "stdout",
     "output_type": "stream",
     "text": [
      " 1193634 818701       37.0239    93       40.0000       31.4959 2.71e+08   21.26%\n",
      " 1197398 819990       38.0000    41       40.0000       31.4980 2.71e+08   21.26%\n",
      " 1200956 822036       37.9555    87       40.0000       31.5000 2.73e+08   21.25%\n",
      " 1204031 823654        cutoff             40.0000       31.5000 2.74e+08   21.25%\n",
      " 1207181 824946       32.9565    72       40.0000       31.5014 2.74e+08   21.25%\n",
      " 1210420 827560       38.0568    90       40.0000       31.5045 2.76e+08   21.24%\n",
      " 1213691 829223       38.6842    84       40.0000       31.5076 2.76e+08   21.23%\n",
      " 1216832 831232       36.3647    91       40.0000       31.5101 2.78e+08   21.22%\n",
      " 1219812 833740       31.9270   156       40.0000       31.5123 2.79e+08   21.22%\n",
      " 1222620 835117       38.5980    77       40.0000       31.5154 2.79e+08   21.21%\n",
      "Elapsed time = 6703.61 sec. (3848278.52 ticks, tree = 19242.93 MB, solutions = 13)\n",
      "Nodefile size = 17195.13 MB (16103.40 MB after compression)\n",
      " 1225728 837204        cutoff             40.0000       31.5174 2.81e+08   21.21%\n",
      " 1228599 839136       31.8366   138       40.0000       31.5203 2.82e+08   21.20%\n",
      " 1231930 840675       34.1141   102       40.0000       31.5229 2.83e+08   21.19%\n",
      " 1235032 843014       38.7500    83       40.0000       31.5251 2.84e+08   21.19%\n",
      " 1238265 844643       38.7500    76       40.0000       31.5277 2.85e+08   21.18%\n",
      " 1241179 846424       36.8507   111       40.0000       31.5297 2.85e+08   21.18%\n",
      " 1244059 848843       36.2500    67       40.0000       31.5326 2.87e+08   21.17%\n",
      " 1247132 850137       37.1667    89       40.0000       31.5347 2.88e+08   21.16%\n",
      " 1250391 852198       33.6875   107       40.0000       31.5371 2.89e+08   21.16%\n",
      " 1253499 854617       33.8197   107       40.0000       31.5395 2.90e+08   21.15%\n",
      "Elapsed time = 6986.39 sec. (4000905.79 ticks, tree = 19778.02 MB, solutions = 13)\n",
      "Nodefile size = 17730.68 MB (16613.36 MB after compression)\n",
      " 1256477 857010        cutoff             40.0000       31.5411 2.91e+08   21.15%\n",
      " 1259296 858406       37.1944    73       40.0000       31.5439 2.92e+08   21.14%\n",
      " 1262574 860180       37.7500   104       40.0000       31.5459 2.93e+08   21.14%\n",
      " 1265226 862808       36.2500    83       40.0000       31.5485 2.94e+08   21.13%\n",
      " 1268434 864013        cutoff             40.0000       31.5507 2.95e+08   21.12%\n",
      " 1271506 866294       36.8571    80       40.0000       31.5536 2.96e+08   21.12%\n",
      " 1274464 868254       32.4008    96       40.0000       31.5562 2.97e+08   21.11%\n",
      " 1277125 870053       38.5000    86       40.0000       31.5593 2.98e+08   21.10%\n",
      " 1280349 870855       31.5952   120       40.0000       31.5613 2.99e+08   21.10%\n",
      " 1283236 873629       32.1493   121       40.0000       31.5638 3.00e+08   21.09%\n",
      "Elapsed time = 7264.03 sec. (4153541.28 ticks, tree = 20294.84 MB, solutions = 13)\n",
      "Nodefile size = 18247.75 MB (17106.67 MB after compression)\n",
      " 1286138 875879        cutoff             40.0000       31.5664 3.01e+08   21.08%\n",
      " 1288703 876475       36.7714    96       40.0000       31.5684 3.02e+08   21.08%\n",
      " 1291695 879182       37.4563    77       40.0000       31.5714 3.03e+08   21.07%\n",
      " 1294803 881006       35.7230   104       40.0000       31.5732 3.04e+08   21.07%\n",
      " 1297776 883171       35.4879    98       40.0000       31.5761 3.05e+08   21.06%\n",
      " 1300553 884717       37.1382   105       40.0000       31.5786 3.06e+08   21.05%\n",
      " 1303599 886073       38.8386   106       40.0000       31.5809 3.07e+08   21.05%\n",
      " 1306562 888098       34.3266   111       40.0000       31.5828 3.08e+08   21.04%\n",
      " 1309896 890355       37.1182   109       40.0000       31.5849 3.09e+08   21.04%\n",
      " 1312735 892400       33.0431   120       40.0000       31.5867 3.10e+08   21.03%\n",
      "Elapsed time = 7539.40 sec. (4306204.32 ticks, tree = 20805.67 MB, solutions = 13)\n",
      "Nodefile size = 18757.84 MB (17593.23 MB after compression)\n",
      " 1315154 893331       32.4441   119       40.0000       31.5888 3.11e+08   21.03%\n",
      " 1317902 894798       32.7097   115       40.0000       31.5913 3.12e+08   21.02%\n",
      " 1320961 897172       32.5700   100       40.0000       31.5930 3.13e+08   21.02%\n",
      " 1323662 898598       35.6726    81       40.0000       31.5951 3.14e+08   21.01%\n",
      " 1326801 900012        cutoff             40.0000       31.5975 3.15e+08   21.01%\n",
      " 1329487 901953       36.2500    84       40.0000       31.5993 3.16e+08   21.00%\n",
      " 1332101 903921       38.9538    92       40.0000       31.6012 3.17e+08   21.00%\n",
      " 1335145 905281       33.6189    81       40.0000       31.6039 3.18e+08   20.99%\n",
      " 1337851 907209       36.3334    93       40.0000       31.6054 3.19e+08   20.99%\n",
      " 1340915 908905       38.6667    78       40.0000       31.6081 3.20e+08   20.98%\n",
      "Elapsed time = 7804.47 sec. (4458834.56 ticks, tree = 21271.04 MB, solutions = 13)\n",
      "Nodefile size = 19223.93 MB (18037.65 MB after compression)\n",
      " 1343931 910748        cutoff             40.0000       31.6101 3.21e+08   20.97%\n",
      " 1346832 913084       38.7857    82       40.0000       31.6126 3.22e+08   20.97%\n",
      " 1349530 914739       38.3258    82       40.0000       31.6148 3.23e+08   20.96%\n",
      " 1352407 916501       35.1991    84       40.0000       31.6165 3.24e+08   20.96%\n",
      " 1355169 917991       37.1592    90       40.0000       31.6180 3.25e+08   20.96%\n",
      " 1357715 920442       38.6729   107       40.0000       31.6202 3.26e+08   20.95%\n",
      " 1360629 921889       34.5376   101       40.0000       31.6228 3.27e+08   20.94%\n",
      " 1363376 923855       34.0590   117       40.0000       31.6241 3.29e+08   20.94%\n",
      " 1366299 925316       38.6598    78       40.0000       31.6257 3.29e+08   20.94%\n",
      " 1369348 926496       33.7595   132       40.0000       31.6280 3.30e+08   20.93%\n",
      "Elapsed time = 8094.18 sec. (4611470.06 ticks, tree = 21758.10 MB, solutions = 13)\n",
      "Nodefile size = 19710.36 MB (18502.34 MB after compression)\n",
      " 1371882 929325        cutoff             40.0000       31.6302 3.32e+08   20.92%\n",
      " 1374560 930121       35.2126    83       40.0000       31.6322 3.32e+08   20.92%\n",
      " 1377417 932009        cutoff             40.0000       31.6340 3.33e+08   20.92%\n",
      " 1380230 933790       38.5000    82       40.0000       31.6363 3.34e+08   20.91%\n",
      " 1383008 935174       35.0245    83       40.0000       31.6386 3.35e+08   20.90%\n",
      " 1385480 936646        cutoff             40.0000       31.6408 3.36e+08   20.90%\n",
      " 1388043 937870       38.8333    95       40.0000       31.6425 3.37e+08   20.89%\n",
      " 1390682 939827       37.6837    97       40.0000       31.6443 3.38e+08   20.89%\n",
      " 1393486 941878       38.6923    72       40.0000       31.6464 3.39e+08   20.88%\n",
      " 1395957 943829       35.4713   134       40.0000       31.6485 3.41e+08   20.88%\n",
      "Elapsed time = 8497.92 sec. (4764115.25 ticks, tree = 22184.13 MB, solutions = 13)\n",
      "Nodefile size = 20136.22 MB (18908.55 MB after compression)\n",
      " 1398714 944985       34.6191    99       40.0000       31.6504 3.41e+08   20.87%\n",
      " 1401171 946909        cutoff             40.0000       31.6526 3.43e+08   20.87%\n",
      " 1403934 947517       36.2622    76       40.0000       31.6539 3.43e+08   20.87%\n",
      " 1406204 949750        cutoff             40.0000       31.6561 3.44e+08   20.86%\n",
      " 1408986 951037       33.2953   115       40.0000       31.6579 3.45e+08   20.86%\n",
      " 1411851 952221       37.2533   114       40.0000       31.6597 3.46e+08   20.85%\n",
      " 1414328 954579       37.8886   104       40.0000       31.6616 3.47e+08   20.85%\n",
      " 1417205 955204       38.9950   103       40.0000       31.6630 3.48e+08   20.84%\n",
      " 1420204 957122       38.4516    70       40.0000       31.6651 3.49e+08   20.84%\n",
      " 1422663 959681       33.9949   110       40.0000       31.6667 3.51e+08   20.83%\n",
      "Elapsed time = 8891.85 sec. (4916785.21 ticks, tree = 22594.68 MB, solutions = 13)\n",
      "Nodefile size = 20546.71 MB (19300.30 MB after compression)\n",
      " 1425399 960407       37.3418   123       40.0000       31.6681 3.51e+08   20.83%\n",
      " 1428121 962199       31.7749   133       40.0000       31.6696 3.52e+08   20.83%\n",
      " 1430683 963834       35.5309   101       40.0000       31.6715 3.53e+08   20.82%\n",
      " 1433423 965380        cutoff             40.0000       31.6735 3.54e+08   20.82%\n",
      " 1435776 967966        cutoff             40.0000       31.6753 3.56e+08   20.81%\n"
     ]
    },
    {
     "name": "stdout",
     "output_type": "stream",
     "text": [
      " 1438290 969200        cutoff             40.0000       31.6776 3.57e+08   20.81%\n",
      " 1440928 970779       34.6636   108       40.0000       31.6796 3.57e+08   20.80%\n",
      " 1443547 972284       38.6389    89       40.0000       31.6808 3.58e+08   20.80%\n",
      " 1446390 973089       37.3320    80       40.0000       31.6829 3.59e+08   20.79%\n",
      " 1448577 975502        cutoff             40.0000       31.6851 3.60e+08   20.79%\n",
      "Elapsed time = 9315.61 sec. (5069416.22 ticks, tree = 23024.40 MB, solutions = 13)\n",
      "Nodefile size = 20976.88 MB (19710.17 MB after compression)\n",
      " 1451154 977199       34.2668   135       40.0000       31.6875 3.62e+08   20.78%\n",
      " 1453952 978728       35.7437    90       40.0000       31.6898 3.62e+08   20.78%\n",
      " 1456818 979621       36.7013    69       40.0000       31.6912 3.63e+08   20.77%\n",
      " 1459651 981777       35.1710    87       40.0000       31.6932 3.64e+08   20.77%\n",
      " 1462061 983648        cutoff             40.0000       31.6951 3.65e+08   20.76%\n",
      " 1464470 985078       33.2528   106       40.0000       31.6966 3.66e+08   20.76%\n",
      " 1466976 985676       32.0197   132       40.0000       31.6990 3.67e+08   20.75%\n",
      " 1469737 987230       37.6315    88       40.0000       31.7001 3.68e+08   20.75%\n",
      " 1472373 989446       38.7115    93       40.0000       31.7017 3.69e+08   20.75%\n",
      " 1475158 991552       34.8163    91       40.0000       31.7039 3.71e+08   20.74%\n",
      "Elapsed time = 9609.08 sec. (5222069.16 ticks, tree = 23476.30 MB, solutions = 13)\n",
      "Nodefile size = 21428.96 MB (20141.01 MB after compression)\n",
      " 1477880 992773       37.1423   124       40.0000       31.7055 3.71e+08   20.74%\n",
      " 1480022 994291       34.2903   114       40.0000       31.7071 3.72e+08   20.73%\n",
      " 1482669 995436        cutoff             40.0000       31.7088 3.73e+08   20.73%\n",
      " 1485637 997536       38.9471    85       40.0000       31.7105 3.74e+08   20.72%\n",
      " 1488198 998911        cutoff             40.0000       31.7120 3.75e+08   20.72%\n",
      " 1490694 1000779       35.0524   123       40.0000       31.7145 3.76e+08   20.71%\n",
      " 1493160 1001515       32.9354   123       40.0000       31.7160 3.77e+08   20.71%\n",
      " 1495983 1003261       35.9145   106       40.0000       31.7178 3.78e+08   20.71%\n",
      " 1498639 1005055        cutoff             40.0000       31.7189 3.79e+08   20.70%\n",
      " 1501487 1006674       37.8882    90       40.0000       31.7200 3.80e+08   20.70%\n",
      "Elapsed time = 9913.96 sec. (5374758.65 ticks, tree = 23888.94 MB, solutions = 13)\n",
      "Nodefile size = 21841.57 MB (20534.01 MB after compression)\n",
      " 1504298 1008542       38.2847    92       40.0000       31.7214 3.81e+08   20.70%\n",
      " 1506475 1010570       35.4326    67       40.0000       31.7230 3.82e+08   20.69%\n",
      " 1508877 1011954       34.7403   124       40.0000       31.7249 3.83e+08   20.69%\n",
      " 1511638 1012925       38.9959    90       40.0000       31.7269 3.84e+08   20.68%\n",
      " 1514510 1014555       32.8094   128       40.0000       31.7280 3.85e+08   20.68%\n",
      " 1517197 1016865       36.2708   100       40.0000       31.7294 3.86e+08   20.68%\n",
      " 1519793 1018501       34.0260   108       40.0000       31.7314 3.87e+08   20.67%\n",
      " 1521880 1019512       36.1233    93       40.0000       31.7332 3.88e+08   20.67%\n",
      " 1524261 1021257       35.8624   100       40.0000       31.7347 3.89e+08   20.66%\n",
      " 1527070 1022655       38.4027    76       40.0000       31.7366 3.90e+08   20.66%\n",
      "Elapsed time = 10200.15 sec. (5527410.58 ticks, tree = 24303.22 MB, solutions = 13)\n",
      "Nodefile size = 22256.10 MB (20930.66 MB after compression)\n",
      " 1529813 1023931        cutoff             40.0000       31.7382 3.91e+08   20.65%\n",
      " 1532552 1026699       33.4076   121       40.0000       31.7402 3.92e+08   20.65%\n",
      " 1534989 1027980        cutoff             40.0000       31.7419 3.93e+08   20.65%\n",
      " 1537511 1029027       32.7908   123       40.0000       31.7437 3.94e+08   20.64%\n",
      " 1539865 1030361       33.3630   111       40.0000       31.7453 3.95e+08   20.64%\n",
      " 1542760 1031958       36.1146   116       40.0000       31.7468 3.96e+08   20.63%\n",
      " 1545484 1032968       36.3500   104       40.0000       31.7482 3.96e+08   20.63%\n"
     ]
    }
   ],
   "source": [
    "flw_index_list, y_lower_bound = model.findFreeLunchWitnesses()"
   ]
  },
  {
   "cell_type": "code",
   "execution_count": null,
   "metadata": {},
   "outputs": [],
   "source": []
  },
  {
   "cell_type": "code",
   "execution_count": null,
   "metadata": {},
   "outputs": [],
   "source": []
  },
  {
   "cell_type": "markdown",
   "metadata": {},
   "source": [
    "Organism:\n",
    "\n",
    "Version: \n",
    "\n",
    "Year:\n",
    "\n",
    "Paper link: \n",
    "\n",
    "Model Link: "
   ]
  },
  {
   "cell_type": "code",
   "execution_count": 19,
   "metadata": {},
   "outputs": [
    {
     "data": {
      "text/plain": [
       "253727"
      ]
     },
     "execution_count": 19,
     "metadata": {},
     "output_type": "execute_result"
    }
   ],
   "source": [
    "import gc\n",
    "gc.collect()"
   ]
  }
 ],
 "metadata": {
  "kernelspec": {
   "display_name": "Python 3",
   "language": "python",
   "name": "python3"
  },
  "language_info": {
   "codemirror_mode": {
    "name": "ipython",
    "version": 3
   },
   "file_extension": ".py",
   "mimetype": "text/x-python",
   "name": "python",
   "nbconvert_exporter": "python",
   "pygments_lexer": "ipython3",
   "version": "3.5.2"
  }
 },
 "nbformat": 4,
 "nbformat_minor": 2
}
