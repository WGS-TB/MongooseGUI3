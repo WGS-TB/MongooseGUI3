{
 "cells": [
  {
   "cell_type": "code",
   "execution_count": 1,
   "metadata": {},
   "outputs": [],
   "source": [
    "%run -i 'ModelParsing.py'"
   ]
  },
  {
   "cell_type": "code",
   "execution_count": 2,
   "metadata": {},
   "outputs": [],
   "source": [
    "def checkReactionBalance(model_obj,reaction_num, r_without_formula, atoms_set, excluded_atoms_list):\n",
    "    temp_dic = {}\n",
    "    Imbalance_stat = False\n",
    "    for i in atoms_set:\n",
    "        temp_dic[i] = 0\n",
    "    if reaction_num not in r_without_formula:\n",
    "        r = model.reactions[reaction_num]\n",
    "        for m in r.pairs:\n",
    "            for a in list(model.metabolites[m[0]].species.description['formula'].keys()):\n",
    "                temp_dic[a] = temp_dic[a]+(m[1]*model.metabolites[m[0]].species.description['formula'][a])\n",
    "    for k in excluded_atoms_list:\n",
    "        if (k in atoms_set and temp_dic[k]!=0):\n",
    "            #print(reaction_num)\n",
    "            return Imbalance_stat, temp_dic\n",
    "    for j in temp_dic:\n",
    "        if temp_dic[j]!=0:\n",
    "            Imbalance_stat = True\n",
    "    return Imbalance_stat, temp_dic"
   ]
  },
  {
   "cell_type": "code",
   "execution_count": 8,
   "metadata": {},
   "outputs": [],
   "source": [
    "def trueAtomsSet(model_obj,r_without_formula):\n",
    "    atoms_set = set()\n",
    "    for r in model.reactions:\n",
    "        if r.index not in r_without_formula:\n",
    "            for m in r.pairs:\n",
    "                atoms_set = atoms_set.union(model.metabolites[m[0]].species.description['formula'].keys())\n",
    "    print('List of atoms:',atoms_set)\n",
    "    excluded_atoms_list = [x for x in input('Would you like to exclude any atom?\\nIf yes write thier formula and splited with comma. If no press enter.\\n example: if you want to exclude oxygen and hydrogen write O,H.\\n').split(',')]\n",
    "    #for i in remove_list:\n",
    "        #if i in atoms_set:\n",
    "            #atoms_set.remove(i)\n",
    "    #print('Final atoms set',atoms_set)\n",
    "    return atoms_set,excluded_atoms_list"
   ]
  },
  {
   "cell_type": "code",
   "execution_count": 9,
   "metadata": {},
   "outputs": [],
   "source": [
    "def totalEBCHeck(model):\n",
    "    meta_with_formulas = [m.index for m in model.metabolites if len(m.species.description['formula'])!=0 ]\n",
    "    print('This model contains %d metabolites with assigned chemical formula'%len(meta_with_formulas))\n",
    "    r_without_formula =[]\n",
    "    for r in model.reactions:\n",
    "        for m in r.pairs:\n",
    "            if m[0] not in meta_with_formulas:\n",
    "                r_without_formula.append(r.index)\n",
    "    print('This model contains %d reaction without complete set of chemical formulas'%len(set(r_without_formula)))\n",
    "    excluded_r = find_biomass_reaction_candidates(model)+find_import_export_reactions(model.fullMatrix)\n",
    "    r_without_formula = r_without_formula + excluded_r\n",
    "    im_reaction_set = set()\n",
    "    if len(meta_with_formulas)!=0:\n",
    "        atoms_set,excluded_atoms_list = trueAtomsSet(model,r_without_formula)\n",
    "        for r in model.reactions:\n",
    "            Imbalance_stat, temp_dic  = checkReactionBalance(model,r.index, r_without_formula,atoms_set,excluded_atoms_list)\n",
    "            if Imbalance_stat:\n",
    "                im_reaction_set.add(r.index)\n",
    "        print('Number of imbalance reactions that we found:',len(im_reaction_set))\n",
    "    \n",
    "    return im_reaction_set"
   ]
  },
  {
   "cell_type": "markdown",
   "metadata": {},
   "source": [
    "Set of all atoms in the following models:\n",
    "\n",
    "{'Fe', 'Mo', 'e', 'Ca', 'Hg', 'N', 'Cl', 'X', 'C', 'S', 'P', 'Se', 'As', 'F', 'Mg', 'I', 'H', 'Co', 'R', 'Cu', 'Zn', 'K', 'Ni', 'Cd', 'Mn', 'W', 'O', 'Na'}\n"
   ]
  },
  {
   "cell_type": "markdown",
   "metadata": {},
   "source": [
    "# 1"
   ]
  },
  {
   "cell_type": "markdown",
   "metadata": {},
   "source": [
    "Organism: Piscirickettsia salmonis\n",
    "\n",
    "Version: iPS584\n",
    "\n",
    "Year:2018\n",
    "\n",
    "Paper link: https://www.frontiersin.org/articles/10.3389/fmicb.2017.02462/full\n",
    "\n",
    "Model Link: http://psalmonis.cmm.uchile.cl/models/"
   ]
  },
  {
   "cell_type": "code",
   "execution_count": 59,
   "metadata": {},
   "outputs": [
    {
     "name": "stdout",
     "output_type": "stream",
     "text": [
      "Warning: no candidate for extra, outside found in the list\n",
      "Warning: multiple candidates for biomass found in the list\n",
      "0) P. salmonis biomass objective function 1) P. salmonis biomass objective function without ions\n",
      "Please select the correct string from the list above and enter its number, or -1 if none \n",
      "0\n"
     ]
    }
   ],
   "source": [
    "model =parseSBML('/home/hzabeti/Desktop/UCSD models/Psalmonis_genome_scale_models/iPS584.xml')"
   ]
  },
  {
   "cell_type": "code",
   "execution_count": 6,
   "metadata": {},
   "outputs": [
    {
     "data": {
      "text/plain": [
       "{'ID': 'iPS584',\n",
       " 'Name': '',\n",
       " 'Source File': '/home/hzabeti/Desktop/UCSD models/Psalmonis_genome_scale_models/iPS584.xml'}"
      ]
     },
     "execution_count": 6,
     "metadata": {},
     "output_type": "execute_result"
    }
   ],
   "source": [
    "model.description"
   ]
  },
  {
   "cell_type": "code",
   "execution_count": 7,
   "metadata": {},
   "outputs": [
    {
     "data": {
      "text/plain": [
       "(1114, 1323)"
      ]
     },
     "execution_count": 7,
     "metadata": {},
     "output_type": "execute_result"
    }
   ],
   "source": [
    "getSize(model.fullMatrix)"
   ]
  },
  {
   "cell_type": "code",
   "execution_count": 8,
   "metadata": {},
   "outputs": [
    {
     "name": "stdout",
     "output_type": "stream",
     "text": [
      "No Free Lunch condition: Satisfied!\n"
     ]
    }
   ],
   "source": [
    "flm_index_list,flm_list = model.findFreeLunchMetabolites()"
   ]
  },
  {
   "cell_type": "code",
   "execution_count": 61,
   "metadata": {},
   "outputs": [
    {
     "name": "stdout",
     "output_type": "stream",
     "text": [
      "This model contains 1114 metabolites with assigned chemical formula\n",
      "This model contains 0 reaction without complete set of chemical formulas\n",
      "List of atoms: {'Fe', 'H', 'Co', 'Ca', 'Na', 'X', 'P', 'C', 'e', 'Cd', 'Ni', 'O', 'K', 'Zn', 'Mn', 'N', 'Cl', 'R', 'S', 'As', 'Hg', 'Mg', 'Cu'}\n",
      "Would you like to exclude any atom?\n",
      "If yes write thier formula and splited with comma. If no press enter.\n",
      " example: if you want to exclude oxygen and hydrogen write O,H.\n",
      "I,K,M,R,U,X,Y,e\n",
      "Number of imbalance reactions that we found: 0\n"
     ]
    }
   ],
   "source": [
    "im_reaction_set = totalEBCHeck(model)"
   ]
  },
  {
   "cell_type": "code",
   "execution_count": 24,
   "metadata": {},
   "outputs": [
    {
     "name": "stdout",
     "output_type": "stream",
     "text": [
      "{991}\n"
     ]
    }
   ],
   "source": [
    "print(im_reaction_set)"
   ]
  },
  {
   "cell_type": "code",
   "execution_count": 26,
   "metadata": {},
   "outputs": [
    {
     "name": "stdout",
     "output_type": "stream",
     "text": [
      "List of atoms: {'C', 'Co', 'Ni', 'O', 'R', 'S', 'Zn', 'H', 'e', 'P', 'Na', 'Fe', 'Hg', 'Ca', 'X', 'Mg', 'As', 'N', 'Cl', 'K', 'Cu', 'Mn', 'Cd'}\n",
      "Would you like to exclude any atom?\n",
      "If yes write thier formula and splited with comma. If no press enter.\n",
      " example: if you want to exclude oxygen and hydrogen write O,H.\n",
      "\n"
     ]
    }
   ],
   "source": [
    "atoms_set,excluded_atoms_list = trueAtomsSet(model)\n",
    "Imbalance_stat, temp_dic = checkReactionBalance(model,991, r_without_formula,atoms_set,excluded_atoms_list)"
   ]
  },
  {
   "cell_type": "code",
   "execution_count": 27,
   "metadata": {},
   "outputs": [
    {
     "name": "stdout",
     "output_type": "stream",
     "text": [
      "{'C': Fraction(0, 1), 'Co': 0, 'Ni': 0, 'O': Fraction(0, 1), 'P': Fraction(0, 1), 'R': 0, 'S': 0, 'Zn': 0, 'Hg': 0, 'e': Fraction(-4, 1), 'Na': 0, 'Fe': 0, 'Ca': 0, 'X': 0, 'As': 0, 'H': Fraction(0, 1), 'N': Fraction(0, 1), 'Cl': 0, 'K': 0, 'Cu': 0, 'Mn': 0, 'Cd': 0, 'Mg': 0}\n"
     ]
    }
   ],
   "source": [
    "print(temp_dic)"
   ]
  },
  {
   "cell_type": "code",
   "execution_count": 28,
   "metadata": {},
   "outputs": [
    {
     "name": "stdout",
     "output_type": "stream",
     "text": [
      "-1 {'N': 2, 'C': 128, 'e': 6, 'P': 2, 'O': 51, 'H': 228}\n",
      "-2 {'N': 1, 'C': 60, 'e': 0, 'P': 1, 'O': 7, 'H': 100}\n",
      "-2 {'N': 2, 'C': 15, 'e': 2, 'P': 2, 'O': 17, 'H': 22}\n",
      "-1 {'N': 2, 'C': 15, 'e': 2, 'P': 2, 'O': 17, 'H': 22}\n",
      "-1 {'N': 5, 'C': 16, 'e': 2, 'P': 2, 'O': 16, 'H': 23}\n",
      "-2 {'N': 5, 'C': 22, 'e': 2, 'P': 1, 'O': 15, 'H': 32}\n",
      "1 {'N': 8, 'C': 188, 'e': 0, 'P': 2, 'O': 91, 'H': 328}\n",
      "2 {'C': 55, 'e': 2, 'P': 1, 'H': 89, 'O': 4}\n",
      "3 {'N': 2, 'C': 9, 'e': 3, 'P': 2, 'O': 12, 'H': 11}\n",
      "6 {'H': 1, 'e': -1}\n",
      "1 {'N': 5, 'C': 10, 'e': 3, 'P': 2, 'O': 11, 'H': 12}\n",
      "2 {'N': 3, 'C': 9, 'e': 2, 'P': 1, 'O': 8, 'H': 12}\n"
     ]
    }
   ],
   "source": [
    "for i in model.reactions[991].pairs:\n",
    "    print(i[1],model.metabolites[i[0]].species.description['formula'])"
   ]
  },
  {
   "cell_type": "markdown",
   "metadata": {},
   "source": [
    "# 2"
   ]
  },
  {
   "cell_type": "markdown",
   "metadata": {},
   "source": [
    "Organism: Streptomyces clavuligerus\t\n",
    "\n",
    "Version: iLT1021\n",
    "\n",
    "Year: 2018\n",
    "\n",
    "Paper link: https://link.springer.com/article/10.1007%2Fs00449-018-1900-9\n",
    "\n",
    "Model Link: https://static-content.springer.com/esm/art%3A10.1007%2Fs00449-018-1900-9/MediaObjects/449_2018_1900_MOESM2_ESM.xml"
   ]
  },
  {
   "cell_type": "code",
   "execution_count": 30,
   "metadata": {},
   "outputs": [],
   "source": [
    "model =parseSBML('/home/hzabeti/Desktop/UCSD models/12918_2008_242_MOESM5_ESM.XML')"
   ]
  },
  {
   "cell_type": "code",
   "execution_count": 31,
   "metadata": {},
   "outputs": [
    {
     "data": {
      "text/plain": [
       "(828, 996)"
      ]
     },
     "execution_count": 31,
     "metadata": {},
     "output_type": "execute_result"
    }
   ],
   "source": [
    "getSize(model.fullMatrix)"
   ]
  },
  {
   "cell_type": "code",
   "execution_count": 5,
   "metadata": {},
   "outputs": [
    {
     "name": "stdout",
     "output_type": "stream",
     "text": [
      "No Free Lunch condition: Not satisfied!\n",
      "Optimum solution and the number of all possible free lunch metabolites 2\n"
     ]
    }
   ],
   "source": [
    "flm_index_list,flm_list = model.findFreeLunchMetabolites()"
   ]
  },
  {
   "cell_type": "code",
   "execution_count": 6,
   "metadata": {
    "scrolled": true
   },
   "outputs": [
    {
     "name": "stdout",
     "output_type": "stream",
     "text": [
      "[315, 335] ['M_PROTON_Periplasm', 'M_PROTON_Cytosol']\n"
     ]
    }
   ],
   "source": [
    "print(flm_index_list,flm_list)"
   ]
  },
  {
   "cell_type": "code",
   "execution_count": 7,
   "metadata": {},
   "outputs": [
    {
     "name": "stdout",
     "output_type": "stream",
     "text": [
      "Number of individually producible free lunch metabolites 2\n"
     ]
    }
   ],
   "source": [
    "ind_flm_index_list,ind_flm_list = model.findIndividuallyProducibleFLM()"
   ]
  },
  {
   "cell_type": "code",
   "execution_count": 8,
   "metadata": {},
   "outputs": [
    {
     "name": "stdout",
     "output_type": "stream",
     "text": [
      "Number of iteration:  0\n",
      "Number of reactions involved in FL: 5\n",
      "------------------------------------------------------------\n",
      "Checking index:  18\n",
      "This index is in the minimal set 18\n",
      "Checking index:  201\n",
      "This index is in the minimal set 201\n",
      "Checking index:  314\n",
      "This index is in the minimal set 314\n",
      "Checking index:  325\n",
      "This index is in the minimal set 325\n",
      "Checking index:  542\n",
      "This index is in the minimal set 542\n",
      "Minimal free lunch indexes: [18, 201, 314, 325, 542]\n",
      "------------------ minimal free lunch equation----------------\n",
      "3/4*(1 M_WATER_Cytosol[Cytosol] + 1 M_ATP_Cytosol[Cytosol] -> 1 M_PI_Cytosol[Cytosol] + 1 M_PROTON_Cytosol[Cytosol] + 1 M_ADP_Cytosol[Cytosol])\n",
      "-1/2*(1 M_WATER_Cytosol[Cytosol] + 1 M_ATP_Cytosol[Cytosol] -> 1 M_AMP_Cytosol[Cytosol] + 1 M_PPI_Cytosol[Cytosol])\n",
      "-1/4*(1 M_PI_Cytosol[Cytosol] + 4 M_PROTON_Periplasm[Periplasm] + 1 M_ADP_Cytosol[Cytosol] <-> 3 M_PROTON_Cytosol[Cytosol] + 1 M_WATER_Cytosol[Cytosol] + 1 M_ATP_Cytosol[Cytosol])\n",
      "-1/2*(1 M_PPI_Cytosol[Cytosol] + 1 M_WATER_Cytosol[Cytosol] -> 2 M_PI_Cytosol[Cytosol])\n",
      "-1/2*(1 M_AMP_Cytosol[Cytosol] + 1 M_ATP_Cytosol[Cytosol] <-> 2 M_ADP_Cytosol[Cytosol])\n",
      "-----------\n",
      "1*(M_PROTON_Periplasm)\n",
      "-------------------------------------------------------------\n"
     ]
    }
   ],
   "source": [
    "minimal_free_lunch,free_lunch_list,free_lunch_meta = model.findMinimalFreeLunch(free_lunch_meta_list=[315])"
   ]
  },
  {
   "cell_type": "code",
   "execution_count": 9,
   "metadata": {},
   "outputs": [
    {
     "name": "stdout",
     "output_type": "stream",
     "text": [
      "parameters.mip.tolerances.integrality\n",
      "CPXPARAM_Simplex_Tolerances_Feasibility          1.0000000000000001e-09\n",
      "CPXPARAM_Read_DataCheck                          1\n",
      "CPXPARAM_MIP_Tolerances_Integrality              1.0000000000000001e-15\n",
      "Found incumbent of value 230.000000 after 0.00 sec. (0.16 ticks)\n",
      "Tried aggregator 2 times.\n",
      "MIP Presolve eliminated 312 rows and 279 columns.\n",
      "MIP Presolve modified 1245 coefficients.\n",
      "Aggregator did 18 substitutions.\n",
      "Reduced MIP has 1418 rows, 1405 columns, and 7203 nonzeros.\n",
      "Reduced MIP has 797 binaries, 4 generals, 0 SOSs, and 0 indicators.\n",
      "Presolve time = 0.01 sec. (6.20 ticks)\n",
      "Probing time = 0.00 sec. (0.17 ticks)\n",
      "Tried aggregator 1 time.\n",
      "Reduced MIP has 1418 rows, 1405 columns, and 7203 nonzeros.\n",
      "Reduced MIP has 797 binaries, 4 generals, 0 SOSs, and 0 indicators.\n",
      "Presolve time = 0.00 sec. (2.91 ticks)\n",
      "Probing time = 0.00 sec. (0.17 ticks)\n",
      "MIP emphasis: balance optimality and feasibility.\n",
      "MIP search method: dynamic search.\n",
      "Parallel mode: deterministic, using up to 8 threads.\n",
      "Root relaxation solution time = 0.06 sec. (44.50 ticks)\n",
      "\n",
      "        Nodes                                         Cuts/\n",
      "   Node  Left     Objective  IInf  Best Integer    Best Bound    ItCnt     Gap\n",
      "\n",
      "*     0+    0                          230.0000        0.0000           100.00%\n",
      "*     0+    0                          210.0000        0.0000           100.00%\n",
      "*     0+    0                          209.0000        0.0000           100.00%\n",
      "      0     0        0.0000     6      209.0000        0.0000      878  100.00%\n",
      "*     0+    0                            6.0000        0.0000           100.00%\n",
      "      0     0        1.0000     7        6.0000     Covers: 1      887   83.33%\n",
      "      0     0        1.0000     5        6.0000     Covers: 1      888   83.33%\n",
      "      0     0        2.0000     9        6.0000     Covers: 1      898   66.67%\n",
      "      0     0        2.0000     4        6.0000     Covers: 1      899   66.67%\n",
      "      0     0        3.0000    18        6.0000     Covers: 1      981   50.00%\n",
      "      0     0        4.0000     3        6.0000     Covers: 1      985   33.33%\n",
      "\n",
      "Repeating presolve.\n",
      "Tried aggregator 3 times.\n",
      "MIP Presolve eliminated 560 rows and 693 columns.\n",
      "MIP Presolve modified 147 coefficients.\n",
      "Aggregator did 158 substitutions.\n",
      "Reduced MIP has 700 rows, 554 columns, and 3263 nonzeros.\n",
      "Reduced MIP has 119 binaries, 0 generals, 0 SOSs, and 0 indicators.\n",
      "Presolve time = 0.01 sec. (5.61 ticks)\n",
      "Probing time = 0.00 sec. (0.04 ticks)\n",
      "Tried aggregator 1 time.\n",
      "Reduced MIP has 700 rows, 554 columns, and 3263 nonzeros.\n",
      "Reduced MIP has 119 binaries, 0 generals, 0 SOSs, and 0 indicators.\n",
      "Presolve time = 0.00 sec. (1.32 ticks)\n",
      "Represolve time = 0.02 sec. (7.74 ticks)\n",
      "Probing time = 0.00 sec. (0.04 ticks)\n",
      "MIP emphasis: balance optimality and feasibility.\n",
      "MIP search method: dynamic search.\n",
      "Parallel mode: deterministic, using up to 8 threads.\n",
      "Root relaxation solution time = 0.01 sec. (10.86 ticks)\n",
      "\n",
      "        Nodes                                         Cuts/\n",
      "   Node  Left     Objective  IInf  Best Integer    Best Bound    ItCnt     Gap\n",
      "\n",
      "*     0+    0                            6.0000        4.0000            33.33%\n",
      "      0     0        4.0000     9        6.0000        4.0000     1260   33.33%\n",
      "      0     0        4.0000     6        6.0000     Covers: 2     1285   33.33%\n",
      "      0     0        4.0000     6        6.0000      Fract: 1     1308   33.33%\n",
      "      0     0        cutoff              6.0000                   1310    0.00%\n",
      "Elapsed time = 0.46 sec. (182.39 ticks, tree = 0.01 MB, solutions = 3)\n",
      "\n",
      "Cover cuts applied:  4\n",
      "\n",
      "Root node processing (before b&c):\n",
      "  Real time             =    0.46 sec. (182.49 ticks)\n",
      "Parallel b&c, 8 threads:\n",
      "  Real time             =    0.00 sec. (0.00 ticks)\n",
      "  Sync time (average)   =    0.00 sec.\n",
      "  Wait time (average)   =    0.00 sec.\n",
      "                          ------------\n",
      "Total (root+branch&cut) =    0.46 sec. (182.49 ticks)\n",
      "Number of free lunch witnesses: 6\n",
      "List of free lunch witnesses: [18, 314, 656, 824, 865, 955]\n",
      "Computed y lower bound 2.8735632183908046e-06\n"
     ]
    }
   ],
   "source": [
    "flw_index_list, y_lower_bound = model.findFreeLunchWitnesses()"
   ]
  },
  {
   "cell_type": "code",
   "execution_count": 38,
   "metadata": {},
   "outputs": [
    {
     "name": "stdout",
     "output_type": "stream",
     "text": [
      "This model contains 0 metabolites with assigned chemical formula\n",
      "This model contains 996 reaction without complete set of chemical formulas\n"
     ]
    }
   ],
   "source": [
    "im_reaction_set = totalEBCHeck(model)"
   ]
  },
  {
   "cell_type": "markdown",
   "metadata": {},
   "source": [
    "# 3"
   ]
  },
  {
   "cell_type": "markdown",
   "metadata": {},
   "source": [
    "Organism: Piscirickettsia salmonis\n",
    "\n",
    "Version: iPF215\n",
    "\n",
    "Year: 2016\n",
    "\n",
    "Paper link: https://www.sciencedirect.com/science/article/pii/S0960852416314304?via%3Dihub\n",
    "\n",
    "Model Link: https://ars.els-cdn.com/content/image/1-s2.0-S0960852416314304-mmc2.xml"
   ]
  },
  {
   "cell_type": "code",
   "execution_count": 39,
   "metadata": {},
   "outputs": [
    {
     "name": "stdout",
     "output_type": "stream",
     "text": [
      "Warning: no candidate for extra, outside found in the list\n"
     ]
    }
   ],
   "source": [
    "model =parseSBML('/home/hzabeti/Desktop/UCSD models/1-s2.0-S0960852416314304-mmc2.xml')"
   ]
  },
  {
   "cell_type": "code",
   "execution_count": 40,
   "metadata": {},
   "outputs": [
    {
     "data": {
      "text/plain": [
       "(449, 476)"
      ]
     },
     "execution_count": 40,
     "metadata": {},
     "output_type": "execute_result"
    }
   ],
   "source": [
    "getSize(model.fullMatrix)"
   ]
  },
  {
   "cell_type": "code",
   "execution_count": 13,
   "metadata": {},
   "outputs": [
    {
     "name": "stdout",
     "output_type": "stream",
     "text": [
      "No Free Lunch condition: Not satisfied!\n",
      "Optimum solution and the number of all possible free lunch metabolites 3\n"
     ]
    }
   ],
   "source": [
    "flm_index_list,flm_list = model.findFreeLunchMetabolites()"
   ]
  },
  {
   "cell_type": "code",
   "execution_count": 14,
   "metadata": {},
   "outputs": [
    {
     "name": "stdout",
     "output_type": "stream",
     "text": [
      "[152, 375, 446] ['M_cpd00067_e0_c', 'M_cpd00067_c0_c', 'M_cpd00067_e0_c_b']\n"
     ]
    }
   ],
   "source": [
    "print(flm_index_list,flm_list)"
   ]
  },
  {
   "cell_type": "code",
   "execution_count": 15,
   "metadata": {},
   "outputs": [
    {
     "name": "stdout",
     "output_type": "stream",
     "text": [
      "Number of individually producible free lunch metabolites 3\n"
     ]
    }
   ],
   "source": [
    "ind_flm_index_list,ind_flm_list = model.findIndividuallyProducibleFLM()"
   ]
  },
  {
   "cell_type": "code",
   "execution_count": 16,
   "metadata": {},
   "outputs": [
    {
     "name": "stdout",
     "output_type": "stream",
     "text": [
      "Number of iteration:  0\n",
      "Number of reactions involved in FL: 4\n",
      "------------------------------------------------------------\n",
      "Checking index:  49\n",
      "This index is in the minimal set 49\n",
      "Checking index:  106\n",
      "This index is in the minimal set 106\n",
      "Checking index:  302\n",
      "This index is in the minimal set 302\n",
      "Checking index:  329\n",
      "This index is in the minimal set 329\n",
      "Minimal free lunch indexes: [49, 106, 302, 329]\n",
      "------------------ minimal free lunch equation----------------\n",
      "-1*(1 M_cpd00072_c0_c[c] + 1 M_cpd00002_c0_c[c] -> 1 M_cpd00008_c0_c[c] + 1 M_cpd00290_c0_c[c])\n",
      "3/4*(1 M_cpd00002_c0_c[c] + 1 M_cpd00001_c0_c[c] -> 1 M_cpd00008_c0_c[c] + 1 M_cpd00009_c0_c[c] + 1 M_cpd00067_c0_c[c])\n",
      "-1*(1 M_cpd00290_c0_c[c] + 1 M_cpd00001_c0_c[c] -> 1 M_cpd00072_c0_c[c] + 1 M_cpd00009_c0_c[c])\n",
      "-1/4*(1 M_cpd00008_c0_c[c] + 1 M_cpd00009_c0_c[c] + 4 M_cpd00067_e0_c[c] -> 1 M_cpd00002_c0_c[c] + 1 M_cpd00001_c0_c[c] + 3 M_cpd00067_c0_c[c])\n",
      "-----------\n",
      "1*(M_cpd00067_e0_c)\n",
      "-------------------------------------------------------------\n"
     ]
    }
   ],
   "source": [
    "minimal_free_lunch,free_lunch_list,free_lunch_meta = model.findMinimalFreeLunch(free_lunch_meta_list=[152])"
   ]
  },
  {
   "cell_type": "code",
   "execution_count": 17,
   "metadata": {},
   "outputs": [
    {
     "name": "stdout",
     "output_type": "stream",
     "text": [
      "parameters.mip.tolerances.integrality\n",
      "CPXPARAM_Simplex_Tolerances_Feasibility          1.0000000000000001e-09\n",
      "CPXPARAM_Read_DataCheck                          1\n",
      "CPXPARAM_MIP_Tolerances_Integrality              1.0000000000000001e-15\n",
      "Found incumbent of value 204.000000 after 0.00 sec. (0.09 ticks)\n",
      "Tried aggregator 2 times.\n",
      "MIP Presolve eliminated 162 rows and 165 columns.\n",
      "MIP Presolve modified 442 coefficients.\n",
      "Aggregator did 4 substitutions.\n",
      "Reduced MIP has 784 rows, 755 columns, and 4269 nonzeros.\n",
      "Reduced MIP has 408 binaries, 1 generals, 0 SOSs, and 0 indicators.\n",
      "Presolve time = 0.01 sec. (3.60 ticks)\n",
      "Probing time = 0.00 sec. (0.08 ticks)\n",
      "Tried aggregator 1 time.\n",
      "Reduced MIP has 784 rows, 755 columns, and 4269 nonzeros.\n",
      "Reduced MIP has 408 binaries, 1 generals, 0 SOSs, and 0 indicators.\n",
      "Presolve time = 0.00 sec. (1.68 ticks)\n",
      "Probing time = 0.00 sec. (0.08 ticks)\n",
      "MIP emphasis: balance optimality and feasibility.\n",
      "MIP search method: dynamic search.\n",
      "Parallel mode: deterministic, using up to 8 threads.\n",
      "Root relaxation solution time = 0.02 sec. (17.23 ticks)\n",
      "\n",
      "        Nodes                                         Cuts/\n",
      "   Node  Left     Objective  IInf  Best Integer    Best Bound    ItCnt     Gap\n",
      "\n",
      "*     0+    0                          204.0000        0.0000           100.00%\n",
      "*     0+    0                          188.0000        0.0000           100.00%\n",
      "      0     0        0.0000     1      188.0000        0.0000      529  100.00%\n",
      "*     0+    0                            1.0000        0.0000           100.00%\n",
      "      0     0        cutoff              1.0000                    529    0.00%\n",
      "Elapsed time = 0.06 sec. (28.31 ticks, tree = 0.01 MB, solutions = 2)\n",
      "\n",
      "Root node processing (before b&c):\n",
      "  Real time             =    0.06 sec. (28.38 ticks)\n",
      "Parallel b&c, 8 threads:\n",
      "  Real time             =    0.00 sec. (0.00 ticks)\n",
      "  Sync time (average)   =    0.00 sec.\n",
      "  Wait time (average)   =    0.00 sec.\n",
      "                          ------------\n",
      "Total (root+branch&cut) =    0.06 sec. (28.38 ticks)\n",
      "Number of free lunch witnesses: 1\n",
      "List of free lunch witnesses: [302]\n",
      "Computed y lower bound 8.116883116883117e-07\n"
     ]
    }
   ],
   "source": [
    "flw_index_list, y_lower_bound = model.findFreeLunchWitnesses()"
   ]
  },
  {
   "cell_type": "code",
   "execution_count": 41,
   "metadata": {},
   "outputs": [
    {
     "name": "stdout",
     "output_type": "stream",
     "text": [
      "This model contains 0 metabolites with assigned chemical formula\n",
      "This model contains 476 reaction without complete set of chemical formulas\n"
     ]
    }
   ],
   "source": [
    "im_reaction_set = totalEBCHeck(model)"
   ]
  },
  {
   "cell_type": "markdown",
   "metadata": {},
   "source": [
    "# 4"
   ]
  },
  {
   "cell_type": "markdown",
   "metadata": {},
   "source": [
    "Organism: Ralstonia solanacearum\n",
    "\n",
    "Version: iRP1476\n",
    "\n",
    "Year: 2016\n",
    "\n",
    "Paper link: https://journals.plos.org/plospathogens/article?id=10.1371/journal.ppat.1005939\n",
    "\n",
    "Model Link: http://lipm-bioinfo.toulouse.inra.fr/systemsbiology/models/rsolanacearum/data/metabolism/sbml/1.0/iRP1476.xml"
   ]
  },
  {
   "cell_type": "code",
   "execution_count": 42,
   "metadata": {},
   "outputs": [
    {
     "name": "stdout",
     "output_type": "stream",
     "text": [
      "Warning: no candidate for extra, outside found in the list\n"
     ]
    }
   ],
   "source": [
    "model =parseSBML('/home/hzabeti/Desktop/UCSD models/iRP1476.xml')"
   ]
  },
  {
   "cell_type": "code",
   "execution_count": 43,
   "metadata": {},
   "outputs": [
    {
     "data": {
      "text/plain": [
       "{'ID': 'iRP1476',\n",
       " 'Name': 'Ralstonia solanacearum GMI1000 iRP1476',\n",
       " 'Source File': '/home/hzabeti/Desktop/UCSD models/iRP1476.xml'}"
      ]
     },
     "execution_count": 43,
     "metadata": {},
     "output_type": "execute_result"
    }
   ],
   "source": [
    "model.description"
   ]
  },
  {
   "cell_type": "code",
   "execution_count": 43,
   "metadata": {},
   "outputs": [
    {
     "data": {
      "text/plain": [
       "(2574, 2644)"
      ]
     },
     "execution_count": 43,
     "metadata": {},
     "output_type": "execute_result"
    }
   ],
   "source": [
    "getSize(model.fullMatrix)"
   ]
  },
  {
   "cell_type": "code",
   "execution_count": 44,
   "metadata": {},
   "outputs": [
    {
     "name": "stdout",
     "output_type": "stream",
     "text": [
      "No Free Lunch condition: Satisfied!\n"
     ]
    }
   ],
   "source": [
    "flm_index_list,flm_list = model.findFreeLunchMetabolites()"
   ]
  },
  {
   "cell_type": "code",
   "execution_count": 45,
   "metadata": {},
   "outputs": [
    {
     "name": "stdout",
     "output_type": "stream",
     "text": [
      "Number of individually producible free lunch metabolites 0\n"
     ]
    }
   ],
   "source": [
    "ind_flm_index_list,ind_flm_list = model.findIndividuallyProducibleFLM()"
   ]
  },
  {
   "cell_type": "code",
   "execution_count": 46,
   "metadata": {},
   "outputs": [],
   "source": [
    "minimal_free_lunch,free_lunch_list,free_lunch_meta = model.findMinimalFreeLunch()"
   ]
  },
  {
   "cell_type": "code",
   "execution_count": 48,
   "metadata": {},
   "outputs": [
    {
     "name": "stdout",
     "output_type": "stream",
     "text": [
      "[]\n"
     ]
    }
   ],
   "source": [
    "print(minimal_free_lunch)"
   ]
  },
  {
   "cell_type": "code",
   "execution_count": 47,
   "metadata": {},
   "outputs": [
    {
     "name": "stdout",
     "output_type": "stream",
     "text": [
      "parameters.mip.tolerances.integrality\n",
      "CPXPARAM_Simplex_Tolerances_Feasibility          1.0000000000000001e-09\n",
      "CPXPARAM_Read_DataCheck                          1\n",
      "CPXPARAM_MIP_Tolerances_Integrality              1.0000000000000001e-15\n",
      "Found incumbent of value 1224.000000 after 0.06 sec. (0.59 ticks)\n",
      "Tried aggregator 3 times.\n",
      "MIP Presolve eliminated 2176 rows and 2089 columns.\n",
      "MIP Presolve modified 9076 coefficients.\n",
      "Aggregator did 17 substitutions.\n",
      "Reduced MIP has 3093 rows, 3109 columns, and 21209 nonzeros.\n",
      "Reduced MIP has 1842 binaries, 10 generals, 0 SOSs, and 0 indicators.\n",
      "Presolve time = 0.09 sec. (50.91 ticks)\n",
      "Probing time = 0.00 sec. (0.26 ticks)\n",
      "Tried aggregator 1 time.\n",
      "MIP Presolve eliminated 8 rows and 8 columns.\n",
      "Reduced MIP has 3085 rows, 3101 columns, and 21185 nonzeros.\n",
      "Reduced MIP has 1838 binaries, 10 generals, 0 SOSs, and 0 indicators.\n",
      "Presolve time = 0.05 sec. (7.88 ticks)\n",
      "Probing time = 0.00 sec. (0.26 ticks)\n",
      "MIP emphasis: balance optimality and feasibility.\n",
      "MIP search method: dynamic search.\n",
      "Parallel mode: deterministic, using up to 8 threads.\n",
      "\n",
      "Root node processing (before b&c):\n",
      "  Real time             =    0.85 sec. (430.75 ticks)\n",
      "Parallel b&c, 8 threads:\n",
      "  Real time             =    0.00 sec. (0.00 ticks)\n",
      "  Sync time (average)   =    0.00 sec.\n",
      "  Wait time (average)   =    0.00 sec.\n",
      "                          ------------\n",
      "Total (root+branch&cut) =    0.85 sec. (430.75 ticks)\n",
      "Number of free lunch witnesses: 0\n",
      "List of free lunch witnesses: []\n",
      "Computed y lower bound 1.0000000010000002e-09\n"
     ]
    }
   ],
   "source": [
    "flw_index_list, y_lower_bound = model.findFreeLunchWitnesses()"
   ]
  },
  {
   "cell_type": "code",
   "execution_count": 44,
   "metadata": {},
   "outputs": [
    {
     "name": "stdout",
     "output_type": "stream",
     "text": [
      "This model contains 0 metabolites with assigned chemical formula\n",
      "This model contains 2644 reaction without complete set of chemical formulas\n"
     ]
    }
   ],
   "source": [
    "im_reaction_set = totalEBCHeck(model)"
   ]
  },
  {
   "cell_type": "markdown",
   "metadata": {},
   "source": [
    "# 5"
   ]
  },
  {
   "cell_type": "markdown",
   "metadata": {},
   "source": [
    "Organism: Mycobacterium tuberculosis\n",
    "\n",
    "Version: iNJ661m\n",
    "\n",
    "Year: 2010\n",
    "\n",
    "Paper link: https://bmcsystbiol.biomedcentral.com/articles/10.1186/1752-0509-4-160\n",
    "\n",
    "Model Link: https://static-content.springer.com/esm/art%3A10.1186%2F1752-0509-4-160/MediaObjects/12918_2010_571_MOESM2_ESM.XML"
   ]
  },
  {
   "cell_type": "code",
   "execution_count": 45,
   "metadata": {},
   "outputs": [
    {
     "name": "stdout",
     "output_type": "stream",
     "text": [
      "Warning: no candidate for extra, outside found in the list\n"
     ]
    }
   ],
   "source": [
    "model =parseSBML('/home/hzabeti/Desktop/UCSD models/12918_2010_571_MOESM2_ESM.XML')"
   ]
  },
  {
   "cell_type": "code",
   "execution_count": 46,
   "metadata": {},
   "outputs": [
    {
     "data": {
      "text/plain": [
       "{'ID': 'iNJ661m_SBML_xml',\n",
       " 'Name': 'iNJ661m_SBML_xml',\n",
       " 'Source File': '/home/hzabeti/Desktop/UCSD models/12918_2010_571_MOESM2_ESM.XML'}"
      ]
     },
     "execution_count": 46,
     "metadata": {},
     "output_type": "execute_result"
    }
   ],
   "source": [
    "model.description"
   ]
  },
  {
   "cell_type": "code",
   "execution_count": 233,
   "metadata": {},
   "outputs": [
    {
     "data": {
      "text/plain": [
       "(934, 1049)"
      ]
     },
     "execution_count": 233,
     "metadata": {},
     "output_type": "execute_result"
    }
   ],
   "source": [
    "getSize(model.fullMatrix)"
   ]
  },
  {
   "cell_type": "code",
   "execution_count": 34,
   "metadata": {},
   "outputs": [
    {
     "name": "stdout",
     "output_type": "stream",
     "text": [
      "No Free Lunch condition: Not satisfied!\n",
      "Optimum solution and the number of all possible free lunch metabolites 242\n"
     ]
    }
   ],
   "source": [
    "flm_index_list,flm_list = model.findFreeLunchMetabolites()"
   ]
  },
  {
   "cell_type": "code",
   "execution_count": 37,
   "metadata": {},
   "outputs": [
    {
     "name": "stdout",
     "output_type": "stream",
     "text": [
      "60 M_4h2opntn_c\n"
     ]
    }
   ],
   "source": [
    "print(flm_index_list,flm_list)"
   ]
  },
  {
   "cell_type": "code",
   "execution_count": 36,
   "metadata": {},
   "outputs": [
    {
     "name": "stdout",
     "output_type": "stream",
     "text": [
      "Number of individually producible free lunch metabolites 242\n"
     ]
    }
   ],
   "source": [
    "ind_flm_index_list,ind_flm_list = model.findIndividuallyProducibleFLM()"
   ]
  },
  {
   "cell_type": "code",
   "execution_count": 38,
   "metadata": {
    "scrolled": false
   },
   "outputs": [
    {
     "name": "stdout",
     "output_type": "stream",
     "text": [
      "Number of iteration:  0\n",
      "Number of reactions involved in FL: 31\n",
      "------------------------------------------------------------\n",
      "Checking index:  11\n",
      "This index is in the minimal set 11\n",
      "Checking index:  24\n",
      "This index is in the minimal set 24\n",
      "Checking index:  167\n",
      "This index is in the minimal set 167\n",
      "Checking index:  357\n",
      "This index is in the minimal set 357\n",
      "Checking index:  359\n",
      "This index is in the minimal set 359\n",
      "Checking index:  360\n",
      "This index is in the minimal set 360\n",
      "Checking index:  418\n",
      "This index is in the minimal set 418\n",
      "Checking index:  428\n",
      "This index is in the minimal set 428\n",
      "Checking index:  534\n",
      "This index is in the minimal set 534\n",
      "Checking index:  547\n",
      "This index is in the minimal set 547\n",
      "Checking index:  584\n",
      "This index is in the minimal set 584\n",
      "Checking index:  598\n",
      "This index is in the minimal set 598\n",
      "Checking index:  599\n",
      "This index is in the minimal set 599\n",
      "Checking index:  601\n",
      "This index is in the minimal set 601\n",
      "Checking index:  602\n",
      "This index is in the minimal set 602\n",
      "Checking index:  643\n",
      "This index is in the minimal set 643\n",
      "Checking index:  645\n",
      "This index is in the minimal set 645\n",
      "Checking index:  646\n",
      "This index is in the minimal set 646\n",
      "Checking index:  647\n",
      "This index is in the minimal set 647\n",
      "Checking index:  648\n",
      "This index is in the minimal set 648\n",
      "Checking index:  650\n",
      "This index is in the minimal set 650\n",
      "Checking index:  653\n",
      "This index is in the minimal set 653\n",
      "Checking index:  655\n",
      "This index is in the minimal set 655\n",
      "Checking index:  656\n",
      "This index is in the minimal set 656\n",
      "Checking index:  658\n",
      "This index is in the minimal set 658\n",
      "Checking index:  660\n",
      "This index is in the minimal set 660\n",
      "Checking index:  661\n",
      "This index is in the minimal set 661\n",
      "Checking index:  663\n",
      "This index is in the minimal set 663\n",
      "Checking index:  664\n",
      "This index is in the minimal set 664\n",
      "Checking index:  667\n",
      "This index is in the minimal set 667\n",
      "Checking index:  759\n",
      "This index is not in the minimal 759\n",
      "Minimal free lunch indexes: [11, 24, 167, 357, 359, 360, 418, 428, 534, 547, 584, 598, 599, 601, 602, 643, 645, 646, 647, 648, 650, 653, 655, 656, 658, 660, 661, 663, 664, 667]\n",
      "------------------ minimal free lunch equation----------------\n",
      "-3*(1 M_acald_c[C_c] + 1 M_coa_c[C_c] + 1 M_nad_c[C_c] -> 1 M_accoa_c[C_c] + 1 M_h_c[C_c] + 1 M_nadh_c[C_c])\n",
      "1*(1 M_cit_c[C_c] <-> 1 M_icit_c[C_c])\n",
      "1*(1 M_accoa_c[C_c] + 1 M_h2o_c[C_c] + 1 M_oaa_c[C_c] -> 1 M_cit_c[C_c] + 1 M_coa_c[C_c] + 1 M_h_c[C_c])\n",
      "8*(1 M_amp_c[C_c] + 1 M_h_c[C_c] + 1 M_mmeroacidcyc2ACP_c[C_c] -> 1 M_ACP_c[C_c] + 1 M_mmeroacidcyc2AMP_c[C_c])\n",
      "-3*(1 M_amp_c[C_c] + 1 M_h_c[C_c] + 1 M_mmmeroacidcyc1ACP_c[C_c] -> 1 M_ACP_c[C_c] + 1 M_mmmeroacidcyc1AMP_c[C_c])\n",
      "-5*(1 M_amp_c[C_c] + 1 M_h_c[C_c] + 1 M_mkmeroacidcyc1ACP_c[C_c] -> 1 M_ACP_c[C_c] + 1 M_mkmeroacidcyc1AMP_c[C_c])\n",
      "-1*(1 M_fum_c[C_c] + 1 M_mql8_c[C_c] <-> 1 M_mqn8_c[C_c] + 1 M_succ_c[C_c])\n",
      "1*(1 M_fum_c[C_c] + 1 M_h2o_c[C_c] <-> 1 M_mal_L_c[C_c])\n",
      "-1*(1 M_4h2opntn_c[C_c] -> 1 M_acald_c[C_c] + 1 M_pyr_c[C_c])\n",
      "1*(1 M_icit_c[C_c] -> 1 M_glx_c[C_c] + 1 M_succ_c[C_c])\n",
      "1*(1 M_accoa_c[C_c] + 1 M_glx_c[C_c] + 1 M_h2o_c[C_c] -> 1 M_coa_c[C_c] + 1 M_h_c[C_c] + 1 M_mal_L_c[C_c])\n",
      "5*(1 M_h_c[C_c] + 1 M_malcoa_c[C_c] -> 1 M_accoa_c[C_c] + 1 M_co2_c[C_c])\n",
      "-5*(1 M_ACP_c[C_c] + 1 M_malcoa_c[C_c] <-> 1 M_coa_c[C_c] + 1 M_malACP_c[C_c])\n",
      "1*(1 M_mal_L_c[C_c] + 1 M_nad_c[C_c] <-> 1 M_h_c[C_c] + 1 M_nadh_c[C_c] + 1 M_oaa_c[C_c])\n",
      "1*(1 M_mal_L_c[C_c] + 1 M_nad_c[C_c] -> 1 M_co2_c[C_c] + 1 M_nadh_c[C_c] + 1 M_pyr_c[C_c])\n",
      "8*(1 M_amet_c[C_c] + 1 M_mmeroacidACP_c[C_c] -> 1 M_ahcys_c[C_c] + 1 M_h_c[C_c] + 1 M_mmeroacidcyc1ACP_c[C_c])\n",
      "-3*(1 M_amet_c[C_c] + 1 M_mmmeroacidACP_c[C_c] -> 1 M_ahcys_c[C_c] + 1 M_h_c[C_c] + 1 M_mmmeroacidcyc1ACP_c[C_c])\n",
      "-5*(1 M_amet_c[C_c] + 1 M_mkmeroacidACP_c[C_c] -> 1 M_ahcys_c[C_c] + 1 M_h_c[C_c] + 1 M_mkmeroacidcyc1ACP_c[C_c])\n",
      "-3*(1 M_amet_c[C_c] + 1 M_h2o_c[C_c] + 1 M_mmeroacidACP_c[C_c] -> 1 M_ahcys_c[C_c] + 1 M_h_c[C_c] + 1 M_mmmeroacidACP_c[C_c])\n",
      "-5*(1 M_amet_c[C_c] + 1 M_h2o_c[C_c] + 1 M_kmeroacidACP_c[C_c] -> 1 M_ahcys_c[C_c] + 1 M_h_c[C_c] + 1 M_mkmeroacidACP_c[C_c])\n",
      "8*(1 M_amet_c[C_c] + 1 M_mmeroacidcyc1ACP_c[C_c] -> 1 M_ahcys_c[C_c] + 1 M_h_c[C_c] + 1 M_mmeroacidcyc2ACP_c[C_c])\n",
      "8*(1 M_mmycolate_c[C_c] -> 1 M_rmyc_c[C_c])\n",
      "-3*(1 M_mmmycolate_c[C_c] -> 1 M_rmyc_c[C_c])\n",
      "-5*(1 M_mkmycolate_c[C_c] -> 1 M_rmyc_c[C_c])\n",
      "8*(1 M_chexccoa_c[C_c] + 2 M_h2o_c[C_c] + 1 M_mmeroacidcyc2AMP_c[C_c] -> 1 M_amp_c[C_c] + 1 M_co2_c[C_c] + 1 M_coa_c[C_c] + 2 M_h_c[C_c] + 1 M_mmycolate_c[C_c])\n",
      "-3*(1 M_chexccoa_c[C_c] + 2 M_h2o_c[C_c] + 1 M_mmmeroacidcyc1AMP_c[C_c] -> 1 M_amp_c[C_c] + 1 M_co2_c[C_c] + 1 M_coa_c[C_c] + 2 M_h_c[C_c] + 1 M_mmmycolate_c[C_c])\n",
      "-5*(1 M_chexccoa_c[C_c] + 2 M_h2o_c[C_c] + 1 M_mkmeroacidcyc1AMP_c[C_c] -> 1 M_amp_c[C_c] + 1 M_co2_c[C_c] + 1 M_coa_c[C_c] + 2 M_h_c[C_c] + 1 M_mkmycolate_c[C_c])\n",
      "5*(42 M_h_c[C_c] + 1 M_hexc_c[C_c] + 15 M_malACP_c[C_c] + 30 M_nadph_c[C_c] -> 14 M_ACP_c[C_c] + 15 M_co2_c[C_c] + 16 M_h2o_c[C_c] + 1 M_mmeroacidACP_c[C_c] + 30 M_nadp_c[C_c])\n",
      "-5*(47 M_h_c[C_c] + 1 M_hexc_c[C_c] + 16 M_malACP_c[C_c] + 30 M_nadph_c[C_c] -> 15 M_ACP_c[C_c] + 16 M_co2_c[C_c] + 17 M_h2o_c[C_c] + 1 M_kmeroacidACP_c[C_c] + 30 M_nadp_c[C_c])\n",
      "-1*(1 M_h_c[C_c] + 1 M_mqn8_c[C_c] + 1 M_nadh_c[C_c] -> 1 M_mql8_c[C_c] + 1 M_nad_c[C_c])\n",
      "-----------\n",
      "1*(M_4h2opntn_c)\n",
      "2*(M_acald_c)\n",
      "1*(M_co2_c)\n",
      "21*(M_h_c)\n",
      "-------------------------------------------------------------\n"
     ]
    }
   ],
   "source": [
    "minimal_free_lunch,free_lunch_list,free_lunch_meta = model.findMinimalFreeLunch(free_lunch_meta_list=[60])"
   ]
  },
  {
   "cell_type": "code",
   "execution_count": 15,
   "metadata": {},
   "outputs": [
    {
     "name": "stdout",
     "output_type": "stream",
     "text": [
      "parameters.mip.tolerances.integrality\n",
      "CPXPARAM_Simplex_Tolerances_Feasibility          1.0000000000000001e-09\n",
      "CPXPARAM_Read_DataCheck                          1\n",
      "CPXPARAM_MIP_Tolerances_Integrality              1.0000000000000001e-15\n",
      "Found incumbent of value 508.000000 after 0.07 sec. (0.20 ticks)\n",
      "Tried aggregator 2 times.\n",
      "MIP Presolve eliminated 486 rows and 477 columns.\n",
      "MIP Presolve modified 1583 coefficients.\n",
      "Aggregator did 5 substitutions.\n",
      "Reduced MIP has 1605 rows, 1499 columns, and 9448 nonzeros.\n",
      "Reduced MIP has 884 binaries, 3 generals, 0 SOSs, and 0 indicators.\n",
      "Presolve time = 0.15 sec. (9.21 ticks)\n",
      "Probing time = 0.00 sec. (0.18 ticks)\n",
      "Tried aggregator 1 time.\n",
      "Reduced MIP has 1605 rows, 1499 columns, and 9448 nonzeros.\n",
      "Reduced MIP has 884 binaries, 3 generals, 0 SOSs, and 0 indicators.\n",
      "Presolve time = 0.21 sec. (3.53 ticks)\n",
      "Probing time = 0.00 sec. (0.18 ticks)\n",
      "MIP emphasis: balance optimality and feasibility.\n",
      "MIP search method: dynamic search.\n",
      "Parallel mode: deterministic, using up to 8 threads.\n",
      "Root relaxation solution time = 0.52 sec. (50.01 ticks)\n",
      "\n",
      "        Nodes                                         Cuts/\n",
      "   Node  Left     Objective  IInf  Best Integer    Best Bound    ItCnt     Gap\n",
      "\n",
      "*     0+    0                          508.0000        0.0000           100.00%\n",
      "*     0+    0                          438.0000        0.0000           100.00%\n",
      "      0     0        0.0000     9      438.0000        0.0000      871  100.00%\n",
      "*     0+    0                            9.0000        0.0000           100.00%\n",
      "      0     0        1.0000     9        9.0000     Covers: 1     1345   88.89%\n",
      "*     0+    0                            5.0000        1.0000            80.00%\n",
      "*     0+    0                            3.0000        2.0000            33.33%\n",
      "      0     0        cutoff              3.0000        3.0000     1345    0.00%\n",
      "Elapsed time = 1.70 sec. (251.21 ticks, tree = 0.01 MB, solutions = 4)\n",
      "\n",
      "Cover cuts applied:  1\n",
      "\n",
      "Root node processing (before b&c):\n",
      "  Real time             =    1.72 sec. (251.37 ticks)\n",
      "Parallel b&c, 8 threads:\n",
      "  Real time             =    0.00 sec. (0.00 ticks)\n",
      "  Sync time (average)   =    0.00 sec.\n",
      "  Wait time (average)   =    0.00 sec.\n",
      "                          ------------\n",
      "Total (root+branch&cut) =    1.72 sec. (251.37 ticks)\n",
      "Number of free lunch witnesses: 3\n",
      "List of free lunch witnesses: [224, 656, 660]\n",
      "Computed y lower bound 2.389486260454002e-07\n"
     ]
    }
   ],
   "source": [
    "flw_index_list, y_lower_bound = model.findFreeLunchWitnesses()"
   ]
  },
  {
   "cell_type": "code",
   "execution_count": 52,
   "metadata": {},
   "outputs": [
    {
     "name": "stdout",
     "output_type": "stream",
     "text": [
      "This model contains 838 metabolites with assigned chemical formula\n",
      "This model contains 96 reaction without complete set of chemical formulas\n",
      "List of atoms: {'C', 'Co', 'Y', 'O', 'R', 'U', 'S', 'H', 'Mg', 'P', 'Na', 'Fe', 'Se', 'Ca', 'X', 'N', 'Cl', 'K', 'M', 'Cu'}\n",
      "Would you like to exclude any atom?\n",
      "If yes write thier formula and splited with comma. If no press enter.\n",
      " example: if you want to exclude oxygen and hydrogen write O,H.\n",
      "I,K,M,R,U,X,Y\n",
      "Number of imbalance reactions that we found: 7\n"
     ]
    }
   ],
   "source": [
    "im_reaction_set = totalEBCHeck(model)"
   ]
  },
  {
   "cell_type": "code",
   "execution_count": 53,
   "metadata": {},
   "outputs": [
    {
     "name": "stdout",
     "output_type": "stream",
     "text": [
      "{224, 876, 13, 1005, 1006, 953, 223}\n"
     ]
    }
   ],
   "source": [
    "print(im_reaction_set)"
   ]
  },
  {
   "cell_type": "markdown",
   "metadata": {},
   "source": [
    "# 6"
   ]
  },
  {
   "cell_type": "markdown",
   "metadata": {},
   "source": [
    "Organism: Homo sapiens \n",
    "\n",
    "Version: Recon 2.2 \n",
    "\n",
    "Year: 2016\n",
    "\n",
    "Paper link: https://link.springer.com/article/10.1007%2Fs11306-016-1051-4\n",
    "\n",
    "Model Link: https://github.com/mcisb/mcisb-recon-analysis/tree/master/models"
   ]
  },
  {
   "cell_type": "code",
   "execution_count": 25,
   "metadata": {},
   "outputs": [
    {
     "name": "stdout",
     "output_type": "stream",
     "text": [
      "Warning: no candidate for extra, outside found in the list\n",
      "Warning: multiple candidates for biomass found in the list\n",
      "0) Generic human biomass reaction 1) protein component of biomass 2) DNA component of biomass 3) RNA component of biomass 4) carbohydrate component of biomass 5) lipid component of biomass 6) other component of biomass\n",
      "Please select the correct string from the list above and enter its number, or -1 if none \n",
      "0\n"
     ]
    }
   ],
   "source": [
    "model =parseSBML('/home/hzabeti/Desktop/UCSD models/recon_2.2_edited.xml')"
   ]
  },
  {
   "cell_type": "code",
   "execution_count": 28,
   "metadata": {},
   "outputs": [
    {
     "data": {
      "text/plain": [
       "{'ID': 'recon2_2',\n",
       " 'Name': 'Recon 2.2',\n",
       " 'Source File': '/home/hzabeti/Desktop/UCSD models/recon_2.2_edited.xml'}"
      ]
     },
     "execution_count": 28,
     "metadata": {},
     "output_type": "execute_result"
    }
   ],
   "source": [
    "model.description"
   ]
  },
  {
   "cell_type": "code",
   "execution_count": 9,
   "metadata": {},
   "outputs": [
    {
     "data": {
      "text/plain": [
       "(6047, 7785)"
      ]
     },
     "execution_count": 9,
     "metadata": {},
     "output_type": "execute_result"
    }
   ],
   "source": [
    "getSize(model.fullMatrix)"
   ]
  },
  {
   "cell_type": "code",
   "execution_count": 243,
   "metadata": {},
   "outputs": [
    {
     "name": "stdout",
     "output_type": "stream",
     "text": [
      "No Free Lunch condition: Satisfied!\n"
     ]
    }
   ],
   "source": [
    "flm_index_list,flm_list = model.findFreeLunchMetabolites()"
   ]
  },
  {
   "cell_type": "code",
   "execution_count": 27,
   "metadata": {},
   "outputs": [
    {
     "name": "stdout",
     "output_type": "stream",
     "text": [
      "This model contains 6047 metabolites with assigned chemical formula\n",
      "This model contains 0 reaction without complete set of chemical formulas\n",
      "List of atoms: {'Fe', 'H', 'Co', 'Ca', 'Na', 'X', 'P', 'C', 'Se', 'e', 'O', 'K', 'F', 'Zn', 'N', 'Cl', 'R', 'I', 'S'}\n",
      "Would you like to exclude any atom?\n",
      "If yes write thier formula and splited with comma. If no press enter.\n",
      " example: if you want to exclude oxygen and hydrogen write O,H.\n",
      "I,K,M,R,U,X,Y\n",
      "Number of imbalance reactions that we found: 0\n"
     ]
    }
   ],
   "source": [
    "im_reaction_set = totalEBCHeck(model)"
   ]
  },
  {
   "cell_type": "markdown",
   "metadata": {},
   "source": [
    "# 7"
   ]
  },
  {
   "cell_type": "markdown",
   "metadata": {},
   "source": [
    "Organism: Mucor circinelloides\n",
    "\n",
    "Version: iWV1213 \n",
    "\n",
    "Year: 2016\n",
    "\n",
    "Paper link: https://www.sciencedirect.com/science/article/pii/S0378111916300956?via%3Dihub\n",
    "\n",
    "Model Link: https://ars.els-cdn.com/content/image/1-s2.0-S0378111916300956-mmc4.xml"
   ]
  },
  {
   "cell_type": "code",
   "execution_count": 57,
   "metadata": {},
   "outputs": [
    {
     "name": "stdout",
     "output_type": "stream",
     "text": [
      "Warning: no candidate for extra, outside found in the list\n",
      "Warning: no candidate for biomass found in the list\n"
     ]
    }
   ],
   "source": [
    "model =parseSBML('/home/hzabeti/Desktop/UCSD models/iWV1213.xml')"
   ]
  },
  {
   "cell_type": "code",
   "execution_count": 58,
   "metadata": {},
   "outputs": [
    {
     "data": {
      "text/plain": [
       "{'ID': '',\n",
       " 'Name': '',\n",
       " 'Source File': '/home/hzabeti/Desktop/UCSD models/iWV1213.xml'}"
      ]
     },
     "execution_count": 58,
     "metadata": {},
     "output_type": "execute_result"
    }
   ],
   "source": [
    "model.description"
   ]
  },
  {
   "cell_type": "code",
   "execution_count": 26,
   "metadata": {},
   "outputs": [
    {
     "data": {
      "text/plain": [
       "(1413, 1326)"
      ]
     },
     "execution_count": 26,
     "metadata": {},
     "output_type": "execute_result"
    }
   ],
   "source": [
    "getSize(model.fullMatrix)"
   ]
  },
  {
   "cell_type": "code",
   "execution_count": 27,
   "metadata": {},
   "outputs": [
    {
     "name": "stdout",
     "output_type": "stream",
     "text": [
      "No Free Lunch condition: Not satisfied!\n",
      "Optimum solution and the number of all possible free lunch metabolites 613\n"
     ]
    }
   ],
   "source": [
    "flm_index_list,flm_list = model.findFreeLunchMetabolites()"
   ]
  },
  {
   "cell_type": "code",
   "execution_count": null,
   "metadata": {},
   "outputs": [],
   "source": [
    "ind_flm_index_list,ind_flm_list = model.findIndividuallyProducibleFLM()"
   ]
  },
  {
   "cell_type": "code",
   "execution_count": null,
   "metadata": {},
   "outputs": [],
   "source": [
    "minimal_free_lunch,free_lunch_list,free_lunch_meta = model.findMinimalFreeLunch()"
   ]
  },
  {
   "cell_type": "code",
   "execution_count": 63,
   "metadata": {
    "scrolled": true
   },
   "outputs": [
    {
     "name": "stdout",
     "output_type": "stream",
     "text": [
      "parameters.mip.tolerances.integrality\n",
      "CPXPARAM_Simplex_Tolerances_Feasibility          1.0000000000000001e-09\n",
      "CPXPARAM_Read_DataCheck                          1\n",
      "CPXPARAM_MIP_Tolerances_Integrality              1.0000000000000001e-15\n",
      "Found incumbent of value 312.000000 after 0.05 sec. (0.24 ticks)\n",
      "Tried aggregator 5 times.\n",
      "MIP Presolve eliminated 903 rows and 1105 columns.\n",
      "MIP Presolve modified 2657 coefficients.\n",
      "Aggregator did 26 substitutions.\n",
      "Reduced MIP has 1639 rows, 1565 columns, and 7964 nonzeros.\n",
      "Reduced MIP has 923 binaries, 11 generals, 0 SOSs, and 0 indicators.\n",
      "Presolve time = 0.06 sec. (11.40 ticks)\n",
      "Probing time = 0.00 sec. (0.17 ticks)\n",
      "Tried aggregator 1 time.\n",
      "MIP Presolve eliminated 4 rows and 7 columns.\n",
      "Reduced MIP has 1635 rows, 1558 columns, and 7952 nonzeros.\n",
      "Reduced MIP has 920 binaries, 10 generals, 0 SOSs, and 0 indicators.\n",
      "Presolve time = 0.02 sec. (3.28 ticks)\n",
      "Probing time = 0.00 sec. (0.17 ticks)\n",
      "MIP emphasis: balance optimality and feasibility.\n",
      "MIP search method: dynamic search.\n",
      "Parallel mode: deterministic, using up to 8 threads.\n",
      "Root relaxation solution time = 0.30 sec. (68.50 ticks)\n",
      "\n",
      "        Nodes                                         Cuts/\n",
      "   Node  Left     Objective  IInf  Best Integer    Best Bound    ItCnt     Gap\n",
      "\n",
      "*     0+    0                          312.0000        0.0000           100.00%\n",
      "*     0+    0                          223.0000        0.0000           100.00%\n",
      "*     0+    0                          220.0000        0.0000           100.00%\n",
      "*     0+    0                          219.0000        0.0000           100.00%\n",
      "      0     0        0.0000    92      219.0000        0.0000     1151  100.00%\n",
      "*     0+    0                           92.0000        0.0000           100.00%\n",
      "*     0+    0                           72.0000        0.0000           100.00%\n",
      "      0     0        1.0000    93       72.0000     Covers: 1     1159   98.61%\n",
      "      0     0        1.0000    94       72.0000     Covers: 1     1170   98.61%\n",
      "      0     0        2.0000    93       72.0000     Covers: 1     1171   97.22%\n",
      "      0     0        3.0000    92       72.0000     Covers: 1     1172   95.83%\n",
      "      0     0        4.0000    93       72.0000     Covers: 1     1223   94.44%\n",
      "      0     0        4.0000    93       72.0000     Covers: 1     1224   94.44%\n",
      "      0     2        4.0000    85       72.0000        5.0000     1224   93.06%\n",
      "Elapsed time = 1.14 sec. (378.24 ticks, tree = 0.01 MB, solutions = 5)\n",
      "    150   102        8.0000   109       72.0000        5.0000    17181   93.06%\n",
      "*   214+   75                           41.0000        5.0000            87.80%\n",
      "    372   277        9.0000   132       41.0000        5.0000    30261   87.80%\n",
      "    806   620       30.0000    23       41.0000        5.0000    41803   87.80%\n",
      "   1192  1006       16.0000   104       41.0000        5.0000    55109   87.80%\n",
      "   1424  1246       12.0038   135       41.0000        5.0000    64759   87.80%\n",
      "   1705  1393       11.0000    82       41.0000        5.0000    71663   87.80%\n",
      "   2017  1693       18.0000    38       41.0000        5.0000    86914   87.80%\n",
      "   2488  2175       30.0000    34       41.0000        5.0000   106593   87.80%\n",
      "   3160  2686       15.0000    70       41.0000        5.0000   120896   87.80%\n",
      "   3538  3219       20.5000   118       41.0000       20.5000   142484   50.00%\n",
      "Elapsed time = 6.92 sec. (3713.47 ticks, tree = 61.56 MB, solutions = 9)\n",
      "   3964   371       20.5000    84       41.0000       20.5000   171739   50.00%\n",
      "   5503  1579       23.0000    60       41.0000       20.5000   259352   50.00%\n",
      "   7791  3425       21.5001   103       41.0000       20.5824   359768   49.80%\n",
      "   8901  4415       24.0000    96       41.0000       20.8279   464104   49.20%\n",
      "  10206  5551       26.3333    83       41.0000       20.8279   579840   49.20%\n",
      "  11705  6807       24.0001   118       41.0000       20.9829   715488   48.82%\n",
      "  13450  8237       24.4000   102       41.0000       21.0000   840973   48.78%\n",
      "  15742 10023       24.0000    89       41.0000       21.0000   967418   48.78%\n",
      "\n",
      "Cover cuts applied:  44\n",
      "Zero-half cuts applied:  17\n",
      "Gomory fractional cuts applied:  1\n",
      "\n",
      "Root node processing (before b&c):\n",
      "  Real time             =    1.14 sec. (377.52 ticks)\n",
      "Parallel b&c, 8 threads:\n",
      "  Real time             =   17.50 sec. (11002.79 ticks)\n",
      "  Sync time (average)   =    2.22 sec.\n",
      "  Wait time (average)   =    0.02 sec.\n",
      "                          ------------\n",
      "Total (root+branch&cut) =   18.64 sec. (11380.31 ticks)\n",
      "\n",
      "KeyboardInterrupt\n",
      "Number of free lunch witnesses: 41\n",
      "List of free lunch witnesses: [15, 27, 32, 39, 74, 109, 116, 151, 169, 178, 188, 189, 241, 269, 271, 282, 340, 343, 419, 426, 479, 482, 511, 558, 592, 596, 625, 632, 660, 676, 681, 715, 790, 795, 1024, 1032, 1056, 1113, 1213, 1219, 1270]\n",
      "Computed y lower bound 2.105263157894737e-07\n"
     ]
    }
   ],
   "source": [
    "flw_index_list, y_lower_bound = model.findFreeLunchWitnesses()"
   ]
  },
  {
   "cell_type": "code",
   "execution_count": 59,
   "metadata": {},
   "outputs": [
    {
     "name": "stdout",
     "output_type": "stream",
     "text": [
      "This model contains 1413 metabolites with assigned chemical formula\n",
      "This model contains 0 reaction without complete set of chemical formulas\n",
      "List of atoms: {'e'}\n",
      "Would you like to exclude any atom?\n",
      "If yes write thier formula and splited with comma. If no press enter.\n",
      " example: if you want to exclude oxygen and hydrogen write O,H.\n",
      "\n",
      "Number of imbalance reactions that we found: 0\n"
     ]
    }
   ],
   "source": [
    "im_reaction_set = totalEBCHeck(model)"
   ]
  },
  {
   "cell_type": "markdown",
   "metadata": {},
   "source": [
    "# 8"
   ]
  },
  {
   "cell_type": "markdown",
   "metadata": {},
   "source": [
    "Organism: Zymomonas mobilis\n",
    "\n",
    "Version: iEM439 \n",
    "\n",
    "Year: 2016\n",
    "\n",
    "Paper link: https://pubs.rsc.org/en/Content/ArticleLanding/2016/MB/C5MB00588D#!divAbstract\n",
    "\n",
    "Model Link: http://www.rsc.org/suppdata/c5/mb/c5mb00588d/c5mb00588d2.xml"
   ]
  },
  {
   "cell_type": "code",
   "execution_count": 29,
   "metadata": {},
   "outputs": [
    {
     "name": "stdout",
     "output_type": "stream",
     "text": [
      "Warning: no candidate for extra, outside found in the list\n",
      "Warning: no candidate for biomass found in the list\n"
     ]
    }
   ],
   "source": [
    "model =parseSBML('/home/hzabeti/Desktop/UCSD models/iEM439.xml')"
   ]
  },
  {
   "cell_type": "code",
   "execution_count": 65,
   "metadata": {},
   "outputs": [
    {
     "data": {
      "text/plain": [
       "{'ID': '',\n",
       " 'Name': '',\n",
       " 'Source File': '/home/hzabeti/Desktop/UCSD models/iEM439.xml'}"
      ]
     },
     "execution_count": 65,
     "metadata": {},
     "output_type": "execute_result"
    }
   ],
   "source": [
    "model.description"
   ]
  },
  {
   "cell_type": "code",
   "execution_count": 66,
   "metadata": {},
   "outputs": [
    {
     "data": {
      "text/plain": [
       "(705, 767)"
      ]
     },
     "execution_count": 66,
     "metadata": {},
     "output_type": "execute_result"
    }
   ],
   "source": [
    "getSize(model.fullMatrix)"
   ]
  },
  {
   "cell_type": "code",
   "execution_count": 7,
   "metadata": {},
   "outputs": [
    {
     "name": "stdout",
     "output_type": "stream",
     "text": [
      "No Free Lunch condition: Not satisfied!\n",
      "Optimum solution and the number of all possible free lunch metabolites 1\n"
     ]
    }
   ],
   "source": [
    "flm_index_list,flm_list = model.findFreeLunchMetabolites()"
   ]
  },
  {
   "cell_type": "code",
   "execution_count": 8,
   "metadata": {},
   "outputs": [
    {
     "name": "stdout",
     "output_type": "stream",
     "text": [
      "[531] ['M_apoACP_c']\n"
     ]
    }
   ],
   "source": [
    "print(flm_index_list,flm_list)"
   ]
  },
  {
   "cell_type": "code",
   "execution_count": 9,
   "metadata": {},
   "outputs": [
    {
     "name": "stdout",
     "output_type": "stream",
     "text": [
      "Number of iteration:  0\n",
      "Number of reactions involved in FL: 7\n",
      "------------------------------------------------------------\n",
      "Checking index:  123\n",
      "This index is in the minimal set 123\n",
      "Checking index:  302\n",
      "This index is in the minimal set 302\n",
      "Checking index:  337\n",
      "This index is in the minimal set 337\n",
      "Checking index:  561\n",
      "This index is in the minimal set 561\n",
      "Checking index:  562\n",
      "This index is in the minimal set 562\n",
      "Checking index:  563\n",
      "This index is in the minimal set 563\n",
      "Checking index:  564\n",
      "This index is in the minimal set 564\n",
      "Minimal free lunch indexes: [123, 302, 337, 561, 562, 563, 564]\n",
      "------------------ minimal free lunch equation----------------\n",
      "1*(1 M_h2o_c[c] + 1 M_pap_c[c] -> 1 M_pi_c[c] + 1 M_amp_c[c])\n",
      "-1*(1 M_atp_c[c] + 1 M_h2o_c[c] -> 1 M_h_c[c] + 1 M_amp_c[c] + 1 M_ppi_c[c])\n",
      "-1*(1 M_atp_c[c] + 1 M_h2o_c[c] -> 1 M_adp_c[c] + 1 M_h_c[c] + 1 M_pi_c[c])\n",
      "1*(1 M_atp_c[c] + 1 M_h_c[c] + 1 M_pan4p_c[c] -> 1 M_ppi_c[c] + 1 M_dpcoa_c[c])\n",
      "1*(1 M_atp_c[c] + 1 M_dpcoa_c[c] -> 1 M_adp_c[c] + 1 M_h_c[c] + 1 M_coa_c[c])\n",
      "1*(1 M_coa_c[c] -> 1 M_h_c[c] + 1 M_pap_c[c] + 1 M_ACP_c[c])\n",
      "1*(1 M_h2o_c[c] + 1 M_ACP_c[c] -> 1 M_h_c[c] + 1 M_pan4p_c[c] + 1 M_apoACP_c[c])\n",
      "-----------\n",
      "1*(M_apoACP_c)\n",
      "-------------------------------------------------------------\n"
     ]
    }
   ],
   "source": [
    "minimal_free_lunch,free_lunch_list,free_lunch_meta = model.findMinimalFreeLunch(free_lunch_meta_list=[531])"
   ]
  },
  {
   "cell_type": "code",
   "execution_count": 10,
   "metadata": {},
   "outputs": [
    {
     "name": "stdout",
     "output_type": "stream",
     "text": [
      "parameters.mip.tolerances.integrality\n",
      "CPXPARAM_Simplex_Tolerances_Feasibility          1.0000000000000001e-09\n",
      "CPXPARAM_Read_DataCheck                          1\n",
      "CPXPARAM_MIP_Tolerances_Integrality              1.0000000000000001e-15\n",
      "Found incumbent of value 412.000000 after 0.05 sec. (0.15 ticks)\n",
      "Tried aggregator 3 times.\n",
      "MIP Presolve eliminated 247 rows and 243 columns.\n",
      "MIP Presolve modified 1005 coefficients.\n",
      "Aggregator did 9 substitutions.\n",
      "Reduced MIP has 1208 rows, 1185 columns, and 6760 nonzeros.\n",
      "Reduced MIP has 660 binaries, 3 generals, 0 SOSs, and 0 indicators.\n",
      "Presolve time = 0.08 sec. (6.68 ticks)\n",
      "Probing time = 0.00 sec. (0.13 ticks)\n",
      "Tried aggregator 1 time.\n",
      "Reduced MIP has 1208 rows, 1185 columns, and 6760 nonzeros.\n",
      "Reduced MIP has 660 binaries, 3 generals, 0 SOSs, and 0 indicators.\n",
      "Presolve time = 0.02 sec. (2.62 ticks)\n",
      "Probing time = 0.00 sec. (0.13 ticks)\n",
      "MIP emphasis: balance optimality and feasibility.\n",
      "MIP search method: dynamic search.\n",
      "Parallel mode: deterministic, using up to 8 threads.\n",
      "Root relaxation solution time = 0.14 sec. (36.55 ticks)\n",
      "\n",
      "        Nodes                                         Cuts/\n",
      "   Node  Left     Objective  IInf  Best Integer    Best Bound    ItCnt     Gap\n",
      "\n",
      "*     0+    0                          412.0000        0.0000           100.00%\n",
      "*     0+    0                          369.0000        0.0000           100.00%\n",
      "      0     0        0.0000     1      369.0000        0.0000      778  100.00%\n",
      "*     0+    0                            1.0000        0.0000           100.00%\n",
      "      0     0        cutoff              1.0000                    780    0.00%\n",
      "Elapsed time = 0.38 sec. (57.40 ticks, tree = 0.01 MB, solutions = 2)\n",
      "\n",
      "Mixed integer rounding cuts applied:  1\n",
      "\n",
      "Root node processing (before b&c):\n",
      "  Real time             =    0.38 sec. (57.50 ticks)\n",
      "Parallel b&c, 8 threads:\n",
      "  Real time             =    0.00 sec. (0.00 ticks)\n",
      "  Sync time (average)   =    0.00 sec.\n",
      "  Wait time (average)   =    0.00 sec.\n",
      "                          ------------\n",
      "Total (root+branch&cut) =    0.38 sec. (57.50 ticks)\n",
      "Number of free lunch witnesses: 1\n",
      "List of free lunch witnesses: [564]\n",
      "Computed y lower bound 4.748338081671415e-07\n"
     ]
    }
   ],
   "source": [
    "flw_index_list, y_lower_bound = model.findFreeLunchWitnesses()"
   ]
  },
  {
   "cell_type": "code",
   "execution_count": 44,
   "metadata": {},
   "outputs": [
    {
     "name": "stdout",
     "output_type": "stream",
     "text": [
      "This model contains 690 metabolites with assigned chemical formula\n",
      "This model contains 15 reaction without complete set of chemical formulas\n",
      "List of atoms: {'Fe', 'H', 'N', 'Na', 'X', 'P', 'C', 'R', 'S', 'O', 'K', 'Mg', 'Cu'}\n",
      "Would you like to exclude any atom?\n",
      "If yes write thier formula and splited with comma. If no press enter.\n",
      " example: if you want to exclude oxygen and hydrogen write O,H.\n",
      "I,K,M,R,U,X,Y\n",
      "Number of imbalance reactions that we found: 22\n"
     ]
    }
   ],
   "source": [
    "im_reaction_set = totalEBCHeck(model)"
   ]
  },
  {
   "cell_type": "code",
   "execution_count": 45,
   "metadata": {},
   "outputs": [
    {
     "name": "stdout",
     "output_type": "stream",
     "text": [
      "[54, 62, 126, 127, 132, 137, 142, 147, 154, 159, 165, 171, 177, 183, 189, 544, 549, 567, 571, 580, 633, 666]\n"
     ]
    }
   ],
   "source": [
    "print(sorted(list(im_reaction_set)))"
   ]
  },
  {
   "cell_type": "markdown",
   "metadata": {},
   "source": [
    "# 9"
   ]
  },
  {
   "cell_type": "markdown",
   "metadata": {},
   "source": [
    "Organism:Caenorhabditis elegans\n",
    "    \n",
    "Version:iCEL1273\t\n",
    "    \n",
    "Year: 2016\n",
    "    \n",
    "Paper link: https://www.sciencedirect.com/science/article/pii/S240547121630120X?via%3Dihub\n",
    "    \n",
    "Model Link:http://wormflux.umassmed.edu/Downloads/iCEL1273.xml"
   ]
  },
  {
   "cell_type": "code",
   "execution_count": 69,
   "metadata": {},
   "outputs": [
    {
     "name": "stdout",
     "output_type": "stream",
     "text": [
      "Warning: multiple candidates for biomass found in the list\n",
      "0) Drain of Biomass 1) Assembly of minor components of biomass 2) Assembly of body biomass (with storage) 3) Assembly of body biomass (without storage) 4) Assembly of embryonic biomass 5) Assembly of progeny biomass\n",
      "Please select the correct string from the list above and enter its number, or -1 if none \n",
      "0\n"
     ]
    }
   ],
   "source": [
    "model =parseSBML('/home/hzabeti/Desktop/UCSD models/iCEL1273.xml')"
   ]
  },
  {
   "cell_type": "code",
   "execution_count": 12,
   "metadata": {},
   "outputs": [
    {
     "data": {
      "text/plain": [
       "{'ID': 'iCEL1273',\n",
       " 'Name': 'Caenorhabditis_elegans_metabolic_network_model_iCEL1273',\n",
       " 'Source File': '/home/hzabeti/Desktop/UCSD models/iCEL1273.xml'}"
      ]
     },
     "execution_count": 12,
     "metadata": {},
     "output_type": "execute_result"
    }
   ],
   "source": [
    "model.description"
   ]
  },
  {
   "cell_type": "code",
   "execution_count": 13,
   "metadata": {},
   "outputs": [
    {
     "data": {
      "text/plain": [
       "(1718, 1985)"
      ]
     },
     "execution_count": 13,
     "metadata": {},
     "output_type": "execute_result"
    }
   ],
   "source": [
    "getSize(model.fullMatrix)"
   ]
  },
  {
   "cell_type": "code",
   "execution_count": 14,
   "metadata": {},
   "outputs": [
    {
     "name": "stdout",
     "output_type": "stream",
     "text": [
      "No Free Lunch condition: Not satisfied!\n",
      "Optimum solution and the number of all possible free lunch metabolites 1297\n"
     ]
    }
   ],
   "source": [
    "flm_index_list,flm_list = model.findFreeLunchMetabolites()"
   ]
  },
  {
   "cell_type": "code",
   "execution_count": 15,
   "metadata": {},
   "outputs": [
    {
     "name": "stdout",
     "output_type": "stream",
     "text": [
      "Number of individually producible free lunch metabolites 160\n"
     ]
    }
   ],
   "source": [
    "ind_flm_index_list,ind_flm_list = model.findIndividuallyProducibleFLM()"
   ]
  },
  {
   "cell_type": "code",
   "execution_count": 17,
   "metadata": {},
   "outputs": [
    {
     "name": "stdout",
     "output_type": "stream",
     "text": [
      "[5, 8, 13, 24, 30, 33, 37, 38, 41, 62, 63, 73, 76, 79, 80, 81, 90, 98, 99, 311, 317, 318, 322, 463, 464, 465, 466, 467, 468, 479, 480, 513, 517, 533, 534, 535, 536, 537, 538, 539, 540, 584, 585, 588, 590, 591, 593, 595, 596, 597, 598, 599, 600, 622, 623, 645, 647, 792, 794, 796, 797, 807, 819, 821, 927, 928, 931, 966, 968, 970, 972, 1017, 1028, 1062, 1063, 1066, 1079, 1080, 1081, 1099, 1105, 1118, 1133, 1144, 1145, 1149, 1150, 1173, 1193, 1228, 1240, 1241, 1244, 1248, 1257, 1259, 1261, 1265, 1280, 1301, 1320, 1325, 1326, 1327, 1330, 1333, 1348, 1354, 1363, 1374, 1385, 1387, 1389, 1399, 1413, 1427, 1429, 1441, 1449, 1456, 1460, 1466, 1476, 1478, 1482, 1505, 1509, 1528, 1530, 1536, 1540, 1543, 1544, 1545, 1548, 1557, 1559, 1560, 1567, 1570, 1572, 1578, 1584, 1589, 1594, 1597, 1610, 1613, 1616, 1618, 1625, 1649, 1657, 1659, 1664, 1672, 1673, 1675, 1687, 1688] ['C00221', 'C00267', 'C00001', 'C00011', 'M00011', 'C00084', 'M00084', 'M00001', 'C00469', 'M00399', 'M00390', 'C00121', 'C01801', 'C05999', 'C00546', 'C00583', 'M00007', 'C00007', 'C00027', 'C00137', 'C00577', 'C00116', 'C00184', 'MC0008', 'MC0009', 'MC0010', 'MC0011', 'MC0012', 'MC0013', 'CC0015', 'C00381', 'C00031', 'C00159', 'C00185', 'CC0045', 'C00182', 'CC0046', 'CC0047', 'CC0048', 'C00208', 'C01083', 'C00095', 'C00794', 'C00124', 'C01697', 'C00089', 'C02670', 'C00312', 'C00379', 'C00181', 'C00259', 'C00532', 'C00310', 'C00132', 'C00067', 'C00517', 'C06123', 'M00032', 'C00032', 'M15672', 'M15670', 'C00339', 'C15645', 'C03820', 'E00011', 'E00001', 'M00546', 'C00243', 'M00027', 'C02076', 'C00070', 'C00266', 'M00266', 'C05576', 'C05577', 'C03765', 'C05402', 'C00492', 'C01613', 'EC0013', 'E00032', 'EC0065', 'CC0065', 'M15672_b', 'M15670_b', 'C00182_b', 'C01083_b', 'M00399_b', 'C15645_b', 'E02076', 'CC0013', 'E00185', 'E00243', 'E00583', 'E01083', 'E00031', 'E01697', 'E01613', 'E02076_b', 'E00095', 'E00132', 'E00469', 'E00007', 'E00084', 'E00379', 'E00116', 'E00794', 'M00116', 'E00027', 'E00089', 'E00208', 'E00124', 'E00266', 'E00159', 'E00181', 'E05576', 'M00067', 'E00121', 'E00259', 'E00532', 'E01801', 'E00137', 'E05402', 'E00546', 'M00469', 'E00208_b', 'E00159_b', 'EC0065_b', 'E00089_b', 'E00379_b', 'E00124_b', 'E00121_b', 'E00001_b', 'E00007_b', 'E01083_b', 'E00469_b', 'E00031_b', 'E00032_b', 'E00137_b', 'E00132_b', 'E00266_b', 'E00546_b', 'E05576_b', 'E00027_b', 'E00185_b', 'E00259_b', 'E00011_b', 'EC0013_b', 'E00243_b', 'E00181_b', 'E00116_b', 'E05402_b', 'E00794_b', 'E00532_b', 'E00095_b', 'E01801_b', 'E01697_b', 'E00084_b', 'E00583_b', 'E01613_b']\n"
     ]
    }
   ],
   "source": [
    "print(ind_flm_index_list,ind_flm_list)"
   ]
  },
  {
   "cell_type": "code",
   "execution_count": 18,
   "metadata": {},
   "outputs": [
    {
     "name": "stdout",
     "output_type": "stream",
     "text": [
      "Number of iteration:  0\n",
      "Number of reactions involved in FL: 2\n",
      "------------------------------------------------------------\n",
      "Checking index:  757\n",
      "This index is in the minimal set 757\n",
      "Checking index:  1182\n",
      "This index is in the minimal set 1182\n",
      "Minimal free lunch indexes: [757, 1182]\n",
      "------------------ minimal free lunch equation----------------\n",
      "-1*(1 M02248[Mitochondria] + 1 M00032[Mitochondria] <-> 1 M00126[Mitochondria])\n",
      "-1*(1 M00126[Mitochondria] -> 1 M02248[Mitochondria])\n",
      "-----------\n",
      "1*(M00032)\n",
      "-------------------------------------------------------------\n"
     ]
    }
   ],
   "source": [
    "minimal_free_lunch,free_lunch_list,free_lunch_meta = model.findMinimalFreeLunch(free_lunch_meta_list=[792])"
   ]
  },
  {
   "cell_type": "code",
   "execution_count": 4,
   "metadata": {},
   "outputs": [
    {
     "name": "stdout",
     "output_type": "stream",
     "text": [
      "parameters.mip.tolerances.integrality\n",
      "CPXPARAM_Simplex_Tolerances_Feasibility          1.0000000000000001e-09\n",
      "CPXPARAM_Read_DataCheck                          1\n",
      "CPXPARAM_MIP_Tolerances_Integrality              1.0000000000000001e-15\n",
      "Found incumbent of value 619.000000 after 0.05 sec. (0.35 ticks)\n",
      "Tried aggregator 4 times.\n",
      "MIP Presolve eliminated 1282 rows and 1268 columns.\n",
      "MIP Presolve modified 2917 coefficients.\n",
      "Aggregator did 49 substitutions.\n",
      "Reduced MIP has 2627 rows, 2379 columns, and 14323 nonzeros.\n",
      "Reduced MIP has 1399 binaries, 19 generals, 0 SOSs, and 0 indicators.\n",
      "Presolve time = 0.07 sec. (18.85 ticks)\n",
      "Probing time = 0.00 sec. (0.20 ticks)\n",
      "Tried aggregator 1 time.\n",
      "MIP Presolve eliminated 1 rows and 0 columns.\n",
      "Reduced MIP has 2626 rows, 2378 columns, and 14317 nonzeros.\n",
      "Reduced MIP has 1398 binaries, 19 generals, 0 SOSs, and 0 indicators.\n",
      "Presolve time = 0.04 sec. (5.78 ticks)\n",
      "Probing time = 0.00 sec. (0.20 ticks)\n",
      "MIP emphasis: balance optimality and feasibility.\n",
      "MIP search method: dynamic search.\n",
      "Parallel mode: deterministic, using up to 8 threads.\n",
      "Root relaxation solution time = 0.23 sec. (155.66 ticks)\n",
      "\n",
      "        Nodes                                         Cuts/\n",
      "   Node  Left     Objective  IInf  Best Integer    Best Bound    ItCnt     Gap\n",
      "\n",
      "*     0+    0                          619.0000        0.0000           100.00%\n",
      "*     0+    0                          578.0000        0.0000           100.00%\n",
      "*     0+    0                          555.0000        0.0000           100.00%\n",
      "*     0+    0                          553.0000        0.0000           100.00%\n",
      "      0     0        0.0000    18      553.0000        0.0000     1733  100.00%\n",
      "*     0+    0                           18.0000        0.0000           100.00%\n",
      "      0     0        1.0000    15       18.0000     Covers: 1     1734   94.44%\n",
      "*     0+    0                           10.0000        1.0000            90.00%\n",
      "      0     0        2.0000    13       10.0000     Covers: 1     1890   80.00%\n",
      "      0     0        2.0000    12       10.0000     Covers: 1     1947   80.00%\n",
      "      0     0        2.5000    19       10.0000     Covers: 1     2463   75.00%\n",
      "      0     2        2.5000    17       10.0000        3.5000     2463   65.00%\n",
      "Elapsed time = 1.67 sec. (935.56 ticks, tree = 0.01 MB, solutions = 5)\n",
      "     14     7        3.0000    16       10.0000        3.5000     3897   65.00%\n",
      "*    18+    4                            8.0000        3.5000            56.25%\n",
      "     67    48        5.0000    18        8.0000        3.5000    24830   56.25%\n",
      "    163    95        6.0000    11        8.0000        3.5000    43270   56.25%\n",
      "    286   169        cutoff              8.0000        3.5000    60794   56.25%\n",
      "    401   208        6.0002    43        8.0000        4.0000    72665   50.00%\n",
      "    548   273        5.0000    15        8.0000        4.0000    79156   50.00%\n",
      "    709   393        cutoff              8.0000        4.0000    93104   50.00%\n",
      "    908   561        6.0000    37        8.0000        4.0000   107157   50.00%\n",
      "   1120   657        6.0000    13        8.0000        4.0000   113243   50.00%\n",
      "   1578   559        cutoff              8.0000        5.0001   174792   37.50%\n",
      "Elapsed time = 8.25 sec. (4062.96 ticks, tree = 8.05 MB, solutions = 7)\n",
      "\n",
      "Cover cuts applied:  25\n",
      "\n",
      "Root node processing (before b&c):\n",
      "  Real time             =    1.66 sec. (932.54 ticks)\n",
      "Parallel b&c, 8 threads:\n",
      "  Real time             =    7.94 sec. (3652.74 ticks)\n",
      "  Sync time (average)   =    2.21 sec.\n",
      "  Wait time (average)   =    0.01 sec.\n",
      "                          ------------\n",
      "Total (root+branch&cut) =    9.61 sec. (4585.27 ticks)\n",
      "Number of free lunch witnesses: 8\n",
      "List of free lunch witnesses: [490, 491, 758, 1023, 1024, 1182, 1250, 1299]\n",
      "Computed y lower bound 6.613756613756614e-07\n"
     ]
    }
   ],
   "source": [
    "flw_index_list, y_lower_bound = model.findFreeLunchWitnesses()"
   ]
  },
  {
   "cell_type": "code",
   "execution_count": 70,
   "metadata": {},
   "outputs": [
    {
     "name": "stdout",
     "output_type": "stream",
     "text": [
      "This model contains 0 metabolites with assigned chemical formula\n",
      "This model contains 1985 reaction without complete set of chemical formulas\n"
     ]
    }
   ],
   "source": [
    "im_reaction_set = totalEBCHeck(model)"
   ]
  },
  {
   "cell_type": "markdown",
   "metadata": {},
   "source": [
    "# 10"
   ]
  },
  {
   "cell_type": "markdown",
   "metadata": {},
   "source": [
    "Organism: Pichia pastoris\n",
    "\n",
    "Version: iMT1026\n",
    "\n",
    "Year: 2016\n",
    "\n",
    "Paper link: https://journals.plos.org/plosone/article?id=10.1371/journal.pone.0148031\n",
    "\n",
    "Model Link: https://journals.plos.org/plosone/article/file?type=supplementary&id=info:doi/10.1371/journal.pone.0148031.s006"
   ]
  },
  {
   "cell_type": "code",
   "execution_count": 54,
   "metadata": {},
   "outputs": [
    {
     "name": "stdout",
     "output_type": "stream",
     "text": [
      "Warning: no candidate for extra, outside found in the list\n",
      "Warning: multiple candidates for biomass found in the list\n",
      "0) Biomass composition (g/g) 1) Biomass exchange 2) Biomass composition 80:20 (g/g) 3) Biomass composition 60:40 (g/g) 4) Biomass composition 40:60 (g/g) 5) Biomass composition 80:20 (g/g) 6) Biomass composition 60:40 (g/g) 7) Biomass composition 40:60 (g/g)\n",
      "Please select the correct string from the list above and enter its number, or -1 if none \n",
      "0\n"
     ]
    }
   ],
   "source": [
    "model =parseSBML('/home/hzabeti/Desktop/UCSD models/iMT1026.XML')"
   ]
  },
  {
   "cell_type": "code",
   "execution_count": 55,
   "metadata": {},
   "outputs": [
    {
     "data": {
      "text/plain": [
       "{'ID': 'iMT1026',\n",
       " 'Name': 'Pichia pastoris GEM model',\n",
       " 'Source File': '/home/hzabeti/Desktop/UCSD models/iMT1026.XML'}"
      ]
     },
     "execution_count": 55,
     "metadata": {},
     "output_type": "execute_result"
    }
   ],
   "source": [
    "model.description"
   ]
  },
  {
   "cell_type": "code",
   "execution_count": 56,
   "metadata": {},
   "outputs": [
    {
     "data": {
      "text/plain": [
       "(2755, 2210)"
      ]
     },
     "execution_count": 56,
     "metadata": {},
     "output_type": "execute_result"
    }
   ],
   "source": [
    "getSize(model.fullMatrix)"
   ]
  },
  {
   "cell_type": "code",
   "execution_count": 57,
   "metadata": {},
   "outputs": [
    {
     "name": "stdout",
     "output_type": "stream",
     "text": [
      "No Free Lunch condition: Not satisfied!\n",
      "Optimum solution and the number of all possible free lunch metabolites 1295\n"
     ]
    }
   ],
   "source": [
    "flm_index_list,flm_list = model.findFreeLunchMetabolites()"
   ]
  },
  {
   "cell_type": "code",
   "execution_count": 16,
   "metadata": {},
   "outputs": [
    {
     "name": "stdout",
     "output_type": "stream",
     "text": [
      "Number of individually producible free lunch metabolites 1293\n"
     ]
    }
   ],
   "source": [
    "ind_flm_index_list,ind_flm_list = model.findIndividuallyProducibleFLM()"
   ]
  },
  {
   "cell_type": "code",
   "execution_count": 17,
   "metadata": {},
   "outputs": [
    {
     "name": "stdout",
     "output_type": "stream",
     "text": [
      "[0, 1, 2, 3, 4, 5, 6, 7, 8, 9, 10, 11, 12, 13, 14, 15, 16, 17, 18, 19, 20, 21, 22, 23, 24, 25, 26, 27, 28, 31, 32, 34, 36, 38, 39, 40, 41, 42, 43, 46, 47, 48, 49, 50, 51, 52, 53, 55, 57, 58, 59, 60, 61, 62, 65, 66, 67, 68, 69, 70, 71, 72, 73, 74, 75, 76, 77, 78, 79, 80, 81, 82, 83, 84, 85, 86, 87, 88, 89, 90, 91, 92, 93, 94, 95, 96, 97, 98, 99, 100, 101, 102, 103, 104, 105, 106, 107, 108, 109, 110, 111, 112, 113, 114, 115, 116, 117, 118, 119, 120, 121, 122, 125, 127, 128, 129, 131, 132, 133, 134, 135, 136, 137, 138, 139, 140, 141, 142, 143, 144, 145, 146, 147, 148, 149, 150, 151, 152, 153, 154, 155, 156, 157, 158, 159, 160, 161, 162, 163, 164, 165, 167, 169, 170, 171, 172, 173, 174, 175, 176, 177, 178, 179, 181, 182, 183, 185, 186, 187, 188, 189, 190, 191, 192, 193, 194, 195, 196, 197, 198, 199, 200, 201, 202, 203, 204, 205, 206, 207, 208, 209, 210, 211, 212, 213, 214, 215, 216, 217, 218, 219, 220, 221, 222, 223, 224, 225, 226, 227, 228, 229, 230, 231, 232, 233, 234, 235, 236, 237, 238, 239, 240, 241, 242, 243, 244, 245, 246, 247, 248, 249, 250, 251, 252, 253, 254, 255, 256, 257, 258, 259, 260, 261, 262, 263, 264, 265, 266, 267, 268, 269, 270, 271, 272, 273, 274, 275, 276, 277, 278, 279, 280, 282, 283, 288, 289, 290, 291, 292, 293, 294, 295, 296, 297, 298, 299, 300, 301, 302, 303, 304, 305, 306, 307, 308, 309, 310, 311, 312, 313, 314, 315, 316, 317, 318, 319, 320, 321, 322, 323, 324, 325, 326, 327, 328, 329, 330, 331, 332, 333, 334, 335, 336, 337, 338, 339, 340, 341, 342, 343, 344, 345, 346, 347, 350, 351, 352, 353, 354, 355, 356, 357, 358, 359, 360, 361, 362, 363, 364, 365, 366, 367, 368, 369, 370, 371, 372, 373, 374, 375, 376, 377, 378, 379, 380, 381, 382, 383, 384, 385, 386, 387, 388, 389, 390, 391, 392, 393, 394, 395, 396, 397, 398, 399, 400, 401, 402, 403, 404, 405, 406, 407, 408, 409, 410, 411, 412, 413, 414, 419, 420, 421, 422, 423, 424, 425, 428, 429, 430, 433, 434, 435, 436, 437, 438, 439, 440, 441, 442, 443, 444, 445, 446, 447, 448, 449, 450, 451, 452, 453, 454, 455, 456, 457, 458, 459, 460, 461, 462, 463, 464, 465, 466, 467, 468, 469, 470, 471, 472, 473, 474, 475, 476, 477, 478, 479, 480, 481, 482, 483, 484, 485, 486, 487, 491, 492, 493, 494, 495, 496, 497, 498, 499, 500, 501, 502, 503, 504, 505, 506, 507, 508, 509, 510, 511, 512, 513, 514, 515, 516, 517, 518, 519, 520, 521, 522, 523, 524, 525, 526, 527, 528, 529, 530, 531, 532, 533, 534, 535, 536, 537, 538, 539, 540, 541, 542, 543, 544, 545, 546, 549, 550, 551, 554, 560, 561, 562, 563, 564, 565, 566, 567, 568, 569, 570, 571, 572, 574, 575, 576, 577, 578, 579, 580, 581, 582, 583, 584, 585, 586, 587, 588, 589, 590, 591, 592, 594, 596, 598, 599, 600, 601, 602, 603, 604, 605, 606, 607, 608, 609, 610, 611, 612, 613, 614, 615, 616, 617, 618, 619, 620, 621, 622, 623, 624, 625, 626, 627, 628, 629, 630, 631, 632, 633, 634, 640, 642, 643, 644, 645, 646, 647, 648, 649, 650, 651, 652, 653, 654, 655, 656, 657, 658, 659, 660, 661, 662, 663, 664, 665, 666, 667, 668, 669, 670, 671, 672, 673, 674, 675, 676, 677, 679, 681, 683, 685, 687, 688, 689, 690, 691, 694, 695, 696, 697, 698, 699, 700, 701, 702, 703, 704, 705, 706, 707, 708, 709, 710, 711, 712, 713, 714, 715, 716, 717, 718, 719, 720, 721, 722, 727, 728, 729, 730, 731, 734, 735, 736, 737, 738, 739, 740, 741, 742, 743, 744, 745, 746, 747, 748, 749, 753, 758, 759, 760, 761, 763, 764, 765, 766, 767, 768, 769, 770, 771, 774, 776, 777, 778, 779, 780, 781, 786, 787, 788, 789, 790, 799, 805, 806, 807, 808, 809, 812, 813, 815, 816, 817, 821, 822, 823, 824, 825, 826, 827, 832, 833, 837, 838, 839, 840, 841, 842, 843, 844, 845, 846, 847, 848, 851, 852, 854, 855, 856, 857, 858, 859, 860, 861, 862, 863, 868, 873, 890, 903, 908, 913, 926, 931, 938, 939, 941, 946, 947, 948, 949, 952, 954, 955, 956, 957, 960, 962, 963, 964, 965, 966, 967, 968, 970, 974, 975, 976, 977, 978, 981, 983, 985, 988, 989, 995, 996, 997, 1009, 1010, 1011, 1015, 1016, 1017, 1018, 1019, 1020, 1021, 1022, 1027, 1028, 1029, 1030, 1031, 1032, 1033, 1051, 1052, 1053, 1054, 1055, 1056, 1057, 1058, 1059, 1060, 1061, 1062, 1063, 1064, 1066, 1067, 1076, 1077, 1078, 1079, 1080, 1081, 1082, 1083, 1084, 1085, 1086, 1087, 1092, 1093, 1094, 1095, 1096, 1097, 1098, 1099, 1100, 1101, 1102, 1103, 1104, 1105, 1106, 1107, 1108, 1109, 1110, 1111, 1112, 1113, 1114, 1115, 1116, 1117, 1118, 1119, 1120, 1121, 1122, 1123, 1124, 1125, 1128, 1130, 1131, 1132, 1133, 1134, 1135, 1136, 1137, 1138, 1139, 1140, 1141, 1142, 1143, 1144, 1145, 1146, 1147, 1148, 1149, 1150, 1151, 1152, 1153, 1154, 1155, 1156, 1159, 1163, 1165, 1166, 1167, 1168, 1169, 1170, 1171, 1172, 1175, 1180, 1181, 1182, 1183, 1187, 1188, 1189, 1190, 1191, 1192, 1193, 1194, 1195, 1196, 1197, 1198, 1212, 1213, 1214, 1216, 1218, 1226, 1227, 1230, 1233, 1234, 1235, 1236, 1237, 1238, 1239, 1240, 1241, 1242, 1243, 1244, 1245, 1249, 1250, 1251, 1252, 1253, 1254, 1255, 1256, 1257, 1258, 1259, 1260, 1261, 1262, 1263, 1264, 1265, 1266, 1269, 1270, 1271, 1272, 1275, 1278, 1279, 1280, 1281, 1282, 1283, 1284, 1285, 1286, 1287, 1288, 1289, 1290, 1291, 1292, 1293, 1294, 1295, 1296, 1297, 1298, 1299, 1300, 1301, 1302, 1303, 1304, 1305, 1306, 1307, 1308, 1309, 1310, 1311, 1312, 1313, 1314, 1315, 1316, 1320, 1321, 1322, 1323, 1324, 1326, 1328, 1329, 1330, 1331, 1332, 1337, 1338, 1339, 1340, 1341, 1342, 1343, 1344, 1347, 1348, 1349, 1350, 1351, 1352, 1353, 1354, 1355, 1356, 1357, 1358, 1360, 1361, 1362, 1363, 1364, 1365, 1366, 1367, 1368, 1369, 1370, 1371, 1372, 1373, 1374, 1375, 1376, 1377, 1378, 1379, 1380, 1381, 1382, 1383, 1384, 1385, 1386, 1387, 1388, 1389, 1390, 1391, 1392, 1393, 1394, 1395, 1396, 1397, 1398, 1399, 1400, 1401, 1402, 1403, 1404, 1405, 1406, 1407, 1408, 1409, 1410, 1411, 1412, 1413, 1414, 1415, 1418, 1419, 1420, 1421, 1424, 1425, 1426, 1427, 1429, 1430, 1431, 1432, 1433, 1434, 1435, 1436, 1437, 1438, 1439, 1440, 1441, 1442, 1443, 1444, 1445, 1446, 1447, 1450, 1451, 1452, 1454, 1455, 1456, 1457, 1458, 1459, 1460, 1461, 1462, 1465, 1466, 1468, 1469, 1471, 1472, 1473, 1474, 1476, 1477, 1478, 1479, 1480, 1481, 1482, 1483, 1486, 1487, 1488, 1489, 1490, 1491, 1493, 1494, 1495, 1496, 1497, 1498, 1499, 1500, 1501, 1502, 1503, 1504, 1505, 1506, 1507, 1508, 1509, 1512, 1513, 1514, 1516, 1519, 1522, 1523, 1526, 1527, 1528, 1529, 1530, 1531, 1532, 1533, 1534, 1535, 1536, 1537, 1538, 1539, 1540, 1541, 1542, 1544, 1545, 1546, 1547, 1549, 1552, 1553, 1554, 1555, 1556, 1557, 1558, 1559, 1560, 1561, 1562, 1563, 1564, 1565, 1566, 1567, 1568, 1573, 1574, 1575, 1576, 1577, 1578, 1579, 1580, 1581, 1582, 1583, 1584, 1585, 1590, 1591, 1592, 1593, 1597, 1598, 1601, 1602, 1604, 1605, 1606, 1607, 1608, 1609, 1610, 1611, 1612, 1615, 1624, 1625, 1626, 1627, 1628, 1629, 1630, 1631, 1632, 1633, 1634, 1635, 1636, 1637, 1638, 1639, 1640, 1641, 1642, 1643, 1644, 1645, 1646, 1647, 1648, 1649, 1650, 1651, 1652, 1681, 1682, 1683, 1684, 1685, 1686, 1692, 1693, 1694, 1695, 1696] ['M_oligoP_v', 'M_polyP_v', 'M_h2o_v', 'M_h2o_c', 'M_ppi_c', 'M_h_c', 'M_pi_c', 'M_h2o_m', 'M_ppi_m', 'M_h_m', 'M_pi_m', 'M_allphn_c', 'M_co2_c', 'M_nh4_c', 'M_h2o2_x', 'M_o2_x', 'M_h2o_x', 'M_tre_c', 'M_glc_D_c', 'M_h2o_e', 'M_tre_e', 'M_glc_D_e', 'M_tre_v', 'M_glc_D_v', 'M_thmpp_m', 'M_pyr_m', 'M_co2_m', 'M_2_Hydroxyethyl_ThPP_m', 'M_h2o2_m', 'M_akg_c', 'M_gln_L_c', 'M_glu_L_c', 'M_glc_D_B_c', 'M_5aop_c', 'M_ppbng_c', 'M_dmlz_c', 'M_4r5au_c', 'M_ribflv_c', 'M_o2_c', 'M_o2_m', 'M_hmbil_c', 'M_atp_c', 'M_adp_c', 'M_atp_r', 'M_h2o_r', 'M_adp_r', 'M_pi_r', 'M_h2o_g', 'M_pi_g', 'M_atp_m', 'M_adp_m', 'M_camp_c', 'M_nadh_c', 'M_nad_c', 'M_ncam_c', 'M_adprib_c', 'M_nad_m', 'M_ncam_m', 'M_adprib_m', 'M_amp_c', 'M_nmn_c', 'M_amp_m', 'M_nmn_m', 'M_nadp_c', 'M_nadp_m', 'M_nadh_m', 'M_nadph_m', 'M_nadph_c', 'M_gthox_c', 'M_gthrd_c', 'M_gthox_m', 'M_gthrd_m', 'M_ap4a_c', 'M_dpcoa_c', 'M_coa_c', 'M_dpcoa_m', 'M_coa_m', 'M_udp_c', 'M_ump_c', 'M_utp_c', 'M_atp_n', 'M_ump_n', 'M_adp_n', 'M_udp_n', 'M_fad_c', 'M_fmn_c', 'M_pydx5p_c', 'M_pydx_c', 'M_met_L_c', 'M_amet_c', 'M_ametam_c', 'M_imp_c', 'M_ade_c', 'M_r5p_c', 'M_adn_c', 'M_pap_c', 'M_prpp_c', 'M_ahcys_c', 'M_hcys_L_c', 'M_lac_L_c', 'M_pyr_c', 'M_lac_D_c', 'M_lac_D_m', 'M_pep_c', 'M_mal_L_c', 'M_mal_L_m', 'M_ser_L_c', 'M_alac_S_m', 'M_accoa_c', 'M_ac_c', 'M_accoa_m', 'M_ac_m', 'M_coa_x', 'M_ac_x', 'M_accoa_x', 'M_ppi_x', 'M_aacoa_c', 'M_aacoa_m', 'M_aacoa_x', 'M_glu5p_c', 'M_glu5sa_m', 'M_glu_L_m', 'M_5oxpro_c', 'M_dnad_c', 'M_dnad_m', 'M_gln_L_m', 'M_nh4_n', 'M_dnad_n', 'M_h_n', 'M_ppi_n', 'M_amp_n', 'M_nad_n', 'M_ala_L_c', 'M_akg_m', 'M_ala_L_m', 'M_acglu_m', 'M_4abut_c', 'M_icit_c', 'M_oxasucc_c', 'M_oxasucc_m', 'M_hcit_m', 'M_h2o2_c', 'M_o2s_c', 'M_o2s_m', 'M_pyam5p_c', 'M_pdx5p_c', 'M_q6_m', 'M_q6h2_m', 'M_udpg_c', 'M_g1p_c', 'M_udpgal_c', 'M_ppp9_m', 'M_gdp_c', 'M_gmp_c', 'M_gdp_g', 'M_h_g', 'M_gmp_g', 'M_gtp_c', 'M_gtp_v', 'M_pi_v', 'M_gdp_v', 'M_oaa_c', 'M_oaa_m', 'M_mal_L_x', 'M_oaa_x', 'M_h_x', 'M_hco3_c', 'M_cit_m', 'M_cit_x', 'M_asp_L_c', 'M_asp_L_m', 'M_akg_x', 'M_asp_L_x', 'M_glu_L_x', 'M_gly_c', 'M_glx_c', 'M_glyclt_c', 'M_2aobut_c', 'M_3mgcoa_m', 'M_hmgcoa_m', 'M_dcacoa_x', 'M_dc2coa_x', 'M_ddcacoa_x', 'M_dd2coa_x', 'M_tdcoa_x', 'M_td2coa_x', 'M_pmtcoa_x', 'M_hdd2coa_x', 'M_stcoa_x', 'M_od2coa_x', 'M_eicoscoa_x', 'M_eicos2coa_x', 'M_dcoscoa_x', 'M_dcos2coa_x', 'M_ttccoa_x', 'M_ttc2coa_x', 'M_hexccoa_x', 'M_hxc2coa_x', 'M_btcoa_x', 'M_b2coa_x', 'M_hxcoa_x', 'M_hx2coa_x', 'M_occoa_x', 'M_oc2coa_x', 'M_3ohodcoa_x', 'M_3kc20coa_x', 'M_3kc22coa_x', 'M_3kc24coa_x', 'M_3ohxccoa_x', 'M_succ_m', 'M_succoa_m', 'M_fad_m', 'M_fum_m', 'M_fadh2_m', 'M_micit_m', 'M_acgam1p_c', 'M_uacgam_c', 'M_for_c', 'M_25dhpp_c', 'M_faptp_c', 'M_35cgmp_c', 'M_urdglyc_c', 'M_4h2oglt_c', 'M_glx_x', 'M_succ_c', 'M_icit_x', 'M_succ_x', 'M_4pasp_c', 'M_iasp_c', 'M_asn_L_c', 'M_asn_L_e', 'M_nh4_e', 'M_asp_L_e', 'M_ala_B_c', 'M_cgly_c', 'M_glucys_c', 'M_paps_c', 'M_so4_c', 'M_aps_c', 'M_cmp_c', 'M_csn_c', 'M_cytd_c', 'M_cdp_c', 'M_Sfglutth_c', 'M_fmn_e', 'M_pi_e', 'M_ribflv_e', 'M_ribflv_m', 'M_fmn_m', 'M_arg_L_c', 'M_urea_c', 'M_orn_c', 'M_ctp_c', 'M_cbp_c', 'M_h2o_n', 'M_hco3_n', 'M_gln_L_n', 'M_pi_n', 'M_glu_L_n', 'M_cbp_n', 'M_pser_L_c', 'M_acser_c', 'M_amet_m', 'M_ahcys_m', 'M_meoh_x', 'M_fald_x', 'M_thmpp_c', 'M_thmtp_c', 'M_thmmp_c', 'M_thm_c', 'M_thmpp_e', 'M_h_e', 'M_thm_e', 'M_3_Carboxy_1_hydroxypropyl_ThPP_m', 'M_etoh_c', 'M_aces_c', 'M_acald_c', 'M_2pg_c', 'M_glu5sa_c', 'M_acorn_c', 'M_ptrc_c', 'M_indole_c', 'M_trp_L_c', 'M_Lfmkynr_c', 'M_iad_c', 'M_indpyr_c', 'M_phe_L_c', 'M_phpyr_c', 'M_msa_c', 'M_1pyr5c_m', 'M_icit_m', 'M_acald_m', 'M_sucsal_c', 'M_saccrp_L_c', 'M_lys_L_c', 'M_itp_c', 'M_idp_c', 'M_34hpp_c', 'M_tyr_L_c', 'M_34hpp_m', 'M_tyr_L_m', 'M_34hpp_x', 'M_tyr_L_x', 'M_malcoa_c', 'M_hco3_m', 'M_malcoa_m', 'M_ethamp_c', 'M_thr_L_c', 'M_etoh_m', 'M_gam6p_c', 'M_f6p_c', 'M_gly_m', 'M_5aop_m', 'M_glyc3p_c', 'M_glyc_c', 'M_dhap_c', 'M_dhap_m', 'M_glyc3p_m', 'M_faRcoa_c', 'M_1ag3p_SC_c', 'M_h2s_c', 'M_so3_c', 'M_fru_c', 'M_sbt_D_c', 'M_man1p_c', 'M_gdpmann_c', 'M_cys_L_c', 'M_3sala_c', 'M_acser_m', 'M_h2s_m', 'M_cys_L_m', 'M_aproa_c', 'M_2maacoa_m', 'M_ppcoa_m', 'M_2mcit_m', 'M_2mop_m', 'M_dhf_c', 'M_thf_c', 'M_dhf_m', 'M_thf_m', 'M_fol_m', 'M_10fthf_c', 'M_10fthf_m', 'M_thfglu_c', 'M_for_m', 'M_mlthf_c', 'M_ser_L_m', 'M_mlthf_m', 'M_5mthf_c', 'M_g6p_c', 'M_uri_c', 'M_orot5p_c', 'M_ura_c', 'M_chor_c', 'M_anth_c', 'M_Lkynr_c', 'M_nformanth_c', 'M_e3mmal_c', 'M_2obut_c', 'M_suchms_c', 'M_2hb_c', 'M_cyst_L_c', 'M_dolp_r', 'M_dolichol_r', 'M_dolpp_r', 'M_udpg_r', 'M_dolglcp_r', 'M_dolp_c', 'M_dolmanp_r', 'M_dha_c', 'M_dhap_v', 'M_dha_v', 'M_1agly3p_SC_c', 'M_g3p_c', 'M_mthgxl_c', 'M_dolichol_c', 'M_chol_c', 'M_cholp_c', 'M_g3pc_c', 'M_glyald_c', 'M_rib_D_c', 'M_psd5p_c', 'M_ru5p_D_c', 'M_r1p_c', 'M_13dpg_c', 'M_fdp_c', 'M_prbatp_c', 'M_pram_c', 'M_pran_c', 'M_fum_c', 'M_dcamp_c', 'M_argsuc_c', 'M_leu_L_c', 'M_4mop_c', 'M_leu_L_m', 'M_4mop_m', 'M_5dpmev_c', 'M_ipdp_c', 'M_dmpp_c', 'M_ins_c', 'M_fprica_c', 'M_xmp_c', 'M_hxan_c', 'M_dadp_c', 'M_datp_c', 'M_his_L_c', 'M_NPmehis_c', 'M_hstdal_c', 'M_urcan_c', 'M_3ohcoa_x', 'M_inost_c', 'M_mi1p_D_c', 'M_mi4p_D_c', 'M_mi3p_D_c', 'M_chitin_c', 'M_acgam_c', 'M_23dhmb_m', 'M_3mob_m', 'M_3mob_c', 'M_3c3hmp_c', 'M_3c3hmp_m', 'M_val_L_c', 'M_val_L_m', 'M_methf_c', 'M_methf_m', 'M_nh4_m', 'M_2dhp_c', 'M_gsn_c', 'M_gua_c', 'M_pro_L_m', 'M_1pyr5c_c', 'M_pro_L_c', 'M_4hpro_LT_c', 'M_nac_c', 'M_nac_m', 'M_1mncam_c', 'M_pmtcoa_c', 'M_hdca_c', 'M_ocdca_c', 'M_stcoa_c', 'M_3dsphgn_c', 'M_cyst_L_x', 'M_nh4_x', 'M_pyr_x', 'M_hcys_L_x', 'M_achms_c', 'M_4hbzcoa_m', 'M_4hbz_m', 'M_4hbz_c', 'M_pc_SC_c', 'M_pa_SC_c', 'M_12dgr_SC_c', 'M_faR_c', 'M_1agpc_SC_c', 'M_cdpchol_c', 'M_cit_c', 'M_man_c', 'M_man6p_c', 'M_mag_c', 'M_acac_m', 'M_4fumacac_c', 'M_acac_c', 'M_triglyc_SC_c', 'M_pphn_c', 'M_pacald_c', 'M_cbasp_c', 'M_citr_L_c', 'M_5mta_c', 'M_5mtr_c', 'M_5mdr1p_c', 'M_xu5p_D_x', 'M_g3p_x', 'M_dha_x', 'M_lald_L_c', 'M_epist_c', 'M_epistest_SC_c', 'M_ergst_c', 'M_ergstest_SC_c', 'M_fecost_c', 'M_fecostest_SC_c', 'M_lanost_c', 'M_lanostest_SC_c', 'M_zymst_c', 'M_zymstest_SC_c', 'M_phom_c', 'M_etha_c', 'M_g3pe_c', 'M_cer1_16_c', 'M_sphgn_c', 'M_cer1_18_c', 'M_cer16d4_c', 'M_sphings_c', 'M_cer18d4_c', 'M_cer1_24_c', 'M_ttc_c', 'M_cer1_26_c', 'M_hexc_c', 'M_3pg_c', 'M_3php_c', 'M_g15lac_c', 'M_6pgc_c', 'M_xu5p_D_c', 'M_damp_c', 'M_adn_m', 'M_ade_m', 'M_r1p_m', 'M_thymd_c', 'M_dtmp_c', 'M_2dr1p_c', 'M_thym_c', 'M_g6p_B_c', 'M_T4hcinnm_m', 'M_coucoa_m', 'M_pan4p_c', 'M_xylu_D_c', 'M_s7p_c', 'M_3c4mop_c', 'M_grdp_c', 'M_23dpg_c', 'M_dcmp_c', 'M_dump_c', 'M_dcyt_c', 'M_dcdp_c', 'M_xan_c', 'M_hyptaur_c', 'M_taur_c', 'M_hxdcal_c', 'M_pydxn_c', 'M_3psme_c', 'M_4adcho_c', 'M_nicrnt_c', 'M_prpp_m', 'M_nicrnt_m', 'M_lgt_S_c', 'M_lgt_S_m', 'M_glcn_c', 'M_hom_L_c', 'M_aspsa_c', 'M_hom_L_m', 'M_achms_m', 'M_3hxccoa_x', 'M_3hodcoa_x', 'M_3hc20coa_x', 'M_3hc22coa_x', 'M_3hc24coa_x', 'M_cdpdag_SC_c', 'M_pa_SC_m', 'M_ps_SC_c', 'M_ps_SC_m', 'M_pgp_SC_m', 'M_ptd1ino_SC_c', 'M_glycogen_c', 'M_e4p_c', 'M_ohpb_c', 'M_2dda7p_c', 'M_pep_m', 'M_e4p_m', 'M_2dda7p_m', 'M_s17bp_c', 'M_dgtp_c', 'M_dgmp_c', 'M_dgdp_c', 'M_dhor_S_c', 'M_orot_c', 'M_dhor_S_m', 'M_orot_m', 'M_acybut_c', 'M_spmd_c', 'M_4abutn_c', 'M_13dampp_c', 'M_2oxoadp_c', 'M_glutcoa_c', 'M_oxag_m', 'M_2oxoadp_m', 'M_amuco_c', 'M_L2aadp_c', 'M_4aphdob_c', 'M_hLkynr_c', 'M_dgsn_c', 'M_id3acald_c', 'M_3hbcoa_x', 'M_3hbcoa_c', 'M_hmgcoa_c', 'M_4aabutn_c', 'M_frdp_c', 'M_dadp_n', 'M_dudp_c', 'M_dudp_n', 'M_gdp_n', 'M_dgdp_n', 'M_dctp_c', 'M_dutp_c', 'M_cdp_n', 'M_dcdp_n', 'M_pg_SC_c', 'M_pg_SC_m', 'M_clpn_SC_m', 'M_6pgl_c', 'M_cdpea_c', 'M_pe_SC_c', 'M_1agpe_SC_c', 'M_ps_SC_g', 'M_co2_g', 'M_pe_SC_g', 'M_pe_SC_m', 'M_h_v', 'M_ps_SC_v', 'M_co2_v', 'M_pe_SC_v', 'M_ptdmeeta_SC_c', 'M_acgam6p_c', 'M_ggdp_c', 'M_f1p_c', 'M_mev_R_c', 'M_dad_2_c', 'M_dtdp_c', 'M_dttp_c', 'M_dump_n', 'M_duri_c', 'M_urate_c', 'M_5hiurate_c', 'M_ergst3glc_c', 'M_epist_e', 'M_ergst_e', 'M_fecost_e', 'M_lanost_e', 'M_zymst_e', 'M_4mhetz_c', 'M_4ahmmp_c', 'M_thmmp_e', 'M_dmq6_m', 'M_ile_L_c', 'M_3mop_c', 'M_ile_L_m', 'M_3mop_m', 'M_odecoa_c', 'M_lnlncacoa_x', 'M_ocdycacoa_x', 'M_dhpt_c', 'M_12dgr_SC_r', 'M_h_r', 'M_pa_SC_r', 'M_5pmev_c', 'M_acorn_m', 'M_orn_m', 'M_acg5sa_m', 'M_5forthf_c', 'M_forglu_c', 'M_4izp_c', 'M_rnam_c', 'M_nicrns_c', 'M_xtsn_c', 'M_5fthf_c', 'M_5fthf_m', 'M_L2aadp6sa_c', 'M_chitin_e', 'M_chitos_e', 'M_ac_e', 'M_chitos_c', 'M_3ig3p_c', 'M_skm_c', 'M_skm5p_c', 'M_3dhsk_c', 'M_alltt_c', 'M_alltn_c', 'M_sph1p_c', 'M_pant_R_c', 'M_2dhp_m', 'M_pant_R_m', 'M_pnto_R_c', 'M_b2coa_c', 'M_pydam_c', 'M_4hphac_c', 'M_hgentis_c', 'M_4mlacac_c', 'M_aact_c', 'M_pac_c', 'M_pad_c', 'M_4abutn_m', 'M_4abut_m', 'M_din_c', 'M_3snpyr_c', 'M_acg5p_m', 'M_acgpail_pp_c', 'M_ibcoa_m', 'M_2mp2coa_m', 'M_3hanthrn_c', 'M_cmusa_c', 'M_id3acald_m', 'M_ind3ac_m', 'M_ind3ac_c', 'M_f26bp_c', 'M_sbt6p_c', 'M_tre6p_c', 'M_g3pc_e', 'M_scl_c', 'M_sprm_c', 'M_o2_r', 'M_sql_r', 'M_nadh_r', 'M_Ssq23epx_r', 'M_nad_r', 'M_btd_RR_c', 'M_actn_R_c', 'M_histd_c', 'M_hisp_c', 'M_4ppan_c', 'M_pan4p_m', 'M_2ahhmp_c', 'M_4abz_c', 'M_2ahhmd_c', 'M_3dhq_c', 'M_ind3acnl_c', 'M_13BDglcn_c', 'M_13BDglcn_e', 'M_uppg3_c', 'M_2mbcoa_m', 'M_2mb2coa_m', 'M_dscl_c', 'M_cpppg3_c', 'M_Ssq23epx_c', 'M_pppg9_c', 'M_pppg9_m', 'M_4mpetz_c', 'M_2mahmp_c', 'M_imacp_c', 'M_4ppcys_c', 'M_1p3h5c_c', 'M_4hpro_LT_m', 'M_1p3h5c_m', 'M_34hpl_m', 'M_nicrns_m', 'M_quln_c', 'M_quln_m', 'M_pi4p_c', 'M_pi3p_c', 'M_mi14p_c', 'M_mi145p_c', 'M_ptd2meeta_SC_c', 'M_ptd145bp_SC_c', 'M_b124tc_m', 'M_eig3p_c', 'M_5aprbu_c', 'M_5apru_c', 'M_25drapp_c', 'M_4ampm_c', 'M_2ahhmp_m', 'M_2ahhmd_m', 'M_dhnpt_m', 'M_gcald_m', 'M_2cpr5p_c', 'M_arg_L_m', 'M_asn_L_m', 'M_his_L_m', 'M_lys_L_m', 'M_met_L_m', 'M_phe_L_m', 'M_thr_L_m', 'M_trp_L_m', 'M_2425_Dihydrolanosterol_c', 'M_3odcoa_x', 'M_3otdcoa_x', 'M_am6sa_c', 'M_2mbald_c', 'M_citmal_c', 'M_citcon_c', 'M_R_Allantoin_c', 'M_2ippm_c', 'M_tdcoa_c', 'M_tdecoa_c', 'M_3ohdcoa_x', 'M_3c2hmp_c', 'M_ddca_c', 'M_aprut_c', 'M_n4abutn_c', 'M_prbamp_c', 'M_prfp_c', 'M_ivcoa_m', 'M_3mb2coa_m', 'M_gar_c', 'M_3hddcoa_x', 'M_3hmbcoa_m', 'M_fpram_c', 'M_air_c', 'M_5aizc_c', 'M_3hibutcoa_m', 'M_fgam_c', 'M_hicit_m', 'M_5mdru1p_c', 'M_2mcacn_m', 'M_4hglusa_m', 'M_e4hglu_m', 'M_db4p_c', 'M_prlp_c', 'M_aicar_c', 'M_25aics_c', 'M_ahdt_c', 'M_dhnpt_c', 'M_dhpmp_c', 'M_a4oxptp_c', 'M_2obut_m', 'M_2ahbut_m', 'M_3dh5hpb_m', 'M_3hph5mb_m', 'M_3hhdcoa_x', 'M_3htdcoa_x', 'M_3oddcoa_x', 'M_3hdcoa_x', 'M_3hocoa_x', 'M_3oocoa_x', 'M_3hhcoa_x', 'M_2hp6mp_m', 'M_2hp6mbq_m', 'M_2hpmmbq_m', 'M_25daptp_c', 'M_e4hglu_c', 'M_4h2oglt_m', 'M_e4hglu_x', 'M_4h2oglt_x', 'M_3hmp_m', 'M_3h3m2op_m', 'M_23dhmp_m', 'M_23dhmp_c', 'M_phthr_c', 'M_4hthr_c', 'M_aacald_c', 'M_dedoldp_c', 'M_abt_D_c', 'M_ipdp_m', 'M_pendp_m', 'M_hexdp_m', 'M_3ophb_5_m', 'M_44mctr_c', 'M_44mzym_c', 'M_nadph_r', 'M_ergtetrol_r', 'M_nadp_r', 'M_ergst_r', 'M_fmnh2_c', 'M_mi1456p_c', 'M_mi1345p_n', 'M_mi13456p_n', 'M_ptd135bp_SC_c', 'M_ala_D_x', 'M_ptd1ino_SC_r', 'M_gpail_pp_c', 'M_gpail_pp_r', 'M_ac_r', 'M_pmtcoa_r', 'M_gacpail_pp_r', 'M_coa_r', 'M_mgacpail_pp_r', 'M_pe_SC_r', 'M_emgacpail_pp_r', 'M_memgacpail_pp_r', 'M_m2emgacpail_pp_r', 'M_m3emgacpail_pp_r', 'M_mem2emgacpail_pp_r', 'M_mem3gacpail_pp_r', 'M_naglc2p_c', 'M_chito2pdol_c', 'M_mpdol_c', 'M_m1mpdol_c', 'M_g3m8mpdol_r', 'M_g3m8masn_r', 'M_glc_D_r', 'M_g2m8masn_r', 'M_g1m8masn_r', 'M_m8masn_r', 'M_2amsa_c', 'M_m2mpdol_c', 'M_m3mpdol_c', 'M_gdpmann_g', 'M_m4mpdol_c', 'M_mma_c', 'M_fald_c', 'M_athr_L_c', 'M_sql_c', 'M_m4mpdol_r', 'M_m5mpdol_r', 'M_m6mpdol_r', 'M_m7mpdol_r', 'M_m8mpdol_r', 'M_g1m8mpdol_r', 'M_g2m8mpdol_r', 'M_cer2d16d4_c', 'M_glccer161_c', 'M_cer2d16d48_c', 'M_glccer162_c', 'M_cer16d48m9_c', 'M_glccer162m_c', 'M_cer2d_18_c', 'M_glccer180_c', 'M_cer2d18d4_c', 'M_glccer181_c', 'M_cer2d18d48_c', 'M_glccer182_c', 'M_cer18d48m9_c', 'M_glccer182m_c', 'M_ttccoa_c', 'M_sphgn_r', 'M_hexccoa_c', 'M_psphings_r', 'M_cer2d_16_c', 'M_sph1p_r', 'M_psphings_c', 'M_cer2_24_c', 'M_cer2_26_c', 'M_ohcureimdzln_c', 'M_man_r', 'M_m7masnB_r', 'M_hmgth_c', 'M_12d3k5m_c', 'M_2kmb_c', 'M_dkmpp_c', 'M_frdp_m', 'M_pendp_c', 'M_4mzym_int1_c', 'M_4mzym_int2_c', 'M_4mzym_c', 'M_zym_int1_c', 'M_zym_int2_c', 'M_ergtrol_c', 'M_ergtetrol_c', 'M_2_Methyl_1_hydroxypropyl_TPP_m', 'M_3_Methyl_1_hydroxybutyl_TPP_m', 'M_2_Methyl_1_hydroxybutyl_TPP_m', 'M_manserthr_r', 'M_lnlncacoa_c', 'M_strdnccoa_c', 'M_em2emgacpail_pp_r', 'M_ttdca_c', 'M_xylt_c', 'M_m7masnB_g', 'M_m8masnB_g', 'M_man_v', 'M_1agpg_c', 'M_faRcoa_m', 'M_mlclpn_m', 'M_faR_m', 'M_DAHS_c', 'M_hexdp_c', 'M_manserthr_g', 'M_m2serthr_g', 'M_m3serthr_g', 'M_25dthpp_c', 'M_ctp_r', 'M_cdp_r', 'M_34_dihydrouridine_c', 'M_hdcoa_c', 'M_ocdycacoa_c', 'M_hdcea_c', 'M_ocdcea_c', 'M_ocdcya_c', 'M_lnlnca_c', 'M_clpn_SC_c', 'M_PHOSPHOLIPID_c', 'M_sterols_c', 'M_SE_c', 'M_glycerides_c', 'M_SPHLIPID_c', 'M_LIPIDS_c', 'M_PROTEIN_c', 'M_mannan_c', 'M_CARBOHYDRATES_c', 'M_RNA_c', 'M_DNA_c', 'M_16BDglcn_c', 'M_glycogen_v', 'M_mannan_g', 'M_chitin_g', 'M_co2_x', 'M_3ipmmest_c', 'M_2mppal_c', 'M_3mbald_c', 'M_iamac_c', 'M_iamoh_c', 'M_ibutac_c', 'M_ibutoh_c', 'M_2mbtoh_c', 'M_2mbald_m', 'M_2mbtoh_m', 'M_2mppal_m', 'M_ibutoh_m', 'M_3mbald_m', 'M_iamoh_m', 'M_2phetoh_c', 'M_pacald_m', 'M_2phetoh_m', 'M_ind3eth_c', 'M_ind3eth_m', 'M_dca_x', 'M_ddca_x', 'M_ttdca_x', 'M_ttdcea_c', 'M_ttdcea_x', 'M_tdecoa_x', 'M_hdca_x', 'M_hdcea_x', 'M_hdcoa_x', 'M_ocdca_x', 'M_ocdcea_x', 'M_odecoa_x', 'M_ocdcya_x', 'M_lnlnca_x', 'M_ttc_x', 'M_hexc_x', 'M_octa_x', 'M_octa_c', 'M_dca_c', 'M_ddcacoa_c', 'M_4abz_m', 'M_dhpt_m', 'M_Nfortyr_c', 'M_mnl1p_c', 'M_mnl_c', 'M_gam1p_c', 'M_ptd134bp_SC_c', 'M_ch4s_c', 'M_gsn_m', 'M_gua_m', 'M_mannan_r', 'M_ap4g_c', 'M_gp4g_c', 'M_35cdamp_c', 'M_35cimp_c', 'M_35ccmp_c', 'M_gluala_c', 'M_aprop_c', 'M_pap_m', 'M_N1aspmd_c', 'M_N1sprm_c', 'M_dagpy_SC_c', 'M_minohp_n', 'M_mi1456p_n', 'M_mi145p_n', 'M_ptd1ino_SC_n', 'M_pi4p_n', 'M_ppmi12346p_c', 'M_minohp_c', 'M_ppmi1346p_c', 'M_mi13456p_c', 'M_akg_n', 'M_accoa_n', 'M_coa_n', 'M_hcit_n', 'M_lac_L_m', 'M_cer16d48_c', 'M_cer18d48_c', 'M_sphs1p_c', 'M_sphs1p_r', 'M_sphings_r', 'M_hxdceal_c', 'M_cer3_24_c', 'M_cer3_26_c', 'M_ceravg_c', 'M_cer2d_24_c', 'M_cer2d_26_c', 'M_cer4_24_c', 'M_cer4_26_c', 'M_GlcCer_c', 'M_ipc116_SC_c', 'M_ipc118_SC_c', 'M_ipc124_SC_c', 'M_ipc126_SC_c', 'M_ipc224_SC_c', 'M_ipc226_SC_c', 'M_ipc324_SC_c', 'M_ipc326_SC_c', 'M_ipc424_SC_c', 'M_ipc426_SC_c', 'M_IPCavg_c', 'M_mip2c124_SC_c', 'M_man2mi1p_D_c', 'M_mip2c126_SC_c', 'M_mip2c224_SC_c', 'M_mip2c226_SC_c', 'M_mip2c324_SC_c', 'M_mip2c326_SC_c', 'M_mip2c424_SC_c', 'M_mip2c426_SC_c', 'M_mip2cavg_c', 'M_mipc124_SC_c', 'M_mipc126_SC_c', 'M_mipc224_SC_c', 'M_mipc226_SC_c', 'M_mipc324_SC_c', 'M_mipc326_SC_c', 'M_mipc424_SC_c', 'M_mipc426_SC_c', 'M_manmi1p_D_c', 'M_mipcavg_c', 'M_psph1p_c', 'M_2hhxdal_c', 'M_psph1p_r', 'M_gcald_c', 'M_gdpmann_r', 'M_h2o2_r', 'M_ump_r', 'M_alltn_e', 'M_o2_e', 'M_so4_e', 'M_ocdcea_e', 'M_glyc_e', 'M_sbt_D_e', 'M_mnl_e', 'M_co2_e', 'M_lac_D_e', 'M_etoh_e', 'M_meoh_c', 'M_meoh_e', 'M_for_e', 'M_pyr_e', 'M_2hb_e', 'M_2mbac_c', 'M_2mbac_e', 'M_2mbald_e', 'M_2mbtoh_e', 'M_2mppal_e', 'M_2phetoh_e', 'M_3c3hmp_e', 'M_3mbald_e', 'M_3mop_e', 'M_4abz_e', 'M_5aop_e', 'M_4abut_e', 'M_acald_e', 'M_aces_e', 'M_ade_e', 'M_adn_e', 'M_mal_L_e', 'M_akg_e', 'M_ala_D_e', 'M_ala_D_c', 'M_ala_L_e', 'M_alltt_e', 'M_amet_e', 'M_arg_L_e', 'M_btd_RR_e', 'M_chol_e', 'M_cit_e', 'M_csn_e', 'M_cys_L_e', 'M_cytd_e', 'M_dad_2_e', 'M_dcyt_e', 'M_dgsn_e', 'M_din_e', 'M_dttp_e', 'M_duri_e', 'M_etha_e', 'M_fru_e', 'M_fum_e', 'M_gam6p_e', 'M_gcald_e', 'M_gln_L_e', 'M_glu_L_e', 'M_glx_e', 'M_gly_e', 'M_gsn_e', 'M_gthox_e', 'M_gthrd_e', 'M_gua_e', 'M_hdca_e', 'M_hdcea_e', 'M_his_L_e', 'M_hxan_e', 'M_iamac_e', 'M_iamoh_e', 'M_ibutac_e', 'M_ibutoh_e', 'M_id3acald_e', 'M_ile_L_e', 'M_ind3eth_e', 'M_ins_e', 'M_inost_e', 'M_leu_L_e', 'M_lac_L_e', 'M_lys_L_e', 'M_man_e', 'M_met_L_e', 'M_nac_e', 'M_nadp_e', 'M_Nbfortyr_c', 'M_Nbfortyr_e', 'M_nmn_e', 'M_oaa_e', 'M_ocdca_e', 'M_ocdcya_e', 'M_orn_e', 'M_pacald_e', 'M_pap_e', 'M_pheac_c', 'M_pheac_e', 'M_D_Phenylalanine_e', 'M_D_Phenylalanine_c', 'M_phe_L_e', 'M_pnto_R_e', 'M_pro_L_e', 'M_ptrc_e', 'M_ser_L_e', 'M_so3_e', 'M_spmd_e', 'M_sprm_e', 'M_succ_e', 'M_taur_e', 'M_thymd_e', 'M_thr_L_e', 'M_thym_e', 'M_trp_L_e', 'M_ttdca_e', 'M_tyr_L_e', 'M_ura_e', 'M_urea_e', 'M_uri_e', 'M_val_L_e', 'M_xan_e', 'M_xtsn_e', 'M_xyl_D_e', 'M_xyl_D_c', 'M_xylt_e', 'M_udpgal_g', 'M_2_Hydroxyethyl_ThPP_c', 'M_2mop_c', 'M_3c4mop_m', 'M_3dh5hpb_c', 'M_3ophb_5_c', 'M_5mthf_m', 'M_alac_S_c', 'M_cbp_m', 'M_cpppg3_m', 'M_hcit_c', 'M_lald_L_m', 'M_Lkynr_m', 'M_oxag_c', 'M_asp_L_n', 'M_cbasp_n', 'M_co2_n', 'M_h2o2_n', 'M_nmn_x', 'M_pi_x', 'M_his_L_v', 'M_ile_L_v', 'M_leu_L_v', 'M_lys_L_v', 'M_tyr_L_v', 'M_arg_L_v', 'M_asn_L_v', 'M_asp_L_v', 'M_gln_L_v', 'M_gthrd_v', 'M_glu_L_v', 'M_ocdcal_c', 'M_dedol_c', 'M_ppmi23456p_c', 'M_ppmi12456p_c', 'M_15ppmi2346p_c', 'M_35ppmi1246p_c', 'M_h_i', 'M_abt_D_e', 'M_rbl_D_c', 'M_3ohodcoa_c', 'M_3ohdcoa_c', 'M_3kc20coa_c', 'M_3kc22coa_c', 'M_3kc24coa_c', 'M_3ohxccoa_c', 'M_3htdcoa_c', 'M_3hhdcoa_c', 'M_3hc20coa_c', 'M_3hc22coa_c', 'M_3hc24coa_c', 'M_3hxccoa_c', 'M_td2coa_c', 'M_hdd2coa_c', 'M_od2coa_c', 'M_eicos2coa_c', 'M_dcos2coa_c', 'M_ttc2coa_c', 'M_hxc2coa_c', 'M_eicoscoa_c', 'M_dcoscoa_c', 'M_3otdcoa_c', 'M_fabAA_c', 'M_fabRNA_c', 'M_fabDNA_c', 'M_fab_c', 'M_fab_e', 'M_kdr_c', 'M_ram14lac_c', 'M_rham_c', 'M_rmn_c', 'M_rmn_e']\n"
     ]
    }
   ],
   "source": [
    "print(ind_flm_index_list,ind_flm_list)"
   ]
  },
  {
   "cell_type": "code",
   "execution_count": 18,
   "metadata": {},
   "outputs": [
    {
     "name": "stdout",
     "output_type": "stream",
     "text": [
      "Number of iteration:  0\n",
      "Number of reactions involved in FL: 6\n",
      "------------------------------------------------------------\n",
      "Checking index:  22\n",
      "This index is not in the minimal 22\n",
      "Checking index:  71\n",
      "This index is in the minimal set 71\n",
      "Checking index:  802\n",
      "This index is in the minimal set 802\n",
      "Checking index:  1104\n",
      "This index is in the minimal set 1104\n",
      "Checking index:  1424\n",
      "This index is in the minimal set 1424\n",
      "Checking index:  1924\n",
      "This index is in the minimal set 1924\n",
      "Minimal free lunch indexes: [71, 802, 1104, 1424, 1924]\n",
      "------------------ minimal free lunch equation----------------\n",
      "-1/4*(1 M_oligoP_v[C_v] + 4 M_h2o_v[C_v] <-> 5 M_pi_v[C_v])\n",
      "-1*(1 M_h_v[C_v] + 1 M_ile_L_c[C_c] -> 1 M_h_c[C_c] + 1 M_ile_L_v[C_v])\n",
      "-1/5*(5 M_pi_v[C_v] + 5 M_atp_v[C_v] <-> 1 M_oligoP_v[C_v] + 5 M_adp_v[C_v])\n",
      "-1*(3 M_h_c[C_c] + 1 M_pi_v[C_v] + 1 M_adp_v[C_v] -> 1 M_h2o_v[C_v] + 2 M_h_v[C_v] + 1 M_atp_v[C_v])\n",
      "-1*(1 M_h_v[C_v] + 1 M_ile_L_v[C_v] -> 1 M_h_c[C_c] + 1 M_ile_L_c[C_c])\n",
      "-----------\n",
      "1/20*(M_oligoP_v)\n",
      "1*(M_h_c)\n",
      "3/4*(M_pi_v)\n",
      "-------------------------------------------------------------\n"
     ]
    }
   ],
   "source": [
    "minimal_free_lunch,free_lunch_list,free_lunch_meta = model.findMinimalFreeLunch(free_lunch_meta_list=[5])"
   ]
  },
  {
   "cell_type": "code",
   "execution_count": 19,
   "metadata": {},
   "outputs": [
    {
     "name": "stdout",
     "output_type": "stream",
     "text": [
      "parameters.mip.tolerances.integrality\n",
      "CPXPARAM_Simplex_Tolerances_Feasibility          1.0000000000000001e-09\n",
      "CPXPARAM_Read_DataCheck                          1\n",
      "CPXPARAM_MIP_Tolerances_Integrality              1.0000000000000001e-15\n",
      "Found incumbent of value 929.000000 after 0.07 sec. (0.41 ticks)\n",
      "Tried aggregator 2 times.\n",
      "MIP Presolve eliminated 644 rows and 1794 columns.\n",
      "MIP Presolve modified 1997 coefficients.\n",
      "Aggregator did 12 substitutions.\n",
      "Reduced MIP has 3400 rows, 2977 columns, and 18239 nonzeros.\n",
      "Reduced MIP has 1780 binaries, 10 generals, 0 SOSs, and 0 indicators.\n",
      "Presolve time = 0.13 sec. (15.79 ticks)\n",
      "Probing time = 0.00 sec. (0.25 ticks)\n",
      "Tried aggregator 1 time.\n",
      "Reduced MIP has 3400 rows, 2977 columns, and 18239 nonzeros.\n",
      "Reduced MIP has 1780 binaries, 10 generals, 0 SOSs, and 0 indicators.\n",
      "Presolve time = 0.04 sec. (6.94 ticks)\n",
      "Probing time = 0.00 sec. (0.25 ticks)\n",
      "MIP emphasis: balance optimality and feasibility.\n",
      "MIP search method: dynamic search.\n",
      "Parallel mode: deterministic, using up to 8 threads.\n",
      "Root relaxation solution time = 0.32 sec. (228.83 ticks)\n",
      "\n",
      "        Nodes                                         Cuts/\n",
      "   Node  Left     Objective  IInf  Best Integer    Best Bound    ItCnt     Gap\n",
      "\n",
      "*     0+    0                          929.0000        0.0000           100.00%\n",
      "*     0+    0                          863.0000        0.0000           100.00%\n",
      "*     0+    0                          858.0000        0.0000           100.00%\n",
      "*     0+    0                          852.0000        0.0000           100.00%\n",
      "      0     0        0.0000    18      852.0000        0.0000     2157  100.00%\n",
      "*     0+    0                           18.0000        0.0000           100.00%\n",
      "      0     0        1.0000    17       18.0000     Covers: 1     2162   94.44%\n",
      "      0     0        2.0000    16       18.0000     Covers: 1     2167   88.89%\n",
      "      0     0        3.0000    15       18.0000     Covers: 1     2168   83.33%\n",
      "      0     0        3.0000    17       18.0000     Covers: 1     2175   83.33%\n",
      "*     0+    0                           17.0000        3.0000            82.35%\n",
      "      0     0        3.5000    18       17.0000     Covers: 1     2530   79.41%\n",
      "*     0+    0                           12.0000        3.5000            70.83%\n",
      "      0     2        3.5000    18       12.0000        3.5000     2530   70.83%\n",
      "Elapsed time = 2.44 sec. (1416.23 ticks, tree = 0.01 MB, solutions = 6)\n",
      "     10     5        4.0000    15       12.0000        3.5000     3019   70.83%\n",
      "     31    17        6.0000    24       12.0000        3.5000     7771   70.83%\n",
      "     57    35        5.0000    17       12.0000        4.0000    19815   66.67%\n",
      "    172   102        4.0000    14       12.0000        4.0000    48601   66.67%\n",
      "    272   191        9.0000    14       12.0000        4.0000    53937   66.67%\n",
      "    340   251        8.0000   104       12.0000        4.0000    57459   66.67%\n",
      "    403   335        8.0000    10       12.0000        4.0000    74829   66.67%\n",
      "    503   345       10.0000    63       12.0000        4.0000    79298   66.67%\n",
      "    584   447        cutoff             12.0000        4.0000    94429   66.67%\n",
      "   1005   719       10.0000    13       12.0000        4.0000   115658   66.67%\n",
      "Elapsed time = 8.42 sec. (4776.23 ticks, tree = 18.74 MB, solutions = 6)\n",
      "   1426  1096        7.0000    37       12.0000        4.0000   148760   66.67%\n",
      "   1978  1555        7.0000   131       12.0000        4.0000   172286   66.67%\n",
      "   2618  2025        7.0000    36       12.0000        4.0000   198506   66.67%\n",
      "   3359  2561        7.0000   139       12.0000        4.0000   225935   66.67%\n",
      "   3364  2852        8.0000    11       12.0000        8.0000   240748   33.33%\n",
      "   3413    53        9.0000    29       12.0000        8.0000   252445   33.33%\n",
      "   3570   116       10.0000    29       12.0000        8.0000   277905   33.33%\n",
      "   3720   301       10.0000    44       12.0000        8.0000   301560   33.33%\n",
      "   3879   385       10.0000     9       12.0000        8.0000   313725   33.33%\n",
      "   4003   468        9.0000    40       12.0000        8.0000   321461   33.33%\n",
      "Elapsed time = 27.99 sec. (15789.95 ticks, tree = 13.84 MB, solutions = 7)\n",
      "   4159   688       10.0000    49       12.0000        8.0000   358469   33.33%\n",
      "   4380   791        9.0000    41       12.0000        8.0000   378152   33.33%\n",
      "   4566   975        9.0000    74       12.0000        8.0000   400978   33.33%\n",
      "   4762  1174        8.0000    53       12.0000        8.0000   428791   33.33%\n",
      "   5037  1391       10.0000   146       12.0000        8.0000   451957   33.33%\n",
      "   5299  1608       10.0000    87       12.0000        8.0000   464317   33.33%\n",
      "   5534  1865        9.0000    52       12.0000        8.0000   492068   33.33%\n",
      "   5814  2163       10.0000    45       12.0000        8.0000   526243   33.33%\n",
      "   6249  2490        9.0010   133       12.0000        8.0000   544130   33.33%\n",
      "   6600  2808       10.0000   127       12.0000        8.0000   568655   33.33%\n",
      "Elapsed time = 46.60 sec. (25375.76 ticks, tree = 98.73 MB, solutions = 7)\n",
      "   6908  3061        9.0001    47       12.0000        8.0000   596410   33.33%\n",
      "   7143  3425        9.0000    35       12.0000        8.0000   637694   33.33%\n",
      "   7445  3678        9.0000    82       12.0000        8.0000   667732   33.33%\n",
      "   7672  3855        9.0000   154       12.0000        8.0000   691001   33.33%\n",
      "   7915  4143        9.0000    76       12.0000        8.0000   732748   33.33%\n",
      "   8200  4351        9.0000    67       12.0000        8.0000   754440   33.33%\n",
      "   8464  4605        9.0000    40       12.0000        8.0000   790460   33.33%\n",
      "   8707  4767        9.0000    94       12.0000        8.0000   811206   33.33%\n",
      "   8847  5057        9.0000    43       12.0000        8.0000   859602   33.33%\n",
      "   9067  5181        9.0000    48       12.0000        8.0000   885734   33.33%\n",
      "Elapsed time = 63.74 sec. (34985.34 ticks, tree = 188.56 MB, solutions = 7)\n",
      "   9317  5427        9.0000    56       12.0000        8.0000   916304   33.33%\n",
      "   9664  5714        9.0000    36       12.0000        8.0000   953547   33.33%\n",
      "   9911  5789       10.0000    65       12.0000        8.0000   963508   33.33%\n",
      "  10145  6118        9.0000    54       12.0000        8.0000  1003638   33.33%\n",
      "  10357  6367       10.0000    93       12.0000        8.0000  1047557   33.33%\n",
      "  10598  6575        9.0000    75       12.0000        8.0000  1070945   33.33%\n",
      "  10854  6727        cutoff             12.0000        8.0000  1089018   33.33%\n",
      "  11125  6987       10.0000   198       12.0000        8.0000  1120365   33.33%\n",
      "  11350  7192       10.0001   111       12.0000        8.0000  1141779   33.33%\n",
      "  11555  7533        9.0000    80       12.0000        8.0000  1183685   33.33%\n",
      "Elapsed time = 80.61 sec. (44614.39 ticks, tree = 271.29 MB, solutions = 7)\n",
      "  11789  7758        9.0003    76       12.0000        8.0000  1208630   33.33%\n",
      "  12179  7871        9.0000    89       12.0000        8.0000  1215910   33.33%\n",
      "  12677  8525        9.0000    35       12.0000        8.0000  1262495   33.33%\n",
      "  13091  8926       10.0001    66       12.0000        8.0000  1290189   33.33%\n",
      "  13450  9104        9.0000    74       12.0000        8.0000  1304468   33.33%\n",
      "  13789  9480        9.0000    51       12.0000        8.0000  1335224   33.33%\n",
      "  14279  9792        9.0000    74       12.0000        8.0000  1367692   33.33%\n",
      "  14812 10655        9.0000   108       12.0000        8.0001  1428291   33.33%\n",
      "  15206 10953        9.0000    41       12.0000        8.0001  1453697   33.33%\n",
      "  15550 11323        9.0000    91       12.0000        8.0002  1485018   33.33%\n",
      "Elapsed time = 97.29 sec. (54171.57 ticks, tree = 407.16 MB, solutions = 7)\n",
      "  15943 11566        9.0000    94       12.0000        8.1048  1518437   32.46%\n",
      "  16339 11803        9.0000   152       12.0000        8.4965  1537814   29.20%\n",
      "  16651 12338        9.0000   102       12.0000        8.4965  1583099   29.20%\n",
      "  16908 12707        9.0000   132       12.0000        8.4965  1622799   29.20%\n",
      "  17291 12946        9.0000    46       12.0000        8.5000  1637872   29.17%\n",
      "  17774 13210        9.0000    88       12.0000        8.5000  1672278   29.17%\n",
      "  18318 13870        9.0000    83       12.0000        8.5000  1720680   29.17%\n",
      "  18644 14412        9.5000   138       12.0000        8.5000  1755026   29.17%\n",
      "  18977 14652        9.5000    86       12.0000        8.5000  1779514   29.17%\n",
      "  19365 14908        9.5001   138       12.0000        8.5000  1813221   29.17%\n",
      "Elapsed time = 114.12 sec. (63763.44 ticks, tree = 541.50 MB, solutions = 7)\n",
      "  19675 15275       10.0002    86       12.0000        8.5000  1852972   29.17%\n",
      "  19924 15442       10.0000    47       12.0000        8.5000  1879057   29.17%\n",
      "  20159 15718        9.5000   141       12.0000        8.5000  1898927   29.17%\n",
      "  20402 16192        9.0000   160       12.0000        8.5000  1952015   29.17%\n",
      "  20530 16309       10.2135   120       12.0000        8.5000  1968490   29.17%\n",
      "  20634 16441        9.7475    73       12.0000        8.5000  1988903   29.17%\n",
      "  20733 16538       10.0000    71       12.0000        8.5000  2021829   29.17%\n",
      "  20824 16682       10.0000    82       12.0000        8.5000  2075213   29.17%\n",
      "  21004 16722       10.2835   111       12.0000        8.5000  2112040   29.17%\n",
      "  21203 16925       10.0001    54       12.0000        8.5000  2154229   29.17%\n",
      "Elapsed time = 131.89 sec. (73401.73 ticks, tree = 600.34 MB, solutions = 7)\n",
      "  21360 17105        9.5000    61       12.0000        8.5000  2190655   29.17%\n",
      "  21512 17207    infeasible             12.0000        8.5000  2219964   29.17%\n",
      "  21616 17221        9.7500   133       12.0000        8.5000  2253529   29.17%\n",
      "  21769 17515       10.0000   136       12.0000        8.5021  2330147   29.15%\n",
      "  21949 17577       10.0000   111       12.0000        8.5021  2337884   29.15%\n",
      "  22178 17768       10.0000   118       12.0000        8.5021  2380594   29.15%\n",
      "  22424 17890        9.0000    98       12.0000        8.5021  2397711   29.15%\n",
      "  22581 17975       10.0000    88       12.0000        8.5021  2432750   29.15%\n",
      "  22756 18450        9.0000   220       12.0000        8.5021  2504339   29.15%\n",
      "  23001 18471        9.9001    45       12.0000        8.5021  2515692   29.15%\n",
      "Elapsed time = 149.61 sec. (83017.56 ticks, tree = 660.88 MB, solutions = 7)\n",
      "  23250 18864       10.0000    86       12.0000        8.5035  2564214   29.14%\n",
      "  23537 18630       10.0001    26       12.0000        8.5035  2543648   29.14%\n",
      "  23734 19142        9.0000   140       12.0000        8.5035  2628464   29.14%\n",
      "  23959 19483        9.0000    51       12.0000        8.5035  2674669   29.14%\n",
      "  24156 19410       10.0000    69       12.0000        8.5035  2663710   29.14%\n",
      "  24393 19909       10.0000   199       12.0000        8.5035  2747988   29.14%\n",
      "  24718 20103       10.0000    61       12.0000        8.5035  2774810   29.14%\n",
      "  25070 20160       10.0001    61       12.0000        8.5035  2797123   29.14%\n",
      "  25358 20628        9.0000    34       12.0000        8.5035  2848311   29.14%\n",
      "  26968 21919       10.0001    90       12.0000        8.5035  3036540   29.14%\n",
      "Elapsed time = 172.44 sec. (95508.48 ticks, tree = 693.02 MB, solutions = 7)\n",
      "  28268 23216       10.4359    38       12.0000        8.5087  3289736   29.09%\n",
      "  29106 24232       10.9231    42       12.0000        8.6692  3536393   27.76%\n",
      "  30222 24978       10.0000   176       12.0000        8.6692  3676829   27.76%\n",
      "  31328 25544       10.6667    66       12.0000        8.6769  3807008   27.69%\n",
      "  32396 27049       10.0000    36       12.0000        8.7303  4128020   27.25%\n",
      "  33476 27676        9.0000   138       12.0000        8.7511  4234037   27.07%\n",
      "  34727 28976        9.0000    30       12.0000        8.7517  4383145   27.07%\n",
      "* 34792+29438                           11.0000        8.7517            20.44%\n",
      "  35176 30033        9.0000    45       11.0000        8.7517  4488158   20.44%\n",
      "  35578 30383        9.0000   110       11.0000        8.7517  4594868   20.44%\n",
      "  36313 30515        9.5000    24       11.0000        8.7517  4625388   20.44%\n",
      "Elapsed time = 246.27 sec. (133718.63 ticks, tree = 811.81 MB, solutions = 7)\n",
      "  37035 31523       10.5000    47       11.0000        8.7517  4819914   20.44%\n",
      "  37655 31940       10.7821    43       11.0000        8.7517  4943661   20.44%\n",
      "  38121 32275       10.0000    93       11.0000        8.7517  5062808   20.44%\n",
      "  38481 32898        9.8772   128       11.0000        8.7517  5208708   20.44%\n",
      "  39038 33206       10.3334    82       11.0000        8.7517  5347248   20.44%\n",
      "  39334 33747        cutoff             11.0000        8.7517  5559566   20.44%\n",
      "  39725 33937       10.1923    87       11.0000        8.7517  5662509   20.44%\n",
      "  40069 34189       10.0002   119       11.0000        8.7517  5741272   20.44%\n",
      "  40192 34369       10.9265   185       11.0000        8.7517  5833217   20.44%\n",
      "  40487 22774        9.6667   133       11.0000        8.8757  5993592   19.31%\n",
      "Elapsed time = 315.41 sec. (172031.89 ticks, tree = 612.76 MB, solutions = 9)\n",
      "  40989 22914        9.9827    70       11.0000        8.8757  6138611   19.31%\n",
      "  41318 23266        9.7360   102       11.0000        8.8757  6368916   19.31%\n",
      "  41630 23360        9.6667   132       11.0000        8.8889  6463462   19.19%\n",
      "  41883 23642        9.5000   100       11.0000        8.8912  6707230   19.17%\n",
      "  42452 23757        cutoff             11.0000        8.8922  6806903   19.16%\n",
      "  42806 24102        9.5000    25       11.0000        8.8922  7096781   19.16%\n",
      "  43270 24228        9.7640   161       11.0000        8.8998  7186329   19.09%\n",
      "  43610 24513        9.6671    97       11.0000        8.9476  7360655   18.66%\n",
      "  44124 24720        9.6142    34       11.0000        8.9639  7455576   18.51%\n",
      "  44797 25072        9.5398    50       11.0000        8.9818  7735699   18.35%\n",
      "Elapsed time = 401.66 sec. (210257.02 ticks, tree = 647.24 MB, solutions = 9)\n",
      "  45138 25456        9.7097    66       11.0000        8.9990  7885716   18.19%\n",
      "  45530 25779        9.7838    77       11.0000        8.9991  8080347   18.19%\n",
      "  46043 25981        9.7700    84       11.0000        8.9994  8220851   18.19%\n",
      "  46483 26149        9.7366    81       11.0000        9.0000  8389001   18.18%\n",
      "  46822 26563        9.7782    77       11.0000        9.0000  8618060   18.18%\n",
      "  47382 26808        9.7318   103       11.0000        9.0000  8801265   18.18%\n",
      "  47809 27121        9.7215    63       11.0000        9.0000  8937928   18.18%\n",
      "  48198 27353        9.5000   160       11.0000        9.0000  9130654   18.18%\n",
      "  48451 27539        9.7051    93       11.0000        9.0000  9323292   18.18%\n",
      "  48905 27762        9.5002   128       11.0000        9.0000  9418313   18.18%\n",
      "Elapsed time = 480.85 sec. (248547.29 ticks, tree = 693.46 MB, solutions = 9)\n",
      "  49376 28014        9.7770    77       11.0000        9.0000  9613083   18.18%\n",
      "  49849 28344        9.9208    66       11.0000        9.0000  9811071   18.18%\n",
      "  50198 28537        9.7452    87       11.0000        9.0000 10052202   18.18%\n",
      "  50553 28669        cutoff             11.0000        9.0000 10199402   18.18%\n",
      "  50946 28852        cutoff             11.0000        9.0000 10315025   18.18%\n",
      "  51408 29134        9.7501    60       11.0000        9.0000 10436795   18.18%\n",
      "  51870 29543        9.7607   124       11.0000        9.0000 10735127   18.18%\n",
      "  52169 29770        9.7365    76       11.0000        9.0000 10910884   18.18%\n",
      "  52548 29978        9.7677   133       11.0000        9.0000 11128072   18.18%\n",
      "  52955 30180        9.5002    60       11.0000        9.0000 11318363   18.18%\n",
      "Elapsed time = 564.24 sec. (286761.17 ticks, tree = 729.53 MB, solutions = 9)\n",
      "  53397 30373        9.7661   133       11.0000        9.0000 11443528   18.18%\n",
      "  54023 30477        cutoff             11.0000        9.0000 11547957   18.18%\n",
      "  54481 30716        cutoff             11.0000        9.0000 11767028   18.18%\n",
      "  54997 31338        cutoff             11.0000        9.0000 12125756   18.18%\n",
      "  55499 31503        9.7500   109       11.0000        9.0000 12221230   18.18%\n",
      "  55976 31630        9.6387   162       11.0000        9.0000 12306185   18.18%\n",
      "  56285 31946        9.5000    28       11.0000        9.0000 12467374   18.18%\n",
      "  56647 32096        cutoff             11.0000        9.0000 12769663   18.18%\n"
     ]
    },
    {
     "name": "stdout",
     "output_type": "stream",
     "text": [
      "  56923 32042       10.0000    27       11.0000        9.0000 12991155   18.18%\n",
      "  57357 32041        cutoff             11.0000        9.0000 13009930   18.18%\n",
      "Elapsed time = 642.95 sec. (324994.20 ticks, tree = 750.77 MB, solutions = 9)\n",
      "  57737 32031        cutoff             11.0000        9.0000 13241543   18.18%\n",
      "  58381 31921        cutoff             11.0000        9.0000 13426369   18.18%\n",
      "  59019 31683        cutoff             11.0000        9.0000 13652981   18.18%\n",
      "  59779 31550        cutoff             11.0000        9.0000 13827172   18.18%\n",
      "  60323 31293        cutoff             11.0000        9.0000 13963844   18.18%\n",
      "  60727 31008        cutoff             11.0000        9.0000 14197913   18.18%\n",
      "  61622 30584        cutoff             11.0000        9.0000 14367160   18.18%\n",
      "  62717 30294        cutoff             11.0000        9.0000 14548011   18.18%\n",
      "  63936 29709        cutoff             11.0000        9.0000 14680584   18.18%\n",
      "  65275 28397        cutoff             11.0000        9.0000 15006063   18.18%\n",
      "Elapsed time = 713.82 sec. (363230.42 ticks, tree = 620.15 MB, solutions = 9)\n",
      "  65993 28204        cutoff             11.0000        9.0000 15057507   18.18%\n",
      "  66641 27390        cutoff             11.0000        9.0000 15259683   18.18%\n",
      "  67439 26791        cutoff             11.0000        9.0000 15473430   18.18%\n",
      "  68248 25552        cutoff             11.0000        9.0000 15816077   18.18%\n",
      "  69097 24813        cutoff             11.0000        9.0001 15999101   18.18%\n",
      "  70029 24584        cutoff             11.0000        9.0004 16050297   18.18%\n",
      "  71015 22949        cutoff             11.0000        9.0029 16412696   18.16%\n",
      "  72101 22493        cutoff             11.0000        9.0054 16510042   18.13%\n",
      "  73407 20674        cutoff             11.0000        9.0105 16836900   18.09%\n",
      "  75014 18945        cutoff             11.0000        9.0189 17066981   18.01%\n",
      "Elapsed time = 784.32 sec. (401428.37 ticks, tree = 355.11 MB, solutions = 9)\n",
      "  76844 16897        cutoff             11.0000        9.0341 17265733   17.87%\n",
      "  78218 15820        cutoff             11.0000        9.1555 17471460   16.77%\n",
      "  78976 15532        cutoff             11.0000        9.2326 17541330   16.07%\n",
      "  79983 14775        cutoff             11.0000        9.2705 17743956   15.72%\n",
      "  81194 13613        cutoff             11.0000        9.4108 18007316   14.45%\n",
      "  82659 13143        cutoff             11.0000        9.4575 18073166   14.02%\n",
      "  83640 10911        cutoff             11.0000        9.5003 18427418   13.63%\n",
      "  84633 10325        cutoff             11.0000        9.5114 18541728   13.53%\n",
      "  85603  9750        cutoff             11.0000        9.5458 18673739   13.22%\n",
      "  86698  8237        cutoff             11.0000        9.6350 18945244   12.41%\n",
      "Elapsed time = 855.35 sec. (439592.26 ticks, tree = 129.42 MB, solutions = 9)\n",
      "  87992  7511        cutoff             11.0000        9.6667 19050821   12.12%\n",
      "  89484  5990        cutoff             11.0000        9.6923 19263981   11.89%\n",
      "  91570  3532        cutoff             11.0000        9.7353 19510417   11.50%\n",
      "  93975  1113        cutoff             11.0000        9.8022 19661650   10.89%\n",
      "\n",
      "Cover cuts applied:  147\n",
      "Zero-half cuts applied:  2\n",
      "Gomory fractional cuts applied:  1\n",
      "\n",
      "Root node processing (before b&c):\n",
      "  Real time             =    2.53 sec. (1414.39 ticks)\n",
      "Parallel b&c, 8 threads:\n",
      "  Real time             =  887.05 sec. (457136.52 ticks)\n",
      "  Sync time (average)   =   67.72 sec.\n",
      "  Wait time (average)   =    0.16 sec.\n",
      "                          ------------\n",
      "Total (root+branch&cut) =  889.59 sec. (458550.91 ticks)\n",
      "Number of free lunch witnesses: 11\n",
      "List of free lunch witnesses: [54, 779, 1104, 1137, 1175, 1183, 1186, 1348, 1390, 1749, 2182]\n",
      "Computed y lower bound 2.1939447125932427e-07\n"
     ]
    }
   ],
   "source": [
    "flw_index_list, y_lower_bound = model.findFreeLunchWitnesses()"
   ]
  },
  {
   "cell_type": "code",
   "execution_count": 73,
   "metadata": {},
   "outputs": [
    {
     "name": "stdout",
     "output_type": "stream",
     "text": [
      "This model contains 1552 metabolites with assigned chemical formula\n",
      "This model contains 157 reaction without complete set of chemical formulas\n",
      "List of atoms: {'H', 'C', 'P', 'Na', 'Fe', 'X', 'O', 'R', 'N', 'S', 'K'}\n",
      "Would you like to exclude any atom?\n",
      "If yes write thier formula and splited with comma. If no press enter.\n",
      " example: if you want to exclude oxygen and hydrogen write O,H.\n",
      "X,R,K\n",
      "Number of imbalance reactions that we found: 31\n"
     ]
    }
   ],
   "source": [
    "im_reaction_set = totalEBCHeck(model)"
   ]
  },
  {
   "cell_type": "code",
   "execution_count": 75,
   "metadata": {},
   "outputs": [
    {
     "name": "stdout",
     "output_type": "stream",
     "text": [
      "[1104, 1186]\n"
     ]
    }
   ],
   "source": [
    "im = list(im_reaction_set)\n",
    "FLW = [54, 779, 1104, 1137, 1175, 1183, 1186, 1348, 1390, 1749, 2182]\n",
    "print([x for x in FLW if x in im])"
   ]
  },
  {
   "cell_type": "markdown",
   "metadata": {},
   "source": [
    "# 11"
   ]
  },
  {
   "cell_type": "markdown",
   "metadata": {},
   "source": [
    "Organism:Streptomyces coelicolor\n",
    "\n",
    "Version:iMK1208\n",
    "\n",
    "Year:2014\n",
    "\n",
    "Paper link: https://onlinelibrary.wiley.com/doi/full/10.1002/biot.201300539\n",
    "\n",
    "Model Link: https://onlinelibrary.wiley.com/action/downloadSupplement?doi=10.1002%2Fbiot.201300539&file=biot_201300539_sm_suppinfo2.zip"
   ]
  },
  {
   "cell_type": "code",
   "execution_count": 64,
   "metadata": {},
   "outputs": [
    {
     "name": "stdout",
     "output_type": "stream",
     "text": [
      "Warning: no candidate for extra, outside found in the list\n"
     ]
    }
   ],
   "source": [
    "model =parseSBML('/home/hzabeti/Desktop/UCSD models/biot_201300539_sm_suppinfo2.xml')"
   ]
  },
  {
   "cell_type": "code",
   "execution_count": 6,
   "metadata": {},
   "outputs": [
    {
     "data": {
      "text/plain": [
       "{'ID': '',\n",
       " 'Name': '',\n",
       " 'Source File': '/home/hzabeti/Desktop/UCSD models/biot_201300539_sm_suppinfo2.xml'}"
      ]
     },
     "execution_count": 6,
     "metadata": {},
     "output_type": "execute_result"
    }
   ],
   "source": [
    "model.description"
   ]
  },
  {
   "cell_type": "code",
   "execution_count": 99,
   "metadata": {},
   "outputs": [
    {
     "data": {
      "text/plain": [
       "(1436, 1859)"
      ]
     },
     "execution_count": 99,
     "metadata": {},
     "output_type": "execute_result"
    }
   ],
   "source": [
    "getSize(model.fullMatrix)"
   ]
  },
  {
   "cell_type": "code",
   "execution_count": 100,
   "metadata": {},
   "outputs": [
    {
     "name": "stdout",
     "output_type": "stream",
     "text": [
      "No Free Lunch condition: Satisfied!\n"
     ]
    }
   ],
   "source": [
    "flm_index_list,flm_list = model.findFreeLunchMetabolites()"
   ]
  },
  {
   "cell_type": "code",
   "execution_count": 65,
   "metadata": {},
   "outputs": [
    {
     "name": "stdout",
     "output_type": "stream",
     "text": [
      "This model contains 1436 metabolites with assigned chemical formula\n",
      "This model contains 0 reaction without complete set of chemical formulas\n",
      "List of atoms: {'Fe', 'H', 'Co', 'Ca', 'Na', 'X', 'P', 'C', 'e', 'Cd', 'Ni', 'O', 'K', 'Zn', 'Mn', 'N', 'Cl', 'R', 'W', 'S', 'As', 'Mo', 'Mg', 'Cu'}\n",
      "Would you like to exclude any atom?\n",
      "If yes write thier formula and splited with comma. If no press enter.\n",
      " example: if you want to exclude oxygen and hydrogen write O,H.\n",
      "I,K,M,R,U,X,Y,e\n",
      "Number of imbalance reactions that we found: 2\n"
     ]
    }
   ],
   "source": [
    "im_reaction_set = totalEBCHeck(model)"
   ]
  },
  {
   "cell_type": "code",
   "execution_count": 66,
   "metadata": {},
   "outputs": [
    {
     "name": "stdout",
     "output_type": "stream",
     "text": [
      "{1531, 1543}\n"
     ]
    }
   ],
   "source": [
    "print(im_reaction_set)"
   ]
  },
  {
   "cell_type": "markdown",
   "metadata": {},
   "source": [
    "# 12"
   ]
  },
  {
   "cell_type": "markdown",
   "metadata": {},
   "source": [
    "Organism:Clostridium difficile\n",
    "\n",
    "Version: iMLTC806cdf\n",
    "\n",
    "Year: 2014\n",
    "\n",
    "Paper link: https://bmcsystbiol.biomedcentral.com/articles/10.1186/s12918-014-0117-z\n",
    "\n",
    "Model Link: https://static-content.springer.com/esm/art%3A10.1186%2Fs12918-014-0117-z/MediaObjects/12918_2014_117_MOESM1_ESM.zip"
   ]
  },
  {
   "cell_type": "code",
   "execution_count": 13,
   "metadata": {},
   "outputs": [
    {
     "name": "stdout",
     "output_type": "stream",
     "text": [
      "Warning: no candidate for extra, outside found in the list\n",
      "Warning: multiple candidates for biomass found in the list\n",
      "0) Biomass Reaction 1) Exchange Biomass\n",
      "Please select the correct string from the list above and enter its number, or -1 if none \n",
      "0\n"
     ]
    }
   ],
   "source": [
    "model =parseSBML('/home/hzabeti/Desktop/UCSD models/iMLTC806cdf.xml')"
   ]
  },
  {
   "cell_type": "code",
   "execution_count": 14,
   "metadata": {},
   "outputs": [
    {
     "data": {
      "text/plain": [
       "{'ID': 'iMLTC806cdf',\n",
       " 'Name': 'Clostridium difficile strain 630 model by  Mathieu Larocque and Thierry Chenard under the supervision of Rafael Najmanovich',\n",
       " 'Source File': '/home/hzabeti/Desktop/UCSD models/iMLTC806cdf.xml'}"
      ]
     },
     "execution_count": 14,
     "metadata": {},
     "output_type": "execute_result"
    }
   ],
   "source": [
    "model.description"
   ]
  },
  {
   "cell_type": "code",
   "execution_count": 15,
   "metadata": {},
   "outputs": [
    {
     "data": {
      "text/plain": [
       "(1756, 1219)"
      ]
     },
     "execution_count": 15,
     "metadata": {},
     "output_type": "execute_result"
    }
   ],
   "source": [
    "getSize(model.fullMatrix)"
   ]
  },
  {
   "cell_type": "code",
   "execution_count": 16,
   "metadata": {},
   "outputs": [
    {
     "name": "stdout",
     "output_type": "stream",
     "text": [
      "No Free Lunch condition: Not satisfied!\n",
      "Optimum solution and the number of all possible free lunch metabolites 17\n"
     ]
    }
   ],
   "source": [
    "flm_index_list,flm_list = model.findFreeLunchMetabolites()"
   ]
  },
  {
   "cell_type": "code",
   "execution_count": 17,
   "metadata": {},
   "outputs": [
    {
     "name": "stdout",
     "output_type": "stream",
     "text": [
      "Number of individually producible free lunch metabolites 17\n"
     ]
    }
   ],
   "source": [
    "ind_flm_index_list,ind_flm_list = model.findIndividuallyProducibleFLM()"
   ]
  },
  {
   "cell_type": "code",
   "execution_count": 18,
   "metadata": {},
   "outputs": [
    {
     "name": "stdout",
     "output_type": "stream",
     "text": [
      "Number of iteration:  0\n",
      "Number of reactions involved in FL: 4\n",
      "------------------------------------------------------------\n",
      "Checking index:  401\n",
      "This index is in the minimal set 401\n",
      "Checking index:  402\n",
      "This index is in the minimal set 402\n",
      "Checking index:  433\n",
      "This index is in the minimal set 433\n",
      "Checking index:  435\n",
      "This index is in the minimal set 435\n",
      "Minimal free lunch indexes: [401, 402, 433, 435]\n",
      "------------------ minimal free lunch equation----------------\n",
      "1*(1 M_h_c[C_c] + 1 M_nadph_c[C_c] + 1 M_4s4h2345th2sdl_c[C_c] -> 1 M_h2o_c[C_c] + 1 M_nadp_c[C_c] + 1 M_2345thd_c[C_c])\n",
      "-1*(1 M_nadh_c[C_c] + 1 M_h_c[C_c] + 1 M_4s4h2345th2sdl_c[C_c] -> 1 M_nad_c[C_c] + 1 M_2345thd_c[C_c])\n",
      "-1/3*(3 M_h_c[C_c] + 3 M_nadph_c[C_c] + 1 M_no2_c[C_c] -> 2 M_h2o_c[C_c] + 1 M_nh3_c[C_c] + 3 M_nadp_c[C_c])\n",
      "1/3*(3 M_nadh_c[C_c] + 3 M_h_c[C_c] + 1 M_no2_c[C_c] -> 2 M_h2o_c[C_c] + 3 M_nad_c[C_c] + 1 M_nh3_c[C_c])\n",
      "-----------\n",
      "1*(M_h2o_c)\n",
      "-------------------------------------------------------------\n"
     ]
    }
   ],
   "source": [
    "minimal_free_lunch,free_lunch_list,free_lunch_meta = model.findMinimalFreeLunch()"
   ]
  },
  {
   "cell_type": "code",
   "execution_count": 19,
   "metadata": {},
   "outputs": [
    {
     "name": "stdout",
     "output_type": "stream",
     "text": [
      "parameters.mip.tolerances.integrality\n",
      "CPXPARAM_Simplex_Tolerances_Feasibility          1.0000000000000001e-09\n",
      "CPXPARAM_Read_DataCheck                          1\n",
      "CPXPARAM_MIP_Tolerances_Integrality              1.0000000000000001e-15\n",
      "Found incumbent of value 409.000000 after 0.00 sec. (0.24 ticks)\n",
      "Tried aggregator 2 times.\n",
      "MIP Presolve eliminated 521 rows and 1312 columns.\n",
      "MIP Presolve modified 1164 coefficients.\n",
      "Aggregator did 9 substitutions.\n",
      "Reduced MIP has 1904 rows, 1652 columns, and 9522 nonzeros.\n",
      "Reduced MIP has 987 binaries, 7 generals, 0 SOSs, and 0 indicators.\n",
      "Presolve time = 0.01 sec. (8.44 ticks)\n",
      "Probing time = 0.00 sec. (0.20 ticks)\n",
      "Tried aggregator 1 time.\n",
      "Reduced MIP has 1904 rows, 1652 columns, and 9522 nonzeros.\n",
      "Reduced MIP has 987 binaries, 7 generals, 0 SOSs, and 0 indicators.\n",
      "Presolve time = 0.00 sec. (3.73 ticks)\n",
      "Probing time = 0.00 sec. (0.20 ticks)\n",
      "MIP emphasis: balance optimality and feasibility.\n",
      "MIP search method: dynamic search.\n",
      "Parallel mode: deterministic, using up to 8 threads.\n",
      "Root relaxation solution time = 0.07 sec. (56.63 ticks)\n",
      "\n",
      "        Nodes                                         Cuts/\n",
      "   Node  Left     Objective  IInf  Best Integer    Best Bound    ItCnt     Gap\n",
      "\n",
      "*     0+    0                          409.0000        0.0000           100.00%\n",
      "*     0+    0                          261.0000        0.0000           100.00%\n",
      "      0     0        0.0000     6      261.0000        0.0000      931  100.00%\n",
      "*     0+    0                            6.0000        0.0000           100.00%\n",
      "      0     0        1.0000     6        6.0000     Covers: 1      943   83.33%\n",
      "      0     0        1.0000     7        6.0000     Covers: 1      971   83.33%\n",
      "      0     0        1.0000    10        6.0000     Covers: 1      979   83.33%\n",
      "      0     2        1.0000     9        6.0000        1.0000      979   83.33%\n",
      "Elapsed time = 0.45 sec. (227.19 ticks, tree = 0.01 MB, solutions = 2)\n",
      "*    17+    5                            5.0000        1.0000            80.00%\n",
      "     51    34        cutoff              5.0000        1.0000     8626   80.00%\n",
      "*   148    81      integral     0        4.0000        1.0000    28151   75.00%\n",
      "    231    61        2.0000    10        4.0000        1.0000    38016   75.00%\n",
      "    472    13        3.0000    18        4.0000        3.0000    65195   25.00%\n",
      "    544    14        3.0000     9        4.0000        3.0000    77149   25.00%\n",
      "\n",
      "Cover cuts applied:  5\n",
      "\n",
      "Root node processing (before b&c):\n",
      "  Real time             =    0.45 sec. (226.48 ticks)\n",
      "Parallel b&c, 8 threads:\n",
      "  Real time             =    1.47 sec. (981.06 ticks)\n",
      "  Sync time (average)   =    0.45 sec.\n",
      "  Wait time (average)   =    0.00 sec.\n",
      "                          ------------\n",
      "Total (root+branch&cut) =    1.92 sec. (1207.54 ticks)\n",
      "Number of free lunch witnesses: 4\n",
      "List of free lunch witnesses: [241, 289, 402, 430]\n",
      "Computed y lower bound 3.4013605442176873e-07\n"
     ]
    }
   ],
   "source": [
    "flw_index_list, y_lower_bound = model.findFreeLunchWitnesses()"
   ]
  },
  {
   "cell_type": "code",
   "execution_count": 20,
   "metadata": {},
   "outputs": [
    {
     "name": "stdout",
     "output_type": "stream",
     "text": [
      "This model contains 793 metabolites with assigned chemical formula\n",
      "This model contains 178 reaction without complete set of chemical formulas\n",
      "List of atoms: {'Zn', 'Fe', 'H', 'Co', 'Ca', 'N', 'Na', 'P', 'C', 'R', 'S', 'O', 'K', 'Mg'}\n",
      "Would you like to exclude any atom?\n",
      "If yes write thier formula and splited with comma. If no press enter.\n",
      " example: if you want to exclude oxygen and hydrogen write O,H.\n",
      "I,K,M,R,U,X,Y\n",
      "Number of imbalance reactions that we found: 9\n"
     ]
    }
   ],
   "source": [
    "im_reaction_set = totalEBCHeck(model)"
   ]
  },
  {
   "cell_type": "code",
   "execution_count": 22,
   "metadata": {},
   "outputs": [
    {
     "name": "stdout",
     "output_type": "stream",
     "text": [
      "[241, 289, 368, 402, 482, 921, 928, 983, 1014]\n"
     ]
    }
   ],
   "source": [
    "print(sorted(list(im_reaction_set)))"
   ]
  },
  {
   "cell_type": "markdown",
   "metadata": {},
   "source": [
    "Organism:\n",
    "\n",
    "Version: \n",
    "\n",
    "Year:\n",
    "\n",
    "Paper link: \n",
    "\n",
    "Model Link: "
   ]
  },
  {
   "cell_type": "code",
   "execution_count": 62,
   "metadata": {},
   "outputs": [
    {
     "data": {
      "text/plain": [
       "0"
      ]
     },
     "execution_count": 62,
     "metadata": {},
     "output_type": "execute_result"
    }
   ],
   "source": [
    "import gc\n",
    "gc.collect()"
   ]
  },
  {
   "cell_type": "code",
   "execution_count": 63,
   "metadata": {},
   "outputs": [
    {
     "data": {
      "text/plain": [
       "23"
      ]
     },
     "execution_count": 63,
     "metadata": {},
     "output_type": "execute_result"
    }
   ],
   "source": [
    "\n"
   ]
  }
 ],
 "metadata": {
  "kernelspec": {
   "display_name": "Python 3",
   "language": "python",
   "name": "python3"
  },
  "language_info": {
   "codemirror_mode": {
    "name": "ipython",
    "version": 3
   },
   "file_extension": ".py",
   "mimetype": "text/x-python",
   "name": "python",
   "nbconvert_exporter": "python",
   "pygments_lexer": "ipython3",
   "version": "3.5.2"
  }
 },
 "nbformat": 4,
 "nbformat_minor": 2
}
