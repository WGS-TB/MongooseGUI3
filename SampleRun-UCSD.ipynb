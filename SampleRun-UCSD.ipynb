{
 "cells": [
  {
   "cell_type": "code",
   "execution_count": 1,
   "metadata": {},
   "outputs": [],
   "source": [
    "%run -i 'ModelParsing.py'"
   ]
  },
  {
   "cell_type": "markdown",
   "metadata": {},
   "source": [
    "# 1"
   ]
  },
  {
   "cell_type": "markdown",
   "metadata": {},
   "source": [
    "Organism: Piscirickettsia salmonis\n",
    "\n",
    "Version: iPS584 and iPSA590\n",
    "\n",
    "Year:2018\n",
    "\n",
    "Paper link: https://www.frontiersin.org/articles/10.3389/fmicb.2017.02462/full\n",
    "\n",
    "Model Link: http://psalmonis.cmm.uchile.cl/models/"
   ]
  },
  {
   "cell_type": "code",
   "execution_count": 2,
   "metadata": {},
   "outputs": [
    {
     "name": "stdout",
     "output_type": "stream",
     "text": [
      "Warning: no candidate for extra, outside found in the list\n",
      "Warning: multiple candidates for biomass found in the list\n",
      "0) P. salmonis biomass objective function 1) P. salmonis biomass objective function without ions\n",
      "Please select the correct string from the list above and enter its number, or -1 if none \n",
      "0\n"
     ]
    }
   ],
   "source": [
    "model =parseSBML('/home/hzabeti/Desktop/UCSD models/Psalmonis_genome_scale_models/iPS584.xml')"
   ]
  },
  {
   "cell_type": "code",
   "execution_count": 3,
   "metadata": {},
   "outputs": [
    {
     "data": {
      "text/plain": [
       "{'ID': 'iPS584',\n",
       " 'Name': '',\n",
       " 'Source File': '/home/hzabeti/Desktop/UCSD models/Psalmonis_genome_scale_models/iPS584.xml'}"
      ]
     },
     "execution_count": 3,
     "metadata": {},
     "output_type": "execute_result"
    }
   ],
   "source": [
    "model.description"
   ]
  },
  {
   "cell_type": "code",
   "execution_count": 9,
   "metadata": {},
   "outputs": [
    {
     "data": {
      "text/plain": [
       "(1114, 1323)"
      ]
     },
     "execution_count": 9,
     "metadata": {},
     "output_type": "execute_result"
    }
   ],
   "source": [
    "getSize(model.fullMatrix)"
   ]
  },
  {
   "cell_type": "code",
   "execution_count": 8,
   "metadata": {},
   "outputs": [
    {
     "name": "stdout",
     "output_type": "stream",
     "text": [
      "No Free Lunch condition: Satisfied!\n"
     ]
    }
   ],
   "source": [
    "flm_index_list,flm_list = model.findFreeLunchMetabolites()"
   ]
  },
  {
   "cell_type": "code",
   "execution_count": 2,
   "metadata": {},
   "outputs": [
    {
     "name": "stdout",
     "output_type": "stream",
     "text": [
      "Warning: no candidate for extra, outside found in the list\n"
     ]
    },
    {
     "ename": "ValueError",
     "evalue": "'M_cu_p' is not in list",
     "output_type": "error",
     "traceback": [
      "\u001b[0;31m---------------------------------------------------------------------------\u001b[0m",
      "\u001b[0;31mValueError\u001b[0m                                Traceback (most recent call last)",
      "\u001b[0;32m~/qsopt-ex/build/python-qsoptex/MongooseGUI3/ModelParsing.py\u001b[0m in \u001b[0;36m<module>\u001b[0;34m()\u001b[0m\n\u001b[0;32m----> 1\u001b[0;31m \u001b[0mmodel\u001b[0m \u001b[0;34m=\u001b[0m\u001b[0mparseSBML\u001b[0m\u001b[0;34m(\u001b[0m\u001b[0;34m'/home/hzabeti/Desktop/UCSD models/Psalmonis_genome_scale_models/iPSA590.xml'\u001b[0m\u001b[0;34m)\u001b[0m\u001b[0;34m\u001b[0m\u001b[0m\n\u001b[0m",
      "\u001b[0;32m~/qsopt-ex/build/python-qsoptex/MongooseGUI3/ModelParsing.py\u001b[0m in \u001b[0;36mparseSBML\u001b[0;34m(filename, specialEnding, Cobra)\u001b[0m\n\u001b[1;32m     37\u001b[0m     \u001b[0;34m(\u001b[0m\u001b[0mspecies\u001b[0m\u001b[0;34m,\u001b[0m \u001b[0mmetabolites\u001b[0m\u001b[0;34m)\u001b[0m \u001b[0;34m=\u001b[0m \u001b[0mcreateSpeciesList\u001b[0m\u001b[0;34m(\u001b[0m\u001b[0mallSpecies\u001b[0m\u001b[0;34m,\u001b[0m \u001b[0mallSpeciesTypes\u001b[0m\u001b[0;34m,\u001b[0m \u001b[0mextraCompartment\u001b[0m\u001b[0;34m,\u001b[0m \u001b[0mCobra\u001b[0m\u001b[0;34m,\u001b[0m \u001b[0mspecialEnding\u001b[0m\u001b[0;34m)\u001b[0m\u001b[0;34m\u001b[0m\u001b[0m\n\u001b[1;32m     38\u001b[0m     \u001b[0mallReactions\u001b[0m \u001b[0;34m=\u001b[0m \u001b[0mmodel\u001b[0m\u001b[0;34m.\u001b[0m\u001b[0mgetListOfReactions\u001b[0m\u001b[0;34m(\u001b[0m\u001b[0;34m)\u001b[0m\u001b[0;34m\u001b[0m\u001b[0m\n\u001b[0;32m---> 39\u001b[0;31m     \u001b[0mnetwork\u001b[0m \u001b[0;34m=\u001b[0m \u001b[0mcreateNetwork\u001b[0m\u001b[0;34m(\u001b[0m\u001b[0mallReactions\u001b[0m\u001b[0;34m,\u001b[0m \u001b[0mspecies\u001b[0m\u001b[0;34m,\u001b[0m \u001b[0mmetabolites\u001b[0m\u001b[0;34m,\u001b[0m \u001b[0mCobra\u001b[0m\u001b[0;34m)\u001b[0m\u001b[0;34m\u001b[0m\u001b[0m\n\u001b[0m\u001b[1;32m     40\u001b[0m     \u001b[0mnetwork\u001b[0m\u001b[0;34m.\u001b[0m\u001b[0mdescription\u001b[0m \u001b[0;34m=\u001b[0m \u001b[0mmodelDescription\u001b[0m\u001b[0;34m\u001b[0m\u001b[0m\n\u001b[1;32m     41\u001b[0m     \u001b[0mnetwork\u001b[0m\u001b[0;34m.\u001b[0m\u001b[0mcreateMatrices\u001b[0m\u001b[0;34m(\u001b[0m\u001b[0;34m)\u001b[0m\u001b[0;34m\u001b[0m\u001b[0m\n",
      "\u001b[0;32m~/qsopt-ex/build/python-qsoptex/MongooseGUI3/ModelParsing.py\u001b[0m in \u001b[0;36mcreateNetwork\u001b[0;34m(reactionObjects, species, metabolites, Cobra)\u001b[0m\n\u001b[1;32m    146\u001b[0m             \u001b[0mallPairs\u001b[0m\u001b[0;34m.\u001b[0m\u001b[0mappend\u001b[0m\u001b[0;34m(\u001b[0m\u001b[0mprocessItem\u001b[0m\u001b[0;34m(\u001b[0m\u001b[0mitem\u001b[0m\u001b[0;34m,\u001b[0m \u001b[0mallMetabNames\u001b[0m\u001b[0;34m,\u001b[0m \u001b[0;34m-\u001b[0m\u001b[0mmult\u001b[0m\u001b[0;34m)\u001b[0m\u001b[0;34m)\u001b[0m\u001b[0;34m\u001b[0m\u001b[0m\n\u001b[1;32m    147\u001b[0m         \u001b[0;32mfor\u001b[0m \u001b[0mitem\u001b[0m \u001b[0;32min\u001b[0m \u001b[0mcurProds\u001b[0m\u001b[0;34m:\u001b[0m\u001b[0;34m\u001b[0m\u001b[0m\n\u001b[0;32m--> 148\u001b[0;31m             \u001b[0mallPairs\u001b[0m\u001b[0;34m.\u001b[0m\u001b[0mappend\u001b[0m\u001b[0;34m(\u001b[0m\u001b[0mprocessItem\u001b[0m\u001b[0;34m(\u001b[0m\u001b[0mitem\u001b[0m\u001b[0;34m,\u001b[0m \u001b[0mallMetabNames\u001b[0m\u001b[0;34m,\u001b[0m \u001b[0mmult\u001b[0m\u001b[0;34m)\u001b[0m\u001b[0;34m)\u001b[0m\u001b[0;34m\u001b[0m\u001b[0m\n\u001b[0m\u001b[1;32m    149\u001b[0m         \u001b[0;32mif\u001b[0m \u001b[0mcurMods\u001b[0m\u001b[0;34m:\u001b[0m\u001b[0;34m\u001b[0m\u001b[0m\n\u001b[1;32m    150\u001b[0m             \u001b[0mgeneCombo\u001b[0m \u001b[0;34m=\u001b[0m \u001b[0mCNF\u001b[0m\u001b[0;34m(\u001b[0m\u001b[0;34m[\u001b[0m\u001b[0;34m[\u001b[0m\u001b[0mprocessItem\u001b[0m\u001b[0;34m(\u001b[0m\u001b[0mitem\u001b[0m\u001b[0;34m,\u001b[0m \u001b[0mallMetabNames\u001b[0m\u001b[0;34m,\u001b[0m \u001b[0;36m0\u001b[0m\u001b[0;34m)\u001b[0m\u001b[0;34m]\u001b[0m \u001b[0;32mfor\u001b[0m \u001b[0mitem\u001b[0m \u001b[0;32min\u001b[0m \u001b[0mcurMods\u001b[0m\u001b[0;34m]\u001b[0m\u001b[0;34m)\u001b[0m\u001b[0;34m\u001b[0m\u001b[0m\n",
      "\u001b[0;32m~/qsopt-ex/build/python-qsoptex/MongooseGUI3/ModelParsing.py\u001b[0m in \u001b[0;36mprocessItem\u001b[0;34m(item, metabNames, mult)\u001b[0m\n\u001b[1;32m    176\u001b[0m \u001b[0;32mdef\u001b[0m \u001b[0mprocessItem\u001b[0m\u001b[0;34m(\u001b[0m\u001b[0mitem\u001b[0m\u001b[0;34m,\u001b[0m \u001b[0mmetabNames\u001b[0m\u001b[0;34m,\u001b[0m \u001b[0mmult\u001b[0m \u001b[0;34m=\u001b[0m \u001b[0;36m1\u001b[0m\u001b[0;34m)\u001b[0m\u001b[0;34m:\u001b[0m\u001b[0;34m\u001b[0m\u001b[0m\n\u001b[1;32m    177\u001b[0m     \u001b[0;31m# Processes a single metabolite; the multiplier multiplies the coefficient\u001b[0m\u001b[0;34m\u001b[0m\u001b[0;34m\u001b[0m\u001b[0m\n\u001b[0;32m--> 178\u001b[0;31m     \u001b[0mcurIndex\u001b[0m \u001b[0;34m=\u001b[0m \u001b[0mmetabNames\u001b[0m\u001b[0;34m.\u001b[0m\u001b[0mindex\u001b[0m\u001b[0;34m(\u001b[0m\u001b[0mitem\u001b[0m\u001b[0;34m.\u001b[0m\u001b[0mgetSpecies\u001b[0m\u001b[0;34m(\u001b[0m\u001b[0;34m)\u001b[0m\u001b[0;34m)\u001b[0m\u001b[0;34m\u001b[0m\u001b[0m\n\u001b[0m\u001b[1;32m    179\u001b[0m     \u001b[0;32mif\u001b[0m \u001b[0mmult\u001b[0m\u001b[0;34m:\u001b[0m\u001b[0;34m\u001b[0m\u001b[0m\n\u001b[1;32m    180\u001b[0m         \u001b[0mcurCoeff\u001b[0m \u001b[0;34m=\u001b[0m \u001b[0mconvertToFraction\u001b[0m\u001b[0;34m(\u001b[0m\u001b[0mitem\u001b[0m\u001b[0;34m.\u001b[0m\u001b[0mgetStoichiometry\u001b[0m\u001b[0;34m(\u001b[0m\u001b[0;34m)\u001b[0m\u001b[0;34m)\u001b[0m\u001b[0;34m\u001b[0m\u001b[0m\n",
      "\u001b[0;31mValueError\u001b[0m: 'M_cu_p' is not in list"
     ]
    }
   ],
   "source": [
    "model =parseSBML('/home/hzabeti/Desktop/UCSD models/Psalmonis_genome_scale_models/iPSA590.xml')"
   ]
  },
  {
   "cell_type": "markdown",
   "metadata": {},
   "source": [
    "# 2"
   ]
  },
  {
   "cell_type": "markdown",
   "metadata": {},
   "source": [
    "Organism: Streptomyces clavuligerus\t\n",
    "\n",
    "Version: iLT1021\n",
    "\n",
    "Year: 2018\n",
    "\n",
    "Paper link: https://link.springer.com/article/10.1007%2Fs00449-018-1900-9\n",
    "\n",
    "Model Link: https://static-content.springer.com/esm/art%3A10.1007%2Fs00449-018-1900-9/MediaObjects/449_2018_1900_MOESM2_ESM.xml"
   ]
  },
  {
   "cell_type": "code",
   "execution_count": 3,
   "metadata": {},
   "outputs": [],
   "source": [
    "model =parseSBML('/home/hzabeti/Desktop/UCSD models/12918_2008_242_MOESM5_ESM.XML')"
   ]
  },
  {
   "cell_type": "code",
   "execution_count": 4,
   "metadata": {},
   "outputs": [
    {
     "data": {
      "text/plain": [
       "(828, 996)"
      ]
     },
     "execution_count": 4,
     "metadata": {},
     "output_type": "execute_result"
    }
   ],
   "source": [
    "getSize(model.fullMatrix)"
   ]
  },
  {
   "cell_type": "code",
   "execution_count": 5,
   "metadata": {},
   "outputs": [
    {
     "name": "stdout",
     "output_type": "stream",
     "text": [
      "No Free Lunch condition: Not satisfied!\n",
      "Optimum solution and the number of all possible free lunch metabolites 2\n"
     ]
    }
   ],
   "source": [
    "flm_index_list,flm_list = model.findFreeLunchMetabolites()"
   ]
  },
  {
   "cell_type": "code",
   "execution_count": 6,
   "metadata": {
    "scrolled": true
   },
   "outputs": [
    {
     "name": "stdout",
     "output_type": "stream",
     "text": [
      "[315, 335] ['M_PROTON_Periplasm', 'M_PROTON_Cytosol']\n"
     ]
    }
   ],
   "source": [
    "print(flm_index_list,flm_list)"
   ]
  },
  {
   "cell_type": "code",
   "execution_count": 7,
   "metadata": {},
   "outputs": [
    {
     "name": "stdout",
     "output_type": "stream",
     "text": [
      "Number of individually producible free lunch metabolites 2\n"
     ]
    }
   ],
   "source": [
    "ind_flm_index_list,ind_flm_list = model.findIndividuallyProducibleFLM()"
   ]
  },
  {
   "cell_type": "code",
   "execution_count": 8,
   "metadata": {},
   "outputs": [
    {
     "name": "stdout",
     "output_type": "stream",
     "text": [
      "Number of iteration:  0\n",
      "Number of reactions involved in FL: 5\n",
      "------------------------------------------------------------\n",
      "Checking index:  18\n",
      "This index is in the minimal set 18\n",
      "Checking index:  201\n",
      "This index is in the minimal set 201\n",
      "Checking index:  314\n",
      "This index is in the minimal set 314\n",
      "Checking index:  325\n",
      "This index is in the minimal set 325\n",
      "Checking index:  542\n",
      "This index is in the minimal set 542\n",
      "Minimal free lunch indexes: [18, 201, 314, 325, 542]\n",
      "------------------ minimal free lunch equation----------------\n",
      "3/4*(1 M_WATER_Cytosol[Cytosol] + 1 M_ATP_Cytosol[Cytosol] -> 1 M_PI_Cytosol[Cytosol] + 1 M_PROTON_Cytosol[Cytosol] + 1 M_ADP_Cytosol[Cytosol])\n",
      "-1/2*(1 M_WATER_Cytosol[Cytosol] + 1 M_ATP_Cytosol[Cytosol] -> 1 M_AMP_Cytosol[Cytosol] + 1 M_PPI_Cytosol[Cytosol])\n",
      "-1/4*(1 M_PI_Cytosol[Cytosol] + 4 M_PROTON_Periplasm[Periplasm] + 1 M_ADP_Cytosol[Cytosol] <-> 3 M_PROTON_Cytosol[Cytosol] + 1 M_WATER_Cytosol[Cytosol] + 1 M_ATP_Cytosol[Cytosol])\n",
      "-1/2*(1 M_PPI_Cytosol[Cytosol] + 1 M_WATER_Cytosol[Cytosol] -> 2 M_PI_Cytosol[Cytosol])\n",
      "-1/2*(1 M_AMP_Cytosol[Cytosol] + 1 M_ATP_Cytosol[Cytosol] <-> 2 M_ADP_Cytosol[Cytosol])\n",
      "-----------\n",
      "1*(M_PROTON_Periplasm)\n",
      "-------------------------------------------------------------\n"
     ]
    }
   ],
   "source": [
    "minimal_free_lunch,free_lunch_list,free_lunch_meta = model.findMinimalFreeLunch(free_lunch_meta_list=[315])"
   ]
  },
  {
   "cell_type": "code",
   "execution_count": 9,
   "metadata": {},
   "outputs": [
    {
     "name": "stdout",
     "output_type": "stream",
     "text": [
      "parameters.mip.tolerances.integrality\n",
      "CPXPARAM_Simplex_Tolerances_Feasibility          1.0000000000000001e-09\n",
      "CPXPARAM_Read_DataCheck                          1\n",
      "CPXPARAM_MIP_Tolerances_Integrality              1.0000000000000001e-15\n",
      "Found incumbent of value 230.000000 after 0.00 sec. (0.16 ticks)\n",
      "Tried aggregator 2 times.\n",
      "MIP Presolve eliminated 312 rows and 279 columns.\n",
      "MIP Presolve modified 1245 coefficients.\n",
      "Aggregator did 18 substitutions.\n",
      "Reduced MIP has 1418 rows, 1405 columns, and 7203 nonzeros.\n",
      "Reduced MIP has 797 binaries, 4 generals, 0 SOSs, and 0 indicators.\n",
      "Presolve time = 0.01 sec. (6.20 ticks)\n",
      "Probing time = 0.00 sec. (0.17 ticks)\n",
      "Tried aggregator 1 time.\n",
      "Reduced MIP has 1418 rows, 1405 columns, and 7203 nonzeros.\n",
      "Reduced MIP has 797 binaries, 4 generals, 0 SOSs, and 0 indicators.\n",
      "Presolve time = 0.00 sec. (2.91 ticks)\n",
      "Probing time = 0.00 sec. (0.17 ticks)\n",
      "MIP emphasis: balance optimality and feasibility.\n",
      "MIP search method: dynamic search.\n",
      "Parallel mode: deterministic, using up to 8 threads.\n",
      "Root relaxation solution time = 0.06 sec. (44.50 ticks)\n",
      "\n",
      "        Nodes                                         Cuts/\n",
      "   Node  Left     Objective  IInf  Best Integer    Best Bound    ItCnt     Gap\n",
      "\n",
      "*     0+    0                          230.0000        0.0000           100.00%\n",
      "*     0+    0                          210.0000        0.0000           100.00%\n",
      "*     0+    0                          209.0000        0.0000           100.00%\n",
      "      0     0        0.0000     6      209.0000        0.0000      878  100.00%\n",
      "*     0+    0                            6.0000        0.0000           100.00%\n",
      "      0     0        1.0000     7        6.0000     Covers: 1      887   83.33%\n",
      "      0     0        1.0000     5        6.0000     Covers: 1      888   83.33%\n",
      "      0     0        2.0000     9        6.0000     Covers: 1      898   66.67%\n",
      "      0     0        2.0000     4        6.0000     Covers: 1      899   66.67%\n",
      "      0     0        3.0000    18        6.0000     Covers: 1      981   50.00%\n",
      "      0     0        4.0000     3        6.0000     Covers: 1      985   33.33%\n",
      "\n",
      "Repeating presolve.\n",
      "Tried aggregator 3 times.\n",
      "MIP Presolve eliminated 560 rows and 693 columns.\n",
      "MIP Presolve modified 147 coefficients.\n",
      "Aggregator did 158 substitutions.\n",
      "Reduced MIP has 700 rows, 554 columns, and 3263 nonzeros.\n",
      "Reduced MIP has 119 binaries, 0 generals, 0 SOSs, and 0 indicators.\n",
      "Presolve time = 0.01 sec. (5.61 ticks)\n",
      "Probing time = 0.00 sec. (0.04 ticks)\n",
      "Tried aggregator 1 time.\n",
      "Reduced MIP has 700 rows, 554 columns, and 3263 nonzeros.\n",
      "Reduced MIP has 119 binaries, 0 generals, 0 SOSs, and 0 indicators.\n",
      "Presolve time = 0.00 sec. (1.32 ticks)\n",
      "Represolve time = 0.02 sec. (7.74 ticks)\n",
      "Probing time = 0.00 sec. (0.04 ticks)\n",
      "MIP emphasis: balance optimality and feasibility.\n",
      "MIP search method: dynamic search.\n",
      "Parallel mode: deterministic, using up to 8 threads.\n",
      "Root relaxation solution time = 0.01 sec. (10.86 ticks)\n",
      "\n",
      "        Nodes                                         Cuts/\n",
      "   Node  Left     Objective  IInf  Best Integer    Best Bound    ItCnt     Gap\n",
      "\n",
      "*     0+    0                            6.0000        4.0000            33.33%\n",
      "      0     0        4.0000     9        6.0000        4.0000     1260   33.33%\n",
      "      0     0        4.0000     6        6.0000     Covers: 2     1285   33.33%\n",
      "      0     0        4.0000     6        6.0000      Fract: 1     1308   33.33%\n",
      "      0     0        cutoff              6.0000                   1310    0.00%\n",
      "Elapsed time = 0.46 sec. (182.39 ticks, tree = 0.01 MB, solutions = 3)\n",
      "\n",
      "Cover cuts applied:  4\n",
      "\n",
      "Root node processing (before b&c):\n",
      "  Real time             =    0.46 sec. (182.49 ticks)\n",
      "Parallel b&c, 8 threads:\n",
      "  Real time             =    0.00 sec. (0.00 ticks)\n",
      "  Sync time (average)   =    0.00 sec.\n",
      "  Wait time (average)   =    0.00 sec.\n",
      "                          ------------\n",
      "Total (root+branch&cut) =    0.46 sec. (182.49 ticks)\n",
      "Number of free lunch witnesses: 6\n",
      "List of free lunch witnesses: [18, 314, 656, 824, 865, 955]\n",
      "Computed y lower bound 2.8735632183908046e-06\n"
     ]
    }
   ],
   "source": [
    "flw_index_list, y_lower_bound = model.findFreeLunchWitnesses()"
   ]
  },
  {
   "cell_type": "markdown",
   "metadata": {},
   "source": [
    "# 3"
   ]
  },
  {
   "cell_type": "markdown",
   "metadata": {},
   "source": [
    "Organism: Piscirickettsia salmonis\n",
    "\n",
    "Version: iPF215\n",
    "\n",
    "Year: 2016\n",
    "\n",
    "Paper link: https://www.sciencedirect.com/science/article/pii/S0960852416314304?via%3Dihub\n",
    "\n",
    "Model Link: https://ars.els-cdn.com/content/image/1-s2.0-S0960852416314304-mmc2.xml"
   ]
  },
  {
   "cell_type": "code",
   "execution_count": 11,
   "metadata": {},
   "outputs": [
    {
     "name": "stdout",
     "output_type": "stream",
     "text": [
      "Warning: no candidate for extra, outside found in the list\n"
     ]
    }
   ],
   "source": [
    "model =parseSBML('/home/hzabeti/Desktop/UCSD models/1-s2.0-S0960852416314304-mmc2.xml')"
   ]
  },
  {
   "cell_type": "code",
   "execution_count": 12,
   "metadata": {},
   "outputs": [
    {
     "data": {
      "text/plain": [
       "(449, 476)"
      ]
     },
     "execution_count": 12,
     "metadata": {},
     "output_type": "execute_result"
    }
   ],
   "source": [
    "getSize(model.fullMatrix)"
   ]
  },
  {
   "cell_type": "code",
   "execution_count": 13,
   "metadata": {},
   "outputs": [
    {
     "name": "stdout",
     "output_type": "stream",
     "text": [
      "No Free Lunch condition: Not satisfied!\n",
      "Optimum solution and the number of all possible free lunch metabolites 3\n"
     ]
    }
   ],
   "source": [
    "flm_index_list,flm_list = model.findFreeLunchMetabolites()"
   ]
  },
  {
   "cell_type": "code",
   "execution_count": 14,
   "metadata": {},
   "outputs": [
    {
     "name": "stdout",
     "output_type": "stream",
     "text": [
      "[152, 375, 446] ['M_cpd00067_e0_c', 'M_cpd00067_c0_c', 'M_cpd00067_e0_c_b']\n"
     ]
    }
   ],
   "source": [
    "print(flm_index_list,flm_list)"
   ]
  },
  {
   "cell_type": "code",
   "execution_count": 15,
   "metadata": {},
   "outputs": [
    {
     "name": "stdout",
     "output_type": "stream",
     "text": [
      "Number of individually producible free lunch metabolites 3\n"
     ]
    }
   ],
   "source": [
    "ind_flm_index_list,ind_flm_list = model.findIndividuallyProducibleFLM()"
   ]
  },
  {
   "cell_type": "code",
   "execution_count": 16,
   "metadata": {},
   "outputs": [
    {
     "name": "stdout",
     "output_type": "stream",
     "text": [
      "Number of iteration:  0\n",
      "Number of reactions involved in FL: 4\n",
      "------------------------------------------------------------\n",
      "Checking index:  49\n",
      "This index is in the minimal set 49\n",
      "Checking index:  106\n",
      "This index is in the minimal set 106\n",
      "Checking index:  302\n",
      "This index is in the minimal set 302\n",
      "Checking index:  329\n",
      "This index is in the minimal set 329\n",
      "Minimal free lunch indexes: [49, 106, 302, 329]\n",
      "------------------ minimal free lunch equation----------------\n",
      "-1*(1 M_cpd00072_c0_c[c] + 1 M_cpd00002_c0_c[c] -> 1 M_cpd00008_c0_c[c] + 1 M_cpd00290_c0_c[c])\n",
      "3/4*(1 M_cpd00002_c0_c[c] + 1 M_cpd00001_c0_c[c] -> 1 M_cpd00008_c0_c[c] + 1 M_cpd00009_c0_c[c] + 1 M_cpd00067_c0_c[c])\n",
      "-1*(1 M_cpd00290_c0_c[c] + 1 M_cpd00001_c0_c[c] -> 1 M_cpd00072_c0_c[c] + 1 M_cpd00009_c0_c[c])\n",
      "-1/4*(1 M_cpd00008_c0_c[c] + 1 M_cpd00009_c0_c[c] + 4 M_cpd00067_e0_c[c] -> 1 M_cpd00002_c0_c[c] + 1 M_cpd00001_c0_c[c] + 3 M_cpd00067_c0_c[c])\n",
      "-----------\n",
      "1*(M_cpd00067_e0_c)\n",
      "-------------------------------------------------------------\n"
     ]
    }
   ],
   "source": [
    "minimal_free_lunch,free_lunch_list,free_lunch_meta = model.findMinimalFreeLunch(free_lunch_meta_list=[152])"
   ]
  },
  {
   "cell_type": "code",
   "execution_count": 17,
   "metadata": {},
   "outputs": [
    {
     "name": "stdout",
     "output_type": "stream",
     "text": [
      "parameters.mip.tolerances.integrality\n",
      "CPXPARAM_Simplex_Tolerances_Feasibility          1.0000000000000001e-09\n",
      "CPXPARAM_Read_DataCheck                          1\n",
      "CPXPARAM_MIP_Tolerances_Integrality              1.0000000000000001e-15\n",
      "Found incumbent of value 204.000000 after 0.00 sec. (0.09 ticks)\n",
      "Tried aggregator 2 times.\n",
      "MIP Presolve eliminated 162 rows and 165 columns.\n",
      "MIP Presolve modified 442 coefficients.\n",
      "Aggregator did 4 substitutions.\n",
      "Reduced MIP has 784 rows, 755 columns, and 4269 nonzeros.\n",
      "Reduced MIP has 408 binaries, 1 generals, 0 SOSs, and 0 indicators.\n",
      "Presolve time = 0.01 sec. (3.60 ticks)\n",
      "Probing time = 0.00 sec. (0.08 ticks)\n",
      "Tried aggregator 1 time.\n",
      "Reduced MIP has 784 rows, 755 columns, and 4269 nonzeros.\n",
      "Reduced MIP has 408 binaries, 1 generals, 0 SOSs, and 0 indicators.\n",
      "Presolve time = 0.00 sec. (1.68 ticks)\n",
      "Probing time = 0.00 sec. (0.08 ticks)\n",
      "MIP emphasis: balance optimality and feasibility.\n",
      "MIP search method: dynamic search.\n",
      "Parallel mode: deterministic, using up to 8 threads.\n",
      "Root relaxation solution time = 0.02 sec. (17.23 ticks)\n",
      "\n",
      "        Nodes                                         Cuts/\n",
      "   Node  Left     Objective  IInf  Best Integer    Best Bound    ItCnt     Gap\n",
      "\n",
      "*     0+    0                          204.0000        0.0000           100.00%\n",
      "*     0+    0                          188.0000        0.0000           100.00%\n",
      "      0     0        0.0000     1      188.0000        0.0000      529  100.00%\n",
      "*     0+    0                            1.0000        0.0000           100.00%\n",
      "      0     0        cutoff              1.0000                    529    0.00%\n",
      "Elapsed time = 0.06 sec. (28.31 ticks, tree = 0.01 MB, solutions = 2)\n",
      "\n",
      "Root node processing (before b&c):\n",
      "  Real time             =    0.06 sec. (28.38 ticks)\n",
      "Parallel b&c, 8 threads:\n",
      "  Real time             =    0.00 sec. (0.00 ticks)\n",
      "  Sync time (average)   =    0.00 sec.\n",
      "  Wait time (average)   =    0.00 sec.\n",
      "                          ------------\n",
      "Total (root+branch&cut) =    0.06 sec. (28.38 ticks)\n",
      "Number of free lunch witnesses: 1\n",
      "List of free lunch witnesses: [302]\n",
      "Computed y lower bound 8.116883116883117e-07\n"
     ]
    }
   ],
   "source": [
    "flw_index_list, y_lower_bound = model.findFreeLunchWitnesses()"
   ]
  },
  {
   "cell_type": "markdown",
   "metadata": {},
   "source": [
    "# 4"
   ]
  },
  {
   "cell_type": "markdown",
   "metadata": {},
   "source": [
    "Organism: Ralstonia solanacearum\n",
    "\n",
    "Version: iRP1476\n",
    "\n",
    "Year: 2016\n",
    "\n",
    "Paper link: https://journals.plos.org/plospathogens/article?id=10.1371/journal.ppat.1005939\n",
    "\n",
    "Model Link: http://lipm-bioinfo.toulouse.inra.fr/systemsbiology/models/rsolanacearum/data/metabolism/sbml/1.0/iRP1476.xml"
   ]
  },
  {
   "cell_type": "code",
   "execution_count": 41,
   "metadata": {},
   "outputs": [
    {
     "name": "stdout",
     "output_type": "stream",
     "text": [
      "Warning: no candidate for extra, outside found in the list\n"
     ]
    }
   ],
   "source": [
    "model =parseSBML('/home/hzabeti/Desktop/UCSD models/iRP1476.xml')"
   ]
  },
  {
   "cell_type": "code",
   "execution_count": 42,
   "metadata": {},
   "outputs": [
    {
     "data": {
      "text/plain": [
       "{'ID': 'iRP1476',\n",
       " 'Name': 'Ralstonia solanacearum GMI1000 iRP1476',\n",
       " 'Source File': '/home/hzabeti/Desktop/UCSD models/iRP1476.xml'}"
      ]
     },
     "execution_count": 42,
     "metadata": {},
     "output_type": "execute_result"
    }
   ],
   "source": [
    "model.description"
   ]
  },
  {
   "cell_type": "code",
   "execution_count": 43,
   "metadata": {},
   "outputs": [
    {
     "data": {
      "text/plain": [
       "(2574, 2644)"
      ]
     },
     "execution_count": 43,
     "metadata": {},
     "output_type": "execute_result"
    }
   ],
   "source": [
    "getSize(model.fullMatrix)"
   ]
  },
  {
   "cell_type": "code",
   "execution_count": 44,
   "metadata": {},
   "outputs": [
    {
     "name": "stdout",
     "output_type": "stream",
     "text": [
      "No Free Lunch condition: Satisfied!\n"
     ]
    }
   ],
   "source": [
    "flm_index_list,flm_list = model.findFreeLunchMetabolites()"
   ]
  },
  {
   "cell_type": "code",
   "execution_count": 45,
   "metadata": {},
   "outputs": [
    {
     "name": "stdout",
     "output_type": "stream",
     "text": [
      "Number of individually producible free lunch metabolites 0\n"
     ]
    }
   ],
   "source": [
    "ind_flm_index_list,ind_flm_list = model.findIndividuallyProducibleFLM()"
   ]
  },
  {
   "cell_type": "code",
   "execution_count": 46,
   "metadata": {},
   "outputs": [],
   "source": [
    "minimal_free_lunch,free_lunch_list,free_lunch_meta = model.findMinimalFreeLunch()"
   ]
  },
  {
   "cell_type": "code",
   "execution_count": 48,
   "metadata": {},
   "outputs": [
    {
     "name": "stdout",
     "output_type": "stream",
     "text": [
      "[]\n"
     ]
    }
   ],
   "source": [
    "print(minimal_free_lunch)"
   ]
  },
  {
   "cell_type": "code",
   "execution_count": 47,
   "metadata": {},
   "outputs": [
    {
     "name": "stdout",
     "output_type": "stream",
     "text": [
      "parameters.mip.tolerances.integrality\n",
      "CPXPARAM_Simplex_Tolerances_Feasibility          1.0000000000000001e-09\n",
      "CPXPARAM_Read_DataCheck                          1\n",
      "CPXPARAM_MIP_Tolerances_Integrality              1.0000000000000001e-15\n",
      "Found incumbent of value 1224.000000 after 0.06 sec. (0.59 ticks)\n",
      "Tried aggregator 3 times.\n",
      "MIP Presolve eliminated 2176 rows and 2089 columns.\n",
      "MIP Presolve modified 9076 coefficients.\n",
      "Aggregator did 17 substitutions.\n",
      "Reduced MIP has 3093 rows, 3109 columns, and 21209 nonzeros.\n",
      "Reduced MIP has 1842 binaries, 10 generals, 0 SOSs, and 0 indicators.\n",
      "Presolve time = 0.09 sec. (50.91 ticks)\n",
      "Probing time = 0.00 sec. (0.26 ticks)\n",
      "Tried aggregator 1 time.\n",
      "MIP Presolve eliminated 8 rows and 8 columns.\n",
      "Reduced MIP has 3085 rows, 3101 columns, and 21185 nonzeros.\n",
      "Reduced MIP has 1838 binaries, 10 generals, 0 SOSs, and 0 indicators.\n",
      "Presolve time = 0.05 sec. (7.88 ticks)\n",
      "Probing time = 0.00 sec. (0.26 ticks)\n",
      "MIP emphasis: balance optimality and feasibility.\n",
      "MIP search method: dynamic search.\n",
      "Parallel mode: deterministic, using up to 8 threads.\n",
      "\n",
      "Root node processing (before b&c):\n",
      "  Real time             =    0.85 sec. (430.75 ticks)\n",
      "Parallel b&c, 8 threads:\n",
      "  Real time             =    0.00 sec. (0.00 ticks)\n",
      "  Sync time (average)   =    0.00 sec.\n",
      "  Wait time (average)   =    0.00 sec.\n",
      "                          ------------\n",
      "Total (root+branch&cut) =    0.85 sec. (430.75 ticks)\n",
      "Number of free lunch witnesses: 0\n",
      "List of free lunch witnesses: []\n",
      "Computed y lower bound 1.0000000010000002e-09\n"
     ]
    }
   ],
   "source": [
    "flw_index_list, y_lower_bound = model.findFreeLunchWitnesses()"
   ]
  },
  {
   "cell_type": "markdown",
   "metadata": {},
   "source": [
    "# 5"
   ]
  },
  {
   "cell_type": "markdown",
   "metadata": {},
   "source": [
    "Organism: Mycobacterium tuberculosis\n",
    "\n",
    "Version: iNJ661m\n",
    "\n",
    "Year: 2010\n",
    "\n",
    "Paper link: https://bmcsystbiol.biomedcentral.com/articles/10.1186/1752-0509-4-160\n",
    "\n",
    "Model Link: https://static-content.springer.com/esm/art%3A10.1186%2F1752-0509-4-160/MediaObjects/12918_2010_571_MOESM2_ESM.XML"
   ]
  },
  {
   "cell_type": "code",
   "execution_count": 12,
   "metadata": {},
   "outputs": [
    {
     "name": "stdout",
     "output_type": "stream",
     "text": [
      "Warning: no candidate for extra, outside found in the list\n"
     ]
    }
   ],
   "source": [
    "model =parseSBML('/home/hzabeti/Desktop/UCSD models/12918_2010_571_MOESM2_ESM.XML')"
   ]
  },
  {
   "cell_type": "code",
   "execution_count": 13,
   "metadata": {},
   "outputs": [
    {
     "data": {
      "text/plain": [
       "{'ID': 'iNJ661m_SBML_xml',\n",
       " 'Name': 'iNJ661m_SBML_xml',\n",
       " 'Source File': '/home/hzabeti/Desktop/UCSD models/12918_2010_571_MOESM2_ESM.XML'}"
      ]
     },
     "execution_count": 13,
     "metadata": {},
     "output_type": "execute_result"
    }
   ],
   "source": [
    "model.description"
   ]
  },
  {
   "cell_type": "code",
   "execution_count": 33,
   "metadata": {},
   "outputs": [
    {
     "data": {
      "text/plain": [
       "(934, 1049)"
      ]
     },
     "execution_count": 33,
     "metadata": {},
     "output_type": "execute_result"
    }
   ],
   "source": [
    "getSize(model.fullMatrix)"
   ]
  },
  {
   "cell_type": "code",
   "execution_count": 34,
   "metadata": {},
   "outputs": [
    {
     "name": "stdout",
     "output_type": "stream",
     "text": [
      "No Free Lunch condition: Not satisfied!\n",
      "Optimum solution and the number of all possible free lunch metabolites 242\n"
     ]
    }
   ],
   "source": [
    "flm_index_list,flm_list = model.findFreeLunchMetabolites()"
   ]
  },
  {
   "cell_type": "code",
   "execution_count": 37,
   "metadata": {},
   "outputs": [
    {
     "name": "stdout",
     "output_type": "stream",
     "text": [
      "60 M_4h2opntn_c\n"
     ]
    }
   ],
   "source": [
    "print(flm_index_list,flm_list)"
   ]
  },
  {
   "cell_type": "code",
   "execution_count": 36,
   "metadata": {},
   "outputs": [
    {
     "name": "stdout",
     "output_type": "stream",
     "text": [
      "Number of individually producible free lunch metabolites 242\n"
     ]
    }
   ],
   "source": [
    "ind_flm_index_list,ind_flm_list = model.findIndividuallyProducibleFLM()"
   ]
  },
  {
   "cell_type": "code",
   "execution_count": 38,
   "metadata": {
    "scrolled": false
   },
   "outputs": [
    {
     "name": "stdout",
     "output_type": "stream",
     "text": [
      "Number of iteration:  0\n",
      "Number of reactions involved in FL: 31\n",
      "------------------------------------------------------------\n",
      "Checking index:  11\n",
      "This index is in the minimal set 11\n",
      "Checking index:  24\n",
      "This index is in the minimal set 24\n",
      "Checking index:  167\n",
      "This index is in the minimal set 167\n",
      "Checking index:  357\n",
      "This index is in the minimal set 357\n",
      "Checking index:  359\n",
      "This index is in the minimal set 359\n",
      "Checking index:  360\n",
      "This index is in the minimal set 360\n",
      "Checking index:  418\n",
      "This index is in the minimal set 418\n",
      "Checking index:  428\n",
      "This index is in the minimal set 428\n",
      "Checking index:  534\n",
      "This index is in the minimal set 534\n",
      "Checking index:  547\n",
      "This index is in the minimal set 547\n",
      "Checking index:  584\n",
      "This index is in the minimal set 584\n",
      "Checking index:  598\n",
      "This index is in the minimal set 598\n",
      "Checking index:  599\n",
      "This index is in the minimal set 599\n",
      "Checking index:  601\n",
      "This index is in the minimal set 601\n",
      "Checking index:  602\n",
      "This index is in the minimal set 602\n",
      "Checking index:  643\n",
      "This index is in the minimal set 643\n",
      "Checking index:  645\n",
      "This index is in the minimal set 645\n",
      "Checking index:  646\n",
      "This index is in the minimal set 646\n",
      "Checking index:  647\n",
      "This index is in the minimal set 647\n",
      "Checking index:  648\n",
      "This index is in the minimal set 648\n",
      "Checking index:  650\n",
      "This index is in the minimal set 650\n",
      "Checking index:  653\n",
      "This index is in the minimal set 653\n",
      "Checking index:  655\n",
      "This index is in the minimal set 655\n",
      "Checking index:  656\n",
      "This index is in the minimal set 656\n",
      "Checking index:  658\n",
      "This index is in the minimal set 658\n",
      "Checking index:  660\n",
      "This index is in the minimal set 660\n",
      "Checking index:  661\n",
      "This index is in the minimal set 661\n",
      "Checking index:  663\n",
      "This index is in the minimal set 663\n",
      "Checking index:  664\n",
      "This index is in the minimal set 664\n",
      "Checking index:  667\n",
      "This index is in the minimal set 667\n",
      "Checking index:  759\n",
      "This index is not in the minimal 759\n",
      "Minimal free lunch indexes: [11, 24, 167, 357, 359, 360, 418, 428, 534, 547, 584, 598, 599, 601, 602, 643, 645, 646, 647, 648, 650, 653, 655, 656, 658, 660, 661, 663, 664, 667]\n",
      "------------------ minimal free lunch equation----------------\n",
      "-3*(1 M_acald_c[C_c] + 1 M_coa_c[C_c] + 1 M_nad_c[C_c] -> 1 M_accoa_c[C_c] + 1 M_h_c[C_c] + 1 M_nadh_c[C_c])\n",
      "1*(1 M_cit_c[C_c] <-> 1 M_icit_c[C_c])\n",
      "1*(1 M_accoa_c[C_c] + 1 M_h2o_c[C_c] + 1 M_oaa_c[C_c] -> 1 M_cit_c[C_c] + 1 M_coa_c[C_c] + 1 M_h_c[C_c])\n",
      "8*(1 M_amp_c[C_c] + 1 M_h_c[C_c] + 1 M_mmeroacidcyc2ACP_c[C_c] -> 1 M_ACP_c[C_c] + 1 M_mmeroacidcyc2AMP_c[C_c])\n",
      "-3*(1 M_amp_c[C_c] + 1 M_h_c[C_c] + 1 M_mmmeroacidcyc1ACP_c[C_c] -> 1 M_ACP_c[C_c] + 1 M_mmmeroacidcyc1AMP_c[C_c])\n",
      "-5*(1 M_amp_c[C_c] + 1 M_h_c[C_c] + 1 M_mkmeroacidcyc1ACP_c[C_c] -> 1 M_ACP_c[C_c] + 1 M_mkmeroacidcyc1AMP_c[C_c])\n",
      "-1*(1 M_fum_c[C_c] + 1 M_mql8_c[C_c] <-> 1 M_mqn8_c[C_c] + 1 M_succ_c[C_c])\n",
      "1*(1 M_fum_c[C_c] + 1 M_h2o_c[C_c] <-> 1 M_mal_L_c[C_c])\n",
      "-1*(1 M_4h2opntn_c[C_c] -> 1 M_acald_c[C_c] + 1 M_pyr_c[C_c])\n",
      "1*(1 M_icit_c[C_c] -> 1 M_glx_c[C_c] + 1 M_succ_c[C_c])\n",
      "1*(1 M_accoa_c[C_c] + 1 M_glx_c[C_c] + 1 M_h2o_c[C_c] -> 1 M_coa_c[C_c] + 1 M_h_c[C_c] + 1 M_mal_L_c[C_c])\n",
      "5*(1 M_h_c[C_c] + 1 M_malcoa_c[C_c] -> 1 M_accoa_c[C_c] + 1 M_co2_c[C_c])\n",
      "-5*(1 M_ACP_c[C_c] + 1 M_malcoa_c[C_c] <-> 1 M_coa_c[C_c] + 1 M_malACP_c[C_c])\n",
      "1*(1 M_mal_L_c[C_c] + 1 M_nad_c[C_c] <-> 1 M_h_c[C_c] + 1 M_nadh_c[C_c] + 1 M_oaa_c[C_c])\n",
      "1*(1 M_mal_L_c[C_c] + 1 M_nad_c[C_c] -> 1 M_co2_c[C_c] + 1 M_nadh_c[C_c] + 1 M_pyr_c[C_c])\n",
      "8*(1 M_amet_c[C_c] + 1 M_mmeroacidACP_c[C_c] -> 1 M_ahcys_c[C_c] + 1 M_h_c[C_c] + 1 M_mmeroacidcyc1ACP_c[C_c])\n",
      "-3*(1 M_amet_c[C_c] + 1 M_mmmeroacidACP_c[C_c] -> 1 M_ahcys_c[C_c] + 1 M_h_c[C_c] + 1 M_mmmeroacidcyc1ACP_c[C_c])\n",
      "-5*(1 M_amet_c[C_c] + 1 M_mkmeroacidACP_c[C_c] -> 1 M_ahcys_c[C_c] + 1 M_h_c[C_c] + 1 M_mkmeroacidcyc1ACP_c[C_c])\n",
      "-3*(1 M_amet_c[C_c] + 1 M_h2o_c[C_c] + 1 M_mmeroacidACP_c[C_c] -> 1 M_ahcys_c[C_c] + 1 M_h_c[C_c] + 1 M_mmmeroacidACP_c[C_c])\n",
      "-5*(1 M_amet_c[C_c] + 1 M_h2o_c[C_c] + 1 M_kmeroacidACP_c[C_c] -> 1 M_ahcys_c[C_c] + 1 M_h_c[C_c] + 1 M_mkmeroacidACP_c[C_c])\n",
      "8*(1 M_amet_c[C_c] + 1 M_mmeroacidcyc1ACP_c[C_c] -> 1 M_ahcys_c[C_c] + 1 M_h_c[C_c] + 1 M_mmeroacidcyc2ACP_c[C_c])\n",
      "8*(1 M_mmycolate_c[C_c] -> 1 M_rmyc_c[C_c])\n",
      "-3*(1 M_mmmycolate_c[C_c] -> 1 M_rmyc_c[C_c])\n",
      "-5*(1 M_mkmycolate_c[C_c] -> 1 M_rmyc_c[C_c])\n",
      "8*(1 M_chexccoa_c[C_c] + 2 M_h2o_c[C_c] + 1 M_mmeroacidcyc2AMP_c[C_c] -> 1 M_amp_c[C_c] + 1 M_co2_c[C_c] + 1 M_coa_c[C_c] + 2 M_h_c[C_c] + 1 M_mmycolate_c[C_c])\n",
      "-3*(1 M_chexccoa_c[C_c] + 2 M_h2o_c[C_c] + 1 M_mmmeroacidcyc1AMP_c[C_c] -> 1 M_amp_c[C_c] + 1 M_co2_c[C_c] + 1 M_coa_c[C_c] + 2 M_h_c[C_c] + 1 M_mmmycolate_c[C_c])\n",
      "-5*(1 M_chexccoa_c[C_c] + 2 M_h2o_c[C_c] + 1 M_mkmeroacidcyc1AMP_c[C_c] -> 1 M_amp_c[C_c] + 1 M_co2_c[C_c] + 1 M_coa_c[C_c] + 2 M_h_c[C_c] + 1 M_mkmycolate_c[C_c])\n",
      "5*(42 M_h_c[C_c] + 1 M_hexc_c[C_c] + 15 M_malACP_c[C_c] + 30 M_nadph_c[C_c] -> 14 M_ACP_c[C_c] + 15 M_co2_c[C_c] + 16 M_h2o_c[C_c] + 1 M_mmeroacidACP_c[C_c] + 30 M_nadp_c[C_c])\n",
      "-5*(47 M_h_c[C_c] + 1 M_hexc_c[C_c] + 16 M_malACP_c[C_c] + 30 M_nadph_c[C_c] -> 15 M_ACP_c[C_c] + 16 M_co2_c[C_c] + 17 M_h2o_c[C_c] + 1 M_kmeroacidACP_c[C_c] + 30 M_nadp_c[C_c])\n",
      "-1*(1 M_h_c[C_c] + 1 M_mqn8_c[C_c] + 1 M_nadh_c[C_c] -> 1 M_mql8_c[C_c] + 1 M_nad_c[C_c])\n",
      "-----------\n",
      "1*(M_4h2opntn_c)\n",
      "2*(M_acald_c)\n",
      "1*(M_co2_c)\n",
      "21*(M_h_c)\n",
      "-------------------------------------------------------------\n"
     ]
    }
   ],
   "source": [
    "minimal_free_lunch,free_lunch_list,free_lunch_meta = model.findMinimalFreeLunch(free_lunch_meta_list=[60])"
   ]
  },
  {
   "cell_type": "code",
   "execution_count": 15,
   "metadata": {},
   "outputs": [
    {
     "name": "stdout",
     "output_type": "stream",
     "text": [
      "parameters.mip.tolerances.integrality\n",
      "CPXPARAM_Simplex_Tolerances_Feasibility          1.0000000000000001e-09\n",
      "CPXPARAM_Read_DataCheck                          1\n",
      "CPXPARAM_MIP_Tolerances_Integrality              1.0000000000000001e-15\n",
      "Found incumbent of value 508.000000 after 0.07 sec. (0.20 ticks)\n",
      "Tried aggregator 2 times.\n",
      "MIP Presolve eliminated 486 rows and 477 columns.\n",
      "MIP Presolve modified 1583 coefficients.\n",
      "Aggregator did 5 substitutions.\n",
      "Reduced MIP has 1605 rows, 1499 columns, and 9448 nonzeros.\n",
      "Reduced MIP has 884 binaries, 3 generals, 0 SOSs, and 0 indicators.\n",
      "Presolve time = 0.15 sec. (9.21 ticks)\n",
      "Probing time = 0.00 sec. (0.18 ticks)\n",
      "Tried aggregator 1 time.\n",
      "Reduced MIP has 1605 rows, 1499 columns, and 9448 nonzeros.\n",
      "Reduced MIP has 884 binaries, 3 generals, 0 SOSs, and 0 indicators.\n",
      "Presolve time = 0.21 sec. (3.53 ticks)\n",
      "Probing time = 0.00 sec. (0.18 ticks)\n",
      "MIP emphasis: balance optimality and feasibility.\n",
      "MIP search method: dynamic search.\n",
      "Parallel mode: deterministic, using up to 8 threads.\n",
      "Root relaxation solution time = 0.52 sec. (50.01 ticks)\n",
      "\n",
      "        Nodes                                         Cuts/\n",
      "   Node  Left     Objective  IInf  Best Integer    Best Bound    ItCnt     Gap\n",
      "\n",
      "*     0+    0                          508.0000        0.0000           100.00%\n",
      "*     0+    0                          438.0000        0.0000           100.00%\n",
      "      0     0        0.0000     9      438.0000        0.0000      871  100.00%\n",
      "*     0+    0                            9.0000        0.0000           100.00%\n",
      "      0     0        1.0000     9        9.0000     Covers: 1     1345   88.89%\n",
      "*     0+    0                            5.0000        1.0000            80.00%\n",
      "*     0+    0                            3.0000        2.0000            33.33%\n",
      "      0     0        cutoff              3.0000        3.0000     1345    0.00%\n",
      "Elapsed time = 1.70 sec. (251.21 ticks, tree = 0.01 MB, solutions = 4)\n",
      "\n",
      "Cover cuts applied:  1\n",
      "\n",
      "Root node processing (before b&c):\n",
      "  Real time             =    1.72 sec. (251.37 ticks)\n",
      "Parallel b&c, 8 threads:\n",
      "  Real time             =    0.00 sec. (0.00 ticks)\n",
      "  Sync time (average)   =    0.00 sec.\n",
      "  Wait time (average)   =    0.00 sec.\n",
      "                          ------------\n",
      "Total (root+branch&cut) =    1.72 sec. (251.37 ticks)\n",
      "Number of free lunch witnesses: 3\n",
      "List of free lunch witnesses: [224, 656, 660]\n",
      "Computed y lower bound 2.389486260454002e-07\n"
     ]
    }
   ],
   "source": [
    "flw_index_list, y_lower_bound = model.findFreeLunchWitnesses()"
   ]
  },
  {
   "cell_type": "markdown",
   "metadata": {},
   "source": [
    "# 6"
   ]
  },
  {
   "cell_type": "markdown",
   "metadata": {},
   "source": [
    "Organism: Homo sapiens \n",
    "\n",
    "Version: Recon 2.2 \n",
    "\n",
    "Year: 2016\n",
    "\n",
    "Paper link: https://link.springer.com/article/10.1007%2Fs11306-016-1051-4\n",
    "\n",
    "Model Link: https://github.com/mcisb/mcisb-recon-analysis/tree/master/models"
   ]
  },
  {
   "cell_type": "code",
   "execution_count": 16,
   "metadata": {},
   "outputs": [
    {
     "name": "stdout",
     "output_type": "stream",
     "text": [
      "Warning: no candidate for extra, outside found in the list\n",
      "Warning: multiple candidates for biomass found in the list\n",
      "0) Generic human biomass reaction 1) protein component of biomass 2) DNA component of biomass 3) RNA component of biomass 4) carbohydrate component of biomass 5) lipid component of biomass 6) other component of biomass\n",
      "Please select the correct string from the list above and enter its number, or -1 if none \n",
      "0\n"
     ]
    }
   ],
   "source": [
    "model =parseSBML('/home/hzabeti/Desktop/UCSD models/recon_2.2.xml')"
   ]
  },
  {
   "cell_type": "code",
   "execution_count": 8,
   "metadata": {},
   "outputs": [
    {
     "data": {
      "text/plain": [
       "{'ID': 'recon2_2',\n",
       " 'Name': 'Recon 2.2',\n",
       " 'Source File': '/home/hzabeti/Desktop/UCSD models/recon_2.2.xml'}"
      ]
     },
     "execution_count": 8,
     "metadata": {},
     "output_type": "execute_result"
    }
   ],
   "source": [
    "model.description"
   ]
  },
  {
   "cell_type": "code",
   "execution_count": 9,
   "metadata": {},
   "outputs": [
    {
     "data": {
      "text/plain": [
       "(6047, 7785)"
      ]
     },
     "execution_count": 9,
     "metadata": {},
     "output_type": "execute_result"
    }
   ],
   "source": [
    "getSize(model.fullMatrix)"
   ]
  },
  {
   "cell_type": "code",
   "execution_count": 11,
   "metadata": {},
   "outputs": [
    {
     "name": "stdout",
     "output_type": "stream",
     "text": [
      "No Free Lunch condition: Satisfied!\n"
     ]
    }
   ],
   "source": [
    "flm_index_list,flm_list = model.findFreeLunchMetabolites()"
   ]
  },
  {
   "cell_type": "code",
   "execution_count": 18,
   "metadata": {},
   "outputs": [
    {
     "name": "stdout",
     "output_type": "stream",
     "text": [
      "parameters.mip.tolerances.integrality\n"
     ]
    },
    {
     "name": "stderr",
     "output_type": "stream",
     "text": [
      "CPLEX Error  1222: Duplicate entry or entries.\n"
     ]
    },
    {
     "ename": "CplexSolverError",
     "evalue": "CPLEX Error  1222: Duplicate entry or entries.",
     "output_type": "error",
     "traceback": [
      "\u001b[0;31m---------------------------------------------------------------------------\u001b[0m",
      "\u001b[0;31mCplexSolverError\u001b[0m                          Traceback (most recent call last)",
      "\u001b[0;32m~/qsopt-ex/build/python-qsoptex/MongooseGUI3/ModelParsing.py\u001b[0m in \u001b[0;36m<module>\u001b[0;34m()\u001b[0m\n\u001b[0;32m----> 1\u001b[0;31m \u001b[0mflw_index_list\u001b[0m\u001b[0;34m,\u001b[0m \u001b[0my_lower_bound\u001b[0m \u001b[0;34m=\u001b[0m \u001b[0mmodel\u001b[0m\u001b[0;34m.\u001b[0m\u001b[0mfindFreeLunchWitnesses\u001b[0m\u001b[0;34m(\u001b[0m\u001b[0mmax_num_atoms\u001b[0m\u001b[0;34m=\u001b[0m\u001b[0;36m100\u001b[0m\u001b[0;34m)\u001b[0m\u001b[0;34m\u001b[0m\u001b[0m\n\u001b[0m",
      "\u001b[0;32m~/qsopt-ex/build/python-qsoptex/MongooseGUI3/ClassDefinitions.py\u001b[0m in \u001b[0;36mfindFreeLunchWitnesses\u001b[0;34m(self, y_lower_bound, max_num_atoms)\u001b[0m\n\u001b[1;32m    339\u001b[0m             \u001b[0mself\u001b[0m\u001b[0;34m.\u001b[0m\u001b[0mcreateMatrices\u001b[0m\u001b[0;34m(\u001b[0m\u001b[0;34m)\u001b[0m\u001b[0;34m\u001b[0m\u001b[0m\n\u001b[1;32m    340\u001b[0m     \u001b[0;32mdef\u001b[0m \u001b[0mfindFreeLunchWitnesses\u001b[0m \u001b[0;34m(\u001b[0m\u001b[0mself\u001b[0m\u001b[0;34m,\u001b[0m\u001b[0my_lower_bound\u001b[0m\u001b[0;34m=\u001b[0m\u001b[0;32mNone\u001b[0m\u001b[0;34m,\u001b[0m\u001b[0mmax_num_atoms\u001b[0m\u001b[0;34m=\u001b[0m\u001b[0;36m1e3\u001b[0m\u001b[0;34m)\u001b[0m\u001b[0;34m:\u001b[0m\u001b[0;34m\u001b[0m\u001b[0m\n\u001b[0;32m--> 341\u001b[0;31m         \u001b[0;32mreturn\u001b[0m \u001b[0mfree_lunch_witness_finder\u001b[0m\u001b[0;34m(\u001b[0m\u001b[0mself\u001b[0m\u001b[0;34m,\u001b[0m\u001b[0my_lower_bound\u001b[0m\u001b[0;34m,\u001b[0m\u001b[0mmax_num_atoms\u001b[0m\u001b[0;34m)\u001b[0m\u001b[0;34m\u001b[0m\u001b[0m\n\u001b[0m\u001b[1;32m    342\u001b[0m     \u001b[0;32mdef\u001b[0m \u001b[0mfindFreeLunchMetabolites\u001b[0m\u001b[0;34m(\u001b[0m\u001b[0mself\u001b[0m\u001b[0;34m)\u001b[0m\u001b[0;34m:\u001b[0m\u001b[0;34m\u001b[0m\u001b[0m\n\u001b[1;32m    343\u001b[0m         \u001b[0;32mreturn\u001b[0m \u001b[0mfind_free_lunch_metabolites\u001b[0m\u001b[0;34m(\u001b[0m\u001b[0mself\u001b[0m\u001b[0;34m)\u001b[0m\u001b[0;34m\u001b[0m\u001b[0m\n",
      "\u001b[0;32m~/qsopt-ex/build/python-qsoptex/MongooseGUI3/free_lunch_witnesses.py\u001b[0m in \u001b[0;36mfree_lunch_witness_finder\u001b[0;34m(model_obj, y_lower_bound, max_num_atoms)\u001b[0m\n\u001b[1;32m     54\u001b[0m             \u001b[0mrows\u001b[0m\u001b[0;34m.\u001b[0m\u001b[0mappend\u001b[0m\u001b[0;34m(\u001b[0m\u001b[0mcopy\u001b[0m\u001b[0;34m.\u001b[0m\u001b[0mcopy\u001b[0m\u001b[0;34m(\u001b[0m\u001b[0;34m[\u001b[0m\u001b[0mrow_inner_f\u001b[0m\u001b[0;34m,\u001b[0m\u001b[0mrow_inner_s\u001b[0m\u001b[0;34m]\u001b[0m\u001b[0;34m)\u001b[0m\u001b[0;34m)\u001b[0m\u001b[0;34m\u001b[0m\u001b[0m\n\u001b[1;32m     55\u001b[0m \u001b[0;34m\u001b[0m\u001b[0m\n\u001b[0;32m---> 56\u001b[0;31m     \u001b[0mprob\u001b[0m\u001b[0;34m.\u001b[0m\u001b[0mlinear_constraints\u001b[0m\u001b[0;34m.\u001b[0m\u001b[0madd\u001b[0m\u001b[0;34m(\u001b[0m\u001b[0mlin_expr\u001b[0m \u001b[0;34m=\u001b[0m \u001b[0mrows\u001b[0m\u001b[0;34m,\u001b[0m \u001b[0msenses\u001b[0m \u001b[0;34m=\u001b[0m \u001b[0mp_sense\u001b[0m\u001b[0;34m,\u001b[0m\u001b[0mrhs\u001b[0m \u001b[0;34m=\u001b[0m \u001b[0mp_rhs\u001b[0m\u001b[0;34m,\u001b[0m \u001b[0mnames\u001b[0m \u001b[0;34m=\u001b[0m \u001b[0mp_rownames\u001b[0m\u001b[0;34m)\u001b[0m\u001b[0;34m\u001b[0m\u001b[0m\n\u001b[0m\u001b[1;32m     57\u001b[0m \u001b[0;34m\u001b[0m\u001b[0m\n\u001b[1;32m     58\u001b[0m     \u001b[0;31m#prob.set_log_stream(None)\u001b[0m\u001b[0;34m\u001b[0m\u001b[0;34m\u001b[0m\u001b[0m\n",
      "\u001b[0;32m~/.local/lib/python3.5/site-packages/cplex/_internal/_subinterfaces.py\u001b[0m in \u001b[0;36madd\u001b[0;34m(self, lin_expr, senses, rhs, range_values, names)\u001b[0m\n\u001b[1;32m   1336\u001b[0m             lin_expr, senses, rhs, range_values, names)\n\u001b[1;32m   1337\u001b[0m         return self._add_iter(self.get_num, self._add,\n\u001b[0;32m-> 1338\u001b[0;31m                               lin_expr, senses, rhs, range_values, names)\n\u001b[0m\u001b[1;32m   1339\u001b[0m \u001b[0;34m\u001b[0m\u001b[0m\n\u001b[1;32m   1340\u001b[0m     \u001b[0;32mdef\u001b[0m \u001b[0mdelete\u001b[0m\u001b[0;34m(\u001b[0m\u001b[0mself\u001b[0m\u001b[0;34m,\u001b[0m \u001b[0;34m*\u001b[0m\u001b[0margs\u001b[0m\u001b[0;34m)\u001b[0m\u001b[0;34m:\u001b[0m\u001b[0;34m\u001b[0m\u001b[0m\n",
      "\u001b[0;32m~/.local/lib/python3.5/site-packages/cplex/_internal/_subinterfaces.py\u001b[0m in \u001b[0;36m_add_iter\u001b[0;34m(getnumfun, addfun, *args, **kwargs)\u001b[0m\n\u001b[1;32m    139\u001b[0m         \u001b[0;34m\"\"\"non-public\"\"\"\u001b[0m\u001b[0;34m\u001b[0m\u001b[0m\n\u001b[1;32m    140\u001b[0m         \u001b[0mold\u001b[0m \u001b[0;34m=\u001b[0m \u001b[0mgetnumfun\u001b[0m\u001b[0;34m(\u001b[0m\u001b[0;34m)\u001b[0m\u001b[0;34m\u001b[0m\u001b[0m\n\u001b[0;32m--> 141\u001b[0;31m         \u001b[0maddfun\u001b[0m\u001b[0;34m(\u001b[0m\u001b[0;34m*\u001b[0m\u001b[0margs\u001b[0m\u001b[0;34m,\u001b[0m \u001b[0;34m**\u001b[0m\u001b[0mkwargs\u001b[0m\u001b[0;34m)\u001b[0m\u001b[0;34m\u001b[0m\u001b[0m\n\u001b[0m\u001b[1;32m    142\u001b[0m         \u001b[0;32mreturn\u001b[0m \u001b[0msix\u001b[0m\u001b[0;34m.\u001b[0m\u001b[0mmoves\u001b[0m\u001b[0;34m.\u001b[0m\u001b[0mrange\u001b[0m\u001b[0;34m(\u001b[0m\u001b[0mold\u001b[0m\u001b[0;34m,\u001b[0m \u001b[0mgetnumfun\u001b[0m\u001b[0;34m(\u001b[0m\u001b[0;34m)\u001b[0m\u001b[0;34m)\u001b[0m\u001b[0;34m\u001b[0m\u001b[0m\n\u001b[1;32m    143\u001b[0m \u001b[0;34m\u001b[0m\u001b[0m\n",
      "\u001b[0;32m~/.local/lib/python3.5/site-packages/cplex/_internal/_subinterfaces.py\u001b[0m in \u001b[0;36m_add\u001b[0;34m(self, lin_expr, senses, rhs, range_values, names)\u001b[0m\n\u001b[1;32m   1271\u001b[0m                 CPX_PROC.addrows(self._env._e, self._cplex._lp, 0,\n\u001b[1;32m   1272\u001b[0m                                  \u001b[0mnum_new_rows\u001b[0m\u001b[0;34m,\u001b[0m \u001b[0mnnz\u001b[0m\u001b[0;34m,\u001b[0m \u001b[0mrhs\u001b[0m\u001b[0;34m,\u001b[0m \u001b[0msenses\u001b[0m\u001b[0;34m,\u001b[0m\u001b[0;34m\u001b[0m\u001b[0m\n\u001b[0;32m-> 1273\u001b[0;31m                                  rmat, [], names, self._env._apienc)\n\u001b[0m\u001b[1;32m   1274\u001b[0m             \u001b[0;32mif\u001b[0m \u001b[0mrange_values\u001b[0m \u001b[0;34m!=\u001b[0m \u001b[0;34m[\u001b[0m\u001b[0;34m]\u001b[0m\u001b[0;34m:\u001b[0m\u001b[0;34m\u001b[0m\u001b[0m\n\u001b[1;32m   1275\u001b[0m                 CPX_PROC.chgrngval(\n",
      "\u001b[0;32m~/.local/lib/python3.5/site-packages/cplex/_internal/_procedural.py\u001b[0m in \u001b[0;36maddrows\u001b[0;34m(env, lp, ccnt, rcnt, nzcnt, rhs, sense, rmat, colname, rowname, enc)\u001b[0m\n\u001b[1;32m   1057\u001b[0m             \u001b[0mcpx_decode\u001b[0m\u001b[0;34m(\u001b[0m\u001b[0msense\u001b[0m\u001b[0;34m,\u001b[0m \u001b[0menc\u001b[0m\u001b[0;34m)\u001b[0m\u001b[0;34m,\u001b[0m \u001b[0mrmat\u001b[0m\u001b[0;34m,\u001b[0m \u001b[0mcolname\u001b[0m\u001b[0;34m,\u001b[0m\u001b[0;34m\u001b[0m\u001b[0m\n\u001b[1;32m   1058\u001b[0m             [cpx_decode(x, enc) for x in rowname])\n\u001b[0;32m-> 1059\u001b[0;31m     \u001b[0mcheck_status\u001b[0m\u001b[0;34m(\u001b[0m\u001b[0menv\u001b[0m\u001b[0;34m,\u001b[0m \u001b[0mstatus\u001b[0m\u001b[0;34m)\u001b[0m\u001b[0;34m\u001b[0m\u001b[0m\n\u001b[0m\u001b[1;32m   1060\u001b[0m \u001b[0;34m\u001b[0m\u001b[0m\n\u001b[1;32m   1061\u001b[0m \u001b[0;34m\u001b[0m\u001b[0m\n",
      "\u001b[0;32m~/.local/lib/python3.5/site-packages/cplex/_internal/_procedural.py\u001b[0m in \u001b[0;36m__call__\u001b[0;34m(self, env, status, from_cb)\u001b[0m\n\u001b[1;32m    301\u001b[0m                 \u001b[0;32melse\u001b[0m\u001b[0;34m:\u001b[0m\u001b[0;34m\u001b[0m\u001b[0m\n\u001b[1;32m    302\u001b[0m                     \u001b[0merror_string\u001b[0m \u001b[0;34m=\u001b[0m \u001b[0mgeterrorstring\u001b[0m\u001b[0;34m(\u001b[0m\u001b[0menv\u001b[0m\u001b[0;34m,\u001b[0m \u001b[0mstatus\u001b[0m\u001b[0;34m)\u001b[0m\u001b[0;34m\u001b[0m\u001b[0m\n\u001b[0;32m--> 303\u001b[0;31m             \u001b[0;32mraise\u001b[0m \u001b[0mCplexSolverError\u001b[0m\u001b[0;34m(\u001b[0m\u001b[0merror_string\u001b[0m\u001b[0;34m,\u001b[0m \u001b[0menv\u001b[0m\u001b[0;34m,\u001b[0m \u001b[0mstatus\u001b[0m\u001b[0;34m)\u001b[0m\u001b[0;34m\u001b[0m\u001b[0m\n\u001b[0m\u001b[1;32m    304\u001b[0m \u001b[0;34m\u001b[0m\u001b[0m\n\u001b[1;32m    305\u001b[0m \u001b[0;34m\u001b[0m\u001b[0m\n",
      "\u001b[0;31mCplexSolverError\u001b[0m: CPLEX Error  1222: Duplicate entry or entries."
     ]
    }
   ],
   "source": [
    "flw_index_list, y_lower_bound = model.findFreeLunchWitnesses()"
   ]
  },
  {
   "cell_type": "code",
   "execution_count": 22,
   "metadata": {},
   "outputs": [
    {
     "ename": "AssertionError",
     "evalue": "",
     "output_type": "error",
     "traceback": [
      "\u001b[0;31m---------------------------------------------------------------------------\u001b[0m",
      "\u001b[0;31mAssertionError\u001b[0m                            Traceback (most recent call last)",
      "\u001b[0;32m~/qsopt-ex/build/python-qsoptex/MongooseGUI3/ModelParsing.py\u001b[0m in \u001b[0;36m<module>\u001b[0;34m()\u001b[0m\n\u001b[0;32m----> 1\u001b[0;31m \u001b[0mmodel\u001b[0m\u001b[0;34m.\u001b[0m\u001b[0mprintReactionFormula\u001b[0m\u001b[0;34m(\u001b[0m\u001b[0;36m0\u001b[0m\u001b[0;34m)\u001b[0m\u001b[0;34m\u001b[0m\u001b[0m\n\u001b[0m",
      "\u001b[0;32m~/qsopt-ex/build/python-qsoptex/MongooseGUI3/ClassDefinitions.py\u001b[0m in \u001b[0;36mprintReactionFormula\u001b[0;34m(self, reactionNumber)\u001b[0m\n\u001b[1;32m    269\u001b[0m         \u001b[0;32mreturn\u001b[0m \u001b[0mfindMinimalMedia\u001b[0m\u001b[0;34m(\u001b[0m\u001b[0mN\u001b[0m\u001b[0;34m,\u001b[0m \u001b[0mbiomassIndex\u001b[0m\u001b[0;34m,\u001b[0m \u001b[0mExch\u001b[0m\u001b[0;34m,\u001b[0m \u001b[0mrec\u001b[0m \u001b[0;34m=\u001b[0m \u001b[0;32mFalse\u001b[0m\u001b[0;34m,\u001b[0m \u001b[0mI\u001b[0m \u001b[0;34m=\u001b[0m \u001b[0mIrr\u001b[0m\u001b[0;34m)\u001b[0m\u001b[0;34m\u001b[0m\u001b[0m\n\u001b[1;32m    270\u001b[0m     \u001b[0;32mdef\u001b[0m \u001b[0mprintReactionFormula\u001b[0m\u001b[0;34m(\u001b[0m\u001b[0mself\u001b[0m\u001b[0;34m,\u001b[0m \u001b[0mreactionNumber\u001b[0m\u001b[0;34m)\u001b[0m\u001b[0;34m:\u001b[0m\u001b[0;34m\u001b[0m\u001b[0m\n\u001b[0;32m--> 271\u001b[0;31m         \u001b[0;32massert\u001b[0m \u001b[0mreactionNumber\u001b[0m \u001b[0;34m>\u001b[0m \u001b[0;36m0\u001b[0m\u001b[0;34m\u001b[0m\u001b[0m\n\u001b[0m\u001b[1;32m    272\u001b[0m         \u001b[0;32massert\u001b[0m \u001b[0mreactionNumber\u001b[0m \u001b[0;34m<\u001b[0m \u001b[0mlen\u001b[0m\u001b[0;34m(\u001b[0m\u001b[0mself\u001b[0m\u001b[0;34m.\u001b[0m\u001b[0mreactions\u001b[0m\u001b[0;34m)\u001b[0m\u001b[0;34m\u001b[0m\u001b[0m\n\u001b[1;32m    273\u001b[0m         \u001b[0mcurReact\u001b[0m \u001b[0;34m=\u001b[0m \u001b[0mself\u001b[0m\u001b[0;34m.\u001b[0m\u001b[0mreactions\u001b[0m\u001b[0;34m[\u001b[0m\u001b[0mreactionNumber\u001b[0m\u001b[0;34m]\u001b[0m\u001b[0;34m\u001b[0m\u001b[0m\n",
      "\u001b[0;31mAssertionError\u001b[0m: "
     ]
    }
   ],
   "source": [
    "model.printReactionFormula(0)"
   ]
  },
  {
   "cell_type": "code",
   "execution_count": null,
   "metadata": {},
   "outputs": [],
   "source": []
  },
  {
   "cell_type": "markdown",
   "metadata": {},
   "source": [
    "Organism:\n",
    "\n",
    "Version: \n",
    "\n",
    "Year:\n",
    "\n",
    "Paper link: \n",
    "\n",
    "Model Link: "
   ]
  },
  {
   "cell_type": "code",
   "execution_count": 19,
   "metadata": {},
   "outputs": [
    {
     "data": {
      "text/plain": [
       "253727"
      ]
     },
     "execution_count": 19,
     "metadata": {},
     "output_type": "execute_result"
    }
   ],
   "source": [
    "import gc\n",
    "gc.collect()"
   ]
  }
 ],
 "metadata": {
  "kernelspec": {
   "display_name": "Python 3",
   "language": "python",
   "name": "python3"
  },
  "language_info": {
   "codemirror_mode": {
    "name": "ipython",
    "version": 3
   },
   "file_extension": ".py",
   "mimetype": "text/x-python",
   "name": "python",
   "nbconvert_exporter": "python",
   "pygments_lexer": "ipython3",
   "version": "3.5.2"
  }
 },
 "nbformat": 4,
 "nbformat_minor": 2
}
