{
 "cells": [
  {
   "cell_type": "code",
   "execution_count": 16,
   "metadata": {},
   "outputs": [],
   "source": [
    "%run -i 'ModelParsing.py'"
   ]
  },
  {
   "cell_type": "code",
   "execution_count": 17,
   "metadata": {},
   "outputs": [],
   "source": [
    "import gc"
   ]
  },
  {
   "cell_type": "code",
   "execution_count": 10,
   "metadata": {},
   "outputs": [
    {
     "name": "stdout",
     "output_type": "stream",
     "text": [
      "Warning: no candidate for extra, outside found in the list\n",
      "Warning: multiple candidates for biomass found in the list\n",
      "0) Autotrophic Biomass Ecuation 1) Mixotrophic Biomass Ecuation 2) Heterotrophic Biomass Ecuation\n",
      "Please select the correct string from the list above and enter its number, or -1 if none \n",
      "0\n"
     ]
    }
   ],
   "source": [
    "model =parseSBML('/home/hzabeti/qsopt-ex/build/python-qsoptex/MongooseGUI3/Models/SBML/iJN678.xml')"
   ]
  },
  {
   "cell_type": "code",
   "execution_count": 11,
   "metadata": {},
   "outputs": [
    {
     "name": "stdout",
     "output_type": "stream",
     "text": [
      "No Free Lunch condition: Not satisfied!\n",
      "Optimum solution and the number of all possible free lunch metabolites 3\n"
     ]
    }
   ],
   "source": [
    "flm_index_list,flm_list = model.findFreeLunchMetabolites()"
   ]
  },
  {
   "cell_type": "code",
   "execution_count": 13,
   "metadata": {},
   "outputs": [
    {
     "name": "stdout",
     "output_type": "stream",
     "text": [
      "[592, 756, 757] ['M_photon_c', 'M_photon_e', 'M_photon_p']\n"
     ]
    }
   ],
   "source": [
    "print(flm_index_list,flm_list )"
   ]
  },
  {
   "cell_type": "code",
   "execution_count": 12,
   "metadata": {},
   "outputs": [
    {
     "name": "stdout",
     "output_type": "stream",
     "text": [
      "Number of individually producible free lunch metabolites 3\n"
     ]
    }
   ],
   "source": [
    "ind_flm_index_list,ind_flm_list = model.findIndividuallyProducibleFLM()"
   ]
  },
  {
   "cell_type": "code",
   "execution_count": 14,
   "metadata": {},
   "outputs": [
    {
     "name": "stdout",
     "output_type": "stream",
     "text": [
      "[592, 756, 757] ['M_photon_c', 'M_photon_e', 'M_photon_p']\n"
     ]
    }
   ],
   "source": [
    "print(ind_flm_index_list,ind_flm_list)"
   ]
  },
  {
   "cell_type": "code",
   "execution_count": 15,
   "metadata": {},
   "outputs": [
    {
     "name": "stdout",
     "output_type": "stream",
     "text": [
      "Number of iteration:  0\n",
      "Number of reactions involved in FL: 5\n",
      "------------------------------------------------------------\n",
      "Checking index:  111\n",
      "This index is in the miniaml set 111\n",
      "Checking index:  143\n",
      "This index is in the miniaml set 143\n",
      "Checking index:  144\n",
      "This index is in the miniaml set 144\n",
      "Checking index:  151\n",
      "This index is in the miniaml set 151\n",
      "Checking index:  530\n",
      "This index is in the miniaml set 530\n",
      "Minimal free lunch indexes: [111, 143, 144, 151, 530]\n",
      "------------------ minimal free lunch equation----------------\n",
      "-1/14*(3 M_adp_c[c] + 14 M_h_u[u] + 3 M_pi_c[c] -> 3 M_atp_c[c] + 3 M_h2o_c[c] + 11 M_h_c[c])\n",
      "-3/28*(1 M_cyanphy_c[c] + 2 M_h2o_c[c] -> 1 M_arg__L_c[c] + 1 M_asp__L_c[c] + 1 M_precyanphy_c[c])\n",
      "-3/28*(1 M_arg__L_c[c] + 1 M_asp__L_c[c] + 2 M_atp_c[c] + 1 M_precyanphy_c[c] -> 2 M_adp_c[c] + 1 M_cyanphy_c[c] + 2 M_h_c[c] + 2 M_pi_c[c])\n",
      "-1/2*(1/2 M_o2_u[u] + 1 M_pqh2_u[u] -> 1 M_h2o_u[u] + 1 M_pq_u[u])\n",
      "-1/2*(1 M_h2o_u[u] + 2 M_h_c[c] + 2 M_photon_c[c] + 1 M_pq_u[u] -> 2 M_h_u[u] + 1/2 M_o2_u[u] + 1 M_pqh2_u[u])\n",
      "-----------\n",
      "1*(M_photon_c)\n",
      "-------------------------------------------------------------\n"
     ]
    }
   ],
   "source": [
    "minimal_free_lunch,free_lunch_list,free_lunch_meta = model.findMinimalFreeLunch(free_lunch_meta_list=[592])"
   ]
  },
  {
   "cell_type": "code",
   "execution_count": 19,
   "metadata": {},
   "outputs": [
    {
     "name": "stdout",
     "output_type": "stream",
     "text": [
      "Number of iteration:  0\n",
      "Number of reactions involved in FL: 7\n",
      "------------------------------------------------------------\n",
      "Checking index:  111\n",
      "This index is in the miniaml set 111\n",
      "Checking index:  143\n",
      "This index is in the miniaml set 143\n",
      "Checking index:  144\n",
      "This index is in the miniaml set 144\n",
      "Checking index:  151\n",
      "This index is in the miniaml set 151\n",
      "Checking index:  530\n",
      "This index is in the miniaml set 530\n",
      "Checking index:  752\n",
      "This index is in the miniaml set 752\n",
      "Checking index:  753\n",
      "This index is in the miniaml set 753\n",
      "Minimal free lunch indexes: [111, 143, 144, 151, 530, 752, 753]\n",
      "------------------ minimal free lunch equation----------------\n",
      "-1/14*(3 M_adp_c[c] + 14 M_h_u[u] + 3 M_pi_c[c] -> 3 M_atp_c[c] + 3 M_h2o_c[c] + 11 M_h_c[c])\n",
      "-3/28*(1 M_cyanphy_c[c] + 2 M_h2o_c[c] -> 1 M_arg__L_c[c] + 1 M_asp__L_c[c] + 1 M_precyanphy_c[c])\n",
      "-3/28*(1 M_arg__L_c[c] + 1 M_asp__L_c[c] + 2 M_atp_c[c] + 1 M_precyanphy_c[c] -> 2 M_adp_c[c] + 1 M_cyanphy_c[c] + 2 M_h_c[c] + 2 M_pi_c[c])\n",
      "-1/2*(1/2 M_o2_u[u] + 1 M_pqh2_u[u] -> 1 M_h2o_u[u] + 1 M_pq_u[u])\n",
      "-1/2*(1 M_h2o_u[u] + 2 M_h_c[c] + 2 M_photon_c[c] + 1 M_pq_u[u] -> 2 M_h_u[u] + 1/2 M_o2_u[u] + 1 M_pqh2_u[u])\n",
      "-1*(1 M_photon_e[e] <-> 1 M_photon_p[p])\n",
      "-1*(1 M_photon_p[p] <-> 1 M_photon_c[c])\n",
      "-----------\n",
      "1*(M_photon_e)\n",
      "-------------------------------------------------------------\n"
     ]
    }
   ],
   "source": [
    "minimal_free_lunch,free_lunch_list,free_lunch_meta = model.findMinimalFreeLunch(free_lunch_meta_list=[756])"
   ]
  },
  {
   "cell_type": "code",
   "execution_count": 20,
   "metadata": {},
   "outputs": [
    {
     "name": "stdout",
     "output_type": "stream",
     "text": [
      "Number of iteration:  0\n",
      "Number of reactions involved in FL: 6\n",
      "------------------------------------------------------------\n",
      "Checking index:  111\n",
      "This index is in the miniaml set 111\n",
      "Checking index:  143\n",
      "This index is in the miniaml set 143\n",
      "Checking index:  144\n",
      "This index is in the miniaml set 144\n",
      "Checking index:  151\n",
      "This index is in the miniaml set 151\n",
      "Checking index:  530\n",
      "This index is in the miniaml set 530\n",
      "Checking index:  753\n",
      "This index is in the miniaml set 753\n",
      "Minimal free lunch indexes: [111, 143, 144, 151, 530, 753]\n",
      "------------------ minimal free lunch equation----------------\n",
      "-1/14*(3 M_adp_c[c] + 14 M_h_u[u] + 3 M_pi_c[c] -> 3 M_atp_c[c] + 3 M_h2o_c[c] + 11 M_h_c[c])\n",
      "-3/28*(1 M_cyanphy_c[c] + 2 M_h2o_c[c] -> 1 M_arg__L_c[c] + 1 M_asp__L_c[c] + 1 M_precyanphy_c[c])\n",
      "-3/28*(1 M_arg__L_c[c] + 1 M_asp__L_c[c] + 2 M_atp_c[c] + 1 M_precyanphy_c[c] -> 2 M_adp_c[c] + 1 M_cyanphy_c[c] + 2 M_h_c[c] + 2 M_pi_c[c])\n",
      "-1/2*(1/2 M_o2_u[u] + 1 M_pqh2_u[u] -> 1 M_h2o_u[u] + 1 M_pq_u[u])\n",
      "-1/2*(1 M_h2o_u[u] + 2 M_h_c[c] + 2 M_photon_c[c] + 1 M_pq_u[u] -> 2 M_h_u[u] + 1/2 M_o2_u[u] + 1 M_pqh2_u[u])\n",
      "-1*(1 M_photon_p[p] <-> 1 M_photon_c[c])\n",
      "-----------\n",
      "1*(M_photon_p)\n",
      "-------------------------------------------------------------\n"
     ]
    }
   ],
   "source": [
    "minimal_free_lunch,free_lunch_list,free_lunch_meta = model.findMinimalFreeLunch(free_lunch_meta_list=[757])"
   ]
  },
  {
   "cell_type": "code",
   "execution_count": 21,
   "metadata": {},
   "outputs": [
    {
     "name": "stdout",
     "output_type": "stream",
     "text": [
      "parameters.mip.tolerances.integrality\n",
      "CPXPARAM_Simplex_Tolerances_Feasibility          1.0000000000000001e-09\n",
      "CPXPARAM_Read_DataCheck                          1\n",
      "CPXPARAM_MIP_Tolerances_Integrality              1.0000000000000001e-15\n",
      "Found incumbent of value 429.000000 after 0.02 sec. (0.16 ticks)\n",
      "Tried aggregator 2 times.\n",
      "MIP Presolve eliminated 385 rows and 397 columns.\n",
      "MIP Presolve modified 1486 coefficients.\n",
      "Aggregator did 5 substitutions.\n",
      "Reduced MIP has 1216 rows, 1196 columns, and 6787 nonzeros.\n",
      "Reduced MIP has 685 binaries, 5 generals, 0 SOSs, and 0 indicators.\n",
      "Presolve time = 0.01 sec. (6.75 ticks)\n",
      "Probing time = 0.00 sec. (0.15 ticks)\n",
      "Tried aggregator 1 time.\n",
      "Reduced MIP has 1216 rows, 1196 columns, and 6787 nonzeros.\n",
      "Reduced MIP has 685 binaries, 5 generals, 0 SOSs, and 0 indicators.\n",
      "Presolve time = 0.02 sec. (2.64 ticks)\n",
      "Probing time = 0.00 sec. (0.15 ticks)\n",
      "MIP emphasis: balance optimality and feasibility.\n",
      "MIP search method: dynamic search.\n",
      "Parallel mode: deterministic, using up to 8 threads.\n",
      "Root relaxation solution time = 0.34 sec. (33.75 ticks)\n",
      "\n",
      "        Nodes                                         Cuts/\n",
      "   Node  Left     Objective  IInf  Best Integer    Best Bound    ItCnt     Gap\n",
      "\n",
      "*     0+    0                          429.0000        0.0000           100.00%\n",
      "*     0+    0                          366.0000        0.0000           100.00%\n",
      "*     0+    0                          365.0000        0.0000           100.00%\n",
      "      0     0        0.0000     3      365.0000        0.0000      775  100.00%\n",
      "*     0+    0                            3.0000        0.0000           100.00%\n",
      "      0     0        1.0000     2        3.0000     Covers: 1      778   66.67%\n",
      "      0     0        cutoff              3.0000                    818    0.00%\n",
      "Elapsed time = 0.68 sec. (65.52 ticks, tree = 0.01 MB, solutions = 3)\n",
      "\n",
      "Cover cuts applied:  2\n",
      "\n",
      "Root node processing (before b&c):\n",
      "  Real time             =    0.69 sec. (65.64 ticks)\n",
      "Parallel b&c, 8 threads:\n",
      "  Real time             =    0.00 sec. (0.00 ticks)\n",
      "  Sync time (average)   =    0.00 sec.\n",
      "  Wait time (average)   =    0.00 sec.\n",
      "                          ------------\n",
      "Total (root+branch&cut) =    0.69 sec. (65.64 ticks)\n",
      "Number of free lunch witnesses: 3\n",
      "List of free lunch witnesses: [528, 529, 530]\n",
      "Computed y lower bound 1.8148820326678766e-06\n"
     ]
    }
   ],
   "source": [
    "flw_index_list, y_lower_bound = model.findFreeLunchWitnesses()"
   ]
  },
  {
   "cell_type": "code",
   "execution_count": 22,
   "metadata": {},
   "outputs": [
    {
     "data": {
      "text/plain": [
       "537"
      ]
     },
     "execution_count": 22,
     "metadata": {},
     "output_type": "execute_result"
    }
   ],
   "source": [
    "gc.collect()"
   ]
  }
 ],
 "metadata": {
  "kernelspec": {
   "display_name": "Python 3",
   "language": "python",
   "name": "python3"
  },
  "language_info": {
   "codemirror_mode": {
    "name": "ipython",
    "version": 3
   },
   "file_extension": ".py",
   "mimetype": "text/x-python",
   "name": "python",
   "nbconvert_exporter": "python",
   "pygments_lexer": "ipython3",
   "version": "3.5.2"
  }
 },
 "nbformat": 4,
 "nbformat_minor": 2
}
