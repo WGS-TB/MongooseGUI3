{
 "cells": [
  {
   "cell_type": "code",
   "execution_count": 1,
   "metadata": {},
   "outputs": [],
   "source": [
    "%run -i 'ModelParsing.py'"
   ]
  },
  {
   "cell_type": "code",
   "execution_count": 2,
   "metadata": {},
   "outputs": [
    {
     "name": "stdout",
     "output_type": "stream",
     "text": [
      "Warning: no candidate for extra, outside found in the list\n"
     ]
    }
   ],
   "source": [
    "model =parseSBML('/home/hzabeti/qsopt-ex/build/python-qsoptex/MongooseGUI3/Models/SBML/iMM1415.xml')"
   ]
  },
  {
   "cell_type": "code",
   "execution_count": 5,
   "metadata": {},
   "outputs": [
    {
     "name": "stdout",
     "output_type": "stream",
     "text": [
      "No Free Lunch condition: Not satisfied!\n",
      "Optimum solution and the number of all possible free lunch metabolites 1767\n"
     ]
    }
   ],
   "source": [
    "flm_index_list,flm_list = model.findFreeLunchMetabolites()"
   ]
  },
  {
   "cell_type": "code",
   "execution_count": 4,
   "metadata": {},
   "outputs": [
    {
     "name": "stdout",
     "output_type": "stream",
     "text": [
      "Number of individually producible free lunch metabolites 41\n"
     ]
    }
   ],
   "source": [
    "ind_flm_index_list,ind_flm_list = model.findIndividuallyProducibleFLM()"
   ]
  },
  {
   "cell_type": "code",
   "execution_count": 6,
   "metadata": {},
   "outputs": [
    {
     "name": "stdout",
     "output_type": "stream",
     "text": [
      "[319, 549, 551, 552, 722, 723, 1218, 1219, 1220, 1288, 1289, 1445, 1566, 1567, 1723, 1787, 1788, 1789, 2058, 2104, 2139, 2141, 2142, 2208, 2209, 2326, 2353, 2354, 2355, 2374, 2375, 2451, 2524, 2525, 2569, 2680, 2708, 2709, 2710, 2732, 2733] ['M_coa_c', 'M_h_c', 'M_h2o_c', 'M_h2o2_c', 'M_o2_c', 'M_o2s_c', 'M_h_e', 'M_h2o_e', 'M_h2o2_e', 'M_o2_e', 'M_o2s_e', 'M_coa_g', 'M_h_g', 'M_h2o_g', 'M_coa_l', 'M_h_l', 'M_h2o_l', 'M_h2o2_l', 'M_coa_m', 'M_e_m', 'M_h_m', 'M_h2o_m', 'M_h2o2_m', 'M_o2_m', 'M_o2s_m', 'M_coa_n', 'M_h_n', 'M_h2o_n', 'M_h2o2_n', 'M_o2_n', 'M_o2s_n', 'M_coa_r', 'M_h_r', 'M_h2o_r', 'M_o2_r', 'M_coa_x', 'M_h_x', 'M_h2o_x', 'M_h2o2_x', 'M_o2_x', 'M_o2s_x']\n"
     ]
    }
   ],
   "source": [
    "print(ind_flm_index_list,ind_flm_list)"
   ]
  },
  {
   "cell_type": "code",
   "execution_count": 3,
   "metadata": {},
   "outputs": [
    {
     "name": "stdout",
     "output_type": "stream",
     "text": [
      "Number of iteration:  0\n",
      "Number of reactions involved in FL: 98\n",
      "------------------------------------------------------------\n",
      "Number of iteration:  1\n",
      "Number of reactions involved in FL: 17\n",
      "------------------------------------------------------------\n",
      "Checking index:  876\n",
      "This index is in the miniaml set 876\n",
      "Checking index:  885\n",
      "This index is in the miniaml set 885\n",
      "Checking index:  886\n",
      "This index is in the miniaml set 886\n",
      "Checking index:  1225\n",
      "This index is in the miniaml set 1225\n",
      "Checking index:  1227\n",
      "This index is in the miniaml set 1227\n",
      "Checking index:  1287\n",
      "This index is in the miniaml set 1287\n",
      "Checking index:  1341\n",
      "This index is in the miniaml set 1341\n",
      "Checking index:  1866\n",
      "This index is in the miniaml set 1866\n",
      "Checking index:  1867\n",
      "This index is in the miniaml set 1867\n",
      "Checking index:  2183\n",
      "This index is in the miniaml set 2183\n",
      "Checking index:  2442\n",
      "This index is in the miniaml set 2442\n",
      "Checking index:  2600\n",
      "This index is in the miniaml set 2600\n",
      "Checking index:  2669\n",
      "This index is in the miniaml set 2669\n",
      "Checking index:  2814\n",
      "This index is not in the minimal 2814\n",
      "Checking index:  2897\n",
      "This index is in the miniaml set 2897\n",
      "Checking index:  3090\n",
      "This index is in the miniaml set 3090\n",
      "Checking index:  3511\n",
      "This index is in the miniaml set 3511\n",
      "Minimal free lunch indexes: [876, 885, 886, 1225, 1227, 1287, 1341, 1866, 1867, 2183, 2442, 2600, 2669, 2897, 3090, 3511]\n",
      "------------------ minimal free lunch equation----------------\n",
      "-21/4*(1 M_Rtotal_c[c] + 1 M_coa_c[c] <-> 1 M_Rtotalcoa_c[c])\n",
      "1*(1 M_dlnlcgcoa_c[c] + 2 M_fadh2_m[m] + 1 M_h_m[m] + 1 M_nadph_m[m] -> 5/4 M_R2coa_hs_c[c] + 2 M_fad_m[m] + 1 M_nadp_m[m])\n",
      "-1*(1 M_arachdcoa_c[c] + 2 M_fadh2_m[m] + 2 M_h_m[m] + 2 M_nadph_m[m] -> 5/4 M_R2coa_hs_c[c] + 2 M_fad_m[m] + 2 M_nadp_m[m])\n",
      "-13/8*(4 M_focytC_m[m] + 8 M_h_m[m] + 1 M_o2_m[m] -> 4 M_ficytC_m[m] + 2 M_h2o_m[m] + 4 M_h_c[c])\n",
      "2*(2 M_ficytC_m[m] + 2 M_h_m[m] + 1 M_q10h2_m[m] -> 2 M_focytC_m[m] + 4 M_h_c[c] + 1 M_q10_m[m])\n",
      "21/2*(1 M_focytC_m[m] -> 1 M_e_m[m] + 1 M_ficytC_m[m])\n",
      "-1*(1 M_dlnlcgcoa_c[c] + 1 M_h_c[c] + 1 M_nadh_c[c] + 1 M_o2_c[c] -> 1 M_arachdcoa_c[c] + 2 M_h2o_c[c] + 1 M_nad_c[c])\n",
      "1*(1 M_dhap_c[c] + 1 M_h_c[c] + 1 M_nadh_c[c] <-> 1 M_glyc3p_c[c] + 1 M_nad_c[c])\n",
      "1*(1 M_fad_m[m] + 1 M_glyc3p_c[c] -> 1 M_dhap_c[c] + 1 M_fadh2_m[m])\n",
      "13/4*(1 M_h2o_c[c] <-> 1 M_h2o_m[m])\n",
      "-21/4*(1 M_dag_hs_c[c] + 1 M_h2o_c[c] -> 1 M_Rtotal_c[c] + 1 M_h_c[c] + 1 M_mag_hs_c[c])\n",
      "-21/4*(1 M_Rtotalcoa_c[c] + 1 M_mag_hs_c[c] -> 1 M_coa_c[c] + 1 M_dag_hs_c[c])\n",
      "2*(5 M_h_m[m] + 1 M_nadh_m[m] + 1 M_q10_m[m] -> 4 M_h_c[c] + 1 M_nad_m[m] + 1 M_q10h2_m[m])\n",
      "-1*(1 M_1pyr5c_m[m] + 2 M_h_m[m] + 1 M_nadh_m[m] -> 1 M_nad_m[m] + 1 M_pro__L_m[m])\n",
      "-1*(1 M_fad_m[m] + 1 M_pro__L_m[m] -> 1 M_1pyr5c_m[m] + 1 M_fadh2_m[m] + 1 M_h_m[m])\n",
      "-1*(1 M_h_c[c] + 1 M_nadh_m[m] + 1 M_nadp_m[m] -> 1 M_h_m[m] + 1 M_nad_m[m] + 1 M_nadph_m[m])\n",
      "-----------\n",
      "21/4*(M_h_c)\n",
      "1*(M_o2_c)\n",
      "21/2*(M_e_m)\n",
      "13/8*(M_o2_m)\n",
      "-------------------------------------------------------------\n"
     ]
    }
   ],
   "source": [
    "minimal_free_lunch,free_lunch_list,free_lunch_meta = model.findMinimalFreeLunch(free_lunch_meta_list=[722])"
   ]
  },
  {
   "cell_type": "code",
   "execution_count": 4,
   "metadata": {},
   "outputs": [
    {
     "name": "stdout",
     "output_type": "stream",
     "text": [
      "parameters.mip.tolerances.integrality\n",
      "CPXPARAM_Simplex_Tolerances_Feasibility          1.0000000000000001e-09\n",
      "CPXPARAM_Read_DataCheck                          1\n",
      "CPXPARAM_MIP_Tolerances_Integrality              1.0000000000000001e-15\n",
      "Found incumbent of value 1185.000000 after 0.06 sec. (0.59 ticks)\n",
      "Tried aggregator 3 times.\n",
      "MIP Presolve eliminated 1308 rows and 1350 columns.\n",
      "MIP Presolve modified 4012 coefficients.\n",
      "Aggregator did 51 substitutions.\n",
      "Reduced MIP has 5183 rows, 4637 columns, and 26967 nonzeros.\n",
      "Reduced MIP has 2749 binaries, 40 generals, 0 SOSs, and 0 indicators.\n",
      "Presolve time = 0.10 sec. (27.43 ticks)\n",
      "Probing time = 0.00 sec. (0.38 ticks)\n",
      "Tried aggregator 1 time.\n",
      "MIP Presolve eliminated 1 rows and 0 columns.\n",
      "Reduced MIP has 5182 rows, 4636 columns, and 26960 nonzeros.\n",
      "Reduced MIP has 2748 binaries, 40 generals, 0 SOSs, and 0 indicators.\n",
      "Presolve time = 0.03 sec. (10.68 ticks)\n",
      "Probing time = 0.00 sec. (0.37 ticks)\n",
      "MIP emphasis: balance optimality and feasibility.\n",
      "MIP search method: dynamic search.\n",
      "Parallel mode: deterministic, using up to 8 threads.\n",
      "Root relaxation solution time = 1.04 sec. (692.30 ticks)\n",
      "\n",
      "        Nodes                                         Cuts/\n",
      "   Node  Left     Objective  IInf  Best Integer    Best Bound    ItCnt     Gap\n",
      "\n",
      "*     0+    0                         1185.0000        0.0000           100.00%\n",
      "*     0+    0                         1014.0000        0.0000           100.00%\n",
      "*     0+    0                          937.0000        0.0000           100.00%\n",
      "*     0+    0                          898.0000        0.0000           100.00%\n",
      "*     0+    0                          890.0000        0.0000           100.00%\n",
      "*     0+    0                          857.0000        0.0000           100.00%\n",
      "*     0+    0                          853.0000        0.0000           100.00%\n",
      "      0     0        0.0000    59      853.0000        0.0000     4303  100.00%\n",
      "*     0+    0                           59.0000        0.0000           100.00%\n",
      "      0     0        1.0000   111       59.0000     Covers: 1     5815   98.31%\n",
      "*     0+    0                           48.0000        1.0000            97.92%\n",
      "      0     0        1.0000   112       48.0000     Covers: 1     6376   97.92%\n",
      "*     0+    0                           14.0000        1.0000            92.86%\n",
      "      0     0        1.0000   122       14.0000     Covers: 1     7039   92.86%\n",
      "      0     0        1.0000   122       14.0000     Covers: 1     7041   92.86%\n",
      "      0     2        1.0000   122       14.0000        1.0000     7041   92.86%\n",
      "Elapsed time = 6.82 sec. (4277.96 ticks, tree = 0.01 MB, solutions = 9)\n",
      "     34     9        2.0000   124       14.0000        1.0000     8892   92.86%\n",
      "     48    24        2.0000   156       14.0000        1.0000    11328   92.86%\n",
      "     63    41        2.0000   173       14.0000        1.0000    21551   92.86%\n",
      "     74    52        4.0000   102       14.0000        1.0000    38425   92.86%\n",
      "     82    80        4.0000     8       14.0000        1.0000    58283   92.86%\n",
      "     92    85        3.0000    24       14.0000        1.0000    62950   92.86%\n",
      "*    98+   79                            8.0000        1.0000            87.50%\n",
      "    105    92        2.0000   190        8.0000        1.0000    72855   87.50%\n",
      "    116   105        4.0000    51        8.0000        1.0000    81106   87.50%\n",
      "    125   108        4.0000     7        8.0000        1.0000    85435   87.50%\n",
      "    157   141        6.0000   168        8.0000        1.0000   125248   87.50%\n",
      "Elapsed time = 14.90 sec. (7602.72 ticks, tree = 0.18 MB, solutions = 10)\n",
      "    219   181        6.0000    53        8.0000        1.0000   164175   87.50%\n",
      "    326   247        6.0001    22        8.0000        1.0000   189491   87.50%\n",
      "    364   252        3.2000   220        8.0000        1.0000   221695   87.50%\n",
      "*   367+  215                            7.0000        1.0000            85.71%\n",
      "*   376+  214                            6.0000        1.0000            83.33%\n",
      "    406   240        4.0000    25        6.0000        1.0000   261962   83.33%\n",
      "    472   248        3.0000    48        6.0000        1.0000   337529   83.33%\n",
      "    590   263        cutoff              6.0000        1.0000   355976   83.33%\n",
      "    698   362        4.0000    45        6.0000        1.0000   404812   83.33%\n",
      "    848   404        3.0000   148        6.0000        1.0000   445016   83.33%\n",
      "   1021   470        4.0000   113        6.0000        1.0000   456067   83.33%\n",
      "   1277   539        4.0000    21        6.0000        1.0000   472292   83.33%\n",
      "Elapsed time = 36.99 sec. (17263.86 ticks, tree = 16.86 MB, solutions = 12)\n",
      "   1476   799        3.0000   172        6.0000        1.0000   511479   83.33%\n",
      "   1685   901        4.5000   148        6.0000        1.3798   530871   77.00%\n",
      "   1847  1178        3.0000   130        6.0000        1.5000   555742   75.00%\n",
      "   2065  1328        4.0000    31        6.0000        1.5000   583502   75.00%\n",
      "   2302  1586        4.0000    12        6.0000        1.5000   613446   75.00%\n",
      "   2687  1876        3.0000    20        6.0000        1.5000   636656   75.00%\n",
      "   2988  2256        4.0000    96        6.0000        1.5000   657810   75.00%\n",
      "   3368  2286        4.0000    53        6.0000        1.5000   665694   75.00%\n",
      "   3461  2515        4.0000    91        6.0000        1.5000   679799   75.00%\n",
      "   3462  2788        3.4337    24        6.0000        3.4337   710251   42.77%\n",
      "Elapsed time = 59.58 sec. (28251.89 ticks, tree = 117.02 MB, solutions = 12)\n",
      "   3464  2789        4.0000    27        6.0000        3.4511   712842   42.48%\n",
      "   3468  1859        4.0000    52        6.0000        3.5000   715222   41.67%\n",
      "   3494     9        4.0000    58        6.0000        3.5000   720515   41.67%\n",
      "   3543    27        4.3000    23        6.0000        3.5000   740812   41.67%\n",
      "   3618    21        3.9207   131        6.0000        3.5795   779197   40.34%\n",
      "   3697    25        cutoff              6.0000        3.5795   811208   40.34%\n",
      "   3776    74        cutoff              6.0000        3.5795   843685   40.34%\n",
      "   3885    97    infeasible              6.0000        3.8452   870091   35.91%\n",
      "   4015   130        cutoff              6.0000        3.8452   901849   35.91%\n",
      "   4164    25        cutoff              6.0000        3.8452   918596   35.91%\n",
      "Elapsed time = 81.35 sec. (38181.13 ticks, tree = 0.07 MB, solutions = 12)\n",
      "   4288    56        cutoff              6.0000        3.8452   939946   35.91%\n",
      "   4432    80        cutoff              6.0000        3.8452   971494   35.91%\n",
      "   4578    74        4.9836    38        6.0000        3.9770  1000092   33.72%\n",
      "   4637    75        4.6616    99        6.0000        4.0744   999280   32.09%\n",
      "   4680    37        4.7743    48        6.0000        4.0784  1027061   32.03%\n",
      "   4739    63        4.9394    31        6.0000        4.0784  1035297   32.03%\n",
      "   4828    88        cutoff              6.0000        4.1430  1086305   30.95%\n",
      "   4878   111        cutoff              6.0000        4.1430  1110224   30.95%\n",
      "   4933   114        4.5000    82        6.0000        4.1430  1131782   30.95%\n",
      "   4983   141        4.7333    48        6.0000        4.1430  1173617   30.95%\n",
      "Elapsed time = 107.00 sec. (48115.49 ticks, tree = 2.16 MB, solutions = 12)\n",
      "   5009   149        4.9000    58        6.0000        4.1430  1190570   30.95%\n",
      "   5073   147        cutoff              6.0000        4.3269  1210572   27.88%\n",
      "   5142   145        cutoff              6.0000        4.3830  1214787   26.95%\n",
      "   5236   108        cutoff              6.0000        4.4704  1274476   25.49%\n",
      "   5362    32        4.8750   132        6.0000        4.5373  1296880   24.38%\n",
      "\n",
      "Cover cuts applied:  52\n",
      "Zero-half cuts applied:  1\n",
      "\n",
      "Root node processing (before b&c):\n",
      "  Real time             =    6.73 sec. (4226.94 ticks)\n",
      "Parallel b&c, 8 threads:\n",
      "  Real time             =  112.71 sec. (49204.95 ticks)\n",
      "  Sync time (average)   =   13.40 sec.\n",
      "  Wait time (average)   =    0.02 sec.\n",
      "                          ------------\n",
      "Total (root+branch&cut) =  119.44 sec. (53431.89 ticks)\n",
      "Number of free lunch witnesses: 6\n",
      "List of free lunch witnesses: [876, 877, 878, 1226, 1518, 3645]\n",
      "Computed y lower bound 1.9451468585878234e-07\n"
     ]
    }
   ],
   "source": [
    "flw_index_list, y_lower_bound = model.findFreeLunchWitnesses()"
   ]
  }
 ],
 "metadata": {
  "kernelspec": {
   "display_name": "Python 3",
   "language": "python",
   "name": "python3"
  },
  "language_info": {
   "codemirror_mode": {
    "name": "ipython",
    "version": 3
   },
   "file_extension": ".py",
   "mimetype": "text/x-python",
   "name": "python",
   "nbconvert_exporter": "python",
   "pygments_lexer": "ipython3",
   "version": "3.5.2"
  }
 },
 "nbformat": 4,
 "nbformat_minor": 2
}
