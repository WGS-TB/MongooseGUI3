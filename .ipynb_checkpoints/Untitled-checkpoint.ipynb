{
 "cells": [
  {
   "cell_type": "code",
   "execution_count": 41,
   "metadata": {},
   "outputs": [],
   "source": [
    "%run -i 'ModelParsing.py'"
   ]
  },
  {
   "cell_type": "code",
   "execution_count": 68,
   "metadata": {},
   "outputs": [],
   "source": [
    "def checkElementalBalance(model_obj,reaction_num, r_without_formula, atoms_set, excluded_atoms_list):\n",
    "    temp_dic = {}\n",
    "    Imbalance_stat = False\n",
    "    for i in atoms_set:\n",
    "        temp_dic[i] = 0\n",
    "    if reaction_num not in r_without_formula:\n",
    "        r = model_obj.reactions[reaction_num]\n",
    "        for m in r.pairs:\n",
    "            for a in list(model_obj.metabolites[m[0]].species.description['formula'].keys()):\n",
    "                temp_dic[a] = temp_dic[a]+(m[1]*model_obj.metabolites[m[0]].species.description['formula'][a])\n",
    "    for k in excluded_atoms_list:\n",
    "        if (k in atoms_set and temp_dic[k]!=0):\n",
    "            return Imbalance_stat, temp_dic\n",
    "    for j in temp_dic:\n",
    "        if temp_dic[j]!=0:\n",
    "            Imbalance_stat = True\n",
    "    return Imbalance_stat, temp_dic"
   ]
  },
  {
   "cell_type": "code",
   "execution_count": 69,
   "metadata": {},
   "outputs": [],
   "source": [
    "def trueAtomsSet(model_obj,r_without_formula):\n",
    "    atoms_set = set()\n",
    "    for r in model_obj.reactions:\n",
    "        if r.index not in r_without_formula:\n",
    "            for m in r.pairs:\n",
    "                atoms_set = atoms_set.union(model_obj.metabolites[m[0]].species.description['formula'].keys())\n",
    "    print('List of atoms:',atoms_set)\n",
    "    excluded_atoms_list = [x.replace(\" \", \"\") for x in input('If you like to exclude any atom please write thier formula splited with comma. If no press enter.\\n example: if you want to exclude oxygen and hydrogen write O,H.\\n').split(',')]\n",
    "    return atoms_set,excluded_atoms_list"
   ]
  },
  {
   "cell_type": "code",
   "execution_count": 70,
   "metadata": {},
   "outputs": [],
   "source": [
    "def totalEBCHeck(model):\n",
    "    meta_with_formulas = [m.index for m in model.metabolites if len(m.species.description['formula'])!=0 ]\n",
    "    print('This model contains %d metabolites with assigned chemical formula'%len(meta_with_formulas))\n",
    "    r_without_formula =[r.index for r in model.reactions for m in r.pairs if m[0] not in meta_with_formulas]\n",
    "    print('This model contains %d reaction without complete set of chemical formulas'%len(set(r_without_formula)))\n",
    "    excluded_r = find_biomass_reaction_candidates(model)+find_import_export_reactions(model.fullMatrix)\n",
    "    excluded_r = r_without_formula + excluded_r\n",
    "    im_reaction_set = set()\n",
    "    if len(meta_with_formulas)!=0:\n",
    "        atoms_set,excluded_atoms_list = trueAtomsSet(model,excluded_r)\n",
    "        for r in model.reactions:\n",
    "            Imbalance_stat, temp_dic  = checkReactionBalance(model,r.index, excluded_r,atoms_set,excluded_atoms_list)\n",
    "            if Imbalance_stat:\n",
    "                im_reaction_set.add(r.index)\n",
    "        print('Number of imbalance reactions that we found:',len(im_reaction_set))\n",
    "    \n",
    "    return im_reaction_set"
   ]
  },
  {
   "cell_type": "code",
   "execution_count": 71,
   "metadata": {},
   "outputs": [
    {
     "name": "stdout",
     "output_type": "stream",
     "text": [
      "Warning: no candidate for extra, outside found in the list\n",
      "Warning: multiple candidates for biomass found in the list\n",
      "0) E. coli biomass objective function (iJO1366) - WT - with 53.95 GAM estimate 1) E. coli biomass objective function (iJO1366) - core - with 53.95 GAM estimate\n",
      "Please select the correct string from the list above and enter its number, or -1 if none \n",
      "0\n"
     ]
    }
   ],
   "source": [
    "model =parseSBML('/home/hzabeti/qsopt-ex/build/python-qsoptex/MongooseGUI3-1/Models/SBML/iWFL_1372.xml')\n"
   ]
  },
  {
   "cell_type": "code",
   "execution_count": 72,
   "metadata": {},
   "outputs": [
    {
     "name": "stdout",
     "output_type": "stream",
     "text": [
      "This model contains 1947 metabolites with assigned chemical formula\n",
      "This model contains 24 reaction without complete set of chemical formulas\n",
      "List of atoms: {'S', 'W', 'P', 'Zn', 'Na', 'R', 'X', 'Mn', 'Fe', 'Se', 'As', 'Ca', 'Cu', 'Cl', 'K', 'Ni', 'Mo', 'Cd', 'C', 'Hg', 'N', 'H', 'Co', 'Ag', 'O', 'Mg'}\n",
      "If you like to exclude any atom please write thier formula splited with comma. If no press enter.\n",
      " example: if you want to exclude oxygen and hydrogen write O,H.\n",
      "I, K, M, R, U, X, Y\n",
      "Number of imbalance reactions that we found: 21\n"
     ]
    }
   ],
   "source": [
    "im_reaction_set = totalEBCHeck(model)"
   ]
  },
  {
   "cell_type": "code",
   "execution_count": 73,
   "metadata": {},
   "outputs": [
    {
     "data": {
      "text/plain": [
       "{2693,\n",
       " 2699,\n",
       " 2701,\n",
       " 2704,\n",
       " 2712,\n",
       " 2713,\n",
       " 2716,\n",
       " 2724,\n",
       " 2728,\n",
       " 2730,\n",
       " 2735,\n",
       " 2736,\n",
       " 2737,\n",
       " 2738,\n",
       " 2739,\n",
       " 2740,\n",
       " 2743,\n",
       " 2749,\n",
       " 2750,\n",
       " 2756,\n",
       " 2761}"
      ]
     },
     "execution_count": 73,
     "metadata": {},
     "output_type": "execute_result"
    }
   ],
   "source": [
    "im_reaction_set"
   ]
  },
  {
   "cell_type": "code",
   "execution_count": 21,
   "metadata": {},
   "outputs": [
    {
     "name": "stdout",
     "output_type": "stream",
     "text": [
      "No Free Lunch condition: Satisfied!\n"
     ]
    },
    {
     "data": {
      "text/plain": [
       "([], [])"
      ]
     },
     "execution_count": 21,
     "metadata": {},
     "output_type": "execute_result"
    }
   ],
   "source": [
    "model.findFreeLunchMetabolites()"
   ]
  },
  {
   "cell_type": "code",
   "execution_count": 50,
   "metadata": {},
   "outputs": [
    {
     "data": {
      "text/plain": [
       "'Y'"
      ]
     },
     "execution_count": 50,
     "metadata": {},
     "output_type": "execute_result"
    }
   ],
   "source": [
    "a = 'Y'\n",
    "a.strip()"
   ]
  },
  {
   "cell_type": "code",
   "execution_count": null,
   "metadata": {},
   "outputs": [],
   "source": []
  }
 ],
 "metadata": {
  "kernelspec": {
   "display_name": "Python 3",
   "language": "python",
   "name": "python3"
  },
  "language_info": {
   "codemirror_mode": {
    "name": "ipython",
    "version": 3
   },
   "file_extension": ".py",
   "mimetype": "text/x-python",
   "name": "python",
   "nbconvert_exporter": "python",
   "pygments_lexer": "ipython3",
   "version": "3.5.2"
  }
 },
 "nbformat": 4,
 "nbformat_minor": 2
}
