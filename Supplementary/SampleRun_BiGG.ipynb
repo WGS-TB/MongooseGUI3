{
 "cells": [
  {
   "cell_type": "markdown",
   "metadata": {},
   "source": [
    "# BiGG Models"
   ]
  },
  {
   "cell_type": "markdown",
   "metadata": {},
   "source": [
    "This notebook contains all individually producible FL and FL witnesses for all models which include FL. "
   ]
  },
  {
   "cell_type": "code",
   "execution_count": null,
   "metadata": {},
   "outputs": [],
   "source": [
    "%run -i 'ModelParsing.py'"
   ]
  },
  {
   "cell_type": "code",
   "execution_count": 3,
   "metadata": {},
   "outputs": [],
   "source": [
    "import gc"
   ]
  },
  {
   "cell_type": "markdown",
   "metadata": {},
   "source": [
    "# 1"
   ]
  },
  {
   "cell_type": "code",
   "execution_count": 4,
   "metadata": {},
   "outputs": [
    {
     "name": "stdout",
     "output_type": "stream",
     "text": [
      "Warning: no candidate for extra, outside found in the list\n",
      "Warning: multiple candidates for biomass found in the list\n",
      "0) E. coli biomass objective function (iJO1366) - WT - with 53.95 GAM estimate 1) E. coli biomass objective function (iJO1366) - core - with 53.95 GAM estimate\n",
      "Please select the correct string from the list above and enter its number, or -1 if none \n",
      "0\n"
     ]
    }
   ],
   "source": [
    "model =parseSBML('/home/hzabeti/qsopt-ex/build/python-qsoptex/MongooseGUI3/Models/SBML/iECB_1328.xml')"
   ]
  },
  {
   "cell_type": "code",
   "execution_count": 5,
   "metadata": {},
   "outputs": [
    {
     "data": {
      "text/plain": [
       "{'ID': 'iECB_1328',\n",
       " 'Name': 'Escherichia coli B str. REL606',\n",
       " 'Source File': '/home/hzabeti/qsopt-ex/build/python-qsoptex/MongooseGUI3/Models/SBML/iECB_1328.xml'}"
      ]
     },
     "execution_count": 5,
     "metadata": {},
     "output_type": "execute_result"
    }
   ],
   "source": [
    "model.description"
   ]
  },
  {
   "cell_type": "code",
   "execution_count": 6,
   "metadata": {},
   "outputs": [
    {
     "name": "stdout",
     "output_type": "stream",
     "text": [
      "Warning: no candidate for extra, outside found in the list\n",
      "Warning: multiple candidates for biomass found in the list\n",
      "0) E. coli biomass objective function (iJO1366) - WT - with 53.95 GAM estimate 1) E. coli biomass objective function (iJO1366) - core - with 53.95 GAM estimate\n",
      "Please select the correct string from the list above and enter its number, or -1 if none \n",
      "0\n",
      "Number of individually producible free lunch metabolites 3\n",
      "[27, 290, 462] ['M_h_c', 'M_h_e', 'M_h_p']\n"
     ]
    },
    {
     "data": {
      "text/plain": [
       "0"
      ]
     },
     "execution_count": 6,
     "metadata": {},
     "output_type": "execute_result"
    }
   ],
   "source": [
    "ind_flm_index_list,ind_flm_list = model.findIndividuallyProducibleFLM()\n",
    "print(ind_flm_index_list,ind_flm_list)\n",
    "gc.collect()"
   ]
  },
  {
   "cell_type": "code",
   "execution_count": 6,
   "metadata": {},
   "outputs": [
    {
     "name": "stdout",
     "output_type": "stream",
     "text": [
      "parameters.mip.tolerances.integrality\n",
      "CPXPARAM_Simplex_Tolerances_Feasibility          1.0000000000000001e-09\n",
      "CPXPARAM_Read_DataCheck                          1\n",
      "CPXPARAM_MIP_Tolerances_Integrality              1.0000000000000001e-15\n",
      "Found incumbent of value 1043.000000 after 0.06 sec. (0.43 ticks)\n",
      "Tried aggregator 3 times.\n",
      "MIP Presolve eliminated 1139 rows and 1186 columns.\n",
      "MIP Presolve modified 3208 coefficients.\n",
      "Aggregator did 21 substitutions.\n",
      "Reduced MIP has 3550 rows, 3096 columns, and 19552 nonzeros.\n",
      "Reduced MIP has 1908 binaries, 17 generals, 0 SOSs, and 0 indicators.\n",
      "Presolve time = 0.07 sec. (24.61 ticks)\n",
      "Probing time = 0.00 sec. (0.26 ticks)\n",
      "Tried aggregator 1 time.\n",
      "Reduced MIP has 3550 rows, 3096 columns, and 19552 nonzeros.\n",
      "Reduced MIP has 1908 binaries, 17 generals, 0 SOSs, and 0 indicators.\n",
      "Presolve time = 0.02 sec. (7.42 ticks)\n",
      "Probing time = 0.00 sec. (0.26 ticks)\n",
      "MIP emphasis: balance optimality and feasibility.\n",
      "MIP search method: dynamic search.\n",
      "Parallel mode: deterministic, using up to 8 threads.\n",
      "Root relaxation solution time = 0.20 sec. (165.38 ticks)\n",
      "\n",
      "        Nodes                                         Cuts/\n",
      "   Node  Left     Objective  IInf  Best Integer    Best Bound    ItCnt     Gap\n",
      "\n",
      "*     0+    0                         1043.0000        0.0000           100.00%\n",
      "*     0+    0                          933.0000        0.0000           100.00%\n",
      "*     0+    0                          932.0000        0.0000           100.00%\n",
      "      0     0        0.0000     1      932.0000        0.0000     1534  100.00%\n",
      "*     0+    0                            1.0000        0.0000           100.00%\n",
      "      0     0        cutoff              1.0000                   1538    0.00%\n",
      "Elapsed time = 0.41 sec. (226.95 ticks, tree = 0.01 MB, solutions = 3)\n",
      "\n",
      "Cover cuts applied:  1\n",
      "\n",
      "Root node processing (before b&c):\n",
      "  Real time             =    0.42 sec. (227.28 ticks)\n",
      "Parallel b&c, 8 threads:\n",
      "  Real time             =    0.00 sec. (0.00 ticks)\n",
      "  Sync time (average)   =    0.00 sec.\n",
      "  Wait time (average)   =    0.00 sec.\n",
      "                          ------------\n",
      "Total (root+branch&cut) =    0.42 sec. (227.28 ticks)\n",
      "Number of free lunch witnesses: 1\n",
      "List of free lunch witnesses: [2691]\n",
      "Computed y lower bound 1.8674136321195145e-07\n"
     ]
    }
   ],
   "source": [
    "flw_index_list, y_lower_bound = model.findFreeLunchWitnesses()"
   ]
  },
  {
   "cell_type": "markdown",
   "metadata": {},
   "source": [
    "# 2"
   ]
  },
  {
   "cell_type": "code",
   "execution_count": 7,
   "metadata": {},
   "outputs": [
    {
     "name": "stdout",
     "output_type": "stream",
     "text": [
      "Warning: no candidate for extra, outside found in the list\n"
     ]
    }
   ],
   "source": [
    "model =parseSBML('/home/hzabeti/qsopt-ex/build/python-qsoptex/MongooseGUI3/Models/SBML/iNJ661.xml')"
   ]
  },
  {
   "cell_type": "code",
   "execution_count": 13,
   "metadata": {},
   "outputs": [
    {
     "name": "stdout",
     "output_type": "stream",
     "text": [
      "Number of individually producible free lunch metabolites 192\n",
      "[0, 2, 3, 4, 9, 22, 25, 44, 45, 46, 47, 48, 49, 50, 51, 52, 53, 54, 55, 57, 59, 61, 63, 64, 65, 66, 67, 68, 78, 79, 80, 82, 83, 84, 85, 90, 93, 94, 98, 106, 120, 121, 128, 130, 131, 145, 146, 149, 160, 170, 171, 220, 221, 222, 223, 244, 245, 246, 252, 253, 254, 255, 257, 258, 261, 270, 274, 279, 280, 281, 282, 283, 284, 286, 287, 305, 307, 308, 314, 318, 320, 321, 331, 332, 342, 344, 345, 361, 362, 363, 364, 365, 366, 367, 370, 383, 387, 392, 403, 406, 408, 409, 411, 413, 415, 420, 422, 428, 434, 437, 441, 442, 447, 481, 487, 488, 491, 492, 496, 497, 499, 500, 501, 502, 503, 511, 512, 513, 516, 517, 518, 519, 520, 521, 522, 523, 529, 535, 545, 548, 549, 550, 551, 553, 554, 555, 568, 572, 573, 574, 575, 579, 590, 591, 598, 609, 623, 624, 626, 635, 649, 650, 653, 688, 711, 717, 718, 720, 738, 748, 753, 770, 794, 795, 796, 797, 798, 799, 800, 801, 802, 803, 804, 805, 806, 807, 808, 809, 811, 812, 813, 814] ['M_dxyl_c', 'M_h_c', 'M_h2o_c', 'M_pyr_c', 'M_co2_c', 'M_h_e', 'M_2obut_c', 'M_tre_c', 'M_mycolate_c', 'M_kmycolate_c', 'M_tdm4_c', 'M_mkmycolate_c', 'M_tdm3_c', 'M_tdm2_c', 'M_mmmycolate_c', 'M_mmycolate_c', 'M_tdm1_c', 'M_hpmtria_c', 'M_omtta_c', 'M_hdca_c', 'M_tat_c', 'M_arab__D_c', 'M_tarab__D_c', 'M_tartr__L_c', 'M_tartr__L_e', 'M_succ_c', 'M_succ_e', 'M_oaa_c', 'M_fum_c', 'M_2shchc_c', 'M_sucbz_c', 'M_sucsal_c', 'M_o2_c', 'M_h2o2_c', 'M_o2s_c', 'M_akg_c', 'M_skm_e', 'M_skm_c', 'M_3dhsk_c', 'M_ichor_c', 'M_chor_c', 'M_salc_c', 'M_rrppdima_c', 'M_rppdima_c', 'M_ppdima_c', 'M_rib__D_c', 'M_rib__D_e', 'M_rbl__D_c', 'M_ac_c', 'M_pyr_e', 'M_acald_c', 'M_prepphth_c', 'M_prephth_c', 'M_fald_c', 'M_meoh_c', 'M_phpyr_c', 'M_pphn_c', 'M_34hpp_c', 'M_glc__D_c', 'M_ppdima_e', 'M_tamocta_c', 'M_pphthiocerol_c', 'M_ppa_c', 'M_hco3_c', 'M_ppa_e', 'M_ocdca_c', 'M_12dgr160_c', 'M_phthclh2_c', 'M_phthcl_c', 'M_pphthdl_c', 'M_phthdl_c', 'M_phthiocerol_c', 'M_mndn_c', 'M_phdca_e', 'M_phdca_c', 'M_glyclt_c', 'M_frrppdima_c', 'M_mfrrppdima_c', 'M_for_c', 'M_pacald_c', 'M_pdima_e', 'M_pdima_c', 'M_pat_c', 'M_tmlgnc_c', 'M_pant__R_c', 'M_pac_c', 'M_pac_e', 'M_3mob_c', 'M_2dhp_c', 'M_dhna_c', 'M_man_c', 'M_msa_c', 'M_ppal_c', 'M_2mop_c', 'M_inost_c', 'M_meoh_e', 'M_mal__L_c', 'M_bhb_c', 'M_mal__L_e', 'M_ocdcea_c', 'M_arach_c', 'M_tmha1_c', 'M_tmha2_c', 'M_tmha3_c', 'M_ttdca_c', 'M_glyc_c', 'M_hdcea_c', 'M_mbhn_c', 'M_mocdca_c', 'M_gal_c', 'M_tmha4_c', 'M_hexc_c', 'M_xylu__D_c', 'M_ttdca_e', 'M_triat_c', 'M_tre_e', 'M_tmha6_c', 'M_tmha5_c', 'M_malt_e', 'M_malt_c', 'M_glx_c', 'M_lac__L_e', 'M_lac__L_c', 'M_mql8_c', 'M_mqn8_c', 'M_4mop_c', 'M_lcts_e', 'M_lcts_c', 'M_2ahbut_c', 'M_23dhmp_c', 'M_23dhmb_c', 'M_alac__S_c', 'M_3c3hmp_c', 'M_2ippm_c', 'M_3c2hmp_c', 'M_3c4mop_c', 'M_3mop_c', 'M_icit_c', 'M_4h2opntn_c', 'M_hdca_e', 'M_harab__D_c', 'M_h2_c', 'M_h2_e', 'M_h2o_e', 'M_h2co3_e', 'M_h2co3_c', 'M_mharab__D_c', 'M_glyc_e', 'M_2dmmq8_c', 'M_2dmmql8_c', 'M_glyc__R_c', 'M_oxa_c', 'M_glc__D_e', 'M_glycogen_c', 'M_gal_e', 'M_fum_e', 'M_co_e', 'M_co2_e', 'M_cit_e', 'M_arab__D_e', 'M_acac_c', 'M_ocdca_e', 'M_o2_e', 'M_rmyc_c', 'M_3dhq_c', 'M_mql6_c', 'M_mqn6_c', 'M_2dmmq6_c', 'M_cit_c', 'M_co_c', 'M_4hbz_c', 'M_arabinan_c', 'M_hpmdtria_c', 'M_hmtria_c', 'M_omdtria_c', 'M_pmocta_c', 'M_tamhexc_c', 'M_hmocta_c', 'M_tmhexc_c', 'M_pmhexc_c', 'M_dmlgnc_c', 'M_dmbhn_c', 'M_tamlgnc_c', 'M_marach_c', 'M_tmbhn_c', 'M_dmarach_c', 'M_m1ocdca_c', 'M_octa_c', 'M_ttc_c', 'M_ddca_c', 'M_dca_c', 'M_homtta_c']\n"
     ]
    },
    {
     "data": {
      "text/plain": [
       "0"
      ]
     },
     "execution_count": 13,
     "metadata": {},
     "output_type": "execute_result"
    }
   ],
   "source": [
    "model.description\n",
    "ind_flm_index_list,ind_flm_list = model.findIndividuallyProducibleFLM()\n",
    "print(ind_flm_index_list,ind_flm_list)\n",
    "gc.collect()"
   ]
  },
  {
   "cell_type": "code",
   "execution_count": 8,
   "metadata": {},
   "outputs": [
    {
     "name": "stdout",
     "output_type": "stream",
     "text": [
      "parameters.mip.tolerances.integrality\n",
      "CPXPARAM_Simplex_Tolerances_Feasibility          1.0000000000000001e-09\n",
      "CPXPARAM_Read_DataCheck                          1\n",
      "CPXPARAM_MIP_Tolerances_Integrality              1.0000000000000001e-15\n",
      "Found incumbent of value 506.000000 after 0.00 sec. (0.19 ticks)\n",
      "Tried aggregator 2 times.\n",
      "MIP Presolve eliminated 294 rows and 287 columns.\n",
      "MIP Presolve modified 1279 coefficients.\n",
      "Aggregator did 6 substitutions.\n",
      "Reduced MIP has 1574 rows, 1468 columns, and 9293 nonzeros.\n",
      "Reduced MIP has 864 binaries, 3 generals, 0 SOSs, and 0 indicators.\n",
      "Presolve time = 0.01 sec. (8.21 ticks)\n",
      "Probing time = 0.00 sec. (0.17 ticks)\n",
      "Tried aggregator 1 time.\n",
      "Reduced MIP has 1574 rows, 1468 columns, and 9293 nonzeros.\n",
      "Reduced MIP has 864 binaries, 3 generals, 0 SOSs, and 0 indicators.\n",
      "Presolve time = 0.01 sec. (3.46 ticks)\n",
      "Probing time = 0.00 sec. (0.17 ticks)\n",
      "MIP emphasis: balance optimality and feasibility.\n",
      "MIP search method: dynamic search.\n",
      "Parallel mode: deterministic, using up to 8 threads.\n",
      "Root relaxation solution time = 0.08 sec. (52.03 ticks)\n",
      "\n",
      "        Nodes                                         Cuts/\n",
      "   Node  Left     Objective  IInf  Best Integer    Best Bound    ItCnt     Gap\n",
      "\n",
      "*     0+    0                          506.0000        0.0000           100.00%\n",
      "*     0+    0                          434.0000        0.0000           100.00%\n",
      "*     0+    0                          429.0000        0.0000           100.00%\n",
      "      0     0        0.0000    10      429.0000        0.0000      932  100.00%\n",
      "*     0+    0                           10.0000        0.0000           100.00%\n",
      "      0     0        1.0000     9       10.0000     Covers: 1      933   90.00%\n",
      "*     0+    0                            8.0000        1.0000            87.50%\n",
      "      0     0        2.0000     8        8.0000     Covers: 1      937   75.00%\n",
      "      0     0        2.0000     6        8.0000     Covers: 1      940   75.00%\n",
      "      0     0        3.0000    12        8.0000     Covers: 1     1288   62.50%\n",
      "      0     0        3.0000    10        8.0000     Covers: 1     1404   62.50%\n",
      "*     0+    0                            6.0000        3.0000            50.00%\n",
      "*     0+    0                            5.0000        3.0000            40.00%\n",
      "*     0+    0                            4.0000        3.0000            25.00%\n",
      "      0     0        cutoff              4.0000        3.5000     1404   12.50%\n",
      "Elapsed time = 0.78 sec. (362.75 ticks, tree = 0.01 MB, solutions = 7)\n",
      "\n",
      "Cover cuts applied:  5\n",
      "\n",
      "Root node processing (before b&c):\n",
      "  Real time             =    0.79 sec. (362.94 ticks)\n",
      "Parallel b&c, 8 threads:\n",
      "  Real time             =    0.00 sec. (0.00 ticks)\n",
      "  Sync time (average)   =    0.00 sec.\n",
      "  Wait time (average)   =    0.00 sec.\n",
      "                          ------------\n",
      "Total (root+branch&cut) =    0.79 sec. (362.94 ticks)\n",
      "Number of free lunch witnesses: 4\n",
      "List of free lunch witnesses: [44, 646, 647, 879]\n",
      "Computed y lower bound 2.554278416347382e-07\n"
     ]
    }
   ],
   "source": [
    "flw_index_list, y_lower_bound = model.findFreeLunchWitnesses()"
   ]
  },
  {
   "cell_type": "markdown",
   "metadata": {},
   "source": [
    "# 3"
   ]
  },
  {
   "cell_type": "code",
   "execution_count": 9,
   "metadata": {},
   "outputs": [
    {
     "name": "stdout",
     "output_type": "stream",
     "text": [
      "Warning: no candidate for extra, outside found in the list\n",
      "Warning: multiple candidates for biomass found in the list\n",
      "0) E. coli biomass objective function (iJO1366) - WT - with 53.95 GAM estimate 1) E. coli biomass objective function (iJO1366) - core - with 53.95 GAM estimate\n",
      "Please select the correct string from the list above and enter its number, or -1 if none \n",
      "0\n"
     ]
    }
   ],
   "source": [
    "model =parseSBML('/home/hzabeti/qsopt-ex/build/python-qsoptex/MongooseGUI3/Models/SBML/iY75_1357.xml')"
   ]
  },
  {
   "cell_type": "code",
   "execution_count": 10,
   "metadata": {},
   "outputs": [
    {
     "data": {
      "text/plain": [
       "{'ID': 'iY75_1357',\n",
       " 'Name': 'Escherichia coli str. K-12 substr. W3110',\n",
       " 'Source File': '/home/hzabeti/qsopt-ex/build/python-qsoptex/MongooseGUI3/Models/SBML/iY75_1357.xml'}"
      ]
     },
     "execution_count": 10,
     "metadata": {},
     "output_type": "execute_result"
    }
   ],
   "source": [
    "model.description"
   ]
  },
  {
   "cell_type": "code",
   "execution_count": 16,
   "metadata": {},
   "outputs": [
    {
     "name": "stdout",
     "output_type": "stream",
     "text": [
      "Number of individually producible free lunch metabolites 3\n",
      "[102, 290, 463] ['M_h_c', 'M_h_e', 'M_h_p']\n"
     ]
    },
    {
     "data": {
      "text/plain": [
       "0"
      ]
     },
     "execution_count": 16,
     "metadata": {},
     "output_type": "execute_result"
    }
   ],
   "source": [
    "ind_flm_index_list,ind_flm_list = model.findIndividuallyProducibleFLM()\n",
    "print(ind_flm_index_list,ind_flm_list)\n",
    "gc.collect()"
   ]
  },
  {
   "cell_type": "code",
   "execution_count": 11,
   "metadata": {},
   "outputs": [
    {
     "name": "stdout",
     "output_type": "stream",
     "text": [
      "parameters.mip.tolerances.integrality\n",
      "CPXPARAM_Simplex_Tolerances_Feasibility          1.0000000000000001e-09\n",
      "CPXPARAM_Read_DataCheck                          1\n",
      "CPXPARAM_MIP_Tolerances_Integrality              1.0000000000000001e-15\n",
      "Found incumbent of value 1044.000000 after 0.00 sec. (0.43 ticks)\n",
      "Tried aggregator 3 times.\n",
      "MIP Presolve eliminated 1118 rows and 1160 columns.\n",
      "MIP Presolve modified 3113 coefficients.\n",
      "Aggregator did 19 substitutions.\n",
      "Reduced MIP has 3595 rows, 3138 columns, and 19829 nonzeros.\n",
      "Reduced MIP has 1928 binaries, 16 generals, 0 SOSs, and 0 indicators.\n",
      "Presolve time = 0.02 sec. (24.38 ticks)\n",
      "Probing time = 0.00 sec. (0.27 ticks)\n",
      "Tried aggregator 1 time.\n",
      "Reduced MIP has 3595 rows, 3138 columns, and 19829 nonzeros.\n",
      "Reduced MIP has 1928 binaries, 16 generals, 0 SOSs, and 0 indicators.\n",
      "Presolve time = 0.01 sec. (7.53 ticks)\n",
      "Probing time = 0.02 sec. (0.27 ticks)\n",
      "MIP emphasis: balance optimality and feasibility.\n",
      "MIP search method: dynamic search.\n",
      "Parallel mode: deterministic, using up to 8 threads.\n",
      "Root relaxation solution time = 0.17 sec. (144.16 ticks)\n",
      "\n",
      "        Nodes                                         Cuts/\n",
      "   Node  Left     Objective  IInf  Best Integer    Best Bound    ItCnt     Gap\n",
      "\n",
      "*     0+    0                         1044.0000        0.0000           100.00%\n",
      "*     0+    0                          951.0000        0.0000           100.00%\n",
      "*     0+    0                          948.0000        0.0000           100.00%\n",
      "      0     0        0.0000     1      948.0000        0.0000     1447  100.00%\n",
      "*     0+    0                            1.0000        0.0000           100.00%\n",
      "      0     0        cutoff              1.0000                   1451    0.00%\n",
      "Elapsed time = 0.28 sec. (208.63 ticks, tree = 0.01 MB, solutions = 3)\n",
      "\n",
      "Cover cuts applied:  1\n",
      "\n",
      "Root node processing (before b&c):\n",
      "  Real time             =    0.29 sec. (208.96 ticks)\n",
      "Parallel b&c, 8 threads:\n",
      "  Real time             =    0.00 sec. (0.00 ticks)\n",
      "  Sync time (average)   =    0.00 sec.\n",
      "  Wait time (average)   =    0.00 sec.\n",
      "                          ------------\n",
      "Total (root+branch&cut) =    0.29 sec. (208.96 ticks)\n",
      "Number of free lunch witnesses: 1\n",
      "List of free lunch witnesses: [2727]\n",
      "Computed y lower bound 1.8674136321195145e-07\n"
     ]
    }
   ],
   "source": [
    "flw_index_list, y_lower_bound = model.findFreeLunchWitnesses()"
   ]
  },
  {
   "cell_type": "markdown",
   "metadata": {},
   "source": [
    "# 4"
   ]
  },
  {
   "cell_type": "code",
   "execution_count": 12,
   "metadata": {},
   "outputs": [
    {
     "name": "stdout",
     "output_type": "stream",
     "text": [
      "Warning: no candidate for extra, outside found in the list\n"
     ]
    }
   ],
   "source": [
    "model =parseSBML('/home/hzabeti/qsopt-ex/build/python-qsoptex/MongooseGUI3/Models/SBML/iMM1415.xml')"
   ]
  },
  {
   "cell_type": "code",
   "execution_count": 13,
   "metadata": {},
   "outputs": [
    {
     "data": {
      "text/plain": [
       "{'ID': 'iMM1415',\n",
       " 'Name': 'Mus musculus',\n",
       " 'Source File': '/home/hzabeti/qsopt-ex/build/python-qsoptex/MongooseGUI3/Models/SBML/iMM1415.xml'}"
      ]
     },
     "execution_count": 13,
     "metadata": {},
     "output_type": "execute_result"
    }
   ],
   "source": [
    "model.description"
   ]
  },
  {
   "cell_type": "code",
   "execution_count": 19,
   "metadata": {},
   "outputs": [
    {
     "name": "stdout",
     "output_type": "stream",
     "text": [
      "Number of individually producible free lunch metabolites 41\n",
      "[319, 549, 551, 552, 722, 723, 1218, 1219, 1220, 1288, 1289, 1445, 1566, 1567, 1723, 1787, 1788, 1789, 2058, 2104, 2139, 2141, 2142, 2208, 2209, 2326, 2353, 2354, 2355, 2374, 2375, 2451, 2524, 2525, 2569, 2680, 2708, 2709, 2710, 2732, 2733] ['M_coa_c', 'M_h_c', 'M_h2o_c', 'M_h2o2_c', 'M_o2_c', 'M_o2s_c', 'M_h_e', 'M_h2o_e', 'M_h2o2_e', 'M_o2_e', 'M_o2s_e', 'M_coa_g', 'M_h_g', 'M_h2o_g', 'M_coa_l', 'M_h_l', 'M_h2o_l', 'M_h2o2_l', 'M_coa_m', 'M_e_m', 'M_h_m', 'M_h2o_m', 'M_h2o2_m', 'M_o2_m', 'M_o2s_m', 'M_coa_n', 'M_h_n', 'M_h2o_n', 'M_h2o2_n', 'M_o2_n', 'M_o2s_n', 'M_coa_r', 'M_h_r', 'M_h2o_r', 'M_o2_r', 'M_coa_x', 'M_h_x', 'M_h2o_x', 'M_h2o2_x', 'M_o2_x', 'M_o2s_x']\n"
     ]
    },
    {
     "data": {
      "text/plain": [
       "0"
      ]
     },
     "execution_count": 19,
     "metadata": {},
     "output_type": "execute_result"
    }
   ],
   "source": [
    "ind_flm_index_list,ind_flm_list = model.findIndividuallyProducibleFLM()\n",
    "print(ind_flm_index_list,ind_flm_list)\n",
    "gc.collect()"
   ]
  },
  {
   "cell_type": "code",
   "execution_count": 14,
   "metadata": {},
   "outputs": [
    {
     "name": "stdout",
     "output_type": "stream",
     "text": [
      "parameters.mip.tolerances.integrality\n",
      "CPXPARAM_Simplex_Tolerances_Feasibility          1.0000000000000001e-09\n",
      "CPXPARAM_Read_DataCheck                          1\n",
      "CPXPARAM_MIP_Tolerances_Integrality              1.0000000000000001e-15\n",
      "Found incumbent of value 1185.000000 after 0.00 sec. (0.59 ticks)\n",
      "Tried aggregator 3 times.\n",
      "MIP Presolve eliminated 1308 rows and 1350 columns.\n",
      "MIP Presolve modified 4012 coefficients.\n",
      "Aggregator did 51 substitutions.\n",
      "Reduced MIP has 5183 rows, 4637 columns, and 26967 nonzeros.\n",
      "Reduced MIP has 2749 binaries, 40 generals, 0 SOSs, and 0 indicators.\n",
      "Presolve time = 0.04 sec. (27.43 ticks)\n",
      "Probing time = 0.00 sec. (0.38 ticks)\n",
      "Tried aggregator 1 time.\n",
      "MIP Presolve eliminated 1 rows and 0 columns.\n",
      "Reduced MIP has 5182 rows, 4636 columns, and 26960 nonzeros.\n",
      "Reduced MIP has 2748 binaries, 40 generals, 0 SOSs, and 0 indicators.\n",
      "Presolve time = 0.02 sec. (10.68 ticks)\n",
      "Probing time = 0.02 sec. (0.37 ticks)\n",
      "MIP emphasis: balance optimality and feasibility.\n",
      "MIP search method: dynamic search.\n",
      "Parallel mode: deterministic, using up to 8 threads.\n",
      "Root relaxation solution time = 0.90 sec. (692.30 ticks)\n",
      "\n",
      "        Nodes                                         Cuts/\n",
      "   Node  Left     Objective  IInf  Best Integer    Best Bound    ItCnt     Gap\n",
      "\n",
      "*     0+    0                         1185.0000        0.0000           100.00%\n",
      "*     0+    0                         1014.0000        0.0000           100.00%\n",
      "*     0+    0                          937.0000        0.0000           100.00%\n",
      "*     0+    0                          898.0000        0.0000           100.00%\n",
      "*     0+    0                          890.0000        0.0000           100.00%\n",
      "*     0+    0                          857.0000        0.0000           100.00%\n",
      "*     0+    0                          853.0000        0.0000           100.00%\n",
      "      0     0        0.0000    59      853.0000        0.0000     4303  100.00%\n",
      "*     0+    0                           59.0000        0.0000           100.00%\n",
      "      0     0        1.0000   111       59.0000     Covers: 1     5815   98.31%\n",
      "*     0+    0                           48.0000        1.0000            97.92%\n",
      "      0     0        1.0000   112       48.0000     Covers: 1     6376   97.92%\n",
      "*     0+    0                           14.0000        1.0000            92.86%\n",
      "      0     0        1.0000   122       14.0000     Covers: 1     7039   92.86%\n",
      "      0     0        1.0000   122       14.0000     Covers: 1     7041   92.86%\n",
      "      0     2        1.0000   122       14.0000        1.0000     7041   92.86%\n",
      "Elapsed time = 7.11 sec. (4277.96 ticks, tree = 0.01 MB, solutions = 9)\n",
      "     34     9        2.0000   124       14.0000        1.0000     8892   92.86%\n",
      "     48    24        2.0000   156       14.0000        1.0000    11328   92.86%\n",
      "     63    41        2.0000   173       14.0000        1.0000    21551   92.86%\n",
      "     74    52        4.0000   102       14.0000        1.0000    38425   92.86%\n",
      "     82    80        4.0000     8       14.0000        1.0000    58283   92.86%\n",
      "     92    85        3.0000    24       14.0000        1.0000    62950   92.86%\n",
      "*    98+   79                            8.0000        1.0000            87.50%\n",
      "    105    92        2.0000   190        8.0000        1.0000    72855   87.50%\n",
      "    116   105        4.0000    51        8.0000        1.0000    81106   87.50%\n",
      "    125   108        4.0000     7        8.0000        1.0000    85435   87.50%\n",
      "    157   141        6.0000   168        8.0000        1.0000   125248   87.50%\n",
      "Elapsed time = 14.73 sec. (7602.72 ticks, tree = 0.18 MB, solutions = 10)\n",
      "    219   181        6.0000    53        8.0000        1.0000   164175   87.50%\n",
      "    326   247        6.0001    22        8.0000        1.0000   189491   87.50%\n",
      "    364   252        3.2000   220        8.0000        1.0000   221695   87.50%\n",
      "*   367+  215                            7.0000        1.0000            85.71%\n",
      "*   376+  214                            6.0000        1.0000            83.33%\n",
      "    406   240        4.0000    25        6.0000        1.0000   261962   83.33%\n",
      "    472   248        3.0000    48        6.0000        1.0000   337529   83.33%\n",
      "    590   263        cutoff              6.0000        1.0000   355976   83.33%\n",
      "    698   362        4.0000    45        6.0000        1.0000   404812   83.33%\n",
      "    848   404        3.0000   148        6.0000        1.0000   445016   83.33%\n",
      "   1021   470        4.0000   113        6.0000        1.0000   456067   83.33%\n",
      "   1277   539        4.0000    21        6.0000        1.0000   472292   83.33%\n",
      "Elapsed time = 35.97 sec. (17263.86 ticks, tree = 16.86 MB, solutions = 12)\n",
      "   1476   799        3.0000   172        6.0000        1.0000   511479   83.33%\n",
      "   1685   901        4.5000   148        6.0000        1.3798   530871   77.00%\n",
      "   1847  1178        3.0000   130        6.0000        1.5000   555742   75.00%\n",
      "   2065  1328        4.0000    31        6.0000        1.5000   583502   75.00%\n",
      "   2302  1586        4.0000    12        6.0000        1.5000   613446   75.00%\n",
      "   2687  1876        3.0000    20        6.0000        1.5000   636656   75.00%\n",
      "   2988  2256        4.0000    96        6.0000        1.5000   657810   75.00%\n",
      "   3368  2286        4.0000    53        6.0000        1.5000   665694   75.00%\n",
      "   3461  2515        4.0000    91        6.0000        1.5000   679799   75.00%\n",
      "   3462  2788        3.4337    24        6.0000        3.4337   710251   42.77%\n",
      "Elapsed time = 57.48 sec. (28251.89 ticks, tree = 117.02 MB, solutions = 12)\n",
      "   3464  2789        4.0000    27        6.0000        3.4511   712842   42.48%\n",
      "   3468  1859        4.0000    52        6.0000        3.5000   715222   41.67%\n",
      "   3494     9        4.0000    58        6.0000        3.5000   720515   41.67%\n",
      "   3543    27        4.3000    23        6.0000        3.5000   740812   41.67%\n",
      "   3618    21        3.9207   131        6.0000        3.5795   779197   40.34%\n",
      "   3697    25        cutoff              6.0000        3.5795   811208   40.34%\n",
      "   3776    74        cutoff              6.0000        3.5795   843685   40.34%\n",
      "   3885    97    infeasible              6.0000        3.8452   870091   35.91%\n",
      "   4015   130        cutoff              6.0000        3.8452   901849   35.91%\n",
      "   4164    25        cutoff              6.0000        3.8452   918596   35.91%\n",
      "Elapsed time = 77.44 sec. (38181.13 ticks, tree = 0.13 MB, solutions = 12)\n",
      "   4288    56        cutoff              6.0000        3.8452   939946   35.91%\n",
      "   4432    80        cutoff              6.0000        3.8452   971494   35.91%\n",
      "   4578    74        4.9836    38        6.0000        3.9770  1000092   33.72%\n",
      "   4637    75        4.6616    99        6.0000        4.0744   999280   32.09%\n",
      "   4680    37        4.7743    48        6.0000        4.0784  1027061   32.03%\n",
      "   4739    63        4.9394    31        6.0000        4.0784  1035297   32.03%\n",
      "   4828    88        cutoff              6.0000        4.1430  1086305   30.95%\n",
      "   4878   111        cutoff              6.0000        4.1430  1110224   30.95%\n",
      "   4933   114        4.5000    82        6.0000        4.1430  1131782   30.95%\n",
      "   4983   141        4.7333    48        6.0000        4.1430  1173617   30.95%\n",
      "Elapsed time = 102.15 sec. (48115.49 ticks, tree = 2.16 MB, solutions = 12)\n",
      "   5009   149        4.9000    58        6.0000        4.1430  1190570   30.95%\n",
      "   5073   147        cutoff              6.0000        4.3269  1210572   27.88%\n",
      "   5142   145        cutoff              6.0000        4.3830  1214787   26.95%\n",
      "   5236   108        cutoff              6.0000        4.4704  1274476   25.49%\n",
      "   5362    32        4.8750   132        6.0000        4.5373  1296880   24.38%\n",
      "\n",
      "Cover cuts applied:  52\n",
      "Zero-half cuts applied:  1\n",
      "\n",
      "Root node processing (before b&c):\n",
      "  Real time             =    7.00 sec. (4226.94 ticks)\n",
      "Parallel b&c, 8 threads:\n",
      "  Real time             =  106.68 sec. (49204.95 ticks)\n",
      "  Sync time (average)   =   10.58 sec.\n",
      "  Wait time (average)   =    0.03 sec.\n",
      "                          ------------\n",
      "Total (root+branch&cut) =  113.68 sec. (53431.89 ticks)\n",
      "Number of free lunch witnesses: 6\n",
      "List of free lunch witnesses: [876, 877, 878, 1226, 1518, 3645]\n",
      "Computed y lower bound 1.9451468585878234e-07\n"
     ]
    }
   ],
   "source": [
    "flw_index_list, y_lower_bound = model.findFreeLunchWitnesses()"
   ]
  },
  {
   "cell_type": "markdown",
   "metadata": {},
   "source": [
    "# 5"
   ]
  },
  {
   "cell_type": "code",
   "execution_count": 15,
   "metadata": {},
   "outputs": [
    {
     "name": "stdout",
     "output_type": "stream",
     "text": [
      "Warning: no candidate for extra, outside found in the list\n",
      "Warning: multiple candidates for biomass found in the list\n",
      "0) E. coli biomass objective function (iJO1366) - WT - with 53.95 GAM estimate 1) E. coli biomass objective function (iJO1366) - core - with 53.95 GAM estimate\n",
      "Please select the correct string from the list above and enter its number, or -1 if none \n",
      "0\n"
     ]
    }
   ],
   "source": [
    "model =parseSBML('/home/hzabeti/qsopt-ex/build/python-qsoptex/MongooseGUI3/Models/SBML/iECO103_1326.xml')"
   ]
  },
  {
   "cell_type": "code",
   "execution_count": 16,
   "metadata": {},
   "outputs": [
    {
     "data": {
      "text/plain": [
       "{'ID': 'iECO103_1326',\n",
       " 'Name': 'Escherichia coli O103:H2 str. 12009',\n",
       " 'Source File': '/home/hzabeti/qsopt-ex/build/python-qsoptex/MongooseGUI3/Models/SBML/iECO103_1326.xml'}"
      ]
     },
     "execution_count": 16,
     "metadata": {},
     "output_type": "execute_result"
    }
   ],
   "source": [
    "model.description"
   ]
  },
  {
   "cell_type": "code",
   "execution_count": 22,
   "metadata": {},
   "outputs": [
    {
     "name": "stdout",
     "output_type": "stream",
     "text": [
      "Number of individually producible free lunch metabolites 3\n",
      "[17, 290, 462] ['M_h_c', 'M_h_e', 'M_h_p']\n"
     ]
    },
    {
     "data": {
      "text/plain": [
       "0"
      ]
     },
     "execution_count": 22,
     "metadata": {},
     "output_type": "execute_result"
    }
   ],
   "source": [
    "ind_flm_index_list,ind_flm_list = model.findIndividuallyProducibleFLM()\n",
    "print(ind_flm_index_list,ind_flm_list)\n",
    "gc.collect()"
   ]
  },
  {
   "cell_type": "code",
   "execution_count": 17,
   "metadata": {},
   "outputs": [
    {
     "name": "stdout",
     "output_type": "stream",
     "text": [
      "parameters.mip.tolerances.integrality\n",
      "CPXPARAM_Simplex_Tolerances_Feasibility          1.0000000000000001e-09\n",
      "CPXPARAM_Read_DataCheck                          1\n",
      "CPXPARAM_MIP_Tolerances_Integrality              1.0000000000000001e-15\n",
      "Found incumbent of value 1032.000000 after 0.00 sec. (0.43 ticks)\n",
      "Tried aggregator 4 times.\n",
      "MIP Presolve eliminated 1137 rows and 1185 columns.\n",
      "MIP Presolve modified 3166 coefficients.\n",
      "Aggregator did 22 substitutions.\n",
      "Reduced MIP has 3571 rows, 3114 columns, and 19641 nonzeros.\n",
      "Reduced MIP has 1918 binaries, 16 generals, 0 SOSs, and 0 indicators.\n",
      "Presolve time = 0.03 sec. (26.80 ticks)\n",
      "Probing time = 0.00 sec. (0.26 ticks)\n",
      "Tried aggregator 1 time.\n",
      "Reduced MIP has 3571 rows, 3114 columns, and 19641 nonzeros.\n",
      "Reduced MIP has 1918 binaries, 16 generals, 0 SOSs, and 0 indicators.\n",
      "Presolve time = 0.01 sec. (7.46 ticks)\n",
      "Probing time = 0.00 sec. (0.26 ticks)\n",
      "MIP emphasis: balance optimality and feasibility.\n",
      "MIP search method: dynamic search.\n",
      "Parallel mode: deterministic, using up to 8 threads.\n",
      "Root relaxation solution time = 0.19 sec. (149.44 ticks)\n",
      "\n",
      "        Nodes                                         Cuts/\n",
      "   Node  Left     Objective  IInf  Best Integer    Best Bound    ItCnt     Gap\n",
      "\n",
      "*     0+    0                         1032.0000        0.0000           100.00%\n",
      "*     0+    0                          933.0000        0.0000           100.00%\n",
      "*     0+    0                          928.0000        0.0000           100.00%\n",
      "      0     0        0.0000     2      928.0000        0.0000     1454  100.00%\n",
      "*     0+    0                            2.0000        0.0000           100.00%\n",
      "      0     0        1.0000     1        2.0000     Covers: 1     1460   50.00%\n",
      "      0     0        cutoff              2.0000                   1463    0.00%\n",
      "Elapsed time = 0.31 sec. (228.30 ticks, tree = 0.01 MB, solutions = 3)\n",
      "\n",
      "Cover cuts applied:  2\n",
      "\n",
      "Root node processing (before b&c):\n",
      "  Real time             =    0.32 sec. (228.63 ticks)\n",
      "Parallel b&c, 8 threads:\n",
      "  Real time             =    0.00 sec. (0.00 ticks)\n",
      "  Sync time (average)   =    0.00 sec.\n",
      "  Wait time (average)   =    0.00 sec.\n",
      "                          ------------\n",
      "Total (root+branch&cut) =    0.32 sec. (228.63 ticks)\n",
      "Number of free lunch witnesses: 2\n",
      "List of free lunch witnesses: [2693, 2706]\n",
      "Computed y lower bound 1.8674136321195145e-07\n"
     ]
    }
   ],
   "source": [
    "flw_index_list, y_lower_bound = model.findFreeLunchWitnesses()"
   ]
  },
  {
   "cell_type": "markdown",
   "metadata": {},
   "source": [
    "# 6"
   ]
  },
  {
   "cell_type": "code",
   "execution_count": 18,
   "metadata": {},
   "outputs": [
    {
     "name": "stdout",
     "output_type": "stream",
     "text": [
      "Warning: no candidate for extra, outside found in the list\n",
      "Warning: multiple candidates for biomass found in the list\n",
      "0) E. coli biomass objective function (iJO1366) - WT - with 53.95 GAM estimate 1) E. coli biomass objective function (iJO1366) - core - with 53.95 GAM estimate\n",
      "Please select the correct string from the list above and enter its number, or -1 if none \n",
      "0\n"
     ]
    }
   ],
   "source": [
    "model =parseSBML('/home/hzabeti/qsopt-ex/build/python-qsoptex/MongooseGUI3/Models/SBML/iECUMN_1333.xml')"
   ]
  },
  {
   "cell_type": "code",
   "execution_count": 19,
   "metadata": {},
   "outputs": [
    {
     "data": {
      "text/plain": [
       "{'ID': 'iECUMN_1333',\n",
       " 'Name': 'Escherichia coli UMN026',\n",
       " 'Source File': '/home/hzabeti/qsopt-ex/build/python-qsoptex/MongooseGUI3/Models/SBML/iECUMN_1333.xml'}"
      ]
     },
     "execution_count": 19,
     "metadata": {},
     "output_type": "execute_result"
    }
   ],
   "source": [
    "model.description"
   ]
  },
  {
   "cell_type": "code",
   "execution_count": 25,
   "metadata": {},
   "outputs": [
    {
     "name": "stdout",
     "output_type": "stream",
     "text": [
      "Number of individually producible free lunch metabolites 3\n",
      "[57, 290, 462] ['M_h_c', 'M_h_e', 'M_h_p']\n"
     ]
    },
    {
     "data": {
      "text/plain": [
       "0"
      ]
     },
     "execution_count": 25,
     "metadata": {},
     "output_type": "execute_result"
    }
   ],
   "source": [
    "ind_flm_index_list,ind_flm_list = model.findIndividuallyProducibleFLM()\n",
    "print(ind_flm_index_list,ind_flm_list)\n",
    "gc.collect()"
   ]
  },
  {
   "cell_type": "code",
   "execution_count": 20,
   "metadata": {},
   "outputs": [
    {
     "name": "stdout",
     "output_type": "stream",
     "text": [
      "parameters.mip.tolerances.integrality\n",
      "CPXPARAM_Simplex_Tolerances_Feasibility          1.0000000000000001e-09\n",
      "CPXPARAM_Read_DataCheck                          1\n",
      "CPXPARAM_MIP_Tolerances_Integrality              1.0000000000000001e-15\n",
      "Found incumbent of value 1032.000000 after 0.00 sec. (0.43 ticks)\n",
      "Tried aggregator 3 times.\n",
      "MIP Presolve eliminated 1108 rows and 1156 columns.\n",
      "MIP Presolve modified 3085 coefficients.\n",
      "Aggregator did 19 substitutions.\n",
      "Reduced MIP has 3567 rows, 3105 columns, and 19609 nonzeros.\n",
      "Reduced MIP has 1916 binaries, 16 generals, 0 SOSs, and 0 indicators.\n",
      "Presolve time = 0.02 sec. (24.09 ticks)\n",
      "Probing time = 0.00 sec. (0.26 ticks)\n",
      "Tried aggregator 1 time.\n",
      "Reduced MIP has 3567 rows, 3105 columns, and 19609 nonzeros.\n",
      "Reduced MIP has 1916 binaries, 16 generals, 0 SOSs, and 0 indicators.\n",
      "Presolve time = 0.01 sec. (7.45 ticks)\n",
      "Probing time = 0.00 sec. (0.26 ticks)\n",
      "MIP emphasis: balance optimality and feasibility.\n",
      "MIP search method: dynamic search.\n",
      "Parallel mode: deterministic, using up to 8 threads.\n",
      "Root relaxation solution time = 0.22 sec. (150.83 ticks)\n",
      "\n",
      "        Nodes                                         Cuts/\n",
      "   Node  Left     Objective  IInf  Best Integer    Best Bound    ItCnt     Gap\n",
      "\n",
      "*     0+    0                         1032.0000        0.0000           100.00%\n",
      "*     0+    0                          934.0000        0.0000           100.00%\n",
      "*     0+    0                          932.0000        0.0000           100.00%\n",
      "      0     0        0.0000     1      932.0000        0.0000     1425  100.00%\n",
      "*     0+    0                            1.0000        0.0000           100.00%\n",
      "      0     0        cutoff              1.0000                   1429    0.00%\n",
      "Elapsed time = 0.31 sec. (212.09 ticks, tree = 0.01 MB, solutions = 3)\n",
      "\n",
      "Cover cuts applied:  1\n",
      "\n",
      "Root node processing (before b&c):\n",
      "  Real time             =    0.32 sec. (212.42 ticks)\n",
      "Parallel b&c, 8 threads:\n",
      "  Real time             =    0.00 sec. (0.00 ticks)\n",
      "  Sync time (average)   =    0.00 sec.\n",
      "  Wait time (average)   =    0.00 sec.\n",
      "                          ------------\n",
      "Total (root+branch&cut) =    0.32 sec. (212.42 ticks)\n",
      "Number of free lunch witnesses: 1\n",
      "List of free lunch witnesses: [2690]\n",
      "Computed y lower bound 1.9098548510313216e-07\n"
     ]
    }
   ],
   "source": [
    "flw_index_list, y_lower_bound = model.findFreeLunchWitnesses()"
   ]
  },
  {
   "cell_type": "markdown",
   "metadata": {},
   "source": [
    "# 7"
   ]
  },
  {
   "cell_type": "code",
   "execution_count": 21,
   "metadata": {},
   "outputs": [
    {
     "name": "stdout",
     "output_type": "stream",
     "text": [
      "Warning: no candidate for extra, outside found in the list\n",
      "Warning: multiple candidates for biomass found in the list\n",
      "0) E. coli biomass objective function (iJO1366) - WT - with 53.95 GAM estimate 1) E. coli biomass objective function (iJO1366) - core - with 53.95 GAM estimate\n",
      "Please select the correct string from the list above and enter its number, or -1 if none \n",
      "0\n"
     ]
    }
   ],
   "source": [
    "model =parseSBML('/home/hzabeti/qsopt-ex/build/python-qsoptex/MongooseGUI3/Models/SBML/iEcolC_1368.xml')"
   ]
  },
  {
   "cell_type": "code",
   "execution_count": 22,
   "metadata": {},
   "outputs": [
    {
     "data": {
      "text/plain": [
       "{'ID': 'iEcolC_1368',\n",
       " 'Name': 'Escherichia coli ATCC 8739',\n",
       " 'Source File': '/home/hzabeti/qsopt-ex/build/python-qsoptex/MongooseGUI3/Models/SBML/iEcolC_1368.xml'}"
      ]
     },
     "execution_count": 22,
     "metadata": {},
     "output_type": "execute_result"
    }
   ],
   "source": [
    "model.description"
   ]
  },
  {
   "cell_type": "code",
   "execution_count": 28,
   "metadata": {},
   "outputs": [
    {
     "name": "stdout",
     "output_type": "stream",
     "text": [
      "Number of individually producible free lunch metabolites 3\n",
      "[95, 290, 462] ['M_h_c', 'M_h_e', 'M_h_p']\n"
     ]
    },
    {
     "data": {
      "text/plain": [
       "0"
      ]
     },
     "execution_count": 28,
     "metadata": {},
     "output_type": "execute_result"
    }
   ],
   "source": [
    "ind_flm_index_list,ind_flm_list = model.findIndividuallyProducibleFLM()\n",
    "print(ind_flm_index_list,ind_flm_list)\n",
    "gc.collect()"
   ]
  },
  {
   "cell_type": "code",
   "execution_count": 23,
   "metadata": {},
   "outputs": [
    {
     "name": "stdout",
     "output_type": "stream",
     "text": [
      "parameters.mip.tolerances.integrality\n",
      "CPXPARAM_Simplex_Tolerances_Feasibility          1.0000000000000001e-09\n",
      "CPXPARAM_Read_DataCheck                          1\n",
      "CPXPARAM_MIP_Tolerances_Integrality              1.0000000000000001e-15\n",
      "Found incumbent of value 1049.000000 after 0.00 sec. (0.44 ticks)\n",
      "Tried aggregator 3 times.\n",
      "MIP Presolve eliminated 1146 rows and 1191 columns.\n",
      "MIP Presolve modified 3221 coefficients.\n",
      "Aggregator did 19 substitutions.\n",
      "Reduced MIP has 3585 rows, 3131 columns, and 19734 nonzeros.\n",
      "Reduced MIP has 1929 binaries, 15 generals, 0 SOSs, and 0 indicators.\n",
      "Presolve time = 0.02 sec. (24.74 ticks)\n",
      "Probing time = 0.00 sec. (0.27 ticks)\n",
      "Tried aggregator 1 time.\n",
      "Reduced MIP has 3585 rows, 3131 columns, and 19734 nonzeros.\n",
      "Reduced MIP has 1929 binaries, 15 generals, 0 SOSs, and 0 indicators.\n",
      "Presolve time = 0.01 sec. (7.50 ticks)\n",
      "Probing time = 0.02 sec. (0.27 ticks)\n",
      "MIP emphasis: balance optimality and feasibility.\n",
      "MIP search method: dynamic search.\n",
      "Parallel mode: deterministic, using up to 8 threads.\n",
      "Root relaxation solution time = 0.19 sec. (160.04 ticks)\n",
      "\n",
      "        Nodes                                         Cuts/\n",
      "   Node  Left     Objective  IInf  Best Integer    Best Bound    ItCnt     Gap\n",
      "\n",
      "*     0+    0                         1049.0000        0.0000           100.00%\n",
      "*     0+    0                          939.0000        0.0000           100.00%\n",
      "*     0+    0                          936.0000        0.0000           100.00%\n",
      "      0     0        0.0000     2      936.0000        0.0000     1483  100.00%\n",
      "*     0+    0                            2.0000        0.0000           100.00%\n",
      "      0     0        1.0000     3        2.0000     Covers: 1     1562   50.00%\n",
      "      0     0        cutoff              2.0000                   1570    0.00%\n",
      "Elapsed time = 0.34 sec. (244.08 ticks, tree = 0.01 MB, solutions = 3)\n",
      "\n",
      "Cover cuts applied:  2\n",
      "\n",
      "Root node processing (before b&c):\n",
      "  Real time             =    0.34 sec. (244.41 ticks)\n",
      "Parallel b&c, 8 threads:\n",
      "  Real time             =    0.00 sec. (0.00 ticks)\n",
      "  Sync time (average)   =    0.00 sec.\n",
      "  Wait time (average)   =    0.00 sec.\n",
      "                          ------------\n",
      "Total (root+branch&cut) =    0.34 sec. (244.41 ticks)\n",
      "Number of free lunch witnesses: 2\n",
      "List of free lunch witnesses: [1992, 2699]\n",
      "Computed y lower bound 1.8674136321195145e-07\n"
     ]
    }
   ],
   "source": [
    "flw_index_list, y_lower_bound = model.findFreeLunchWitnesses()"
   ]
  },
  {
   "cell_type": "markdown",
   "metadata": {},
   "source": [
    "# 8"
   ]
  },
  {
   "cell_type": "code",
   "execution_count": 24,
   "metadata": {},
   "outputs": [
    {
     "name": "stdout",
     "output_type": "stream",
     "text": [
      "Warning: no candidate for extra, outside found in the list\n",
      "Warning: no candidate for biomass found in the list\n"
     ]
    }
   ],
   "source": [
    "model =parseSBML('/home/hzabeti/qsopt-ex/build/python-qsoptex/MongooseGUI3/Models/SBML/RECON1.xml')"
   ]
  },
  {
   "cell_type": "code",
   "execution_count": 25,
   "metadata": {},
   "outputs": [
    {
     "data": {
      "text/plain": [
       "{'ID': 'RECON1',\n",
       " 'Name': 'Homo sapiens',\n",
       " 'Source File': '/home/hzabeti/qsopt-ex/build/python-qsoptex/MongooseGUI3/Models/SBML/RECON1.xml'}"
      ]
     },
     "execution_count": 25,
     "metadata": {},
     "output_type": "execute_result"
    }
   ],
   "source": [
    "model.description"
   ]
  },
  {
   "cell_type": "code",
   "execution_count": 31,
   "metadata": {},
   "outputs": [
    {
     "name": "stdout",
     "output_type": "stream",
     "text": [
      "Number of individually producible free lunch metabolites 39\n",
      "[779, 781, 782, 783, 784, 785, 1503, 1504, 1505, 1506, 1507, 1508, 1509, 1510, 1511, 1512, 1513, 1514, 1515, 1516, 1518, 1519, 1520, 1521, 1522, 1523, 1524, 1525, 2105, 2106, 2107, 2108, 2109, 2110, 2111, 2112, 2113, 2114, 2115] ['M_coa_c', 'M_coa_l', 'M_coa_m', 'M_coa_n', 'M_coa_r', 'M_coa_x', 'M_h2o2_c', 'M_h2o2_e', 'M_h2o2_l', 'M_h2o2_m', 'M_h2o2_n', 'M_h2o2_x', 'M_h2o_c', 'M_h2o_e', 'M_h2o_g', 'M_h2o_l', 'M_h2o_m', 'M_h2o_n', 'M_h2o_r', 'M_h2o_x', 'M_h_c', 'M_h_e', 'M_h_g', 'M_h_l', 'M_h_m', 'M_h_n', 'M_h_r', 'M_h_x', 'M_o2_c', 'M_o2_e', 'M_o2_m', 'M_o2_n', 'M_o2_r', 'M_o2_x', 'M_o2s_c', 'M_o2s_e', 'M_o2s_m', 'M_o2s_n', 'M_o2s_x']\n"
     ]
    },
    {
     "data": {
      "text/plain": [
       "0"
      ]
     },
     "execution_count": 31,
     "metadata": {},
     "output_type": "execute_result"
    }
   ],
   "source": [
    "ind_flm_index_list,ind_flm_list = model.findIndividuallyProducibleFLM()\n",
    "print(ind_flm_index_list,ind_flm_list)\n",
    "gc.collect()"
   ]
  },
  {
   "cell_type": "code",
   "execution_count": 26,
   "metadata": {},
   "outputs": [
    {
     "name": "stdout",
     "output_type": "stream",
     "text": [
      "parameters.mip.tolerances.integrality\n",
      "CPXPARAM_Simplex_Tolerances_Feasibility          1.0000000000000001e-09\n",
      "CPXPARAM_Read_DataCheck                          1\n",
      "CPXPARAM_MIP_Tolerances_Integrality              1.0000000000000001e-15\n",
      "Found incumbent of value 1241.000000 after 0.00 sec. (0.60 ticks)\n",
      "Tried aggregator 3 times.\n",
      "MIP Presolve eliminated 1280 rows and 1283 columns.\n",
      "MIP Presolve modified 4113 coefficients.\n",
      "Aggregator did 55 substitutions.\n",
      "Reduced MIP has 5287 rows, 4731 columns, and 27662 nonzeros.\n",
      "Reduced MIP has 2810 binaries, 42 generals, 0 SOSs, and 0 indicators.\n",
      "Presolve time = 0.03 sec. (28.42 ticks)\n",
      "Probing time = 0.00 sec. (0.38 ticks)\n",
      "Tried aggregator 1 time.\n",
      "MIP Presolve eliminated 1 rows and 0 columns.\n",
      "Reduced MIP has 5286 rows, 4730 columns, and 27655 nonzeros.\n",
      "Reduced MIP has 2809 binaries, 42 generals, 0 SOSs, and 0 indicators.\n",
      "Presolve time = 0.02 sec. (10.92 ticks)\n",
      "Probing time = 0.01 sec. (0.38 ticks)\n",
      "MIP emphasis: balance optimality and feasibility.\n",
      "MIP search method: dynamic search.\n",
      "Parallel mode: deterministic, using up to 8 threads.\n",
      "Root relaxation solution time = 0.74 sec. (575.31 ticks)\n",
      "\n",
      "        Nodes                                         Cuts/\n",
      "   Node  Left     Objective  IInf  Best Integer    Best Bound    ItCnt     Gap\n",
      "\n",
      "*     0+    0                         1241.0000        0.0000           100.00%\n",
      "*     0+    0                         1059.0000        0.0000           100.00%\n",
      "*     0+    0                         1027.0000        0.0000           100.00%\n",
      "*     0+    0                         1008.0000        0.0000           100.00%\n",
      "*     0+    0                          936.0000        0.0000           100.00%\n",
      "*     0+    0                          930.0000        0.0000           100.00%\n",
      "      0     0        0.0000    56      930.0000        0.0000     3667  100.00%\n",
      "*     0+    0                           56.0000        0.0000           100.00%\n",
      "      0     0        1.0000   132       56.0000     Covers: 1     6464   98.21%\n",
      "*     0+    0                           10.0000        1.0000            90.00%\n",
      "*     0+    0                            7.0000        1.0000            85.71%\n",
      "      0     2        1.0000   122        7.0000        1.0000     6464   85.71%\n",
      "Elapsed time = 6.41 sec. (4143.04 ticks, tree = 0.01 MB, solutions = 8)\n",
      "     46     5        1.0000    52        7.0000        1.0000     7245   85.71%\n",
      "     68    57        2.0000   156        7.0000        1.0000    15888   85.71%\n",
      "     82    80        1.0000    46        7.0000        1.0000    30544   85.71%\n",
      "     96    93        2.0000    50        7.0000        1.0000    44208   85.71%\n",
      "    126   107        3.0000    51        7.0000        1.0000    51355   85.71%\n",
      "    163   139        3.0000    25        7.0000        1.0000    58453   85.71%\n",
      "    197   166        4.0000   214        7.0000        1.0000    68323   85.71%\n",
      "    238   193        3.0000   107        7.0000        1.0000    70553   85.71%\n",
      "    280   206        5.0000    31        7.0000        1.0000    71957   85.71%\n",
      "    463   336        3.0000   120        7.0000        1.0000    95458   85.71%\n",
      "Elapsed time = 14.05 sec. (7386.58 ticks, tree = 11.49 MB, solutions = 8)\n",
      "    599   459        5.0000   140        7.0000        1.0000   126446   85.71%\n",
      "*   636+  458                            6.0000        1.0000            83.33%\n",
      "    735   486        2.0000     5        6.0000        1.0000   138084   83.33%\n",
      "    920   475        4.0000    51        6.0000        1.0000   150987   83.33%\n",
      "   1213   695        3.0000   121        6.0000        1.0000   173542   83.33%\n",
      "   1508   921        4.0001   135        6.0000        1.0000   190882   83.33%\n",
      "*  1689  1087      integral     0        5.0000        1.0000   211980   80.00%\n",
      "   1689  1085        5.0000     0        5.0000        1.0000   211980   80.00%\n",
      "*  1822+  576                            4.0000        1.0000            75.00%\n",
      "   1824   592        3.0000    48        4.0000        1.0000   237139   75.00%\n",
      "   1911   224        2.0000    76        4.0000        1.0000   278894   75.00%\n",
      "   2035   270        2.0000   118        4.0000        1.0000   303705   75.00%\n",
      "   2179   281        cutoff              4.0000        1.0000   315673   75.00%\n",
      "Elapsed time = 36.05 sec. (17039.09 ticks, tree = 8.25 MB, solutions = 12)\n",
      "   2418   450        2.5000    60        4.0000        1.0000   360202   75.00%\n",
      "   2686   531        2.5000    96        4.0000        1.0000   384094   75.00%\n",
      "   2952   908        cutoff              4.0000        1.0000   428230   75.00%\n",
      "   3208  1050        2.5000    59        4.0000        1.0000   444054   75.00%\n",
      "   3268  1178        2.6312    32        4.0000        3.0000   493993   25.00%\n",
      "   3280   190        cutoff              4.0000        3.0000   501606   25.00%\n",
      "   3292     8        3.0000    67        4.0000        3.0000   511522   25.00%\n",
      "   3302     2        cutoff              4.0000        3.0000   521164   25.00%\n",
      "   3308     3        3.0000    84        4.0000        3.0000   526951   25.00%\n",
      "   3325     7        3.0000    72        4.0000        3.0000   534023   25.00%\n",
      "Elapsed time = 54.74 sec. (30100.98 ticks, tree = 0.01 MB, solutions = 12)\n",
      "   3353     7        3.0000    31        4.0000        3.0000   561570   25.00%\n",
      "   3361     3        cutoff              4.0000        3.0000   570593   25.00%\n",
      "\n",
      "Cover cuts applied:  20\n",
      "Zero-half cuts applied:  2\n",
      "Gomory fractional cuts applied:  3\n",
      "\n",
      "Root node processing (before b&c):\n",
      "  Real time             =    6.39 sec. (4137.26 ticks)\n",
      "Parallel b&c, 8 threads:\n",
      "  Real time             =   50.24 sec. (28057.39 ticks)\n",
      "  Sync time (average)   =    8.09 sec.\n",
      "  Wait time (average)   =    0.02 sec.\n",
      "                          ------------\n",
      "Total (root+branch&cut) =   56.62 sec. (32194.64 ticks)\n",
      "Number of free lunch witnesses: 4\n",
      "List of free lunch witnesses: [788, 1100, 1102, 3664]\n",
      "Computed y lower bound 5.89622641509434e-07\n"
     ]
    }
   ],
   "source": [
    "flw_index_list, y_lower_bound = model.findFreeLunchWitnesses()"
   ]
  },
  {
   "cell_type": "markdown",
   "metadata": {},
   "source": [
    "# 9"
   ]
  },
  {
   "cell_type": "code",
   "execution_count": 27,
   "metadata": {},
   "outputs": [
    {
     "name": "stdout",
     "output_type": "stream",
     "text": [
      "Warning: no candidate for extra, outside found in the list\n",
      "Warning: multiple candidates for biomass found in the list\n",
      "0) E. coli biomass objective function (iJO1366) - WT - with 53.95 GAM estimate 1) E. coli biomass objective function (iJO1366) - core - with 53.95 GAM estimate\n",
      "Please select the correct string from the list above and enter its number, or -1 if none \n",
      "0\n"
     ]
    }
   ],
   "source": [
    "model =parseSBML('/home/hzabeti/qsopt-ex/build/python-qsoptex/MongooseGUI3/Models/SBML/iECO111_1330.xml')"
   ]
  },
  {
   "cell_type": "code",
   "execution_count": 28,
   "metadata": {},
   "outputs": [
    {
     "data": {
      "text/plain": [
       "{'ID': 'iECO111_1330',\n",
       " 'Name': 'Escherichia coli O111:H- str. 11128',\n",
       " 'Source File': '/home/hzabeti/qsopt-ex/build/python-qsoptex/MongooseGUI3/Models/SBML/iECO111_1330.xml'}"
      ]
     },
     "execution_count": 28,
     "metadata": {},
     "output_type": "execute_result"
    }
   ],
   "source": [
    "model.description"
   ]
  },
  {
   "cell_type": "code",
   "execution_count": 34,
   "metadata": {},
   "outputs": [
    {
     "name": "stdout",
     "output_type": "stream",
     "text": [
      "Number of individually producible free lunch metabolites 3\n",
      "[109, 290, 460] ['M_h_c', 'M_h_e', 'M_h_p']\n"
     ]
    },
    {
     "data": {
      "text/plain": [
       "0"
      ]
     },
     "execution_count": 34,
     "metadata": {},
     "output_type": "execute_result"
    }
   ],
   "source": [
    "ind_flm_index_list,ind_flm_list = model.findIndividuallyProducibleFLM()\n",
    "print(ind_flm_index_list,ind_flm_list)\n",
    "gc.collect()"
   ]
  },
  {
   "cell_type": "code",
   "execution_count": 29,
   "metadata": {},
   "outputs": [
    {
     "name": "stdout",
     "output_type": "stream",
     "text": [
      "parameters.mip.tolerances.integrality\n",
      "CPXPARAM_Simplex_Tolerances_Feasibility          1.0000000000000001e-09\n",
      "CPXPARAM_Read_DataCheck                          1\n",
      "CPXPARAM_MIP_Tolerances_Integrality              1.0000000000000001e-15\n",
      "Found incumbent of value 1037.000000 after 0.00 sec. (0.43 ticks)\n",
      "Tried aggregator 3 times.\n",
      "MIP Presolve eliminated 1123 rows and 1173 columns.\n",
      "MIP Presolve modified 3113 coefficients.\n",
      "Aggregator did 20 substitutions.\n",
      "Reduced MIP has 3591 rows, 3131 columns, and 19772 nonzeros.\n",
      "Reduced MIP has 1926 binaries, 16 generals, 0 SOSs, and 0 indicators.\n",
      "Presolve time = 0.02 sec. (24.13 ticks)\n",
      "Probing time = 0.00 sec. (0.27 ticks)\n",
      "Tried aggregator 1 time.\n",
      "Reduced MIP has 3591 rows, 3131 columns, and 19772 nonzeros.\n",
      "Reduced MIP has 1926 binaries, 16 generals, 0 SOSs, and 0 indicators.\n",
      "Presolve time = 0.01 sec. (7.52 ticks)\n",
      "Probing time = 0.00 sec. (0.27 ticks)\n",
      "MIP emphasis: balance optimality and feasibility.\n",
      "MIP search method: dynamic search.\n",
      "Parallel mode: deterministic, using up to 8 threads.\n",
      "Root relaxation solution time = 0.19 sec. (160.37 ticks)\n",
      "\n",
      "        Nodes                                         Cuts/\n",
      "   Node  Left     Objective  IInf  Best Integer    Best Bound    ItCnt     Gap\n",
      "\n",
      "*     0+    0                         1037.0000        0.0000           100.00%\n",
      "*     0+    0                          940.0000        0.0000           100.00%\n",
      "*     0+    0                          938.0000        0.0000           100.00%\n",
      "      0     0        0.0000     2      938.0000        0.0000     1486  100.00%\n",
      "*     0+    0                            2.0000        0.0000           100.00%\n",
      "      0     0        1.0000     1        2.0000     Covers: 1     1494   50.00%\n",
      "      0     0        cutoff              2.0000                   1497    0.00%\n",
      "Elapsed time = 0.30 sec. (234.92 ticks, tree = 0.01 MB, solutions = 3)\n",
      "\n",
      "Cover cuts applied:  2\n",
      "\n",
      "Root node processing (before b&c):\n",
      "  Real time             =    0.31 sec. (235.25 ticks)\n",
      "Parallel b&c, 8 threads:\n",
      "  Real time             =    0.00 sec. (0.00 ticks)\n",
      "  Sync time (average)   =    0.00 sec.\n",
      "  Wait time (average)   =    0.00 sec.\n",
      "                          ------------\n",
      "Total (root+branch&cut) =    0.31 sec. (235.25 ticks)\n",
      "Number of free lunch witnesses: 2\n",
      "List of free lunch witnesses: [1968, 2694]\n",
      "Computed y lower bound 1.8674136321195145e-07\n"
     ]
    }
   ],
   "source": [
    "flw_index_list, y_lower_bound = model.findFreeLunchWitnesses()"
   ]
  },
  {
   "cell_type": "markdown",
   "metadata": {},
   "source": [
    "# 10"
   ]
  },
  {
   "cell_type": "code",
   "execution_count": 30,
   "metadata": {},
   "outputs": [
    {
     "name": "stdout",
     "output_type": "stream",
     "text": [
      "Warning: no candidate for extra, outside found in the list\n",
      "Warning: multiple candidates for biomass found in the list\n",
      "0) E. coli biomass objective function (iJO1366) - WT - with 53.95 GAM estimate 1) E. coli biomass objective function (iJO1366) - core - with 53.95 GAM estimate\n",
      "Please select the correct string from the list above and enter its number, or -1 if none \n",
      "0\n"
     ]
    }
   ],
   "source": [
    "model1 =parseSBML('/home/hzabeti/qsopt-ex/build/python-qsoptex/MongooseGUI3/Models/SBML/iSBO_1134.xml')"
   ]
  },
  {
   "cell_type": "code",
   "execution_count": 31,
   "metadata": {},
   "outputs": [
    {
     "data": {
      "text/plain": [
       "{'ID': 'iSBO_1134',\n",
       " 'Name': 'Shigella boydii Sb227',\n",
       " 'Source File': '/home/hzabeti/qsopt-ex/build/python-qsoptex/MongooseGUI3/Models/SBML/iSBO_1134.xml'}"
      ]
     },
     "execution_count": 31,
     "metadata": {},
     "output_type": "execute_result"
    }
   ],
   "source": [
    "model1.description"
   ]
  },
  {
   "cell_type": "code",
   "execution_count": 63,
   "metadata": {},
   "outputs": [
    {
     "name": "stdout",
     "output_type": "stream",
     "text": [
      "Number of individually producible free lunch metabolites 3\n",
      "[11, 290, 459] ['M_h_c', 'M_h_e', 'M_h_p']\n"
     ]
    },
    {
     "data": {
      "text/plain": [
       "0"
      ]
     },
     "execution_count": 63,
     "metadata": {},
     "output_type": "execute_result"
    }
   ],
   "source": [
    "ind_flm_index_list1,ind_flm_list1 = model1.findIndividuallyProducibleFLM()\n",
    "print(ind_flm_index_list1,ind_flm_list1)\n",
    "gc.collect()"
   ]
  },
  {
   "cell_type": "code",
   "execution_count": 32,
   "metadata": {},
   "outputs": [
    {
     "name": "stdout",
     "output_type": "stream",
     "text": [
      "parameters.mip.tolerances.integrality\n",
      "CPXPARAM_Simplex_Tolerances_Feasibility          1.0000000000000001e-09\n",
      "CPXPARAM_Read_DataCheck                          1\n",
      "CPXPARAM_MIP_Tolerances_Integrality              1.0000000000000001e-15\n",
      "Found incumbent of value 965.000000 after 0.00 sec. (0.40 ticks)\n",
      "Tried aggregator 3 times.\n",
      "MIP Presolve eliminated 1159 rows and 1270 columns.\n",
      "MIP Presolve modified 3060 coefficients.\n",
      "Aggregator did 19 substitutions.\n",
      "Reduced MIP has 3216 rows, 2815 columns, and 17770 nonzeros.\n",
      "Reduced MIP has 1728 binaries, 16 generals, 0 SOSs, and 0 indicators.\n",
      "Presolve time = 0.03 sec. (22.38 ticks)\n",
      "Probing time = 0.00 sec. (0.24 ticks)\n",
      "Tried aggregator 1 time.\n",
      "Reduced MIP has 3216 rows, 2815 columns, and 17770 nonzeros.\n",
      "Reduced MIP has 1728 binaries, 16 generals, 0 SOSs, and 0 indicators.\n",
      "Presolve time = 0.01 sec. (6.74 ticks)\n",
      "Probing time = 0.00 sec. (0.24 ticks)\n",
      "MIP emphasis: balance optimality and feasibility.\n",
      "MIP search method: dynamic search.\n",
      "Parallel mode: deterministic, using up to 8 threads.\n",
      "Root relaxation solution time = 0.18 sec. (130.15 ticks)\n",
      "\n",
      "        Nodes                                         Cuts/\n",
      "   Node  Left     Objective  IInf  Best Integer    Best Bound    ItCnt     Gap\n",
      "\n",
      "*     0+    0                          965.0000        0.0000           100.00%\n",
      "*     0+    0                          849.0000        0.0000           100.00%\n",
      "*     0+    0                          844.0000        0.0000           100.00%\n",
      "      0     0        0.0000     1      844.0000        0.0000     1351  100.00%\n",
      "*     0+    0                            1.0000        0.0000           100.00%\n",
      "      0     0        cutoff              1.0000                   1353    0.00%\n",
      "Elapsed time = 0.28 sec. (186.01 ticks, tree = 0.01 MB, solutions = 3)\n",
      "\n",
      "Cover cuts applied:  1\n",
      "\n",
      "Root node processing (before b&c):\n",
      "  Real time             =    0.28 sec. (186.32 ticks)\n",
      "Parallel b&c, 8 threads:\n",
      "  Real time             =    0.00 sec. (0.00 ticks)\n",
      "  Sync time (average)   =    0.00 sec.\n",
      "  Wait time (average)   =    0.00 sec.\n",
      "                          ------------\n",
      "Total (root+branch&cut) =    0.28 sec. (186.32 ticks)\n",
      "Number of free lunch witnesses: 1\n",
      "List of free lunch witnesses: [2541]\n",
      "Computed y lower bound 1.9098548510313216e-07\n"
     ]
    }
   ],
   "source": [
    "flw_index_list, y_lower_bound = model1.findFreeLunchWitnesses()"
   ]
  },
  {
   "cell_type": "markdown",
   "metadata": {},
   "source": [
    "# 11 "
   ]
  },
  {
   "cell_type": "code",
   "execution_count": 33,
   "metadata": {},
   "outputs": [
    {
     "name": "stdout",
     "output_type": "stream",
     "text": [
      "Warning: no candidate for extra, outside found in the list\n",
      "Warning: multiple candidates for biomass found in the list\n",
      "0) Biomass (autotrophic) 1) Biomass (mixotrophic) 2) Biomass (heterotrophic)\n",
      "Please select the correct string from the list above and enter its number, or -1 if none \n",
      "0\n"
     ]
    }
   ],
   "source": [
    "model2 =parseSBML('/home/hzabeti/qsopt-ex/build/python-qsoptex/MongooseGUI3/Models/SBML/iRC1080.xml')"
   ]
  },
  {
   "cell_type": "code",
   "execution_count": 34,
   "metadata": {},
   "outputs": [
    {
     "data": {
      "text/plain": [
       "{'ID': 'iRC1080',\n",
       " 'Name': '',\n",
       " 'Source File': '/home/hzabeti/qsopt-ex/build/python-qsoptex/MongooseGUI3/Models/SBML/iRC1080.xml'}"
      ]
     },
     "execution_count": 34,
     "metadata": {},
     "output_type": "execute_result"
    }
   ],
   "source": [
    "model2.description"
   ]
  },
  {
   "cell_type": "code",
   "execution_count": 64,
   "metadata": {},
   "outputs": [
    {
     "name": "stdout",
     "output_type": "stream",
     "text": [
      "Number of individually producible free lunch metabolites 21\n",
      "[882, 883, 885, 886, 887, 889, 890, 891, 892, 893, 894, 895, 1332, 1333, 1334, 1335, 1336, 1337, 1338, 1339, 1340] ['M_h_c', 'M_h_e', 'M_h_g', 'M_h_h', 'M_h_m', 'M_h_s', 'M_h_u', 'M_h_x', 'M_h2_c', 'M_h2_e', 'M_h2_h', 'M_h2_m', 'M_photon298_c', 'M_photon437_u', 'M_photon438_u', 'M_photon450_h', 'M_photon490_s', 'M_photon646_h', 'M_photon673_u', 'M_photon680_u', 'M_photonVis_e']\n"
     ]
    },
    {
     "data": {
      "text/plain": [
       "0"
      ]
     },
     "execution_count": 64,
     "metadata": {},
     "output_type": "execute_result"
    }
   ],
   "source": [
    "ind_flm_index_list2,ind_flm_list2 = model2.findIndividuallyProducibleFLM()\n",
    "print(ind_flm_index_list2,ind_flm_list2)\n",
    "gc.collect()"
   ]
  },
  {
   "cell_type": "code",
   "execution_count": 36,
   "metadata": {},
   "outputs": [
    {
     "name": "stdout",
     "output_type": "stream",
     "text": [
      "parameters.mip.tolerances.integrality\n",
      "CPXPARAM_Simplex_Tolerances_Feasibility          1.0000000000000001e-09\n",
      "CPXPARAM_Read_DataCheck                          1\n",
      "CPXPARAM_MIP_Tolerances_Integrality              1.0000000000000001e-15\n",
      "Found incumbent of value 1010.000000 after 0.00 sec. (0.40 ticks)\n",
      "Tried aggregator 2 times.\n",
      "MIP Presolve eliminated 535 rows and 556 columns.\n",
      "MIP Presolve modified 2259 coefficients.\n",
      "Aggregator did 18 substitutions.\n",
      "Reduced MIP has 3675 rows, 3245 columns, and 19752 nonzeros.\n",
      "Reduced MIP has 1964 binaries, 16 generals, 0 SOSs, and 0 indicators.\n",
      "Presolve time = 0.02 sec. (15.72 ticks)\n",
      "Probing time = 0.00 sec. (0.27 ticks)\n",
      "Tried aggregator 1 time.\n",
      "Reduced MIP has 3675 rows, 3245 columns, and 19752 nonzeros.\n",
      "Reduced MIP has 1964 binaries, 16 generals, 0 SOSs, and 0 indicators.\n",
      "Presolve time = 0.01 sec. (7.50 ticks)\n",
      "Probing time = 0.00 sec. (0.27 ticks)\n",
      "MIP emphasis: balance optimality and feasibility.\n",
      "MIP search method: dynamic search.\n",
      "Parallel mode: deterministic, using up to 8 threads.\n",
      "Root relaxation solution time = 0.36 sec. (310.66 ticks)\n",
      "\n",
      "        Nodes                                         Cuts/\n",
      "   Node  Left     Objective  IInf  Best Integer    Best Bound    ItCnt     Gap\n",
      "\n",
      "*     0+    0                         1010.0000        0.0000           100.00%\n",
      "*     0+    0                          918.0000        0.0000           100.00%\n",
      "*     0+    0                          906.0000        0.0000           100.00%\n",
      "*     0+    0                          877.0000        0.0000           100.00%\n",
      "*     0+    0                          876.0000        0.0000           100.00%\n",
      "*     0+    0                          847.0000        0.0000           100.00%\n",
      "      0     0        0.0000    14      847.0000        0.0000     2275  100.00%\n",
      "*     0+    0                           14.0000        0.0000           100.00%\n",
      "*     0+    0                           13.0000        0.0000           100.00%\n",
      "      0     2        0.0000    13       13.0000        0.0000     2275  100.00%\n",
      "Elapsed time = 0.75 sec. (568.65 ticks, tree = 0.01 MB, solutions = 7)\n",
      "     44    31        2.0000    14       13.0000        0.0299     5162   99.77%\n",
      "*    61+    2                           12.0000        0.0299            99.75%\n",
      "     89     4        1.0000    11       12.0000        0.7500     2279   93.75%\n",
      "*   164   105      integral     0       10.0000        0.7500    28343   92.50%\n",
      "    182    66        3.0000    13       10.0000        0.7500    14499   92.50%\n",
      "    234   135        2.0000    16       10.0000        0.7500    38933   92.50%\n",
      "    328   193        1.0000    22       10.0000        0.7500    53489   92.50%\n",
      "    421   284        2.0000   126       10.0000        0.7500    66430   92.50%\n",
      "    526   342        2.0000   210       10.0000        0.7500    73121   92.50%\n",
      "    629   423        8.0000    22       10.0000        0.7500    84277   92.50%\n",
      "    746   562        2.0000   123       10.0000        1.0000    97346   90.00%\n",
      "   1271   987        8.0000    89       10.0000        1.0000   134063   90.00%\n",
      "Elapsed time = 6.40 sec. (3711.98 ticks, tree = 31.47 MB, solutions = 10)\n",
      "   1712  1268        8.0000    25       10.0000        1.0000   164580   90.00%\n",
      "   2090  1685        3.0000    70       10.0000        1.0000   211624   90.00%\n",
      "   2433  1989        2.0000   124       10.0000        1.0000   251840   90.00%\n",
      "   2825  2356        2.0000    96       10.0000        1.0000   283664   90.00%\n",
      "   3215  2720        2.0000   138       10.0000        1.0000   319273   90.00%\n",
      "   3264  2831        2.0000    13       10.0000        2.0000   339673   80.00%\n",
      "   3322    21        8.0000     8       10.0000        3.0000   356157   70.00%\n",
      "   3452    53        8.0000     6       10.0000        3.6980   386493   63.02%\n",
      "   3911   145        6.0000    11       10.0000        5.0000   419507   50.00%\n",
      "   4129   266        8.0000    11       10.0000        5.0000   462536   50.00%\n",
      "Elapsed time = 22.97 sec. (14186.05 ticks, tree = 0.26 MB, solutions = 10)\n",
      "   4290   376        8.0000   122       10.0000        5.0000   492618   50.00%\n",
      "   4397   465        8.0000    80       10.0000        5.0000   513129   50.00%\n",
      "   4598   631        7.0000    84       10.0000        5.0000   549834   50.00%\n",
      "   4883   813        7.0000     7       10.0000        6.0000   572689   40.00%\n",
      "   5111  1012        7.0000   103       10.0000        6.0000   623168   40.00%\n",
      "   5296  1193        8.0000     6       10.0000        6.0000   682891   40.00%\n",
      "   5417  1246        8.0000     9       10.0000        7.0000   712609   30.00%\n",
      "   5505  1297        9.0000    10       10.0000        7.0000   744441   30.00%\n",
      "   5689  1429        8.0000     9       10.0000        7.0000   799402   30.00%\n",
      "   5851  1480        8.0000    12       10.0000        7.0000   824439   30.00%\n",
      "Elapsed time = 38.69 sec. (23754.17 ticks, tree = 2.15 MB, solutions = 10)\n",
      "   6015  1626        8.0000    10       10.0000        7.0000   864835   30.00%\n",
      "   6346  1756        8.0000    23       10.0000        7.0000   897723   30.00%\n",
      "   6731  1987        8.0000    14       10.0000        7.0000   943304   30.00%\n",
      "   7268  2387        8.0000    84       10.0000        7.0000   975121   30.00%\n",
      "   7841  3123        8.0000    25       10.0000        7.0000  1031527   30.00%\n",
      "   8352  3473        8.0000    14       10.0000        7.0000  1070416   30.00%\n",
      "   8774  4014        8.0000    22       10.0000        7.0000  1121565   30.00%\n",
      "   9174  4362        9.0000     8       10.0000        7.0000  1174565   30.00%\n",
      "   9610  4620        8.0000   110       10.0000        7.0000  1208321   30.00%\n",
      "  10027  5006        8.0000    30       10.0000        7.0000  1251918   30.00%\n",
      "Elapsed time = 54.15 sec. (33338.12 ticks, tree = 7.83 MB, solutions = 10)\n",
      "  10536  5529        8.0000    92       10.0000        7.0000  1305529   30.00%\n",
      "  11116  6130        8.0000   168       10.0000        7.0000  1360568   30.00%\n",
      "  11455  6467    infeasible             10.0000        7.0000  1411773   30.00%\n",
      "  11959  6818        8.0000    71       10.0000        7.0000  1471907   30.00%\n",
      "  12234  7050        8.0000    34       10.0000        7.0000  1501872   30.00%\n",
      "  12420  7314        8.0000    71       10.0000        7.0000  1566654   30.00%\n",
      "  12691  7521        8.0000    32       10.0000        7.0000  1638824   30.00%\n",
      "  12916  7662        8.0000    66       10.0000        7.0000  1692718   30.00%\n",
      "  13155  7809        8.0000    85       10.0000        7.0000  1748265   30.00%\n",
      "  13379  7969        8.0000    52       10.0000        7.0000  1824095   30.00%\n",
      "Elapsed time = 69.72 sec. (42917.39 ticks, tree = 12.28 MB, solutions = 10)\n",
      "  13616  8169        8.0000    67       10.0000        7.0000  1917541   30.00%\n",
      "  13831  8333        8.0000    91       10.0000        7.0000  1978707   30.00%\n",
      "  14035  8481        8.0000    28       10.0000        7.0000  2047775   30.00%\n",
      "  14214  8557        8.0000    50       10.0000        7.0000  2085575   30.00%\n",
      "  14323  8712        8.0000    30       10.0000        7.0000  2182995   30.00%\n",
      "  14439  8736        8.0000    74       10.0000        7.0000  2225361   30.00%\n",
      "  14595  8749        8.0000    67       10.0000        7.0000  2266796   30.00%\n",
      "  14891  8914        8.0000   173       10.0000        7.0000  2371724   30.00%\n",
      "  15139  8953        8.0000   102       10.0000        7.0000  2389631   30.00%\n",
      "  15367  9169        8.0000   191       10.0000        7.0000  2478731   30.00%\n",
      "Elapsed time = 85.30 sec. (52542.35 ticks, tree = 14.45 MB, solutions = 10)\n",
      "  15657  9260        8.0000    93       10.0000        7.0000  2515649   30.00%\n",
      "  15912  9489        cutoff             10.0000        7.0000  2625097   30.00%\n",
      "  16211  9638        8.0000   142       10.0000        7.0000  2685671   30.00%\n",
      "  16431  9899        8.0000    14       10.0000        7.0000  2784723   30.00%\n",
      "  16811 10080        9.0000   121       10.0000        7.0000  2869526   30.00%\n",
      "  17111 10106        8.0000    25       10.0000        7.0000  2878466   30.00%\n",
      "  17355 10479        8.0000    30       10.0000        7.0024  2958177   29.98%\n",
      "  17632 10779        8.0000    44       10.0000        7.0056  3037578   29.94%\n"
     ]
    },
    {
     "name": "stdout",
     "output_type": "stream",
     "text": [
      "  17931 10797        8.0000   164       10.0000        7.0111  3062558   29.89%\n",
      "  18254 11015        8.0000   106       10.0000        7.0149  3116777   29.85%\n",
      "Elapsed time = 100.55 sec. (62103.19 ticks, tree = 17.44 MB, solutions = 10)\n",
      "  18542 11424        8.0000    30       10.0000        7.0230  3239142   29.77%\n",
      "  18807 11565        8.0000    69       10.0000        7.0312  3298233   29.69%\n",
      "  19109 11677        8.0000    14       10.0000        7.0321  3344992   29.68%\n",
      "  19451 12078        8.0000    24       10.0000        7.0323  3482732   29.68%\n",
      "  19738 12083        8.0000    15       10.0000        7.0444  3479969   29.56%\n",
      "  19989 12529        8.0000    70       10.0000        7.0523  3640302   29.48%\n",
      "  20233 12529        8.0000    84       10.0000        7.0623  3626668   29.38%\n",
      "  20482 12826        8.0000    47       10.0000        7.0702  3756854   29.30%\n",
      "  20694 12805        8.0000    14       10.0000        7.1024  3749683   28.98%\n",
      "  20903 13032        8.0000   168       10.0000        7.1246  3838678   28.75%\n",
      "Elapsed time = 115.85 sec. (71656.86 ticks, tree = 20.28 MB, solutions = 10)\n",
      "  21111 13172    infeasible             10.0000        7.1547  3900920   28.45%\n",
      "  21320 13218        8.0000    14       10.0000        7.2282  3930655   27.72%\n",
      "  21575 13509        8.0000    30       10.0000        7.2857  4051503   27.14%\n",
      "  21801 13575        8.0000    10       10.0000        7.3657  4070934   26.34%\n",
      "  22069 13896        8.0000    17       10.0000        7.4500  4196401   25.50%\n",
      "  22361 13914        8.0000    25       10.0000        7.5000  4191154   25.00%\n",
      "  22610 14451        8.0000   163       10.0000        7.7189  4355575   22.81%\n",
      "  22845 14512        8.0000    17       10.0000        7.7190  4374470   22.81%\n",
      "  23060 14535        8.0000    28       10.0000        7.9890  4405454   20.11%\n",
      "  23255 14962        8.0000    14       10.0000        8.0000  4548746   20.00%\n",
      "Elapsed time = 131.00 sec. (81255.48 ticks, tree = 23.09 MB, solutions = 10)\n",
      "  23488 14807        cutoff             10.0000        8.0000  4504303   20.00%\n",
      "  23687 15076        8.0000    14       10.0000        8.0000  4615606   20.00%\n",
      "  23847 15258        8.0000    25       10.0000        8.0000  4650435   20.00%\n",
      "  24026 15325        8.0000    18       10.0000        8.0000  4698923   20.00%\n",
      "  24280 15372        8.0000    76       10.0000        8.0000  4730308   20.00%\n",
      "  24471 15484        cutoff             10.0000        8.0000  4786042   20.00%\n",
      "  24651 15743        9.0000    27       10.0000        8.0000  4900732   20.00%\n",
      "  24824 15755        8.0000     3       10.0000        8.0000  4902319   20.00%\n",
      "  25005 15889        9.0000    10       10.0000        8.0000  5000351   20.00%\n",
      "  25625 16091        8.0000    30       10.0000        8.0000  5142684   20.00%\n",
      "Elapsed time = 151.67 sec. (93763.54 ticks, tree = 45.01 MB, solutions = 10)\n",
      "  25920 16254        9.0000    57       10.0000        8.0000  5345746   20.00%\n",
      "  26408 16494        9.0000    16       10.0000        8.0000  5583308   20.00%\n",
      "  26952 16578        9.0000    23       10.0000        8.0000  5757014   20.00%\n",
      "  27587 16671        9.0000    20       10.0000        8.0000  6024285   20.00%\n",
      "  28066 16737        9.0000    87       10.0000        8.0000  6256773   20.00%\n",
      "  28597 16766        9.0000     5       10.0000        8.0000  6427366   20.00%\n",
      "  29092 16709        9.0000     9       10.0000        8.0000  6654386   20.00%\n",
      "  29681 16760        9.0000     8       10.0000        8.0000  6946358   20.00%\n",
      "  30226 16703        cutoff             10.0000        8.0000  7186420   20.00%\n",
      "\n",
      "Cover cuts applied:  34\n",
      "\n",
      "Root node processing (before b&c):\n",
      "  Real time             =    0.74 sec. (566.48 ticks)\n",
      "Parallel b&c, 8 threads:\n",
      "  Real time             =  212.45 sec. (127965.76 ticks)\n",
      "  Sync time (average)   =   14.46 sec.\n",
      "  Wait time (average)   =    0.07 sec.\n",
      "                          ------------\n",
      "Total (root+branch&cut) =  213.19 sec. (128532.24 ticks)\n",
      "\n",
      "KeyboardInterrupt\n",
      "Number of free lunch witnesses: 10\n",
      "List of free lunch witnesses: [0, 2, 4, 5, 6, 8, 277, 1621, 1695, 1749]\n",
      "Computed y lower bound 4.578754578754579e-08\n"
     ]
    }
   ],
   "source": [
    "flw_index_list, y_lower_bound = model2.findFreeLunchWitnesses()"
   ]
  },
  {
   "cell_type": "markdown",
   "metadata": {},
   "source": [
    "# 12"
   ]
  },
  {
   "cell_type": "code",
   "execution_count": 38,
   "metadata": {},
   "outputs": [
    {
     "name": "stdout",
     "output_type": "stream",
     "text": [
      "Warning: no candidate for extra, outside found in the list\n",
      "Warning: multiple candidates for biomass found in the list\n",
      "0) Biomass: pigments and xanthophylls 1) Biomass objective function 2) Biomass: DNA 3) Biomass: Cell wall (LPS and peptidoglycan) 4) Biomass: cofactor pool 5) Biomass: protein 6) Biomass: RNA 7) Biomass: carbohydrates (storage and misc.)\n",
      "Please select the correct string from the list above and enter its number, or -1 if none \n",
      "0\n"
     ]
    }
   ],
   "source": [
    "model3 =parseSBML('/home/hzabeti/qsopt-ex/build/python-qsoptex/MongooseGUI3/Models/SBML/iJB785.xml')"
   ]
  },
  {
   "cell_type": "code",
   "execution_count": 39,
   "metadata": {},
   "outputs": [
    {
     "data": {
      "text/plain": [
       "{'ID': 'iJB785',\n",
       " 'Name': 'Synechococcus elongatus PCC 7942',\n",
       " 'Source File': '/home/hzabeti/qsopt-ex/build/python-qsoptex/MongooseGUI3/Models/SBML/iJB785.xml'}"
      ]
     },
     "execution_count": 39,
     "metadata": {},
     "output_type": "execute_result"
    }
   ],
   "source": [
    "model3.description"
   ]
  },
  {
   "cell_type": "code",
   "execution_count": 65,
   "metadata": {},
   "outputs": [
    {
     "name": "stdout",
     "output_type": "stream",
     "text": [
      "Number of individually producible free lunch metabolites 16\n",
      "[664, 665, 666, 667, 668, 669, 670, 671, 672, 673, 674, 675, 676, 677, 678, 687] ['M_photon410_e', 'M_photon430_e', 'M_photon450_e', 'M_photon470_e', 'M_photon490_e', 'M_photon510_e', 'M_photon530_e', 'M_photon550_e', 'M_photon570_e', 'M_photon590_e', 'M_photon610_e', 'M_photon630_e', 'M_photon650_e', 'M_photon670_e', 'M_photon690_e', 'M_pho_loss_c']\n"
     ]
    },
    {
     "data": {
      "text/plain": [
       "0"
      ]
     },
     "execution_count": 65,
     "metadata": {},
     "output_type": "execute_result"
    }
   ],
   "source": [
    "ind_flm_index_list3,ind_flm_list3 = model3.findIndividuallyProducibleFLM()\n",
    "print(ind_flm_index_list3,ind_flm_list3)\n",
    "gc.collect()"
   ]
  },
  {
   "cell_type": "code",
   "execution_count": 40,
   "metadata": {},
   "outputs": [
    {
     "name": "stdout",
     "output_type": "stream",
     "text": [
      "parameters.mip.tolerances.integrality\n",
      "CPXPARAM_Simplex_Tolerances_Feasibility          1.0000000000000001e-09\n",
      "CPXPARAM_Read_DataCheck                          1\n",
      "CPXPARAM_MIP_Tolerances_Integrality              1.0000000000000001e-15\n",
      "Found incumbent of value 425.000000 after 0.00 sec. (0.16 ticks)\n",
      "Tried aggregator 2 times.\n",
      "MIP Presolve eliminated 262 rows and 264 columns.\n",
      "MIP Presolve modified 1043 coefficients.\n",
      "Aggregator did 8 substitutions.\n",
      "Reduced MIP has 1290 rows, 1268 columns, and 7207 nonzeros.\n",
      "Reduced MIP has 691 binaries, 8 generals, 0 SOSs, and 0 indicators.\n",
      "Presolve time = 0.01 sec. (5.89 ticks)\n",
      "Probing time = 0.00 sec. (0.14 ticks)\n",
      "Tried aggregator 1 time.\n",
      "Reduced MIP has 1290 rows, 1268 columns, and 7207 nonzeros.\n",
      "Reduced MIP has 691 binaries, 8 generals, 0 SOSs, and 0 indicators.\n",
      "Presolve time = 0.00 sec. (2.78 ticks)\n",
      "Probing time = 0.00 sec. (0.14 ticks)\n",
      "MIP emphasis: balance optimality and feasibility.\n",
      "MIP search method: dynamic search.\n",
      "Parallel mode: deterministic, using up to 8 threads.\n",
      "Root relaxation solution time = 0.12 sec. (116.93 ticks)\n",
      "\n",
      "        Nodes                                         Cuts/\n",
      "   Node  Left     Objective  IInf  Best Integer    Best Bound    ItCnt     Gap\n",
      "\n",
      "*     0+    0                          425.0000        0.0000           100.00%\n",
      "*     0+    0                          378.0000        0.0000           100.00%\n",
      "*     0+    0                          377.0000        0.0000           100.00%\n",
      "      0     0        0.0000     2      377.0000        0.0000     2179  100.00%\n",
      "*     0+    0                            2.0000        0.0000           100.00%\n",
      "      0     2        0.0000     2        2.0000        0.0000     2179  100.00%\n",
      "Elapsed time = 0.28 sec. (164.76 ticks, tree = 0.01 MB, solutions = 3)\n",
      "     80     4        0.0000    54        2.0000        0.0000     8717  100.00%\n",
      "\n",
      "Root node processing (before b&c):\n",
      "  Real time             =    0.25 sec. (164.05 ticks)\n",
      "Parallel b&c, 8 threads:\n",
      "  Real time             =    0.48 sec. (398.13 ticks)\n",
      "  Sync time (average)   =    0.36 sec.\n",
      "  Wait time (average)   =    0.00 sec.\n",
      "                          ------------\n",
      "Total (root+branch&cut) =    0.74 sec. (562.17 ticks)\n",
      "Number of free lunch witnesses: 2\n",
      "List of free lunch witnesses: [212, 814]\n",
      "Computed y lower bound 1.630789302022179e-08\n"
     ]
    }
   ],
   "source": [
    "flw_index_list, y_lower_bound = model3.findFreeLunchWitnesses()"
   ]
  },
  {
   "cell_type": "markdown",
   "metadata": {},
   "source": [
    "# 13"
   ]
  },
  {
   "cell_type": "code",
   "execution_count": 41,
   "metadata": {},
   "outputs": [
    {
     "name": "stdout",
     "output_type": "stream",
     "text": [
      "Warning: no candidate for extra, outside found in the list\n",
      "Warning: multiple candidates for biomass found in the list\n",
      "0) E. coli biomass objective function (iJO1366) - WT - with 53.95 GAM estimate 1) E. coli biomass objective function (iJO1366) - core - with 53.95 GAM estimate\n",
      "Please select the correct string from the list above and enter its number, or -1 if none \n",
      "0\n"
     ]
    }
   ],
   "source": [
    "model4 =parseSBML('/home/hzabeti/qsopt-ex/build/python-qsoptex/MongooseGUI3/Models/SBML/iS_1188.xml')"
   ]
  },
  {
   "cell_type": "code",
   "execution_count": 42,
   "metadata": {},
   "outputs": [
    {
     "data": {
      "text/plain": [
       "{'ID': 'iS_1188',\n",
       " 'Name': 'Shigella flexneri 2a str. 2457T',\n",
       " 'Source File': '/home/hzabeti/qsopt-ex/build/python-qsoptex/MongooseGUI3/Models/SBML/iS_1188.xml'}"
      ]
     },
     "execution_count": 42,
     "metadata": {},
     "output_type": "execute_result"
    }
   ],
   "source": [
    "model4.description"
   ]
  },
  {
   "cell_type": "code",
   "execution_count": 78,
   "metadata": {},
   "outputs": [
    {
     "name": "stdout",
     "output_type": "stream",
     "text": [
      "Number of individually producible free lunch metabolites 3\n",
      "[51, 290, 463] ['M_h_c', 'M_h_e', 'M_h_p']\n"
     ]
    },
    {
     "data": {
      "text/plain": [
       "0"
      ]
     },
     "execution_count": 78,
     "metadata": {},
     "output_type": "execute_result"
    }
   ],
   "source": [
    "ind_flm_index_list4,ind_flm_list4 = model4.findIndividuallyProducibleFLM()\n",
    "print(ind_flm_index_list4,ind_flm_list4)\n",
    "gc.collect()"
   ]
  },
  {
   "cell_type": "code",
   "execution_count": 43,
   "metadata": {},
   "outputs": [
    {
     "name": "stdout",
     "output_type": "stream",
     "text": [
      "parameters.mip.tolerances.integrality\n",
      "CPXPARAM_Simplex_Tolerances_Feasibility          1.0000000000000001e-09\n",
      "CPXPARAM_Read_DataCheck                          1\n",
      "CPXPARAM_MIP_Tolerances_Integrality              1.0000000000000001e-15\n",
      "Found incumbent of value 947.000000 after 0.00 sec. (0.41 ticks)\n",
      "Tried aggregator 3 times.\n",
      "MIP Presolve eliminated 1153 rows and 1231 columns.\n",
      "MIP Presolve modified 3235 coefficients.\n",
      "Aggregator did 16 substitutions.\n",
      "Reduced MIP has 3281 rows, 2891 columns, and 17963 nonzeros.\n",
      "Reduced MIP has 1783 binaries, 13 generals, 0 SOSs, and 0 indicators.\n",
      "Presolve time = 0.02 sec. (21.95 ticks)\n",
      "Probing time = 0.00 sec. (0.24 ticks)\n",
      "Tried aggregator 1 time.\n",
      "Reduced MIP has 3281 rows, 2891 columns, and 17963 nonzeros.\n",
      "Reduced MIP has 1783 binaries, 13 generals, 0 SOSs, and 0 indicators.\n",
      "Presolve time = 0.01 sec. (6.83 ticks)\n",
      "Probing time = 0.04 sec. (0.24 ticks)\n",
      "MIP emphasis: balance optimality and feasibility.\n",
      "MIP search method: dynamic search.\n",
      "Parallel mode: deterministic, using up to 8 threads.\n",
      "Root relaxation solution time = 0.16 sec. (136.54 ticks)\n",
      "\n",
      "        Nodes                                         Cuts/\n",
      "   Node  Left     Objective  IInf  Best Integer    Best Bound    ItCnt     Gap\n",
      "\n",
      "*     0+    0                          947.0000        0.0000           100.00%\n",
      "*     0+    0                          830.0000        0.0000           100.00%\n",
      "*     0+    0                          817.0000        0.0000           100.00%\n",
      "      0     0        0.0000     1      817.0000        0.0000     1364  100.00%\n",
      "*     0+    0                            1.0000        0.0000           100.00%\n",
      "      0     0        cutoff              1.0000                   1368    0.00%\n",
      "Elapsed time = 0.30 sec. (194.89 ticks, tree = 0.01 MB, solutions = 3)\n",
      "\n",
      "Cover cuts applied:  1\n",
      "\n",
      "Root node processing (before b&c):\n",
      "  Real time             =    0.30 sec. (195.20 ticks)\n",
      "Parallel b&c, 8 threads:\n",
      "  Real time             =    0.00 sec. (0.00 ticks)\n",
      "  Sync time (average)   =    0.00 sec.\n",
      "  Wait time (average)   =    0.00 sec.\n",
      "                          ------------\n",
      "Total (root+branch&cut) =    0.30 sec. (195.20 ticks)\n",
      "Number of free lunch witnesses: 1\n",
      "List of free lunch witnesses: [2581]\n",
      "Computed y lower bound 1.9098548510313216e-07\n"
     ]
    }
   ],
   "source": [
    "flw_index_list, y_lower_bound = model4.findFreeLunchWitnesses()"
   ]
  },
  {
   "cell_type": "markdown",
   "metadata": {},
   "source": [
    "# 14"
   ]
  },
  {
   "cell_type": "code",
   "execution_count": 44,
   "metadata": {},
   "outputs": [
    {
     "name": "stdout",
     "output_type": "stream",
     "text": [
      "Warning: no candidate for extra, outside found in the list\n",
      "Warning: multiple candidates for biomass found in the list\n",
      "0) E. coli biomass objective function (iAF1260) - core - with 59.81 GAM estimate 1) Biomass equation from http://www.biomedcentral.com/1752-0509/3/38 2) Biomass equation from http://www.biomedcentral.com/1752-0509/3/38 including metals from iAF1260 biomass function\n",
      "Please select the correct string from the list above and enter its number, or -1 if none \n",
      "0\n"
     ]
    }
   ],
   "source": [
    "model5 =parseSBML('/home/hzabeti/qsopt-ex/build/python-qsoptex/MongooseGUI3/Models/SBML/STM_v1_0.xml')"
   ]
  },
  {
   "cell_type": "code",
   "execution_count": 45,
   "metadata": {},
   "outputs": [
    {
     "data": {
      "text/plain": [
       "{'ID': 'STM_v1_0',\n",
       " 'Name': 'Salmonella enterica subsp. enterica serovar Typhimurium str. LT2',\n",
       " 'Source File': '/home/hzabeti/qsopt-ex/build/python-qsoptex/MongooseGUI3/Models/SBML/STM_v1_0.xml'}"
      ]
     },
     "execution_count": 45,
     "metadata": {},
     "output_type": "execute_result"
    }
   ],
   "source": [
    "model5.description"
   ]
  },
  {
   "cell_type": "code",
   "execution_count": 79,
   "metadata": {},
   "outputs": [
    {
     "name": "stdout",
     "output_type": "stream",
     "text": [
      "Number of individually producible free lunch metabolites 0\n",
      "[] []\n"
     ]
    },
    {
     "data": {
      "text/plain": [
       "0"
      ]
     },
     "execution_count": 79,
     "metadata": {},
     "output_type": "execute_result"
    }
   ],
   "source": [
    "ind_flm_index_list5,ind_flm_list5 = model5.findIndividuallyProducibleFLM()\n",
    "print(ind_flm_index_list5,ind_flm_list5)\n",
    "gc.collect()"
   ]
  },
  {
   "cell_type": "code",
   "execution_count": 46,
   "metadata": {},
   "outputs": [
    {
     "name": "stdout",
     "output_type": "stream",
     "text": [
      "parameters.mip.tolerances.integrality\n",
      "CPXPARAM_Simplex_Tolerances_Feasibility          1.0000000000000001e-09\n",
      "CPXPARAM_Read_DataCheck                          1\n",
      "CPXPARAM_MIP_Tolerances_Integrality              1.0000000000000001e-15\n",
      "Found incumbent of value 979.000000 after 0.00 sec. (0.40 ticks)\n",
      "Tried aggregator 3 times.\n",
      "MIP Presolve eliminated 1012 rows and 1040 columns.\n",
      "MIP Presolve modified 2542 coefficients.\n",
      "Aggregator did 18 substitutions.\n",
      "Reduced MIP has 3364 rows, 2939 columns, and 18563 nonzeros.\n",
      "Reduced MIP has 1780 binaries, 14 generals, 0 SOSs, and 0 indicators.\n",
      "Presolve time = 0.02 sec. (19.92 ticks)\n",
      "Probing time = 0.00 sec. (0.25 ticks)\n",
      "Tried aggregator 1 time.\n",
      "Reduced MIP has 3364 rows, 2939 columns, and 18563 nonzeros.\n",
      "Reduced MIP has 1780 binaries, 14 generals, 0 SOSs, and 0 indicators.\n",
      "Presolve time = 0.01 sec. (7.04 ticks)\n",
      "Probing time = 0.00 sec. (0.25 ticks)\n",
      "MIP emphasis: balance optimality and feasibility.\n",
      "MIP search method: dynamic search.\n",
      "Parallel mode: deterministic, using up to 8 threads.\n",
      "Root relaxation solution time = 0.26 sec. (222.44 ticks)\n",
      "\n",
      "        Nodes                                         Cuts/\n",
      "   Node  Left     Objective  IInf  Best Integer    Best Bound    ItCnt     Gap\n",
      "\n",
      "*     0+    0                          979.0000        0.0000           100.00%\n",
      "*     0+    0                          911.0000        0.0000           100.00%\n",
      "*     0+    0                          907.0000        0.0000           100.00%\n",
      "      0     0        0.0000    14      907.0000        0.0000     2199  100.00%\n",
      "*     0+    0                           14.0000        0.0000           100.00%\n",
      "      0     0        1.0000    25       14.0000     Covers: 1     2448   92.86%\n",
      "      0     0        1.0000    10       14.0000     Covers: 1     2669   92.86%\n",
      "*     0+    0                           10.0000        1.0000            90.00%\n",
      "*     0+    0                            2.0000        1.0000            50.00%\n",
      "      0     0        1.0000    15        2.0000     Covers: 1     3041   50.00%\n",
      "\n",
      "Repeating presolve.\n",
      "Tried aggregator 13 times.\n",
      "MIP Presolve eliminated 1815 rows and 1818 columns.\n",
      "MIP Presolve modified 1111 coefficients.\n",
      "Aggregator did 374 substitutions.\n",
      "Reduced MIP has 1174 rows, 747 columns, and 5574 nonzeros.\n",
      "Reduced MIP has 43 binaries, 0 generals, 0 SOSs, and 0 indicators.\n",
      "Presolve time = 0.04 sec. (41.26 ticks)\n",
      "Probing time = 0.00 sec. (0.04 ticks)\n",
      "Tried aggregator 3 times.\n",
      "MIP Presolve eliminated 5 rows and 0 columns.\n",
      "MIP Presolve modified 10 coefficients.\n",
      "Aggregator did 5 substitutions.\n",
      "Reduced MIP has 1164 rows, 742 columns, and 5542 nonzeros.\n",
      "Reduced MIP has 43 binaries, 0 generals, 0 SOSs, and 0 indicators.\n",
      "Presolve time = 0.01 sec. (3.01 ticks)\n",
      "Represolve time = 0.06 sec. (46.08 ticks)\n",
      "Probing time = 0.00 sec. (0.04 ticks)\n",
      "MIP emphasis: balance optimality and feasibility.\n",
      "MIP search method: dynamic search.\n",
      "Parallel mode: deterministic, using up to 8 threads.\n",
      "Root relaxation solution time = 0.02 sec. (14.06 ticks)\n",
      "\n",
      "        Nodes                                         Cuts/\n",
      "   Node  Left     Objective  IInf  Best Integer    Best Bound    ItCnt     Gap\n",
      "\n",
      "*     0+    0                            2.0000        1.0000            50.00%\n",
      "      0     0        1.0000    14        2.0000        1.0000     3282   50.00%\n",
      "      0     0        cutoff              2.0000                   3282    0.00%\n",
      "Elapsed time = 1.16 sec. (774.06 ticks, tree = 0.01 MB, solutions = 5)\n",
      "\n",
      "Cover cuts applied:  3\n",
      "\n",
      "Root node processing (before b&c):\n",
      "  Real time             =    1.17 sec. (774.27 ticks)\n",
      "Parallel b&c, 8 threads:\n",
      "  Real time             =    0.00 sec. (0.00 ticks)\n",
      "  Sync time (average)   =    0.00 sec.\n",
      "  Wait time (average)   =    0.00 sec.\n",
      "                          ------------\n",
      "Total (root+branch&cut) =    1.17 sec. (774.27 ticks)\n",
      "Number of free lunch witnesses: 2\n",
      "List of free lunch witnesses: [2031, 2421]\n",
      "Computed y lower bound 1.3442667025137787e-07\n"
     ]
    }
   ],
   "source": [
    "flw_index_list, y_lower_bound = model5.findFreeLunchWitnesses()"
   ]
  },
  {
   "cell_type": "markdown",
   "metadata": {},
   "source": [
    "# 15"
   ]
  },
  {
   "cell_type": "code",
   "execution_count": 47,
   "metadata": {},
   "outputs": [
    {
     "name": "stdout",
     "output_type": "stream",
     "text": [
      "Warning: no candidate for extra, outside found in the list\n",
      "Warning: multiple candidates for biomass found in the list\n",
      "0) E. coli biomass objective function (iJO1366) - WT - with 53.95 GAM estimate 1) E. coli biomass objective function (iJO1366) - core - with 53.95 GAM estimate\n",
      "Please select the correct string from the list above and enter its number, or -1 if none \n",
      "0\n"
     ]
    }
   ],
   "source": [
    "model6 =parseSBML('/home/hzabeti/qsopt-ex/build/python-qsoptex/MongooseGUI3/Models/SBML/iECBD_1354.xml')"
   ]
  },
  {
   "cell_type": "code",
   "execution_count": 48,
   "metadata": {},
   "outputs": [
    {
     "data": {
      "text/plain": [
       "{'ID': 'iECBD_1354',\n",
       " 'Name': \"Escherichia coli 'BL21-Gold(DE3)pLysS AG'\",\n",
       " 'Source File': '/home/hzabeti/qsopt-ex/build/python-qsoptex/MongooseGUI3/Models/SBML/iECBD_1354.xml'}"
      ]
     },
     "execution_count": 48,
     "metadata": {},
     "output_type": "execute_result"
    }
   ],
   "source": [
    "model6.description"
   ]
  },
  {
   "cell_type": "code",
   "execution_count": 80,
   "metadata": {},
   "outputs": [
    {
     "name": "stdout",
     "output_type": "stream",
     "text": [
      "Number of individually producible free lunch metabolites 3\n",
      "[72, 290, 463] ['M_h_c', 'M_h_e', 'M_h_p']\n"
     ]
    },
    {
     "data": {
      "text/plain": [
       "0"
      ]
     },
     "execution_count": 80,
     "metadata": {},
     "output_type": "execute_result"
    }
   ],
   "source": [
    "ind_flm_index_list6,ind_flm_list6 = model6.findIndividuallyProducibleFLM()\n",
    "print(ind_flm_index_list6,ind_flm_list6)\n",
    "gc.collect()"
   ]
  },
  {
   "cell_type": "code",
   "execution_count": 49,
   "metadata": {},
   "outputs": [
    {
     "name": "stdout",
     "output_type": "stream",
     "text": [
      "parameters.mip.tolerances.integrality\n",
      "CPXPARAM_Simplex_Tolerances_Feasibility          1.0000000000000001e-09\n",
      "CPXPARAM_Read_DataCheck                          1\n",
      "CPXPARAM_MIP_Tolerances_Integrality              1.0000000000000001e-15\n",
      "Found incumbent of value 1043.000000 after 0.00 sec. (0.43 ticks)\n",
      "Tried aggregator 3 times.\n",
      "MIP Presolve eliminated 1137 rows and 1185 columns.\n",
      "MIP Presolve modified 3205 coefficients.\n",
      "Aggregator did 19 substitutions.\n",
      "Reduced MIP has 3554 rows, 3100 columns, and 19568 nonzeros.\n",
      "Reduced MIP has 1912 binaries, 16 generals, 0 SOSs, and 0 indicators.\n",
      "Presolve time = 0.03 sec. (24.55 ticks)\n",
      "Probing time = 0.00 sec. (0.26 ticks)\n",
      "Tried aggregator 1 time.\n",
      "Reduced MIP has 3554 rows, 3100 columns, and 19568 nonzeros.\n",
      "Reduced MIP has 1912 binaries, 16 generals, 0 SOSs, and 0 indicators.\n",
      "Presolve time = 0.01 sec. (7.43 ticks)\n",
      "Probing time = 0.00 sec. (0.26 ticks)\n",
      "MIP emphasis: balance optimality and feasibility.\n",
      "MIP search method: dynamic search.\n",
      "Parallel mode: deterministic, using up to 8 threads.\n",
      "Root relaxation solution time = 0.18 sec. (146.20 ticks)\n",
      "\n",
      "        Nodes                                         Cuts/\n",
      "   Node  Left     Objective  IInf  Best Integer    Best Bound    ItCnt     Gap\n",
      "\n",
      "*     0+    0                         1043.0000        0.0000           100.00%\n",
      "*     0+    0                          935.0000        0.0000           100.00%\n",
      "*     0+    0                          934.0000        0.0000           100.00%\n",
      "      0     0        0.0000     1      934.0000        0.0000     1419  100.00%\n",
      "*     0+    0                            1.0000        0.0000           100.00%\n",
      "      0     0        cutoff              1.0000                   1423    0.00%\n",
      "Elapsed time = 0.27 sec. (207.77 ticks, tree = 0.01 MB, solutions = 3)\n",
      "\n",
      "Cover cuts applied:  1\n",
      "\n",
      "Root node processing (before b&c):\n",
      "  Real time             =    0.28 sec. (208.10 ticks)\n",
      "Parallel b&c, 8 threads:\n",
      "  Real time             =    0.00 sec. (0.00 ticks)\n",
      "  Sync time (average)   =    0.00 sec.\n",
      "  Wait time (average)   =    0.00 sec.\n",
      "                          ------------\n",
      "Total (root+branch&cut) =    0.28 sec. (208.10 ticks)\n",
      "Number of free lunch witnesses: 1\n",
      "List of free lunch witnesses: [2691]\n",
      "Computed y lower bound 1.8674136321195145e-07\n"
     ]
    }
   ],
   "source": [
    "flw_index_list, y_lower_bound = model6.findFreeLunchWitnesses()"
   ]
  },
  {
   "cell_type": "markdown",
   "metadata": {},
   "source": [
    "# 16"
   ]
  },
  {
   "cell_type": "code",
   "execution_count": 50,
   "metadata": {},
   "outputs": [
    {
     "name": "stdout",
     "output_type": "stream",
     "text": [
      "Warning: no candidate for extra, outside found in the list\n",
      "Warning: multiple candidates for biomass found in the list\n",
      "0) E. coli biomass objective function (iJO1366) - WT - with 53.95 GAM estimate 1) E. coli biomass objective function (iJO1366) - core - with 53.95 GAM estimate\n",
      "Please select the correct string from the list above and enter its number, or -1 if none \n",
      "0\n"
     ]
    }
   ],
   "source": [
    "model7 =parseSBML('/home/hzabeti/qsopt-ex/build/python-qsoptex/MongooseGUI3/Models/SBML/iECO26_1355.xml')"
   ]
  },
  {
   "cell_type": "code",
   "execution_count": 51,
   "metadata": {},
   "outputs": [
    {
     "data": {
      "text/plain": [
       "{'ID': 'iECO26_1355',\n",
       " 'Name': 'Escherichia coli O26:H11 str. 11368',\n",
       " 'Source File': '/home/hzabeti/qsopt-ex/build/python-qsoptex/MongooseGUI3/Models/SBML/iECO26_1355.xml'}"
      ]
     },
     "execution_count": 51,
     "metadata": {},
     "output_type": "execute_result"
    }
   ],
   "source": [
    "model7.description"
   ]
  },
  {
   "cell_type": "code",
   "execution_count": 81,
   "metadata": {},
   "outputs": [
    {
     "name": "stdout",
     "output_type": "stream",
     "text": [
      "Number of individually producible free lunch metabolites 3\n",
      "[59, 290, 461] ['M_h_c', 'M_h_e', 'M_h_p']\n"
     ]
    },
    {
     "data": {
      "text/plain": [
       "0"
      ]
     },
     "execution_count": 81,
     "metadata": {},
     "output_type": "execute_result"
    }
   ],
   "source": [
    "ind_flm_index_list7,ind_flm_list7 = model7.findIndividuallyProducibleFLM()\n",
    "print(ind_flm_index_list7,ind_flm_list7)\n",
    "gc.collect()"
   ]
  },
  {
   "cell_type": "code",
   "execution_count": 52,
   "metadata": {},
   "outputs": [
    {
     "name": "stdout",
     "output_type": "stream",
     "text": [
      "parameters.mip.tolerances.integrality\n",
      "CPXPARAM_Simplex_Tolerances_Feasibility          1.0000000000000001e-09\n",
      "CPXPARAM_Read_DataCheck                          1\n",
      "CPXPARAM_MIP_Tolerances_Integrality              1.0000000000000001e-15\n",
      "Found incumbent of value 1049.000000 after 0.00 sec. (0.44 ticks)\n",
      "Tried aggregator 3 times.\n",
      "MIP Presolve eliminated 1128 rows and 1172 columns.\n",
      "MIP Presolve modified 3169 coefficients.\n",
      "Aggregator did 22 substitutions.\n",
      "Reduced MIP has 3624 rows, 3156 columns, and 19960 nonzeros.\n",
      "Reduced MIP has 1943 binaries, 18 generals, 0 SOSs, and 0 indicators.\n",
      "Presolve time = 0.02 sec. (24.64 ticks)\n",
      "Probing time = 0.00 sec. (0.27 ticks)\n",
      "Tried aggregator 1 time.\n",
      "Reduced MIP has 3624 rows, 3156 columns, and 19960 nonzeros.\n",
      "Reduced MIP has 1943 binaries, 18 generals, 0 SOSs, and 0 indicators.\n",
      "Presolve time = 0.01 sec. (7.58 ticks)\n",
      "Probing time = 0.00 sec. (0.27 ticks)\n",
      "MIP emphasis: balance optimality and feasibility.\n",
      "MIP search method: dynamic search.\n",
      "Parallel mode: deterministic, using up to 8 threads.\n",
      "Root relaxation solution time = 0.20 sec. (163.68 ticks)\n",
      "\n",
      "        Nodes                                         Cuts/\n",
      "   Node  Left     Objective  IInf  Best Integer    Best Bound    ItCnt     Gap\n",
      "\n",
      "*     0+    0                         1049.0000        0.0000           100.00%\n",
      "*     0+    0                          947.0000        0.0000           100.00%\n",
      "*     0+    0                          944.0000        0.0000           100.00%\n",
      "      0     0        0.0000     2      944.0000        0.0000     1482  100.00%\n",
      "*     0+    0                            2.0000        0.0000           100.00%\n",
      "      0     0        1.0000     1        2.0000     Covers: 1     1494   50.00%\n",
      "      0     0        cutoff              2.0000                   1497    0.00%\n",
      "Elapsed time = 0.32 sec. (239.76 ticks, tree = 0.01 MB, solutions = 3)\n",
      "\n",
      "Cover cuts applied:  2\n",
      "\n",
      "Root node processing (before b&c):\n",
      "  Real time             =    0.33 sec. (240.10 ticks)\n",
      "Parallel b&c, 8 threads:\n",
      "  Real time             =    0.00 sec. (0.00 ticks)\n",
      "  Sync time (average)   =    0.00 sec.\n",
      "  Wait time (average)   =    0.00 sec.\n",
      "                          ------------\n",
      "Total (root+branch&cut) =    0.33 sec. (240.10 ticks)\n",
      "Number of free lunch witnesses: 2\n",
      "List of free lunch witnesses: [2717, 2730]\n",
      "Computed y lower bound 1.8674136321195145e-07\n"
     ]
    }
   ],
   "source": [
    "flw_index_list, y_lower_bound = model7.findFreeLunchWitnesses()"
   ]
  },
  {
   "cell_type": "markdown",
   "metadata": {},
   "source": [
    "# 17"
   ]
  },
  {
   "cell_type": "code",
   "execution_count": 53,
   "metadata": {},
   "outputs": [
    {
     "name": "stdout",
     "output_type": "stream",
     "text": [
      "Warning: no candidate for extra, outside found in the list\n",
      "Warning: multiple candidates for biomass found in the list\n",
      "0) E. coli biomass objective function (iJO1366) - WT - with 53.95 GAM estimate 1) E. coli biomass objective function (iJO1366) - core - with 53.95 GAM estimate\n",
      "Please select the correct string from the list above and enter its number, or -1 if none \n",
      "0\n"
     ]
    }
   ],
   "source": [
    "model8 =parseSBML('/home/hzabeti/qsopt-ex/build/python-qsoptex/MongooseGUI3/Models/SBML/iWFL_1372.xml')"
   ]
  },
  {
   "cell_type": "code",
   "execution_count": 54,
   "metadata": {},
   "outputs": [
    {
     "data": {
      "text/plain": [
       "{'ID': 'iWFL_1372',\n",
       " 'Name': 'Escherichia coli W',\n",
       " 'Source File': '/home/hzabeti/qsopt-ex/build/python-qsoptex/MongooseGUI3/Models/SBML/iWFL_1372.xml'}"
      ]
     },
     "execution_count": 54,
     "metadata": {},
     "output_type": "execute_result"
    }
   ],
   "source": [
    "model8.description"
   ]
  },
  {
   "cell_type": "code",
   "execution_count": 82,
   "metadata": {},
   "outputs": [
    {
     "name": "stdout",
     "output_type": "stream",
     "text": [
      "Number of individually producible free lunch metabolites 3\n",
      "[57, 290, 461] ['M_h_c', 'M_h_e', 'M_h_p']\n"
     ]
    },
    {
     "data": {
      "text/plain": [
       "0"
      ]
     },
     "execution_count": 82,
     "metadata": {},
     "output_type": "execute_result"
    }
   ],
   "source": [
    "ind_flm_index_list8,ind_flm_list8 = model8.findIndividuallyProducibleFLM()\n",
    "print(ind_flm_index_list8,ind_flm_list8)\n",
    "gc.collect()"
   ]
  },
  {
   "cell_type": "code",
   "execution_count": 55,
   "metadata": {},
   "outputs": [
    {
     "name": "stdout",
     "output_type": "stream",
     "text": [
      "parameters.mip.tolerances.integrality\n",
      "CPXPARAM_Simplex_Tolerances_Feasibility          1.0000000000000001e-09\n",
      "CPXPARAM_Read_DataCheck                          1\n",
      "CPXPARAM_MIP_Tolerances_Integrality              1.0000000000000001e-15\n",
      "Found incumbent of value 1055.000000 after 0.00 sec. (0.44 ticks)\n",
      "Tried aggregator 3 times.\n",
      "MIP Presolve eliminated 1144 rows and 1188 columns.\n",
      "MIP Presolve modified 3226 coefficients.\n",
      "Aggregator did 20 substitutions.\n",
      "Reduced MIP has 3614 rows, 3151 columns, and 19890 nonzeros.\n",
      "Reduced MIP has 1942 binaries, 15 generals, 0 SOSs, and 0 indicators.\n",
      "Presolve time = 0.02 sec. (24.79 ticks)\n",
      "Probing time = 0.00 sec. (0.27 ticks)\n",
      "Tried aggregator 1 time.\n",
      "Reduced MIP has 3614 rows, 3151 columns, and 19890 nonzeros.\n",
      "Reduced MIP has 1942 binaries, 15 generals, 0 SOSs, and 0 indicators.\n",
      "Presolve time = 0.01 sec. (7.55 ticks)\n",
      "Probing time = 0.00 sec. (0.27 ticks)\n",
      "MIP emphasis: balance optimality and feasibility.\n",
      "MIP search method: dynamic search.\n",
      "Parallel mode: deterministic, using up to 8 threads.\n",
      "Root relaxation solution time = 0.23 sec. (155.21 ticks)\n",
      "\n",
      "        Nodes                                         Cuts/\n",
      "   Node  Left     Objective  IInf  Best Integer    Best Bound    ItCnt     Gap\n",
      "\n",
      "*     0+    0                         1055.0000        0.0000           100.00%\n",
      "*     0+    0                          948.0000        0.0000           100.00%\n",
      "*     0+    0                          943.0000        0.0000           100.00%\n",
      "      0     0        0.0000     2      943.0000        0.0000     1546  100.00%\n",
      "*     0+    0                            2.0000        0.0000           100.00%\n",
      "      0     0        1.0000     3        2.0000     Covers: 1     1672   50.00%\n",
      "      0     0        cutoff              2.0000                   1674    0.00%\n",
      "Elapsed time = 0.38 sec. (246.18 ticks, tree = 0.01 MB, solutions = 3)\n",
      "\n",
      "Cover cuts applied:  2\n",
      "\n",
      "Root node processing (before b&c):\n",
      "  Real time             =    0.38 sec. (246.51 ticks)\n",
      "Parallel b&c, 8 threads:\n",
      "  Real time             =    0.00 sec. (0.00 ticks)\n",
      "  Sync time (average)   =    0.00 sec.\n",
      "  Wait time (average)   =    0.00 sec.\n",
      "                          ------------\n",
      "Total (root+branch&cut) =    0.38 sec. (246.51 ticks)\n",
      "Number of free lunch witnesses: 2\n",
      "List of free lunch witnesses: [2699, 2713]\n",
      "Computed y lower bound 1.8674136321195145e-07\n"
     ]
    }
   ],
   "source": [
    "flw_index_list, y_lower_bound = model8.findFreeLunchWitnesses()"
   ]
  },
  {
   "cell_type": "markdown",
   "metadata": {},
   "source": [
    "# 18"
   ]
  },
  {
   "cell_type": "code",
   "execution_count": 56,
   "metadata": {},
   "outputs": [
    {
     "name": "stdout",
     "output_type": "stream",
     "text": [
      "Warning: no candidate for extra, outside found in the list\n",
      "Warning: multiple candidates for biomass found in the list\n",
      "0) E. coli biomass objective function (iJO1366) - WT - with 53.95 GAM estimate 1) E. coli biomass objective function (iJO1366) - core - with 53.95 GAM estimate\n",
      "Please select the correct string from the list above and enter its number, or -1 if none \n",
      "0\n"
     ]
    }
   ],
   "source": [
    "model9 =parseSBML('/home/hzabeti/qsopt-ex/build/python-qsoptex/MongooseGUI3/Models/SBML/iECSE_1348.xml')"
   ]
  },
  {
   "cell_type": "code",
   "execution_count": 57,
   "metadata": {},
   "outputs": [
    {
     "data": {
      "text/plain": [
       "{'ID': 'iECSE_1348',\n",
       " 'Name': 'Escherichia coli SE11',\n",
       " 'Source File': '/home/hzabeti/qsopt-ex/build/python-qsoptex/MongooseGUI3/Models/SBML/iECSE_1348.xml'}"
      ]
     },
     "execution_count": 57,
     "metadata": {},
     "output_type": "execute_result"
    }
   ],
   "source": [
    "model9.description"
   ]
  },
  {
   "cell_type": "code",
   "execution_count": 83,
   "metadata": {},
   "outputs": [
    {
     "name": "stdout",
     "output_type": "stream",
     "text": [
      "Number of individually producible free lunch metabolites 3\n",
      "[92, 290, 461] ['M_h_c', 'M_h_e', 'M_h_p']\n"
     ]
    },
    {
     "data": {
      "text/plain": [
       "0"
      ]
     },
     "execution_count": 83,
     "metadata": {},
     "output_type": "execute_result"
    }
   ],
   "source": [
    "ind_flm_index_list9,ind_flm_list9 = model9.findIndividuallyProducibleFLM()\n",
    "print(ind_flm_index_list9,ind_flm_list9)\n",
    "gc.collect()"
   ]
  },
  {
   "cell_type": "code",
   "execution_count": 58,
   "metadata": {},
   "outputs": [
    {
     "name": "stdout",
     "output_type": "stream",
     "text": [
      "parameters.mip.tolerances.integrality\n",
      "CPXPARAM_Simplex_Tolerances_Feasibility          1.0000000000000001e-09\n",
      "CPXPARAM_Read_DataCheck                          1\n",
      "CPXPARAM_MIP_Tolerances_Integrality              1.0000000000000001e-15\n",
      "Found incumbent of value 1037.000000 after 0.00 sec. (0.43 ticks)\n",
      "Tried aggregator 3 times.\n",
      "MIP Presolve eliminated 1126 rows and 1166 columns.\n",
      "MIP Presolve modified 3185 coefficients.\n",
      "Aggregator did 21 substitutions.\n",
      "Reduced MIP has 3603 rows, 3143 columns, and 19807 nonzeros.\n",
      "Reduced MIP has 1935 binaries, 17 generals, 0 SOSs, and 0 indicators.\n",
      "Presolve time = 0.02 sec. (24.51 ticks)\n",
      "Probing time = 0.00 sec. (0.27 ticks)\n",
      "Tried aggregator 1 time.\n",
      "Reduced MIP has 3603 rows, 3143 columns, and 19807 nonzeros.\n",
      "Reduced MIP has 1935 binaries, 17 generals, 0 SOSs, and 0 indicators.\n",
      "Presolve time = 0.02 sec. (7.53 ticks)\n",
      "Probing time = 0.00 sec. (0.27 ticks)\n",
      "MIP emphasis: balance optimality and feasibility.\n",
      "MIP search method: dynamic search.\n",
      "Parallel mode: deterministic, using up to 8 threads.\n",
      "Root relaxation solution time = 0.19 sec. (162.96 ticks)\n",
      "\n",
      "        Nodes                                         Cuts/\n",
      "   Node  Left     Objective  IInf  Best Integer    Best Bound    ItCnt     Gap\n",
      "\n",
      "*     0+    0                         1037.0000        0.0000           100.00%\n",
      "*     0+    0                          938.0000        0.0000           100.00%\n",
      "*     0+    0                          934.0000        0.0000           100.00%\n",
      "      0     0        0.0000     2      934.0000        0.0000     1466  100.00%\n",
      "*     0+    0                            2.0000        0.0000           100.00%\n",
      "      0     0        1.0000     1        2.0000     Covers: 1     1473   50.00%\n",
      "      0     0        cutoff              2.0000                   1476    0.00%\n",
      "Elapsed time = 0.32 sec. (239.95 ticks, tree = 0.01 MB, solutions = 3)\n",
      "\n",
      "Cover cuts applied:  2\n",
      "\n",
      "Root node processing (before b&c):\n",
      "  Real time             =    0.32 sec. (240.29 ticks)\n",
      "Parallel b&c, 8 threads:\n",
      "  Real time             =    0.00 sec. (0.00 ticks)\n",
      "  Sync time (average)   =    0.00 sec.\n",
      "  Wait time (average)   =    0.00 sec.\n",
      "                          ------------\n",
      "Total (root+branch&cut) =    0.32 sec. (240.29 ticks)\n",
      "Number of free lunch witnesses: 2\n",
      "List of free lunch witnesses: [2704, 2717]\n",
      "Computed y lower bound 1.8674136321195145e-07\n"
     ]
    }
   ],
   "source": [
    "flw_index_list, y_lower_bound = model9.findFreeLunchWitnesses()"
   ]
  },
  {
   "cell_type": "markdown",
   "metadata": {},
   "source": [
    "# 19"
   ]
  },
  {
   "cell_type": "code",
   "execution_count": 59,
   "metadata": {},
   "outputs": [
    {
     "name": "stdout",
     "output_type": "stream",
     "text": [
      "Warning: no candidate for extra, outside found in the list\n",
      "Warning: multiple candidates for biomass found in the list\n",
      "0) E. coli biomass objective function (iJO1366) - WT - with 53.95 GAM estimate 1) E. coli biomass objective function (iJO1366) - core - with 53.95 GAM estimate\n",
      "Please select the correct string from the list above and enter its number, or -1 if none \n",
      "0\n"
     ]
    }
   ],
   "source": [
    "model19 =parseSBML('/home/hzabeti/qsopt-ex/build/python-qsoptex/MongooseGUI3/Models/SBML/iECD_1391.xml')"
   ]
  },
  {
   "cell_type": "code",
   "execution_count": 60,
   "metadata": {},
   "outputs": [
    {
     "data": {
      "text/plain": [
       "{'ID': 'iECD_1391',\n",
       " 'Name': 'Escherichia coli BL21(DE3)',\n",
       " 'Source File': '/home/hzabeti/qsopt-ex/build/python-qsoptex/MongooseGUI3/Models/SBML/iECD_1391.xml'}"
      ]
     },
     "execution_count": 60,
     "metadata": {},
     "output_type": "execute_result"
    }
   ],
   "source": [
    "model19.description"
   ]
  },
  {
   "cell_type": "code",
   "execution_count": 100,
   "metadata": {},
   "outputs": [
    {
     "name": "stdout",
     "output_type": "stream",
     "text": [
      "Number of individually producible free lunch metabolites 3\n",
      "[47, 290, 462] ['M_h_c', 'M_h_e', 'M_h_p']\n"
     ]
    },
    {
     "data": {
      "text/plain": [
       "0"
      ]
     },
     "execution_count": 100,
     "metadata": {},
     "output_type": "execute_result"
    }
   ],
   "source": [
    "ind_flm_index_list19,ind_flm_list19 = model19.findIndividuallyProducibleFLM()\n",
    "print(ind_flm_index_list19,ind_flm_list19)\n",
    "gc.collect()"
   ]
  },
  {
   "cell_type": "code",
   "execution_count": 61,
   "metadata": {},
   "outputs": [
    {
     "name": "stdout",
     "output_type": "stream",
     "text": [
      "parameters.mip.tolerances.integrality\n",
      "CPXPARAM_Simplex_Tolerances_Feasibility          1.0000000000000001e-09\n",
      "CPXPARAM_Read_DataCheck                          1\n",
      "CPXPARAM_MIP_Tolerances_Integrality              1.0000000000000001e-15\n",
      "Found incumbent of value 1038.000000 after 0.00 sec. (0.43 ticks)\n",
      "Tried aggregator 3 times.\n",
      "MIP Presolve eliminated 1125 rows and 1168 columns.\n",
      "MIP Presolve modified 3174 coefficients.\n",
      "Aggregator did 19 substitutions.\n",
      "Reduced MIP has 3552 rows, 3102 columns, and 19562 nonzeros.\n",
      "Reduced MIP has 1911 binaries, 16 generals, 0 SOSs, and 0 indicators.\n",
      "Presolve time = 0.02 sec. (24.37 ticks)\n",
      "Probing time = 0.00 sec. (0.26 ticks)\n",
      "Tried aggregator 1 time.\n",
      "Reduced MIP has 3552 rows, 3102 columns, and 19562 nonzeros.\n",
      "Reduced MIP has 1911 binaries, 16 generals, 0 SOSs, and 0 indicators.\n",
      "Presolve time = 0.01 sec. (7.43 ticks)\n",
      "Probing time = 0.00 sec. (0.26 ticks)\n",
      "MIP emphasis: balance optimality and feasibility.\n",
      "MIP search method: dynamic search.\n",
      "Parallel mode: deterministic, using up to 8 threads.\n",
      "Root relaxation solution time = 0.19 sec. (146.90 ticks)\n",
      "\n",
      "        Nodes                                         Cuts/\n",
      "   Node  Left     Objective  IInf  Best Integer    Best Bound    ItCnt     Gap\n",
      "\n",
      "*     0+    0                         1038.0000        0.0000           100.00%\n",
      "*     0+    0                          937.0000        0.0000           100.00%\n",
      "*     0+    0                          933.0000        0.0000           100.00%\n",
      "      0     0        0.0000     1      933.0000        0.0000     1444  100.00%\n",
      "*     0+    0                            1.0000        0.0000           100.00%\n",
      "      0     0        cutoff              1.0000                   1448    0.00%\n",
      "Elapsed time = 0.28 sec. (210.65 ticks, tree = 0.01 MB, solutions = 3)\n",
      "\n",
      "Cover cuts applied:  1\n",
      "\n",
      "Root node processing (before b&c):\n",
      "  Real time             =    0.29 sec. (210.98 ticks)\n",
      "Parallel b&c, 8 threads:\n",
      "  Real time             =    0.00 sec. (0.00 ticks)\n",
      "  Sync time (average)   =    0.00 sec.\n",
      "  Wait time (average)   =    0.00 sec.\n",
      "                          ------------\n",
      "Total (root+branch&cut) =    0.29 sec. (210.98 ticks)\n",
      "Number of free lunch witnesses: 1\n",
      "List of free lunch witnesses: [2691]\n",
      "Computed y lower bound 1.8674136321195145e-07\n"
     ]
    }
   ],
   "source": [
    "flw_index_list, y_lower_bound = model19.findFreeLunchWitnesses()"
   ]
  },
  {
   "cell_type": "markdown",
   "metadata": {},
   "source": [
    "# 20"
   ]
  },
  {
   "cell_type": "code",
   "execution_count": 62,
   "metadata": {},
   "outputs": [
    {
     "name": "stdout",
     "output_type": "stream",
     "text": [
      "Warning: no candidate for extra, outside found in the list\n",
      "Warning: multiple candidates for biomass found in the list\n",
      "0) E. coli biomass objective function (iJO1366) - WT - with 53.95 GAM estimate 1) E. coli biomass objective function (iJO1366) - core - with 53.95 GAM estimate\n",
      "Please select the correct string from the list above and enter its number, or -1 if none \n",
      "0\n"
     ]
    }
   ],
   "source": [
    "model20 =parseSBML('/home/hzabeti/qsopt-ex/build/python-qsoptex/MongooseGUI3/Models/SBML/iEcDH1_1363.xml')"
   ]
  },
  {
   "cell_type": "code",
   "execution_count": 63,
   "metadata": {},
   "outputs": [
    {
     "data": {
      "text/plain": [
       "{'ID': 'iEcDH1_1363',\n",
       " 'Name': 'Escherichia coli DH1',\n",
       " 'Source File': '/home/hzabeti/qsopt-ex/build/python-qsoptex/MongooseGUI3/Models/SBML/iEcDH1_1363.xml'}"
      ]
     },
     "execution_count": 63,
     "metadata": {},
     "output_type": "execute_result"
    }
   ],
   "source": [
    "model20.description"
   ]
  },
  {
   "cell_type": "code",
   "execution_count": 101,
   "metadata": {},
   "outputs": [
    {
     "name": "stdout",
     "output_type": "stream",
     "text": [
      "Number of individually producible free lunch metabolites 3\n",
      "[86, 290, 463] ['M_h_c', 'M_h_e', 'M_h_p']\n"
     ]
    },
    {
     "data": {
      "text/plain": [
       "0"
      ]
     },
     "execution_count": 101,
     "metadata": {},
     "output_type": "execute_result"
    }
   ],
   "source": [
    "ind_flm_index_list20,ind_flm_list20 = model20.findIndividuallyProducibleFLM()\n",
    "print(ind_flm_index_list20,ind_flm_list20)\n",
    "gc.collect()"
   ]
  },
  {
   "cell_type": "code",
   "execution_count": 64,
   "metadata": {},
   "outputs": [
    {
     "name": "stdout",
     "output_type": "stream",
     "text": [
      "parameters.mip.tolerances.integrality\n",
      "CPXPARAM_Simplex_Tolerances_Feasibility          1.0000000000000001e-09\n",
      "CPXPARAM_Read_DataCheck                          1\n",
      "CPXPARAM_MIP_Tolerances_Integrality              1.0000000000000001e-15\n",
      "Found incumbent of value 1042.000000 after 0.00 sec. (0.43 ticks)\n",
      "Tried aggregator 3 times.\n",
      "MIP Presolve eliminated 1115 rows and 1158 columns.\n",
      "MIP Presolve modified 3117 coefficients.\n",
      "Aggregator did 19 substitutions.\n",
      "Reduced MIP has 3580 rows, 3127 columns, and 19753 nonzeros.\n",
      "Reduced MIP has 1922 binaries, 15 generals, 0 SOSs, and 0 indicators.\n",
      "Presolve time = 0.02 sec. (24.31 ticks)\n",
      "Probing time = 0.00 sec. (0.27 ticks)\n",
      "Tried aggregator 1 time.\n",
      "Reduced MIP has 3580 rows, 3127 columns, and 19753 nonzeros.\n",
      "Reduced MIP has 1922 binaries, 15 generals, 0 SOSs, and 0 indicators.\n",
      "Presolve time = 0.01 sec. (7.49 ticks)\n",
      "Probing time = 0.05 sec. (0.27 ticks)\n",
      "MIP emphasis: balance optimality and feasibility.\n",
      "MIP search method: dynamic search.\n",
      "Parallel mode: deterministic, using up to 8 threads.\n",
      "Root relaxation solution time = 0.19 sec. (152.57 ticks)\n",
      "\n",
      "        Nodes                                         Cuts/\n",
      "   Node  Left     Objective  IInf  Best Integer    Best Bound    ItCnt     Gap\n",
      "\n",
      "*     0+    0                         1042.0000        0.0000           100.00%\n",
      "*     0+    0                          947.0000        0.0000           100.00%\n",
      "*     0+    0                          942.0000        0.0000           100.00%\n",
      "      0     0        0.0000     1      942.0000        0.0000     1449  100.00%\n",
      "*     0+    0                            1.0000        0.0000           100.00%\n",
      "      0     0        cutoff              1.0000                   1454    0.00%\n",
      "Elapsed time = 0.33 sec. (214.40 ticks, tree = 0.01 MB, solutions = 3)\n",
      "\n",
      "Cover cuts applied:  1\n",
      "\n",
      "Root node processing (before b&c):\n",
      "  Real time             =    0.33 sec. (214.73 ticks)\n",
      "Parallel b&c, 8 threads:\n",
      "  Real time             =    0.00 sec. (0.00 ticks)\n",
      "  Sync time (average)   =    0.00 sec.\n",
      "  Wait time (average)   =    0.00 sec.\n",
      "                          ------------\n",
      "Total (root+branch&cut) =    0.33 sec. (214.73 ticks)\n",
      "Number of free lunch witnesses: 1\n",
      "List of free lunch witnesses: [2019]\n",
      "Computed y lower bound 1.8674136321195145e-07\n"
     ]
    }
   ],
   "source": [
    "flw_index_list, y_lower_bound = model20.findFreeLunchWitnesses()"
   ]
  },
  {
   "cell_type": "markdown",
   "metadata": {},
   "source": [
    "# 21"
   ]
  },
  {
   "cell_type": "code",
   "execution_count": 65,
   "metadata": {},
   "outputs": [
    {
     "name": "stdout",
     "output_type": "stream",
     "text": [
      "Warning: no candidate for extra, outside found in the list\n",
      "Warning: multiple candidates for biomass found in the list\n",
      "0) E. coli biomass objective function (iJO1366) - WT - with 53.95 GAM estimate 1) E. coli biomass objective function (iJO1366) - core - with 53.95 GAM estimate\n",
      "Please select the correct string from the list above and enter its number, or -1 if none \n",
      "0\n"
     ]
    }
   ],
   "source": [
    "model21 =parseSBML('/home/hzabeti/qsopt-ex/build/python-qsoptex/MongooseGUI3/Models/SBML/iECDH1ME8569_1439.xml')"
   ]
  },
  {
   "cell_type": "code",
   "execution_count": 66,
   "metadata": {},
   "outputs": [
    {
     "data": {
      "text/plain": [
       "{'ID': 'iECDH1ME8569_1439',\n",
       " 'Name': 'Escherichia coli DH1',\n",
       " 'Source File': '/home/hzabeti/qsopt-ex/build/python-qsoptex/MongooseGUI3/Models/SBML/iECDH1ME8569_1439.xml'}"
      ]
     },
     "execution_count": 66,
     "metadata": {},
     "output_type": "execute_result"
    }
   ],
   "source": [
    "model21.description"
   ]
  },
  {
   "cell_type": "code",
   "execution_count": 102,
   "metadata": {},
   "outputs": [
    {
     "name": "stdout",
     "output_type": "stream",
     "text": [
      "Number of individually producible free lunch metabolites 3\n",
      "[11, 290, 462] ['M_h_c', 'M_h_e', 'M_h_p']\n"
     ]
    },
    {
     "data": {
      "text/plain": [
       "0"
      ]
     },
     "execution_count": 102,
     "metadata": {},
     "output_type": "execute_result"
    }
   ],
   "source": [
    "ind_flm_index_list21,ind_flm_list21 = model21.findIndividuallyProducibleFLM()\n",
    "print(ind_flm_index_list21,ind_flm_list21)\n",
    "gc.collect()"
   ]
  },
  {
   "cell_type": "code",
   "execution_count": 67,
   "metadata": {},
   "outputs": [
    {
     "name": "stdout",
     "output_type": "stream",
     "text": [
      "parameters.mip.tolerances.integrality\n",
      "CPXPARAM_Simplex_Tolerances_Feasibility          1.0000000000000001e-09\n",
      "CPXPARAM_Read_DataCheck                          1\n",
      "CPXPARAM_MIP_Tolerances_Integrality              1.0000000000000001e-15\n",
      "Found incumbent of value 1041.000000 after 0.00 sec. (0.43 ticks)\n",
      "Tried aggregator 3 times.\n",
      "MIP Presolve eliminated 1117 rows and 1159 columns.\n",
      "MIP Presolve modified 3111 coefficients.\n",
      "Aggregator did 19 substitutions.\n",
      "Reduced MIP has 3588 rows, 3132 columns, and 19788 nonzeros.\n",
      "Reduced MIP has 1925 binaries, 15 generals, 0 SOSs, and 0 indicators.\n",
      "Presolve time = 0.02 sec. (24.33 ticks)\n",
      "Probing time = 0.00 sec. (0.27 ticks)\n",
      "Tried aggregator 1 time.\n",
      "Reduced MIP has 3588 rows, 3132 columns, and 19788 nonzeros.\n",
      "Reduced MIP has 1925 binaries, 15 generals, 0 SOSs, and 0 indicators.\n",
      "Presolve time = 0.01 sec. (7.51 ticks)\n",
      "Probing time = 0.02 sec. (0.27 ticks)\n",
      "MIP emphasis: balance optimality and feasibility.\n",
      "MIP search method: dynamic search.\n",
      "Parallel mode: deterministic, using up to 8 threads.\n",
      "Root relaxation solution time = 0.22 sec. (159.22 ticks)\n",
      "\n",
      "        Nodes                                         Cuts/\n",
      "   Node  Left     Objective  IInf  Best Integer    Best Bound    ItCnt     Gap\n",
      "\n",
      "*     0+    0                         1041.0000        0.0000           100.00%\n",
      "*     0+    0                          947.0000        0.0000           100.00%\n",
      "*     0+    0                          941.0000        0.0000           100.00%\n",
      "      0     0        0.0000     1      941.0000        0.0000     1503  100.00%\n",
      "*     0+    0                            1.0000        0.0000           100.00%\n",
      "      0     0        cutoff              1.0000                   1510    0.00%\n",
      "Elapsed time = 0.33 sec. (221.49 ticks, tree = 0.01 MB, solutions = 3)\n",
      "\n",
      "Cover cuts applied:  1\n",
      "\n",
      "Root node processing (before b&c):\n",
      "  Real time             =    0.33 sec. (221.83 ticks)\n",
      "Parallel b&c, 8 threads:\n",
      "  Real time             =    0.00 sec. (0.00 ticks)\n",
      "  Sync time (average)   =    0.00 sec.\n",
      "  Wait time (average)   =    0.00 sec.\n",
      "                          ------------\n",
      "Total (root+branch&cut) =    0.33 sec. (221.83 ticks)\n",
      "Number of free lunch witnesses: 1\n",
      "List of free lunch witnesses: [2727]\n",
      "Computed y lower bound 1.8674136321195145e-07\n"
     ]
    }
   ],
   "source": [
    "flw_index_list, y_lower_bound = model21.findFreeLunchWitnesses()"
   ]
  },
  {
   "cell_type": "markdown",
   "metadata": {},
   "source": [
    "# 22"
   ]
  },
  {
   "cell_type": "code",
   "execution_count": 68,
   "metadata": {},
   "outputs": [
    {
     "name": "stdout",
     "output_type": "stream",
     "text": [
      "Warning: no candidate for extra, outside found in the list\n",
      "Warning: multiple candidates for biomass found in the list\n",
      "0) E. coli biomass objective function (iJO1366) - WT - with 53.95 GAM estimate 1) E. coli biomass objective function (iJO1366) - core - with 53.95 GAM estimate\n",
      "Please select the correct string from the list above and enter its number, or -1 if none \n",
      "0\n"
     ]
    }
   ],
   "source": [
    "model22 =parseSBML('/home/hzabeti/qsopt-ex/build/python-qsoptex/MongooseGUI3/Models/SBML/iECDH10B_1368.xml')"
   ]
  },
  {
   "cell_type": "code",
   "execution_count": 69,
   "metadata": {},
   "outputs": [
    {
     "data": {
      "text/plain": [
       "{'ID': 'iECDH10B_1368',\n",
       " 'Name': 'Escherichia coli str. K-12 substr. DH10B',\n",
       " 'Source File': '/home/hzabeti/qsopt-ex/build/python-qsoptex/MongooseGUI3/Models/SBML/iECDH10B_1368.xml'}"
      ]
     },
     "execution_count": 69,
     "metadata": {},
     "output_type": "execute_result"
    }
   ],
   "source": [
    "model22.description"
   ]
  },
  {
   "cell_type": "code",
   "execution_count": 103,
   "metadata": {},
   "outputs": [
    {
     "name": "stdout",
     "output_type": "stream",
     "text": [
      "Number of individually producible free lunch metabolites 3\n",
      "[55, 290, 461] ['M_h_c', 'M_h_e', 'M_h_p']\n"
     ]
    },
    {
     "data": {
      "text/plain": [
       "0"
      ]
     },
     "execution_count": 103,
     "metadata": {},
     "output_type": "execute_result"
    }
   ],
   "source": [
    "ind_flm_index_list22,ind_flm_list22 = model22.findIndividuallyProducibleFLM()\n",
    "print(ind_flm_index_list22,ind_flm_list22)\n",
    "gc.collect()"
   ]
  },
  {
   "cell_type": "code",
   "execution_count": 70,
   "metadata": {},
   "outputs": [
    {
     "name": "stdout",
     "output_type": "stream",
     "text": [
      "parameters.mip.tolerances.integrality\n",
      "CPXPARAM_Simplex_Tolerances_Feasibility          1.0000000000000001e-09\n",
      "CPXPARAM_Read_DataCheck                          1\n",
      "CPXPARAM_MIP_Tolerances_Integrality              1.0000000000000001e-15\n",
      "Found incumbent of value 1031.000000 after 0.00 sec. (0.43 ticks)\n",
      "Tried aggregator 3 times.\n",
      "MIP Presolve eliminated 1125 rows and 1173 columns.\n",
      "MIP Presolve modified 3116 coefficients.\n",
      "Aggregator did 20 substitutions.\n",
      "Reduced MIP has 3553 rows, 3101 columns, and 19610 nonzeros.\n",
      "Reduced MIP has 1906 binaries, 16 generals, 0 SOSs, and 0 indicators.\n",
      "Presolve time = 0.02 sec. (24.17 ticks)\n",
      "Probing time = 0.00 sec. (0.26 ticks)\n",
      "Tried aggregator 1 time.\n",
      "Reduced MIP has 3553 rows, 3101 columns, and 19610 nonzeros.\n",
      "Reduced MIP has 1906 binaries, 16 generals, 0 SOSs, and 0 indicators.\n",
      "Presolve time = 0.01 sec. (7.45 ticks)\n",
      "Probing time = 0.00 sec. (0.26 ticks)\n",
      "MIP emphasis: balance optimality and feasibility.\n",
      "MIP search method: dynamic search.\n",
      "Parallel mode: deterministic, using up to 8 threads.\n",
      "Root relaxation solution time = 0.18 sec. (149.32 ticks)\n",
      "\n",
      "        Nodes                                         Cuts/\n",
      "   Node  Left     Objective  IInf  Best Integer    Best Bound    ItCnt     Gap\n",
      "\n",
      "*     0+    0                         1031.0000        0.0000           100.00%\n",
      "*     0+    0                          935.0000        0.0000           100.00%\n",
      "*     0+    0                          932.0000        0.0000           100.00%\n",
      "      0     0        0.0000     1      932.0000        0.0000     1486  100.00%\n",
      "*     0+    0                            1.0000        0.0000           100.00%\n",
      "      0     0        cutoff              1.0000                   1489    0.00%\n",
      "Elapsed time = 0.27 sec. (213.39 ticks, tree = 0.01 MB, solutions = 3)\n",
      "\n",
      "Cover cuts applied:  1\n",
      "\n",
      "Root node processing (before b&c):\n",
      "  Real time             =    0.27 sec. (213.72 ticks)\n",
      "Parallel b&c, 8 threads:\n",
      "  Real time             =    0.00 sec. (0.00 ticks)\n",
      "  Sync time (average)   =    0.00 sec.\n",
      "  Wait time (average)   =    0.00 sec.\n",
      "                          ------------\n",
      "Total (root+branch&cut) =    0.27 sec. (213.72 ticks)\n",
      "Number of free lunch witnesses: 1\n",
      "List of free lunch witnesses: [2711]\n",
      "Computed y lower bound 1.8674136321195145e-07\n"
     ]
    }
   ],
   "source": [
    "flw_index_list, y_lower_bound = model22.findFreeLunchWitnesses()"
   ]
  },
  {
   "cell_type": "markdown",
   "metadata": {},
   "source": [
    "# 23"
   ]
  },
  {
   "cell_type": "code",
   "execution_count": 71,
   "metadata": {},
   "outputs": [
    {
     "name": "stdout",
     "output_type": "stream",
     "text": [
      "Warning: no candidate for extra, outside found in the list\n",
      "Warning: multiple candidates for biomass found in the list\n",
      "0) E. coli biomass objective function (iJO1366) - WT - with 53.95 GAM estimate 1) E. coli biomass objective function (iJO1366) - core - with 53.95 GAM estimate\n",
      "Please select the correct string from the list above and enter its number, or -1 if none \n",
      "0\n"
     ]
    }
   ],
   "source": [
    "model23 =parseSBML('/home/hzabeti/qsopt-ex/build/python-qsoptex/MongooseGUI3/Models/SBML/iB21_1397.xml')"
   ]
  },
  {
   "cell_type": "code",
   "execution_count": 72,
   "metadata": {},
   "outputs": [
    {
     "data": {
      "text/plain": [
       "{'ID': 'iB21_1397',\n",
       " 'Name': 'Escherichia coli BL21(DE3)',\n",
       " 'Source File': '/home/hzabeti/qsopt-ex/build/python-qsoptex/MongooseGUI3/Models/SBML/iB21_1397.xml'}"
      ]
     },
     "execution_count": 72,
     "metadata": {},
     "output_type": "execute_result"
    }
   ],
   "source": [
    "model23.description"
   ]
  },
  {
   "cell_type": "code",
   "execution_count": 115,
   "metadata": {},
   "outputs": [
    {
     "name": "stdout",
     "output_type": "stream",
     "text": [
      "Number of individually producible free lunch metabolites 3\n",
      "[69, 290, 462] ['M_h_c', 'M_h_e', 'M_h_p']\n"
     ]
    },
    {
     "data": {
      "text/plain": [
       "0"
      ]
     },
     "execution_count": 115,
     "metadata": {},
     "output_type": "execute_result"
    }
   ],
   "source": [
    "ind_flm_index_list23,ind_flm_list23 = model23.findIndividuallyProducibleFLM()\n",
    "print(ind_flm_index_list23,ind_flm_list23)\n",
    "gc.collect()"
   ]
  },
  {
   "cell_type": "code",
   "execution_count": 73,
   "metadata": {},
   "outputs": [
    {
     "name": "stdout",
     "output_type": "stream",
     "text": [
      "parameters.mip.tolerances.integrality\n",
      "CPXPARAM_Simplex_Tolerances_Feasibility          1.0000000000000001e-09\n",
      "CPXPARAM_Read_DataCheck                          1\n",
      "CPXPARAM_MIP_Tolerances_Integrality              1.0000000000000001e-15\n",
      "Found incumbent of value 1038.000000 after 0.00 sec. (0.43 ticks)\n",
      "Tried aggregator 3 times.\n",
      "MIP Presolve eliminated 1125 rows and 1168 columns.\n",
      "MIP Presolve modified 3174 coefficients.\n",
      "Aggregator did 19 substitutions.\n",
      "Reduced MIP has 3552 rows, 3102 columns, and 19562 nonzeros.\n",
      "Reduced MIP has 1911 binaries, 16 generals, 0 SOSs, and 0 indicators.\n",
      "Presolve time = 0.02 sec. (24.37 ticks)\n",
      "Probing time = 0.01 sec. (0.26 ticks)\n",
      "Tried aggregator 1 time.\n",
      "Reduced MIP has 3552 rows, 3102 columns, and 19562 nonzeros.\n",
      "Reduced MIP has 1911 binaries, 16 generals, 0 SOSs, and 0 indicators.\n",
      "Presolve time = 0.01 sec. (7.43 ticks)\n",
      "Probing time = 0.01 sec. (0.26 ticks)\n",
      "MIP emphasis: balance optimality and feasibility.\n",
      "MIP search method: dynamic search.\n",
      "Parallel mode: deterministic, using up to 8 threads.\n",
      "Root relaxation solution time = 0.21 sec. (162.33 ticks)\n",
      "\n",
      "        Nodes                                         Cuts/\n",
      "   Node  Left     Objective  IInf  Best Integer    Best Bound    ItCnt     Gap\n",
      "\n",
      "*     0+    0                         1038.0000        0.0000           100.00%\n",
      "*     0+    0                          936.0000        0.0000           100.00%\n",
      "*     0+    0                          933.0000        0.0000           100.00%\n",
      "      0     0        0.0000     1      933.0000        0.0000     1504  100.00%\n",
      "*     0+    0                            1.0000        0.0000           100.00%\n",
      "      0     0        cutoff              1.0000                   1506    0.00%\n",
      "Elapsed time = 0.31 sec. (223.36 ticks, tree = 0.01 MB, solutions = 3)\n",
      "\n",
      "Cover cuts applied:  1\n",
      "\n",
      "Root node processing (before b&c):\n",
      "  Real time             =    0.32 sec. (223.69 ticks)\n",
      "Parallel b&c, 8 threads:\n",
      "  Real time             =    0.00 sec. (0.00 ticks)\n",
      "  Sync time (average)   =    0.00 sec.\n",
      "  Wait time (average)   =    0.00 sec.\n",
      "                          ------------\n",
      "Total (root+branch&cut) =    0.32 sec. (223.69 ticks)\n",
      "Number of free lunch witnesses: 1\n",
      "List of free lunch witnesses: [2691]\n",
      "Computed y lower bound 1.8674136321195145e-07\n"
     ]
    }
   ],
   "source": [
    "flw_index_list, y_lower_bound = model23.findFreeLunchWitnesses()"
   ]
  },
  {
   "cell_type": "markdown",
   "metadata": {},
   "source": [
    "# 24"
   ]
  },
  {
   "cell_type": "code",
   "execution_count": 74,
   "metadata": {},
   "outputs": [
    {
     "name": "stdout",
     "output_type": "stream",
     "text": [
      "Warning: no candidate for extra, outside found in the list\n",
      "Warning: multiple candidates for biomass found in the list\n",
      "0) E. coli biomass objective function (iJO1366) - WT - with 53.95 GAM estimate 1) E. coli biomass objective function (iJO1366) - core - with 53.95 GAM estimate\n",
      "Please select the correct string from the list above and enter its number, or -1 if none \n",
      "0\n"
     ]
    }
   ],
   "source": [
    "model24 =parseSBML('/home/hzabeti/qsopt-ex/build/python-qsoptex/MongooseGUI3/Models/SBML/iEcE24377_1341.xml')"
   ]
  },
  {
   "cell_type": "code",
   "execution_count": 75,
   "metadata": {},
   "outputs": [
    {
     "data": {
      "text/plain": [
       "{'ID': 'iEcE24377_1341',\n",
       " 'Name': 'Escherichia coli O139:H28 str. E24377A',\n",
       " 'Source File': '/home/hzabeti/qsopt-ex/build/python-qsoptex/MongooseGUI3/Models/SBML/iEcE24377_1341.xml'}"
      ]
     },
     "execution_count": 75,
     "metadata": {},
     "output_type": "execute_result"
    }
   ],
   "source": [
    "model24.description"
   ]
  },
  {
   "cell_type": "code",
   "execution_count": 116,
   "metadata": {},
   "outputs": [
    {
     "name": "stdout",
     "output_type": "stream",
     "text": [
      "Number of individually producible free lunch metabolites 3\n",
      "[17, 290, 463] ['M_h_c', 'M_h_e', 'M_h_p']\n"
     ]
    },
    {
     "data": {
      "text/plain": [
       "0"
      ]
     },
     "execution_count": 116,
     "metadata": {},
     "output_type": "execute_result"
    }
   ],
   "source": [
    "ind_flm_index_list24,ind_flm_list24 = model24.findIndividuallyProducibleFLM()\n",
    "print(ind_flm_index_list24,ind_flm_list24)\n",
    "gc.collect()"
   ]
  },
  {
   "cell_type": "code",
   "execution_count": 76,
   "metadata": {},
   "outputs": [
    {
     "name": "stdout",
     "output_type": "stream",
     "text": [
      "parameters.mip.tolerances.integrality\n",
      "CPXPARAM_Simplex_Tolerances_Feasibility          1.0000000000000001e-09\n",
      "CPXPARAM_Read_DataCheck                          1\n",
      "CPXPARAM_MIP_Tolerances_Integrality              1.0000000000000001e-15\n",
      "Found incumbent of value 1039.000000 after 0.00 sec. (0.43 ticks)\n",
      "Tried aggregator 3 times.\n",
      "MIP Presolve eliminated 1150 rows and 1203 columns.\n",
      "MIP Presolve modified 3203 coefficients.\n",
      "Aggregator did 22 substitutions.\n",
      "Reduced MIP has 3568 rows, 3114 columns, and 19645 nonzeros.\n",
      "Reduced MIP has 1914 binaries, 18 generals, 0 SOSs, and 0 indicators.\n",
      "Presolve time = 0.03 sec. (24.55 ticks)\n",
      "Probing time = 0.00 sec. (0.27 ticks)\n",
      "Tried aggregator 1 time.\n",
      "Reduced MIP has 3568 rows, 3114 columns, and 19645 nonzeros.\n",
      "Reduced MIP has 1914 binaries, 18 generals, 0 SOSs, and 0 indicators.\n",
      "Presolve time = 0.01 sec. (7.46 ticks)\n",
      "Probing time = 0.01 sec. (0.27 ticks)\n",
      "MIP emphasis: balance optimality and feasibility.\n",
      "MIP search method: dynamic search.\n",
      "Parallel mode: deterministic, using up to 8 threads.\n",
      "Root relaxation solution time = 0.18 sec. (156.87 ticks)\n",
      "\n",
      "        Nodes                                         Cuts/\n",
      "   Node  Left     Objective  IInf  Best Integer    Best Bound    ItCnt     Gap\n",
      "\n",
      "*     0+    0                         1039.0000        0.0000           100.00%\n",
      "*     0+    0                          933.0000        0.0000           100.00%\n",
      "*     0+    0                          928.0000        0.0000           100.00%\n",
      "      0     0        0.0000     1      928.0000        0.0000     1509  100.00%\n",
      "*     0+    0                            1.0000        0.0000           100.00%\n",
      "      0     0        cutoff              1.0000                   1513    0.00%\n",
      "Elapsed time = 0.28 sec. (221.39 ticks, tree = 0.01 MB, solutions = 3)\n",
      "\n",
      "Cover cuts applied:  1\n",
      "\n",
      "Root node processing (before b&c):\n",
      "  Real time             =    0.28 sec. (221.72 ticks)\n",
      "Parallel b&c, 8 threads:\n",
      "  Real time             =    0.00 sec. (0.00 ticks)\n",
      "  Sync time (average)   =    0.00 sec.\n",
      "  Wait time (average)   =    0.00 sec.\n",
      "                          ------------\n",
      "Total (root+branch&cut) =    0.28 sec. (221.72 ticks)\n",
      "Number of free lunch witnesses: 1\n",
      "List of free lunch witnesses: [2703]\n",
      "Computed y lower bound 1.8674136321195145e-07\n"
     ]
    }
   ],
   "source": [
    "flw_index_list, y_lower_bound = model24.findFreeLunchWitnesses()"
   ]
  },
  {
   "cell_type": "markdown",
   "metadata": {},
   "source": [
    "# 25"
   ]
  },
  {
   "cell_type": "code",
   "execution_count": 77,
   "metadata": {},
   "outputs": [
    {
     "name": "stdout",
     "output_type": "stream",
     "text": [
      "Warning: no candidate for extra, outside found in the list\n",
      "Warning: multiple candidates for biomass found in the list\n",
      "0) E. coli biomass objective function (iJO1366) - WT - with 53.95 GAM estimate 1) E. coli biomass objective function (iJO1366) - core - with 53.95 GAM estimate\n",
      "Please select the correct string from the list above and enter its number, or -1 if none \n",
      "0\n"
     ]
    }
   ],
   "source": [
    "model25 =parseSBML('/home/hzabeti/qsopt-ex/build/python-qsoptex/MongooseGUI3/Models/SBML/iUMNK88_1353.xml')"
   ]
  },
  {
   "cell_type": "code",
   "execution_count": 78,
   "metadata": {},
   "outputs": [
    {
     "data": {
      "text/plain": [
       "{'ID': 'iUMNK88_1353',\n",
       " 'Name': 'Escherichia coli UMNK88',\n",
       " 'Source File': '/home/hzabeti/qsopt-ex/build/python-qsoptex/MongooseGUI3/Models/SBML/iUMNK88_1353.xml'}"
      ]
     },
     "execution_count": 78,
     "metadata": {},
     "output_type": "execute_result"
    }
   ],
   "source": [
    "model25.description"
   ]
  },
  {
   "cell_type": "code",
   "execution_count": 117,
   "metadata": {},
   "outputs": [
    {
     "name": "stdout",
     "output_type": "stream",
     "text": [
      "Number of individually producible free lunch metabolites 3\n",
      "[63, 290, 462] ['M_h_c', 'M_h_e', 'M_h_p']\n"
     ]
    },
    {
     "data": {
      "text/plain": [
       "0"
      ]
     },
     "execution_count": 117,
     "metadata": {},
     "output_type": "execute_result"
    }
   ],
   "source": [
    "ind_flm_index_list25,ind_flm_list25 = model25.findIndividuallyProducibleFLM()\n",
    "print(ind_flm_index_list25,ind_flm_list25)\n",
    "gc.collect()"
   ]
  },
  {
   "cell_type": "code",
   "execution_count": 79,
   "metadata": {},
   "outputs": [
    {
     "name": "stdout",
     "output_type": "stream",
     "text": [
      "parameters.mip.tolerances.integrality\n",
      "CPXPARAM_Simplex_Tolerances_Feasibility          1.0000000000000001e-09\n",
      "CPXPARAM_Read_DataCheck                          1\n",
      "CPXPARAM_MIP_Tolerances_Integrality              1.0000000000000001e-15\n",
      "Found incumbent of value 1052.000000 after 0.00 sec. (0.44 ticks)\n",
      "Tried aggregator 3 times.\n",
      "MIP Presolve eliminated 1136 rows and 1180 columns.\n",
      "MIP Presolve modified 3180 coefficients.\n",
      "Aggregator did 21 substitutions.\n",
      "Reduced MIP has 3611 rows, 3149 columns, and 19930 nonzeros.\n",
      "Reduced MIP has 1936 binaries, 17 generals, 0 SOSs, and 0 indicators.\n",
      "Presolve time = 0.02 sec. (24.73 ticks)\n",
      "Probing time = 0.00 sec. (0.27 ticks)\n",
      "Tried aggregator 1 time.\n",
      "Reduced MIP has 3611 rows, 3149 columns, and 19930 nonzeros.\n",
      "Reduced MIP has 1936 binaries, 17 generals, 0 SOSs, and 0 indicators.\n",
      "Presolve time = 0.01 sec. (7.56 ticks)\n",
      "Probing time = 0.00 sec. (0.27 ticks)\n",
      "MIP emphasis: balance optimality and feasibility.\n",
      "MIP search method: dynamic search.\n",
      "Parallel mode: deterministic, using up to 8 threads.\n",
      "Root relaxation solution time = 0.19 sec. (139.17 ticks)\n",
      "\n",
      "        Nodes                                         Cuts/\n",
      "   Node  Left     Objective  IInf  Best Integer    Best Bound    ItCnt     Gap\n",
      "\n",
      "*     0+    0                         1052.0000        0.0000           100.00%\n",
      "*     0+    0                          946.0000        0.0000           100.00%\n",
      "      0     0        0.0000     1      946.0000        0.0000     1416  100.00%\n",
      "*     0+    0                            1.0000        0.0000           100.00%\n",
      "      0     0        cutoff              1.0000                   1420    0.00%\n",
      "Elapsed time = 0.28 sec. (204.07 ticks, tree = 0.01 MB, solutions = 2)\n",
      "\n",
      "Cover cuts applied:  1\n",
      "\n",
      "Root node processing (before b&c):\n",
      "  Real time             =    0.29 sec. (204.38 ticks)\n",
      "Parallel b&c, 8 threads:\n",
      "  Real time             =    0.00 sec. (0.00 ticks)\n",
      "  Sync time (average)   =    0.00 sec.\n",
      "  Wait time (average)   =    0.00 sec.\n",
      "                          ------------\n",
      "Total (root+branch&cut) =    0.29 sec. (204.38 ticks)\n",
      "Number of free lunch witnesses: 1\n",
      "List of free lunch witnesses: [2723]\n",
      "Computed y lower bound 1.8674136321195145e-07\n"
     ]
    }
   ],
   "source": [
    "flw_index_list, y_lower_bound = model25.findFreeLunchWitnesses()"
   ]
  },
  {
   "cell_type": "markdown",
   "metadata": {},
   "source": [
    "# 26"
   ]
  },
  {
   "cell_type": "code",
   "execution_count": 80,
   "metadata": {},
   "outputs": [
    {
     "name": "stdout",
     "output_type": "stream",
     "text": [
      "Warning: no candidate for extra, outside found in the list\n",
      "Warning: multiple candidates for biomass found in the list\n",
      "0) E. coli biomass objective function (iJO1366) - WT - with 53.95 GAM estimate 1) E. coli biomass objective function (iJO1366) - core - with 53.95 GAM estimate\n",
      "Please select the correct string from the list above and enter its number, or -1 if none \n",
      "0\n"
     ]
    }
   ],
   "source": [
    "model26 =parseSBML('/home/hzabeti/qsopt-ex/build/python-qsoptex/MongooseGUI3/Models/SBML/iETEC_1333.xml')"
   ]
  },
  {
   "cell_type": "code",
   "execution_count": 81,
   "metadata": {},
   "outputs": [
    {
     "data": {
      "text/plain": [
       "{'ID': 'iETEC_1333',\n",
       " 'Name': 'Escherichia coli ETEC H10407',\n",
       " 'Source File': '/home/hzabeti/qsopt-ex/build/python-qsoptex/MongooseGUI3/Models/SBML/iETEC_1333.xml'}"
      ]
     },
     "execution_count": 81,
     "metadata": {},
     "output_type": "execute_result"
    }
   ],
   "source": [
    "model26.description"
   ]
  },
  {
   "cell_type": "code",
   "execution_count": 118,
   "metadata": {},
   "outputs": [
    {
     "name": "stdout",
     "output_type": "stream",
     "text": [
      "Number of individually producible free lunch metabolites 3\n",
      "[13, 290, 463] ['M_h_c', 'M_h_e', 'M_h_p']\n"
     ]
    },
    {
     "data": {
      "text/plain": [
       "0"
      ]
     },
     "execution_count": 118,
     "metadata": {},
     "output_type": "execute_result"
    }
   ],
   "source": [
    "ind_flm_index_list26,ind_flm_list26 = model26.findIndividuallyProducibleFLM()\n",
    "print(ind_flm_index_list26,ind_flm_list26)\n",
    "gc.collect()"
   ]
  },
  {
   "cell_type": "code",
   "execution_count": 82,
   "metadata": {},
   "outputs": [
    {
     "name": "stdout",
     "output_type": "stream",
     "text": [
      "parameters.mip.tolerances.integrality\n",
      "CPXPARAM_Simplex_Tolerances_Feasibility          1.0000000000000001e-09\n",
      "CPXPARAM_Read_DataCheck                          1\n",
      "CPXPARAM_MIP_Tolerances_Integrality              1.0000000000000001e-15\n",
      "Found incumbent of value 1039.000000 after 0.00 sec. (0.43 ticks)\n",
      "Tried aggregator 3 times.\n",
      "MIP Presolve eliminated 1145 rows and 1194 columns.\n",
      "MIP Presolve modified 3191 coefficients.\n",
      "Aggregator did 18 substitutions.\n",
      "Reduced MIP has 3563 rows, 3110 columns, and 19646 nonzeros.\n",
      "Reduced MIP has 1914 binaries, 15 generals, 0 SOSs, and 0 indicators.\n",
      "Presolve time = 0.02 sec. (24.57 ticks)\n",
      "Probing time = 0.00 sec. (0.26 ticks)\n",
      "Tried aggregator 1 time.\n",
      "Reduced MIP has 3563 rows, 3110 columns, and 19646 nonzeros.\n",
      "Reduced MIP has 1914 binaries, 15 generals, 0 SOSs, and 0 indicators.\n",
      "Presolve time = 0.01 sec. (7.46 ticks)\n",
      "Probing time = 0.00 sec. (0.26 ticks)\n",
      "MIP emphasis: balance optimality and feasibility.\n",
      "MIP search method: dynamic search.\n",
      "Parallel mode: deterministic, using up to 8 threads.\n",
      "Root relaxation solution time = 0.20 sec. (160.40 ticks)\n",
      "\n",
      "        Nodes                                         Cuts/\n",
      "   Node  Left     Objective  IInf  Best Integer    Best Bound    ItCnt     Gap\n",
      "\n",
      "*     0+    0                         1039.0000        0.0000           100.00%\n",
      "*     0+    0                          934.0000        0.0000           100.00%\n",
      "*     0+    0                          927.0000        0.0000           100.00%\n",
      "      0     0        0.0000     1      927.0000        0.0000     1511  100.00%\n",
      "*     0+    0                            1.0000        0.0000           100.00%\n",
      "      0     0        cutoff              1.0000                   1516    0.00%\n",
      "Elapsed time = 0.30 sec. (222.46 ticks, tree = 0.01 MB, solutions = 3)\n",
      "\n",
      "Cover cuts applied:  1\n",
      "\n",
      "Root node processing (before b&c):\n",
      "  Real time             =    0.31 sec. (222.79 ticks)\n",
      "Parallel b&c, 8 threads:\n",
      "  Real time             =    0.00 sec. (0.00 ticks)\n",
      "  Sync time (average)   =    0.00 sec.\n",
      "  Wait time (average)   =    0.00 sec.\n",
      "                          ------------\n",
      "Total (root+branch&cut) =    0.31 sec. (222.79 ticks)\n",
      "Number of free lunch witnesses: 1\n",
      "List of free lunch witnesses: [2711]\n",
      "Computed y lower bound 1.8674136321195145e-07\n"
     ]
    }
   ],
   "source": [
    "flw_index_list, y_lower_bound = model26.findFreeLunchWitnesses()"
   ]
  },
  {
   "cell_type": "markdown",
   "metadata": {},
   "source": [
    "# 27"
   ]
  },
  {
   "cell_type": "code",
   "execution_count": 83,
   "metadata": {},
   "outputs": [
    {
     "name": "stdout",
     "output_type": "stream",
     "text": [
      "Warning: no candidate for extra, outside found in the list\n",
      "Warning: multiple candidates for biomass found in the list\n",
      "0) E. coli biomass objective function (iJO1366) - WT - with 53.95 GAM estimate 1) E. coli biomass objective function (iJO1366) - core - with 53.95 GAM estimate\n",
      "Please select the correct string from the list above and enter its number, or -1 if none \n",
      "0\n"
     ]
    }
   ],
   "source": [
    "model27 =parseSBML('/home/hzabeti/qsopt-ex/build/python-qsoptex/MongooseGUI3/Models/SBML/iECW_1372.xml')"
   ]
  },
  {
   "cell_type": "code",
   "execution_count": 84,
   "metadata": {},
   "outputs": [
    {
     "data": {
      "text/plain": [
       "{'ID': 'iECW_1372',\n",
       " 'Name': 'Escherichia coli W',\n",
       " 'Source File': '/home/hzabeti/qsopt-ex/build/python-qsoptex/MongooseGUI3/Models/SBML/iECW_1372.xml'}"
      ]
     },
     "execution_count": 84,
     "metadata": {},
     "output_type": "execute_result"
    }
   ],
   "source": [
    "model27.description"
   ]
  },
  {
   "cell_type": "code",
   "execution_count": 119,
   "metadata": {},
   "outputs": [
    {
     "name": "stdout",
     "output_type": "stream",
     "text": [
      "Number of individually producible free lunch metabolites 3\n",
      "[91, 290, 463] ['M_h_c', 'M_h_e', 'M_h_p']\n"
     ]
    },
    {
     "data": {
      "text/plain": [
       "0"
      ]
     },
     "execution_count": 119,
     "metadata": {},
     "output_type": "execute_result"
    }
   ],
   "source": [
    "ind_flm_index_list27,ind_flm_list27 = model27.findIndividuallyProducibleFLM()\n",
    "print(ind_flm_index_list27,ind_flm_list27)\n",
    "gc.collect()"
   ]
  },
  {
   "cell_type": "code",
   "execution_count": 85,
   "metadata": {},
   "outputs": [
    {
     "name": "stdout",
     "output_type": "stream",
     "text": [
      "parameters.mip.tolerances.integrality\n",
      "CPXPARAM_Simplex_Tolerances_Feasibility          1.0000000000000001e-09\n",
      "CPXPARAM_Read_DataCheck                          1\n",
      "CPXPARAM_MIP_Tolerances_Integrality              1.0000000000000001e-15\n",
      "Found incumbent of value 1055.000000 after 0.00 sec. (0.44 ticks)\n",
      "Tried aggregator 3 times.\n",
      "MIP Presolve eliminated 1144 rows and 1188 columns.\n",
      "MIP Presolve modified 3226 coefficients.\n",
      "Aggregator did 20 substitutions.\n",
      "Reduced MIP has 3614 rows, 3151 columns, and 19890 nonzeros.\n",
      "Reduced MIP has 1942 binaries, 15 generals, 0 SOSs, and 0 indicators.\n",
      "Presolve time = 0.03 sec. (24.79 ticks)\n",
      "Probing time = 0.00 sec. (0.27 ticks)\n",
      "Tried aggregator 1 time.\n",
      "Reduced MIP has 3614 rows, 3151 columns, and 19890 nonzeros.\n",
      "Reduced MIP has 1942 binaries, 15 generals, 0 SOSs, and 0 indicators.\n",
      "Presolve time = 0.02 sec. (7.56 ticks)\n",
      "Probing time = 0.00 sec. (0.27 ticks)\n",
      "MIP emphasis: balance optimality and feasibility.\n",
      "MIP search method: dynamic search.\n",
      "Parallel mode: deterministic, using up to 8 threads.\n",
      "Root relaxation solution time = 0.19 sec. (156.94 ticks)\n",
      "\n",
      "        Nodes                                         Cuts/\n",
      "   Node  Left     Objective  IInf  Best Integer    Best Bound    ItCnt     Gap\n",
      "\n",
      "*     0+    0                         1055.0000        0.0000           100.00%\n",
      "*     0+    0                          948.0000        0.0000           100.00%\n",
      "*     0+    0                          941.0000        0.0000           100.00%\n",
      "      0     0        0.0000     2      941.0000        0.0000     1518  100.00%\n",
      "*     0+    0                            2.0000        0.0000           100.00%\n",
      "      0     0        1.0000     1        2.0000     Covers: 1     1525   50.00%\n",
      "      0     0        cutoff              2.0000                   1529    0.00%\n",
      "Elapsed time = 0.32 sec. (232.43 ticks, tree = 0.01 MB, solutions = 3)\n",
      "\n",
      "Cover cuts applied:  2\n",
      "\n",
      "Root node processing (before b&c):\n",
      "  Real time             =    0.32 sec. (232.77 ticks)\n",
      "Parallel b&c, 8 threads:\n",
      "  Real time             =    0.00 sec. (0.00 ticks)\n",
      "  Sync time (average)   =    0.00 sec.\n",
      "  Wait time (average)   =    0.00 sec.\n",
      "                          ------------\n",
      "Total (root+branch&cut) =    0.32 sec. (232.77 ticks)\n",
      "Number of free lunch witnesses: 2\n",
      "List of free lunch witnesses: [1984, 2699]\n",
      "Computed y lower bound 1.8674136321195145e-07\n"
     ]
    }
   ],
   "source": [
    "flw_index_list, y_lower_bound = model27.findFreeLunchWitnesses()"
   ]
  },
  {
   "cell_type": "markdown",
   "metadata": {},
   "source": [
    "# 28"
   ]
  },
  {
   "cell_type": "code",
   "execution_count": 87,
   "metadata": {},
   "outputs": [
    {
     "name": "stdout",
     "output_type": "stream",
     "text": [
      "Warning: no candidate for extra, outside found in the list\n",
      "Warning: multiple candidates for biomass found in the list\n",
      "0) E. coli biomass objective function (iJO1366) - WT - with 53.95 GAM estimate 1) E. coli biomass objective function (iJO1366) - core - with 53.95 GAM estimate\n",
      "Please select the correct string from the list above and enter its number, or -1 if none \n",
      "0\n"
     ]
    }
   ],
   "source": [
    "model28 =parseSBML('/home/hzabeti/qsopt-ex/build/python-qsoptex/MongooseGUI3/Models/SBML/iSF_1195.xml')"
   ]
  },
  {
   "cell_type": "code",
   "execution_count": 88,
   "metadata": {},
   "outputs": [
    {
     "data": {
      "text/plain": [
       "{'ID': 'iSF_1195',\n",
       " 'Name': 'Shigella flexneri 2a str. 301',\n",
       " 'Source File': '/home/hzabeti/qsopt-ex/build/python-qsoptex/MongooseGUI3/Models/SBML/iSF_1195.xml'}"
      ]
     },
     "execution_count": 88,
     "metadata": {},
     "output_type": "execute_result"
    }
   ],
   "source": [
    "model28.description"
   ]
  },
  {
   "cell_type": "code",
   "execution_count": 120,
   "metadata": {},
   "outputs": [
    {
     "name": "stdout",
     "output_type": "stream",
     "text": [
      "Number of individually producible free lunch metabolites 3\n",
      "[14, 290, 463] ['M_h_c', 'M_h_e', 'M_h_p']\n"
     ]
    },
    {
     "data": {
      "text/plain": [
       "0"
      ]
     },
     "execution_count": 120,
     "metadata": {},
     "output_type": "execute_result"
    }
   ],
   "source": [
    "ind_flm_index_list28,ind_flm_list28 = model28.findIndividuallyProducibleFLM()\n",
    "print(ind_flm_index_list28,ind_flm_list28)\n",
    "gc.collect()"
   ]
  },
  {
   "cell_type": "code",
   "execution_count": 89,
   "metadata": {},
   "outputs": [
    {
     "name": "stdout",
     "output_type": "stream",
     "text": [
      "parameters.mip.tolerances.integrality\n",
      "CPXPARAM_Simplex_Tolerances_Feasibility          1.0000000000000001e-09\n",
      "CPXPARAM_Read_DataCheck                          1\n",
      "CPXPARAM_MIP_Tolerances_Integrality              1.0000000000000001e-15\n",
      "Found incumbent of value 953.000000 after 0.00 sec. (0.41 ticks)\n",
      "Tried aggregator 3 times.\n",
      "MIP Presolve eliminated 1157 rows and 1230 columns.\n",
      "MIP Presolve modified 3271 coefficients.\n",
      "Aggregator did 17 substitutions.\n",
      "Reduced MIP has 3298 rows, 2905 columns, and 18049 nonzeros.\n",
      "Reduced MIP has 1794 binaries, 14 generals, 0 SOSs, and 0 indicators.\n",
      "Presolve time = 0.02 sec. (22.86 ticks)\n",
      "Probing time = 0.00 sec. (0.24 ticks)\n",
      "Tried aggregator 1 time.\n",
      "Reduced MIP has 3298 rows, 2905 columns, and 18049 nonzeros.\n",
      "Reduced MIP has 1794 binaries, 14 generals, 0 SOSs, and 0 indicators.\n",
      "Presolve time = 0.01 sec. (6.86 ticks)\n",
      "Probing time = 0.00 sec. (0.24 ticks)\n",
      "MIP emphasis: balance optimality and feasibility.\n",
      "MIP search method: dynamic search.\n",
      "Parallel mode: deterministic, using up to 8 threads.\n",
      "Root relaxation solution time = 0.16 sec. (131.91 ticks)\n",
      "\n",
      "        Nodes                                         Cuts/\n",
      "   Node  Left     Objective  IInf  Best Integer    Best Bound    ItCnt     Gap\n",
      "\n",
      "*     0+    0                          953.0000        0.0000           100.00%\n",
      "*     0+    0                          837.0000        0.0000           100.00%\n",
      "*     0+    0                          835.0000        0.0000           100.00%\n",
      "      0     0        0.0000     1      835.0000        0.0000     1300  100.00%\n",
      "*     0+    0                            1.0000        0.0000           100.00%\n",
      "      0     0        cutoff              1.0000                   1304    0.00%\n",
      "Elapsed time = 0.25 sec. (189.10 ticks, tree = 0.01 MB, solutions = 3)\n",
      "\n",
      "Cover cuts applied:  1\n",
      "\n",
      "Root node processing (before b&c):\n",
      "  Real time             =    0.25 sec. (189.42 ticks)\n",
      "Parallel b&c, 8 threads:\n",
      "  Real time             =    0.00 sec. (0.00 ticks)\n",
      "  Sync time (average)   =    0.00 sec.\n",
      "  Wait time (average)   =    0.00 sec.\n",
      "                          ------------\n",
      "Total (root+branch&cut) =    0.25 sec. (189.42 ticks)\n",
      "Number of free lunch witnesses: 1\n",
      "List of free lunch witnesses: [2584]\n",
      "Computed y lower bound 1.9098548510313216e-07\n"
     ]
    }
   ],
   "source": [
    "flw_index_list, y_lower_bound = model28.findFreeLunchWitnesses()"
   ]
  },
  {
   "cell_type": "markdown",
   "metadata": {},
   "source": [
    "# 29"
   ]
  },
  {
   "cell_type": "code",
   "execution_count": 90,
   "metadata": {},
   "outputs": [
    {
     "name": "stdout",
     "output_type": "stream",
     "text": [
      "Warning: no candidate for extra, outside found in the list\n",
      "Warning: multiple candidates for biomass found in the list\n",
      "0) E. coli biomass objective function (iJO1366) - WT - with 53.95 GAM estimate 1) E. coli biomass objective function (iJO1366) - core - with 53.95 GAM estimate\n",
      "Please select the correct string from the list above and enter its number, or -1 if none \n",
      "0\n"
     ]
    }
   ],
   "source": [
    "model29 =parseSBML('/home/hzabeti/qsopt-ex/build/python-qsoptex/MongooseGUI3/Models/SBML/iSbBS512_1146.xml')"
   ]
  },
  {
   "cell_type": "code",
   "execution_count": 91,
   "metadata": {},
   "outputs": [
    {
     "data": {
      "text/plain": [
       "{'ID': 'iSbBS512_1146',\n",
       " 'Name': 'Shigella boydii CDC 3083-94',\n",
       " 'Source File': '/home/hzabeti/qsopt-ex/build/python-qsoptex/MongooseGUI3/Models/SBML/iSbBS512_1146.xml'}"
      ]
     },
     "execution_count": 91,
     "metadata": {},
     "output_type": "execute_result"
    }
   ],
   "source": [
    "model29.description"
   ]
  },
  {
   "cell_type": "code",
   "execution_count": 121,
   "metadata": {},
   "outputs": [
    {
     "name": "stdout",
     "output_type": "stream",
     "text": [
      "Number of individually producible free lunch metabolites 3\n",
      "[57, 290, 460] ['M_h_c', 'M_h_e', 'M_h_p']\n"
     ]
    },
    {
     "data": {
      "text/plain": [
       "0"
      ]
     },
     "execution_count": 121,
     "metadata": {},
     "output_type": "execute_result"
    }
   ],
   "source": [
    "ind_flm_index_list29,ind_flm_list29 = model29.findIndividuallyProducibleFLM()\n",
    "print(ind_flm_index_list29,ind_flm_list29)\n",
    "gc.collect()"
   ]
  },
  {
   "cell_type": "code",
   "execution_count": 92,
   "metadata": {},
   "outputs": [
    {
     "name": "stdout",
     "output_type": "stream",
     "text": [
      "parameters.mip.tolerances.integrality\n",
      "CPXPARAM_Simplex_Tolerances_Feasibility          1.0000000000000001e-09\n",
      "CPXPARAM_Read_DataCheck                          1\n",
      "CPXPARAM_MIP_Tolerances_Integrality              1.0000000000000001e-15\n",
      "Found incumbent of value 964.000000 after 0.00 sec. (0.40 ticks)\n",
      "Tried aggregator 3 times.\n",
      "MIP Presolve eliminated 1152 rows and 1299 columns.\n",
      "MIP Presolve modified 2891 coefficients.\n",
      "Aggregator did 17 substitutions.\n",
      "Reduced MIP has 3227 rows, 2790 columns, and 17791 nonzeros.\n",
      "Reduced MIP has 1715 binaries, 15 generals, 0 SOSs, and 0 indicators.\n",
      "Presolve time = 0.02 sec. (21.12 ticks)\n",
      "Probing time = 0.00 sec. (0.24 ticks)\n",
      "Tried aggregator 1 time.\n",
      "Reduced MIP has 3227 rows, 2790 columns, and 17791 nonzeros.\n",
      "Reduced MIP has 1715 binaries, 15 generals, 0 SOSs, and 0 indicators.\n",
      "Presolve time = 0.01 sec. (6.73 ticks)\n",
      "Probing time = 0.01 sec. (0.24 ticks)\n",
      "MIP emphasis: balance optimality and feasibility.\n",
      "MIP search method: dynamic search.\n",
      "Parallel mode: deterministic, using up to 8 threads.\n",
      "Root relaxation solution time = 0.17 sec. (136.62 ticks)\n",
      "\n",
      "        Nodes                                         Cuts/\n",
      "   Node  Left     Objective  IInf  Best Integer    Best Bound    ItCnt     Gap\n",
      "\n",
      "*     0+    0                          964.0000        0.0000           100.00%\n",
      "*     0+    0                          852.0000        0.0000           100.00%\n",
      "*     0+    0                          848.0000        0.0000           100.00%\n",
      "      0     0        0.0000     2      848.0000        0.0000     1349  100.00%\n",
      "*     0+    0                            2.0000        0.0000           100.00%\n",
      "      0     0        1.0000     2        2.0000     Covers: 1     1357   50.00%\n",
      "*     0+    0                            1.0000        1.0000             0.00%\n",
      "      0     0        cutoff              1.0000        1.0000     1357    0.00%\n",
      "Elapsed time = 0.31 sec. (217.50 ticks, tree = 0.01 MB, solutions = 4)\n",
      "\n",
      "Cover cuts applied:  1\n",
      "\n",
      "Root node processing (before b&c):\n",
      "  Real time             =    0.32 sec. (217.84 ticks)\n",
      "Parallel b&c, 8 threads:\n",
      "  Real time             =    0.00 sec. (0.00 ticks)\n",
      "  Sync time (average)   =    0.00 sec.\n",
      "  Wait time (average)   =    0.00 sec.\n",
      "                          ------------\n",
      "Total (root+branch&cut) =    0.32 sec. (217.84 ticks)\n",
      "Number of free lunch witnesses: 1\n",
      "List of free lunch witnesses: [2377]\n",
      "Computed y lower bound 1.9098548510313216e-07\n"
     ]
    }
   ],
   "source": [
    "flw_index_list, y_lower_bound = model29.findFreeLunchWitnesses()"
   ]
  },
  {
   "cell_type": "markdown",
   "metadata": {},
   "source": [
    "# 30"
   ]
  },
  {
   "cell_type": "code",
   "execution_count": 93,
   "metadata": {},
   "outputs": [
    {
     "name": "stdout",
     "output_type": "stream",
     "text": [
      "Warning: no candidate for extra, outside found in the list\n",
      "Warning: multiple candidates for biomass found in the list\n",
      "0) E. coli biomass objective function (iJO1366) - WT - with 53.95 GAM estimate 1) E. coli biomass objective function (iJO1366) - core - with 53.95 GAM estimate\n",
      "Please select the correct string from the list above and enter its number, or -1 if none \n",
      "0\n"
     ]
    }
   ],
   "source": [
    "model30 =parseSBML('/home/hzabeti/qsopt-ex/build/python-qsoptex/MongooseGUI3/Models/SBML/iEKO11_1354.xml')"
   ]
  },
  {
   "cell_type": "code",
   "execution_count": 94,
   "metadata": {},
   "outputs": [
    {
     "data": {
      "text/plain": [
       "{'ID': 'iEKO11_1354',\n",
       " 'Name': 'Escherichia coli KO11FL',\n",
       " 'Source File': '/home/hzabeti/qsopt-ex/build/python-qsoptex/MongooseGUI3/Models/SBML/iEKO11_1354.xml'}"
      ]
     },
     "execution_count": 94,
     "metadata": {},
     "output_type": "execute_result"
    }
   ],
   "source": [
    "model30.description"
   ]
  },
  {
   "cell_type": "code",
   "execution_count": 122,
   "metadata": {},
   "outputs": [
    {
     "name": "stdout",
     "output_type": "stream",
     "text": [
      "Number of individually producible free lunch metabolites 3\n",
      "[92, 290, 461] ['M_h_c', 'M_h_e', 'M_h_p']\n"
     ]
    },
    {
     "data": {
      "text/plain": [
       "0"
      ]
     },
     "execution_count": 122,
     "metadata": {},
     "output_type": "execute_result"
    }
   ],
   "source": [
    "ind_flm_index_list30,ind_flm_list30 = model30.findIndividuallyProducibleFLM()\n",
    "print(ind_flm_index_list30,ind_flm_list30)\n",
    "gc.collect()"
   ]
  },
  {
   "cell_type": "code",
   "execution_count": 95,
   "metadata": {},
   "outputs": [
    {
     "name": "stdout",
     "output_type": "stream",
     "text": [
      "parameters.mip.tolerances.integrality\n",
      "CPXPARAM_Simplex_Tolerances_Feasibility          1.0000000000000001e-09\n",
      "CPXPARAM_Read_DataCheck                          1\n",
      "CPXPARAM_MIP_Tolerances_Integrality              1.0000000000000001e-15\n",
      "Found incumbent of value 1050.000000 after 0.00 sec. (0.44 ticks)\n",
      "Tried aggregator 3 times.\n",
      "MIP Presolve eliminated 1146 rows and 1187 columns.\n",
      "MIP Presolve modified 3245 coefficients.\n",
      "Aggregator did 21 substitutions.\n",
      "Reduced MIP has 3603 rows, 3146 columns, and 19807 nonzeros.\n",
      "Reduced MIP has 1937 binaries, 16 generals, 0 SOSs, and 0 indicators.\n",
      "Presolve time = 0.02 sec. (24.76 ticks)\n",
      "Probing time = 0.00 sec. (0.27 ticks)\n",
      "Tried aggregator 1 time.\n",
      "Reduced MIP has 3603 rows, 3146 columns, and 19807 nonzeros.\n",
      "Reduced MIP has 1937 binaries, 16 generals, 0 SOSs, and 0 indicators.\n",
      "Presolve time = 0.01 sec. (7.52 ticks)\n",
      "Probing time = 0.00 sec. (0.27 ticks)\n",
      "MIP emphasis: balance optimality and feasibility.\n",
      "MIP search method: dynamic search.\n",
      "Parallel mode: deterministic, using up to 8 threads.\n",
      "Root relaxation solution time = 0.22 sec. (178.08 ticks)\n",
      "\n",
      "        Nodes                                         Cuts/\n",
      "   Node  Left     Objective  IInf  Best Integer    Best Bound    ItCnt     Gap\n",
      "\n",
      "*     0+    0                         1050.0000        0.0000           100.00%\n",
      "*     0+    0                          942.0000        0.0000           100.00%\n",
      "*     0+    0                          939.0000        0.0000           100.00%\n",
      "      0     0        0.0000     2      939.0000        0.0000     1638  100.00%\n",
      "*     0+    0                            2.0000        0.0000           100.00%\n",
      "      0     0        1.0000     3        2.0000     Covers: 1     1721   50.00%\n",
      "      0     0        cutoff              2.0000                   1723    0.00%\n",
      "Elapsed time = 0.35 sec. (262.26 ticks, tree = 0.01 MB, solutions = 3)\n",
      "\n",
      "Cover cuts applied:  2\n",
      "\n",
      "Root node processing (before b&c):\n",
      "  Real time             =    0.35 sec. (262.60 ticks)\n",
      "Parallel b&c, 8 threads:\n",
      "  Real time             =    0.00 sec. (0.00 ticks)\n",
      "  Sync time (average)   =    0.00 sec.\n",
      "  Wait time (average)   =    0.00 sec.\n",
      "                          ------------\n",
      "Total (root+branch&cut) =    0.35 sec. (262.60 ticks)\n",
      "Number of free lunch witnesses: 2\n",
      "List of free lunch witnesses: [2701, 2715]\n",
      "Computed y lower bound 1.8674136321195145e-07\n"
     ]
    }
   ],
   "source": [
    "flw_index_list, y_lower_bound = model30.findFreeLunchWitnesses()"
   ]
  },
  {
   "cell_type": "markdown",
   "metadata": {},
   "source": [
    "# 31"
   ]
  },
  {
   "cell_type": "code",
   "execution_count": 96,
   "metadata": {},
   "outputs": [
    {
     "name": "stdout",
     "output_type": "stream",
     "text": [
      "Warning: no candidate for extra, outside found in the list\n",
      "Warning: multiple candidates for biomass found in the list\n",
      "0) Biomass function 1) Biomass for a producing cell line\n",
      "Please select the correct string from the list above and enter its number, or -1 if none \n",
      "0\n"
     ]
    }
   ],
   "source": [
    "model31 =parseSBML('/home/hzabeti/qsopt-ex/build/python-qsoptex/MongooseGUI3/Models/SBML/iCHOv1.xml')"
   ]
  },
  {
   "cell_type": "code",
   "execution_count": 97,
   "metadata": {},
   "outputs": [
    {
     "data": {
      "text/plain": [
       "{'ID': 'iCHOv1',\n",
       " 'Name': 'Cricetulus griseus',\n",
       " 'Source File': '/home/hzabeti/qsopt-ex/build/python-qsoptex/MongooseGUI3/Models/SBML/iCHOv1.xml'}"
      ]
     },
     "execution_count": 97,
     "metadata": {},
     "output_type": "execute_result"
    }
   ],
   "source": [
    "model31.description"
   ]
  },
  {
   "cell_type": "code",
   "execution_count": 127,
   "metadata": {},
   "outputs": [
    {
     "name": "stdout",
     "output_type": "stream",
     "text": [
      "Number of individually producible free lunch metabolites 46\n",
      "[1425, 1426, 1427, 1428, 1429, 1430, 1431, 1432, 1433, 1434, 1435, 2926, 2927, 2928, 2929, 2930, 2931, 2932, 2933, 2934, 2935, 2936, 2937, 2938, 2939, 2940, 2943, 2944, 2945, 2946, 2947, 2948, 2949, 2950, 2951, 3642, 3643, 3646, 3647, 3648, 3649, 3650, 3651, 3652, 3653, 3654] ['M_HC02111_c', 'M_HC02111_m', 'M_HC02112_c', 'M_HC02112_m', 'M_HC02112_r', 'M_HC02112_x', 'M_HC02113_c', 'M_HC02113_m', 'M_HC02113_r', 'M_HC02113_x', 'M_HC02114_c', 'M_h2o2_c', 'M_h2o2_e', 'M_h2o2_l', 'M_h2o2_m', 'M_h2o2_n', 'M_h2o2_r', 'M_h2o2_x', 'M_h2o_c', 'M_h2o_e', 'M_h2o_g', 'M_h2o_l', 'M_h2o_m', 'M_h2o_n', 'M_h2o_r', 'M_h2o_x', 'M_h_c', 'M_h_e', 'M_h_g', 'M_h_im', 'M_h_l', 'M_h_m', 'M_h_n', 'M_h_r', 'M_h_x', 'M_o2_c', 'M_o2_e', 'M_o2_m', 'M_o2_n', 'M_o2_r', 'M_o2_x', 'M_o2s_c', 'M_o2s_e', 'M_o2s_m', 'M_o2s_n', 'M_o2s_x']\n"
     ]
    },
    {
     "data": {
      "text/plain": [
       "0"
      ]
     },
     "execution_count": 127,
     "metadata": {},
     "output_type": "execute_result"
    }
   ],
   "source": [
    "ind_flm_index_list31,ind_flm_list31 = model31.findIndividuallyProducibleFLM()\n",
    "print(ind_flm_index_list31,ind_flm_list31)\n",
    "gc.collect()"
   ]
  },
  {
   "cell_type": "code",
   "execution_count": 98,
   "metadata": {},
   "outputs": [
    {
     "name": "stdout",
     "output_type": "stream",
     "text": [
      "parameters.mip.tolerances.integrality\n",
      "CPXPARAM_Simplex_Tolerances_Feasibility          1.0000000000000001e-09\n",
      "CPXPARAM_Read_DataCheck                          1\n",
      "CPXPARAM_MIP_Tolerances_Integrality              1.0000000000000001e-15\n",
      "Found incumbent of value 2271.000000 after 0.00 sec. (1.10 ticks)\n",
      "Tried aggregator 3 times.\n",
      "MIP Presolve eliminated 2368 rows and 2526 columns.\n",
      "MIP Presolve modified 7875 coefficients.\n",
      "Aggregator did 75 substitutions.\n",
      "Reduced MIP has 9595 rows, 7843 columns, and 52699 nonzeros.\n",
      "Reduced MIP has 5116 binaries, 51 generals, 0 SOSs, and 0 indicators.\n",
      "Presolve time = 0.06 sec. (56.72 ticks)\n",
      "Probing time = 0.00 sec. (0.70 ticks)\n",
      "Tried aggregator 1 time.\n",
      "MIP Presolve eliminated 2 rows and 0 columns.\n",
      "Reduced MIP has 9593 rows, 7841 columns, and 52685 nonzeros.\n",
      "Reduced MIP has 5114 binaries, 51 generals, 0 SOSs, and 0 indicators.\n",
      "Presolve time = 0.02 sec. (20.34 ticks)\n",
      "Probing time = 0.03 sec. (0.70 ticks)\n",
      "MIP emphasis: balance optimality and feasibility.\n",
      "MIP search method: dynamic search.\n",
      "Parallel mode: deterministic, using up to 8 threads.\n",
      "Root relaxation solution time = 1.47 sec. (974.31 ticks)\n",
      "\n",
      "        Nodes                                         Cuts/\n",
      "   Node  Left     Objective  IInf  Best Integer    Best Bound    ItCnt     Gap\n",
      "\n",
      "*     0+    0                         2271.0000        0.0000           100.00%\n",
      "*     0+    0                         1724.0000        0.0000           100.00%\n",
      "*     0+    0                         1684.0000        0.0000           100.00%\n",
      "*     0+    0                         1668.0000        0.0000           100.00%\n",
      "*     0+    0                         1662.0000        0.0000           100.00%\n",
      "*     0+    0                         1661.0000        0.0000           100.00%\n",
      "      0     0        0.0000     9     1661.0000        0.0000     4644  100.00%\n",
      "*     0+    0                            9.0000        0.0000           100.00%\n",
      "      0     2        0.0000     9        9.0000        0.0000     4644  100.00%\n",
      "Elapsed time = 2.13 sec. (1392.49 ticks, tree = 0.01 MB, solutions = 6)\n",
      "      4     4        1.0000     8        9.0000        0.0000     6744  100.00%\n",
      "      8     5        1.0000    10        9.0000        0.0000     7788  100.00%\n",
      "     12     7        2.0000     7        9.0000        0.0000     8819  100.00%\n",
      "     16     9        3.0000     6        9.0000        0.0000    11340  100.00%\n",
      "     25    16        3.0000    37        9.0000        0.0000    26286  100.00%\n",
      "     34    25        3.0000    36        9.0000        0.0000    38563  100.00%\n",
      "     41    21        3.0000    43        9.0000        0.0000    34947  100.00%\n",
      "     45    30        3.0000    37        9.0000        0.0000    54534  100.00%\n",
      "     52    38    infeasible              9.0000        0.0000    61417  100.00%\n",
      "     73    56        3.0000    52        9.0000        0.0000    89165  100.00%\n",
      "Elapsed time = 13.60 sec. (5152.93 ticks, tree = 0.51 MB, solutions = 6)\n",
      "    100    80        3.0000   294        9.0000        0.0000   139688  100.00%\n",
      "    149    95        7.0000   136        9.0000        0.0000   159930  100.00%\n",
      "    232   151        7.0000   124        9.0000        0.0000   215681  100.00%\n",
      "    315   199        7.0000   113        9.0000        0.0099   260289   99.89%\n",
      "    403   228        1.0000   522        9.0000        0.0099   275191   99.89%\n",
      "    450   240        1.0000   914        9.0000        0.0281   309030   99.69%\n",
      "    548   324        3.0000   817        9.0000        0.0281   363648   99.69%\n",
      "    611   422        4.0000   831        9.0000        0.8218   426131   90.87%\n",
      "    684   480        6.0000   521        9.0000        0.8218   468803   90.87%\n",
      "    741   497        1.0000   863        9.0000        1.0000   476617   88.89%\n",
      "Elapsed time = 46.91 sec. (14919.78 ticks, tree = 1.59 MB, solutions = 6)\n",
      "    825   553        2.0000   111        9.0000        1.0000   525492   88.89%\n",
      "    891   544        2.0000   532        9.0000        1.0000   515957   88.89%\n",
      "    996   653        1.0000   573        9.0000        1.0000   583094   88.89%\n",
      "   1080   779        1.0000   648        9.0000        1.0000   656075   88.89%\n",
      "   1154   830        2.0000   563        9.0000        1.0000   682452   88.89%\n",
      "   1266   946        2.0000   681        9.0000        1.0000   760028   88.89%\n",
      "   1371   969        1.0000   436        9.0000        1.0000   771386   88.89%\n",
      "   1492  1083        2.0000   769        9.0000        1.0000   817485   88.89%\n",
      "   1584  1101        1.0000   853        9.0000        1.0000   831980   88.89%\n",
      "   1709  1234        2.0000  1115        9.0000        1.0000   894109   88.89%\n",
      "Elapsed time = 79.63 sec. (24539.56 ticks, tree = 4.25 MB, solutions = 6)\n",
      "   1847  1457        3.0000  1158        9.0000        1.0000  1002230   88.89%\n",
      "   1952  1551        4.0000  1129        9.0000        1.0000  1030050   88.89%\n",
      "   2046  1572        2.0000   193        9.0000        1.0000  1049737   88.89%\n",
      "   2113  1668        2.0000   203        9.0000        1.0000  1103787   88.89%\n",
      "   2217  1729        2.0000   267        9.0000        1.0000  1145143   88.89%\n",
      "   2302  1809        2.0000   539        9.0000        1.0000  1195505   88.89%\n",
      "   2407  1903        2.0000   362        9.0000        1.0000  1245286   88.89%\n",
      "   2505  2040        2.0000   208        9.0000        1.0000  1333931   88.89%\n",
      "   2593  2134        4.0000  1167        9.0000        1.0000  1381221   88.89%\n",
      "   2660  2123        2.0000   371        9.0000        1.0000  1365249   88.89%\n",
      "Elapsed time = 112.02 sec. (34547.00 ticks, tree = 7.05 MB, solutions = 6)\n",
      "   2758  2250        4.0000  1230        9.0000        1.0000  1443657   88.89%\n",
      "   2851  2336        6.0000  1149        9.0000        1.0000  1489323   88.89%\n",
      "   2933  2450        2.0000   657        9.0000        1.0000  1567787   88.89%\n",
      "   3012  2502        5.0000  1262        9.0000        1.0000  1610260   88.89%\n",
      "   3097  2550        6.0001   851        9.0000        1.0000  1642187   88.89%\n",
      "   3192  2676        6.0000  1337        9.0000        1.0000  1715913   88.89%\n",
      "   3304  2762        6.0000  1095        9.0000        1.0000  1757739   88.89%\n",
      "   3345  2738        6.0000  1031        9.0000        1.0000  1743285   88.89%\n",
      "   3364  2911        0.0000     7        9.0000        1.0000  1846848   88.89%\n",
      "   3397    96        5.0000    11        9.0000        1.0000  1851831   88.89%\n",
      "Elapsed time = 140.78 sec. (46338.39 ticks, tree = 0.29 MB, solutions = 6)\n",
      "   3410    43        7.0000    14        9.0000        1.0000  1865283   88.89%\n",
      "   3419    48        6.0000    44        9.0000        1.0000  1882870   88.89%\n",
      "   3427    44        0.0000   580        9.0000        1.0000  1876880   88.89%\n",
      "   3459    55        6.0000   269        9.0000        1.0000  1910464   88.89%\n",
      "   3489    70        6.0000    93        9.0000        1.3795  1933912   84.67%\n",
      "   3517    91        3.0000   488        9.0000        1.3795  1948872   84.67%\n",
      "   3593   118        6.0000    79        9.0000        1.3795  1962167   84.67%\n",
      "   3690   160        6.0000   520        9.0000        2.0000  1979622   77.78%\n",
      "   3807   183        3.0000   424        9.0000        2.0000  1993668   77.78%\n",
      "   3859   208        4.0000   719        9.0000        2.0000  2008329   77.78%\n",
      "Elapsed time = 172.31 sec. (56239.49 ticks, tree = 6.57 MB, solutions = 6)\n",
      "   3912   226        4.0000   664        9.0000        3.0000  2024557   66.67%\n",
      "   3977   248        4.0000   914        9.0000        3.0000  2037863   66.67%\n",
      "   4043   252        5.0000   661        9.0000        3.0100  2041406   66.56%\n",
      "   4171   295        4.0000   358        9.0000        3.4663  2083149   61.49%\n",
      "   4318   320        7.0000   545        9.0000        3.4663  2092924   61.49%\n",
      "   4458   387        6.0000   908        9.0000        4.0000  2124352   55.56%\n",
      "   4603   421        5.0000  1019        9.0000        4.0000  2133326   55.56%\n",
      "   4729   431    infeasible              9.0000        4.0000  2136438   55.56%\n",
      "   4825   570        5.0000   674        9.0000        4.0724  2178697   54.75%\n",
      "   4918   603        5.0000   561        9.0000        4.0724  2192798   54.75%\n",
      "Elapsed time = 200.72 sec. (65857.22 ticks, tree = 36.21 MB, solutions = 6)\n"
     ]
    },
    {
     "name": "stdout",
     "output_type": "stream",
     "text": [
      "   5041   641        5.0000   604        9.0000        4.1363  2221490   54.04%\n",
      "   5182   672    infeasible              9.0000        4.1363  2223652   54.04%\n",
      "   5339   816        7.0000   198        9.0000        4.3280  2261290   51.91%\n",
      "   5499   824        6.0000   568        9.0000        5.0000  2260735   44.44%\n",
      "   5779   935        7.0000   591        9.0000        5.0000  2284433   44.44%\n",
      "   5995  1162        7.0000   311        9.0000        5.0000  2314968   44.44%\n",
      "   6183  1295        6.0000   573        9.0000        5.0000  2336130   44.44%\n",
      "   6342  1291        7.0000   447        9.0000        5.0000  2334905   44.44%\n",
      "   6555  1363        6.0000   675        9.0000        5.0000  2350269   44.44%\n",
      "   6703  1637        5.0000   524        9.0000        5.0000  2402750   44.44%\n",
      "Elapsed time = 228.73 sec. (75443.66 ticks, tree = 138.07 MB, solutions = 6)\n",
      "   6855  1694        6.0000   723        9.0000        5.0000  2411870   44.44%\n",
      "   7052  1763    infeasible              9.0000        5.0000  2437140   44.44%\n",
      "   7270  1791        6.0000   512        9.0000        5.0000  2451796   44.44%\n",
      "   7476  1953        7.0000  1037        9.0000        5.0000  2473394   44.44%\n",
      "   7737  2085        6.0000   385        9.0000        5.0000  2492305   44.44%\n",
      "   7960  2225        6.0000    13        9.0000        5.0000  2515047   44.44%\n",
      "   8135  2500        7.0000   239        9.0000        5.0122  2559058   44.31%\n",
      "   8285  2553    infeasible              9.0000        5.0197  2569832   44.23%\n",
      "   8444  2623        6.0000   501        9.0000        5.0283  2579296   44.13%\n",
      "   8515  2762        7.0000   708        9.0000        5.0397  2604448   44.00%\n",
      "Elapsed time = 258.12 sec. (85054.87 ticks, tree = 258.59 MB, solutions = 6)\n",
      "   8577  2876        6.0000   400        9.0000        5.0397  2637875   44.00%\n",
      "   8633  2884        6.0000    14        9.0000        5.0397  2639246   44.00%\n",
      "   8837  2915        6.0000   257        9.0000        5.0397  2652875   44.00%\n",
      "   9067  2974        6.0000   110        9.0000        5.0397  2672305   44.00%\n",
      "   9377  3050        6.0000   460        9.0000        5.0719  2702806   43.65%\n",
      "   9557  3132        6.0000    56        9.0000        5.1250  2716474   43.06%\n",
      "   9694  3099        7.0000   110        9.0000        5.2100  2716132   42.11%\n",
      "   9838  3264        7.0000   467        9.0000        5.2807  2740853   41.33%\n",
      "   9914  3360    infeasible              9.0000        5.3176  2793861   40.92%\n",
      "  10368  3495        7.0000    17        9.0000        5.7800  2834472   35.78%\n",
      "Elapsed time = 296.93 sec. (97529.24 ticks, tree = 321.77 MB, solutions = 6)\n",
      "  10807  3961        7.0000    20        9.0000        6.0000  2934268   33.33%\n",
      "  11058  4119        7.0000   115        9.0000        6.0000  2987353   33.33%\n",
      "  11607  4513        7.0000   150        9.0000        6.0000  3069267   33.33%\n",
      "  12213  4926        7.0000   314        9.0000        6.0000  3126390   33.33%\n",
      "  12844  5338    infeasible              9.0000        6.0000  3202886   33.33%\n",
      "  13433  5829        7.0000   183        9.0000        6.0000  3280199   33.33%\n",
      "  14414  6139        7.0000   108        9.0000        6.0000  3350392   33.33%\n",
      "  15404  6744        7.0000   284        9.0000        6.0000  3429250   33.33%\n",
      "  16070  6922        7.0000   358        9.0000        6.0000  3482568   33.33%\n",
      "  16944  6661        7.0000   691        9.0000        6.0000  3562407   33.33%\n",
      "Elapsed time = 424.63 sec. (135796.92 ticks, tree = 528.42 MB, solutions = 6)\n",
      "  17735  6652        7.0000   218        9.0000        6.0000  3625814   33.33%\n",
      "  18651  7195        7.0000   311        9.0000        6.0000  3713598   33.33%\n",
      "  19539  7689    infeasible              9.0000        6.0039  3801857   33.29%\n",
      "  20077  8256        7.0000   286        9.0000        6.0163  3875043   33.15%\n",
      "  20502  8417        7.0000   487        9.0000        6.0213  3903365   33.10%\n",
      "  21096  8835        7.0000   181        9.0000        6.0274  4009555   33.03%\n",
      "  21902  9503        7.0000   106        9.0000        6.0326  4131652   32.97%\n",
      "  22535  9745        7.0000    69        9.0000        6.0402  4181035   32.89%\n",
      "  22998 10171        7.0000   137        9.0000        6.0513  4266029   32.76%\n",
      "  23583 10644    infeasible              9.0000        6.0611  4386783   32.65%\n",
      "Elapsed time = 570.93 sec. (174088.13 ticks, tree = 883.75 MB, solutions = 6)\n",
      "  24285 10876        7.0000   329        9.0000        6.0651  4412664   32.61%\n",
      "  25160 11435    infeasible              9.0000        6.0907  4510207   32.33%\n",
      "  25965 11983        7.0000   497        9.0000        6.1252  4589993   31.94%\n",
      "  26325 12413        7.0000    79        9.0000        6.1411  4679353   31.77%\n",
      "  26962 12740        7.0000   366        9.0000        6.1667  4760636   31.48%\n",
      "  27782 12952        7.0000   491        9.0000        6.1822  4806280   31.31%\n",
      "  28548 13554    infeasible              9.0000        6.3020  4935546   29.98%\n",
      "  29059 13848        7.0000    67        9.0000        6.4180  5030247   28.69%\n",
      "  29766 13956    infeasible              9.0000        6.5853  5088777   26.83%\n",
      "  30604 13618        7.0000   166        9.0000        6.7280  5192221   25.24%\n",
      "Elapsed time = 729.70 sec. (212302.16 ticks, tree = 1177.34 MB, solutions = 6)\n",
      "  31429 13294    infeasible              9.0000        6.9536  5256755   22.74%\n",
      "  32625 12775        7.0000    79        9.0000        7.0000  5331217   22.22%\n",
      "  34157 11684    infeasible              9.0000        7.0000  5399154   22.22%\n",
      "  35465 10737    infeasible              9.0000        7.0000  5444629   22.22%\n",
      "  37016  9654        7.0000   545        9.0000        7.0000  5514618   22.22%\n",
      "  38243  8699    infeasible              9.0000        7.0000  5564982   22.22%\n",
      "  39258  7960    infeasible              9.0000        7.0000  5599273   22.22%\n",
      "  40394  6678    infeasible              9.0000        7.0000  5694495   22.22%\n",
      "  41552  5262    infeasible              9.0000        7.0000  5719124   22.22%\n",
      "  42783  4530    infeasible              9.0000        7.0084  5756737   22.13%\n",
      "Elapsed time = 863.19 sec. (250467.84 ticks, tree = 297.05 MB, solutions = 6)\n",
      "  44203  2228    infeasible              9.0000        7.0534  5847401   21.63%\n",
      "  45682   825    infeasible              9.0000        7.7767  5888175   13.59%\n",
      "\n",
      "Root node processing (before b&c):\n",
      "  Real time             =    2.10 sec. (1386.80 ticks)\n",
      "Parallel b&c, 8 threads:\n",
      "  Real time             =  889.29 sec. (258326.60 ticks)\n",
      "  Sync time (average)   =   89.42 sec.\n",
      "  Wait time (average)   =    0.07 sec.\n",
      "                          ------------\n",
      "Total (root+branch&cut) =  891.39 sec. (259713.39 ticks)\n",
      "Number of free lunch witnesses: 9\n",
      "List of free lunch witnesses: [1917, 3476, 5390, 5391, 5426, 5749, 5805, 5806, 5807]\n",
      "Computed y lower bound 6.8971225204844535e-09\n"
     ]
    }
   ],
   "source": [
    "flw_index_list, y_lower_bound = model31.findFreeLunchWitnesses()"
   ]
  },
  {
   "cell_type": "markdown",
   "metadata": {},
   "source": [
    "# 32"
   ]
  },
  {
   "cell_type": "code",
   "execution_count": 99,
   "metadata": {},
   "outputs": [
    {
     "name": "stdout",
     "output_type": "stream",
     "text": [
      "Warning: no candidate for extra, outside found in the list\n",
      "Warning: multiple candidates for biomass found in the list\n",
      "0) E. coli biomass objective function (iJO1366) - WT - with 53.95 GAM estimate 1) E. coli biomass objective function (iJO1366) - core - with 53.95 GAM estimate\n",
      "Please select the correct string from the list above and enter its number, or -1 if none \n",
      "0\n"
     ]
    }
   ],
   "source": [
    "model32 =parseSBML('/home/hzabeti/qsopt-ex/build/python-qsoptex/MongooseGUI3/Models/SBML/iSSON_1240.xml')"
   ]
  },
  {
   "cell_type": "code",
   "execution_count": 100,
   "metadata": {},
   "outputs": [
    {
     "data": {
      "text/plain": [
       "{'ID': 'iSSON_1240',\n",
       " 'Name': 'Shigella sonnei Ss046',\n",
       " 'Source File': '/home/hzabeti/qsopt-ex/build/python-qsoptex/MongooseGUI3/Models/SBML/iSSON_1240.xml'}"
      ]
     },
     "execution_count": 100,
     "metadata": {},
     "output_type": "execute_result"
    }
   ],
   "source": [
    "model32.description"
   ]
  },
  {
   "cell_type": "code",
   "execution_count": 128,
   "metadata": {},
   "outputs": [
    {
     "name": "stdout",
     "output_type": "stream",
     "text": [
      "Number of individually producible free lunch metabolites 3\n",
      "[67, 290, 462] ['M_h_c', 'M_h_e', 'M_h_p']\n"
     ]
    },
    {
     "data": {
      "text/plain": [
       "0"
      ]
     },
     "execution_count": 128,
     "metadata": {},
     "output_type": "execute_result"
    }
   ],
   "source": [
    "ind_flm_index_list32,ind_flm_list32 = model32.findIndividuallyProducibleFLM()\n",
    "print(ind_flm_index_list32,ind_flm_list32)\n",
    "gc.collect()"
   ]
  },
  {
   "cell_type": "code",
   "execution_count": 101,
   "metadata": {},
   "outputs": [
    {
     "name": "stdout",
     "output_type": "stream",
     "text": [
      "parameters.mip.tolerances.integrality\n",
      "CPXPARAM_Simplex_Tolerances_Feasibility          1.0000000000000001e-09\n",
      "CPXPARAM_Read_DataCheck                          1\n",
      "CPXPARAM_MIP_Tolerances_Integrality              1.0000000000000001e-15\n",
      "Found incumbent of value 1011.000000 after 0.00 sec. (0.42 ticks)\n",
      "Tried aggregator 3 times.\n",
      "MIP Presolve eliminated 1136 rows and 1199 columns.\n",
      "MIP Presolve modified 3155 coefficients.\n",
      "Aggregator did 18 substitutions.\n",
      "Reduced MIP has 3444 rows, 3016 columns, and 18923 nonzeros.\n",
      "Reduced MIP has 1857 binaries, 15 generals, 0 SOSs, and 0 indicators.\n",
      "Presolve time = 0.02 sec. (23.77 ticks)\n",
      "Probing time = 0.00 sec. (0.26 ticks)\n",
      "Tried aggregator 1 time.\n",
      "Reduced MIP has 3444 rows, 3016 columns, and 18923 nonzeros.\n",
      "Reduced MIP has 1857 binaries, 15 generals, 0 SOSs, and 0 indicators.\n",
      "Presolve time = 0.01 sec. (7.21 ticks)\n",
      "Probing time = 0.00 sec. (0.26 ticks)\n",
      "MIP emphasis: balance optimality and feasibility.\n",
      "MIP search method: dynamic search.\n",
      "Parallel mode: deterministic, using up to 8 threads.\n",
      "Root relaxation solution time = 0.23 sec. (155.57 ticks)\n",
      "\n",
      "        Nodes                                         Cuts/\n",
      "   Node  Left     Objective  IInf  Best Integer    Best Bound    ItCnt     Gap\n",
      "\n",
      "*     0+    0                         1011.0000        0.0000           100.00%\n",
      "*     0+    0                          896.0000        0.0000           100.00%\n",
      "*     0+    0                          881.0000        0.0000           100.00%\n",
      "*     0+    0                          877.0000        0.0000           100.00%\n",
      "      0     0        0.0000     1      877.0000        0.0000     1466  100.00%\n",
      "*     0+    0                            1.0000        0.0000           100.00%\n",
      "      0     0        cutoff              1.0000                   1470    0.00%\n",
      "Elapsed time = 0.33 sec. (217.77 ticks, tree = 0.01 MB, solutions = 4)\n",
      "\n",
      "Cover cuts applied:  1\n",
      "\n",
      "Root node processing (before b&c):\n",
      "  Real time             =    0.34 sec. (218.12 ticks)\n",
      "Parallel b&c, 8 threads:\n",
      "  Real time             =    0.00 sec. (0.00 ticks)\n",
      "  Sync time (average)   =    0.00 sec.\n",
      "  Wait time (average)   =    0.00 sec.\n",
      "                          ------------\n",
      "Total (root+branch&cut) =    0.34 sec. (218.12 ticks)\n",
      "Number of free lunch witnesses: 1\n",
      "List of free lunch witnesses: [2477]\n",
      "Computed y lower bound 1.8674136321195145e-07\n"
     ]
    }
   ],
   "source": [
    "flw_index_list, y_lower_bound = model32.findFreeLunchWitnesses()"
   ]
  },
  {
   "cell_type": "markdown",
   "metadata": {},
   "source": [
    "# 33"
   ]
  },
  {
   "cell_type": "code",
   "execution_count": 104,
   "metadata": {},
   "outputs": [
    {
     "name": "stdout",
     "output_type": "stream",
     "text": [
      "Warning: no candidate for extra, outside found in the list\n",
      "Warning: multiple candidates for biomass found in the list\n",
      "0) Autotrophic Biomass Ecuation 1) Mixotrophic Biomass Ecuation 2) Heterotrophic Biomass Ecuation\n",
      "Please select the correct string from the list above and enter its number, or -1 if none \n",
      "0\n"
     ]
    }
   ],
   "source": [
    "model33 =parseSBML('/home/hzabeti/qsopt-ex/build/python-qsoptex/MongooseGUI3/Models/SBML/iJN678.xml')"
   ]
  },
  {
   "cell_type": "code",
   "execution_count": 105,
   "metadata": {},
   "outputs": [
    {
     "data": {
      "text/plain": [
       "{'ID': 'iJN678',\n",
       " 'Name': 'Synechocystis sp. PCC 6803',\n",
       " 'Source File': '/home/hzabeti/qsopt-ex/build/python-qsoptex/MongooseGUI3/Models/SBML/iJN678.xml'}"
      ]
     },
     "execution_count": 105,
     "metadata": {},
     "output_type": "execute_result"
    }
   ],
   "source": [
    "model33.description"
   ]
  },
  {
   "cell_type": "code",
   "execution_count": 145,
   "metadata": {},
   "outputs": [
    {
     "name": "stdout",
     "output_type": "stream",
     "text": [
      "Number of individually producible free lunch metabolites 3\n",
      "[592, 756, 757] ['M_photon_c', 'M_photon_e', 'M_photon_p']\n"
     ]
    },
    {
     "data": {
      "text/plain": [
       "0"
      ]
     },
     "execution_count": 145,
     "metadata": {},
     "output_type": "execute_result"
    }
   ],
   "source": [
    "ind_flm_index_list33,ind_flm_list33 = model33.findIndividuallyProducibleFLM()\n",
    "print(ind_flm_index_list33,ind_flm_list33)\n",
    "gc.collect()"
   ]
  },
  {
   "cell_type": "code",
   "execution_count": 106,
   "metadata": {},
   "outputs": [
    {
     "name": "stdout",
     "output_type": "stream",
     "text": [
      "parameters.mip.tolerances.integrality\n",
      "CPXPARAM_Simplex_Tolerances_Feasibility          1.0000000000000001e-09\n",
      "CPXPARAM_Read_DataCheck                          1\n",
      "CPXPARAM_MIP_Tolerances_Integrality              1.0000000000000001e-15\n",
      "Found incumbent of value 429.000000 after 0.00 sec. (0.16 ticks)\n",
      "Tried aggregator 2 times.\n",
      "MIP Presolve eliminated 385 rows and 397 columns.\n",
      "MIP Presolve modified 1486 coefficients.\n",
      "Aggregator did 5 substitutions.\n",
      "Reduced MIP has 1216 rows, 1196 columns, and 6787 nonzeros.\n",
      "Reduced MIP has 685 binaries, 5 generals, 0 SOSs, and 0 indicators.\n",
      "Presolve time = 0.01 sec. (6.75 ticks)\n",
      "Probing time = 0.00 sec. (0.13 ticks)\n",
      "Tried aggregator 1 time.\n",
      "Reduced MIP has 1216 rows, 1196 columns, and 6787 nonzeros.\n",
      "Reduced MIP has 685 binaries, 5 generals, 0 SOSs, and 0 indicators.\n",
      "Presolve time = 0.01 sec. (2.64 ticks)\n",
      "Probing time = 0.00 sec. (0.13 ticks)\n",
      "MIP emphasis: balance optimality and feasibility.\n",
      "MIP search method: dynamic search.\n",
      "Parallel mode: deterministic, using up to 8 threads.\n",
      "Root relaxation solution time = 0.04 sec. (32.06 ticks)\n",
      "\n",
      "        Nodes                                         Cuts/\n",
      "   Node  Left     Objective  IInf  Best Integer    Best Bound    ItCnt     Gap\n",
      "\n",
      "*     0+    0                          429.0000        0.0000           100.00%\n",
      "*     0+    0                          366.0000        0.0000           100.00%\n",
      "      0     0        0.0000     3      366.0000        0.0000      725  100.00%\n",
      "*     0+    0                            3.0000        0.0000           100.00%\n",
      "      0     0        1.0000    10        3.0000     Covers: 1      782   66.67%\n",
      "      0     0        2.0000    10        3.0000     Covers: 1      995   33.33%\n",
      "\n",
      "Repeating presolve.\n",
      "Tried aggregator 5 times.\n",
      "MIP Presolve eliminated 563 rows and 684 columns.\n",
      "MIP Presolve modified 336 coefficients.\n",
      "Aggregator did 103 substitutions.\n",
      "Reduced MIP has 550 rows, 409 columns, and 2647 nonzeros.\n",
      "Reduced MIP has 23 binaries, 0 generals, 0 SOSs, and 0 indicators.\n",
      "Presolve time = 0.01 sec. (8.38 ticks)\n",
      "Probing time = 0.00 sec. (0.02 ticks)\n",
      "Tried aggregator 1 time.\n",
      "Reduced MIP has 550 rows, 409 columns, and 2647 nonzeros.\n",
      "Reduced MIP has 23 binaries, 0 generals, 0 SOSs, and 0 indicators.\n",
      "Presolve time = 0.00 sec. (1.06 ticks)\n",
      "Represolve time = 0.02 sec. (10.03 ticks)\n",
      "Probing time = 0.00 sec. (0.02 ticks)\n",
      "MIP emphasis: balance optimality and feasibility.\n",
      "MIP search method: dynamic search.\n",
      "Parallel mode: deterministic, using up to 8 threads.\n",
      "Root relaxation solution time = 0.00 sec. (3.27 ticks)\n",
      "\n",
      "        Nodes                                         Cuts/\n",
      "   Node  Left     Objective  IInf  Best Integer    Best Bound    ItCnt     Gap\n",
      "\n",
      "*     0+    0                            3.0000        2.0000            33.33%\n",
      "      0     0        2.0000     7        3.0000        2.0000     1142   33.33%\n",
      "      0     0        2.0000    10        3.0000     Covers: 1     1151   33.33%\n",
      "      0     0        cutoff              3.0000        3.0000     1160    0.00%\n",
      "Elapsed time = 0.36 sec. (95.53 ticks, tree = 0.01 MB, solutions = 2)\n",
      "\n",
      "Cover cuts applied:  3\n",
      "\n",
      "Root node processing (before b&c):\n",
      "  Real time             =    0.36 sec. (95.62 ticks)\n",
      "Parallel b&c, 8 threads:\n",
      "  Real time             =    0.00 sec. (0.00 ticks)\n",
      "  Sync time (average)   =    0.00 sec.\n",
      "  Wait time (average)   =    0.00 sec.\n",
      "                          ------------\n",
      "Total (root+branch&cut) =    0.36 sec. (95.62 ticks)\n",
      "Number of free lunch witnesses: 3\n",
      "List of free lunch witnesses: [528, 529, 530]\n",
      "Computed y lower bound 2.922267679719462e-07\n"
     ]
    }
   ],
   "source": [
    "flw_index_list, y_lower_bound = model33.findFreeLunchWitnesses()"
   ]
  },
  {
   "cell_type": "markdown",
   "metadata": {},
   "source": [
    "# 34"
   ]
  },
  {
   "cell_type": "code",
   "execution_count": 107,
   "metadata": {},
   "outputs": [
    {
     "name": "stdout",
     "output_type": "stream",
     "text": [
      "Warning: no candidate for extra, outside found in the list\n",
      "Warning: multiple candidates for biomass found in the list\n",
      "0) E. coli biomass objective function (iJO1366) - WT - with 53.95 GAM estimate 1) E. coli biomass objective function (iJO1366) - core - with 53.95 GAM estimate\n",
      "Please select the correct string from the list above and enter its number, or -1 if none \n",
      "0\n"
     ]
    }
   ],
   "source": [
    "model34 =parseSBML('/home/hzabeti/qsopt-ex/build/python-qsoptex/MongooseGUI3/Models/SBML/iSFxv_1172.xml')"
   ]
  },
  {
   "cell_type": "code",
   "execution_count": 108,
   "metadata": {},
   "outputs": [
    {
     "data": {
      "text/plain": [
       "{'ID': 'iSFxv_1172',\n",
       " 'Name': 'Shigella flexneri 2002017',\n",
       " 'Source File': '/home/hzabeti/qsopt-ex/build/python-qsoptex/MongooseGUI3/Models/SBML/iSFxv_1172.xml'}"
      ]
     },
     "execution_count": 108,
     "metadata": {},
     "output_type": "execute_result"
    }
   ],
   "source": [
    "model34.description"
   ]
  },
  {
   "cell_type": "code",
   "execution_count": 146,
   "metadata": {},
   "outputs": [
    {
     "name": "stdout",
     "output_type": "stream",
     "text": [
      "Number of individually producible free lunch metabolites 3\n",
      "[47, 290, 463] ['M_h_c', 'M_h_e', 'M_h_p']\n"
     ]
    },
    {
     "data": {
      "text/plain": [
       "0"
      ]
     },
     "execution_count": 146,
     "metadata": {},
     "output_type": "execute_result"
    }
   ],
   "source": [
    "ind_flm_index_list34,ind_flm_list34 = model34.findIndividuallyProducibleFLM()\n",
    "print(ind_flm_index_list34,ind_flm_list34)\n",
    "gc.collect()"
   ]
  },
  {
   "cell_type": "code",
   "execution_count": 109,
   "metadata": {},
   "outputs": [
    {
     "name": "stdout",
     "output_type": "stream",
     "text": [
      "parameters.mip.tolerances.integrality\n",
      "CPXPARAM_Simplex_Tolerances_Feasibility          1.0000000000000001e-09\n",
      "CPXPARAM_Read_DataCheck                          1\n",
      "CPXPARAM_MIP_Tolerances_Integrality              1.0000000000000001e-15\n",
      "Found incumbent of value 978.000000 after 0.00 sec. (0.41 ticks)\n",
      "Tried aggregator 2 times.\n",
      "MIP Presolve eliminated 1132 rows and 1219 columns.\n",
      "MIP Presolve modified 3049 coefficients.\n",
      "Aggregator did 15 substitutions.\n",
      "Reduced MIP has 3341 rows, 2927 columns, and 18379 nonzeros.\n",
      "Reduced MIP has 1796 binaries, 12 generals, 0 SOSs, and 0 indicators.\n",
      "Presolve time = 0.02 sec. (19.78 ticks)\n",
      "Probing time = 0.00 sec. (0.25 ticks)\n",
      "Tried aggregator 1 time.\n",
      "Reduced MIP has 3341 rows, 2927 columns, and 18379 nonzeros.\n",
      "Reduced MIP has 1796 binaries, 12 generals, 0 SOSs, and 0 indicators.\n",
      "Presolve time = 0.01 sec. (6.98 ticks)\n",
      "Probing time = 0.02 sec. (0.25 ticks)\n",
      "MIP emphasis: balance optimality and feasibility.\n",
      "MIP search method: dynamic search.\n",
      "Parallel mode: deterministic, using up to 8 threads.\n",
      "Root relaxation solution time = 0.16 sec. (145.25 ticks)\n",
      "\n",
      "        Nodes                                         Cuts/\n",
      "   Node  Left     Objective  IInf  Best Integer    Best Bound    ItCnt     Gap\n",
      "\n",
      "*     0+    0                          978.0000        0.0000           100.00%\n",
      "*     0+    0                          872.0000        0.0000           100.00%\n",
      "      0     0        0.0000     1      872.0000        0.0000     1424  100.00%\n",
      "*     0+    0                            1.0000        0.0000           100.00%\n",
      "      0     0        cutoff              1.0000                   1428    0.00%\n",
      "Elapsed time = 0.27 sec. (202.14 ticks, tree = 0.01 MB, solutions = 2)\n",
      "\n",
      "Cover cuts applied:  1\n",
      "\n",
      "Root node processing (before b&c):\n",
      "  Real time             =    0.27 sec. (202.43 ticks)\n",
      "Parallel b&c, 8 threads:\n",
      "  Real time             =    0.00 sec. (0.00 ticks)\n",
      "  Sync time (average)   =    0.00 sec.\n",
      "  Wait time (average)   =    0.00 sec.\n",
      "                          ------------\n",
      "Total (root+branch&cut) =    0.27 sec. (202.43 ticks)\n",
      "Number of free lunch witnesses: 1\n",
      "List of free lunch witnesses: [2592]\n",
      "Computed y lower bound 1.9098548510313216e-07\n"
     ]
    }
   ],
   "source": [
    "flw_index_list, y_lower_bound = model34.findFreeLunchWitnesses()"
   ]
  },
  {
   "cell_type": "markdown",
   "metadata": {},
   "source": [
    "# 35"
   ]
  },
  {
   "cell_type": "code",
   "execution_count": 110,
   "metadata": {},
   "outputs": [
    {
     "name": "stdout",
     "output_type": "stream",
     "text": [
      "Warning: no candidate for extra, outside found in the list\n",
      "Warning: multiple candidates for biomass found in the list\n",
      "0) E. coli biomass objective function (iJO1366) - WT - with 53.95 GAM estimate 1) E. coli biomass objective function (iJO1366) - core - with 53.95 GAM estimate\n",
      "Please select the correct string from the list above and enter its number, or -1 if none \n",
      "0\n"
     ]
    }
   ],
   "source": [
    "model35 =parseSBML('/home/hzabeti/qsopt-ex/build/python-qsoptex/MongooseGUI3/Models/SBML/iBWG_1329.xml')"
   ]
  },
  {
   "cell_type": "code",
   "execution_count": 111,
   "metadata": {},
   "outputs": [
    {
     "data": {
      "text/plain": [
       "{'ID': 'iBWG_1329',\n",
       " 'Name': 'Escherichia coli BW2952',\n",
       " 'Source File': '/home/hzabeti/qsopt-ex/build/python-qsoptex/MongooseGUI3/Models/SBML/iBWG_1329.xml'}"
      ]
     },
     "execution_count": 111,
     "metadata": {},
     "output_type": "execute_result"
    }
   ],
   "source": [
    "model35.description"
   ]
  },
  {
   "cell_type": "code",
   "execution_count": 147,
   "metadata": {},
   "outputs": [
    {
     "name": "stdout",
     "output_type": "stream",
     "text": [
      "Number of individually producible free lunch metabolites 3\n",
      "[34, 290, 461] ['M_h_c', 'M_h_e', 'M_h_p']\n"
     ]
    },
    {
     "data": {
      "text/plain": [
       "0"
      ]
     },
     "execution_count": 147,
     "metadata": {},
     "output_type": "execute_result"
    }
   ],
   "source": [
    "ind_flm_index_list35,ind_flm_list35 = model35.findIndividuallyProducibleFLM()\n",
    "print(ind_flm_index_list35,ind_flm_list35)\n",
    "gc.collect()"
   ]
  },
  {
   "cell_type": "code",
   "execution_count": 112,
   "metadata": {},
   "outputs": [
    {
     "name": "stdout",
     "output_type": "stream",
     "text": [
      "parameters.mip.tolerances.integrality\n",
      "CPXPARAM_Simplex_Tolerances_Feasibility          1.0000000000000001e-09\n",
      "CPXPARAM_Read_DataCheck                          1\n",
      "CPXPARAM_MIP_Tolerances_Integrality              1.0000000000000001e-15\n",
      "Found incumbent of value 1030.000000 after 0.00 sec. (0.43 ticks)\n",
      "Tried aggregator 3 times.\n",
      "MIP Presolve eliminated 1124 rows and 1179 columns.\n",
      "MIP Presolve modified 3105 coefficients.\n",
      "Aggregator did 20 substitutions.\n",
      "Reduced MIP has 3552 rows, 3096 columns, and 19572 nonzeros.\n",
      "Reduced MIP has 1902 binaries, 17 generals, 0 SOSs, and 0 indicators.\n",
      "Presolve time = 0.02 sec. (24.06 ticks)\n",
      "Probing time = 0.00 sec. (0.26 ticks)\n",
      "Tried aggregator 1 time.\n",
      "Reduced MIP has 3552 rows, 3096 columns, and 19572 nonzeros.\n",
      "Reduced MIP has 1902 binaries, 17 generals, 0 SOSs, and 0 indicators.\n",
      "Presolve time = 0.01 sec. (7.44 ticks)\n",
      "Probing time = 0.01 sec. (0.26 ticks)\n",
      "MIP emphasis: balance optimality and feasibility.\n",
      "MIP search method: dynamic search.\n",
      "Parallel mode: deterministic, using up to 8 threads.\n",
      "Root relaxation solution time = 0.19 sec. (153.18 ticks)\n",
      "\n",
      "        Nodes                                         Cuts/\n",
      "   Node  Left     Objective  IInf  Best Integer    Best Bound    ItCnt     Gap\n",
      "\n",
      "*     0+    0                         1030.0000        0.0000           100.00%\n",
      "*     0+    0                          931.0000        0.0000           100.00%\n",
      "*     0+    0                          926.0000        0.0000           100.00%\n",
      "      0     0        0.0000     1      926.0000        0.0000     1460  100.00%\n",
      "*     0+    0                            1.0000        0.0000           100.00%\n",
      "      0     0        cutoff              1.0000                   1464    0.00%\n",
      "Elapsed time = 0.30 sec. (217.28 ticks, tree = 0.01 MB, solutions = 3)\n",
      "\n",
      "Cover cuts applied:  1\n",
      "\n",
      "Root node processing (before b&c):\n",
      "  Real time             =    0.30 sec. (217.61 ticks)\n",
      "Parallel b&c, 8 threads:\n",
      "  Real time             =    0.00 sec. (0.00 ticks)\n",
      "  Sync time (average)   =    0.00 sec.\n",
      "  Wait time (average)   =    0.00 sec.\n",
      "                          ------------\n",
      "Total (root+branch&cut) =    0.30 sec. (217.61 ticks)\n",
      "Number of free lunch witnesses: 1\n",
      "List of free lunch witnesses: [2709]\n",
      "Computed y lower bound 1.8674136321195145e-07\n"
     ]
    }
   ],
   "source": [
    "flw_index_list, y_lower_bound = model35.findFreeLunchWitnesses()"
   ]
  },
  {
   "cell_type": "markdown",
   "metadata": {},
   "source": [
    "# 36"
   ]
  },
  {
   "cell_type": "code",
   "execution_count": 113,
   "metadata": {},
   "outputs": [
    {
     "name": "stdout",
     "output_type": "stream",
     "text": [
      "Warning: no candidate for extra, outside found in the list\n",
      "Warning: multiple candidates for biomass found in the list\n",
      "0) E. coli biomass objective function (iJO1366) - WT - with 53.95 GAM estimate 1) E. coli biomass objective function (iJO1366) - core - with 53.95 GAM estimate\n",
      "Please select the correct string from the list above and enter its number, or -1 if none \n",
      "0\n"
     ]
    }
   ],
   "source": [
    "model36 =parseSBML('/home/hzabeti/qsopt-ex/build/python-qsoptex/MongooseGUI3/Models/SBML/iECIAI1_1343.xml')"
   ]
  },
  {
   "cell_type": "code",
   "execution_count": 114,
   "metadata": {},
   "outputs": [
    {
     "data": {
      "text/plain": [
       "{'ID': 'iECIAI1_1343',\n",
       " 'Name': 'Escherichia coli IAI1',\n",
       " 'Source File': '/home/hzabeti/qsopt-ex/build/python-qsoptex/MongooseGUI3/Models/SBML/iECIAI1_1343.xml'}"
      ]
     },
     "execution_count": 114,
     "metadata": {},
     "output_type": "execute_result"
    }
   ],
   "source": [
    "model36.description"
   ]
  },
  {
   "cell_type": "code",
   "execution_count": 148,
   "metadata": {},
   "outputs": [
    {
     "name": "stdout",
     "output_type": "stream",
     "text": [
      "Number of individually producible free lunch metabolites 7\n",
      "[101, 290, 461, 626, 630, 1372, 1373] ['M_h_c', 'M_h_e', 'M_h_p', 'M_mthgxl_c', 'M_dtdp4aaddg_c', 'M_histd_c', 'M_hisp_c']\n"
     ]
    },
    {
     "data": {
      "text/plain": [
       "0"
      ]
     },
     "execution_count": 148,
     "metadata": {},
     "output_type": "execute_result"
    }
   ],
   "source": [
    "ind_flm_index_list36,ind_flm_list36 = model36.findIndividuallyProducibleFLM()\n",
    "print(ind_flm_index_list36,ind_flm_list36)\n",
    "gc.collect()"
   ]
  },
  {
   "cell_type": "code",
   "execution_count": 115,
   "metadata": {},
   "outputs": [
    {
     "name": "stdout",
     "output_type": "stream",
     "text": [
      "parameters.mip.tolerances.integrality\n",
      "CPXPARAM_Simplex_Tolerances_Feasibility          1.0000000000000001e-09\n",
      "CPXPARAM_Read_DataCheck                          1\n",
      "CPXPARAM_MIP_Tolerances_Integrality              1.0000000000000001e-15\n",
      "Found incumbent of value 1041.000000 after 0.00 sec. (0.43 ticks)\n",
      "Tried aggregator 3 times.\n",
      "MIP Presolve eliminated 1145 rows and 1190 columns.\n",
      "MIP Presolve modified 3233 coefficients.\n",
      "Aggregator did 21 substitutions.\n",
      "Reduced MIP has 3578 rows, 3126 columns, and 19676 nonzeros.\n",
      "Reduced MIP has 1923 binaries, 16 generals, 0 SOSs, and 0 indicators.\n",
      "Presolve time = 0.02 sec. (24.58 ticks)\n",
      "Probing time = 0.00 sec. (0.27 ticks)\n",
      "Tried aggregator 1 time.\n",
      "Reduced MIP has 3578 rows, 3126 columns, and 19676 nonzeros.\n",
      "Reduced MIP has 1923 binaries, 16 generals, 0 SOSs, and 0 indicators.\n",
      "Presolve time = 0.01 sec. (7.48 ticks)\n",
      "Probing time = 0.00 sec. (0.27 ticks)\n",
      "MIP emphasis: balance optimality and feasibility.\n",
      "MIP search method: dynamic search.\n",
      "Parallel mode: deterministic, using up to 8 threads.\n",
      "Root relaxation solution time = 0.18 sec. (158.58 ticks)\n",
      "\n",
      "        Nodes                                         Cuts/\n",
      "   Node  Left     Objective  IInf  Best Integer    Best Bound    ItCnt     Gap\n",
      "\n",
      "*     0+    0                         1041.0000        0.0000           100.00%\n",
      "*     0+    0                          936.0000        0.0000           100.00%\n",
      "      0     0        0.0000     5      936.0000        0.0000     1496  100.00%\n",
      "*     0+    0                            5.0000        0.0000           100.00%\n",
      "      0     2        0.0000     5        5.0000        0.0000     1500  100.00%\n",
      "Elapsed time = 0.42 sec. (302.01 ticks, tree = 0.01 MB, solutions = 2)\n",
      "*    11+    1                            4.0000        0.0000           100.00%\n",
      "     40    14    infeasible              4.0000        0.0333     5580   99.17%\n",
      "     92    33    infeasible              4.0000        0.0333    28747   99.17%\n",
      "\n",
      "Cover cuts applied:  1\n",
      "\n",
      "Root node processing (before b&c):\n",
      "  Real time             =    0.40 sec. (300.35 ticks)\n",
      "Parallel b&c, 8 threads:\n",
      "  Real time             =    1.47 sec. (708.88 ticks)\n",
      "  Sync time (average)   =    0.50 sec.\n",
      "  Wait time (average)   =    0.00 sec.\n",
      "                          ------------\n",
      "Total (root+branch&cut) =    1.88 sec. (1009.23 ticks)\n",
      "Number of free lunch witnesses: 4\n",
      "List of free lunch witnesses: [290, 529, 2713, 2753]\n",
      "Computed y lower bound 1.8674136321195145e-07\n"
     ]
    }
   ],
   "source": [
    "flw_index_list, y_lower_bound = model36.findFreeLunchWitnesses()"
   ]
  },
  {
   "cell_type": "markdown",
   "metadata": {},
   "source": [
    "# 37"
   ]
  },
  {
   "cell_type": "code",
   "execution_count": 116,
   "metadata": {},
   "outputs": [
    {
     "name": "stdout",
     "output_type": "stream",
     "text": [
      "Warning: no candidate for extra, outside found in the list\n",
      "Warning: multiple candidates for biomass found in the list\n",
      "0) E. coli biomass objective function (iJO1366) - WT - with 53.95 GAM estimate 1) E. coli biomass objective function (iJO1366) - core - with 53.95 GAM estimate\n",
      "Please select the correct string from the list above and enter its number, or -1 if none \n",
      "0\n"
     ]
    }
   ],
   "source": [
    "model37 =parseSBML('/home/hzabeti/qsopt-ex/build/python-qsoptex/MongooseGUI3/Models/SBML/iSFV_1184.xml')"
   ]
  },
  {
   "cell_type": "code",
   "execution_count": 117,
   "metadata": {},
   "outputs": [
    {
     "data": {
      "text/plain": [
       "{'ID': 'iSFV_1184',\n",
       " 'Name': 'Shigella flexneri 5 str. 8401',\n",
       " 'Source File': '/home/hzabeti/qsopt-ex/build/python-qsoptex/MongooseGUI3/Models/SBML/iSFV_1184.xml'}"
      ]
     },
     "execution_count": 117,
     "metadata": {},
     "output_type": "execute_result"
    }
   ],
   "source": [
    "model37.description"
   ]
  },
  {
   "cell_type": "code",
   "execution_count": 149,
   "metadata": {},
   "outputs": [
    {
     "name": "stdout",
     "output_type": "stream",
     "text": [
      "Number of individually producible free lunch metabolites 3\n",
      "[59, 290, 461] ['M_h_c', 'M_h_e', 'M_h_p']\n"
     ]
    },
    {
     "data": {
      "text/plain": [
       "0"
      ]
     },
     "execution_count": 149,
     "metadata": {},
     "output_type": "execute_result"
    }
   ],
   "source": [
    "ind_flm_index_list37,ind_flm_list37 = model37.findIndividuallyProducibleFLM()\n",
    "print(ind_flm_index_list37,ind_flm_list37)\n",
    "gc.collect()"
   ]
  },
  {
   "cell_type": "code",
   "execution_count": 118,
   "metadata": {},
   "outputs": [
    {
     "name": "stdout",
     "output_type": "stream",
     "text": [
      "parameters.mip.tolerances.integrality\n",
      "CPXPARAM_Simplex_Tolerances_Feasibility          1.0000000000000001e-09\n",
      "CPXPARAM_Read_DataCheck                          1\n",
      "CPXPARAM_MIP_Tolerances_Integrality              1.0000000000000001e-15\n",
      "Found incumbent of value 948.000000 after 0.00 sec. (0.41 ticks)\n",
      "Tried aggregator 3 times.\n",
      "MIP Presolve eliminated 1155 rows and 1242 columns.\n",
      "MIP Presolve modified 3209 coefficients.\n",
      "Aggregator did 16 substitutions.\n",
      "Reduced MIP has 3285 rows, 2886 columns, and 18014 nonzeros.\n",
      "Reduced MIP has 1785 binaries, 13 generals, 0 SOSs, and 0 indicators.\n",
      "Presolve time = 0.02 sec. (22.28 ticks)\n",
      "Probing time = 0.00 sec. (0.24 ticks)\n",
      "Tried aggregator 1 time.\n",
      "Reduced MIP has 3285 rows, 2886 columns, and 18014 nonzeros.\n",
      "Reduced MIP has 1785 binaries, 13 generals, 0 SOSs, and 0 indicators.\n",
      "Presolve time = 0.01 sec. (6.85 ticks)\n",
      "Probing time = 0.00 sec. (0.24 ticks)\n",
      "MIP emphasis: balance optimality and feasibility.\n",
      "MIP search method: dynamic search.\n",
      "Parallel mode: deterministic, using up to 8 threads.\n",
      "Root relaxation solution time = 0.20 sec. (143.45 ticks)\n",
      "\n",
      "        Nodes                                         Cuts/\n",
      "   Node  Left     Objective  IInf  Best Integer    Best Bound    ItCnt     Gap\n",
      "\n",
      "*     0+    0                          948.0000        0.0000           100.00%\n",
      "*     0+    0                          838.0000        0.0000           100.00%\n",
      "*     0+    0                          827.0000        0.0000           100.00%\n",
      "      0     0        0.0000     2      827.0000        0.0000     1406  100.00%\n",
      "*     0+    0                            2.0000        0.0000           100.00%\n",
      "      0     0        1.0000     2        2.0000     Covers: 1     1412   50.00%\n",
      "*     0+    0                            1.0000        1.0000             0.00%\n",
      "      0     0        cutoff              1.0000        1.0000     1412    0.00%\n",
      "Elapsed time = 0.29 sec. (210.79 ticks, tree = 0.01 MB, solutions = 4)\n",
      "\n",
      "Cover cuts applied:  1\n",
      "\n",
      "Root node processing (before b&c):\n",
      "  Real time             =    0.29 sec. (211.13 ticks)\n",
      "Parallel b&c, 8 threads:\n",
      "  Real time             =    0.00 sec. (0.00 ticks)\n",
      "  Sync time (average)   =    0.00 sec.\n",
      "  Wait time (average)   =    0.00 sec.\n",
      "                          ------------\n",
      "Total (root+branch&cut) =    0.29 sec. (211.13 ticks)\n",
      "Number of free lunch witnesses: 1\n",
      "List of free lunch witnesses: [2422]\n",
      "Computed y lower bound 1.9098548510313216e-07\n"
     ]
    }
   ],
   "source": [
    "flw_index_list, y_lower_bound = model37.findFreeLunchWitnesses()"
   ]
  },
  {
   "cell_type": "markdown",
   "metadata": {},
   "source": [
    "# 38"
   ]
  },
  {
   "cell_type": "code",
   "execution_count": 119,
   "metadata": {},
   "outputs": [
    {
     "name": "stdout",
     "output_type": "stream",
     "text": [
      "Warning: no candidate for extra, outside found in the list\n",
      "Warning: multiple candidates for biomass found in the list\n",
      "0) Biomass component: Chlorophylls and pigments 1) Biomass component: Membrane lipids 2) Biomass component: Triacylglycerides (TAGs) 3) Biomass component: Carbohydrates 4) Biomass equation for model testing 5) Biomass component: DNA 6) Biomass component: RNA 7) Biomass component: Proteins and Amino acids\n",
      "Please select the correct string from the list above and enter its number, or -1 if none \n",
      "0\n"
     ]
    }
   ],
   "source": [
    "model38 =parseSBML('/home/hzabeti/qsopt-ex/build/python-qsoptex/MongooseGUI3/Models/SBML/iLB1027_lipid.xml')"
   ]
  },
  {
   "cell_type": "code",
   "execution_count": 120,
   "metadata": {},
   "outputs": [
    {
     "data": {
      "text/plain": [
       "{'ID': 'iLB1027_lipid',\n",
       " 'Name': 'Phaeodactylum tricornutum CCAP 1055/1',\n",
       " 'Source File': '/home/hzabeti/qsopt-ex/build/python-qsoptex/MongooseGUI3/Models/SBML/iLB1027_lipid.xml'}"
      ]
     },
     "execution_count": 120,
     "metadata": {},
     "output_type": "execute_result"
    }
   ],
   "source": [
    "model38.description"
   ]
  },
  {
   "cell_type": "code",
   "execution_count": 150,
   "metadata": {},
   "outputs": [
    {
     "name": "stdout",
     "output_type": "stream",
     "text": [
      "Number of individually producible free lunch metabolites 3\n",
      "[597, 598, 599] ['M_photon_e', 'M_photon_c', 'M_photon_h']\n"
     ]
    },
    {
     "data": {
      "text/plain": [
       "0"
      ]
     },
     "execution_count": 150,
     "metadata": {},
     "output_type": "execute_result"
    }
   ],
   "source": [
    "ind_flm_index_list38,ind_flm_list38 = model38.findIndividuallyProducibleFLM()\n",
    "print(ind_flm_index_list38,ind_flm_list38)\n",
    "gc.collect()"
   ]
  },
  {
   "cell_type": "code",
   "execution_count": 121,
   "metadata": {},
   "outputs": [
    {
     "name": "stdout",
     "output_type": "stream",
     "text": [
      "parameters.mip.tolerances.integrality\n",
      "CPXPARAM_Simplex_Tolerances_Feasibility          1.0000000000000001e-09\n",
      "CPXPARAM_Read_DataCheck                          1\n",
      "CPXPARAM_MIP_Tolerances_Integrality              1.0000000000000001e-15\n",
      "Found incumbent of value 1745.000000 after 0.00 sec. (0.76 ticks)\n",
      "Tried aggregator 2 times.\n",
      "MIP Presolve eliminated 249 rows and 288 columns.\n",
      "MIP Presolve modified 980 coefficients.\n",
      "Aggregator did 6 substitutions.\n",
      "Reduced MIP has 8551 rows, 6281 columns, and 45842 nonzeros.\n",
      "Reduced MIP has 4322 binaries, 6 generals, 0 SOSs, and 0 indicators.\n",
      "Presolve time = 0.02 sec. (23.64 ticks)\n",
      "Probing time = 0.00 sec. (0.61 ticks)\n",
      "Tried aggregator 1 time.\n",
      "Reduced MIP has 8551 rows, 6281 columns, and 45842 nonzeros.\n",
      "Reduced MIP has 4322 binaries, 6 generals, 0 SOSs, and 0 indicators.\n",
      "Presolve time = 0.02 sec. (16.99 ticks)\n",
      "Probing time = 0.01 sec. (0.61 ticks)\n",
      "MIP emphasis: balance optimality and feasibility.\n",
      "MIP search method: dynamic search.\n",
      "Parallel mode: deterministic, using up to 8 threads.\n",
      "Root relaxation solution time = 1.27 sec. (946.68 ticks)\n",
      "\n",
      "        Nodes                                         Cuts/\n",
      "   Node  Left     Objective  IInf  Best Integer    Best Bound    ItCnt     Gap\n",
      "\n",
      "*     0+    0                         1745.0000        0.0000           100.00%\n",
      "*     0+    0                         1717.0000        0.0000           100.00%\n",
      "*     0+    0                         1706.0000        0.0000           100.00%\n",
      "*     0+    0                         1693.0000        0.0000           100.00%\n",
      "*     0+    0                         1663.0000        0.0000           100.00%\n",
      "*     0+    0                         1628.0000        0.0000           100.00%\n",
      "      0     0        0.0000     4     1628.0000        0.0000     3856  100.00%\n",
      "*     0+    0                            3.0000        0.0000           100.00%\n",
      "      0     0        1.0000     3        3.0000     Covers: 1     4059   66.67%\n",
      "      0     0        1.0000     4        3.0000     Covers: 1     4499   66.67%\n",
      "      0     0        1.5000    35        3.0000     Covers: 1     6065   50.00%\n",
      "\n",
      "Repeating presolve.\n",
      "Tried aggregator 2 times.\n",
      "MIP Presolve eliminated 3453 rows and 3546 columns.\n",
      "MIP Presolve modified 120 coefficients.\n",
      "Aggregator did 207 substitutions.\n",
      "Reduced MIP has 4890 rows, 2528 columns, and 23034 nonzeros.\n",
      "Reduced MIP has 783 binaries, 0 generals, 0 SOSs, and 0 indicators.\n",
      "Presolve time = 0.02 sec. (20.26 ticks)\n",
      "Probing time = 0.00 sec. (0.26 ticks)\n",
      "Tried aggregator 1 time.\n",
      "Reduced MIP has 4890 rows, 2528 columns, and 23034 nonzeros.\n",
      "Reduced MIP has 783 binaries, 0 generals, 0 SOSs, and 0 indicators.\n",
      "Presolve time = 0.01 sec. (8.79 ticks)\n",
      "Represolve time = 0.04 sec. (34.19 ticks)\n",
      "Probing time = 0.00 sec. (0.26 ticks)\n",
      "MIP emphasis: balance optimality and feasibility.\n",
      "MIP search method: dynamic search.\n",
      "Parallel mode: deterministic, using up to 8 threads.\n",
      "Root relaxation solution time = 0.26 sec. (222.53 ticks)\n",
      "\n",
      "        Nodes                                         Cuts/\n",
      "   Node  Left     Objective  IInf  Best Integer    Best Bound    ItCnt     Gap\n",
      "\n",
      "*     0+    0                            3.0000        1.5000            50.00%\n",
      "      0     0        1.5000   139        3.0000        1.5000     7457   50.00%\n",
      "      0     2        1.5000     3        3.0000        1.5000     7457   50.00%\n",
      "Elapsed time = 4.32 sec. (2692.79 ticks, tree = 0.01 MB, solutions = 6)\n",
      "*     2     2      integral     0        2.0000        1.5000     7466   25.00%\n",
      "      4     4        2.0000    77        2.0000        1.5000     8577   25.00%\n",
      "\n",
      "Cover cuts applied:  3\n",
      "\n",
      "Root node processing (before b&c):\n",
      "  Real time             =    4.23 sec. (2687.03 ticks)\n",
      "Parallel b&c, 8 threads:\n",
      "  Real time             =    0.30 sec. (252.28 ticks)\n",
      "  Sync time (average)   =    0.10 sec.\n",
      "  Wait time (average)   =    0.00 sec.\n",
      "                          ------------\n",
      "Total (root+branch&cut) =    4.53 sec. (2939.31 ticks)\n",
      "Number of free lunch witnesses: 2\n",
      "List of free lunch witnesses: [377, 378]\n",
      "Computed y lower bound 3.3772374197906114e-07\n"
     ]
    }
   ],
   "source": [
    "flw_index_list, y_lower_bound = model38.findFreeLunchWitnesses()"
   ]
  },
  {
   "cell_type": "markdown",
   "metadata": {},
   "source": [
    "# 39"
   ]
  },
  {
   "cell_type": "code",
   "execution_count": 122,
   "metadata": {},
   "outputs": [
    {
     "name": "stdout",
     "output_type": "stream",
     "text": [
      "Warning: no candidate for extra, outside found in the list\n",
      "Warning: multiple candidates for biomass found in the list\n",
      "0) E. coli biomass objective function (iJO1366) - WT - with 53.95 GAM estimate 1) E. coli biomass objective function (iJO1366) - core - with 53.95 GAM estimate\n",
      "Please select the correct string from the list above and enter its number, or -1 if none \n",
      "0\n"
     ]
    }
   ],
   "source": [
    "model39 =parseSBML('/home/hzabeti/qsopt-ex/build/python-qsoptex/MongooseGUI3/Models/SBML/iEcHS_1320.xml')"
   ]
  },
  {
   "cell_type": "code",
   "execution_count": 123,
   "metadata": {},
   "outputs": [
    {
     "data": {
      "text/plain": [
       "{'ID': 'iEcHS_1320',\n",
       " 'Name': 'Escherichia coli HS',\n",
       " 'Source File': '/home/hzabeti/qsopt-ex/build/python-qsoptex/MongooseGUI3/Models/SBML/iEcHS_1320.xml'}"
      ]
     },
     "execution_count": 123,
     "metadata": {},
     "output_type": "execute_result"
    }
   ],
   "source": [
    "model39.description"
   ]
  },
  {
   "cell_type": "code",
   "execution_count": 151,
   "metadata": {},
   "outputs": [
    {
     "name": "stdout",
     "output_type": "stream",
     "text": [
      "Number of individually producible free lunch metabolites 3\n",
      "[103, 290, 463] ['M_h_c', 'M_h_e', 'M_h_p']\n"
     ]
    },
    {
     "data": {
      "text/plain": [
       "0"
      ]
     },
     "execution_count": 151,
     "metadata": {},
     "output_type": "execute_result"
    }
   ],
   "source": [
    "ind_flm_index_list39,ind_flm_list39 = model39.findIndividuallyProducibleFLM()\n",
    "print(ind_flm_index_list39,ind_flm_list39)\n",
    "gc.collect()"
   ]
  },
  {
   "cell_type": "code",
   "execution_count": 124,
   "metadata": {},
   "outputs": [
    {
     "name": "stdout",
     "output_type": "stream",
     "text": [
      "parameters.mip.tolerances.integrality\n",
      "CPXPARAM_Simplex_Tolerances_Feasibility          1.0000000000000001e-09\n",
      "CPXPARAM_Read_DataCheck                          1\n",
      "CPXPARAM_MIP_Tolerances_Integrality              1.0000000000000001e-15\n",
      "Found incumbent of value 1037.000000 after 0.00 sec. (0.43 ticks)\n",
      "Tried aggregator 3 times.\n",
      "MIP Presolve eliminated 1145 rows and 1190 columns.\n",
      "MIP Presolve modified 3225 coefficients.\n",
      "Aggregator did 21 substitutions.\n",
      "Reduced MIP has 3554 rows, 3109 columns, and 19575 nonzeros.\n",
      "Reduced MIP has 1910 binaries, 17 generals, 0 SOSs, and 0 indicators.\n",
      "Presolve time = 0.02 sec. (24.43 ticks)\n",
      "Probing time = 0.00 sec. (0.26 ticks)\n",
      "Tried aggregator 1 time.\n",
      "Reduced MIP has 3554 rows, 3109 columns, and 19575 nonzeros.\n",
      "Reduced MIP has 1910 binaries, 17 generals, 0 SOSs, and 0 indicators.\n",
      "Presolve time = 0.01 sec. (7.44 ticks)\n",
      "Probing time = 0.04 sec. (0.26 ticks)\n",
      "MIP emphasis: balance optimality and feasibility.\n",
      "MIP search method: dynamic search.\n",
      "Parallel mode: deterministic, using up to 8 threads.\n",
      "Root relaxation solution time = 0.16 sec. (147.71 ticks)\n",
      "\n",
      "        Nodes                                         Cuts/\n",
      "   Node  Left     Objective  IInf  Best Integer    Best Bound    ItCnt     Gap\n",
      "\n",
      "*     0+    0                         1037.0000        0.0000           100.00%\n",
      "*     0+    0                          929.0000        0.0000           100.00%\n",
      "*     0+    0                          922.0000        0.0000           100.00%\n",
      "      0     0        0.0000     2      922.0000        0.0000     1456  100.00%\n",
      "*     0+    0                            2.0000        0.0000           100.00%\n",
      "      0     0        1.0000     1        2.0000     Covers: 1     1463   50.00%\n",
      "      0     0        cutoff              2.0000                   1466    0.00%\n",
      "Elapsed time = 0.32 sec. (223.92 ticks, tree = 0.01 MB, solutions = 3)\n",
      "\n",
      "Cover cuts applied:  2\n",
      "\n",
      "Root node processing (before b&c):\n",
      "  Real time             =    0.32 sec. (224.25 ticks)\n",
      "Parallel b&c, 8 threads:\n",
      "  Real time             =    0.00 sec. (0.00 ticks)\n",
      "  Sync time (average)   =    0.00 sec.\n",
      "  Wait time (average)   =    0.00 sec.\n",
      "                          ------------\n",
      "Total (root+branch&cut) =    0.32 sec. (224.25 ticks)\n",
      "Number of free lunch witnesses: 2\n",
      "List of free lunch witnesses: [2684, 2701]\n",
      "Computed y lower bound 1.8674136321195145e-07\n"
     ]
    }
   ],
   "source": [
    "flw_index_list, y_lower_bound = model39.findFreeLunchWitnesses()"
   ]
  },
  {
   "cell_type": "markdown",
   "metadata": {},
   "source": [
    "# 40"
   ]
  },
  {
   "cell_type": "code",
   "execution_count": 125,
   "metadata": {},
   "outputs": [
    {
     "name": "stdout",
     "output_type": "stream",
     "text": [
      "Warning: no candidate for extra, outside found in the list\n",
      "Warning: multiple candidates for biomass found in the list\n",
      "0) E. coli biomass objective function (iJO1366) - WT - with 53.95 GAM estimate 1) E. coli biomass objective function (iJO1366) - core - with 53.95 GAM estimate\n",
      "Please select the correct string from the list above and enter its number, or -1 if none \n",
      "0\n"
     ]
    }
   ],
   "source": [
    "model40 =parseSBML('/home/hzabeti/qsopt-ex/build/python-qsoptex/MongooseGUI3/Models/SBML/iEC55989_1330.xml')"
   ]
  },
  {
   "cell_type": "code",
   "execution_count": 126,
   "metadata": {},
   "outputs": [
    {
     "data": {
      "text/plain": [
       "{'ID': 'iEC55989_1330',\n",
       " 'Name': 'Escherichia coli 55989',\n",
       " 'Source File': '/home/hzabeti/qsopt-ex/build/python-qsoptex/MongooseGUI3/Models/SBML/iEC55989_1330.xml'}"
      ]
     },
     "execution_count": 126,
     "metadata": {},
     "output_type": "execute_result"
    }
   ],
   "source": [
    "model40.description"
   ]
  },
  {
   "cell_type": "code",
   "execution_count": 152,
   "metadata": {},
   "outputs": [
    {
     "name": "stdout",
     "output_type": "stream",
     "text": [
      "Number of individually producible free lunch metabolites 3\n",
      "[11, 290, 463] ['M_h_c', 'M_h_e', 'M_h_p']\n"
     ]
    },
    {
     "data": {
      "text/plain": [
       "0"
      ]
     },
     "execution_count": 152,
     "metadata": {},
     "output_type": "execute_result"
    }
   ],
   "source": [
    "ind_flm_index_list40,ind_flm_list40 = model40.findIndividuallyProducibleFLM()\n",
    "print(ind_flm_index_list40,ind_flm_list40)\n",
    "gc.collect()"
   ]
  },
  {
   "cell_type": "code",
   "execution_count": 127,
   "metadata": {},
   "outputs": [
    {
     "name": "stdout",
     "output_type": "stream",
     "text": [
      "parameters.mip.tolerances.integrality\n",
      "CPXPARAM_Simplex_Tolerances_Feasibility          1.0000000000000001e-09\n",
      "CPXPARAM_Read_DataCheck                          1\n",
      "CPXPARAM_MIP_Tolerances_Integrality              1.0000000000000001e-15\n",
      "Found incumbent of value 1031.000000 after 0.00 sec. (0.43 ticks)\n",
      "Tried aggregator 3 times.\n",
      "MIP Presolve eliminated 1138 rows and 1188 columns.\n",
      "MIP Presolve modified 3167 coefficients.\n",
      "Aggregator did 19 substitutions.\n",
      "Reduced MIP has 3569 rows, 3107 columns, and 19640 nonzeros.\n",
      "Reduced MIP has 1916 binaries, 14 generals, 0 SOSs, and 0 indicators.\n",
      "Presolve time = 0.02 sec. (24.32 ticks)\n",
      "Probing time = 0.00 sec. (0.26 ticks)\n",
      "Tried aggregator 1 time.\n",
      "Reduced MIP has 3569 rows, 3107 columns, and 19640 nonzeros.\n",
      "Reduced MIP has 1916 binaries, 14 generals, 0 SOSs, and 0 indicators.\n",
      "Presolve time = 0.01 sec. (7.46 ticks)\n",
      "Probing time = 0.00 sec. (0.26 ticks)\n",
      "MIP emphasis: balance optimality and feasibility.\n",
      "MIP search method: dynamic search.\n",
      "Parallel mode: deterministic, using up to 8 threads.\n",
      "Root relaxation solution time = 0.20 sec. (164.22 ticks)\n",
      "\n",
      "        Nodes                                         Cuts/\n",
      "   Node  Left     Objective  IInf  Best Integer    Best Bound    ItCnt     Gap\n",
      "\n",
      "*     0+    0                         1031.0000        0.0000           100.00%\n",
      "*     0+    0                          932.0000        0.0000           100.00%\n",
      "*     0+    0                          930.0000        0.0000           100.00%\n",
      "      0     0        0.0000     1      930.0000        0.0000     1560  100.00%\n",
      "*     0+    0                            1.0000        0.0000           100.00%\n",
      "      0     0        cutoff              1.0000                   1564    0.00%\n",
      "Elapsed time = 0.30 sec. (228.44 ticks, tree = 0.01 MB, solutions = 3)\n",
      "\n",
      "Cover cuts applied:  1\n",
      "\n",
      "Root node processing (before b&c):\n",
      "  Real time             =    0.30 sec. (228.78 ticks)\n",
      "Parallel b&c, 8 threads:\n",
      "  Real time             =    0.00 sec. (0.00 ticks)\n",
      "  Sync time (average)   =    0.00 sec.\n",
      "  Wait time (average)   =    0.00 sec.\n",
      "                          ------------\n",
      "Total (root+branch&cut) =    0.30 sec. (228.78 ticks)\n",
      "Number of free lunch witnesses: 1\n",
      "List of free lunch witnesses: [2708]\n",
      "Computed y lower bound 1.8674136321195145e-07\n"
     ]
    }
   ],
   "source": [
    "flw_index_list, y_lower_bound = model40.findFreeLunchWitnesses()"
   ]
  }
 ],
 "metadata": {
  "kernelspec": {
   "display_name": "Python 3",
   "language": "python",
   "name": "python3"
  },
  "language_info": {
   "codemirror_mode": {
    "name": "ipython",
    "version": 3
   },
   "file_extension": ".py",
   "mimetype": "text/x-python",
   "name": "python",
   "nbconvert_exporter": "python",
   "pygments_lexer": "ipython3",
   "version": "3.5.2"
  }
 },
 "nbformat": 4,
 "nbformat_minor": 2
}
