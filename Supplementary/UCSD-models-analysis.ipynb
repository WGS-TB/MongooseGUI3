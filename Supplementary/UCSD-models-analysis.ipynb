{
 "cells": [
  {
   "cell_type": "code",
   "execution_count": 8,
   "metadata": {},
   "outputs": [],
   "source": [
    "%run -i 'ModelParsing.py'"
   ]
  },
  {
   "cell_type": "code",
   "execution_count": 9,
   "metadata": {
    "scrolled": true
   },
   "outputs": [
    {
     "name": "stdout",
     "output_type": "stream",
     "text": [
      "Warning: no candidate for extra, outside found in the list\n",
      "Warning: multiple candidates for biomass found in the list\n",
      "0) Biomass: pigments and xanthophylls 1) Biomass objective function 2) Biomass: DNA 3) Biomass: Cell wall (LPS and peptidoglycan) 4) Biomass: cofactor pool 5) Biomass: protein 6) Biomass: RNA 7) Biomass: carbohydrates (storage and misc.)\n",
      "Please select the correct string from the list above and enter its number, or -1 if none \n",
      "0\n"
     ]
    }
   ],
   "source": [
    "model =parseSBML('/home/hzabeti/qsopt-ex/build/python-qsoptex/MongooseGUI3/Models/SBML/iJB785.xml')\n",
    "#model =parseSBML('/home/hzabeti/Desktop/UCSD models/12918_2008_242_MOESM5_ESM.XML')"
   ]
  },
  {
   "cell_type": "code",
   "execution_count": 6,
   "metadata": {},
   "outputs": [],
   "source": [
    "flm_index,flm_list = find_ind_flm(model)"
   ]
  },
  {
   "cell_type": "code",
   "execution_count": 7,
   "metadata": {},
   "outputs": [
    {
     "name": "stdout",
     "output_type": "stream",
     "text": [
      "192 ['M_dxyl_c', 'M_h_c', 'M_h2o_c', 'M_pyr_c', 'M_co2_c', 'M_h_e', 'M_2obut_c', 'M_tre_c', 'M_mycolate_c', 'M_kmycolate_c', 'M_tdm4_c', 'M_mkmycolate_c', 'M_tdm3_c', 'M_tdm2_c', 'M_mmmycolate_c', 'M_mmycolate_c', 'M_tdm1_c', 'M_hpmtria_c', 'M_omtta_c', 'M_hdca_c', 'M_tat_c', 'M_arab__D_c', 'M_tarab__D_c', 'M_tartr__L_c', 'M_tartr__L_e', 'M_succ_c', 'M_succ_e', 'M_oaa_c', 'M_fum_c', 'M_2shchc_c', 'M_sucbz_c', 'M_sucsal_c', 'M_o2_c', 'M_h2o2_c', 'M_o2s_c', 'M_akg_c', 'M_skm_e', 'M_skm_c', 'M_3dhsk_c', 'M_ichor_c', 'M_chor_c', 'M_salc_c', 'M_rrppdima_c', 'M_rppdima_c', 'M_ppdima_c', 'M_rib__D_c', 'M_rib__D_e', 'M_rbl__D_c', 'M_ac_c', 'M_pyr_e', 'M_acald_c', 'M_prepphth_c', 'M_prephth_c', 'M_fald_c', 'M_meoh_c', 'M_phpyr_c', 'M_pphn_c', 'M_34hpp_c', 'M_glc__D_c', 'M_ppdima_e', 'M_tamocta_c', 'M_pphthiocerol_c', 'M_ppa_c', 'M_hco3_c', 'M_ppa_e', 'M_ocdca_c', 'M_12dgr160_c', 'M_phthclh2_c', 'M_phthcl_c', 'M_pphthdl_c', 'M_phthdl_c', 'M_phthiocerol_c', 'M_mndn_c', 'M_phdca_e', 'M_phdca_c', 'M_glyclt_c', 'M_frrppdima_c', 'M_mfrrppdima_c', 'M_for_c', 'M_pacald_c', 'M_pdima_e', 'M_pdima_c', 'M_pat_c', 'M_tmlgnc_c', 'M_pant__R_c', 'M_pac_c', 'M_pac_e', 'M_3mob_c', 'M_2dhp_c', 'M_dhna_c', 'M_man_c', 'M_msa_c', 'M_ppal_c', 'M_2mop_c', 'M_inost_c', 'M_meoh_e', 'M_mal__L_c', 'M_bhb_c', 'M_mal__L_e', 'M_ocdcea_c', 'M_arach_c', 'M_tmha1_c', 'M_tmha2_c', 'M_tmha3_c', 'M_ttdca_c', 'M_glyc_c', 'M_hdcea_c', 'M_mbhn_c', 'M_mocdca_c', 'M_gal_c', 'M_tmha4_c', 'M_hexc_c', 'M_xylu__D_c', 'M_ttdca_e', 'M_triat_c', 'M_tre_e', 'M_tmha6_c', 'M_tmha5_c', 'M_malt_e', 'M_malt_c', 'M_glx_c', 'M_lac__L_e', 'M_lac__L_c', 'M_mql8_c', 'M_mqn8_c', 'M_4mop_c', 'M_lcts_e', 'M_lcts_c', 'M_2ahbut_c', 'M_23dhmp_c', 'M_23dhmb_c', 'M_alac__S_c', 'M_3c3hmp_c', 'M_2ippm_c', 'M_3c2hmp_c', 'M_3c4mop_c', 'M_3mop_c', 'M_icit_c', 'M_4h2opntn_c', 'M_hdca_e', 'M_harab__D_c', 'M_h2_c', 'M_h2_e', 'M_h2o_e', 'M_h2co3_e', 'M_h2co3_c', 'M_mharab__D_c', 'M_glyc_e', 'M_2dmmq8_c', 'M_2dmmql8_c', 'M_glyc__R_c', 'M_oxa_c', 'M_glc__D_e', 'M_glycogen_c', 'M_gal_e', 'M_fum_e', 'M_co_e', 'M_co2_e', 'M_cit_e', 'M_arab__D_e', 'M_acac_c', 'M_ocdca_e', 'M_o2_e', 'M_rmyc_c', 'M_3dhq_c', 'M_mql6_c', 'M_mqn6_c', 'M_2dmmq6_c', 'M_cit_c', 'M_co_c', 'M_4hbz_c', 'M_arabinan_c', 'M_hpmdtria_c', 'M_hmtria_c', 'M_omdtria_c', 'M_pmocta_c', 'M_tamhexc_c', 'M_hmocta_c', 'M_tmhexc_c', 'M_pmhexc_c', 'M_dmlgnc_c', 'M_dmbhn_c', 'M_tamlgnc_c', 'M_marach_c', 'M_tmbhn_c', 'M_dmarach_c', 'M_m1ocdca_c', 'M_octa_c', 'M_ttc_c', 'M_ddca_c', 'M_dca_c', 'M_homtta_c']\n"
     ]
    }
   ],
   "source": [
    "print(len(flm_index),flm_list)"
   ]
  },
  {
   "cell_type": "code",
   "execution_count": 55,
   "metadata": {},
   "outputs": [],
   "source": [
    "alist = find_import_export_reactions(model.fullMatrix)\n",
    "blist = find_biomass_reaction_candidates(model)\n",
    "alist = alist+blist\n",
    "M = model.fullMatrix\n",
    "clist = set()\n",
    "for i in M:\n",
    "    for j in range(len(i)):\n",
    "        if j in alist:\n",
    "            i[j]=0\n",
    "            clist.add(j)\n",
    "            "
   ]
  },
  {
   "cell_type": "code",
   "execution_count": 56,
   "metadata": {},
   "outputs": [],
   "source": [
    "MT = transpose(M)\n",
    "RM = GaussJordan(MT)"
   ]
  },
  {
   "cell_type": "code",
   "execution_count": 57,
   "metadata": {},
   "outputs": [
    {
     "name": "stdout",
     "output_type": "stream",
     "text": [
      "21\n"
     ]
    }
   ],
   "source": [
    "flm_index_list = []\n",
    "for i in range(len(RM[0])):\n",
    "        a = []\n",
    "        a = [k for k in range(len(RM[0][i])) if RM[0][i][k]!=0]\n",
    "        if len(a)==1:\n",
    "            flm_index_list.append(a[0])\n",
    "print(len(flm_index_list))"
   ]
  },
  {
   "cell_type": "code",
   "execution_count": 58,
   "metadata": {},
   "outputs": [
    {
     "name": "stdout",
     "output_type": "stream",
     "text": [
      "['M_h_c', 'M_h_e', 'M_h_g', 'M_h_h', 'M_h_m', 'M_h_s', 'M_h_u', 'M_h_x', 'M_h2_c', 'M_h2_e', 'M_h2_h', 'M_h2_m', 'M_photon298_c', 'M_photon437_u', 'M_photon438_u', 'M_photon450_h', 'M_photon490_s', 'M_photon646_h', 'M_photon673_u', 'M_photon680_u', 'M_photonVis_e']\n"
     ]
    }
   ],
   "source": [
    "flm_list = [model.metabolites[int(i)].species.name for i in flm_index_list]\n",
    "print(flm_list)\n"
   ]
  },
  {
   "cell_type": "code",
   "execution_count": 11,
   "metadata": {},
   "outputs": [],
   "source": [
    "import numpy as np\n",
    "import math\n",
    "S = model.fullMatrix\n",
    "m,n = getSize(S)\n",
    "m_sq = int(math.sqrt(m))+1\n",
    "Max_norm = 0\n",
    "norm_list = []\n",
    "for i in range(n):\n",
    "    S_c = [float(a[i]) for a in S]\n",
    "    a = np.linalg.norm(S_c)\n",
    "    norm_list.append(a)\n",
    "    if Max_norm < a:\n",
    "        Max_norm = a\n",
    "Max_norm = int(Max_norm)+1        "
   ]
  },
  {
   "cell_type": "code",
   "execution_count": 14,
   "metadata": {},
   "outputs": [
    {
     "name": "stdout",
     "output_type": "stream",
     "text": [
      "1.9451468585878234e-07\n"
     ]
    }
   ],
   "source": [
    "y_lower_bound = 1/(Max_norm*m_sq)\n",
    "y_lower_bound = y_lower_bound*1e-3\n",
    "print(y_lower_bound)"
   ]
  },
  {
   "cell_type": "code",
   "execution_count": 4,
   "metadata": {},
   "outputs": [
    {
     "name": "stdout",
     "output_type": "stream",
     "text": [
      "parameters.mip.tolerances.integrality\n",
      "CPXPARAM_Simplex_Tolerances_Feasibility          1.0000000000000001e-09\n",
      "CPXPARAM_Read_DataCheck                          1\n",
      "CPXPARAM_MIP_Tolerances_Integrality              1.0000000000000001e-15\n",
      "Found incumbent of value 506.000000 after 0.00 sec. (0.19 ticks)\n",
      "Tried aggregator 2 times.\n",
      "MIP Presolve eliminated 294 rows and 287 columns.\n",
      "MIP Presolve modified 1279 coefficients.\n",
      "Aggregator did 6 substitutions.\n",
      "Reduced MIP has 1574 rows, 1468 columns, and 9293 nonzeros.\n",
      "Reduced MIP has 864 binaries, 3 generals, 0 SOSs, and 0 indicators.\n",
      "Presolve time = 0.01 sec. (8.21 ticks)\n",
      "Probing time = 0.00 sec. (0.17 ticks)\n",
      "Tried aggregator 1 time.\n",
      "Reduced MIP has 1574 rows, 1468 columns, and 9293 nonzeros.\n",
      "Reduced MIP has 864 binaries, 3 generals, 0 SOSs, and 0 indicators.\n",
      "Presolve time = 0.01 sec. (3.46 ticks)\n",
      "Probing time = 0.00 sec. (0.17 ticks)\n",
      "MIP emphasis: balance optimality and feasibility.\n",
      "MIP search method: dynamic search.\n",
      "Parallel mode: deterministic, using up to 8 threads.\n",
      "Root relaxation solution time = 0.07 sec. (52.03 ticks)\n",
      "\n",
      "        Nodes                                         Cuts/\n",
      "   Node  Left     Objective  IInf  Best Integer    Best Bound    ItCnt     Gap\n",
      "\n",
      "*     0+    0                          506.0000        0.0000           100.00%\n",
      "*     0+    0                          434.0000        0.0000           100.00%\n",
      "*     0+    0                          429.0000        0.0000           100.00%\n",
      "      0     0        0.0000    10      429.0000        0.0000      932  100.00%\n",
      "*     0+    0                           10.0000        0.0000           100.00%\n",
      "      0     0        1.0000     9       10.0000     Covers: 1      933   90.00%\n",
      "*     0+    0                            8.0000        1.0000            87.50%\n",
      "      0     0        2.0000     8        8.0000     Covers: 1      937   75.00%\n",
      "      0     0        2.0000     6        8.0000     Covers: 1      940   75.00%\n",
      "      0     0        3.0000    12        8.0000     Covers: 1     1288   62.50%\n",
      "      0     0        3.0000    10        8.0000     Covers: 1     1404   62.50%\n",
      "*     0+    0                            6.0000        3.0000            50.00%\n",
      "*     0+    0                            5.0000        3.0000            40.00%\n",
      "*     0+    0                            4.0000        3.0000            25.00%\n",
      "      0     0        cutoff              4.0000        3.5000     1404   12.50%\n",
      "Elapsed time = 0.68 sec. (362.75 ticks, tree = 0.01 MB, solutions = 7)\n",
      "\n",
      "Cover cuts applied:  5\n",
      "\n",
      "Root node processing (before b&c):\n",
      "  Real time             =    0.68 sec. (362.94 ticks)\n",
      "Parallel b&c, 8 threads:\n",
      "  Real time             =    0.00 sec. (0.00 ticks)\n",
      "  Sync time (average)   =    0.00 sec.\n",
      "  Wait time (average)   =    0.00 sec.\n",
      "                          ------------\n",
      "Total (root+branch&cut) =    0.68 sec. (362.94 ticks)\n"
     ]
    },
    {
     "data": {
      "text/plain": [
       "([44, 646, 647, 879], 2.554278416347382e-07)"
      ]
     },
     "execution_count": 4,
     "metadata": {},
     "output_type": "execute_result"
    }
   ],
   "source": [
    "free_lunch_witness_finder(model)"
   ]
  },
  {
   "cell_type": "code",
   "execution_count": 36,
   "metadata": {},
   "outputs": [
    {
     "data": {
      "text/plain": [
       "28.722813232690143"
      ]
     },
     "execution_count": 36,
     "metadata": {},
     "output_type": "execute_result"
    }
   ],
   "source": [
    "import math \n",
    "math.sqrt(m)"
   ]
  },
  {
   "cell_type": "code",
   "execution_count": 17,
   "metadata": {},
   "outputs": [],
   "source": []
  },
  {
   "cell_type": "code",
   "execution_count": 18,
   "metadata": {},
   "outputs": [
    {
     "name": "stdout",
     "output_type": "stream",
     "text": [
      "3.46410161514\n"
     ]
    }
   ],
   "source": []
  },
  {
   "cell_type": "code",
   "execution_count": 34,
   "metadata": {},
   "outputs": [
    {
     "name": "stdout",
     "output_type": "stream",
     "text": [
      "No Free Lunch condition: Not satisfied!\n",
      "Optimum solution and the number of all possible free lunch metabolites 3\n"
     ]
    }
   ],
   "source": [
    "flm_index_list = model.findFreeLunchMetabolites()"
   ]
  },
  {
   "cell_type": "code",
   "execution_count": 35,
   "metadata": {},
   "outputs": [
    {
     "name": "stdout",
     "output_type": "stream",
     "text": [
      "['M_h_c', 'M_h_e', 'M_h_p']\n"
     ]
    }
   ],
   "source": [
    "flm_list = [model.metabolites[int(i)].species.name for i in flm_index_list]\n",
    "print(flm_list)"
   ]
  },
  {
   "cell_type": "code",
   "execution_count": 10,
   "metadata": {},
   "outputs": [
    {
     "ename": "KeyboardInterrupt",
     "evalue": "",
     "output_type": "error",
     "traceback": [
      "\u001b[0;31m---------------------------------------------------------------------------\u001b[0m",
      "\u001b[0;31mKeyboardInterrupt\u001b[0m                         Traceback (most recent call last)",
      "\u001b[0;32m~/qsopt-ex/build/python-qsoptex/MongooseGUI3/ModelParsing.py\u001b[0m in \u001b[0;36m<module>\u001b[0;34m()\u001b[0m\n\u001b[0;32m----> 1\u001b[0;31m \u001b[0mmodel\u001b[0m\u001b[0;34m.\u001b[0m\u001b[0mfindMinimalFreeLunch\u001b[0m\u001b[0;34m(\u001b[0m\u001b[0;34m[\u001b[0m\u001b[0;36m687\u001b[0m\u001b[0;34m]\u001b[0m\u001b[0;34m)\u001b[0m\u001b[0;34m\u001b[0m\u001b[0m\n\u001b[0m",
      "\u001b[0;32m~/qsopt-ex/build/python-qsoptex/MongooseGUI3/ClassDefinitions.py\u001b[0m in \u001b[0;36mfindMinimalFreeLunch\u001b[0;34m(self, free_lunch_meta_list)\u001b[0m\n\u001b[1;32m    343\u001b[0m         \u001b[0;32mreturn\u001b[0m \u001b[0mfind_free_lunch_metabolites\u001b[0m\u001b[0;34m(\u001b[0m\u001b[0mself\u001b[0m\u001b[0;34m)\u001b[0m\u001b[0;34m\u001b[0m\u001b[0m\n\u001b[1;32m    344\u001b[0m     \u001b[0;32mdef\u001b[0m \u001b[0mfindMinimalFreeLunch\u001b[0m\u001b[0;34m(\u001b[0m\u001b[0mself\u001b[0m\u001b[0;34m,\u001b[0m\u001b[0mfree_lunch_meta_list\u001b[0m\u001b[0;34m=\u001b[0m\u001b[0;32mNone\u001b[0m\u001b[0;34m,\u001b[0m\u001b[0mprint_mess\u001b[0m\u001b[0;34m=\u001b[0m\u001b[0;32mTrue\u001b[0m\u001b[0;34m)\u001b[0m\u001b[0;34m:\u001b[0m\u001b[0;34m\u001b[0m\u001b[0m\n\u001b[0;32m--> 345\u001b[0;31m         \u001b[0;32mreturn\u001b[0m \u001b[0mminimal_free_lunch_finder\u001b[0m\u001b[0;34m(\u001b[0m\u001b[0mself\u001b[0m\u001b[0;34m,\u001b[0m\u001b[0mfree_lunch_meta_list\u001b[0m\u001b[0;34m,\u001b[0m\u001b[0mprint_mess\u001b[0m\u001b[0;34m)\u001b[0m\u001b[0;34m\u001b[0m\u001b[0m\n\u001b[0m\u001b[1;32m    346\u001b[0m     \u001b[0;32mdef\u001b[0m \u001b[0mfindIndividuallyProducibleFLM\u001b[0m\u001b[0;34m(\u001b[0m\u001b[0mself\u001b[0m\u001b[0;34m)\u001b[0m\u001b[0;34m:\u001b[0m\u001b[0;34m\u001b[0m\u001b[0m\n\u001b[1;32m    347\u001b[0m         \u001b[0;32mreturn\u001b[0m \u001b[0mfind_ind_flm\u001b[0m\u001b[0;34m(\u001b[0m\u001b[0mself\u001b[0m\u001b[0;34m)\u001b[0m\u001b[0;34m\u001b[0m\u001b[0m\n",
      "\u001b[0;32m~/qsopt-ex/build/python-qsoptex/MongooseGUI3/free_lunch_analysis.py\u001b[0m in \u001b[0;36mminimal_free_lunch_finder\u001b[0;34m(model_obj, FL_meta_index_list, print_mess)\u001b[0m\n\u001b[1;32m    270\u001b[0m             \u001b[0mminimal_free_lunch\u001b[0m \u001b[0;34m=\u001b[0m \u001b[0mextract_minimal_set\u001b[0m\u001b[0;34m(\u001b[0m\u001b[0mmodel_obj\u001b[0m\u001b[0;34m.\u001b[0m\u001b[0mfullMatrix\u001b[0m\u001b[0;34m,\u001b[0m \u001b[0mreactions_list\u001b[0m\u001b[0;34m,\u001b[0m\u001b[0mFL_meta_list\u001b[0m\u001b[0;34m)\u001b[0m\u001b[0;34m\u001b[0m\u001b[0m\n\u001b[1;32m    271\u001b[0m             \u001b[0mprint\u001b[0m\u001b[0;34m(\u001b[0m\u001b[0;34m\"Minimal free lunch indexes:\"\u001b[0m\u001b[0;34m,\u001b[0m \u001b[0mminimal_free_lunch\u001b[0m\u001b[0;34m)\u001b[0m\u001b[0;34m\u001b[0m\u001b[0m\n\u001b[0;32m--> 272\u001b[0;31m     \u001b[0;32melif\u001b[0m \u001b[0mFL_meta_index_list\u001b[0m \u001b[0;32mis\u001b[0m \u001b[0;32mnot\u001b[0m \u001b[0;32mNone\u001b[0m\u001b[0;34m:\u001b[0m\u001b[0;34m\u001b[0m\u001b[0m\n\u001b[0m\u001b[1;32m    273\u001b[0m         \u001b[0mFL_meta_list\u001b[0m \u001b[0;34m=\u001b[0m \u001b[0;34m[\u001b[0m\u001b[0;36m1\u001b[0m \u001b[0;32mif\u001b[0m \u001b[0mi\u001b[0m \u001b[0;32min\u001b[0m \u001b[0mFL_meta_index_list\u001b[0m \u001b[0;32melse\u001b[0m \u001b[0;36m0\u001b[0m \u001b[0;32mfor\u001b[0m \u001b[0mi\u001b[0m \u001b[0;32min\u001b[0m \u001b[0mrange\u001b[0m\u001b[0;34m(\u001b[0m\u001b[0mm\u001b[0m\u001b[0;34m)\u001b[0m\u001b[0;34m]\u001b[0m\u001b[0;34m\u001b[0m\u001b[0m\n\u001b[1;32m    274\u001b[0m         \u001b[0mreactions_list\u001b[0m \u001b[0;34m=\u001b[0m \u001b[0mre_weighted_linear_program\u001b[0m\u001b[0;34m(\u001b[0m\u001b[0mmodel_obj\u001b[0m\u001b[0;34m.\u001b[0m\u001b[0mfullMatrix\u001b[0m\u001b[0;34m,\u001b[0m \u001b[0mFL_meta_list\u001b[0m\u001b[0;34m,\u001b[0m \u001b[0mexcluded_reactions_list\u001b[0m\u001b[0;34m,\u001b[0m\u001b[0mexcluded_reactions_list\u001b[0m\u001b[0;34m)\u001b[0m\u001b[0;34m\u001b[0m\u001b[0m\n",
      "\u001b[0;32m~/qsopt-ex/build/python-qsoptex/MongooseGUI3/free_lunch_analysis.py\u001b[0m in \u001b[0;36mre_weighted_linear_program\u001b[0;34m(N, constraint_rhs, variable_lower_bound, variable_upper_bound)\u001b[0m\n\u001b[1;32m    161\u001b[0m \u001b[0;34m\u001b[0m\u001b[0m\n\u001b[1;32m    162\u001b[0m     \u001b[0;32mwhile\u001b[0m \u001b[0miteration\u001b[0m \u001b[0;34m<\u001b[0m \u001b[0mstop_num\u001b[0m \u001b[0;32mand\u001b[0m \u001b[0mflag\u001b[0m\u001b[0;34m:\u001b[0m\u001b[0;34m\u001b[0m\u001b[0m\n\u001b[0;32m--> 163\u001b[0;31m         \u001b[0mp\u001b[0m\u001b[0;34m,\u001b[0m \u001b[0mstatus\u001b[0m \u001b[0;34m=\u001b[0m \u001b[0mfree_lunch_finder\u001b[0m\u001b[0;34m(\u001b[0m\u001b[0mN\u001b[0m\u001b[0;34m,\u001b[0m \u001b[0mconstraint_rhs\u001b[0m\u001b[0;34m,\u001b[0m \u001b[0mw\u001b[0m\u001b[0;34m,\u001b[0m \u001b[0mvariable_lower_bound\u001b[0m\u001b[0;34m,\u001b[0m \u001b[0mvariable_upper_bound\u001b[0m\u001b[0;34m)\u001b[0m\u001b[0;34m\u001b[0m\u001b[0m\n\u001b[0m\u001b[1;32m    164\u001b[0m         \u001b[0;32mif\u001b[0m \u001b[0mstatus\u001b[0m \u001b[0;34m==\u001b[0m \u001b[0mqsoptex\u001b[0m\u001b[0;34m.\u001b[0m\u001b[0mSolutionStatus\u001b[0m\u001b[0;34m.\u001b[0m\u001b[0mOPTIMAL\u001b[0m\u001b[0;34m:\u001b[0m\u001b[0;34m\u001b[0m\u001b[0m\n\u001b[1;32m    165\u001b[0m             \u001b[0msolution_non_zero\u001b[0m \u001b[0;34m=\u001b[0m \u001b[0;34m[\u001b[0m\u001b[0;34m(\u001b[0m\u001b[0mi\u001b[0m\u001b[0;34m,\u001b[0m\u001b[0mp\u001b[0m\u001b[0;34m.\u001b[0m\u001b[0mget_value\u001b[0m\u001b[0;34m(\u001b[0m\u001b[0;34m'x'\u001b[0m \u001b[0;34m+\u001b[0m \u001b[0mstr\u001b[0m\u001b[0;34m(\u001b[0m\u001b[0mi\u001b[0m\u001b[0;34m)\u001b[0m\u001b[0;34m)\u001b[0m\u001b[0;34m)\u001b[0m \u001b[0;32mfor\u001b[0m \u001b[0mi\u001b[0m \u001b[0;32min\u001b[0m \u001b[0mrange\u001b[0m\u001b[0;34m(\u001b[0m\u001b[0mn\u001b[0m\u001b[0;34m)\u001b[0m \u001b[0;32mif\u001b[0m \u001b[0mp\u001b[0m\u001b[0;34m.\u001b[0m\u001b[0mget_value\u001b[0m\u001b[0;34m(\u001b[0m\u001b[0;34m'x'\u001b[0m \u001b[0;34m+\u001b[0m \u001b[0mstr\u001b[0m\u001b[0;34m(\u001b[0m\u001b[0mi\u001b[0m\u001b[0;34m)\u001b[0m\u001b[0;34m)\u001b[0m \u001b[0;34m!=\u001b[0m \u001b[0;36m0\u001b[0m\u001b[0;34m]\u001b[0m\u001b[0;34m\u001b[0m\u001b[0m\n",
      "\u001b[0;32m~/qsopt-ex/build/python-qsoptex/MongooseGUI3/free_lunch_analysis.py\u001b[0m in \u001b[0;36mfree_lunch_finder\u001b[0;34m(N, constraint_rhs, objective_weight_vector, variable_lower_bound, variable_upper_bound)\u001b[0m\n\u001b[1;32m    134\u001b[0m     \u001b[0;32mfor\u001b[0m \u001b[0mj\u001b[0m \u001b[0;32min\u001b[0m \u001b[0mrange\u001b[0m\u001b[0;34m(\u001b[0m\u001b[0mm\u001b[0m\u001b[0;34m)\u001b[0m\u001b[0;34m:\u001b[0m\u001b[0;34m\u001b[0m\u001b[0m\n\u001b[1;32m    135\u001b[0m         p.add_linear_constraint(qsoptex.ConstraintSense.GREATER,\n\u001b[0;32m--> 136\u001b[0;31m                                 {'x' + str(i): N[j][i] for i in range(n)}, rhs=constraint_rhs[j])\n\u001b[0m\u001b[1;32m    137\u001b[0m     \u001b[0;32mfor\u001b[0m \u001b[0mi\u001b[0m \u001b[0;32min\u001b[0m \u001b[0mrange\u001b[0m\u001b[0;34m(\u001b[0m\u001b[0mn\u001b[0m\u001b[0;34m)\u001b[0m\u001b[0;34m:\u001b[0m\u001b[0;34m\u001b[0m\u001b[0m\n\u001b[1;32m    138\u001b[0m         p.add_linear_constraint(qsoptex.ConstraintSense.GREATER,\n",
      "\u001b[0;31mKeyboardInterrupt\u001b[0m: "
     ]
    }
   ],
   "source": [
    "model.findMinimalFreeLunch([687])"
   ]
  },
  {
   "cell_type": "code",
   "execution_count": 14,
   "metadata": {},
   "outputs": [],
   "source": [
    "m,n = getSize(model.fullMatrix)\n",
    "minimal_vector = [None if i in minimal_fl_list else 0 for i in range(n)]\n",
    "FL_meta_list = [1 if i ==FL_meta_index else 0 for i in range(m)]\n",
    "a,b,c = free_lunch_check(model.fullMatrix,minimal_vector,FL_meta_list)"
   ]
  },
  {
   "cell_type": "code",
   "execution_count": 18,
   "metadata": {},
   "outputs": [
    {
     "name": "stdout",
     "output_type": "stream",
     "text": [
      "[(335, Fraction(1, 1))]\n",
      "M_PROTON_Cytosol\n"
     ]
    }
   ],
   "source": [
    "import numpy as np\n",
    "\n",
    "if c== qsoptex.SolutionStatus.OPTIMAL:\n",
    "    alist = [(i,b.get_value('x'+str(i))) for i in range(m) if b.get_value('x' + str(i)) != 0]\n",
    "ans_x = [0]*n\n",
    "for i in alist:\n",
    "    ans_x[i[0]] = i[1]\n",
    "cons_list = np.dot(model.fullMatrix,ans_x)\n",
    "cons = [(i,cons_list[i]) for i in range(m) if cons_list[i]!=0]\n",
    "print(cons)\n",
    "print(model.metabolites[cons[0][0]].species.name)"
   ]
  },
  {
   "cell_type": "code",
   "execution_count": 19,
   "metadata": {},
   "outputs": [
    {
     "name": "stdout",
     "output_type": "stream",
     "text": [
      "1 M_WATER_Cytosol[Cytosol] + 1 M_ATP_Cytosol[Cytosol] -> 1 M_PI_Cytosol[Cytosol] + 1 M_PROTON_Cytosol[Cytosol] + 1 M_ADP_Cytosol[Cytosol]\n",
      "1 M_WATER_Cytosol[Cytosol] + 1 M_ATP_Cytosol[Cytosol] -> 1 M_AMP_Cytosol[Cytosol] + 1 M_PPI_Cytosol[Cytosol]\n",
      "1 M_PPI_Cytosol[Cytosol] + 1 M_WATER_Cytosol[Cytosol] -> 2 M_PI_Cytosol[Cytosol]\n",
      "1 M_AMP_Cytosol[Cytosol] + 1 M_ATP_Cytosol[Cytosol] <-> 2 M_ADP_Cytosol[Cytosol]\n",
      "--------------------------------------------\n",
      "M_PROTON_Cytosol\n"
     ]
    }
   ],
   "source": [
    "for i in minimal_fl_list:\n",
    "    print(model.printReactionFormula(i))\n",
    "print('--------------------------------------------')\n",
    "print(model.metabolites[cons[0][0]].species.name)"
   ]
  },
  {
   "cell_type": "code",
   "execution_count": 6,
   "metadata": {},
   "outputs": [
    {
     "name": "stdout",
     "output_type": "stream",
     "text": [
      "CPXPARAM_Read_DataCheck                          1\n",
      "Found incumbent of value 506.000000 after 0.00 sec. (0.19 ticks)\n",
      "Tried aggregator 2 times.\n",
      "MIP Presolve eliminated 294 rows and 287 columns.\n",
      "MIP Presolve modified 1279 coefficients.\n",
      "Aggregator did 6 substitutions.\n",
      "Reduced MIP has 1574 rows, 1468 columns, and 9293 nonzeros.\n",
      "Reduced MIP has 864 binaries, 3 generals, 0 SOSs, and 0 indicators.\n",
      "Presolve time = 0.01 sec. (8.21 ticks)\n",
      "Probing time = 0.00 sec. (0.19 ticks)\n",
      "Tried aggregator 1 time.\n",
      "Reduced MIP has 1574 rows, 1468 columns, and 9293 nonzeros.\n",
      "Reduced MIP has 864 binaries, 3 generals, 0 SOSs, and 0 indicators.\n",
      "Presolve time = 0.01 sec. (3.46 ticks)\n",
      "Probing time = 0.00 sec. (0.19 ticks)\n",
      "MIP emphasis: balance optimality and feasibility.\n",
      "MIP search method: dynamic search.\n",
      "Parallel mode: deterministic, using up to 8 threads.\n",
      "Root relaxation solution time = 0.08 sec. (53.58 ticks)\n",
      "\n",
      "        Nodes                                         Cuts/\n",
      "   Node  Left     Objective  IInf  Best Integer    Best Bound    ItCnt     Gap\n",
      "\n",
      "*     0+    0                          506.0000        0.0000           100.00%\n",
      "*     0+    0                          434.0000        0.0000           100.00%\n",
      "*     0+    0                          432.0000        0.0000           100.00%\n",
      "      0     0        0.0009     8      432.0000        0.0009      968  100.00%\n",
      "*     0+    0                            8.0000        0.0009            99.99%\n",
      "      0     0        1.0008    10        8.0000     Covers: 1      974   87.49%\n",
      "      0     0        1.0008     7        8.0000     Covers: 1      976   87.49%\n",
      "      0     0        2.0004    10        8.0000     Covers: 1     1491   74.99%\n",
      "*     0+    0                            6.0000        2.0004            66.66%\n",
      "      0     2        2.0004     8        6.0000        2.0004     1491   66.66%\n",
      "Elapsed time = 0.54 sec. (321.74 ticks, tree = 0.01 MB, solutions = 4)\n",
      "*    20+   17                            5.0000        2.0006            59.99%\n",
      "*    88     2      integral     0        4.0000        3.0005    15380   24.99%\n",
      "\n",
      "Cover cuts applied:  6\n",
      "\n",
      "Root node processing (before b&c):\n",
      "  Real time             =    0.53 sec. (320.91 ticks)\n",
      "Parallel b&c, 8 threads:\n",
      "  Real time             =    0.39 sec. (214.46 ticks)\n",
      "  Sync time (average)   =    0.17 sec.\n",
      "  Wait time (average)   =    0.00 sec.\n",
      "                          ------------\n",
      "Total (root+branch&cut) =    0.92 sec. (535.38 ticks)\n"
     ]
    },
    {
     "data": {
      "text/plain": [
       "[43, 393, 633, 647]"
      ]
     },
     "execution_count": 6,
     "metadata": {},
     "output_type": "execute_result"
    }
   ],
   "source": [
    "model.findFreeLunchWitnesses()"
   ]
  }
 ],
 "metadata": {
  "kernelspec": {
   "display_name": "Python 3",
   "language": "python",
   "name": "python3"
  },
  "language_info": {
   "codemirror_mode": {
    "name": "ipython",
    "version": 3
   },
   "file_extension": ".py",
   "mimetype": "text/x-python",
   "name": "python",
   "nbconvert_exporter": "python",
   "pygments_lexer": "ipython3",
   "version": "3.5.2"
  }
 },
 "nbformat": 4,
 "nbformat_minor": 2
}
