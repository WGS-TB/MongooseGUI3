{
 "cells": [
  {
   "cell_type": "code",
   "execution_count": 1,
   "metadata": {},
   "outputs": [],
   "source": [
    "%run -i 'ModelParsing.py'"
   ]
  },
  {
   "cell_type": "code",
   "execution_count": 2,
   "metadata": {},
   "outputs": [
    {
     "name": "stdout",
     "output_type": "stream",
     "text": [
      "Warning: no candidate for extra, outside found in the list\n",
      "Warning: multiple candidates for biomass found in the list\n",
      "0) Biomass: pigments and xanthophylls 1) Biomass objective function 2) Biomass: DNA 3) Biomass: Cell wall (LPS and peptidoglycan) 4) Biomass: cofactor pool 5) Biomass: protein 6) Biomass: RNA 7) Biomass: carbohydrates (storage and misc.)\n",
      "Please select the correct string from the list above and enter its number, or -1 if none \n",
      "0\n"
     ]
    }
   ],
   "source": [
    "model =parseSBML('/home/hzabeti/qsopt-ex/build/python-qsoptex/MongooseGUI3/Models/SBML/iJB785.xml')"
   ]
  },
  {
   "cell_type": "code",
   "execution_count": 3,
   "metadata": {},
   "outputs": [
    {
     "name": "stdout",
     "output_type": "stream",
     "text": [
      "No Free Lunch condition: Not satisfied!\n",
      "Optimum solution and the number of all possible free lunch metabolites 16\n"
     ]
    }
   ],
   "source": [
    "flm_index_list,flm_list = model.findFreeLunchMetabolites()"
   ]
  },
  {
   "cell_type": "code",
   "execution_count": 4,
   "metadata": {},
   "outputs": [
    {
     "name": "stdout",
     "output_type": "stream",
     "text": [
      "Number of individually producible free lunch metabolites 16\n"
     ]
    }
   ],
   "source": [
    "ind_flm_index_list,ind_flm_list = model.findIndividuallyProducibleFLM()"
   ]
  },
  {
   "cell_type": "code",
   "execution_count": 5,
   "metadata": {},
   "outputs": [
    {
     "name": "stdout",
     "output_type": "stream",
     "text": [
      "[664, 665, 666, 667, 668, 669, 670, 671, 672, 673, 674, 675, 676, 677, 678, 687]\n",
      "['M_photon410_e', 'M_photon430_e', 'M_photon450_e', 'M_photon470_e', 'M_photon490_e', 'M_photon510_e', 'M_photon530_e', 'M_photon550_e', 'M_photon570_e', 'M_photon590_e', 'M_photon610_e', 'M_photon630_e', 'M_photon650_e', 'M_photon670_e', 'M_photon690_e', 'M_pho_loss_c']\n"
     ]
    }
   ],
   "source": [
    "print(ind_flm_index_list)\n",
    "print(ind_flm_list)"
   ]
  },
  {
   "cell_type": "code",
   "execution_count": 12,
   "metadata": {},
   "outputs": [
    {
     "name": "stdout",
     "output_type": "stream",
     "text": [
      "Number of iteration:  0\n",
      "Number of reactions involved in FL: 17\n",
      "------------------------------------------------------------\n",
      "Checking index:  45\n",
      "This index is in the miniaml set 45\n",
      "Checking index:  212\n",
      "This index is in the miniaml set 212\n",
      "Checking index:  233\n",
      "This index is in the miniaml set 233\n",
      "Checking index:  317\n",
      "This index is in the miniaml set 317\n",
      "Checking index:  725\n",
      "This index is in the miniaml set 725\n",
      "Checking index:  736\n",
      "This index is in the miniaml set 736\n",
      "Checking index:  740\n",
      "This index is in the miniaml set 740\n",
      "Checking index:  741\n",
      "This index is in the miniaml set 741\n",
      "Checking index:  742\n",
      "This index is in the miniaml set 742\n",
      "Checking index:  743\n",
      "This index is in the miniaml set 743\n",
      "Checking index:  806\n",
      "This index is in the miniaml set 806\n",
      "Checking index:  807\n",
      "This index is not in the minimal 807\n",
      "Checking index:  813\n",
      "This index is in the miniaml set 813\n",
      "Checking index:  815\n",
      "This index is in the miniaml set 815\n",
      "Checking index:  817\n",
      "This index is in the miniaml set 817\n",
      "Checking index:  840\n",
      "This index is in the miniaml set 840\n",
      "Checking index:  842\n",
      "This index is in the miniaml set 842\n",
      "Minimal free lunch indexes: [45, 212, 233, 317, 725, 736, 740, 741, 742, 743, 806, 813, 815, 817, 840, 842]\n",
      "------------------ minimal free lunch equation----------------\n",
      "-205200/112129*(1 M_h_c[c] + 1 M_nadph_c[c] + 1 M_pchlld_exc_c[c] -> 1 M_chlld_c[c] + 1 M_nadp_c[c])\n",
      "205200/112129*(2 M_atp_c[c] + 2 M_fdxrd_c[c] + 2 M_h2o_c[c] + 1 M_pchlld_c[c] -> 2 M_adp_c[c] + 1 M_chlld_c[c] + 2 M_fdxox_c[c] + 2 M_pi_c[c])\n",
      "-205200/112129*(2 M_fdxrd_c[c] + 1 M_h_c[c] + 1 M_nadp_c[c] <-> 2 M_fdxox_c[c] + 1 M_nadph_c[c])\n",
      "-273600/112129*(1 M_atp_c[c] + 1 M_gdp_c[c] <-> 1 M_adp_c[c] + 1 M_gtp_c[c])\n",
      "205200/112129*(69/500 M_caro_c[c] + 17/20 M_cholphya_c[c] + 1 M_photon430_e[e] + 3/250 M_zeax_c[c] -> 69/500 M_bcaro_exc_c[c] + 17/20 M_chla_soret_exc_c[c] + 3/250 M_zeax_exc_c[c])\n",
      "-131071/112129*(1 M_photon650_e[e] + 1 M_phycy_c[c] -> 1 M_phycy_exc_c[c])\n",
      "174420/112129*(1 M_chla_soret_exc_c[c] -> 63/200 M_chla_qy1_exc_c[c] + 7/200 M_chla_qy2_exc_c[c] + 13/20 M_cholphya_c[c] + 13/20 M_pho_loss_c[c])\n",
      "141588/560645*(1 M_bcaro_exc_c[c] + 3/4 M_cholphya_c[c] -> 1 M_caro_c[c] + 3/4 M_chla_qy1_exc_c[c] + 1/4 M_pho_loss_c[c])\n",
      "-131071/112129*(1 M_allocy_c[c] + 1 M_phycy_exc_c[c] -> 1 M_allocy_exc_c[c] + 1 M_phycy_c[c])\n",
      "-84645/112129*(1 M_allocy_exc_c[c] + 9/10 M_cholphya_c[c] -> 1 M_allocy_c[c] + 9/10 M_chla_qy1_exc_c[c] + 1/10 M_pho_loss_c[c])\n",
      "-205200/112129*(1 M_pchlld_c[c] + 1 M_photon430_e[e] -> 1 M_pchlld_exc_c[c])\n",
      "-46426/112129*(1 M_allocy_exc_c[c] + 19/20 M_cholphya_c[c] -> 1 M_allocy_c[c] + 19/20 M_chla_qy2_exc_c[c] + 1/20 M_pho_loss_c[c])\n",
      "-38000/112129*(1 M_chla_qy2_exc_c[c] + 1 M_p680_um[um] -> 1 M_cholphya_c[c] + 1 M_p680_exc_um[um])\n",
      "12312/560645*(1 M_zeax_exc_c[c] -> 1 M_pho_loss_c[c] + 1 M_zeax_c[c])\n",
      "-380/112129*(360 M_atp_c[c] + 720 M_gtp_c[c] + 1080 M_h2o_c[c] + 1 M_ps2d1_exc_um[um] -> 360 M_adp_c[c] + 720 M_gdp_c[c] + 1080 M_h_c[c] + 1080 M_pi_c[c] + 1 M_ps2d1_um[um])\n",
      "-38000/112129*(1 M_p680_exc_um[um] + 1/100 M_ps2d1_um[um] -> 1 M_p680_um[um] + 1/100 M_ps2d1_exc_um[um])\n",
      "-----------\n",
      "131071/112129*(M_photon650_e)\n",
      "1*(M_pho_loss_c)\n",
      "-------------------------------------------------------------\n"
     ]
    }
   ],
   "source": [
    "minimal_free_lunch,free_lunch_list,free_lunch_meta = model.findMinimalFreeLunch(free_lunch_meta_list=[687])"
   ]
  },
  {
   "cell_type": "code",
   "execution_count": 13,
   "metadata": {},
   "outputs": [
    {
     "name": "stdout",
     "output_type": "stream",
     "text": [
      "1974393/112129\n"
     ]
    }
   ],
   "source": [
    "print(sum([abs(i[1]) for i in free_lunch_list]))"
   ]
  },
  {
   "cell_type": "code",
   "execution_count": 5,
   "metadata": {},
   "outputs": [
    {
     "name": "stdout",
     "output_type": "stream",
     "text": [
      "LP does not have a solution for these constraints\n",
      "Minimal free lunch indexes: []\n"
     ]
    }
   ],
   "source": [
    "minimal_free_lunch,free_lunch_list,free_lunch_meta = model.findMinimalFreeLunch(free_lunch_meta_list=[680,687])"
   ]
  },
  {
   "cell_type": "markdown",
   "metadata": {},
   "source": [
    "- In the previous part metabolite 680 is not a free lunch metabolite. Just wanted to check if we get the correct result!"
   ]
  },
  {
   "cell_type": "code",
   "execution_count": 14,
   "metadata": {},
   "outputs": [
    {
     "name": "stdout",
     "output_type": "stream",
     "text": [
      "Number of iteration:  0\n",
      "Number of reactions involved in FL: 21\n",
      "------------------------------------------------------------\n",
      "Number of iteration:  1\n",
      "Number of reactions involved in FL: 14\n",
      "------------------------------------------------------------\n",
      "Checking index:  45\n",
      "This index is in the miniaml set 45\n",
      "Checking index:  212\n",
      "This index is in the miniaml set 212\n",
      "Checking index:  233\n",
      "This index is in the miniaml set 233\n",
      "Checking index:  317\n",
      "This index is in the miniaml set 317\n",
      "Checking index:  725\n",
      "This index is not in the minimal 725\n",
      "Checking index:  738\n",
      "This index is in the miniaml set 738\n",
      "Checking index:  740\n",
      "This index is not in the minimal 740\n",
      "Checking index:  741\n",
      "This index is not in the minimal 741\n",
      "Checking index:  806\n",
      "This index is in the miniaml set 806\n",
      "Checking index:  815\n",
      "This index is in the miniaml set 815\n",
      "Checking index:  816\n",
      "This index is in the miniaml set 816\n",
      "Checking index:  817\n",
      "This index is not in the minimal 817\n",
      "Checking index:  840\n",
      "This index is in the miniaml set 840\n",
      "Checking index:  842\n",
      "This index is in the miniaml set 842\n",
      "Minimal free lunch indexes: [45, 212, 233, 317, 738, 806, 815, 816, 840, 842]\n",
      "------------------ minimal free lunch equation----------------\n",
      "-297/5*(1 M_h_c[c] + 1 M_nadph_c[c] + 1 M_pchlld_exc_c[c] -> 1 M_chlld_c[c] + 1 M_nadp_c[c])\n",
      "297/5*(2 M_atp_c[c] + 2 M_fdxrd_c[c] + 2 M_h2o_c[c] + 1 M_pchlld_c[c] -> 2 M_adp_c[c] + 1 M_chlld_c[c] + 2 M_fdxox_c[c] + 2 M_pi_c[c])\n",
      "-297/5*(2 M_fdxrd_c[c] + 1 M_h_c[c] + 1 M_nadp_c[c] <-> 2 M_fdxox_c[c] + 1 M_nadph_c[c])\n",
      "-396/5*(1 M_atp_c[c] + 1 M_gdp_c[c] <-> 1 M_adp_c[c] + 1 M_gtp_c[c])\n",
      "-10*(1 M_cholphya_c[c] + 1 M_photon690_e[e] -> 9/10 M_chla_qy1_exc_c[c] + 1/10 M_chla_qy2_exc_c[c])\n",
      "-297/5*(1 M_pchlld_c[c] + 1 M_photon430_e[e] -> 1 M_pchlld_exc_c[c])\n",
      "-11*(1 M_chla_qy2_exc_c[c] + 1 M_p680_um[um] -> 1 M_cholphya_c[c] + 1 M_p680_exc_um[um])\n",
      "10*(1 M_chla_qy2_exc_c[c] -> 9/10 M_chla_qy1_exc_c[c] + 1/10 M_cholphya_c[c] + 1/10 M_pho_loss_c[c])\n",
      "-11/100*(360 M_atp_c[c] + 720 M_gtp_c[c] + 1080 M_h2o_c[c] + 1 M_ps2d1_exc_um[um] -> 360 M_adp_c[c] + 720 M_gdp_c[c] + 1080 M_h_c[c] + 1080 M_pi_c[c] + 1 M_ps2d1_um[um])\n",
      "-11*(1 M_p680_exc_um[um] + 1/100 M_ps2d1_um[um] -> 1 M_p680_um[um] + 1/100 M_ps2d1_exc_um[um])\n",
      "-----------\n",
      "297/5*(M_photon430_e)\n",
      "10*(M_photon690_e)\n",
      "1*(M_pho_loss_c)\n",
      "-------------------------------------------------------------\n"
     ]
    }
   ],
   "source": [
    "minimal_free_lunch,free_lunch_list,free_lunch_meta = model.findMinimalFreeLunch(free_lunch_meta_list=[678,687])"
   ]
  },
  {
   "cell_type": "code",
   "execution_count": 15,
   "metadata": {},
   "outputs": [
    {
     "name": "stdout",
     "output_type": "stream",
     "text": [
      "35891/100\n"
     ]
    }
   ],
   "source": [
    "print(sum([abs(i[1]) for i in free_lunch_list]))"
   ]
  },
  {
   "cell_type": "code",
   "execution_count": 9,
   "metadata": {},
   "outputs": [
    {
     "name": "stdout",
     "output_type": "stream",
     "text": [
      "Number of iteration:  0\n",
      "Number of reactions involved in FL: 23\n",
      "------------------------------------------------------------\n",
      "Checking index:  45\n",
      "This index is in the miniaml set 45\n",
      "Checking index:  60\n",
      "This index is not in the minimal 60\n",
      "Checking index:  144\n",
      "This index is not in the minimal 144\n",
      "Checking index:  212\n",
      "This index is in the miniaml set 212\n",
      "Checking index:  227\n",
      "This index is not in the minimal 227\n",
      "Checking index:  233\n",
      "This index is in the miniaml set 233\n",
      "Checking index:  317\n",
      "This index is in the miniaml set 317\n",
      "Checking index:  367\n",
      "This index is not in the minimal 367\n",
      "Checking index:  446\n",
      "This index is not in the minimal 446\n",
      "Checking index:  484\n",
      "This index is not in the minimal 484\n",
      "Checking index:  725\n",
      "This index is in the miniaml set 725\n",
      "Checking index:  731\n",
      "This index is in the miniaml set 731\n",
      "Checking index:  740\n",
      "This index is in the miniaml set 740\n",
      "Checking index:  741\n",
      "This index is in the miniaml set 741\n",
      "Checking index:  742\n",
      "This index is in the miniaml set 742\n",
      "Checking index:  743\n",
      "This index is in the miniaml set 743\n",
      "Checking index:  806\n",
      "This index is in the miniaml set 806\n",
      "Checking index:  813\n",
      "This index is in the miniaml set 813\n",
      "Checking index:  814\n",
      "This index is not in the minimal 814\n",
      "Checking index:  815\n",
      "This index is in the miniaml set 815\n",
      "Checking index:  817\n",
      "This index is in the miniaml set 817\n",
      "Checking index:  840\n",
      "This index is in the miniaml set 840\n",
      "Checking index:  842\n",
      "This index is in the miniaml set 842\n",
      "Minimal free lunch indexes: [45, 212, 233, 317, 725, 731, 740, 741, 742, 743, 806, 813, 815, 817, 840, 842]\n",
      "------------------ minimal free lunch equation----------------\n",
      "-205200/131071*(1 M_h_c[c] + 1 M_nadph_c[c] + 1 M_pchlld_exc_c[c] -> 1 M_chlld_c[c] + 1 M_nadp_c[c])\n",
      "205200/131071*(2 M_atp_c[c] + 2 M_fdxrd_c[c] + 2 M_h2o_c[c] + 1 M_pchlld_c[c] -> 2 M_adp_c[c] + 1 M_chlld_c[c] + 2 M_fdxox_c[c] + 2 M_pi_c[c])\n",
      "-205200/131071*(2 M_fdxrd_c[c] + 1 M_h_c[c] + 1 M_nadp_c[c] <-> 2 M_fdxox_c[c] + 1 M_nadph_c[c])\n",
      "-273600/131071*(1 M_atp_c[c] + 1 M_gdp_c[c] <-> 1 M_adp_c[c] + 1 M_gtp_c[c])\n",
      "205200/131071*(69/500 M_caro_c[c] + 17/20 M_cholphya_c[c] + 1 M_photon430_e[e] + 3/250 M_zeax_c[c] -> 69/500 M_bcaro_exc_c[c] + 17/20 M_chla_soret_exc_c[c] + 3/250 M_zeax_exc_c[c])\n",
      "-1*(1 M_photon550_e[e] + 1 M_phycy_c[c] -> 1 M_phycy_exc_c[c])\n",
      "174420/131071*(1 M_chla_soret_exc_c[c] -> 63/200 M_chla_qy1_exc_c[c] + 7/200 M_chla_qy2_exc_c[c] + 13/20 M_cholphya_c[c] + 13/20 M_pho_loss_c[c])\n",
      "141588/655355*(1 M_bcaro_exc_c[c] + 3/4 M_cholphya_c[c] -> 1 M_caro_c[c] + 3/4 M_chla_qy1_exc_c[c] + 1/4 M_pho_loss_c[c])\n",
      "-1*(1 M_allocy_c[c] + 1 M_phycy_exc_c[c] -> 1 M_allocy_exc_c[c] + 1 M_phycy_c[c])\n",
      "-84645/131071*(1 M_allocy_exc_c[c] + 9/10 M_cholphya_c[c] -> 1 M_allocy_c[c] + 9/10 M_chla_qy1_exc_c[c] + 1/10 M_pho_loss_c[c])\n",
      "-205200/131071*(1 M_pchlld_c[c] + 1 M_photon430_e[e] -> 1 M_pchlld_exc_c[c])\n",
      "-46426/131071*(1 M_allocy_exc_c[c] + 19/20 M_cholphya_c[c] -> 1 M_allocy_c[c] + 19/20 M_chla_qy2_exc_c[c] + 1/20 M_pho_loss_c[c])\n",
      "-38000/131071*(1 M_chla_qy2_exc_c[c] + 1 M_p680_um[um] -> 1 M_cholphya_c[c] + 1 M_p680_exc_um[um])\n",
      "12312/655355*(1 M_zeax_exc_c[c] -> 1 M_pho_loss_c[c] + 1 M_zeax_c[c])\n",
      "-380/131071*(360 M_atp_c[c] + 720 M_gtp_c[c] + 1080 M_h2o_c[c] + 1 M_ps2d1_exc_um[um] -> 360 M_adp_c[c] + 720 M_gdp_c[c] + 1080 M_h_c[c] + 1080 M_pi_c[c] + 1 M_ps2d1_um[um])\n",
      "-38000/131071*(1 M_p680_exc_um[um] + 1/100 M_ps2d1_um[um] -> 1 M_p680_um[um] + 1/100 M_ps2d1_exc_um[um])\n",
      "-----------\n",
      "1*(M_photon550_e)\n",
      "112129/131071*(M_pho_loss_c)\n",
      "-------------------------------------------------------------\n"
     ]
    }
   ],
   "source": [
    "minimal_free_lunch,free_lunch_list,free_lunch_meta = model.findMinimalFreeLunch(free_lunch_meta_list=[671])"
   ]
  },
  {
   "cell_type": "code",
   "execution_count": 7,
   "metadata": {},
   "outputs": [
    {
     "name": "stdout",
     "output_type": "stream",
     "text": [
      "parameters.mip.tolerances.integrality\n",
      "CPXPARAM_Simplex_Tolerances_Feasibility          1.0000000000000001e-09\n",
      "CPXPARAM_Read_DataCheck                          1\n",
      "CPXPARAM_MIP_Tolerances_Integrality              1.0000000000000001e-15\n",
      "Found incumbent of value 427.000000 after 0.00 sec. (0.16 ticks)\n",
      "Tried aggregator 2 times.\n",
      "MIP Presolve eliminated 262 rows and 264 columns.\n",
      "MIP Presolve modified 1043 coefficients.\n",
      "Aggregator did 8 substitutions.\n",
      "Reduced MIP has 1294 rows, 1270 columns, and 7235 nonzeros.\n",
      "Reduced MIP has 693 binaries, 8 generals, 0 SOSs, and 0 indicators.\n",
      "Presolve time = 0.01 sec. (5.91 ticks)\n",
      "Probing time = 0.00 sec. (0.14 ticks)\n",
      "Tried aggregator 1 time.\n",
      "Reduced MIP has 1294 rows, 1270 columns, and 7235 nonzeros.\n",
      "Reduced MIP has 693 binaries, 8 generals, 0 SOSs, and 0 indicators.\n",
      "Presolve time = 0.00 sec. (2.79 ticks)\n",
      "Probing time = 0.00 sec. (0.14 ticks)\n",
      "MIP emphasis: balance optimality and feasibility.\n",
      "MIP search method: dynamic search.\n",
      "Parallel mode: deterministic, using up to 8 threads.\n",
      "Root relaxation solution time = 0.10 sec. (73.88 ticks)\n",
      "\n",
      "        Nodes                                         Cuts/\n",
      "   Node  Left     Objective  IInf  Best Integer    Best Bound    ItCnt     Gap\n",
      "\n",
      "*     0+    0                          427.0000        0.0000           100.00%\n",
      "*     0+    0                          380.0000        0.0000           100.00%\n",
      "*     0+    0                          373.0000        0.0000           100.00%\n",
      "*     0+    0                          326.0000        0.0000           100.00%\n",
      "*     0+    0                          320.0000        0.0000           100.00%\n",
      "      0     0        0.0000     4      320.0000        0.0000     1375  100.00%\n",
      "*     0+    0                            4.0000        0.0000           100.00%\n",
      "*     0+    0                            3.0000        0.0000           100.00%\n",
      "      0     2        0.0000     4        3.0000        0.0000     1375  100.00%\n",
      "Elapsed time = 0.26 sec. (125.54 ticks, tree = 0.01 MB, solutions = 6)\n",
      "    310    84        1.0000    39        3.0000        0.6888    28729   77.04%\n",
      "    725    41    infeasible              3.0000        1.0000    37218   66.67%\n",
      "\n",
      "Root node processing (before b&c):\n",
      "  Real time             =    0.25 sec. (124.83 ticks)\n",
      "Parallel b&c, 8 threads:\n",
      "  Real time             =    0.89 sec. (626.69 ticks)\n",
      "  Sync time (average)   =    0.42 sec.\n",
      "  Wait time (average)   =    0.00 sec.\n",
      "                          ------------\n",
      "Total (root+branch&cut) =    1.14 sec. (751.52 ticks)\n",
      "Number of free lunch witnesses: 3\n",
      "List of free lunch witnesses: [45, 814, 842]\n",
      "Computed y lower bound 1.630789302022179e-08\n"
     ]
    },
    {
     "data": {
      "text/plain": [
       "([45, 814, 842], 1.630789302022179e-08)"
      ]
     },
     "execution_count": 7,
     "metadata": {},
     "output_type": "execute_result"
    }
   ],
   "source": [
    "model.findFreeLunchWitnesses()"
   ]
  }
 ],
 "metadata": {
  "kernelspec": {
   "display_name": "Python 3",
   "language": "python",
   "name": "python3"
  },
  "language_info": {
   "codemirror_mode": {
    "name": "ipython",
    "version": 3
   },
   "file_extension": ".py",
   "mimetype": "text/x-python",
   "name": "python",
   "nbconvert_exporter": "python",
   "pygments_lexer": "ipython3",
   "version": "3.5.2"
  }
 },
 "nbformat": 4,
 "nbformat_minor": 2
}
