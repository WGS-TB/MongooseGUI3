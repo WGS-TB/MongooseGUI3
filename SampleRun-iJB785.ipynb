{
 "cells": [
  {
   "cell_type": "code",
   "execution_count": 2,
   "metadata": {},
   "outputs": [],
   "source": [
    "%run -i 'ModelParsing.py'"
   ]
  },
  {
   "cell_type": "code",
   "execution_count": 3,
   "metadata": {},
   "outputs": [
    {
     "name": "stdout",
     "output_type": "stream",
     "text": [
      "Warning: no candidate for extra, outside found in the list\n",
      "Warning: multiple candidates for biomass found in the list\n",
      "0) Biomass: pigments and xanthophylls 1) Biomass objective function 2) Biomass: DNA 3) Biomass: Cell wall (LPS and peptidoglycan) 4) Biomass: cofactor pool 5) Biomass: protein 6) Biomass: RNA 7) Biomass: carbohydrates (storage and misc.)\n",
      "Please select the correct string from the list above and enter its number, or -1 if none \n",
      "0\n"
     ]
    }
   ],
   "source": [
    "model =parseSBML('/home/hzabeti/qsopt-ex/build/python-qsoptex/MongooseGUI3/Models/SBML/iJB785.xml')"
   ]
  },
  {
   "cell_type": "code",
   "execution_count": 3,
   "metadata": {},
   "outputs": [
    {
     "name": "stdout",
     "output_type": "stream",
     "text": [
      "No Free Lunch condition: Not satisfied!\n",
      "Optimum solution and the number of all possible free lunch metabolites 16\n"
     ]
    }
   ],
   "source": [
    "flm_index_list,flm_list = model.findFreeLunchMetabolites()"
   ]
  },
  {
   "cell_type": "code",
   "execution_count": 4,
   "metadata": {},
   "outputs": [
    {
     "name": "stdout",
     "output_type": "stream",
     "text": [
      "Number of individually producible free lunch metabolites 16\n"
     ]
    }
   ],
   "source": [
    "ind_flm_index_list,ind_flm_list = model.findIndividuallyProducibleFLM()"
   ]
  },
  {
   "cell_type": "code",
   "execution_count": 5,
   "metadata": {},
   "outputs": [
    {
     "name": "stdout",
     "output_type": "stream",
     "text": [
      "[664, 665, 666, 667, 668, 669, 670, 671, 672, 673, 674, 675, 676, 677, 678, 687]\n",
      "['M_photon410_e', 'M_photon430_e', 'M_photon450_e', 'M_photon470_e', 'M_photon490_e', 'M_photon510_e', 'M_photon530_e', 'M_photon550_e', 'M_photon570_e', 'M_photon590_e', 'M_photon610_e', 'M_photon630_e', 'M_photon650_e', 'M_photon670_e', 'M_photon690_e', 'M_pho_loss_c']\n"
     ]
    }
   ],
   "source": [
    "print(ind_flm_index_list)\n",
    "print(ind_flm_list)"
   ]
  },
  {
   "cell_type": "code",
   "execution_count": 4,
   "metadata": {},
   "outputs": [
    {
     "name": "stdout",
     "output_type": "stream",
     "text": [
      "Number of iteration:  0\n",
      "Number of reactions involved in FL: 17\n",
      "------------------------------------------------------------\n",
      "Checking index:  45\n",
      "This index is in the miniaml set 45\n",
      "Checking index:  212\n",
      "This index is in the miniaml set 212\n",
      "Checking index:  233\n",
      "This index is in the miniaml set 233\n",
      "Checking index:  317\n",
      "This index is in the miniaml set 317\n",
      "Checking index:  725\n",
      "This index is in the miniaml set 725\n",
      "Checking index:  736\n",
      "This index is in the miniaml set 736\n",
      "Checking index:  740\n",
      "This index is in the miniaml set 740\n",
      "Checking index:  741\n",
      "This index is in the miniaml set 741\n",
      "Checking index:  742\n",
      "This index is in the miniaml set 742\n",
      "Checking index:  743\n",
      "This index is in the miniaml set 743\n",
      "Checking index:  806\n",
      "This index is in the miniaml set 806\n",
      "Checking index:  807\n",
      "This index is not in the minimal 807\n",
      "Checking index:  813\n",
      "This index is in the miniaml set 813\n",
      "Checking index:  815\n",
      "This index is in the miniaml set 815\n",
      "Checking index:  817\n",
      "This index is in the miniaml set 817\n",
      "Checking index:  840\n",
      "This index is in the miniaml set 840\n",
      "Checking index:  842\n",
      "This index is in the miniaml set 842\n",
      "Minimal free lunch indexes: [45, 212, 233, 317, 725, 736, 740, 741, 742, 743, 806, 813, 815, 817, 840, 842]\n",
      "------------------ minimal free lunch equation----------------\n",
      "-205200/112129*(1 M_h_c[c] + 1 M_nadph_c[c] + 1 M_pchlld_exc_c[c] -> 1 M_chlld_c[c] + 1 M_nadp_c[c])\n",
      "205200/112129*(2 M_atp_c[c] + 2 M_fdxrd_c[c] + 2 M_h2o_c[c] + 1 M_pchlld_c[c] -> 2 M_adp_c[c] + 1 M_chlld_c[c] + 2 M_fdxox_c[c] + 2 M_pi_c[c])\n",
      "-205200/112129*(2 M_fdxrd_c[c] + 1 M_h_c[c] + 1 M_nadp_c[c] <-> 2 M_fdxox_c[c] + 1 M_nadph_c[c])\n",
      "-273600/112129*(1 M_atp_c[c] + 1 M_gdp_c[c] <-> 1 M_adp_c[c] + 1 M_gtp_c[c])\n",
      "205200/112129*(69/500 M_caro_c[c] + 17/20 M_cholphya_c[c] + 1 M_photon430_e[e] + 3/250 M_zeax_c[c] -> 69/500 M_bcaro_exc_c[c] + 17/20 M_chla_soret_exc_c[c] + 3/250 M_zeax_exc_c[c])\n",
      "-131071/112129*(1 M_photon650_e[e] + 1 M_phycy_c[c] -> 1 M_phycy_exc_c[c])\n",
      "174420/112129*(1 M_chla_soret_exc_c[c] -> 63/200 M_chla_qy1_exc_c[c] + 7/200 M_chla_qy2_exc_c[c] + 13/20 M_cholphya_c[c] + 13/20 M_pho_loss_c[c])\n",
      "141588/560645*(1 M_bcaro_exc_c[c] + 3/4 M_cholphya_c[c] -> 1 M_caro_c[c] + 3/4 M_chla_qy1_exc_c[c] + 1/4 M_pho_loss_c[c])\n",
      "-131071/112129*(1 M_allocy_c[c] + 1 M_phycy_exc_c[c] -> 1 M_allocy_exc_c[c] + 1 M_phycy_c[c])\n",
      "-84645/112129*(1 M_allocy_exc_c[c] + 9/10 M_cholphya_c[c] -> 1 M_allocy_c[c] + 9/10 M_chla_qy1_exc_c[c] + 1/10 M_pho_loss_c[c])\n",
      "-----------\n",
      "273600/112129*(M_gdp_c)\n",
      "410400/112129*(M_pi_c)\n",
      "-273600/112129*(M_gtp_c)\n",
      "-12312/560645*(M_zeax_c)\n",
      "136800/112129*(M_adp_c)\n",
      "-205200/112129*(M_pchlld_c)\n",
      "-410400/112129*(M_h2o_c)\n",
      "410400/112129*(M_h_c)\n",
      "-61047/1121290*(M_cholphya_c)\n",
      "-136800/112129*(M_atp_c)\n",
      "-205200/112129*(M_photon430_e)\n",
      "131071/112129*(M_photon650_e)\n",
      "-46426/112129*(M_allocy_exc_c)\n",
      "46426/112129*(M_allocy_c)\n",
      "1119879/1121290*(M_pho_loss_c)\n",
      "205200/112129*(M_pchlld_exc_c)\n",
      "12312/560645*(M_zeax_exc_c)\n",
      "61047/1121290*(M_chla_qy2_exc_c)\n",
      "-------------------------------------------------------------\n"
     ]
    }
   ],
   "source": [
    "minimal_free_lunch,free_lunch_list,free_lunch_meta = model.findMinimalFreeLunch(free_lunch_meta_list=[687])"
   ]
  }
 ],
 "metadata": {
  "kernelspec": {
   "display_name": "Python 3",
   "language": "python",
   "name": "python3"
  },
  "language_info": {
   "codemirror_mode": {
    "name": "ipython",
    "version": 3
   },
   "file_extension": ".py",
   "mimetype": "text/x-python",
   "name": "python",
   "nbconvert_exporter": "python",
   "pygments_lexer": "ipython3",
   "version": "3.5.2"
  }
 },
 "nbformat": 4,
 "nbformat_minor": 2
}
