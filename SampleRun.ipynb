{
 "cells": [
  {
   "cell_type": "code",
   "execution_count": 1,
   "metadata": {},
   "outputs": [],
   "source": [
    "%run -i 'ModelParsing.py'"
   ]
  },
  {
   "cell_type": "markdown",
   "metadata": {},
   "source": [
    "Parsing a model"
   ]
  },
  {
   "cell_type": "code",
   "execution_count": 2,
   "metadata": {},
   "outputs": [
    {
     "name": "stdout",
     "output_type": "stream",
     "text": [
      "Warning: no candidate for extra, outside found in the list\n"
     ]
    }
   ],
   "source": [
    "model =parseSBML('/home/hzabeti/qsopt-ex/build/python-qsoptex/MongooseGUI3/Models/SBML/iNJ661.xml')"
   ]
  },
  {
   "cell_type": "markdown",
   "metadata": {},
   "source": [
    "Finding Free Lunch Metabolites: findFreeLunchMetabolites takes the model as input and will print\n",
    "1) Status of \"No Free Lunch Condition\"\n",
    "2) Number of free lunch metabolites\n",
    "\n",
    "and will return \n",
    "2) List of indicies of all possible free lunch metabolites \n",
    "3) List of names of all possible free lunch metabolites"
   ]
  },
  {
   "cell_type": "code",
   "execution_count": 3,
   "metadata": {},
   "outputs": [
    {
     "name": "stdout",
     "output_type": "stream",
     "text": [
      "No Free Lunch condition: Not satisfied!\n",
      "Optimum solution and the number of all possible free lunch metabolites 192\n"
     ]
    }
   ],
   "source": [
    "flm_index_list,flm_list = model.findFreeLunchMetabolites()"
   ]
  },
  {
   "cell_type": "markdown",
   "metadata": {},
   "source": [
    "Finding individually producible Free Lunch Metabolite: findIndividuallyProducibleFLM takes the model as input and will print\n",
    "1) Number of individually producible free lunch metabolites \n",
    " \n",
    "and will return \n",
    "2) List of indicies of individually producible free lunch metabolites \n",
    "3) List of names of individually producible free lunch metabolites "
   ]
  },
  {
   "cell_type": "code",
   "execution_count": 3,
   "metadata": {},
   "outputs": [
    {
     "name": "stdout",
     "output_type": "stream",
     "text": [
      "Number of individually producible free lunch metabolites 192\n"
     ]
    }
   ],
   "source": [
    "ind_flm_index_list,ind_flm_list = model.findIndividuallyProducibleFLM()"
   ]
  },
  {
   "cell_type": "markdown",
   "metadata": {},
   "source": [
    "Finding Minimal Free Lunch: findMinimalFreeLunch takes \n",
    "1) model\n",
    "2) desirable free lunch metabolites index list(optional). The default value is None, and in this case Mongoose would find a free lunch metabolite(FLM) and the minimal free lunch with respect to that FLM. \n",
    "3) print minimal free lunch equation status(optional). The default value is True.\n",
    "as input and will print\n",
    "1) Number of iteration needed in the re-weighted linear program \n",
    "2) Number of reactions involved in the free lunch before extracting the minimal subset\n",
    "3) Status of each reaction(whether it is in the minimal subset)\n",
    "4) List of reactions that are involved in the minimal free lunch\n",
    "5) minimal free lunch equation\n",
    "and will return \n",
    "6) List of reactions that are involved in the minimal free lunch\n",
    "7) List of reactions that are involved in the minimal free lunch with their coefficients\n",
    "8) List of free lunch metabolites that has been produce by this free lunch and their amount  "
   ]
  },
  {
   "cell_type": "code",
   "execution_count": 4,
   "metadata": {},
   "outputs": [
    {
     "name": "stdout",
     "output_type": "stream",
     "text": [
      "Number of iteration:  0\n",
      "Number of reactions involved in FL: 4\n",
      "------------------------------------------------------------\n",
      "Checking index:  41\n",
      "This index is in the miniaml set 41\n",
      "Checking index:  42\n",
      "This index is in the miniaml set 42\n",
      "Checking index:  43\n",
      "This index is in the miniaml set 43\n",
      "Checking index:  44\n",
      "This index is in the miniaml set 44\n",
      "Minimal free lunch indexes: [41, 42, 43, 44]\n",
      "------------------ minimal free lunch equation----------------\n",
      "-1*(1 M_fe2_c[c] + 1 M_scl2_c[c] -> 2 M_h_c[c] + 1 M_sheme_c[c])\n",
      "1*(1 M_fe2_c[c] + 1 M_scl_c[c] -> 3 M_h_c[c] + 1 M_sheme_c[c])\n",
      "-1*(1 M_dscl_c[c] + 1 M_nad_c[c] -> 1 M_h_c[c] + 1 M_nadh_c[c] + 1 M_scl2_c[c])\n",
      "1*(1 M_dscl_c[c] + 1 M_nad_c[c] -> 1 M_h_c[c] + 1 M_nadh_c[c] + 1 M_scl_c[c])\n",
      "-----------\n",
      "1*(M_h_c)\n",
      "-------------------------------------------------------------\n"
     ]
    }
   ],
   "source": [
    "minimal_free_lunch,free_lunch_list,free_lunch_meta = model.findMinimalFreeLunch()"
   ]
  },
  {
   "cell_type": "markdown",
   "metadata": {},
   "source": [
    "Finding Free Lunch Witnesses: findFreeLunchWitnesses takes \n",
    "1) model\n",
    "2) desirable lower bound for vector y (optional). The default value is None, and in this case Mongoose would compute the lower bound based on the stoichiometric matrix and maximum number of atoms in metabolites. Note that the lower bound can not be less than 1e-9.\n",
    "3) Maximum numaber of atoms in metabolites (optional). The default value is 1e3.\n",
    "as input and will print \n",
    "1) Log of cplex for the problem\n",
    "2) Number of free lunch witnesses\n",
    "3) List of indicies of free lunch witnesses\n",
    "4) Computed lower bound for vector y\n",
    "\n",
    "and will return\n",
    "5) Number of free lunch witnesses\n",
    "6) List of indicies of free lunch witnesses\n",
    "7) Computed lower bound for vector y"
   ]
  },
  {
   "cell_type": "code",
   "execution_count": 3,
   "metadata": {},
   "outputs": [
    {
     "name": "stdout",
     "output_type": "stream",
     "text": [
      "parameters.mip.tolerances.integrality\n",
      "CPXPARAM_Simplex_Tolerances_Feasibility          1.0000000000000001e-09\n",
      "CPXPARAM_Read_DataCheck                          1\n",
      "CPXPARAM_MIP_Tolerances_Integrality              1.0000000000000001e-15\n",
      "Found incumbent of value 506.000000 after 0.00 sec. (0.19 ticks)\n",
      "Tried aggregator 2 times.\n",
      "MIP Presolve eliminated 294 rows and 287 columns.\n",
      "MIP Presolve modified 1279 coefficients.\n",
      "Aggregator did 6 substitutions.\n",
      "Reduced MIP has 1574 rows, 1468 columns, and 9293 nonzeros.\n",
      "Reduced MIP has 864 binaries, 3 generals, 0 SOSs, and 0 indicators.\n",
      "Presolve time = 0.01 sec. (8.21 ticks)\n",
      "Probing time = 0.00 sec. (0.17 ticks)\n",
      "Tried aggregator 1 time.\n",
      "Reduced MIP has 1574 rows, 1468 columns, and 9293 nonzeros.\n",
      "Reduced MIP has 864 binaries, 3 generals, 0 SOSs, and 0 indicators.\n",
      "Presolve time = 0.00 sec. (3.46 ticks)\n",
      "Probing time = 0.00 sec. (0.17 ticks)\n",
      "MIP emphasis: balance optimality and feasibility.\n",
      "MIP search method: dynamic search.\n",
      "Parallel mode: deterministic, using up to 8 threads.\n",
      "Root relaxation solution time = 0.06 sec. (52.03 ticks)\n",
      "\n",
      "        Nodes                                         Cuts/\n",
      "   Node  Left     Objective  IInf  Best Integer    Best Bound    ItCnt     Gap\n",
      "\n",
      "*     0+    0                          506.0000        0.0000           100.00%\n",
      "*     0+    0                          434.0000        0.0000           100.00%\n",
      "*     0+    0                          429.0000        0.0000           100.00%\n",
      "      0     0        0.0000    10      429.0000        0.0000      932  100.00%\n",
      "*     0+    0                           10.0000        0.0000           100.00%\n",
      "      0     0        1.0000     9       10.0000     Covers: 1      933   90.00%\n",
      "*     0+    0                            8.0000        1.0000            87.50%\n",
      "      0     0        2.0000     8        8.0000     Covers: 1      937   75.00%\n",
      "      0     0        2.0000     6        8.0000     Covers: 1      940   75.00%\n",
      "      0     0        3.0000    12        8.0000     Covers: 1     1288   62.50%\n",
      "      0     0        3.0000    10        8.0000     Covers: 1     1404   62.50%\n",
      "*     0+    0                            6.0000        3.0000            50.00%\n",
      "*     0+    0                            5.0000        3.0000            40.00%\n",
      "*     0+    0                            4.0000        3.0000            25.00%\n",
      "      0     0        cutoff              4.0000        3.5000     1404   12.50%\n",
      "Elapsed time = 0.68 sec. (362.75 ticks, tree = 0.01 MB, solutions = 7)\n",
      "\n",
      "Cover cuts applied:  5\n",
      "\n",
      "Root node processing (before b&c):\n",
      "  Real time             =    0.69 sec. (362.94 ticks)\n",
      "Parallel b&c, 8 threads:\n",
      "  Real time             =    0.00 sec. (0.00 ticks)\n",
      "  Sync time (average)   =    0.00 sec.\n",
      "  Wait time (average)   =    0.00 sec.\n",
      "                          ------------\n",
      "Total (root+branch&cut) =    0.69 sec. (362.94 ticks)\n",
      "Number of free lunch witnesses: 4\n",
      "List of free lunch witnesses: [44, 646, 647, 879]\n",
      "Computed y lower bound 2.554278416347382e-07\n"
     ]
    }
   ],
   "source": [
    "flw_index_list, y_lower_bound = model.findFreeLunchWitnesses()"
   ]
  }
 ],
 "metadata": {
  "kernelspec": {
   "display_name": "Python 3",
   "language": "python",
   "name": "python3"
  },
  "language_info": {
   "codemirror_mode": {
    "name": "ipython",
    "version": 3
   },
   "file_extension": ".py",
   "mimetype": "text/x-python",
   "name": "python",
   "nbconvert_exporter": "python",
   "pygments_lexer": "ipython3",
   "version": "3.5.2"
  }
 },
 "nbformat": 4,
 "nbformat_minor": 2
}
