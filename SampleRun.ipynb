{
 "cells": [
  {
   "cell_type": "markdown",
   "metadata": {},
   "source": [
    "Four new classes have been added to the 'ClassDefinitions.py':\n",
    "\n",
    "1) findFreeLunchMetabolites\n",
    "\n",
    "2) findIndividuallyProducibleFLM\n",
    "\n",
    "3) findMinimalFreeLunch\n",
    "\n",
    "4) findFreeLunchWitnesses\n",
    "\n",
    "All function required for these classes are imported from:\n",
    "\n",
    "1) free_lunch_witnesses.py\n",
    "\n",
    "2) free_lunch_analysis.py\n"
   ]
  },
  {
   "cell_type": "markdown",
   "metadata": {},
   "source": [
    "### Step 1"
   ]
  },
  {
   "cell_type": "code",
   "execution_count": 3,
   "metadata": {},
   "outputs": [],
   "source": [
    "%run -i 'ModelParsing.py'"
   ]
  },
  {
   "cell_type": "markdown",
   "metadata": {},
   "source": [
    "### Step 2"
   ]
  },
  {
   "cell_type": "markdown",
   "metadata": {},
   "source": [
    "Parsing a model"
   ]
  },
  {
   "cell_type": "code",
   "execution_count": 4,
   "metadata": {},
   "outputs": [
    {
     "name": "stdout",
     "output_type": "stream",
     "text": [
      "Warning: no candidate for extra, outside found in the list\n",
      "Warning: multiple candidates for biomass found in the list\n",
      "0) E. coli biomass objective function (iJO1366) - WT - with 53.95 GAM estimate 1) E. coli biomass objective function (iJO1366) - core - with 53.95 GAM estimate\n",
      "Please select the correct string from the list above and enter its number, or -1 if none \n",
      "0\n"
     ]
    }
   ],
   "source": [
    "model =parseSBML('/home/hzabeti/qsopt-ex/build/python-qsoptex/MongooseGUI3/Models/SBML/iY75_1357.xml')"
   ]
  },
  {
   "cell_type": "markdown",
   "metadata": {},
   "source": [
    "### Step 3"
   ]
  },
  {
   "cell_type": "markdown",
   "metadata": {},
   "source": [
    "Finding Free Lunch Metabolites: findFreeLunchMetabolites takes the model as input and will print\n",
    "1) Status of \"No Free Lunch Condition\"\n",
    "2) Number of free lunch metabolites\n",
    "\n",
    "And will return \n",
    "3) List of indicies of all possible free lunch metabolites \n",
    "4) List of names of all possible free lunch metabolites"
   ]
  },
  {
   "cell_type": "code",
   "execution_count": 5,
   "metadata": {},
   "outputs": [
    {
     "name": "stdout",
     "output_type": "stream",
     "text": [
      "No Free Lunch condition: Not satisfied!\n",
      "Optimum solution and the number of all possible free lunch metabolites 3\n"
     ]
    }
   ],
   "source": [
    "flm_index_list,flm_list = model.findFreeLunchMetabolites()"
   ]
  },
  {
   "cell_type": "code",
   "execution_count": 6,
   "metadata": {},
   "outputs": [
    {
     "name": "stdout",
     "output_type": "stream",
     "text": [
      "[102, 290, 463] ['M_h_c', 'M_h_e', 'M_h_p']\n"
     ]
    }
   ],
   "source": [
    "print(flm_index_list,flm_list)"
   ]
  },
  {
   "cell_type": "markdown",
   "metadata": {},
   "source": [
    "### Step 4"
   ]
  },
  {
   "cell_type": "markdown",
   "metadata": {},
   "source": [
    "Finding individually producible Free Lunch Metabolite: findIndividuallyProducibleFLM takes the model as input and will print\n",
    "1) Number of individually producible free lunch metabolites \n",
    " \n",
    "Also it will return \n",
    "2) List of indicies of individually producible free lunch metabolites \n",
    "3) List of names of individually producible free lunch metabolites "
   ]
  },
  {
   "cell_type": "code",
   "execution_count": 7,
   "metadata": {},
   "outputs": [
    {
     "name": "stdout",
     "output_type": "stream",
     "text": [
      "Number of individually producible free lunch metabolites 3\n"
     ]
    }
   ],
   "source": [
    "ind_flm_index_list,ind_flm_list = model.findIndividuallyProducibleFLM()"
   ]
  },
  {
   "cell_type": "code",
   "execution_count": 8,
   "metadata": {},
   "outputs": [
    {
     "name": "stdout",
     "output_type": "stream",
     "text": [
      "[102, 290, 463] ['M_h_c', 'M_h_e', 'M_h_p']\n"
     ]
    }
   ],
   "source": [
    "print(ind_flm_index_list,ind_flm_list)"
   ]
  },
  {
   "cell_type": "markdown",
   "metadata": {},
   "source": [
    "### Step 5"
   ]
  },
  {
   "cell_type": "markdown",
   "metadata": {},
   "source": [
    "Finding Minimal Free Lunch: findMinimalFreeLunch takes \n",
    "\n",
    "1) model\n",
    "\n",
    "2) desirable free lunch metabolites index list(optional). The default value is None, and in this case Mongoose would find a free lunch metabolite(FLM) and the minimal free lunch with respect to that FLM. \n",
    "\n",
    "3) print minimal free lunch equation status(optional). The default value is True.\n",
    "\n",
    "as input and will print\n",
    "\n",
    "1) Number of iteration needed in the re-weighted linear program \n",
    "\n",
    "2) Number of reactions involved in the free lunch before extracting the minimal subset\n",
    "\n",
    "3) Status of each reaction(whether it is in the minimal subset)\n",
    "\n",
    "4) List of reactions that are involved in the minimal free lunch\n",
    "\n",
    "5) minimal free lunch equation\n",
    "\n",
    "and will return \n",
    "\n",
    "6) List of reactions that are involved in the minimal free lunch\n",
    "\n",
    "7) List of reactions that are involved in the minimal free lunch with their coefficients\n",
    "\n",
    "8) List of free lunch metabolites that has been produce by this free lunch and their amount  "
   ]
  },
  {
   "cell_type": "code",
   "execution_count": 9,
   "metadata": {},
   "outputs": [
    {
     "name": "stdout",
     "output_type": "stream",
     "text": [
      "Number of iteration:  0\n",
      "Number of reactions involved in FL: 3\n",
      "------------------------------------------------------------\n",
      "Checking index:  1948\n",
      "This index is in the minimal set 1948\n",
      "Checking index:  2019\n",
      "This index is in the minimal set 2019\n",
      "Checking index:  2727\n",
      "This index is in the minimal set 2727\n",
      "Minimal free lunch indexes: [1948, 2019, 2727]\n",
      "------------------ minimal free lunch equation----------------\n",
      "1*(1 M_atp_c[c] + 1 M_h2o_c[c] -> 1 M_amp_c[c] + 1 M_h_c[c] + 1 M_ppi_c[c])\n",
      "-1*(1 M_atp_c[c] + 1 M_coa_c[c] + 1 M_pac_c[c] -> 1 M_amp_c[c] + 1 M_phaccoa_c[c] + 1 M_ppi_c[c])\n",
      "-1*(1 M_h2o_c[c] + 1 M_phaccoa_c[c] -> 1 M_coa_c[c] + 1 M_pac_c[c])\n",
      "-----------\n",
      "1*(M_h_c)\n",
      "-------------------------------------------------------------\n"
     ]
    }
   ],
   "source": [
    "minimal_free_lunch,free_lunch_list,free_lunch_meta = model.findMinimalFreeLunch()"
   ]
  },
  {
   "cell_type": "code",
   "execution_count": 11,
   "metadata": {},
   "outputs": [
    {
     "name": "stdout",
     "output_type": "stream",
     "text": [
      "[1948, 2019, 2727]\n"
     ]
    }
   ],
   "source": [
    "print(minimal_free_lunch)"
   ]
  },
  {
   "cell_type": "code",
   "execution_count": 12,
   "metadata": {},
   "outputs": [
    {
     "name": "stdout",
     "output_type": "stream",
     "text": [
      "[(1948, 1), (2019, -1), (2727, -1)]\n"
     ]
    }
   ],
   "source": [
    "print(free_lunch_list)"
   ]
  },
  {
   "cell_type": "code",
   "execution_count": 13,
   "metadata": {},
   "outputs": [
    {
     "name": "stdout",
     "output_type": "stream",
     "text": [
      "[(102, Fraction(1, 1))]\n"
     ]
    }
   ],
   "source": [
    "print(free_lunch_meta)"
   ]
  },
  {
   "cell_type": "markdown",
   "metadata": {},
   "source": [
    "### Step 6"
   ]
  },
  {
   "cell_type": "markdown",
   "metadata": {},
   "source": [
    "Finding Free Lunch Witnesses: findFreeLunchWitnesses takes \n",
    "1) model\n",
    "2) desirable lower bound for vector y (optional). The default value is None, and in this case Mongoose would compute the lower bound based on the stoichiometric matrix and maximum number of atoms in metabolites. Note that the lower bound can not be less than 1e-9.\n",
    "3) Maximum numaber of atoms in metabolites (optional). The default value is 1e3.\n",
    "as input and will print \n",
    "1) Log of cplex for the problem\n",
    "2) Number of free lunch witnesses\n",
    "3) List of indicies of free lunch witnesses\n",
    "4) Computed lower bound for vector y\n",
    "\n",
    "and will return\n",
    "5) Number of free lunch witnesses\n",
    "6) List of indicies of free lunch witnesses\n",
    "7) Computed lower bound for vector y"
   ]
  },
  {
   "cell_type": "code",
   "execution_count": 10,
   "metadata": {},
   "outputs": [
    {
     "name": "stdout",
     "output_type": "stream",
     "text": [
      "parameters.mip.tolerances.integrality\n",
      "CPXPARAM_Simplex_Tolerances_Feasibility          1.0000000000000001e-09\n",
      "CPXPARAM_Read_DataCheck                          1\n",
      "CPXPARAM_MIP_Tolerances_Integrality              1.0000000000000001e-15\n",
      "Found incumbent of value 1044.000000 after 0.06 sec. (0.43 ticks)\n",
      "Tried aggregator 3 times.\n",
      "MIP Presolve eliminated 1118 rows and 1160 columns.\n",
      "MIP Presolve modified 3113 coefficients.\n",
      "Aggregator did 19 substitutions.\n",
      "Reduced MIP has 3595 rows, 3138 columns, and 19829 nonzeros.\n",
      "Reduced MIP has 1928 binaries, 16 generals, 0 SOSs, and 0 indicators.\n",
      "Presolve time = 0.08 sec. (24.38 ticks)\n",
      "Probing time = 0.00 sec. (0.29 ticks)\n",
      "Tried aggregator 1 time.\n",
      "Reduced MIP has 3595 rows, 3138 columns, and 19829 nonzeros.\n",
      "Reduced MIP has 1928 binaries, 16 generals, 0 SOSs, and 0 indicators.\n",
      "Presolve time = 0.02 sec. (7.53 ticks)\n",
      "Probing time = 0.01 sec. (0.29 ticks)\n",
      "MIP emphasis: balance optimality and feasibility.\n",
      "MIP search method: dynamic search.\n",
      "Parallel mode: deterministic, using up to 8 threads.\n",
      "Root relaxation solution time = 0.30 sec. (168.45 ticks)\n",
      "\n",
      "        Nodes                                         Cuts/\n",
      "   Node  Left     Objective  IInf  Best Integer    Best Bound    ItCnt     Gap\n",
      "\n",
      "*     0+    0                         1044.0000        0.0000           100.00%\n",
      "*     0+    0                          951.0000        0.0000           100.00%\n",
      "*     0+    0                          944.0000        0.0000           100.00%\n",
      "      0     0        0.0000     1      944.0000        0.0000     1655  100.00%\n",
      "*     0+    0                            1.0000        0.0000           100.00%\n",
      "      0     0        cutoff              1.0000        0.0000     1655  100.00%\n",
      "Elapsed time = 0.54 sec. (219.46 ticks, tree = 0.01 MB, solutions = 3)\n",
      "\n",
      "Root node processing (before b&c):\n",
      "  Real time             =    0.54 sec. (219.79 ticks)\n",
      "Parallel b&c, 8 threads:\n",
      "  Real time             =    0.00 sec. (0.00 ticks)\n",
      "  Sync time (average)   =    0.00 sec.\n",
      "  Wait time (average)   =    0.00 sec.\n",
      "                          ------------\n",
      "Total (root+branch&cut) =    0.54 sec. (219.79 ticks)\n",
      "Number of free lunch witnesses: 1\n",
      "List of free lunch witnesses: [2727]\n",
      "Computed y lower bound 1.8518518518518519e-06\n"
     ]
    }
   ],
   "source": [
    "flw_index_list, y_lower_bound = model.findFreeLunchWitnesses()"
   ]
  }
 ],
 "metadata": {
  "kernelspec": {
   "display_name": "Python 3",
   "language": "python",
   "name": "python3"
  },
  "language_info": {
   "codemirror_mode": {
    "name": "ipython",
    "version": 3
   },
   "file_extension": ".py",
   "mimetype": "text/x-python",
   "name": "python",
   "nbconvert_exporter": "python",
   "pygments_lexer": "ipython3",
   "version": "3.5.2"
  }
 },
 "nbformat": 4,
 "nbformat_minor": 2
}
